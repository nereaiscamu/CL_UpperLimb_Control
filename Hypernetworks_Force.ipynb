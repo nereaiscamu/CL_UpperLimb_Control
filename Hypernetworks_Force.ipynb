{
 "cells": [
  {
   "cell_type": "code",
   "execution_count": 1,
   "metadata": {},
   "outputs": [
    {
     "name": "stderr",
     "output_type": "stream",
     "text": [
      "/home/nerea/anaconda3/envs/sinthlab/lib/python3.8/site-packages/tqdm/auto.py:21: TqdmWarning: IProgress not found. Please update jupyter and ipywidgets. See https://ipywidgets.readthedocs.io/en/stable/user_install.html\n",
      "  from .autonotebook import tqdm as notebook_tqdm\n"
     ]
    }
   ],
   "source": [
    "import pandas as pd\n",
    "import numpy as np\n",
    "import xarray as xr\n",
    "\n",
    "import os\n",
    "import sys\n",
    "from tqdm.auto import tqdm\n",
    "\n",
    "import matplotlib.pyplot as plt\n",
    "import seaborn as sns\n",
    "\n",
    "from src.helpers import *\n",
    "from src.visualize import *\n",
    "from src.trainer import *\n",
    "from Models.models import *\n",
    "from Models.SimpleRNN_NC import SimpleRNN_NC\n",
    "\n",
    "import torch\n",
    "import torch.nn as nn\n",
    "import torch.nn.functional as F\n",
    "import torch.optim as optim\n",
    "from torch.optim import lr_scheduler\n",
    "from sklearn.metrics import *\n",
    "from copy import deepcopy\n",
    "import torch.utils.data as data\n",
    "from torch.utils.data import Dataset\n",
    "\n",
    "import pickle\n",
    "import math"
   ]
  },
  {
   "cell_type": "code",
   "execution_count": 2,
   "metadata": {},
   "outputs": [],
   "source": [
    "# Helper function to convert between numpy arrays and tensors\n",
    "to_t = lambda array: torch.tensor(array, device='cpu', dtype=dtype)  #device\n",
    "to_t_eval =  lambda array: torch.tensor(array, device='cuda', dtype=dtype)  #device\n",
    "from_t = lambda tensor: tensor.to(\"cpu\").detach().numpy()"
   ]
  },
  {
   "cell_type": "markdown",
   "metadata": {},
   "source": [
    "## Load data"
   ]
  },
  {
   "cell_type": "code",
   "execution_count": 3,
   "metadata": {},
   "outputs": [],
   "source": [
    "name = 'Chewie'\n",
    "date = '1007'\n",
    "fold = 4\n",
    "target_variable = 'vel'"
   ]
  },
  {
   "cell_type": "code",
   "execution_count": 4,
   "metadata": {},
   "outputs": [],
   "source": [
    "#@title Helper functions for plotting (run this cell!)\n",
    "sns.set_context(\"notebook\")\n",
    "\n",
    "# initialize a color palette for plotting\n",
    "palette = sns.xkcd_palette([\"windows blue\",\n",
    "                            \"red\",\n",
    "                            \"medium green\",\n",
    "                            \"dusty purple\",\n",
    "                            \"orange\",\n",
    "                            \"amber\",\n",
    "                            \"clay\",\n",
    "                            \"pink\",\n",
    "                            \"greyish\"])"
   ]
  },
  {
   "cell_type": "code",
   "execution_count": 5,
   "metadata": {},
   "outputs": [],
   "source": [
    "to_t_eval =  lambda array: torch.tensor(array, device=device, dtype=dtype)  "
   ]
  },
  {
   "cell_type": "markdown",
   "metadata": {},
   "source": [
    "## Load pre-processed data"
   ]
  },
  {
   "cell_type": "code",
   "execution_count": 6,
   "metadata": {},
   "outputs": [],
   "source": [
    "data_path = './Data/Processed_Data/Tidy_'+name+'_'+date+'.pkl'\n",
    "\n",
    "with open(data_path, 'rb') as file:\n",
    "    tidy_df = pickle.load(file)"
   ]
  },
  {
   "cell_type": "code",
   "execution_count": 7,
   "metadata": {},
   "outputs": [],
   "source": [
    "baseline_df = tidy_df.loc[tidy_df['epoch'] == 'BL']"
   ]
  },
  {
   "cell_type": "code",
   "execution_count": 8,
   "metadata": {},
   "outputs": [],
   "source": [
    "force_df =  tidy_df.loc[tidy_df['epoch'] == 'AD']"
   ]
  },
  {
   "cell_type": "markdown",
   "metadata": {},
   "source": [
    "We need to consider only the trials for which the monkey has already adapted to the perturbation."
   ]
  },
  {
   "cell_type": "code",
   "execution_count": 9,
   "metadata": {},
   "outputs": [],
   "source": [
    "ids_to_keep = force_df.id.unique()[50:]"
   ]
  },
  {
   "cell_type": "markdown",
   "metadata": {},
   "source": [
    "The baseline subset has a total of 170 trials, whereas the perturbation one contains 201 trials, we can for now try to remove the first 50 trials from the perturbation subset."
   ]
  },
  {
   "cell_type": "code",
   "execution_count": 10,
   "metadata": {},
   "outputs": [],
   "source": [
    "force_df = force_df.loc[force_df.id.isin(ids_to_keep)]"
   ]
  },
  {
   "cell_type": "markdown",
   "metadata": {},
   "source": [
    "## Get train-val-test split"
   ]
  },
  {
   "cell_type": "code",
   "execution_count": 11,
   "metadata": {},
   "outputs": [
    {
     "name": "stdout",
     "output_type": "stream",
     "text": [
      "Test trials  34\n",
      "Val trials 27\n",
      "We are testing the optimization method on fold  4\n"
     ]
    }
   ],
   "source": [
    "xx_train_base, yy_train_base, xx_val_base, yy_val_base,\\\n",
    "      xx_test_base, yy_test_base, info_train_base, info_val_base,\\\n",
    "          info_test_base, list_mins_base, \\\n",
    "            list_maxs_base= get_dataset(baseline_df, fold, target_variable= target_variable, no_outliers = False, force_data = True)"
   ]
  },
  {
   "cell_type": "code",
   "execution_count": 12,
   "metadata": {},
   "outputs": [
    {
     "name": "stdout",
     "output_type": "stream",
     "text": [
      "Test trials  30\n",
      "Val trials 24\n",
      "We are testing the optimization method on fold  4\n"
     ]
    }
   ],
   "source": [
    "xx_train_force, yy_train_force, xx_val_force, yy_val_force,\\\n",
    "      xx_test_force, yy_test_force, info_train_force, info_val_force,\\\n",
    "          info_test_force,  list_mins_force, \\\n",
    "            list_maxs_force = get_dataset(force_df, fold, target_variable= target_variable, no_outliers = False, force_data = True)"
   ]
  },
  {
   "cell_type": "code",
   "execution_count": 13,
   "metadata": {},
   "outputs": [
    {
     "name": "stdout",
     "output_type": "stream",
     "text": [
      "Test trials  66\n",
      "Val trials 53\n",
      "We are testing the optimization method on fold  4\n"
     ]
    }
   ],
   "source": [
    "xx_train_all, yy_train_all, xx_val_all, yy_val_all, \\\n",
    "    xx_test_all, yy_test_all, info_train_all, \\\n",
    "    info_val_all, info_test_all,  list_mins_all,\\\n",
    "          list_maxs_all = get_dataset(tidy_df,fold, target_variable= target_variable, no_outliers = False\n",
    "                                      , force_data = True)"
   ]
  },
  {
   "cell_type": "code",
   "execution_count": 14,
   "metadata": {},
   "outputs": [],
   "source": [
    "# Specify that we want our tensors on the GPU and in float32\n",
    "device = torch.device('cuda:0') #suposed to be cuda\n",
    "#device = torch.device('cpu') \n",
    "dtype = torch.float32\n",
    "path_to_models = './Models/Models_Force'\n",
    "\n",
    "# Set the seed for reproducibility\n",
    "seed_value = 42\n",
    "torch.manual_seed(seed_value)\n",
    "torch.cuda.manual_seed(seed_value)  # If using CUDA\n",
    "\n",
    "num_dim_output = yy_train_base.shape[2]\n",
    "num_features = xx_train_base.shape[2]"
   ]
  },
  {
   "cell_type": "code",
   "execution_count": 15,
   "metadata": {},
   "outputs": [],
   "source": [
    "def weight_reset(m):\n",
    "    reset_parameters = getattr(m, \"reset_parameters\", None)\n",
    "    if callable(reset_parameters):\n",
    "        m.reset_parameters()"
   ]
  },
  {
   "cell_type": "markdown",
   "metadata": {},
   "source": [
    "## Model"
   ]
  },
  {
   "cell_type": "code",
   "execution_count": 16,
   "metadata": {},
   "outputs": [],
   "source": [
    "def create_state_dict(param_names, param_values):\n",
    "    s_d = {}\n",
    "    for n,v in zip(param_names, param_values):\n",
    "        s_d[n] = v\n",
    "    return s_d"
   ]
  },
  {
   "cell_type": "code",
   "execution_count": 17,
   "metadata": {},
   "outputs": [],
   "source": [
    "import torch\n",
    "import torch.nn as nn\n",
    "\n",
    "class RNN_Main_Model(nn.Module):\n",
    "    def __init__(self, hnet_output, \n",
    "                 num_features = 124, \n",
    "                hidden_size= 3, \n",
    "                num_layers = 2, \n",
    "                out_dims = 6,\n",
    "                dropout = 0.5,\n",
    "                bias = True,\n",
    "                LSTM_ = False):\n",
    "        \n",
    "        super(RNN_Main_Model, self).__init__()\n",
    "        self.num_features = num_features\n",
    "        self.hidden_size = hidden_size\n",
    "        self.num_layers = num_layers\n",
    "        self.hnet_output = hnet_output\n",
    "        self.bias = bias\n",
    "        self.out_features = out_dims\n",
    "        self.LSTM_ = LSTM_\n",
    "\n",
    "        self.dropout = nn.Dropout(p= dropout) #trial.suggest_float('dropout_1', 0.1, 0.9)\n",
    "\n",
    "        # Define recurrent layer\n",
    "        self.rnn = nn.RNN(self.num_features, self.hidden_size, self.num_layers, self.bias, batch_first = True, bidirectional = False)\n",
    "        names_p = [name for name, _ in self.rnn.named_parameters()]\n",
    "        self.hnet_output_dict = create_state_dict(names_p,hnet_output[2:] )\n",
    "\n",
    "        # Define recurrent layer (LSTM)\n",
    "        if self.LSTM_:\n",
    "            self.rnn = nn.LSTM(self.num_features, self.hidden_size, self.num_layers, self.bias, batch_first = True, bidirectional = False)\n",
    "            names_p = [name for name, _ in self.rnn.named_parameters()]\n",
    "            self.hnet_output_dict = create_state_dict(names_p,hnet_output[2:] )      \n",
    "\n",
    "        self.selu = nn.SELU()      \n",
    "\n",
    "    def forward(self, x, hx=None):\n",
    "        # Forward pass\n",
    "        if hx is None:\n",
    "            if self.LSTM_:\n",
    "                h0 = torch.randn(self.num_layers, x.size(0), self.hidden_size, device=x.device) * 0.1\n",
    "                c0 = torch.randn(self.num_layers, x.size(0), self.hidden_size, device=x.device) *0.1 # Initialize cell state\n",
    "                hx = (h0, c0)\n",
    "            else:\n",
    "                hx = torch.randn(self.num_layers, x.size(0), self.hidden_size, device=x.device) * 0.1\n",
    "        \n",
    "        # Perform RNN operation\n",
    "        x, _  = torch.func.functional_call(self.rnn, self.hnet_output_dict, (x, hx))\n",
    "        x = self.dropout(x)\n",
    "        x = self.selu(x) \n",
    "        output =  F.linear(x, self.hnet_output[0], bias=self.hnet_output[1])\n",
    "        \n",
    "        return output.squeeze() \n"
   ]
  },
  {
   "cell_type": "markdown",
   "metadata": {},
   "source": [
    "#### Define a template model only to get automatically the model parameters shapes"
   ]
  },
  {
   "cell_type": "code",
   "execution_count": 18,
   "metadata": {},
   "outputs": [
    {
     "data": {
      "text/plain": [
       "<torch._C.Generator at 0x7f6d3d792d90>"
      ]
     },
     "execution_count": 18,
     "metadata": {},
     "output_type": "execute_result"
    }
   ],
   "source": [
    "num_dim_output = yy_train_base.shape[2]\n",
    "num_features = xx_train_base.shape[2]\n",
    "\n",
    "# Hyperparameters LSTM class (from force model without hnet)\n",
    "# Define hyperparameters\n",
    "\n",
    "#Hyperparameters objective and regularization\n",
    "alpha_reg = 1e-5\n",
    "l1_ratio_reg = 0.5\n",
    "\n",
    "lr = 0.00001\n",
    "loss_function = huber_loss\n",
    "delta = 8  # hyperparameter for huber loss\n",
    "\n",
    "# Hyperparameters LSTM class\n",
    "n_hidden_units = 300\n",
    "num_layers = 1\n",
    "input_size = 49\n",
    "dropout = 0.2\n",
    "\n",
    "#Other training hyperparameters\n",
    "\n",
    "lr_gamma= 1.37 #for scheduler\n",
    "lr_step_size = 10 #for scheduler\n",
    "\n",
    "seq_length_LSTM= 19\n",
    "batch_size_train= 25\n",
    "batch_size_val = 25\n",
    "\n",
    "torch.manual_seed(42)\n"
   ]
  },
  {
   "cell_type": "code",
   "execution_count": 19,
   "metadata": {},
   "outputs": [],
   "source": [
    "template_m = Causal_Simple_RNN(num_features=num_features, \n",
    "                    hidden_units= n_hidden_units, \n",
    "                    num_layers = num_layers, \n",
    "                    out_dims = num_dim_output, ).to(device)"
   ]
  },
  {
   "cell_type": "code",
   "execution_count": 20,
   "metadata": {},
   "outputs": [],
   "source": [
    "param_shapes = [p.shape for p in list(template_m.parameters())]"
   ]
  },
  {
   "cell_type": "code",
   "execution_count": 21,
   "metadata": {},
   "outputs": [
    {
     "data": {
      "text/plain": [
       "[torch.Size([2, 300]),\n",
       " torch.Size([2]),\n",
       " torch.Size([300, 130]),\n",
       " torch.Size([300, 300]),\n",
       " torch.Size([300]),\n",
       " torch.Size([300])]"
      ]
     },
     "execution_count": 21,
     "metadata": {},
     "output_type": "execute_result"
    }
   ],
   "source": [
    "param_shapes"
   ]
  },
  {
   "cell_type": "code",
   "execution_count": 22,
   "metadata": {},
   "outputs": [
    {
     "name": "stdout",
     "output_type": "stream",
     "text": [
      "Created MLP Hypernet.\n",
      "Hypernetwork with 1822961 weights and 130202 outputs (compression ratio: 14.00).\n",
      "The network consists of 1822945 unconditional weights (1822945 internally maintained) and 16 conditional weights (16 internally maintained).\n"
     ]
    }
   ],
   "source": [
    "from hypnettorch.hnets import HMLP\n",
    "\n",
    "num_conditions = 2\n",
    "size_task_embedding = 8\n",
    "\n",
    "hnet = HMLP(param_shapes, uncond_in_size=0,\n",
    "             cond_in_size=size_task_embedding,\n",
    "            layers=[13], \n",
    "            num_cond_embs=num_conditions).to(device)"
   ]
  },
  {
   "cell_type": "code",
   "execution_count": 23,
   "metadata": {},
   "outputs": [],
   "source": [
    "for param in hnet.parameters():\n",
    "    param.requires_grad = True"
   ]
  },
  {
   "cell_type": "code",
   "execution_count": 24,
   "metadata": {},
   "outputs": [],
   "source": [
    "w_test = hnet(cond_id = 0)"
   ]
  },
  {
   "cell_type": "code",
   "execution_count": 25,
   "metadata": {},
   "outputs": [],
   "source": [
    "LSTM_ = False"
   ]
  },
  {
   "cell_type": "code",
   "execution_count": 26,
   "metadata": {},
   "outputs": [],
   "source": [
    "model = RNN_Main_Model(num_features= num_features, hnet_output = w_test,  hidden_size = n_hidden_units,\n",
    "                            num_layers= num_layers,out_dims=num_dim_output,  \n",
    "                            dropout= dropout,  LSTM_ = LSTM_).to(device)"
   ]
  },
  {
   "cell_type": "code",
   "execution_count": 27,
   "metadata": {},
   "outputs": [],
   "source": [
    "for param in model.parameters():\n",
    "    param.requires_grad = False"
   ]
  },
  {
   "cell_type": "code",
   "execution_count": 28,
   "metadata": {},
   "outputs": [],
   "source": [
    "def init_hnet(model):\n",
    "    # Initialize weights\n",
    "    for i, layer in enumerate(model.layer_weight_tensors[:-1]):\n",
    "        nn.init.kaiming_uniform_(layer, mode='fan_in', nonlinearity='relu')\n",
    "        if model.has_bias:\n",
    "            nn.init.zeros_(model.layer_bias_vectors[i])\n",
    "        "
   ]
  },
  {
   "cell_type": "code",
   "execution_count": 29,
   "metadata": {},
   "outputs": [],
   "source": [
    "def reg_hnet(weights, alpha, l1_ratio):\n",
    "    \n",
    "    \"\"\"\n",
    "    Implement an L1-L2 penalty on the norm of the model weights.\n",
    "\n",
    "    model: MLP\n",
    "    alpha: scaling parameter for the regularization.\n",
    "    l1_ratio: mixing parameter between L1 and L2 loss.\n",
    "\n",
    "    Returns:\n",
    "    reg: regularization term\n",
    "    \"\"\"\n",
    "    l1_loss = 0\n",
    "    l2_loss = 0\n",
    "\n",
    "    # Accumulate L1 and L2 losses for weight matrices in the model\n",
    "    \n",
    "\n",
    "    weights_ =  [i for i in weights if len(i.shape)==2]\n",
    "\n",
    "    for weight_tensor in weights_[:2]:\n",
    "        l1_loss += torch.sum(torch.abs(weight_tensor))\n",
    "        l2_loss += torch.sum(weight_tensor.pow(2))\n",
    "\n",
    "    reg = l1_ratio * l1_loss + (1 - l1_ratio) * l2_loss\n",
    "\n",
    "    reg = alpha * reg\n",
    "\n",
    "    return reg"
   ]
  },
  {
   "cell_type": "code",
   "execution_count": 30,
   "metadata": {},
   "outputs": [],
   "source": [
    "def train_hypernet(model, hnet,y_train_1, x_train_1,\n",
    "                y_train_2,  x_train_2,\n",
    "                y_val_1,  x_val_1,\n",
    "                y_val_2,    x_val_2,\n",
    "                lr=0.0001,\n",
    "                lr_step_size=10,\n",
    "                lr_gamma=0.9,\n",
    "                sequence_length_LSTM=15,\n",
    "                batch_size_train = 25,\n",
    "                batch_size_val = 25,\n",
    "                num_epochs=1000, \n",
    "                delta = 8,                 \n",
    "                regularizer=None,\n",
    "                l1_ratio = 0.5,\n",
    "                alpha_A = 1e-5,  \n",
    "                alpha_B = 1e-5,        \n",
    "                early_stop = 10,\n",
    "                LSTM_ = LSTM_,\n",
    "                chunks = False\n",
    "                \n",
    "                ):\n",
    "\n",
    "    # Initialize the hypernetwork\n",
    "\n",
    "    # --> this was only when using th models from hypnettorch\n",
    "    \"\"\"     if chunks:\n",
    "         hnet.apply_chunked_hyperfan_init(mnet = model)\n",
    "    else: \n",
    "         hnet.apply_hyperfan_init(mnet=model) \"\"\"\n",
    "    \n",
    "    # Initialize the weights and biases of the hnet\n",
    "    #init_hnet(hnet) #--> need to check what works better\n",
    "    # Set up the optimizer with the specified learning rate\n",
    "    optimizer = torch.optim.Adam(hnet.internal_params, lr=lr)\n",
    "\n",
    "    # Set up a learning rate scheduler\n",
    "    scheduler = lr_scheduler.StepLR(optimizer, \n",
    "                                    step_size=lr_step_size, \n",
    "                                    gamma=lr_gamma)\n",
    "    \n",
    "    # Keep track of the best model's parameters and loss\n",
    "    best_model_wts = deepcopy(model.state_dict())\n",
    "    best_loss = 1e8\n",
    "\n",
    "    # Enable anomaly detection for debugging\n",
    "    torch.autograd.set_detect_anomaly(True)\n",
    "\n",
    "    # Track the train and validation loss\n",
    "    train_losses = []\n",
    "    val_losses = []\n",
    "    # Counters for early stopping\n",
    "    not_increased = 0\n",
    "    end_train = 0\n",
    "    \n",
    "    # Reshape data for the LSTM\n",
    "    train_dataset_1 = SequenceDataset(\n",
    "    y_train_1,    x_train_1,    sequence_length=sequence_length_LSTM)\n",
    "\n",
    "    train_dataset_2 = SequenceDataset(\n",
    "    y_train_2,    x_train_2,    sequence_length=sequence_length_LSTM)\n",
    "\n",
    "    val_dataset_1 = SequenceDataset(\n",
    "    y_val_1,    x_val_1,    sequence_length=sequence_length_LSTM)\n",
    "\n",
    "    val_dataset_2 = SequenceDataset(\n",
    "    y_val_2,    x_val_2,    sequence_length=sequence_length_LSTM)\n",
    "\n",
    "    loader_train_1 = data.DataLoader(train_dataset_1, batch_size=batch_size_train, shuffle=True)\n",
    "    loader_train_2 = data.DataLoader(train_dataset_2, batch_size=batch_size_train, shuffle=True)\n",
    "\n",
    "    loader_val_1 = data.DataLoader(val_dataset_1, batch_size=batch_size_val, shuffle=True)\n",
    "    loader_val_2 = data.DataLoader(val_dataset_2, batch_size=batch_size_val, shuffle=True)\n",
    "\n",
    "    # Initialize h0 and c0 outside the model\n",
    "    if LSTM_ == True:\n",
    "\n",
    "        h0 = torch.randn(num_layers, batch_size_train, n_hidden_units, device=device) * 0.1\n",
    "        c0 = torch.randn(num_layers, batch_size_train, n_hidden_units, device=device) *0.1 # Initialize cell state\n",
    "        hx = (h0, c0) \n",
    "    else:\n",
    "        hx = torch.randn(num_layers, batch_size_train, n_hidden_units, device=device) * 0.1\n",
    "    # Loop through epochs\n",
    "    for epoch in np.arange(num_epochs):\n",
    "        for phase in ['train', 'val']:\n",
    "            # set model to train/validation as appropriate\n",
    "            if phase == 'train':\n",
    "                model.train()\n",
    "                loaders = zip(loader_train_1, loader_train_2)\n",
    "            else:\n",
    "                model.eval()\n",
    "                loaders = zip(loader_val_1, loader_val_2)\n",
    "\n",
    "            # Initialize variables to track loss and batch size\n",
    "            running_loss = 0\n",
    "            running_size = 0        \n",
    "\n",
    "            # Iterate over batches in the loader\n",
    "            for data_1, data_2 in loaders:\n",
    "\n",
    "                # Define data for this batch\n",
    "                x_1 = data_1[0].to('cuda')\n",
    "                y_1 = data_1[1].to('cuda')\n",
    "                x_2 = data_2[0].to('cuda')\n",
    "                y_2 = data_2[1].to('cuda')\n",
    "               \n",
    "                if phase == \"train\":\n",
    "                    with torch.set_grad_enabled(True):\n",
    "                        optimizer.zero_grad()\n",
    "\n",
    "                        # Compute FIRST loss.\n",
    "                        W_1 = hnet(cond_id=0)\n",
    "                        model = RNN_Main_Model(num_features= num_features, hnet_output = W_1,  hidden_size = n_hidden_units,\n",
    "                            num_layers= num_layers, out_dims=num_dim_output,  \n",
    "                            dropout= dropout, LSTM_ = LSTM_).to(device)\n",
    "                                    \n",
    "                        pred_1 = model(x_1, hx)\n",
    "                        \n",
    "                        loss_1 = huber_loss(pred_1, y_1, delta = delta)\n",
    "                        \n",
    "                        \n",
    "                        # Compute SECOND loss.\n",
    "                        W_2 = hnet(cond_id=1)\n",
    "                        model = RNN_Main_Model(num_features= num_features, hnet_output = W_2,  hidden_size = n_hidden_units,\n",
    "                            num_layers= num_layers, out_dims=num_dim_output,  \n",
    "                            dropout= dropout, LSTM_ = LSTM_).to(device)        \n",
    "                        pred_2 = model(x_2, hx)\n",
    "                        loss_2 = huber_loss(pred_2, y_2, delta = delta)\n",
    "                        \n",
    "                        # Combine loss for 2 tasks\n",
    "                        loss_t = loss_1 + loss_2    #only for printing\n",
    "\n",
    "                        # Add regularization to the loss in the training phase\n",
    "                        if regularizer is not None:\n",
    "                            loss_2_reg = loss_2 + reg_hnet(W_2, alpha_B, l1_ratio)\n",
    "                            loss_1_reg = loss_1 + reg_hnet(W_1,  alpha_A, l1_ratio)\n",
    "                            # Combine loss for 2 tasks\n",
    "                            loss_t_r = loss_1_reg + loss_2_reg\n",
    "\n",
    "                        else:               \n",
    "                            loss_t_r = loss_t \n",
    "                        \n",
    "                    \n",
    "                        # Compute gradients and perform an optimization step\n",
    "                        loss_t_r.backward()\n",
    "                        optimizer.step()\n",
    "\n",
    "\n",
    "                else:\n",
    "                    # just compute the loss in validation phase\n",
    "                    # Compute FIRST loss.\n",
    "                    W_1 = hnet(cond_id=0)\n",
    "                    model = RNN_Main_Model(num_features= num_features, hnet_output = W_1,  hidden_size = n_hidden_units,\n",
    "                        num_layers= num_layers, out_dims=num_dim_output,  \n",
    "                        dropout= dropout, LSTM_ = LSTM_).to(device)    \n",
    "                    pred_1 = model(x_1, hx)\n",
    "                    loss_1 = huber_loss(pred_1, y_1, delta = delta)\n",
    "\n",
    "                    # Compute SECOND loss.\n",
    "                    W_2 = hnet(cond_id=1)\n",
    "                    model = RNN_Main_Model(num_features= num_features, hnet_output = W_2,  hidden_size = n_hidden_units,\n",
    "                        num_layers= num_layers, out_dims=num_dim_output,  \n",
    "                        dropout= dropout, LSTM_ = LSTM_).to(device)        \n",
    "                    pred_2 = model(x_2, hx)\n",
    "                    loss_2 = huber_loss(pred_2, y_2, delta = delta)\n",
    "\n",
    "                    loss_t = loss_1 + loss_2\n",
    "\n",
    "                # Ensure the loss is finite\n",
    "                assert torch.isfinite(loss_t)\n",
    "                assert torch.isfinite(loss_t_r)\n",
    "                running_loss += loss_t.item()\n",
    "                running_size += 1\n",
    "\n",
    "            # compute the train/validation loss and update the best\n",
    "            # model parameters if this is the lowest validation loss yet\n",
    "            running_loss /= running_size\n",
    "            if phase == \"train\":\n",
    "                train_losses.append(running_loss)\n",
    "            else:\n",
    "                val_losses.append(running_loss)\n",
    "                # Update best model parameters if validation loss improves\n",
    "                if running_loss < best_loss:\n",
    "                    best_loss = running_loss\n",
    "                    best_w1= W_1\n",
    "                    best_w2 = W_2\n",
    "                    best_model_wts = deepcopy(model.state_dict())\n",
    "                    not_increased = 0\n",
    "                else:\n",
    "                    # Perform early stopping if validation loss doesn't improve\n",
    "                    if epoch > 10:\n",
    "                        not_increased += 1\n",
    "                        # print('Not increased : {}/5'.format(not_increased))\n",
    "                        if not_increased == early_stop:\n",
    "                            print('Decrease LR')\n",
    "                            for g in optimizer.param_groups:\n",
    "                                g['lr'] = g['lr'] / 2\n",
    "                            not_increased = 0\n",
    "                            end_train += 1\n",
    "                        \n",
    "                        if end_train == 2:\n",
    "                            model.load_state_dict(best_model_wts)\n",
    "                            return np.array(train_losses), np.array(val_losses), best_w1, best_w2\n",
    "\n",
    "        # Update learning rate with the scheduler\n",
    "        scheduler.step()\n",
    "        print(\"Epoch {:03} Train {:.4f} Val {:.4f}\".format(epoch, train_losses[-1], val_losses[-1]))\n",
    "\n",
    "    # load best model weights\n",
    "    model.load_state_dict(best_model_wts)\n",
    "\n",
    "    return np.array(train_losses), np.array(val_losses), best_w1, best_w2"
   ]
  },
  {
   "cell_type": "code",
   "execution_count": 31,
   "metadata": {},
   "outputs": [],
   "source": [
    "lr = 0.001"
   ]
  },
  {
   "cell_type": "code",
   "execution_count": 32,
   "metadata": {},
   "outputs": [
    {
     "name": "stdout",
     "output_type": "stream",
     "text": [
      "Epoch 000 Train 18.6124 Val 14.7693\n",
      "Epoch 001 Train 12.6799 Val 12.7741\n",
      "Epoch 002 Train 9.7671 Val 10.2488\n",
      "Epoch 003 Train 7.9655 Val 9.1701\n",
      "Epoch 004 Train 6.8145 Val 8.5121\n",
      "Epoch 005 Train 5.9947 Val 7.5889\n",
      "Epoch 006 Train 5.1727 Val 7.0998\n",
      "Epoch 007 Train 4.5772 Val 6.7625\n",
      "Epoch 008 Train 4.1376 Val 6.5027\n",
      "Epoch 009 Train 3.8039 Val 6.3480\n",
      "Epoch 010 Train 3.6125 Val 6.1076\n",
      "Epoch 011 Train 3.2844 Val 6.0424\n",
      "Epoch 012 Train 3.0179 Val 5.7509\n",
      "Epoch 013 Train 2.6951 Val 5.5846\n",
      "Epoch 014 Train 2.4621 Val 5.5036\n",
      "Epoch 015 Train 2.3607 Val 5.4427\n",
      "Epoch 016 Train 2.1426 Val 5.1855\n",
      "Epoch 017 Train 1.9386 Val 4.9823\n",
      "Epoch 018 Train 1.7722 Val 5.0322\n",
      "Epoch 019 Train 1.6519 Val 4.8639\n",
      "Epoch 020 Train 1.7809 Val 5.1189\n",
      "Epoch 021 Train 1.5823 Val 4.7061\n",
      "Epoch 022 Train 1.4439 Val 4.9611\n",
      "Epoch 023 Train 1.3514 Val 4.7427\n",
      "Epoch 024 Train 1.3023 Val 4.7145\n",
      "Epoch 025 Train 2.0250 Val 4.9552\n",
      "Epoch 026 Train 1.8832 Val 4.6796\n",
      "Epoch 027 Train 1.3901 Val 4.5151\n",
      "Epoch 028 Train 1.2258 Val 4.4454\n",
      "Epoch 029 Train 1.1713 Val 4.5177\n",
      "Epoch 030 Train 2.8890 Val 5.4095\n",
      "Epoch 031 Train 2.2106 Val 4.4513\n",
      "Epoch 032 Train 1.6822 Val 4.1590\n",
      "Epoch 033 Train 1.4702 Val 4.2016\n",
      "Epoch 034 Train 1.3482 Val 4.3041\n",
      "Epoch 035 Train 3.0680 Val 5.8214\n",
      "Epoch 036 Train 4.0496 Val 6.2342\n",
      "Decrease LR\n",
      "Epoch 037 Train 6.1177 Val 8.6024\n",
      "Epoch 038 Train 6.2218 Val 6.7295\n",
      "Epoch 039 Train 5.3980 Val 6.6663\n",
      "Epoch 040 Train 5.5108 Val 7.2813\n",
      "Epoch 041 Train 7.7662 Val 9.6137\n",
      "Decrease LR\n"
     ]
    }
   ],
   "source": [
    "t_losses, val_losses, W_base, W_force = train_hypernet(model, hnet,yy_train_base, xx_train_base,\n",
    "                yy_train_force,  xx_train_force,\n",
    "                yy_val_base,  xx_val_base,\n",
    "                yy_val_force,    xx_val_force,\n",
    "                lr=lr,\n",
    "                lr_step_size=5,\n",
    "                lr_gamma= lr_gamma, #0.9\n",
    "                sequence_length_LSTM = seq_length_LSTM, #15\n",
    "                batch_size_train = batch_size_train, #15\n",
    "                batch_size_val = batch_size_train, #15\n",
    "                num_epochs=1000, \n",
    "                delta = 8,             \n",
    "                regularizer=reg_hnet_noweights,\n",
    "                l1_ratio = l1_ratio_reg, #0.5\n",
    "                alpha_A = alpha_reg, \n",
    "                alpha_B = alpha_reg,     \n",
    "                early_stop = 5,\n",
    "                chunks = False)"
   ]
  },
  {
   "cell_type": "code",
   "execution_count": 33,
   "metadata": {},
   "outputs": [
    {
     "data": {
      "image/png": "[encoded data removed]",
      "text/plain": [
       "<Figure size 1000x600 with 1 Axes>"
      ]
     },
     "metadata": {},
     "output_type": "display_data"
    }
   ],
   "source": [
    "# train_losses and val_losses are numpy arrays containing losses for each epoch\n",
    "plot_losses(t_losses, val_losses)"
   ]
  },
  {
   "cell_type": "code",
   "execution_count": 34,
   "metadata": {},
   "outputs": [],
   "source": [
    "def calc_explained_variance(x, y, weights):\n",
    "    \"\"\"Compute the explained variance for a given dataset\"\"\"\n",
    "    with torch.no_grad():\n",
    "        # Process complete dataset as one batch.\n",
    "        # Convert X_train and y_train to PyTorch tensors\n",
    "        inputs = torch.tensor(x, device=device, dtype=torch.float32)\n",
    "        targets = torch.tensor(y, device=device, dtype=torch.float32)\n",
    "\n",
    "        model = RNN_Main_Model(num_features= num_features, hnet_output = weights,  hidden_size = n_hidden_units,\n",
    "                            num_layers= num_layers, out_dims=num_dim_output,  \n",
    "                            dropout= dropout, LSTM_ = LSTM_).to(device)  \n",
    "\n",
    "        # Forward pass to get predictions\n",
    "        predictions = model(inputs)\n",
    "\n",
    "        y_array = targets.detach().cpu().numpy()\n",
    "        y_pred_array = predictions.detach().cpu().numpy()\n",
    "     \n",
    "        # Reshape tensors to 2D arrays (flatten the batch and sequence dimensions)\n",
    "        y_pred_2D = y_pred_array.reshape(-1, y_pred_array.shape[-1])\n",
    "        y_true_2D = y_array.reshape(-1, y_array.shape[-1])\n",
    "\n",
    "        # Compute explained variance\n",
    "        r2 = explained_variance_score(y_true_2D, y_pred_2D)\n",
    "\n",
    "    return r2"
   ]
  },
  {
   "cell_type": "code",
   "execution_count": 35,
   "metadata": {},
   "outputs": [],
   "source": [
    "subsets = ['Training', 'Validation', 'Test']\n",
    "\n",
    "data_base = [[xx_train_base, yy_train_base],\n",
    "             [xx_val_base, yy_val_base],\n",
    "             [xx_test_base, yy_test_base]]\n",
    "\n",
    "data_force = [[xx_train_force, yy_train_force],\n",
    "             [xx_val_force, yy_val_force],\n",
    "             [xx_test_force, yy_test_force]]"
   ]
  },
  {
   "cell_type": "code",
   "execution_count": 36,
   "metadata": {},
   "outputs": [
    {
     "name": "stdout",
     "output_type": "stream",
     "text": [
      "Explained variance score for  Training  is :  0.9358438849449158\n",
      "Explained variance score for  Validation  is :  0.8675511181354523\n",
      "Explained variance score for  Test  is :  0.8655193746089935\n"
     ]
    }
   ],
   "source": [
    "for index, [x,y] in enumerate(data_base):\n",
    "    r2 = calc_explained_variance(x, y, W_base)\n",
    "    print('Explained variance score for ', subsets[index], ' is : ', r2)\n"
   ]
  },
  {
   "cell_type": "code",
   "execution_count": 37,
   "metadata": {},
   "outputs": [
    {
     "name": "stdout",
     "output_type": "stream",
     "text": [
      "Explained variance score for  Training  is :  0.9086236357688904\n",
      "Explained variance score for  Validation  is :  0.8310559093952179\n",
      "Explained variance score for  Test  is :  0.8234804272651672\n"
     ]
    }
   ],
   "source": [
    "for index, [x,y] in enumerate(data_force):\n",
    "    r2 = calc_explained_variance(x, y, W_force)\n",
    "    print('Explained variance score for ', subsets[index], ' is : ', r2)"
   ]
  },
  {
   "cell_type": "code",
   "execution_count": 38,
   "metadata": {},
   "outputs": [],
   "source": [
    "model_base_hnet = RNN_Main_Model(num_features= num_features, hnet_output = W_base,  hidden_size = n_hidden_units,\n",
    "                            num_layers= num_layers, out_dims=num_dim_output,  \n",
    "                            dropout= dropout, LSTM_ = LSTM_).to(device)  "
   ]
  },
  {
   "cell_type": "code",
   "execution_count": 39,
   "metadata": {},
   "outputs": [],
   "source": [
    "model_force_hnet = RNN_Main_Model(num_features= num_features, hnet_output = W_force,  hidden_size = n_hidden_units,\n",
    "                            num_layers= num_layers, out_dims=num_dim_output,  \n",
    "                            dropout= dropout, LSTM_ = LSTM_).to(device) "
   ]
  },
  {
   "cell_type": "code",
   "execution_count": 40,
   "metadata": {},
   "outputs": [],
   "source": [
    "exp_base = 'RNN_hnet_'+name+'_'+date+'_Baseline'\n",
    "exp_force = 'RNN_hnet_'+name+'_'+date+'_Force'\n",
    "path_base = os.path.join(path_to_models,exp_base)\n",
    "path_force = os.path.join(path_to_models,exp_force)\n",
    "if not os.path.exists(path_base):\n",
    "    os.makedirs(path_base)\n",
    "if not os.path.exists(path_force):\n",
    "    os.makedirs(path_force)\n",
    "path_base_fold = os.path.join(path_base,'fold_{}.pth'.format(fold))\n",
    "path_force_fold = os.path.join(path_force,'fold_{}.pth'.format(fold))\n",
    "torch.save(model_base_hnet, path_base_fold)\n",
    "torch.save(model_force_hnet, path_force_fold)"
   ]
  }
 ],
 "metadata": {
  "kernelspec": {
   "display_name": "sinthlab",
   "language": "python",
   "name": "python3"
  },
  "language_info": {
   "codemirror_mode": {
    "name": "ipython",
    "version": 3
   },
   "file_extension": ".py",
   "mimetype": "text/x-python",
   "name": "python",
   "nbconvert_exporter": "python",
   "pygments_lexer": "ipython3",
   "version": "3.8.19"
  }
 },
 "nbformat": 4,
 "nbformat_minor": 2
}
