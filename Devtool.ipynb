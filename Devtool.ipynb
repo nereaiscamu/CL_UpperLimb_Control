{
 "cells": [
  {
   "cell_type": "markdown",
   "metadata": {},
   "source": [
    "## Imports"
   ]
  },
  {
   "cell_type": "code",
   "execution_count": 5,
   "metadata": {},
   "outputs": [
    {
     "name": "stderr",
     "output_type": "stream",
     "text": [
      "c:\\Users\\nerea\\anaconda3\\envs\\sinthlab\\Lib\\site-packages\\tqdm\\auto.py:21: TqdmWarning: IProgress not found. Please update jupyter and ipywidgets. See https://ipywidgets.readthedocs.io/en/stable/user_install.html\n",
      "  from .autonotebook import tqdm as notebook_tqdm\n"
     ]
    }
   ],
   "source": [
    "import pandas as pd\n",
    "import numpy as np\n",
    "import xarray as xr\n",
    "\n",
    "import os\n",
    "from tqdm.auto import tqdm\n",
    "\n",
    "import matplotlib.pyplot as plt\n",
    "import seaborn as sns\n",
    "\n",
    "from src.helpers import *\n",
    "from src.visualize import *\n",
    "from src.trainer import *\n",
    "from Models.models import *\n",
    "\n",
    "import torch\n",
    "import torch.nn as nn\n",
    "import torch.nn.functional as F\n",
    "import torch.optim as optim\n",
    "from torch.optim import lr_scheduler\n",
    "from sklearn.metrics import *\n",
    "from copy import deepcopy\n",
    "import torch.utils.data as data\n",
    "from torch.utils.data import Dataset\n",
    "\n",
    "import pickle\n",
    "import math"
   ]
  },
  {
   "cell_type": "markdown",
   "metadata": {},
   "source": [
    "## Add PyalData folder to the path to import all modules"
   ]
  },
  {
   "cell_type": "code",
   "execution_count": 6,
   "metadata": {},
   "outputs": [],
   "source": [
    "import sys\n",
    "sys.path.append(\"c:\\\\Users\\\\nerea\\\\OneDrive\\\\Documentos\\\\EPFL_MASTER\\\\PDM\\\\Project\\\\PyalData\")\n",
    "# to change for the actual path where PyalData has been cloned"
   ]
  },
  {
   "cell_type": "code",
   "execution_count": 7,
   "metadata": {},
   "outputs": [],
   "source": [
    "from pyaldata import *"
   ]
  },
  {
   "cell_type": "code",
   "execution_count": 8,
   "metadata": {},
   "outputs": [],
   "source": [
    "#@title Helper functions for plotting (run this cell!)\n",
    "sns.set_context(\"notebook\")\n",
    "\n",
    "# initialize a color palette for plotting\n",
    "palette = sns.xkcd_palette([\"windows blue\",\n",
    "                            \"red\",\n",
    "                            \"medium green\",\n",
    "                            \"dusty purple\",\n",
    "                            \"orange\",\n",
    "                            \"amber\",\n",
    "                            \"clay\",\n",
    "                            \"pink\",\n",
    "                            \"greyish\"])"
   ]
  },
  {
   "cell_type": "code",
   "execution_count": 9,
   "metadata": {},
   "outputs": [
    {
     "name": "stdout",
     "output_type": "stream",
     "text": [
      "array field StimParamNames could not be converted to int.\n"
     ]
    }
   ],
   "source": [
    "## Load the data\n",
    "data_dir = \"./Data\"\n",
    "#fname = os.path.join(data_dir, \"Sansa_20180507.mat\") --> only 7 baseline reaches\n",
    "fname = os.path.join(data_dir, \"Sansa_20180411.mat\")\n",
    "# load TrialData .mat file into a DataFrame\n",
    "group_df = mat2dataframe(fname, shift_idx_fields=True, td_name='grp')"
   ]
  },
  {
   "cell_type": "code",
   "execution_count": 31,
   "metadata": {},
   "outputs": [],
   "source": [
    "def clean_0d_array_fields_NC(df):\n",
    "    \"\"\"\n",
    "    Loading v7.3 MAT files, sometimes scalers are stored as 0-dimensional arrays for some reason.\n",
    "    This converts those back to scalars.\n",
    "\n",
    "    Parameters\n",
    "    ----------\n",
    "    df : pd.DataFrame\n",
    "        data in trial_data format\n",
    "\n",
    "    Returns\n",
    "    -------\n",
    "    a copy of df with the relevant fields changed\n",
    "    \"\"\"\n",
    "    for c in df.columns:\n",
    "        if isinstance(df[c].values.all, np.ndarray) and all([arr.ndim == 0 for arr in df[c]]):\n",
    "            df[c] = [arr.item() for arr in df[c]]\n",
    "\n",
    "    return df"
   ]
  },
  {
   "cell_type": "code",
   "execution_count": 32,
   "metadata": {},
   "outputs": [],
   "source": [
    "def mat2dataframe_NC(fname, shift_idx_fields=True, td_name = 'td_name'):\n",
    "    try:\n",
    "        mat = scipy.io.loadmat(fname, simplify_cells=True)\n",
    "    except NotImplementedError:\n",
    "        try:\n",
    "            import mat73\n",
    "        except ImportError:\n",
    "            raise ImportError(\"Must have mat73 installed to load mat73 files.\")\n",
    "        else:\n",
    "            mat = mat73.loadmat(fname)\n",
    "    real_keys = [k for k in mat.keys() if not (k.startswith(\"__\") and k.endswith(\"__\"))]\n",
    "\n",
    "    if td_name is None:\n",
    "        if len(real_keys) == 0:\n",
    "            raise ValueError(\"Could not find dataset name. Please specify td_name.\")\n",
    "        elif len(real_keys) > 1:\n",
    "            raise ValueError(\"More than one datasets found. Please specify td_name.\")\n",
    "\n",
    "        assert len(real_keys) == 1\n",
    "\n",
    "        td_name = real_keys[0]\n",
    "\n",
    "    df = pd.DataFrame(mat[td_name])\n",
    "\n",
    "    # Apply the function to all columns of the DataFrame\n",
    "    df = df.map(replace_empty_list)\n",
    "    df= clean_0d_array_fields_NC(df)\n",
    "    df = data_cleaning.clean_integer_fields(df)\n",
    "    \n",
    "    if shift_idx_fields:\n",
    "        df = data_cleaning.backshift_idx_fields(df)\n",
    "    \n",
    "    return df "
   ]
  },
  {
   "cell_type": "code",
   "execution_count": 33,
   "metadata": {},
   "outputs": [
    {
     "name": "stdout",
     "output_type": "stream",
     "text": [
      "array field kin_names could not be converted to int.\n",
      "array field joint_names could not be converted to int.\n",
      "array field stim_param_names could not be converted to int.\n",
      "field idx_end could not be converted to int.\n"
     ]
    },
    {
     "name": "stderr",
     "output_type": "stream",
     "text": [
      "c:\\Users\\nerea\\OneDrive\\Documentos\\EPFL_MASTER\\PDM\\Project\\PyalData\\pyaldata\\data_cleaning.py:68: RuntimeWarning: invalid value encountered in cast\n",
      "  int_arrays = [np.int32(arr) for arr in df[field]]\n"
     ]
    }
   ],
   "source": [
    "trial_df = mat2dataframe_NC(fname, shift_idx_fields=True, td_name = 'trial_data')"
   ]
  },
  {
   "cell_type": "code",
   "execution_count": null,
   "metadata": {},
   "outputs": [],
   "source": []
  }
 ],
 "metadata": {
  "kernelspec": {
   "display_name": "sinthlab",
   "language": "python",
   "name": "python3"
  },
  "language_info": {
   "codemirror_mode": {
    "name": "ipython",
    "version": 3
   },
   "file_extension": ".py",
   "mimetype": "text/x-python",
   "name": "python",
   "nbconvert_exporter": "python",
   "pygments_lexer": "ipython3",
   "version": "3.12.2"
  }
 },
 "nbformat": 4,
 "nbformat_minor": 2
}
