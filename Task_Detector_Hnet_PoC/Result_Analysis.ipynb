{
 "cells": [
  {
   "cell_type": "code",
   "execution_count": 27,
   "metadata": {},
   "outputs": [],
   "source": [
    "import pandas as pd\n",
    "import numpy as np\n",
    "import os\n",
    "import pickle\n",
    "import torch\n",
    "import sys\n",
    "\n",
    "sys.path.append('../')\n",
    "from src.helpers import *\n",
    "from src.visualize import *\n",
    "from src.trainer import *\n",
    "from src.trainer_hnet import * \n",
    "from src.helpers_task_detector import *\n",
    "from Models.models import *"
   ]
  },
  {
   "cell_type": "code",
   "execution_count": 28,
   "metadata": {},
   "outputs": [],
   "source": [
    "experiment_name = 'Experiment1'\n",
    "path_results = './Results/' + experiment_name"
   ]
  },
  {
   "cell_type": "code",
   "execution_count": 29,
   "metadata": {},
   "outputs": [],
   "source": [
    "with open(os.path.join(path_results +'.pkl'), 'rb') as fp:\n",
    "    results = pickle.load(fp)"
   ]
  },
  {
   "cell_type": "code",
   "execution_count": 30,
   "metadata": {},
   "outputs": [
    {
     "data": {
      "text/plain": [
       "dict_keys(['predicted_task', 'new_task', 'detector_train_losses', 'detector_val_losses', 'y_true_detector', 'y_pred_detector', 'r2_test_detector', 'y_true_hnet', 'y_pred_hnet', 'r2_test_hnet', 'hnet_train_losses', 'hnet_val_losses'])"
      ]
     },
     "execution_count": 30,
     "metadata": {},
     "output_type": "execute_result"
    }
   ],
   "source": [
    "results['Data_0_1'].keys()"
   ]
  },
  {
   "cell_type": "code",
   "execution_count": 31,
   "metadata": {},
   "outputs": [],
   "source": [
    "dataset = []\n",
    "r2_test_detector = []\n",
    "r2_test_hnet = []\n",
    "y_true_detector = []\n",
    "y_pred_detector = []\n",
    "y_true_hnet = []\n",
    "y_pred_hnet = []\n",
    "\n",
    "with open(os.path.join(path_results +'.pkl'), 'rb') as fp:\n",
    "    results = pickle.load(fp)\n",
    "    for set in results.keys():\n",
    "        dataset.append(set)\n",
    "        r2_test_detector.append(results[set]['r2_test_detector'])\n",
    "        r2_test_hnet.append(results[set]['r2_test_hnet'])\n",
    "        if 'y_true_hnet' in results[set].keys():\n",
    "            y_true_hnet.append([results[set]['y_true_hnet']])\n",
    "            y_pred_hnet.append([results[set]['y_pred_hnet']])\n",
    "        else:\n",
    "            y_true_hnet.append([0])\n",
    "            y_pred_hnet.append([0])\n",
    "        if 'y_true_detector' in results[set].keys():\n",
    "            y_true_detector.append([results[set]['y_true_detector']])\n",
    "            y_pred_detector.append([results[set]['y_pred_detector']])\n",
    "        else:\n",
    "            y_true_detector.append([0])\n",
    "            y_pred_detector.append([0])"
   ]
  },
  {
   "cell_type": "code",
   "execution_count": 32,
   "metadata": {},
   "outputs": [],
   "source": [
    "df = pd.DataFrame({'Dataset':dataset,\n",
    "                    'Y_t_detector': y_true_detector,\n",
    "                    'Y_p_detector':y_pred_detector,  \n",
    "                    'R2_Detector':r2_test_detector,\n",
    "                    'Y_t_hnet': y_true_hnet,\n",
    "                    'Y_p_hnet':y_pred_hnet,  \n",
    "                    'R2_hnet':r2_test_hnet})"
   ]
  },
  {
   "cell_type": "code",
   "execution_count": 33,
   "metadata": {},
   "outputs": [
    {
     "data": {
      "text/html": [
       "<div>\n",
       "<style scoped>\n",
       "    .dataframe tbody tr th:only-of-type {\n",
       "        vertical-align: middle;\n",
       "    }\n",
       "\n",
       "    .dataframe tbody tr th {\n",
       "        vertical-align: top;\n",
       "    }\n",
       "\n",
       "    .dataframe thead th {\n",
       "        text-align: right;\n",
       "    }\n",
       "</style>\n",
       "<table border=\"1\" class=\"dataframe\">\n",
       "  <thead>\n",
       "    <tr style=\"text-align: right;\">\n",
       "      <th></th>\n",
       "      <th>Dataset</th>\n",
       "      <th>Y_t_detector</th>\n",
       "      <th>Y_p_detector</th>\n",
       "      <th>R2_Detector</th>\n",
       "      <th>Y_t_hnet</th>\n",
       "      <th>Y_p_hnet</th>\n",
       "      <th>R2_hnet</th>\n",
       "    </tr>\n",
       "  </thead>\n",
       "  <tbody>\n",
       "    <tr>\n",
       "      <th>0</th>\n",
       "      <td>Data_0_1</td>\n",
       "      <td>[[[-0.106160894, 0.16044481], [0.08029461, -0....</td>\n",
       "      <td>[[[0.6246227, -0.8454965], [0.61250055, -0.530...</td>\n",
       "      <td>0.871277</td>\n",
       "      <td>[[[[-0.1061609   0.16044482], [ 0.08029461 -0....</td>\n",
       "      <td>[[[[-1.2226496   0.23670873], [1.9218637  0.19...</td>\n",
       "      <td>0.825989</td>\n",
       "    </tr>\n",
       "    <tr>\n",
       "      <th>1</th>\n",
       "      <td>Data_0_2</td>\n",
       "      <td>[0]</td>\n",
       "      <td>[0]</td>\n",
       "      <td>0.867776</td>\n",
       "      <td>[[[[-0.1061609   0.16044482], [ 0.08029461 -0....</td>\n",
       "      <td>[[[[-0.10885167 -1.4230759 ], [ 0.6837431  -0....</td>\n",
       "      <td>0.821806</td>\n",
       "    </tr>\n",
       "    <tr>\n",
       "      <th>2</th>\n",
       "      <td>Data_1_1</td>\n",
       "      <td>[[[-0.106160894, 0.16044481], [0.08029461, -0....</td>\n",
       "      <td>[[[0.18519881, -0.5830423], [0.459361, -0.3222...</td>\n",
       "      <td>0.863727</td>\n",
       "      <td>[[[[-0.1061609   0.16044482], [ 0.08029461 -0....</td>\n",
       "      <td>[[[[-0.77672833 -0.27633694], [-0.5463041 -2.5...</td>\n",
       "      <td>0.798148</td>\n",
       "    </tr>\n",
       "    <tr>\n",
       "      <th>3</th>\n",
       "      <td>Data_1_2</td>\n",
       "      <td>[0]</td>\n",
       "      <td>[0]</td>\n",
       "      <td>0.865941</td>\n",
       "      <td>[[[[0.20469173 0.27441731], [0.20378454 0.2297...</td>\n",
       "      <td>[[[[ 0.8753853 -0.8860687], [0.48364425 0.8199...</td>\n",
       "      <td>0.796693</td>\n",
       "    </tr>\n",
       "    <tr>\n",
       "      <th>4</th>\n",
       "      <td>Data_2_1</td>\n",
       "      <td>[[[-0.106160894, 0.16044481], [0.08029461, -0....</td>\n",
       "      <td>[[[0.42714936, -1.2525126], [0.5811763, -1.096...</td>\n",
       "      <td>0.873758</td>\n",
       "      <td>[[[[-0.1061609   0.16044482], [ 0.08029461 -0....</td>\n",
       "      <td>[[[[1.3842869  0.47931418], [ 0.8954248 -1.433...</td>\n",
       "      <td>0.814240</td>\n",
       "    </tr>\n",
       "    <tr>\n",
       "      <th>5</th>\n",
       "      <td>Data_2_2</td>\n",
       "      <td>[0]</td>\n",
       "      <td>[0]</td>\n",
       "      <td>0.862860</td>\n",
       "      <td>[[[[0.20469173 0.27441731], [0.20378454 0.2297...</td>\n",
       "      <td>[[[[-0.19888026 -3.3028715 ], [0.44017047 0.51...</td>\n",
       "      <td>0.821466</td>\n",
       "    </tr>\n",
       "    <tr>\n",
       "      <th>6</th>\n",
       "      <td>Data_3_1</td>\n",
       "      <td>[[[-0.106160894, 0.16044481], [0.08029461, -0....</td>\n",
       "      <td>[[[0.5463887, -1.5822499], [0.19791111, -0.840...</td>\n",
       "      <td>0.852042</td>\n",
       "      <td>[[[[-0.1061609   0.16044482], [ 0.08029461 -0....</td>\n",
       "      <td>[[[[-0.75575763  0.22842765], [1.2771637  0.06...</td>\n",
       "      <td>0.804023</td>\n",
       "    </tr>\n",
       "    <tr>\n",
       "      <th>7</th>\n",
       "      <td>Data_3_2</td>\n",
       "      <td>[0]</td>\n",
       "      <td>[0]</td>\n",
       "      <td>0.810858</td>\n",
       "      <td>[[[[0.20469173 0.27441731], [0.20378454 0.2297...</td>\n",
       "      <td>[[[[ 0.61996114 -0.59940946], [ 0.13161373 -0....</td>\n",
       "      <td>0.827988</td>\n",
       "    </tr>\n",
       "    <tr>\n",
       "      <th>8</th>\n",
       "      <td>Data_4_1</td>\n",
       "      <td>[[[-0.106160894, 0.16044481], [0.08029461, -0....</td>\n",
       "      <td>[[[0.081935704, -1.3537786], [0.1999526, -0.98...</td>\n",
       "      <td>0.858449</td>\n",
       "      <td>[[[[-0.1061609   0.16044482], [ 0.08029461 -0....</td>\n",
       "      <td>[[[[1.152723   0.05039352], [0.85703516 0.4435...</td>\n",
       "      <td>0.809617</td>\n",
       "    </tr>\n",
       "    <tr>\n",
       "      <th>9</th>\n",
       "      <td>Data_4_2</td>\n",
       "      <td>[0]</td>\n",
       "      <td>[0]</td>\n",
       "      <td>0.849488</td>\n",
       "      <td>[[[[0.20469173 0.27441731], [0.20378454 0.2297...</td>\n",
       "      <td>[[[[-0.9491283   0.12286979], [0.71397066 0.14...</td>\n",
       "      <td>0.827547</td>\n",
       "    </tr>\n",
       "  </tbody>\n",
       "</table>\n",
       "</div>"
      ],
      "text/plain": [
       "    Dataset                                       Y_t_detector  \\\n",
       "0  Data_0_1  [[[-0.106160894, 0.16044481], [0.08029461, -0....   \n",
       "1  Data_0_2                                                [0]   \n",
       "2  Data_1_1  [[[-0.106160894, 0.16044481], [0.08029461, -0....   \n",
       "3  Data_1_2                                                [0]   \n",
       "4  Data_2_1  [[[-0.106160894, 0.16044481], [0.08029461, -0....   \n",
       "5  Data_2_2                                                [0]   \n",
       "6  Data_3_1  [[[-0.106160894, 0.16044481], [0.08029461, -0....   \n",
       "7  Data_3_2                                                [0]   \n",
       "8  Data_4_1  [[[-0.106160894, 0.16044481], [0.08029461, -0....   \n",
       "9  Data_4_2                                                [0]   \n",
       "\n",
       "                                        Y_p_detector  R2_Detector  \\\n",
       "0  [[[0.6246227, -0.8454965], [0.61250055, -0.530...     0.871277   \n",
       "1                                                [0]     0.867776   \n",
       "2  [[[0.18519881, -0.5830423], [0.459361, -0.3222...     0.863727   \n",
       "3                                                [0]     0.865941   \n",
       "4  [[[0.42714936, -1.2525126], [0.5811763, -1.096...     0.873758   \n",
       "5                                                [0]     0.862860   \n",
       "6  [[[0.5463887, -1.5822499], [0.19791111, -0.840...     0.852042   \n",
       "7                                                [0]     0.810858   \n",
       "8  [[[0.081935704, -1.3537786], [0.1999526, -0.98...     0.858449   \n",
       "9                                                [0]     0.849488   \n",
       "\n",
       "                                            Y_t_hnet  \\\n",
       "0  [[[[-0.1061609   0.16044482], [ 0.08029461 -0....   \n",
       "1  [[[[-0.1061609   0.16044482], [ 0.08029461 -0....   \n",
       "2  [[[[-0.1061609   0.16044482], [ 0.08029461 -0....   \n",
       "3  [[[[0.20469173 0.27441731], [0.20378454 0.2297...   \n",
       "4  [[[[-0.1061609   0.16044482], [ 0.08029461 -0....   \n",
       "5  [[[[0.20469173 0.27441731], [0.20378454 0.2297...   \n",
       "6  [[[[-0.1061609   0.16044482], [ 0.08029461 -0....   \n",
       "7  [[[[0.20469173 0.27441731], [0.20378454 0.2297...   \n",
       "8  [[[[-0.1061609   0.16044482], [ 0.08029461 -0....   \n",
       "9  [[[[0.20469173 0.27441731], [0.20378454 0.2297...   \n",
       "\n",
       "                                            Y_p_hnet   R2_hnet  \n",
       "0  [[[[-1.2226496   0.23670873], [1.9218637  0.19...  0.825989  \n",
       "1  [[[[-0.10885167 -1.4230759 ], [ 0.6837431  -0....  0.821806  \n",
       "2  [[[[-0.77672833 -0.27633694], [-0.5463041 -2.5...  0.798148  \n",
       "3  [[[[ 0.8753853 -0.8860687], [0.48364425 0.8199...  0.796693  \n",
       "4  [[[[1.3842869  0.47931418], [ 0.8954248 -1.433...  0.814240  \n",
       "5  [[[[-0.19888026 -3.3028715 ], [0.44017047 0.51...  0.821466  \n",
       "6  [[[[-0.75575763  0.22842765], [1.2771637  0.06...  0.804023  \n",
       "7  [[[[ 0.61996114 -0.59940946], [ 0.13161373 -0....  0.827988  \n",
       "8  [[[[1.152723   0.05039352], [0.85703516 0.4435...  0.809617  \n",
       "9  [[[[-0.9491283   0.12286979], [0.71397066 0.14...  0.827547  "
      ]
     },
     "execution_count": 33,
     "metadata": {},
     "output_type": "execute_result"
    }
   ],
   "source": [
    "df"
   ]
  },
  {
   "cell_type": "markdown",
   "metadata": {},
   "source": [
    "### Assess continual learning on hypernetwork\n",
    "\n",
    "The idea here is to load all hypernets, after each task has been learned, and then test for each model on the trained task + all the previously seen tasks."
   ]
  },
  {
   "cell_type": "code",
   "execution_count": 34,
   "metadata": {},
   "outputs": [],
   "source": [
    "path_to_hnets = './Models/Models_HNET'\n",
    "data_path = './Data/Detector_Datasets_Chewie_1007.pkl'\n",
    "\n",
    "models_exp = np.sort(os.listdir(os.path.join(path_to_hnets, experiment_name)))\n",
    "\n",
    "with open(os.path.join(data_path), 'rb') as fp:\n",
    "    data = pickle.load(fp)"
   ]
  },
  {
   "cell_type": "code",
   "execution_count": 35,
   "metadata": {},
   "outputs": [
    {
     "name": "stdout",
     "output_type": "stream",
     "text": [
      "Hypernetwork with 1823425 weights and 130202 outputs (compression ratio: 14.00).\n",
      "The network consists of 1822945 unconditional weights (1822945 internally maintained) and 480 conditional weights (480 internally maintained).\n",
      "Hypernetwork with 1823425 weights and 130202 outputs (compression ratio: 14.00).\n",
      "The network consists of 1822945 unconditional weights (1822945 internally maintained) and 480 conditional weights (480 internally maintained).\n",
      "Hypernetwork with 1823425 weights and 130202 outputs (compression ratio: 14.00).\n",
      "The network consists of 1822945 unconditional weights (1822945 internally maintained) and 480 conditional weights (480 internally maintained).\n",
      "Hypernetwork with 1823425 weights and 130202 outputs (compression ratio: 14.00).\n",
      "The network consists of 1822945 unconditional weights (1822945 internally maintained) and 480 conditional weights (480 internally maintained).\n",
      "Hypernetwork with 1823425 weights and 130202 outputs (compression ratio: 14.00).\n",
      "The network consists of 1822945 unconditional weights (1822945 internally maintained) and 480 conditional weights (480 internally maintained).\n"
     ]
    }
   ],
   "source": [
    "model = []\n",
    "test_set = []\n",
    "r2_list = []\n",
    "for i,m in enumerate(models_exp):\n",
    "    model_i = torch.load(os.path.join(path_to_hnets,experiment_name, m))\n",
    "    print(model_i)\n",
    "    for ind_k,k in enumerate(data.keys()):\n",
    "        data_index = int(k.split(\"_\")[1])\n",
    "        if data_index <= i:\n",
    "            W = model_i(cond_id = data_index)\n",
    "            main_net = RNN_Main_Model(num_features= 130, hnet_output = W,  hidden_size = 300,\n",
    "                                num_layers= 1,out_dims=2,  \n",
    "                                dropout= 0.2,  LSTM_ = False)\n",
    "            x_train, y_train, x_val, y_val, x_test, y_test = data[k]\n",
    "            r2, _ = calc_explained_variance_mnet(x_test, y_test, W, main_net)\n",
    "\n",
    "            model.append(m)\n",
    "            test_set.append(k)\n",
    "            r2_list.append(r2)\n"
   ]
  },
  {
   "cell_type": "code",
   "execution_count": 36,
   "metadata": {},
   "outputs": [],
   "source": [
    "df = pd.DataFrame({'Model':model,\n",
    "                   'Dataset':test_set,\n",
    "                    'R2': r2_list})"
   ]
  },
  {
   "cell_type": "code",
   "execution_count": null,
   "metadata": {},
   "outputs": [],
   "source": []
  },
  {
   "cell_type": "code",
   "execution_count": 47,
   "metadata": {},
   "outputs": [
    {
     "name": "stderr",
     "output_type": "stream",
     "text": [
      "/tmp/ipykernel_219773/1176930008.py:9: FutureWarning: \n",
      "\n",
      "The `ci` parameter is deprecated. Use `errorbar=None` for the same effect.\n",
      "\n",
      "  sns.barplot(data=df, x='Model', y='R2', hue='Dataset', ci=None)  # ci=None to remove confidence intervals\n"
     ]
    },
    {
     "data": {
      "image/png": "[encoded data removed]",
      "text/plain": [
       "<Figure size 1000x600 with 1 Axes>"
      ]
     },
     "metadata": {},
     "output_type": "display_data"
    }
   ],
   "source": [
    "import seaborn as sns\n",
    "import matplotlib.pyplot as plt\n",
    "\n",
    "# Assuming your data is stored in a pandas DataFrame called 'df'\n",
    "# df = pd.DataFrame({'model': ..., 'dataset': ..., 'r2': ...})\n",
    "\n",
    "# Create the bar plot\n",
    "plt.figure(figsize=(10, 6))\n",
    "sns.barplot(data=df, x='Model', y='R2', hue='Dataset', ci=None)  # ci=None to remove confidence intervals\n",
    "plt.title('R2 Value by Model and Dataset during CL with Hypernetworks')\n",
    "plt.xlabel('Model')\n",
    "plt.ylabel('R2 Value')\n",
    "new_labels = ['Trained Task 1', 'Trained Task 2', 'Trained Task 3', 'Trained Task 4', 'Trained Task 5']  # New labels for x-axis\n",
    "plt.xticks(ticks=range(len(new_labels)), labels=new_labels)\n",
    "#plt.xticks(rotation=45)  # Rotate x-axis labels for better readability\n",
    "legend_labels = ['Baseline 1', 'Baseline 1', 'Removed Neurons 1', 'Removed Neurons 2',\n",
    "                 'Shuffled Neurons 1', 'Shuffled Neurons 1', 'Added Gain 1', 'Added Gain 2',\n",
    "                 'Added Offset 1', 'Added Offset 2']  # New labels for legend\n",
    "\n",
    "plt.legend(title='Dataset', fontsize = 'small', bbox_to_anchor=(1.05, 0.75), loc='upper left',  labels=legend_labels)  # Move legend to upper left corner\n",
    "plt.tight_layout()\n",
    "plt.show()\n"
   ]
  },
  {
   "cell_type": "code",
   "execution_count": null,
   "metadata": {},
   "outputs": [],
   "source": []
  }
 ],
 "metadata": {
  "kernelspec": {
   "display_name": "sinthlab",
   "language": "python",
   "name": "python3"
  },
  "language_info": {
   "codemirror_mode": {
    "name": "ipython",
    "version": 3
   },
   "file_extension": ".py",
   "mimetype": "text/x-python",
   "name": "python",
   "nbconvert_exporter": "python",
   "pygments_lexer": "ipython3",
   "version": "3.8.19"
  }
 },
 "nbformat": 4,
 "nbformat_minor": 2
}
