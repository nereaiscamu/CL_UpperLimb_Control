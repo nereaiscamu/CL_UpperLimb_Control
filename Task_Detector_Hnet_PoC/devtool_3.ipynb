{
 "cells": [
  {
   "cell_type": "code",
   "execution_count": 1,
   "metadata": {},
   "outputs": [
    {
     "name": "stderr",
     "output_type": "stream",
     "text": [
      "/home/nerea/anaconda3/envs/sinthlab/lib/python3.8/site-packages/tqdm/auto.py:21: TqdmWarning: IProgress not found. Please update jupyter and ipywidgets. See https://ipywidgets.readthedocs.io/en/stable/user_install.html\n",
      "  from .autonotebook import tqdm as notebook_tqdm\n"
     ]
    }
   ],
   "source": [
    "import pandas as pd\n",
    "import numpy as np\n",
    "import os\n",
    "import pickle\n",
    "import torch\n",
    "import sys\n",
    "from helpers_task_detector import *\n",
    "sys.path.append('../')\n",
    "from src.helpers import *\n",
    "from src.visualize import *\n",
    "from src.trainer import *\n",
    "from src.trainer_hnet import * \n",
    "from Models.models import *\n",
    "import json\n",
    "\n",
    "import seaborn as sns\n",
    "import matplotlib.pyplot as plt"
   ]
  },
  {
   "cell_type": "code",
   "execution_count": 2,
   "metadata": {},
   "outputs": [],
   "source": [
    "# Load the list of experiments from JSON\n",
    "with open(os.path.join('config.json'), 'r') as f:\n",
    "    experiments = json.load(f)\n",
    "    \n",
    "path_to_hnets = './Models/Models_HNET_Block3'"
   ]
  },
  {
   "cell_type": "code",
   "execution_count": 3,
   "metadata": {},
   "outputs": [],
   "source": [
    "experiment0_hnet_v0 = 'Experiment1_Task3'\n",
    "models_exp0_hnet_v0 = np.sort(os.listdir(os.path.join(path_to_hnets, experiment0_hnet_v0)))\n",
    "\n",
    "\n",
    "path_results_exp0_v0 = './Results/' + experiment0_hnet_v0\n",
    "with open(os.path.join(path_results_exp0_v0 +'.pkl'), 'rb') as fp:\n",
    "    results_hnet_exp0_v0 = pickle.load(fp)\n",
    "\n",
    "data_path_exp0_v0 = './Data/Sim_Data_Experiment60'+'.pkl'\n",
    "with open(os.path.join(data_path_exp0_v0), 'rb') as fp:\n",
    "    data_exp0_v0 = pickle.load(fp)"
   ]
  },
  {
   "cell_type": "code",
   "execution_count": 4,
   "metadata": {},
   "outputs": [],
   "source": [
    "model1 = torch.load(os.path.join(path_to_hnets,experiment0_hnet_v0, models_exp0_hnet_v0[1] ))\n",
    "model2 = torch.load(os.path.join(path_to_hnets,experiment0_hnet_v0, models_exp0_hnet_v0[2] ))\n",
    "model9 = torch.load(os.path.join(path_to_hnets,experiment0_hnet_v0, models_exp0_hnet_v0[7] ))"
   ]
  },
  {
   "cell_type": "code",
   "execution_count": 5,
   "metadata": {},
   "outputs": [],
   "source": [
    "first_task = list(data_exp0_v0.keys())[1]"
   ]
  },
  {
   "cell_type": "code",
   "execution_count": 6,
   "metadata": {},
   "outputs": [],
   "source": [
    "x_train, y_train, x_val, y_val, x_test, y_test = data_exp0_v0[first_task]\n",
    "W_1 = model1(cond_id = 1)\n",
    "W_2 = model2(cond_id = 1)\n",
    "W_9 = model9(cond_id = 1)"
   ]
  },
  {
   "cell_type": "code",
   "execution_count": 7,
   "metadata": {},
   "outputs": [],
   "source": [
    "main_net = RNN_Main_Model(num_features= 130, hnet_output = W_1,  hidden_size = 300,\n",
    "                                        num_layers= 1,out_dims=2,  \n",
    "                                        dropout= 0.2,  LSTM_ = False)"
   ]
  },
  {
   "cell_type": "code",
   "execution_count": 8,
   "metadata": {},
   "outputs": [],
   "source": [
    "r2_1, _ = calc_explained_variance_mnet(x_test, y_test, W_1, main_net)"
   ]
  },
  {
   "cell_type": "code",
   "execution_count": 9,
   "metadata": {},
   "outputs": [
    {
     "data": {
      "text/plain": [
       "0.8618788421154022"
      ]
     },
     "execution_count": 9,
     "metadata": {},
     "output_type": "execute_result"
    }
   ],
   "source": [
    "r2_1"
   ]
  },
  {
   "cell_type": "code",
   "execution_count": 10,
   "metadata": {},
   "outputs": [],
   "source": [
    "r2_2, _ = calc_explained_variance_mnet(x_test, y_test, W_2, main_net)\n"
   ]
  },
  {
   "cell_type": "code",
   "execution_count": 11,
   "metadata": {},
   "outputs": [
    {
     "data": {
      "text/plain": [
       "0.7896788120269775"
      ]
     },
     "execution_count": 11,
     "metadata": {},
     "output_type": "execute_result"
    }
   ],
   "source": [
    "r2_2"
   ]
  },
  {
   "cell_type": "code",
   "execution_count": 12,
   "metadata": {},
   "outputs": [],
   "source": [
    "r2_9, _ = calc_explained_variance_mnet(x_test, y_test, W_9, main_net)"
   ]
  },
  {
   "cell_type": "code",
   "execution_count": 13,
   "metadata": {},
   "outputs": [
    {
     "data": {
      "text/plain": [
       "0.8244554698467255"
      ]
     },
     "execution_count": 13,
     "metadata": {},
     "output_type": "execute_result"
    }
   ],
   "source": [
    "r2_9"
   ]
  },
  {
   "cell_type": "code",
   "execution_count": 19,
   "metadata": {},
   "outputs": [],
   "source": [
    "task_performances = {}\n",
    "best_perf = {}\n",
    "for d in data_exp0_v0.keys():\n",
    "    x_train, y_train, x_val, y_val, x_test, y_test = data_exp0_v0[d]\n",
    "    data_perf = []\n",
    "    model = torch.load(os.path.join(path_to_hnets,experiment0_hnet_v0, models_exp0_hnet_v0[-1] ))\n",
    "    for cond in range(len(models_exp0_hnet_v0)):\n",
    "        W = model(cond_id = cond)\n",
    "        r2_, _ = calc_explained_variance_mnet(x_test, y_test, W, main_net)\n",
    "        data_perf.append(r2_)\n",
    "    task_performances[d] = data_perf\n",
    "    best_perf[d] = max(data_perf)\n"
   ]
  },
  {
   "cell_type": "code",
   "execution_count": 21,
   "metadata": {},
   "outputs": [
    {
     "data": {
      "text/plain": [
       "{'Data_1_2': 0.7641560733318329,\n",
       " 'Data_2_2': 0.8220682442188263,\n",
       " 'Data_4_1': 0.6173930764198303,\n",
       " 'Data_4_2': 0.6004714369773865,\n",
       " 'Data_1_1': 0.7592190504074097,\n",
       " 'Data_2_1': 0.8050783276557922,\n",
       " 'Data_0_1': 0.7833098769187927,\n",
       " 'Data_3_1': 0.7298378050327301,\n",
       " 'Data_3_2': 0.7538323700428009,\n",
       " 'Data_0_2': 0.796068549156189}"
      ]
     },
     "execution_count": 21,
     "metadata": {},
     "output_type": "execute_result"
    }
   ],
   "source": [
    "best_perf"
   ]
  },
  {
   "cell_type": "code",
   "execution_count": null,
   "metadata": {},
   "outputs": [],
   "source": []
  }
 ],
 "metadata": {
  "kernelspec": {
   "display_name": "sinthlab",
   "language": "python",
   "name": "python3"
  },
  "language_info": {
   "codemirror_mode": {
    "name": "ipython",
    "version": 3
   },
   "file_extension": ".py",
   "mimetype": "text/x-python",
   "name": "python",
   "nbconvert_exporter": "python",
   "pygments_lexer": "ipython3",
   "version": "3.8.19"
  }
 },
 "nbformat": 4,
 "nbformat_minor": 2
}
