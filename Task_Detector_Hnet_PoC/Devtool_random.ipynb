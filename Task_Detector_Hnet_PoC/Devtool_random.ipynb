{
 "cells": [
  {
   "cell_type": "code",
   "execution_count": 1,
   "metadata": {},
   "outputs": [
    {
     "name": "stderr",
     "output_type": "stream",
     "text": [
      "/home/nerea/anaconda3/envs/sinthlab/lib/python3.8/site-packages/tqdm/auto.py:21: TqdmWarning: IProgress not found. Please update jupyter and ipywidgets. See https://ipywidgets.readthedocs.io/en/stable/user_install.html\n",
      "  from .autonotebook import tqdm as notebook_tqdm\n"
     ]
    }
   ],
   "source": [
    "### Imports\n",
    "import pandas as pd\n",
    "import numpy as np\n",
    "import pickle\n",
    "import json\n",
    "import argparse\n",
    "\n",
    "# Imports DL\n",
    "import torch\n",
    "import torch.nn as nn\n",
    "import torch.nn.functional as F\n",
    "import torch.optim as optim\n",
    "from torch.optim import lr_scheduler\n",
    "from sklearn.metrics import *\n",
    "import torch.utils.data as data\n",
    "from torch.utils.data import Dataset\n",
    "from hypnettorch.hnets import HyperNetInterface\n",
    "from hypnettorch.hnets import HMLP\n",
    "import copy\n",
    "import time\n",
    "\n",
    "from helpers_task_detector import *"
   ]
  },
  {
   "cell_type": "code",
   "execution_count": 14,
   "metadata": {},
   "outputs": [
    {
     "name": "stdout",
     "output_type": "stream",
     "text": [
      "Created MLP Hypernet.\n",
      "Hypernetwork with 6614942 weights and 129602 outputs (compression ratio: 51.04).\n",
      "The network consists of 6613502 unconditional weights (6613502 internally maintained) and 1440 conditional weights (1440 internally maintained).\n"
     ]
    }
   ],
   "source": [
    "template =  Causal_Simple_RNN(num_features=128, \n",
    "                    hidden_units= 300, \n",
    "                    num_layers = 1, \n",
    "                    out_dims = 2,\n",
    "                    dropout = 0.2).to(device)\n",
    "RNN_model =  Causal_Simple_RNN(num_features=128, \n",
    "                    hidden_units= 500, \n",
    "                    num_layers = 13, \n",
    "                    out_dims = 2,\n",
    "                    dropout = 0.2).to(device)    \n",
    "\n",
    "#### Defining the template, main and hnet models and initializing them\n",
    "\n",
    "# We can use the task detector as a template for the main model\n",
    "param_shapes = [p.shape for p in list(template.parameters())]\n",
    "\n",
    "num_conditions = 60 # we want more possible conditions than what we can reach\n",
    "size_task_embedding = 24 # changed to test on 22/07 it was 8 # seemed to work well \n",
    "\n",
    "hnet = HMLP(param_shapes, uncond_in_size=0,\n",
    "            cond_in_size=size_task_embedding, #usually we had size_task_embedding\n",
    "            layers= [50,50], # trying different values on 22/07, before that it was [13]\n",
    "            num_cond_embs=num_conditions).to(device)\n",
    "\n",
    "for param in hnet.parameters():\n",
    "    param.requires_grad = True\n",
    "for param in RNN_model.parameters():\n",
    "    param.requires_grad = True"
   ]
  },
  {
   "cell_type": "code",
   "execution_count": 15,
   "metadata": {},
   "outputs": [
    {
     "name": "stdout",
     "output_type": "stream",
     "text": [
      "Number of learnable parameters in the hypernetwork: 6614942\n"
     ]
    }
   ],
   "source": [
    "def count_hypernetwork_parameters(hnet):\n",
    "    return sum(p.numel() for p in hnet.parameters() if p.requires_grad)\n",
    "\n",
    "# Example usage:\n",
    "num_params_1 = count_hypernetwork_parameters(hnet)\n",
    "print(f\"Number of learnable parameters in the hypernetwork: {num_params_1}\")"
   ]
  },
  {
   "cell_type": "code",
   "execution_count": 16,
   "metadata": {},
   "outputs": [
    {
     "name": "stdout",
     "output_type": "stream",
     "text": [
      "Number of learnable parameters in the hypernetwork: 6328002\n"
     ]
    }
   ],
   "source": [
    "# Example usage:\n",
    "num_params_2 = count_hypernetwork_parameters(RNN_model)\n",
    "print(f\"Number of learnable parameters in the hypernetwork: {num_params_2}\")"
   ]
  },
  {
   "cell_type": "code",
   "execution_count": 17,
   "metadata": {},
   "outputs": [
    {
     "data": {
      "text/plain": [
       "1.0453444863007313"
      ]
     },
     "execution_count": 17,
     "metadata": {},
     "output_type": "execute_result"
    }
   ],
   "source": [
    "num_params_1/num_params_2"
   ]
  }
 ],
 "metadata": {
  "kernelspec": {
   "display_name": "sinthlab",
   "language": "python",
   "name": "python3"
  },
  "language_info": {
   "codemirror_mode": {
    "name": "ipython",
    "version": 3
   },
   "file_extension": ".py",
   "mimetype": "text/x-python",
   "name": "python",
   "nbconvert_exporter": "python",
   "pygments_lexer": "ipython3",
   "version": "3.8.19"
  }
 },
 "nbformat": 4,
 "nbformat_minor": 2
}
