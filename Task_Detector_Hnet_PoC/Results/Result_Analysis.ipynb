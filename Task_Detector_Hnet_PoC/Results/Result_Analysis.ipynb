{
 "cells": [
  {
   "cell_type": "code",
   "execution_count": 1,
   "metadata": {},
   "outputs": [],
   "source": [
    "import pandas as pd\n",
    "import numpy as np\n",
    "import os\n",
    "import pickle\n"
   ]
  },
  {
   "cell_type": "code",
   "execution_count": 2,
   "metadata": {},
   "outputs": [],
   "source": [
    "experiment_name = 'Experiment1'\n",
    "path_results = './' + experiment_name\n",
    "\n"
   ]
  },
  {
   "cell_type": "code",
   "execution_count": 3,
   "metadata": {},
   "outputs": [],
   "source": [
    "with open(os.path.join(path_results +'.pkl'), 'rb') as fp:\n",
    "    results = pickle.load(fp)"
   ]
  },
  {
   "cell_type": "code",
   "execution_count": 4,
   "metadata": {},
   "outputs": [
    {
     "data": {
      "text/plain": [
       "dict_keys(['predicted_task', 'new_task', 'detector_train_losses', 'detector_val_losses', 'y_true_detector', 'y_pred_detector', 'r2_test_detector', 'r2_test_hnet', 'hnet_train_losses', 'hnet_val_losses'])"
      ]
     },
     "execution_count": 4,
     "metadata": {},
     "output_type": "execute_result"
    }
   ],
   "source": [
    "results['Data_0_1'].keys()"
   ]
  },
  {
   "cell_type": "code",
   "execution_count": 12,
   "metadata": {},
   "outputs": [],
   "source": [
    "dataset = []\n",
    "r2_test_detector = []\n",
    "r2_test_hnet = []\n",
    "y_true_detector = []\n",
    "y_pred_detector = []\n",
    "y_true_hnet = []\n",
    "y_pred_hnet = []\n",
    "\n",
    "with open(os.path.join(path_results +'.pkl'), 'rb') as fp:\n",
    "    results = pickle.load(fp)\n",
    "    for set in results.keys():\n",
    "        dataset.append(set)\n",
    "        r2_test_detector.append(results[set]['r2_test_detector'])\n",
    "        #y_true_hnet.append([results[set]['y_true_hnet']])\n",
    "        #y_pred_hnet.append([results[set]['y_pred_hnet']])\n",
    "        r2_test_hnet.append(results[set]['r2_test_hnet'])\n",
    "\n",
    "\n",
    "\n",
    "df = pd.DataFrame({'Dataset':dataset,\n",
    "                    #'Y_t_detector': y_true_detector,\n",
    "                    #'Y_p_detector':y_pred_detector,  \n",
    "                    'R2_Detector':r2_test_detector,\n",
    "                    #'Y_t_hnet': y_true_hnet,\n",
    "                    #'Y_p_hnet':y_pred_hnet,  \n",
    "                    'R2_hnet':r2_test_hnet})\n",
    "\n"
   ]
  },
  {
   "cell_type": "code",
   "execution_count": 13,
   "metadata": {},
   "outputs": [
    {
     "data": {
      "text/html": [
       "<div>\n",
       "<style scoped>\n",
       "    .dataframe tbody tr th:only-of-type {\n",
       "        vertical-align: middle;\n",
       "    }\n",
       "\n",
       "    .dataframe tbody tr th {\n",
       "        vertical-align: top;\n",
       "    }\n",
       "\n",
       "    .dataframe thead th {\n",
       "        text-align: right;\n",
       "    }\n",
       "</style>\n",
       "<table border=\"1\" class=\"dataframe\">\n",
       "  <thead>\n",
       "    <tr style=\"text-align: right;\">\n",
       "      <th></th>\n",
       "      <th>Dataset</th>\n",
       "      <th>R2_Detector</th>\n",
       "      <th>R2_hnet</th>\n",
       "    </tr>\n",
       "  </thead>\n",
       "  <tbody>\n",
       "    <tr>\n",
       "      <th>0</th>\n",
       "      <td>Data_0_1</td>\n",
       "      <td>0.871277</td>\n",
       "      <td>0.721022</td>\n",
       "    </tr>\n",
       "    <tr>\n",
       "      <th>1</th>\n",
       "      <td>Data_0_2</td>\n",
       "      <td>0.867776</td>\n",
       "      <td>0.732665</td>\n",
       "    </tr>\n",
       "    <tr>\n",
       "      <th>2</th>\n",
       "      <td>Data_1_1</td>\n",
       "      <td>0.865654</td>\n",
       "      <td>0.772275</td>\n",
       "    </tr>\n",
       "    <tr>\n",
       "      <th>3</th>\n",
       "      <td>Data_1_2</td>\n",
       "      <td>0.862068</td>\n",
       "      <td>0.789046</td>\n",
       "    </tr>\n",
       "    <tr>\n",
       "      <th>4</th>\n",
       "      <td>Data_2_1</td>\n",
       "      <td>0.866027</td>\n",
       "      <td>0.760410</td>\n",
       "    </tr>\n",
       "    <tr>\n",
       "      <th>5</th>\n",
       "      <td>Data_2_2</td>\n",
       "      <td>0.842303</td>\n",
       "      <td>0.769247</td>\n",
       "    </tr>\n",
       "    <tr>\n",
       "      <th>6</th>\n",
       "      <td>Data_3_1</td>\n",
       "      <td>0.854831</td>\n",
       "      <td>0.700134</td>\n",
       "    </tr>\n",
       "    <tr>\n",
       "      <th>7</th>\n",
       "      <td>Data_3_2</td>\n",
       "      <td>0.840283</td>\n",
       "      <td>0.718778</td>\n",
       "    </tr>\n",
       "    <tr>\n",
       "      <th>8</th>\n",
       "      <td>Data_4_1</td>\n",
       "      <td>0.847923</td>\n",
       "      <td>0.768871</td>\n",
       "    </tr>\n",
       "    <tr>\n",
       "      <th>9</th>\n",
       "      <td>Data_4_2</td>\n",
       "      <td>0.845003</td>\n",
       "      <td>0.785914</td>\n",
       "    </tr>\n",
       "  </tbody>\n",
       "</table>\n",
       "</div>"
      ],
      "text/plain": [
       "    Dataset  R2_Detector   R2_hnet\n",
       "0  Data_0_1     0.871277  0.721022\n",
       "1  Data_0_2     0.867776  0.732665\n",
       "2  Data_1_1     0.865654  0.772275\n",
       "3  Data_1_2     0.862068  0.789046\n",
       "4  Data_2_1     0.866027  0.760410\n",
       "5  Data_2_2     0.842303  0.769247\n",
       "6  Data_3_1     0.854831  0.700134\n",
       "7  Data_3_2     0.840283  0.718778\n",
       "8  Data_4_1     0.847923  0.768871\n",
       "9  Data_4_2     0.845003  0.785914"
      ]
     },
     "execution_count": 13,
     "metadata": {},
     "output_type": "execute_result"
    }
   ],
   "source": [
    "df"
   ]
  },
  {
   "cell_type": "markdown",
   "metadata": {},
   "source": [
    "# for each hnet trained I need to check the r2 for all datasets seen previously on that specific one to check the continual learning."
   ]
  },
  {
   "cell_type": "code",
   "execution_count": null,
   "metadata": {},
   "outputs": [],
   "source": []
  }
 ],
 "metadata": {
  "kernelspec": {
   "display_name": "sinthlab",
   "language": "python",
   "name": "python3"
  },
  "language_info": {
   "codemirror_mode": {
    "name": "ipython",
    "version": 3
   },
   "file_extension": ".py",
   "mimetype": "text/x-python",
   "name": "python",
   "nbconvert_exporter": "python",
   "pygments_lexer": "ipython3",
   "version": "3.8.19"
  }
 },
 "nbformat": 4,
 "nbformat_minor": 2
}
