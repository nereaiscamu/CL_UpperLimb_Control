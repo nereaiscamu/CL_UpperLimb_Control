{
 "cells": [
  {
   "cell_type": "code",
   "execution_count": 1,
   "metadata": {},
   "outputs": [
    {
     "name": "stderr",
     "output_type": "stream",
     "text": [
      "c:\\Users\\nerea\\anaconda3\\envs\\sinthlab\\Lib\\site-packages\\tqdm\\auto.py:21: TqdmWarning: IProgress not found. Please update jupyter and ipywidgets. See https://ipywidgets.readthedocs.io/en/stable/user_install.html\n",
      "  from .autonotebook import tqdm as notebook_tqdm\n"
     ]
    }
   ],
   "source": [
    "import os\n",
    "import numpy as np\n",
    "import pandas as pd\n",
    "import xarray as xr\n",
    "\n",
    "from sklearn.metrics import *\n",
    "from copy import deepcopy\n",
    "import matplotlib.pyplot as plt\n",
    "import math\n",
    "\n",
    "\n",
    "from tqdm.auto import tqdm\n",
    "import seaborn as sns\n",
    "\n",
    "from src.helpers import *\n",
    "from src.visualize import *\n",
    "\n",
    "import torch\n",
    "import torch.nn as nn\n",
    "import torch.nn.functional as F\n",
    "import torch.optim as optim\n",
    "from torch.optim import lr_scheduler\n",
    "import torch.utils.data as data\n",
    "from torch.utils.data import Dataset\n",
    "import pickle\n",
    "\n",
    "import optuna\n",
    "from src.optuna_functions import * \n",
    "\n",
    "\n",
    "device = torch.device('cpu') #suposed to be cuda\n",
    "dtype = torch.float32\n",
    "\n",
    "import sys\n",
    "sys.path.append(\"c:\\\\Users\\\\nerea\\\\OneDrive\\\\Documentos\\\\EPFL_MASTER\\\\PDM\\\\Project\\\\PyalData\")\n",
    "# to change for the actual path where PyalData has been cloned"
   ]
  },
  {
   "cell_type": "code",
   "execution_count": 2,
   "metadata": {},
   "outputs": [],
   "source": [
    "type = 'baseline_small'"
   ]
  },
  {
   "cell_type": "code",
   "execution_count": 3,
   "metadata": {},
   "outputs": [
    {
     "name": "stdout",
     "output_type": "stream",
     "text": [
      "Test trials  4\n",
      "Val trials 3\n",
      "We are testing the optimization method on fold  0\n"
     ]
    }
   ],
   "source": [
    "path_to_data = './Data/Processed_Data'\n",
    "if type == 'baseline':\n",
    "        baseline_data = os.path.join(path_to_data, 'Tidy_Sansa_11_04.pkl')\n",
    "\n",
    "        with open(baseline_data, 'rb') as fp:\n",
    "                df_baseline = pickle.load(fp)\n",
    "\n",
    "\n",
    "        X_train, y_train, X_val, y_val, X_test,\\\n",
    "        y_test, info_train, info_val, info_test = \\\n",
    "        train_test_split(df_baseline, train_variable = 'both_rates', \\\n",
    "                        target_variable = 'target_pos', num_folds = 5)\n",
    "if type == 'baseline_small':\n",
    "        baseline_data = os.path.join(path_to_data, 'Tidy_Sansa_13_04.pkl')\n",
    "\n",
    "        with open(baseline_data, 'rb') as fp:\n",
    "                df = pickle.load(fp)\n",
    "\n",
    "        df_baseline = df.loc[df.type == 'BASELINE'].reset_index()\n",
    "\n",
    "        X_train, y_train, X_val, y_val, X_test,\\\n",
    "        y_test, info_train, info_val, info_test = \\\n",
    "        train_test_split(df_baseline, train_variable = 'both_rates', \\\n",
    "                        target_variable = 'target_pos', num_folds = 5)\n",
    "elif type == 'stim':\n",
    "        stim_data = os.path.join(path_to_data, 'Tidy_Sansa_13_04.pkl')\n",
    "        with open(stim_data, 'rb') as fp:\n",
    "                df = pickle.load(fp)\n",
    "        df_stim = df.loc[df.type == 'TONIC'].reset_index()\n",
    "\n",
    "        X_train, y_train, X_val, y_val, X_test,\\\n",
    "        y_test, info_train, info_val, info_test = \\\n",
    "        train_test_split(df_stim, train_variable = 'both_rates', \\\n",
    "                        target_variable = 'target_pos', num_folds = 5)\n",
    "\n",
    "# Test one of the folds first\n",
    "fold_num = 'fold0'\n",
    "fold = 0\n",
    "\n",
    "print('We are testing the optimization method on fold ', fold)\n",
    "\n",
    "\n",
    "X_train = X_train[fold_num]\n",
    "X_val = X_val[fold_num]\n",
    "X_test = X_test[fold_num]\n",
    "y_test = y_test[fold_num]\n",
    "y_train = y_train[fold_num]\n",
    "y_val = y_val[fold_num]\n",
    "\n",
    "\n",
    "# Specify that we want our tensors on the GPU and in float32\n",
    "device = torch.device('cpu') #suposed to be cuda\n",
    "dtype = torch.float32\n",
    "path_to_models = './Models'\n",
    "\n",
    "num_dim_output = y_train.shape[1]\n",
    "num_features = X_train.shape[1]\n",
    "\n",
    "seq_length = 75\n",
    "\n",
    "# Reshape x_train to match the number of columns in the model's input layer\n",
    "xx_train = X_train.reshape(X_train.shape[0] // seq_length, seq_length, X_train.shape[1])  \n",
    "# Reshape y_train to match the number of neurons in the model's output layer\n",
    "yy_train = y_train.reshape(y_train.shape[0] // seq_length, seq_length, y_train.shape[1])  \n",
    "\n",
    "xx_val = X_val.reshape(X_val.shape[0] // seq_length, seq_length, X_val.shape[1])  \n",
    "yy_val = y_val.reshape(y_val.shape[0] // seq_length, seq_length, y_val.shape[1])  \n",
    "\n",
    "xx_test = X_test.reshape(X_test.shape[0] // seq_length, seq_length, X_test.shape[1])  \n",
    "yy_test = y_test.reshape(y_test.shape[0] // seq_length, seq_length, y_test.shape[1])  \n",
    "\n",
    "seed = 42\n",
    "torch.manual_seed(seed)\n",
    "\n",
    "Reg = globals().get(Regularizer_LSTM)\n"
   ]
  },
  {
   "cell_type": "code",
   "execution_count": 4,
   "metadata": {},
   "outputs": [],
   "source": [
    "# Fit the LSTM model\n",
    "def train_model_optuna(trial):\n",
    "    \n",
    "    X = xx_train\n",
    "    Y = yy_train\n",
    "    X_val = xx_val\n",
    "    Y_val = yy_val\n",
    "\n",
    "    num_epochs= 1000\n",
    "    early_stop = 5\n",
    "\n",
    "    model = CausalTemporalLSTM_Optuna(trial, num_features= num_features, \n",
    "                out_dims = num_dim_output).to(device)\n",
    "    \n",
    "    # Set up the optimizer with the specified learning rate\n",
    "    #optimizer = optim.Adam(model.parameters(), lr=lr)\n",
    "    optimizer_name = 'Adam'\n",
    "    lr = trial.suggest_float('lr', 1e-5, 1e-2, log = True)\n",
    "    optimizer = getattr(optim, optimizer_name)(model.parameters(), lr = lr)\n",
    "\n",
    "    lr_step_size = 10 # trial.suggest_int('lr_step_size', 5, 15)\n",
    "    lr_gamma = trial.suggest_float('lr_gamma', 1, 1.5)\n",
    "    # Set up a learning rate scheduler\n",
    "    scheduler = lr_scheduler.StepLR(optimizer, \n",
    "                                    step_size=lr_step_size, \n",
    "                                    gamma=lr_gamma)\n",
    "        \n",
    "    # Keep track of the best model's parameters and loss\n",
    "    best_model_wts = deepcopy(model.state_dict())\n",
    "    best_loss = 1e8\n",
    "\n",
    "    # Enable anomaly detection for debugging\n",
    "    torch.autograd.set_detect_anomaly(True)\n",
    "\n",
    "    # Track the train and validation loss\n",
    "    train_losses = []\n",
    "    val_losses = []\n",
    "    # Counters for early stopping\n",
    "    not_increased = 0\n",
    "    end_train = 0\n",
    "    \n",
    "    # Reshape data for the LSTM\n",
    "    seq_length_LSTM = trial.suggest_int('seq_length_LSTM', 5, 20)\n",
    "    train_dataset = SequenceDataset(Y,X,seq_length_LSTM)\n",
    "    val_dataset = SequenceDataset(Y_val,X_val,seq_length_LSTM)\n",
    "\n",
    "\n",
    "    batch_size_train = trial.suggest_int('batch_size_train', 20, 50)\n",
    "    batch_size_val = trial.suggest_int('batch_size_val',20, 50)\n",
    "    loader_train = data.DataLoader(train_dataset, batch_size=batch_size_train, shuffle=True)\n",
    "    loader_val = data.DataLoader(val_dataset, batch_size=batch_size_val, shuffle=True)\n",
    "\n",
    "    # hyperparameter for huber loss\n",
    "    delta = trial.suggest_int('huber_delta', 5, 10) #was 8 before\n",
    "\n",
    "    # hyperparameter for regularizer\n",
    "    alpha = trial.suggest_float('alpha_reg', 1e-7, 1e-3, log = True) # was 1e-5 before\n",
    "    l1_ratio =trial.suggest_float('l1_ratio_reg', 0.2, 0.8) #was 0.5 before\n",
    "\n",
    "    # Loop through epochs\n",
    "    for epoch in np.arange(num_epochs):\n",
    "        for phase in ['train', 'val']:\n",
    "            # set model to train/validation as appropriate\n",
    "            if phase == 'train':\n",
    "                model.train()\n",
    "                loader = loader_train\n",
    "            else:\n",
    "                model.eval()\n",
    "                loader = loader_val\n",
    "\n",
    "            # Initialize variables to track loss and batch size\n",
    "            running_loss = 0\n",
    "            running_size = 0        \n",
    "\n",
    "            # Iterate over batches in the loader\n",
    "            for X_, y_ in loader:\n",
    "                #X_ = X_.to('cuda')\n",
    "                #y_ = y_.to('cuda')\n",
    "                if phase == \"train\":\n",
    "                    with torch.set_grad_enabled(True):\n",
    "                        optimizer.zero_grad()\n",
    "\n",
    "                        output_t = model(X_)\n",
    "                        output_t = torch.squeeze(output_t)\n",
    "\n",
    "\n",
    "                        loss_t = huber_loss(output_t, y_, delta)\n",
    "                        \n",
    "                        # Add regularization to the loss in the training phase\n",
    "                        loss_t += Regularizer_LSTM(model, l1_ratio, alpha)\n",
    "\n",
    "                        # Compute gradients and perform an optimization step\n",
    "                        loss_t.backward()\n",
    "                        optimizer.step()\n",
    "                else:\n",
    "                    # just compute the loss in validation phase\n",
    "                    output_t = model(X_)\n",
    "                    output_t = torch.squeeze(output_t)\n",
    "\n",
    "                    loss_t = huber_loss(output_t, y_, delta)\n",
    "\n",
    "                # Ensure the loss is finite\n",
    "                assert torch.isfinite(loss_t)\n",
    "                running_loss += loss_t.item()\n",
    "                running_size += 1\n",
    "\n",
    "            # compute the train/validation loss and update the best\n",
    "            # model parameters if this is the lowest validation loss yet\n",
    "            running_loss /= running_size\n",
    "            if phase == \"train\":\n",
    "                train_losses.append(running_loss)\n",
    "            else:\n",
    "                val_losses.append(running_loss)\n",
    "                \n",
    "                # Update best model parameters if validation loss improves\n",
    "                if running_loss < best_loss:\n",
    "                    best_loss = running_loss\n",
    "                    best_model_wts = deepcopy(model.state_dict())\n",
    "                    not_increased = 0\n",
    "                else:\n",
    "                    # Perform early stopping if validation loss doesn't improve\n",
    "                    if epoch > 10:\n",
    "                        not_increased += 1\n",
    "                        # print('Not increased : {}/5'.format(not_increased))\n",
    "                        if not_increased == early_stop:\n",
    "                            print('Decrease LR')\n",
    "                            for g in optimizer.param_groups:\n",
    "                                g['lr'] = g['lr'] / 2\n",
    "                            not_increased = 0\n",
    "                            end_train += 1\n",
    "                        \n",
    "                        if end_train == 2:\n",
    "                            model.load_state_dict(best_model_wts)\n",
    "                            y_true_val, y_pred_val = reshape_to_eval(xx_val,yy_val, model)\n",
    "                            ev_val = explained_variance_score(y_true_val, y_pred_val)\n",
    "                            return ev_val  # here change to not return a list but a single value for the trial to analyze\n",
    "                        \n",
    "\n",
    "        # Update learning rate with the scheduler\n",
    "        scheduler.step()\n",
    "        print(\"Epoch {:03} Train {:.4f} Val {:.4f}\".format(epoch, train_losses[-1], val_losses[-1]))\n",
    "\n",
    "\n",
    "        y_true_val_epoch, y_pred_val_epoch = reshape_to_eval(xx_val,yy_val, model)\n",
    "        ev_val_epoch = explained_variance_score(y_true_val_epoch, y_pred_val_epoch)\n",
    "        trial.report(ev_val_epoch, epoch)\n",
    "\n",
    "        if trial.should_prune():\n",
    "            raise optuna.exceptions.TrialPruned()\n",
    "        \n",
    "    # load best model weights\n",
    "    model.load_state_dict(best_model_wts)\n",
    "    \n",
    "    y_true_val, y_pred_val = reshape_to_eval(xx_val,yy_val, model)\n",
    "    ev_val = explained_variance_score(y_true_val, y_pred_val)\n",
    "\n",
    "    return ev_val\n"
   ]
  },
  {
   "cell_type": "code",
   "execution_count": 5,
   "metadata": {},
   "outputs": [],
   "source": [
    "def reshape_to_eval(x,y, model):\n",
    "    to_t_eval =  lambda array: torch.tensor(array, device='cpu', dtype=dtype)  \n",
    "    x = to_t_eval(x) \n",
    "    y = to_t_eval(y)\n",
    "    y_pred = model(x)\n",
    "    y_array = y.detach().cpu().numpy()\n",
    "    y_pred_array = y_pred.detach().cpu().numpy()\n",
    "\n",
    "    # Reshape tensors to 2D arrays (flatten the batch and sequence dimensions)\n",
    "    y_pred_2D = y_pred_array.reshape(-1, y_pred_array.shape[-1])\n",
    "    y_true_2D = y_array.reshape(-1, y_array.shape[-1])\n",
    "    \n",
    "    return y_true_2D, y_pred_2D"
   ]
  },
  {
   "cell_type": "code",
   "execution_count": 6,
   "metadata": {},
   "outputs": [
    {
     "name": "stderr",
     "output_type": "stream",
     "text": [
      "[I 2024-04-11 11:20:38,747] A new study created in memory with name: no-name-049ee5d8-a443-4910-8527-e21ed2432d16\n"
     ]
    },
    {
     "name": "stdout",
     "output_type": "stream",
     "text": [
      "Epoch 000 Train 0.0366 Val 0.0474\n",
      "Epoch 001 Train 0.0358 Val 0.0466\n",
      "Epoch 002 Train 0.0352 Val 0.0460\n",
      "Epoch 003 Train 0.0345 Val 0.0454\n",
      "Epoch 004 Train 0.0335 Val 0.0447\n",
      "Epoch 005 Train 0.0328 Val 0.0440\n",
      "Epoch 006 Train 0.0318 Val 0.0431\n",
      "Epoch 007 Train 0.0308 Val 0.0420\n",
      "Epoch 008 Train 0.0302 Val 0.0410\n",
      "Epoch 009 Train 0.0292 Val 0.0400\n",
      "Epoch 010 Train 0.0279 Val 0.0384\n",
      "Epoch 011 Train 0.0271 Val 0.0365\n",
      "Epoch 012 Train 0.0256 Val 0.0350\n",
      "Epoch 013 Train 0.0248 Val 0.0336\n",
      "Epoch 014 Train 0.0242 Val 0.0325\n",
      "Epoch 015 Train 0.0233 Val 0.0313\n",
      "Epoch 016 Train 0.0225 Val 0.0302\n",
      "Epoch 017 Train 0.0219 Val 0.0296\n",
      "Epoch 018 Train 0.0215 Val 0.0290\n",
      "Epoch 019 Train 0.0210 Val 0.0284\n",
      "Epoch 020 Train 0.0207 Val 0.0279\n",
      "Epoch 021 Train 0.0202 Val 0.0271\n",
      "Epoch 022 Train 0.0198 Val 0.0264\n",
      "Epoch 023 Train 0.0191 Val 0.0259\n",
      "Epoch 024 Train 0.0190 Val 0.0255\n",
      "Epoch 025 Train 0.0183 Val 0.0250\n",
      "Epoch 026 Train 0.0178 Val 0.0248\n",
      "Epoch 027 Train 0.0176 Val 0.0246\n",
      "Epoch 028 Train 0.0175 Val 0.0241\n",
      "Epoch 029 Train 0.0170 Val 0.0238\n",
      "Epoch 030 Train 0.0167 Val 0.0236\n",
      "Epoch 031 Train 0.0164 Val 0.0234\n",
      "Epoch 032 Train 0.0163 Val 0.0227\n",
      "Epoch 033 Train 0.0157 Val 0.0225\n",
      "Epoch 034 Train 0.0156 Val 0.0223\n",
      "Epoch 035 Train 0.0152 Val 0.0219\n",
      "Epoch 036 Train 0.0151 Val 0.0220\n",
      "Epoch 037 Train 0.0146 Val 0.0215\n",
      "Epoch 038 Train 0.0145 Val 0.0210\n",
      "Epoch 039 Train 0.0143 Val 0.0210\n",
      "Epoch 040 Train 0.0141 Val 0.0210\n",
      "Epoch 041 Train 0.0139 Val 0.0211\n",
      "Epoch 042 Train 0.0137 Val 0.0201\n",
      "Epoch 043 Train 0.0133 Val 0.0195\n",
      "Epoch 044 Train 0.0134 Val 0.0199\n",
      "Epoch 045 Train 0.0132 Val 0.0205\n",
      "Epoch 046 Train 0.0130 Val 0.0204\n",
      "Epoch 047 Train 0.0128 Val 0.0196\n",
      "Decrease LR\n",
      "Epoch 048 Train 0.0128 Val 0.0204\n",
      "Epoch 049 Train 0.0127 Val 0.0199\n",
      "Epoch 050 Train 0.0125 Val 0.0197\n",
      "Epoch 051 Train 0.0124 Val 0.0196\n",
      "Epoch 052 Train 0.0124 Val 0.0204\n",
      "Epoch 053 Train 0.0121 Val 0.0195\n",
      "Epoch 054 Train 0.0123 Val 0.0200\n",
      "Epoch 055 Train 0.0120 Val 0.0201\n",
      "Epoch 056 Train 0.0120 Val 0.0192\n",
      "Epoch 057 Train 0.0121 Val 0.0203\n",
      "Epoch 058 Train 0.0120 Val 0.0195\n",
      "Epoch 059 Train 0.0119 Val 0.0205\n",
      "Epoch 060 Train 0.0117 Val 0.0195\n"
     ]
    },
    {
     "name": "stderr",
     "output_type": "stream",
     "text": [
      "[I 2024-04-11 11:22:14,798] Trial 0 finished with value: 0.557564357916514 and parameters: {'n_hidden_units': 27, 'num_layers': 2, 'input_size_LSTM': 42, 'dropout_1': 0.10860994498666071, 'dropout_2': 0.890047655818418, 'lr': 5.993393416205095e-05, 'lr_gamma': 1.3369191702379997, 'seq_length_LSTM': 9, 'batch_size_train': 26, 'batch_size_val': 47, 'huber_delta': 9, 'alpha_reg': 1.3167292982528577e-07, 'l1_ratio_reg': 0.7591944148023158}. Best is trial 0 with value: 0.557564357916514.\n"
     ]
    },
    {
     "name": "stdout",
     "output_type": "stream",
     "text": [
      "Decrease LR\n",
      "Epoch 000 Train 0.0445 Val 0.0531\n",
      "Epoch 001 Train 0.0439 Val 0.0533\n",
      "Epoch 002 Train 0.0432 Val 0.0510\n",
      "Epoch 003 Train 0.0427 Val 0.0506\n",
      "Epoch 004 Train 0.0419 Val 0.0497\n",
      "Epoch 005 Train 0.0407 Val 0.0482\n",
      "Epoch 006 Train 0.0395 Val 0.0466\n",
      "Epoch 007 Train 0.0374 Val 0.0432\n",
      "Epoch 008 Train 0.0349 Val 0.0399\n",
      "Epoch 009 Train 0.0321 Val 0.0373\n",
      "Epoch 010 Train 0.0291 Val 0.0343\n",
      "Epoch 011 Train 0.0268 Val 0.0326\n",
      "Epoch 012 Train 0.0250 Val 0.0309\n",
      "Epoch 013 Train 0.0234 Val 0.0298\n",
      "Epoch 014 Train 0.0223 Val 0.0282\n",
      "Epoch 015 Train 0.0213 Val 0.0274\n",
      "Epoch 016 Train 0.0207 Val 0.0265\n",
      "Epoch 017 Train 0.0201 Val 0.0263\n",
      "Epoch 018 Train 0.0197 Val 0.0261\n",
      "Epoch 019 Train 0.0192 Val 0.0249\n",
      "Epoch 020 Train 0.0190 Val 0.0248\n",
      "Epoch 021 Train 0.0185 Val 0.0245\n",
      "Epoch 022 Train 0.0183 Val 0.0246\n",
      "Epoch 023 Train 0.0178 Val 0.0240\n",
      "Epoch 024 Train 0.0175 Val 0.0242\n",
      "Epoch 025 Train 0.0174 Val 0.0241\n",
      "Epoch 026 Train 0.0171 Val 0.0233\n",
      "Epoch 027 Train 0.0169 Val 0.0231\n",
      "Epoch 028 Train 0.0167 Val 0.0224\n",
      "Epoch 029 Train 0.0166 Val 0.0226\n",
      "Epoch 030 Train 0.0164 Val 0.0221\n",
      "Epoch 031 Train 0.0162 Val 0.0219\n",
      "Epoch 032 Train 0.0159 Val 0.0220\n",
      "Epoch 033 Train 0.0157 Val 0.0213\n",
      "Epoch 034 Train 0.0155 Val 0.0212\n",
      "Epoch 035 Train 0.0152 Val 0.0215\n",
      "Epoch 036 Train 0.0150 Val 0.0206\n",
      "Epoch 037 Train 0.0147 Val 0.0203\n",
      "Epoch 038 Train 0.0143 Val 0.0199\n",
      "Epoch 039 Train 0.0141 Val 0.0199\n",
      "Epoch 040 Train 0.0138 Val 0.0199\n",
      "Epoch 041 Train 0.0134 Val 0.0195\n",
      "Epoch 042 Train 0.0132 Val 0.0195\n",
      "Epoch 043 Train 0.0130 Val 0.0197\n",
      "Epoch 044 Train 0.0127 Val 0.0196\n",
      "Epoch 045 Train 0.0125 Val 0.0204\n",
      "Decrease LR\n",
      "Epoch 046 Train 0.0123 Val 0.0205\n",
      "Epoch 047 Train 0.0123 Val 0.0207\n",
      "Epoch 048 Train 0.0121 Val 0.0205\n",
      "Epoch 049 Train 0.0121 Val 0.0217\n",
      "Epoch 050 Train 0.0120 Val 0.0208\n"
     ]
    },
    {
     "name": "stderr",
     "output_type": "stream",
     "text": [
      "[I 2024-04-11 11:23:43,921] Trial 1 finished with value: 0.5837963223457336 and parameters: {'n_hidden_units': 40, 'num_layers': 2, 'input_size_LSTM': 22, 'dropout_1': 0.5919414109816071, 'dropout_2': 0.3992216410596555, 'lr': 4.7842834520663247e-05, 'lr_gamma': 1.1973038927346897, 'seq_length_LSTM': 17, 'batch_size_train': 30, 'batch_size_val': 24, 'huber_delta': 6, 'alpha_reg': 1.4879497663262762e-05, 'l1_ratio_reg': 0.7886856630371724}. Best is trial 1 with value: 0.5837963223457336.\n"
     ]
    },
    {
     "name": "stdout",
     "output_type": "stream",
     "text": [
      "Decrease LR\n",
      "Epoch 000 Train 0.0530 Val 0.0493\n",
      "Epoch 001 Train 0.0529 Val 0.0490\n",
      "Epoch 002 Train 0.0525 Val 0.0490\n",
      "Epoch 003 Train 0.0524 Val 0.0487\n",
      "Epoch 004 Train 0.0522 Val 0.0482\n",
      "Epoch 005 Train 0.0522 Val 0.0483\n",
      "Epoch 006 Train 0.0524 Val 0.0481\n",
      "Epoch 007 Train 0.0516 Val 0.0479\n",
      "Epoch 008 Train 0.0511 Val 0.0475\n",
      "Epoch 009 Train 0.0511 Val 0.0468\n",
      "Epoch 010 Train 0.0502 Val 0.0460\n",
      "Epoch 011 Train 0.0493 Val 0.0454\n",
      "Epoch 012 Train 0.0483 Val 0.0438\n",
      "Epoch 013 Train 0.0465 Val 0.0420\n",
      "Epoch 014 Train 0.0450 Val 0.0406\n",
      "Epoch 015 Train 0.0433 Val 0.0391\n",
      "Epoch 016 Train 0.0419 Val 0.0379\n",
      "Epoch 017 Train 0.0405 Val 0.0372\n",
      "Epoch 018 Train 0.0398 Val 0.0361\n",
      "Epoch 019 Train 0.0386 Val 0.0355\n",
      "Epoch 020 Train 0.0383 Val 0.0342\n",
      "Epoch 021 Train 0.0373 Val 0.0334\n",
      "Epoch 022 Train 0.0366 Val 0.0322\n",
      "Epoch 023 Train 0.0357 Val 0.0317\n",
      "Epoch 024 Train 0.0355 Val 0.0313\n",
      "Epoch 025 Train 0.0349 Val 0.0306\n",
      "Epoch 026 Train 0.0345 Val 0.0301\n",
      "Epoch 027 Train 0.0341 Val 0.0296\n",
      "Epoch 028 Train 0.0337 Val 0.0291\n",
      "Epoch 029 Train 0.0336 Val 0.0286\n",
      "Epoch 030 Train 0.0330 Val 0.0282\n",
      "Epoch 031 Train 0.0325 Val 0.0276\n",
      "Epoch 032 Train 0.0321 Val 0.0274\n",
      "Epoch 033 Train 0.0319 Val 0.0273\n",
      "Epoch 034 Train 0.0315 Val 0.0272\n",
      "Epoch 035 Train 0.0313 Val 0.0266\n",
      "Epoch 036 Train 0.0312 Val 0.0262\n",
      "Epoch 037 Train 0.0309 Val 0.0258\n",
      "Epoch 038 Train 0.0306 Val 0.0257\n",
      "Epoch 039 Train 0.0307 Val 0.0258\n",
      "Epoch 040 Train 0.0306 Val 0.0250\n",
      "Epoch 041 Train 0.0301 Val 0.0248\n",
      "Epoch 042 Train 0.0299 Val 0.0249\n",
      "Epoch 043 Train 0.0295 Val 0.0246\n",
      "Epoch 044 Train 0.0298 Val 0.0244\n",
      "Epoch 045 Train 0.0293 Val 0.0244\n",
      "Epoch 046 Train 0.0292 Val 0.0241\n",
      "Epoch 047 Train 0.0291 Val 0.0240\n",
      "Epoch 048 Train 0.0288 Val 0.0238\n",
      "Epoch 049 Train 0.0287 Val 0.0239\n",
      "Epoch 050 Train 0.0285 Val 0.0236\n",
      "Epoch 051 Train 0.0283 Val 0.0234\n",
      "Epoch 052 Train 0.0283 Val 0.0235\n",
      "Epoch 053 Train 0.0280 Val 0.0234\n",
      "Epoch 054 Train 0.0279 Val 0.0235\n",
      "Epoch 055 Train 0.0279 Val 0.0235\n",
      "Decrease LR\n",
      "Epoch 056 Train 0.0277 Val 0.0234\n",
      "Epoch 057 Train 0.0278 Val 0.0231\n",
      "Epoch 058 Train 0.0274 Val 0.0232\n",
      "Epoch 059 Train 0.0274 Val 0.0227\n",
      "Epoch 060 Train 0.0273 Val 0.0227\n",
      "Epoch 061 Train 0.0274 Val 0.0228\n",
      "Epoch 062 Train 0.0271 Val 0.0224\n",
      "Epoch 063 Train 0.0271 Val 0.0224\n",
      "Epoch 064 Train 0.0270 Val 0.0226\n",
      "Epoch 065 Train 0.0271 Val 0.0224\n",
      "Epoch 066 Train 0.0273 Val 0.0224\n",
      "Epoch 067 Train 0.0269 Val 0.0225\n",
      "Epoch 068 Train 0.0269 Val 0.0226\n",
      "Epoch 069 Train 0.0268 Val 0.0226\n",
      "Epoch 070 Train 0.0269 Val 0.0225\n"
     ]
    },
    {
     "name": "stderr",
     "output_type": "stream",
     "text": [
      "[I 2024-04-11 11:25:40,001] Trial 2 finished with value: 0.5733927885691324 and parameters: {'n_hidden_units': 51, 'num_layers': 4, 'input_size_LSTM': 42, 'dropout_1': 0.41161327052085384, 'dropout_2': 0.020412675254053304, 'lr': 2.841289623182667e-05, 'lr_gamma': 1.1312666824831175, 'seq_length_LSTM': 11, 'batch_size_train': 44, 'batch_size_val': 29, 'huber_delta': 7, 'alpha_reg': 3.642062077601959e-05, 'l1_ratio_reg': 0.45743899544565647}. Best is trial 1 with value: 0.5837963223457336.\n"
     ]
    },
    {
     "name": "stdout",
     "output_type": "stream",
     "text": [
      "Decrease LR\n",
      "Epoch 000 Train 0.0356 Val 0.0483\n",
      "Epoch 001 Train 0.0337 Val 0.0453\n",
      "Epoch 002 Train 0.0290 Val 0.0390\n",
      "Epoch 003 Train 0.0236 Val 0.0314\n",
      "Epoch 004 Train 0.0199 Val 0.0283\n",
      "Epoch 005 Train 0.0174 Val 0.0271\n",
      "Epoch 006 Train 0.0158 Val 0.0253\n",
      "Epoch 007 Train 0.0143 Val 0.0230\n",
      "Epoch 008 Train 0.0138 Val 0.0225\n",
      "Epoch 009 Train 0.0130 Val 0.0221\n",
      "Epoch 010 Train 0.0121 Val 0.0215\n",
      "Epoch 011 Train 0.0114 Val 0.0210\n",
      "Epoch 012 Train 0.0109 Val 0.0205\n",
      "Epoch 013 Train 0.0108 Val 0.0201\n",
      "Epoch 014 Train 0.0104 Val 0.0203\n",
      "Epoch 015 Train 0.0100 Val 0.0196\n",
      "Epoch 016 Train 0.0099 Val 0.0196\n",
      "Epoch 017 Train 0.0096 Val 0.0194\n",
      "Epoch 018 Train 0.0094 Val 0.0193\n",
      "Epoch 019 Train 0.0092 Val 0.0190\n",
      "Epoch 020 Train 0.0087 Val 0.0190\n",
      "Epoch 021 Train 0.0084 Val 0.0197\n",
      "Epoch 022 Train 0.0080 Val 0.0210\n",
      "Epoch 023 Train 0.0078 Val 0.0221\n",
      "Decrease LR\n",
      "Epoch 024 Train 0.0075 Val 0.0223\n",
      "Epoch 025 Train 0.0071 Val 0.0219\n",
      "Epoch 026 Train 0.0070 Val 0.0212\n",
      "Epoch 027 Train 0.0069 Val 0.0220\n",
      "Epoch 028 Train 0.0068 Val 0.0227\n"
     ]
    },
    {
     "name": "stderr",
     "output_type": "stream",
     "text": [
      "[I 2024-04-11 11:26:26,622] Trial 3 finished with value: 0.5782246788342794 and parameters: {'n_hidden_units': 25, 'num_layers': 5, 'input_size_LSTM': 23, 'dropout_1': 0.4212072004019028, 'dropout_2': 0.5713206781020905, 'lr': 0.0005391396880940846, 'lr_gamma': 1.2428893709921862, 'seq_length_LSTM': 16, 'batch_size_train': 48, 'batch_size_val': 27, 'huber_delta': 10, 'alpha_reg': 1.6705479684790027e-06, 'l1_ratio_reg': 0.3690358032695154}. Best is trial 1 with value: 0.5837963223457336.\n"
     ]
    },
    {
     "name": "stdout",
     "output_type": "stream",
     "text": [
      "Decrease LR\n",
      "Epoch 000 Train 0.0379 Val 0.0489\n",
      "Epoch 001 Train 0.0359 Val 0.0483\n",
      "Epoch 002 Train 0.0321 Val 0.0411\n",
      "Epoch 003 Train 0.0243 Val 0.0316\n",
      "Epoch 004 Train 0.0194 Val 0.0277\n",
      "Epoch 005 Train 0.0168 Val 0.0266\n",
      "Epoch 006 Train 0.0154 Val 0.0255\n",
      "Epoch 007 Train 0.0145 Val 0.0252\n",
      "Epoch 008 Train 0.0135 Val 0.0233\n",
      "Epoch 009 Train 0.0121 Val 0.0213\n",
      "Epoch 010 Train 0.0110 Val 0.0202\n",
      "Epoch 011 Train 0.0104 Val 0.0200\n",
      "Epoch 012 Train 0.0099 Val 0.0194\n",
      "Epoch 013 Train 0.0096 Val 0.0193\n",
      "Epoch 014 Train 0.0090 Val 0.0195\n",
      "Epoch 015 Train 0.0083 Val 0.0187\n",
      "Epoch 016 Train 0.0076 Val 0.0216\n",
      "Epoch 017 Train 0.0069 Val 0.0268\n",
      "Epoch 018 Train 0.0064 Val 0.0219\n",
      "Epoch 019 Train 0.0059 Val 0.0209\n",
      "Decrease LR\n",
      "Epoch 020 Train 0.0055 Val 0.0220\n",
      "Epoch 021 Train 0.0053 Val 0.0208\n",
      "Epoch 022 Train 0.0051 Val 0.0197\n",
      "Epoch 023 Train 0.0050 Val 0.0215\n",
      "Epoch 024 Train 0.0049 Val 0.0199\n"
     ]
    },
    {
     "name": "stderr",
     "output_type": "stream",
     "text": [
      "[I 2024-04-11 11:27:10,480] Trial 4 finished with value: 0.5710630615552267 and parameters: {'n_hidden_units': 25, 'num_layers': 5, 'input_size_LSTM': 25, 'dropout_1': 0.25300070319168455, 'dropout_2': 0.07384863856151484, 'lr': 0.0004413899877346308, 'lr_gamma': 1.1538806286725403, 'seq_length_LSTM': 17, 'batch_size_train': 38, 'batch_size_val': 47, 'huber_delta': 10, 'alpha_reg': 3.1770986327354357e-06, 'l1_ratio_reg': 0.5784101575576397}. Best is trial 1 with value: 0.5837963223457336.\n"
     ]
    },
    {
     "name": "stdout",
     "output_type": "stream",
     "text": [
      "Decrease LR\n",
      "Epoch 000 Train 0.0400 Val 0.0231\n",
      "Epoch 001 Train 0.0228 Val 0.0199\n",
      "Epoch 002 Train 0.0193 Val 0.0182\n",
      "Epoch 003 Train 0.0178 Val 0.0194\n",
      "Epoch 004 Train 0.0168 Val 0.0217\n",
      "Epoch 005 Train 0.0159 Val 0.0199\n",
      "Epoch 006 Train 0.0154 Val 0.0205\n",
      "Epoch 007 Train 0.0151 Val 0.0246\n",
      "Epoch 008 Train 0.0148 Val 0.0180\n",
      "Epoch 009 Train 0.0146 Val 0.0184\n",
      "Epoch 010 Train 0.0145 Val 0.0195\n",
      "Epoch 011 Train 0.0144 Val 0.0215\n",
      "Epoch 012 Train 0.0143 Val 0.0200\n",
      "Epoch 013 Train 0.0142 Val 0.0200\n",
      "Epoch 014 Train 0.0142 Val 0.0202\n",
      "Decrease LR\n",
      "Epoch 015 Train 0.0142 Val 0.0220\n",
      "Epoch 016 Train 0.0140 Val 0.0207\n",
      "Epoch 017 Train 0.0140 Val 0.0203\n",
      "Epoch 018 Train 0.0137 Val 0.0205\n",
      "Epoch 019 Train 0.0138 Val 0.0204\n"
     ]
    },
    {
     "name": "stderr",
     "output_type": "stream",
     "text": [
      "[I 2024-04-11 11:27:47,043] Trial 5 finished with value: 0.5947860280672709 and parameters: {'n_hidden_units': 10, 'num_layers': 2, 'input_size_LSTM': 27, 'dropout_1': 0.5612163910549153, 'dropout_2': 0.2639622223748317, 'lr': 0.0036494759774787925, 'lr_gamma': 1.2266810038669282, 'seq_length_LSTM': 9, 'batch_size_train': 33, 'batch_size_val': 22, 'huber_delta': 9, 'alpha_reg': 4.1667010479182313e-05, 'l1_ratio_reg': 0.42604446655409955}. Best is trial 5 with value: 0.5947860280672709.\n"
     ]
    },
    {
     "name": "stdout",
     "output_type": "stream",
     "text": [
      "Decrease LR\n",
      "Epoch 000 Train 0.0421 Val 0.0483\n",
      "Epoch 001 Train 0.0392 Val 0.0462\n",
      "Epoch 002 Train 0.0359 Val 0.0425\n",
      "Epoch 003 Train 0.0327 Val 0.0377\n",
      "Epoch 004 Train 0.0303 Val 0.0345\n",
      "Epoch 005 Train 0.0278 Val 0.0310\n",
      "Epoch 006 Train 0.0264 Val 0.0288\n",
      "Epoch 007 Train 0.0251 Val 0.0267\n",
      "Epoch 008 Train 0.0244 Val 0.0250\n",
      "Epoch 009 Train 0.0235 Val 0.0243\n",
      "Epoch 010 Train 0.0227 Val 0.0233\n",
      "Epoch 011 Train 0.0221 Val 0.0229\n",
      "Epoch 012 Train 0.0217 Val 0.0234\n",
      "Epoch 013 Train 0.0211 Val 0.0222\n"
     ]
    },
    {
     "name": "stderr",
     "output_type": "stream",
     "text": [
      "[I 2024-04-11 11:28:15,140] Trial 6 pruned. \n"
     ]
    },
    {
     "name": "stdout",
     "output_type": "stream",
     "text": [
      "Epoch 014 Train 0.0205 Val 0.0221\n",
      "Epoch 000 Train 0.2365 Val 0.0399\n",
      "Epoch 001 Train 0.2382 Val 0.0314\n",
      "Epoch 002 Train 0.2416 Val 0.0254\n",
      "Epoch 003 Train 0.2465 Val 0.0223\n",
      "Epoch 004 Train 0.2512 Val 0.0215\n",
      "Epoch 005 Train 0.2552 Val 0.0205\n",
      "Epoch 006 Train 0.2580 Val 0.0206\n",
      "Epoch 007 Train 0.2610 Val 0.0206\n",
      "Epoch 008 Train 0.2641 Val 0.0202\n",
      "Epoch 009 Train 0.2672 Val 0.0198\n",
      "Epoch 010 Train 0.2704 Val 0.0199\n",
      "Epoch 011 Train 0.2754 Val 0.0205\n",
      "Epoch 012 Train 0.2802 Val 0.0192\n",
      "Epoch 013 Train 0.2869 Val 0.0200\n",
      "Epoch 014 Train 0.2937 Val 0.0197\n",
      "Epoch 015 Train 0.2979 Val 0.0228\n",
      "Epoch 016 Train 0.3007 Val 0.0210\n",
      "Decrease LR\n",
      "Epoch 017 Train 0.3031 Val 0.0232\n",
      "Epoch 018 Train 0.3048 Val 0.0218\n",
      "Epoch 019 Train 0.3047 Val 0.0216\n",
      "Epoch 020 Train 0.3049 Val 0.0222\n",
      "Epoch 021 Train 0.3048 Val 0.0215\n"
     ]
    },
    {
     "name": "stderr",
     "output_type": "stream",
     "text": [
      "[I 2024-04-11 11:28:44,860] Trial 7 finished with value: 0.5676892399787903 and parameters: {'n_hidden_units': 6, 'num_layers': 2, 'input_size_LSTM': 58, 'dropout_1': 0.7407048370546456, 'dropout_2': 0.5413304684406867, 'lr': 0.004140600820548197, 'lr_gamma': 1.30641423686066, 'seq_length_LSTM': 13, 'batch_size_train': 46, 'batch_size_val': 39, 'huber_delta': 9, 'alpha_reg': 0.00041948641226735155, 'l1_ratio_reg': 0.7194934548690703}. Best is trial 5 with value: 0.5947860280672709.\n"
     ]
    },
    {
     "name": "stdout",
     "output_type": "stream",
     "text": [
      "Decrease LR\n",
      "Epoch 000 Train 0.0507 Val 0.0314\n",
      "Epoch 001 Train 0.0384 Val 0.0204\n",
      "Epoch 002 Train 0.0349 Val 0.0196\n",
      "Epoch 003 Train 0.0333 Val 0.0220\n",
      "Epoch 004 Train 0.0325 Val 0.0219\n",
      "Epoch 005 Train 0.0318 Val 0.0216\n",
      "Epoch 006 Train 0.0315 Val 0.0228\n",
      "Epoch 007 Train 0.0313 Val 0.0220\n",
      "Epoch 008 Train 0.0312 Val 0.0232\n",
      "Epoch 009 Train 0.0311 Val 0.0235\n",
      "Epoch 010 Train 0.0311 Val 0.0240\n",
      "Epoch 011 Train 0.0311 Val 0.0241\n",
      "Epoch 012 Train 0.0311 Val 0.0235\n",
      "Epoch 013 Train 0.0312 Val 0.0243\n",
      "Epoch 014 Train 0.0312 Val 0.0229\n",
      "Decrease LR\n",
      "Epoch 015 Train 0.0313 Val 0.0241\n",
      "Epoch 016 Train 0.0312 Val 0.0240\n",
      "Epoch 017 Train 0.0312 Val 0.0239\n",
      "Epoch 018 Train 0.0312 Val 0.0230\n",
      "Epoch 019 Train 0.0312 Val 0.0223\n"
     ]
    },
    {
     "name": "stderr",
     "output_type": "stream",
     "text": [
      "[I 2024-04-11 11:29:34,030] Trial 8 finished with value: 0.576877236366272 and parameters: {'n_hidden_units': 11, 'num_layers': 2, 'input_size_LSTM': 55, 'dropout_1': 0.026201413565447775, 'dropout_2': 0.2919854977069228, 'lr': 0.0017736022600876443, 'lr_gamma': 1.2967034913865425, 'seq_length_LSTM': 14, 'batch_size_train': 24, 'batch_size_val': 20, 'huber_delta': 10, 'alpha_reg': 8.574576783606505e-05, 'l1_ratio_reg': 0.2722307827716314}. Best is trial 5 with value: 0.5947860280672709.\n"
     ]
    },
    {
     "name": "stdout",
     "output_type": "stream",
     "text": [
      "Decrease LR\n",
      "Epoch 000 Train 0.0366 Val 0.0443\n",
      "Epoch 001 Train 0.0312 Val 0.0359\n",
      "Epoch 002 Train 0.0249 Val 0.0283\n",
      "Epoch 003 Train 0.0207 Val 0.0252\n",
      "Epoch 004 Train 0.0185 Val 0.0238\n",
      "Epoch 005 Train 0.0171 Val 0.0224\n",
      "Epoch 006 Train 0.0159 Val 0.0228\n",
      "Epoch 007 Train 0.0150 Val 0.0239\n",
      "Epoch 008 Train 0.0139 Val 0.0251\n"
     ]
    },
    {
     "name": "stderr",
     "output_type": "stream",
     "text": [
      "[I 2024-04-11 11:29:49,489] Trial 9 pruned. \n"
     ]
    },
    {
     "name": "stdout",
     "output_type": "stream",
     "text": [
      "Epoch 009 Train 0.0132 Val 0.0236\n",
      "Epoch 000 Train 0.3338 Val 0.0239\n",
      "Epoch 001 Train 0.3771 Val 0.0222\n",
      "Epoch 002 Train 0.4046 Val 0.0221\n",
      "Epoch 003 Train 0.4249 Val 0.0237\n",
      "Epoch 004 Train 0.4416 Val 0.0252\n",
      "Epoch 005 Train 0.4568 Val 0.0234\n",
      "Epoch 006 Train 0.4709 Val 0.0277\n",
      "Epoch 007 Train 0.4912 Val 0.0222\n",
      "Epoch 008 Train 0.5152 Val 0.0238\n",
      "Epoch 009 Train 0.5361 Val 0.0219\n",
      "Epoch 010 Train 0.5575 Val 0.0219\n",
      "Epoch 011 Train 0.6003 Val 0.0225\n",
      "Epoch 012 Train 0.6475 Val 0.0231\n",
      "Epoch 013 Train 0.6998 Val 0.0237\n",
      "Epoch 014 Train 0.7585 Val 0.0240\n",
      "Epoch 015 Train 0.8046 Val 0.0195\n",
      "Epoch 016 Train 0.8439 Val 0.0210\n",
      "Epoch 017 Train 0.8876 Val 0.0228\n",
      "Epoch 018 Train 0.9166 Val 0.0230\n",
      "Epoch 019 Train 0.9468 Val 0.0232\n",
      "Decrease LR\n",
      "Epoch 020 Train 0.9887 Val 0.0238\n",
      "Epoch 021 Train 1.0344 Val 0.0226\n",
      "Epoch 022 Train 1.0503 Val 0.0217\n",
      "Epoch 023 Train 1.0626 Val 0.0238\n",
      "Epoch 024 Train 1.0776 Val 0.0216\n"
     ]
    },
    {
     "name": "stderr",
     "output_type": "stream",
     "text": [
      "[I 2024-04-11 11:30:52,233] Trial 10 finished with value: 0.537917951742808 and parameters: {'n_hidden_units': 15, 'num_layers': 1, 'input_size_LSTM': 33, 'dropout_1': 0.8966210188178463, 'dropout_2': 0.25088989614844354, 'lr': 0.008334033674200164, 'lr_gamma': 1.4604603002941159, 'seq_length_LSTM': 5, 'batch_size_train': 20, 'batch_size_val': 34, 'huber_delta': 8, 'alpha_reg': 0.0009727215937916094, 'l1_ratio_reg': 0.5868937996980452}. Best is trial 5 with value: 0.5947860280672709.\n"
     ]
    },
    {
     "name": "stdout",
     "output_type": "stream",
     "text": [
      "Decrease LR\n",
      "Epoch 000 Train 0.0713 Val 0.0511\n",
      "Epoch 001 Train 0.0697 Val 0.0486\n",
      "Epoch 002 Train 0.0680 Val 0.0462\n",
      "Epoch 003 Train 0.0659 Val 0.0441\n",
      "Epoch 004 Train 0.0636 Val 0.0409\n"
     ]
    },
    {
     "name": "stderr",
     "output_type": "stream",
     "text": [
      "[I 2024-04-11 11:31:02,620] Trial 11 pruned. \n"
     ]
    },
    {
     "name": "stdout",
     "output_type": "stream",
     "text": [
      "Epoch 005 Train 0.0611 Val 0.0382\n",
      "Epoch 000 Train 0.0378 Val 0.0514\n",
      "Epoch 001 Train 0.0375 Val 0.0507\n",
      "Epoch 002 Train 0.0374 Val 0.0500\n",
      "Epoch 003 Train 0.0372 Val 0.0497\n",
      "Epoch 004 Train 0.0369 Val 0.0503\n"
     ]
    },
    {
     "name": "stderr",
     "output_type": "stream",
     "text": [
      "[I 2024-04-11 11:31:14,545] Trial 12 pruned. \n"
     ]
    },
    {
     "name": "stdout",
     "output_type": "stream",
     "text": [
      "Epoch 005 Train 0.0371 Val 0.0503\n",
      "Epoch 000 Train 0.0431 Val 0.0526\n",
      "Epoch 001 Train 0.0411 Val 0.0498\n",
      "Epoch 002 Train 0.0371 Val 0.0417\n",
      "Epoch 003 Train 0.0283 Val 0.0308\n",
      "Epoch 004 Train 0.0214 Val 0.0275\n"
     ]
    },
    {
     "name": "stderr",
     "output_type": "stream",
     "text": [
      "[I 2024-04-11 11:31:26,669] Trial 13 pruned. \n"
     ]
    },
    {
     "name": "stdout",
     "output_type": "stream",
     "text": [
      "Epoch 005 Train 0.0191 Val 0.0255\n",
      "Epoch 000 Train 0.0667 Val 0.0509\n",
      "Epoch 001 Train 0.0665 Val 0.0508\n",
      "Epoch 002 Train 0.0664 Val 0.0506\n",
      "Epoch 003 Train 0.0661 Val 0.0503\n",
      "Epoch 004 Train 0.0659 Val 0.0501\n"
     ]
    },
    {
     "name": "stderr",
     "output_type": "stream",
     "text": [
      "[I 2024-04-11 11:31:36,616] Trial 14 pruned. \n"
     ]
    },
    {
     "name": "stdout",
     "output_type": "stream",
     "text": [
      "Epoch 005 Train 0.0657 Val 0.0499\n",
      "Epoch 000 Train 0.0836 Val 0.0526\n",
      "Epoch 001 Train 0.0835 Val 0.0519\n",
      "Epoch 002 Train 0.0816 Val 0.0504\n",
      "Epoch 003 Train 0.0805 Val 0.0490\n",
      "Epoch 004 Train 0.0795 Val 0.0470\n"
     ]
    },
    {
     "name": "stderr",
     "output_type": "stream",
     "text": [
      "[I 2024-04-11 11:31:49,708] Trial 15 pruned. \n"
     ]
    },
    {
     "name": "stdout",
     "output_type": "stream",
     "text": [
      "Epoch 005 Train 0.0761 Val 0.0422\n",
      "Epoch 000 Train 0.0452 Val 0.0519\n",
      "Epoch 001 Train 0.0450 Val 0.0514\n",
      "Epoch 002 Train 0.0439 Val 0.0508\n",
      "Epoch 003 Train 0.0437 Val 0.0501\n",
      "Epoch 004 Train 0.0428 Val 0.0494\n"
     ]
    },
    {
     "name": "stderr",
     "output_type": "stream",
     "text": [
      "[I 2024-04-11 11:31:58,632] Trial 16 pruned. \n"
     ]
    },
    {
     "name": "stdout",
     "output_type": "stream",
     "text": [
      "Epoch 005 Train 0.0420 Val 0.0483\n",
      "Epoch 000 Train 0.0261 Val 0.0260\n",
      "Epoch 001 Train 0.0140 Val 0.0225\n",
      "Epoch 002 Train 0.0114 Val 0.0207\n",
      "Epoch 003 Train 0.0104 Val 0.0208\n",
      "Epoch 004 Train 0.0099 Val 0.0197\n",
      "Epoch 005 Train 0.0096 Val 0.0206\n",
      "Epoch 006 Train 0.0091 Val 0.0232\n",
      "Epoch 007 Train 0.0084 Val 0.0223\n",
      "Epoch 008 Train 0.0076 Val 0.0271\n",
      "Epoch 009 Train 0.0070 Val 0.0244\n",
      "Epoch 010 Train 0.0064 Val 0.0244\n",
      "Epoch 011 Train 0.0059 Val 0.0244\n",
      "Epoch 012 Train 0.0055 Val 0.0246\n",
      "Epoch 013 Train 0.0053 Val 0.0187\n",
      "Epoch 014 Train 0.0052 Val 0.0223\n",
      "Epoch 015 Train 0.0050 Val 0.0238\n",
      "Epoch 016 Train 0.0048 Val 0.0262\n",
      "Epoch 017 Train 0.0045 Val 0.0219\n",
      "Decrease LR\n",
      "Epoch 018 Train 0.0044 Val 0.0228\n",
      "Epoch 019 Train 0.0044 Val 0.0247\n",
      "Epoch 020 Train 0.0043 Val 0.0216\n",
      "Epoch 021 Train 0.0043 Val 0.0234\n",
      "Epoch 022 Train 0.0041 Val 0.0225\n"
     ]
    },
    {
     "name": "stderr",
     "output_type": "stream",
     "text": [
      "[I 2024-04-11 11:33:02,288] Trial 17 finished with value: 0.624372641245524 and parameters: {'n_hidden_units': 34, 'num_layers': 4, 'input_size_LSTM': 37, 'dropout_1': 0.7330679316426173, 'dropout_2': 0.37666661323267614, 'lr': 0.00226563977062076, 'lr_gamma': 1.265951945828687, 'seq_length_LSTM': 6, 'batch_size_train': 21, 'batch_size_val': 38, 'huber_delta': 7, 'alpha_reg': 2.940340760405389e-06, 'l1_ratio_reg': 0.493622465578819}. Best is trial 17 with value: 0.624372641245524.\n"
     ]
    },
    {
     "name": "stdout",
     "output_type": "stream",
     "text": [
      "Decrease LR\n",
      "Epoch 000 Train 0.0275 Val 0.0266\n",
      "Epoch 001 Train 0.0150 Val 0.0254\n",
      "Epoch 002 Train 0.0116 Val 0.0203\n",
      "Epoch 003 Train 0.0106 Val 0.0213\n",
      "Epoch 004 Train 0.0101 Val 0.0222\n",
      "Epoch 005 Train 0.0094 Val 0.0221\n",
      "Epoch 006 Train 0.0090 Val 0.0203\n",
      "Epoch 007 Train 0.0083 Val 0.0197\n",
      "Epoch 008 Train 0.0073 Val 0.0312\n",
      "Epoch 009 Train 0.0068 Val 0.0278\n",
      "Epoch 010 Train 0.0064 Val 0.0231\n",
      "Epoch 011 Train 0.0066 Val 0.0290\n",
      "Epoch 012 Train 0.0063 Val 0.0305\n",
      "Epoch 013 Train 0.0059 Val 0.0261\n",
      "Epoch 014 Train 0.0058 Val 0.0287\n",
      "Decrease LR\n",
      "Epoch 015 Train 0.0059 Val 0.0316\n",
      "Epoch 016 Train 0.0056 Val 0.0301\n",
      "Epoch 017 Train 0.0054 Val 0.0319\n",
      "Epoch 018 Train 0.0052 Val 0.0312\n",
      "Epoch 019 Train 0.0051 Val 0.0293\n"
     ]
    },
    {
     "name": "stderr",
     "output_type": "stream",
     "text": [
      "[I 2024-04-11 11:34:00,093] Trial 18 finished with value: 0.5205423831939697 and parameters: {'n_hidden_units': 31, 'num_layers': 4, 'input_size_LSTM': 47, 'dropout_1': 0.77779871534603, 'dropout_2': 0.21318415843700278, 'lr': 0.0027987327768265358, 'lr_gamma': 1.4925116890076753, 'seq_length_LSTM': 5, 'batch_size_train': 20, 'batch_size_val': 40, 'huber_delta': 8, 'alpha_reg': 2.4210061172503684e-06, 'l1_ratio_reg': 0.4777620701542325}. Best is trial 17 with value: 0.624372641245524.\n"
     ]
    },
    {
     "name": "stdout",
     "output_type": "stream",
     "text": [
      "Decrease LR\n",
      "Epoch 000 Train 0.0232 Val 0.0229\n",
      "Epoch 001 Train 0.0135 Val 0.0188\n",
      "Epoch 002 Train 0.0110 Val 0.0180\n",
      "Epoch 003 Train 0.0104 Val 0.0180\n",
      "Epoch 004 Train 0.0098 Val 0.0159\n",
      "Epoch 005 Train 0.0093 Val 0.0189\n",
      "Epoch 006 Train 0.0087 Val 0.0174\n",
      "Epoch 007 Train 0.0081 Val 0.0180\n",
      "Epoch 008 Train 0.0074 Val 0.0218\n",
      "Epoch 009 Train 0.0070 Val 0.0214\n",
      "Epoch 010 Train 0.0068 Val 0.0217\n",
      "Epoch 011 Train 0.0070 Val 0.0258\n",
      "Epoch 012 Train 0.0069 Val 0.0189\n",
      "Epoch 013 Train 0.0066 Val 0.0258\n",
      "Epoch 014 Train 0.0064 Val 0.0282\n",
      "Decrease LR\n",
      "Epoch 015 Train 0.0064 Val 0.0248\n",
      "Epoch 016 Train 0.0061 Val 0.0264\n",
      "Epoch 017 Train 0.0059 Val 0.0272\n",
      "Epoch 018 Train 0.0059 Val 0.0238\n",
      "Epoch 019 Train 0.0059 Val 0.0255\n"
     ]
    },
    {
     "name": "stderr",
     "output_type": "stream",
     "text": [
      "[I 2024-04-11 11:34:51,841] Trial 19 finished with value: 0.6180829405784607 and parameters: {'n_hidden_units': 19, 'num_layers': 4, 'input_size_LSTM': 37, 'dropout_1': 0.6965124146905848, 'dropout_2': 0.5015136652556536, 'lr': 0.007990639655752866, 'lr_gamma': 1.2907298433329475, 'seq_length_LSTM': 7, 'batch_size_train': 23, 'batch_size_val': 43, 'huber_delta': 7, 'alpha_reg': 8.795863802780713e-07, 'l1_ratio_reg': 0.4140543660863291}. Best is trial 17 with value: 0.624372641245524.\n"
     ]
    },
    {
     "name": "stdout",
     "output_type": "stream",
     "text": [
      "Decrease LR\n",
      "Epoch 000 Train 0.0246 Val 0.0286\n",
      "Epoch 001 Train 0.0166 Val 0.0230\n",
      "Epoch 002 Train 0.0144 Val 0.0212\n",
      "Epoch 003 Train 0.0127 Val 0.0189\n",
      "Epoch 004 Train 0.0124 Val 0.0227\n",
      "Epoch 005 Train 0.0120 Val 0.0217\n",
      "Epoch 006 Train 0.0117 Val 0.0211\n",
      "Epoch 007 Train 0.0115 Val 0.0205\n",
      "Epoch 008 Train 0.0109 Val 0.0213\n",
      "Epoch 009 Train 0.0109 Val 0.0206\n",
      "Epoch 010 Train 0.0112 Val 0.0198\n",
      "Epoch 011 Train 0.0110 Val 0.0216\n",
      "Epoch 012 Train 0.0112 Val 0.0219\n",
      "Epoch 013 Train 0.0111 Val 0.0195\n",
      "Epoch 014 Train 0.0113 Val 0.0185\n",
      "Epoch 015 Train 0.0113 Val 0.0216\n",
      "Epoch 016 Train 0.0110 Val 0.0188\n",
      "Epoch 017 Train 0.0109 Val 0.0169\n",
      "Epoch 018 Train 0.0113 Val 0.0189\n",
      "Epoch 019 Train 0.0114 Val 0.0210\n",
      "Epoch 020 Train 0.0113 Val 0.0189\n",
      "Epoch 021 Train 0.0118 Val 0.0196\n",
      "Decrease LR\n",
      "Epoch 022 Train 0.0121 Val 0.0191\n",
      "Epoch 023 Train 0.0115 Val 0.0187\n",
      "Epoch 024 Train 0.0111 Val 0.0159\n",
      "Epoch 025 Train 0.0112 Val 0.0196\n",
      "Epoch 026 Train 0.0111 Val 0.0185\n",
      "Epoch 027 Train 0.0108 Val 0.0186\n",
      "Epoch 028 Train 0.0105 Val 0.0162\n"
     ]
    },
    {
     "name": "stderr",
     "output_type": "stream",
     "text": [
      "[I 2024-04-11 11:36:06,267] Trial 20 finished with value: 0.5540282527605692 and parameters: {'n_hidden_units': 21, 'num_layers': 4, 'input_size_LSTM': 38, 'dropout_1': 0.8935724608366916, 'dropout_2': 0.5164138359987192, 'lr': 0.009282973838290798, 'lr_gamma': 1.2727636822405568, 'seq_length_LSTM': 7, 'batch_size_train': 23, 'batch_size_val': 44, 'huber_delta': 7, 'alpha_reg': 5.237250491877571e-07, 'l1_ratio_reg': 0.5310203837326738}. Best is trial 17 with value: 0.624372641245524.\n"
     ]
    },
    {
     "name": "stdout",
     "output_type": "stream",
     "text": [
      "Decrease LR\n",
      "Epoch 000 Train 0.0306 Val 0.0369\n",
      "Epoch 001 Train 0.0177 Val 0.0295\n",
      "Epoch 002 Train 0.0129 Val 0.0210\n",
      "Epoch 003 Train 0.0114 Val 0.0195\n",
      "Epoch 004 Train 0.0104 Val 0.0207\n",
      "Epoch 005 Train 0.0100 Val 0.0201\n",
      "Epoch 006 Train 0.0097 Val 0.0201\n",
      "Epoch 007 Train 0.0095 Val 0.0219\n",
      "Epoch 008 Train 0.0092 Val 0.0230\n",
      "Epoch 009 Train 0.0091 Val 0.0186\n",
      "Epoch 010 Train 0.0090 Val 0.0203\n",
      "Epoch 011 Train 0.0086 Val 0.0184\n",
      "Epoch 012 Train 0.0085 Val 0.0194\n",
      "Epoch 013 Train 0.0081 Val 0.0182\n",
      "Epoch 014 Train 0.0074 Val 0.0216\n",
      "Epoch 015 Train 0.0070 Val 0.0213\n",
      "Epoch 016 Train 0.0067 Val 0.0253\n",
      "Epoch 017 Train 0.0064 Val 0.0245\n",
      "Decrease LR\n",
      "Epoch 018 Train 0.0062 Val 0.0220\n",
      "Epoch 019 Train 0.0059 Val 0.0261\n",
      "Epoch 020 Train 0.0058 Val 0.0254\n",
      "Epoch 021 Train 0.0056 Val 0.0314\n",
      "Epoch 022 Train 0.0056 Val 0.0261\n"
     ]
    },
    {
     "name": "stderr",
     "output_type": "stream",
     "text": [
      "[I 2024-04-11 11:37:04,970] Trial 21 finished with value: 0.5602533022562662 and parameters: {'n_hidden_units': 12, 'num_layers': 4, 'input_size_LSTM': 35, 'dropout_1': 0.6980979568108039, 'dropout_2': 0.3245592238106014, 'lr': 0.004483511648018736, 'lr_gamma': 1.3422066958467707, 'seq_length_LSTM': 7, 'batch_size_train': 23, 'batch_size_val': 37, 'huber_delta': 7, 'alpha_reg': 7.278089180020603e-07, 'l1_ratio_reg': 0.4210006100805645}. Best is trial 17 with value: 0.624372641245524.\n"
     ]
    },
    {
     "name": "stdout",
     "output_type": "stream",
     "text": [
      "Decrease LR\n",
      "Epoch 000 Train 0.0348 Val 0.0422\n",
      "Epoch 001 Train 0.0212 Val 0.0294\n",
      "Epoch 002 Train 0.0166 Val 0.0272\n",
      "Epoch 003 Train 0.0136 Val 0.0226\n",
      "Epoch 004 Train 0.0114 Val 0.0212\n",
      "Epoch 005 Train 0.0103 Val 0.0207\n",
      "Epoch 006 Train 0.0099 Val 0.0230\n",
      "Epoch 007 Train 0.0095 Val 0.0210\n",
      "Epoch 008 Train 0.0092 Val 0.0190\n",
      "Epoch 009 Train 0.0088 Val 0.0207\n",
      "Epoch 010 Train 0.0083 Val 0.0201\n",
      "Epoch 011 Train 0.0076 Val 0.0196\n",
      "Epoch 012 Train 0.0066 Val 0.0232\n",
      "Epoch 013 Train 0.0059 Val 0.0208\n",
      "Epoch 014 Train 0.0056 Val 0.0212\n",
      "Decrease LR\n",
      "Epoch 015 Train 0.0051 Val 0.0211\n",
      "Epoch 016 Train 0.0048 Val 0.0228\n",
      "Epoch 017 Train 0.0046 Val 0.0221\n",
      "Epoch 018 Train 0.0045 Val 0.0222\n",
      "Epoch 019 Train 0.0044 Val 0.0224\n"
     ]
    },
    {
     "name": "stderr",
     "output_type": "stream",
     "text": [
      "[I 2024-04-11 11:37:53,559] Trial 22 finished with value: 0.5800162355105082 and parameters: {'n_hidden_units': 33, 'num_layers': 5, 'input_size_LSTM': 46, 'dropout_1': 0.4894335419349103, 'dropout_2': 0.48759457503849735, 'lr': 0.001213561455124404, 'lr_gamma': 1.2437741736905323, 'seq_length_LSTM': 6, 'batch_size_train': 26, 'batch_size_val': 43, 'huber_delta': 8, 'alpha_reg': 1.729443236170899e-07, 'l1_ratio_reg': 0.3040912660197711}. Best is trial 17 with value: 0.624372641245524.\n"
     ]
    },
    {
     "name": "stdout",
     "output_type": "stream",
     "text": [
      "Decrease LR\n",
      "Epoch 000 Train 0.0236 Val 0.0239\n",
      "Epoch 001 Train 0.0147 Val 0.0214\n",
      "Epoch 002 Train 0.0128 Val 0.0217\n",
      "Epoch 003 Train 0.0121 Val 0.0210\n",
      "Epoch 004 Train 0.0115 Val 0.0201\n",
      "Epoch 005 Train 0.0112 Val 0.0183\n",
      "Epoch 006 Train 0.0111 Val 0.0187\n",
      "Epoch 007 Train 0.0106 Val 0.0212\n",
      "Epoch 008 Train 0.0102 Val 0.0204\n",
      "Epoch 009 Train 0.0101 Val 0.0193\n",
      "Epoch 010 Train 0.0098 Val 0.0220\n",
      "Epoch 011 Train 0.0099 Val 0.0243\n",
      "Epoch 012 Train 0.0098 Val 0.0248\n",
      "Epoch 013 Train 0.0098 Val 0.0245\n",
      "Epoch 014 Train 0.0098 Val 0.0235\n",
      "Decrease LR\n",
      "Epoch 015 Train 0.0098 Val 0.0256\n",
      "Epoch 016 Train 0.0097 Val 0.0286\n",
      "Epoch 017 Train 0.0094 Val 0.0283\n",
      "Epoch 018 Train 0.0094 Val 0.0282\n",
      "Epoch 019 Train 0.0092 Val 0.0288\n"
     ]
    },
    {
     "name": "stderr",
     "output_type": "stream",
     "text": [
      "[I 2024-04-11 11:38:49,945] Trial 23 finished with value: 0.5993319948514303 and parameters: {'n_hidden_units': 17, 'num_layers': 3, 'input_size_LSTM': 31, 'dropout_1': 0.7955466823612629, 'dropout_2': 0.6327572716624659, 'lr': 0.005504719171288152, 'lr_gamma': 1.3919263553651604, 'seq_length_LSTM': 9, 'batch_size_train': 20, 'batch_size_val': 43, 'huber_delta': 9, 'alpha_reg': 4.9781070661255504e-06, 'l1_ratio_reg': 0.397683754486284}. Best is trial 17 with value: 0.624372641245524.\n"
     ]
    },
    {
     "name": "stdout",
     "output_type": "stream",
     "text": [
      "Decrease LR\n",
      "Epoch 000 Train 0.0220 Val 0.0188\n",
      "Epoch 001 Train 0.0140 Val 0.0206\n",
      "Epoch 002 Train 0.0125 Val 0.0213\n",
      "Epoch 003 Train 0.0114 Val 0.0233\n",
      "Epoch 004 Train 0.0110 Val 0.0220\n",
      "Epoch 005 Train 0.0106 Val 0.0255\n",
      "Epoch 006 Train 0.0105 Val 0.0273\n",
      "Epoch 007 Train 0.0102 Val 0.0259\n",
      "Epoch 008 Train 0.0104 Val 0.0248\n",
      "Epoch 009 Train 0.0105 Val 0.0290\n",
      "Epoch 010 Train 0.0108 Val 0.0262\n",
      "Epoch 011 Train 0.0108 Val 0.0242\n",
      "Epoch 012 Train 0.0109 Val 0.0243\n",
      "Epoch 013 Train 0.0110 Val 0.0259\n",
      "Epoch 014 Train 0.0113 Val 0.0241\n",
      "Decrease LR\n",
      "Epoch 015 Train 0.0114 Val 0.0221\n",
      "Epoch 016 Train 0.0113 Val 0.0237\n",
      "Epoch 017 Train 0.0113 Val 0.0240\n",
      "Epoch 018 Train 0.0112 Val 0.0247\n",
      "Epoch 019 Train 0.0112 Val 0.0226\n"
     ]
    },
    {
     "name": "stderr",
     "output_type": "stream",
     "text": [
      "[I 2024-04-11 11:39:46,209] Trial 24 finished with value: 0.5597676237424215 and parameters: {'n_hidden_units': 20, 'num_layers': 3, 'input_size_LSTM': 40, 'dropout_1': 0.6868208047426951, 'dropout_2': 0.7285647715967317, 'lr': 0.007163615534355011, 'lr_gamma': 1.4095314020464613, 'seq_length_LSTM': 9, 'batch_size_train': 20, 'batch_size_val': 44, 'huber_delta': 7, 'alpha_reg': 4.987763726987107e-06, 'l1_ratio_reg': 0.4968292146119704}. Best is trial 17 with value: 0.624372641245524.\n"
     ]
    },
    {
     "name": "stdout",
     "output_type": "stream",
     "text": [
      "Decrease LR\n",
      "Epoch 000 Train 0.0318 Val 0.0341\n",
      "Epoch 001 Train 0.0191 Val 0.0272\n",
      "Epoch 002 Train 0.0140 Val 0.0220\n",
      "Epoch 003 Train 0.0125 Val 0.0227\n",
      "Epoch 004 Train 0.0119 Val 0.0217\n",
      "Epoch 005 Train 0.0112 Val 0.0222\n",
      "Epoch 006 Train 0.0112 Val 0.0211\n",
      "Epoch 007 Train 0.0108 Val 0.0223\n",
      "Epoch 008 Train 0.0106 Val 0.0199\n",
      "Epoch 009 Train 0.0104 Val 0.0210\n",
      "Epoch 010 Train 0.0103 Val 0.0210\n",
      "Epoch 011 Train 0.0102 Val 0.0198\n",
      "Epoch 012 Train 0.0099 Val 0.0189\n",
      "Epoch 013 Train 0.0100 Val 0.0186\n",
      "Epoch 014 Train 0.0095 Val 0.0191\n",
      "Epoch 015 Train 0.0093 Val 0.0192\n",
      "Epoch 016 Train 0.0091 Val 0.0169\n",
      "Epoch 017 Train 0.0087 Val 0.0170\n",
      "Epoch 018 Train 0.0084 Val 0.0191\n",
      "Epoch 019 Train 0.0080 Val 0.0185\n",
      "Epoch 020 Train 0.0083 Val 0.0156\n",
      "Epoch 021 Train 0.0080 Val 0.0180\n",
      "Epoch 022 Train 0.0075 Val 0.0200\n",
      "Epoch 023 Train 0.0074 Val 0.0192\n",
      "Epoch 024 Train 0.0072 Val 0.0198\n",
      "Decrease LR\n",
      "Epoch 025 Train 0.0071 Val 0.0202\n",
      "Epoch 026 Train 0.0070 Val 0.0180\n",
      "Epoch 027 Train 0.0066 Val 0.0206\n",
      "Epoch 028 Train 0.0063 Val 0.0204\n",
      "Epoch 029 Train 0.0064 Val 0.0195\n"
     ]
    },
    {
     "name": "stderr",
     "output_type": "stream",
     "text": [
      "[I 2024-04-11 11:41:02,354] Trial 25 finished with value: 0.6844515204429626 and parameters: {'n_hidden_units': 29, 'num_layers': 4, 'input_size_LSTM': 31, 'dropout_1': 0.8345976574442866, 'dropout_2': 0.6125416027383583, 'lr': 0.0019300357710035122, 'lr_gamma': 1.4370057715432787, 'seq_length_LSTM': 6, 'batch_size_train': 23, 'batch_size_val': 49, 'huber_delta': 8, 'alpha_reg': 1.2105872414087716e-06, 'l1_ratio_reg': 0.39395238042273817}. Best is trial 25 with value: 0.6844515204429626.\n"
     ]
    },
    {
     "name": "stdout",
     "output_type": "stream",
     "text": [
      "Decrease LR\n",
      "Epoch 000 Train 0.0309 Val 0.0373\n",
      "Epoch 001 Train 0.0182 Val 0.0259\n",
      "Epoch 002 Train 0.0134 Val 0.0246\n",
      "Epoch 003 Train 0.0119 Val 0.0206\n",
      "Epoch 004 Train 0.0113 Val 0.0231\n",
      "Epoch 005 Train 0.0109 Val 0.0221\n",
      "Epoch 006 Train 0.0106 Val 0.0207\n",
      "Epoch 007 Train 0.0100 Val 0.0211\n",
      "Epoch 008 Train 0.0096 Val 0.0193\n",
      "Epoch 009 Train 0.0091 Val 0.0193\n",
      "Epoch 010 Train 0.0090 Val 0.0185\n",
      "Epoch 011 Train 0.0084 Val 0.0201\n",
      "Epoch 012 Train 0.0081 Val 0.0210\n",
      "Epoch 013 Train 0.0078 Val 0.0231\n",
      "Epoch 014 Train 0.0076 Val 0.0260\n",
      "Decrease LR\n",
      "Epoch 015 Train 0.0071 Val 0.0256\n",
      "Epoch 016 Train 0.0069 Val 0.0250\n",
      "Epoch 017 Train 0.0066 Val 0.0267\n",
      "Epoch 018 Train 0.0067 Val 0.0274\n",
      "Epoch 019 Train 0.0065 Val 0.0265\n"
     ]
    },
    {
     "name": "stderr",
     "output_type": "stream",
     "text": [
      "[I 2024-04-11 11:41:51,596] Trial 26 finished with value: 0.555902381738027 and parameters: {'n_hidden_units': 29, 'num_layers': 4, 'input_size_LSTM': 39, 'dropout_1': 0.8382727363414753, 'dropout_2': 0.6017919701405968, 'lr': 0.002056229917045417, 'lr_gamma': 1.4408592441649537, 'seq_length_LSTM': 5, 'batch_size_train': 24, 'batch_size_val': 50, 'huber_delta': 8, 'alpha_reg': 1.1695193153985985e-06, 'l1_ratio_reg': 0.3396451501705725}. Best is trial 25 with value: 0.6844515204429626.\n"
     ]
    },
    {
     "name": "stdout",
     "output_type": "stream",
     "text": [
      "Decrease LR\n",
      "Epoch 000 Train 0.0339 Val 0.0436\n",
      "Epoch 001 Train 0.0248 Val 0.0302\n",
      "Epoch 002 Train 0.0193 Val 0.0274\n",
      "Epoch 003 Train 0.0157 Val 0.0227\n",
      "Epoch 004 Train 0.0135 Val 0.0222\n",
      "Epoch 005 Train 0.0123 Val 0.0200\n",
      "Epoch 006 Train 0.0115 Val 0.0207\n",
      "Epoch 007 Train 0.0110 Val 0.0207\n",
      "Epoch 008 Train 0.0106 Val 0.0204\n",
      "Epoch 009 Train 0.0102 Val 0.0189\n",
      "Epoch 010 Train 0.0097 Val 0.0188\n",
      "Epoch 011 Train 0.0090 Val 0.0199\n",
      "Epoch 012 Train 0.0086 Val 0.0218\n",
      "Epoch 013 Train 0.0080 Val 0.0238\n",
      "Epoch 014 Train 0.0075 Val 0.0214\n",
      "Decrease LR\n",
      "Epoch 015 Train 0.0072 Val 0.0261\n",
      "Epoch 016 Train 0.0069 Val 0.0251\n",
      "Epoch 017 Train 0.0069 Val 0.0253\n",
      "Epoch 018 Train 0.0066 Val 0.0231\n",
      "Epoch 019 Train 0.0066 Val 0.0234\n"
     ]
    },
    {
     "name": "stderr",
     "output_type": "stream",
     "text": [
      "[I 2024-04-11 11:42:37,875] Trial 27 finished with value: 0.5769526163736979 and parameters: {'n_hidden_units': 37, 'num_layers': 5, 'input_size_LSTM': 49, 'dropout_1': 0.6699832389837292, 'dropout_2': 0.7186810218779232, 'lr': 0.0008581825074251751, 'lr_gamma': 1.3405688065769292, 'seq_length_LSTM': 7, 'batch_size_train': 28, 'batch_size_val': 50, 'huber_delta': 7, 'alpha_reg': 9.293713140137032e-07, 'l1_ratio_reg': 0.281972135296056}. Best is trial 25 with value: 0.6844515204429626.\n"
     ]
    },
    {
     "name": "stdout",
     "output_type": "stream",
     "text": [
      "Decrease LR\n",
      "Epoch 000 Train 0.0300 Val 0.0312\n",
      "Epoch 001 Train 0.0172 Val 0.0261\n",
      "Epoch 002 Train 0.0130 Val 0.0211\n",
      "Epoch 003 Train 0.0115 Val 0.0191\n",
      "Epoch 004 Train 0.0107 Val 0.0192\n",
      "Epoch 005 Train 0.0102 Val 0.0189\n",
      "Epoch 006 Train 0.0099 Val 0.0188\n",
      "Epoch 007 Train 0.0091 Val 0.0171\n",
      "Epoch 008 Train 0.0085 Val 0.0176\n",
      "Epoch 009 Train 0.0081 Val 0.0187\n",
      "Epoch 010 Train 0.0080 Val 0.0228\n",
      "Epoch 011 Train 0.0073 Val 0.0240\n",
      "Epoch 012 Train 0.0072 Val 0.0273\n",
      "Epoch 013 Train 0.0068 Val 0.0191\n",
      "Epoch 014 Train 0.0065 Val 0.0243\n",
      "Decrease LR\n",
      "Epoch 015 Train 0.0061 Val 0.0236\n",
      "Epoch 016 Train 0.0060 Val 0.0245\n",
      "Epoch 017 Train 0.0057 Val 0.0257\n",
      "Epoch 018 Train 0.0056 Val 0.0217\n",
      "Epoch 019 Train 0.0056 Val 0.0249\n"
     ]
    },
    {
     "name": "stderr",
     "output_type": "stream",
     "text": [
      "[I 2024-04-11 11:43:31,175] Trial 28 finished with value: 0.6524635553359985 and parameters: {'n_hidden_units': 23, 'num_layers': 4, 'input_size_LSTM': 35, 'dropout_1': 0.8343563553295378, 'dropout_2': 0.36332051749526667, 'lr': 0.0023534103635508693, 'lr_gamma': 1.2938970141655959, 'seq_length_LSTM': 6, 'batch_size_train': 22, 'batch_size_val': 47, 'huber_delta': 6, 'alpha_reg': 2.830051228986696e-07, 'l1_ratio_reg': 0.5480711032184736}. Best is trial 25 with value: 0.6844515204429626.\n"
     ]
    },
    {
     "name": "stdout",
     "output_type": "stream",
     "text": [
      "Decrease LR\n",
      "Epoch 000 Train 0.0360 Val 0.0477\n",
      "Epoch 001 Train 0.0344 Val 0.0467\n",
      "Epoch 002 Train 0.0324 Val 0.0453\n",
      "Epoch 003 Train 0.0304 Val 0.0447\n",
      "Epoch 004 Train 0.0280 Val 0.0425\n"
     ]
    },
    {
     "name": "stderr",
     "output_type": "stream",
     "text": [
      "[I 2024-04-11 11:43:45,425] Trial 29 pruned. \n"
     ]
    },
    {
     "name": "stdout",
     "output_type": "stream",
     "text": [
      "Epoch 005 Train 0.0255 Val 0.0393\n",
      "input_size_LSTM: 0.20705422676930574\n",
      "lr_gamma: 0.15442104514456614\n",
      "batch_size_val: 0.14912654395131678\n",
      "seq_length_LSTM: 0.09927420071813813\n",
      "dropout_1: 0.08656502788544601\n",
      "l1_ratio_reg: 0.06026082337755853\n",
      "dropout_2: 0.059570603141598726\n",
      "lr: 0.04685162057922414\n",
      "batch_size_train: 0.04351582474001469\n",
      "n_hidden_units: 0.04143269986718854\n",
      "huber_delta: 0.03565514817560367\n",
      "num_layers: 0.01422314637692287\n",
      "alpha_reg: 0.0020490892731159114\n",
      "Study statistics: \n",
      "Number of finished trials:  30\n",
      "Number of pruned trials:  9\n",
      "Number of complete trials:  21\n",
      "Best trial: \n",
      "Loss: 0.6844515204429626\n",
      "Best hyperparameters: {'n_hidden_units': 29, 'num_layers': 4, 'input_size_LSTM': 31, 'dropout_1': 0.8345976574442866, 'dropout_2': 0.6125416027383583, 'lr': 0.0019300357710035122, 'lr_gamma': 1.4370057715432787, 'seq_length_LSTM': 6, 'batch_size_train': 23, 'batch_size_val': 49, 'huber_delta': 8, 'alpha_reg': 1.2105872414087716e-06, 'l1_ratio_reg': 0.39395238042273817}\n"
     ]
    }
   ],
   "source": [
    "study = optuna.create_study(direction=\"maximize\")\n",
    "\n",
    "# Set pruning options\n",
    "study.pruner = optuna.pruners.MedianPruner(n_startup_trials=5, n_warmup_steps=5)\n",
    "\n",
    "study.optimize(train_model_optuna, n_trials=30)\n",
    "\n",
    "importance_scores = optuna.importance.get_param_importances(study)\n",
    "\n",
    "# Print importance scores\n",
    "for param, score in importance_scores.items():\n",
    "    print(f\"{param}: {score}\")\n",
    "\n",
    "pruned_trials = [t for t in study.trials if t.state == optuna.trial.TrialState.PRUNED]\n",
    "complete_trials = [t for t in study.trials if t.state == optuna.trial.TrialState.COMPLETE]\n",
    "\n",
    "print('Study statistics: ')\n",
    "print(\"Number of finished trials: \", len(study.trials))\n",
    "print(\"Number of pruned trials: \", len(pruned_trials))\n",
    "print(\"Number of complete trials: \", len(complete_trials))\n",
    "\n",
    "print('Best trial: ')\n",
    "trial = study.best_trial\n",
    "\n",
    "print(\"Loss: {}\".format(trial.value))\n",
    "print(\"Best hyperparameters: {}\".format(trial.params))"
   ]
  },
  {
   "cell_type": "code",
   "execution_count": 7,
   "metadata": {},
   "outputs": [],
   "source": [
    "import joblib\n",
    "import json\n",
    "# Retrieve the best trial\n",
    "best_trial = study.best_trial\n",
    "\n",
    "# Get the best hyperparameters\n",
    "best_params = best_trial.params\n",
    "\n",
    "# Save the best parameters\n",
    "with open('stim_0411_best_params.json', 'w') as f:\n",
    "    json.dump(best_params, f)"
   ]
  },
  {
   "cell_type": "markdown",
   "metadata": {},
   "source": [
    "### Plotting the study"
   ]
  },
  {
   "cell_type": "code",
   "execution_count": 8,
   "metadata": {},
   "outputs": [
    {
     "data": {
      "application/vnd.plotly.v1+json": {
       "config": {
        "plotlyServerURL": "https://plot.ly"
       },
       "data": [
        {
         "mode": "markers",
         "name": "Objective Value",
         "type": "scatter",
         "x": [
          0,
          1,
          2,
          3,
          4,
          5,
          7,
          8,
          10,
          17,
          18,
          19,
          20,
          21,
          22,
          23,
          24,
          25,
          26,
          27,
          28
         ],
         "y": [
          0.557564357916514,
          0.5837963223457336,
          0.5733927885691324,
          0.5782246788342794,
          0.5710630615552267,
          0.5947860280672709,
          0.5676892399787903,
          0.576877236366272,
          0.537917951742808,
          0.624372641245524,
          0.5205423831939697,
          0.6180829405784607,
          0.5540282527605692,
          0.5602533022562662,
          0.5800162355105082,
          0.5993319948514303,
          0.5597676237424215,
          0.6844515204429626,
          0.555902381738027,
          0.5769526163736979,
          0.6524635553359985
         ]
        },
        {
         "mode": "lines",
         "name": "Best Value",
         "type": "scatter",
         "x": [
          0,
          1,
          2,
          3,
          4,
          5,
          6,
          7,
          8,
          9,
          10,
          11,
          12,
          13,
          14,
          15,
          16,
          17,
          18,
          19,
          20,
          21,
          22,
          23,
          24,
          25,
          26,
          27,
          28,
          29
         ],
         "y": [
          0.557564357916514,
          0.5837963223457336,
          0.5837963223457336,
          0.5837963223457336,
          0.5837963223457336,
          0.5947860280672709,
          0.5947860280672709,
          0.5947860280672709,
          0.5947860280672709,
          0.5947860280672709,
          0.5947860280672709,
          0.5947860280672709,
          0.5947860280672709,
          0.5947860280672709,
          0.5947860280672709,
          0.5947860280672709,
          0.5947860280672709,
          0.624372641245524,
          0.624372641245524,
          0.624372641245524,
          0.624372641245524,
          0.624372641245524,
          0.624372641245524,
          0.624372641245524,
          0.624372641245524,
          0.6844515204429626,
          0.6844515204429626,
          0.6844515204429626,
          0.6844515204429626,
          0.6844515204429626
         ]
        },
        {
         "marker": {
          "color": "#cccccc"
         },
         "mode": "markers",
         "name": "Infeasible Trial",
         "showlegend": false,
         "type": "scatter",
         "x": [],
         "y": []
        }
       ],
       "layout": {
        "template": {
         "data": {
          "bar": [
           {
            "error_x": {
             "color": "#2a3f5f"
            },
            "error_y": {
             "color": "#2a3f5f"
            },
            "marker": {
             "line": {
              "color": "#E5ECF6",
              "width": 0.5
             },
             "pattern": {
              "fillmode": "overlay",
              "size": 10,
              "solidity": 0.2
             }
            },
            "type": "bar"
           }
          ],
          "barpolar": [
           {
            "marker": {
             "line": {
              "color": "#E5ECF6",
              "width": 0.5
             },
             "pattern": {
              "fillmode": "overlay",
              "size": 10,
              "solidity": 0.2
             }
            },
            "type": "barpolar"
           }
          ],
          "carpet": [
           {
            "aaxis": {
             "endlinecolor": "#2a3f5f",
             "gridcolor": "white",
             "linecolor": "white",
             "minorgridcolor": "white",
             "startlinecolor": "#2a3f5f"
            },
            "baxis": {
             "endlinecolor": "#2a3f5f",
             "gridcolor": "white",
             "linecolor": "white",
             "minorgridcolor": "white",
             "startlinecolor": "#2a3f5f"
            },
            "type": "carpet"
           }
          ],
          "choropleth": [
           {
            "colorbar": {
             "outlinewidth": 0,
             "ticks": ""
            },
            "type": "choropleth"
           }
          ],
          "contour": [
           {
            "colorbar": {
             "outlinewidth": 0,
             "ticks": ""
            },
            "colorscale": [
             [
              0,
              "#0d0887"
             ],
             [
              0.1111111111111111,
              "#46039f"
             ],
             [
              0.2222222222222222,
              "#7201a8"
             ],
             [
              0.3333333333333333,
              "#9c179e"
             ],
             [
              0.4444444444444444,
              "#bd3786"
             ],
             [
              0.5555555555555556,
              "#d8576b"
             ],
             [
              0.6666666666666666,
              "#ed7953"
             ],
             [
              0.7777777777777778,
              "#fb9f3a"
             ],
             [
              0.8888888888888888,
              "#fdca26"
             ],
             [
              1,
              "#f0f921"
             ]
            ],
            "type": "contour"
           }
          ],
          "contourcarpet": [
           {
            "colorbar": {
             "outlinewidth": 0,
             "ticks": ""
            },
            "type": "contourcarpet"
           }
          ],
          "heatmap": [
           {
            "colorbar": {
             "outlinewidth": 0,
             "ticks": ""
            },
            "colorscale": [
             [
              0,
              "#0d0887"
             ],
             [
              0.1111111111111111,
              "#46039f"
             ],
             [
              0.2222222222222222,
              "#7201a8"
             ],
             [
              0.3333333333333333,
              "#9c179e"
             ],
             [
              0.4444444444444444,
              "#bd3786"
             ],
             [
              0.5555555555555556,
              "#d8576b"
             ],
             [
              0.6666666666666666,
              "#ed7953"
             ],
             [
              0.7777777777777778,
              "#fb9f3a"
             ],
             [
              0.8888888888888888,
              "#fdca26"
             ],
             [
              1,
              "#f0f921"
             ]
            ],
            "type": "heatmap"
           }
          ],
          "heatmapgl": [
           {
            "colorbar": {
             "outlinewidth": 0,
             "ticks": ""
            },
            "colorscale": [
             [
              0,
              "#0d0887"
             ],
             [
              0.1111111111111111,
              "#46039f"
             ],
             [
              0.2222222222222222,
              "#7201a8"
             ],
             [
              0.3333333333333333,
              "#9c179e"
             ],
             [
              0.4444444444444444,
              "#bd3786"
             ],
             [
              0.5555555555555556,
              "#d8576b"
             ],
             [
              0.6666666666666666,
              "#ed7953"
             ],
             [
              0.7777777777777778,
              "#fb9f3a"
             ],
             [
              0.8888888888888888,
              "#fdca26"
             ],
             [
              1,
              "#f0f921"
             ]
            ],
            "type": "heatmapgl"
           }
          ],
          "histogram": [
           {
            "marker": {
             "pattern": {
              "fillmode": "overlay",
              "size": 10,
              "solidity": 0.2
             }
            },
            "type": "histogram"
           }
          ],
          "histogram2d": [
           {
            "colorbar": {
             "outlinewidth": 0,
             "ticks": ""
            },
            "colorscale": [
             [
              0,
              "#0d0887"
             ],
             [
              0.1111111111111111,
              "#46039f"
             ],
             [
              0.2222222222222222,
              "#7201a8"
             ],
             [
              0.3333333333333333,
              "#9c179e"
             ],
             [
              0.4444444444444444,
              "#bd3786"
             ],
             [
              0.5555555555555556,
              "#d8576b"
             ],
             [
              0.6666666666666666,
              "#ed7953"
             ],
             [
              0.7777777777777778,
              "#fb9f3a"
             ],
             [
              0.8888888888888888,
              "#fdca26"
             ],
             [
              1,
              "#f0f921"
             ]
            ],
            "type": "histogram2d"
           }
          ],
          "histogram2dcontour": [
           {
            "colorbar": {
             "outlinewidth": 0,
             "ticks": ""
            },
            "colorscale": [
             [
              0,
              "#0d0887"
             ],
             [
              0.1111111111111111,
              "#46039f"
             ],
             [
              0.2222222222222222,
              "#7201a8"
             ],
             [
              0.3333333333333333,
              "#9c179e"
             ],
             [
              0.4444444444444444,
              "#bd3786"
             ],
             [
              0.5555555555555556,
              "#d8576b"
             ],
             [
              0.6666666666666666,
              "#ed7953"
             ],
             [
              0.7777777777777778,
              "#fb9f3a"
             ],
             [
              0.8888888888888888,
              "#fdca26"
             ],
             [
              1,
              "#f0f921"
             ]
            ],
            "type": "histogram2dcontour"
           }
          ],
          "mesh3d": [
           {
            "colorbar": {
             "outlinewidth": 0,
             "ticks": ""
            },
            "type": "mesh3d"
           }
          ],
          "parcoords": [
           {
            "line": {
             "colorbar": {
              "outlinewidth": 0,
              "ticks": ""
             }
            },
            "type": "parcoords"
           }
          ],
          "pie": [
           {
            "automargin": true,
            "type": "pie"
           }
          ],
          "scatter": [
           {
            "fillpattern": {
             "fillmode": "overlay",
             "size": 10,
             "solidity": 0.2
            },
            "type": "scatter"
           }
          ],
          "scatter3d": [
           {
            "line": {
             "colorbar": {
              "outlinewidth": 0,
              "ticks": ""
             }
            },
            "marker": {
             "colorbar": {
              "outlinewidth": 0,
              "ticks": ""
             }
            },
            "type": "scatter3d"
           }
          ],
          "scattercarpet": [
           {
            "marker": {
             "colorbar": {
              "outlinewidth": 0,
              "ticks": ""
             }
            },
            "type": "scattercarpet"
           }
          ],
          "scattergeo": [
           {
            "marker": {
             "colorbar": {
              "outlinewidth": 0,
              "ticks": ""
             }
            },
            "type": "scattergeo"
           }
          ],
          "scattergl": [
           {
            "marker": {
             "colorbar": {
              "outlinewidth": 0,
              "ticks": ""
             }
            },
            "type": "scattergl"
           }
          ],
          "scattermapbox": [
           {
            "marker": {
             "colorbar": {
              "outlinewidth": 0,
              "ticks": ""
             }
            },
            "type": "scattermapbox"
           }
          ],
          "scatterpolar": [
           {
            "marker": {
             "colorbar": {
              "outlinewidth": 0,
              "ticks": ""
             }
            },
            "type": "scatterpolar"
           }
          ],
          "scatterpolargl": [
           {
            "marker": {
             "colorbar": {
              "outlinewidth": 0,
              "ticks": ""
             }
            },
            "type": "scatterpolargl"
           }
          ],
          "scatterternary": [
           {
            "marker": {
             "colorbar": {
              "outlinewidth": 0,
              "ticks": ""
             }
            },
            "type": "scatterternary"
           }
          ],
          "surface": [
           {
            "colorbar": {
             "outlinewidth": 0,
             "ticks": ""
            },
            "colorscale": [
             [
              0,
              "#0d0887"
             ],
             [
              0.1111111111111111,
              "#46039f"
             ],
             [
              0.2222222222222222,
              "#7201a8"
             ],
             [
              0.3333333333333333,
              "#9c179e"
             ],
             [
              0.4444444444444444,
              "#bd3786"
             ],
             [
              0.5555555555555556,
              "#d8576b"
             ],
             [
              0.6666666666666666,
              "#ed7953"
             ],
             [
              0.7777777777777778,
              "#fb9f3a"
             ],
             [
              0.8888888888888888,
              "#fdca26"
             ],
             [
              1,
              "#f0f921"
             ]
            ],
            "type": "surface"
           }
          ],
          "table": [
           {
            "cells": {
             "fill": {
              "color": "#EBF0F8"
             },
             "line": {
              "color": "white"
             }
            },
            "header": {
             "fill": {
              "color": "#C8D4E3"
             },
             "line": {
              "color": "white"
             }
            },
            "type": "table"
           }
          ]
         },
         "layout": {
          "annotationdefaults": {
           "arrowcolor": "#2a3f5f",
           "arrowhead": 0,
           "arrowwidth": 1
          },
          "autotypenumbers": "strict",
          "coloraxis": {
           "colorbar": {
            "outlinewidth": 0,
            "ticks": ""
           }
          },
          "colorscale": {
           "diverging": [
            [
             0,
             "#8e0152"
            ],
            [
             0.1,
             "#c51b7d"
            ],
            [
             0.2,
             "#de77ae"
            ],
            [
             0.3,
             "#f1b6da"
            ],
            [
             0.4,
             "#fde0ef"
            ],
            [
             0.5,
             "#f7f7f7"
            ],
            [
             0.6,
             "#e6f5d0"
            ],
            [
             0.7,
             "#b8e186"
            ],
            [
             0.8,
             "#7fbc41"
            ],
            [
             0.9,
             "#4d9221"
            ],
            [
             1,
             "#276419"
            ]
           ],
           "sequential": [
            [
             0,
             "#0d0887"
            ],
            [
             0.1111111111111111,
             "#46039f"
            ],
            [
             0.2222222222222222,
             "#7201a8"
            ],
            [
             0.3333333333333333,
             "#9c179e"
            ],
            [
             0.4444444444444444,
             "#bd3786"
            ],
            [
             0.5555555555555556,
             "#d8576b"
            ],
            [
             0.6666666666666666,
             "#ed7953"
            ],
            [
             0.7777777777777778,
             "#fb9f3a"
            ],
            [
             0.8888888888888888,
             "#fdca26"
            ],
            [
             1,
             "#f0f921"
            ]
           ],
           "sequentialminus": [
            [
             0,
             "#0d0887"
            ],
            [
             0.1111111111111111,
             "#46039f"
            ],
            [
             0.2222222222222222,
             "#7201a8"
            ],
            [
             0.3333333333333333,
             "#9c179e"
            ],
            [
             0.4444444444444444,
             "#bd3786"
            ],
            [
             0.5555555555555556,
             "#d8576b"
            ],
            [
             0.6666666666666666,
             "#ed7953"
            ],
            [
             0.7777777777777778,
             "#fb9f3a"
            ],
            [
             0.8888888888888888,
             "#fdca26"
            ],
            [
             1,
             "#f0f921"
            ]
           ]
          },
          "colorway": [
           "#636efa",
           "#EF553B",
           "#00cc96",
           "#ab63fa",
           "#FFA15A",
           "#19d3f3",
           "#FF6692",
           "#B6E880",
           "#FF97FF",
           "#FECB52"
          ],
          "font": {
           "color": "#2a3f5f"
          },
          "geo": {
           "bgcolor": "white",
           "lakecolor": "white",
           "landcolor": "#E5ECF6",
           "showlakes": true,
           "showland": true,
           "subunitcolor": "white"
          },
          "hoverlabel": {
           "align": "left"
          },
          "hovermode": "closest",
          "mapbox": {
           "style": "light"
          },
          "paper_bgcolor": "white",
          "plot_bgcolor": "#E5ECF6",
          "polar": {
           "angularaxis": {
            "gridcolor": "white",
            "linecolor": "white",
            "ticks": ""
           },
           "bgcolor": "#E5ECF6",
           "radialaxis": {
            "gridcolor": "white",
            "linecolor": "white",
            "ticks": ""
           }
          },
          "scene": {
           "xaxis": {
            "backgroundcolor": "#E5ECF6",
            "gridcolor": "white",
            "gridwidth": 2,
            "linecolor": "white",
            "showbackground": true,
            "ticks": "",
            "zerolinecolor": "white"
           },
           "yaxis": {
            "backgroundcolor": "#E5ECF6",
            "gridcolor": "white",
            "gridwidth": 2,
            "linecolor": "white",
            "showbackground": true,
            "ticks": "",
            "zerolinecolor": "white"
           },
           "zaxis": {
            "backgroundcolor": "#E5ECF6",
            "gridcolor": "white",
            "gridwidth": 2,
            "linecolor": "white",
            "showbackground": true,
            "ticks": "",
            "zerolinecolor": "white"
           }
          },
          "shapedefaults": {
           "line": {
            "color": "#2a3f5f"
           }
          },
          "ternary": {
           "aaxis": {
            "gridcolor": "white",
            "linecolor": "white",
            "ticks": ""
           },
           "baxis": {
            "gridcolor": "white",
            "linecolor": "white",
            "ticks": ""
           },
           "bgcolor": "#E5ECF6",
           "caxis": {
            "gridcolor": "white",
            "linecolor": "white",
            "ticks": ""
           }
          },
          "title": {
           "x": 0.05
          },
          "xaxis": {
           "automargin": true,
           "gridcolor": "white",
           "linecolor": "white",
           "ticks": "",
           "title": {
            "standoff": 15
           },
           "zerolinecolor": "white",
           "zerolinewidth": 2
          },
          "yaxis": {
           "automargin": true,
           "gridcolor": "white",
           "linecolor": "white",
           "ticks": "",
           "title": {
            "standoff": 15
           },
           "zerolinecolor": "white",
           "zerolinewidth": 2
          }
         }
        },
        "title": {
         "text": "Optimization History Plot"
        },
        "xaxis": {
         "title": {
          "text": "Trial"
         }
        },
        "yaxis": {
         "title": {
          "text": "Objective Value"
         }
        }
       }
      }
     },
     "metadata": {},
     "output_type": "display_data"
    }
   ],
   "source": [
    "optuna.visualization.plot_optimization_history(study)"
   ]
  },
  {
   "cell_type": "code",
   "execution_count": 9,
   "metadata": {},
   "outputs": [
    {
     "data": {
      "application/vnd.plotly.v1+json": {
       "config": {
        "plotlyServerURL": "https://plot.ly"
       },
       "data": [
        {
         "marker": {
          "color": [
           0,
           1,
           2,
           3,
           4,
           5,
           7,
           8,
           10,
           17,
           18,
           19,
           20,
           21,
           22,
           23,
           24,
           25,
           26,
           27,
           28
          ],
          "colorbar": {
           "title": {
            "text": "Trial"
           },
           "x": 1,
           "xpad": 40
          },
          "colorscale": [
           [
            0,
            "rgb(247,251,255)"
           ],
           [
            0.125,
            "rgb(222,235,247)"
           ],
           [
            0.25,
            "rgb(198,219,239)"
           ],
           [
            0.375,
            "rgb(158,202,225)"
           ],
           [
            0.5,
            "rgb(107,174,214)"
           ],
           [
            0.625,
            "rgb(66,146,198)"
           ],
           [
            0.75,
            "rgb(33,113,181)"
           ],
           [
            0.875,
            "rgb(8,81,156)"
           ],
           [
            1,
            "rgb(8,48,107)"
           ]
          ],
          "line": {
           "color": "Grey",
           "width": 0.5
          },
          "showscale": true
         },
         "mode": "markers",
         "name": "Feasible Trial",
         "showlegend": false,
         "type": "scatter",
         "x": [
          1.3167292982528577e-7,
          0.000014879497663262762,
          0.00003642062077601959,
          0.0000016705479684790027,
          0.0000031770986327354357,
          0.000041667010479182313,
          0.00041948641226735155,
          0.00008574576783606505,
          0.0009727215937916094,
          0.000002940340760405389,
          0.0000024210061172503684,
          8.795863802780713e-7,
          5.237250491877571e-7,
          7.278089180020603e-7,
          1.729443236170899e-7,
          0.0000049781070661255504,
          0.000004987763726987107,
          0.0000012105872414087716,
          0.0000011695193153985985,
          9.293713140137032e-7,
          2.830051228986696e-7
         ],
         "xaxis": "x",
         "y": [
          0.557564357916514,
          0.5837963223457336,
          0.5733927885691324,
          0.5782246788342794,
          0.5710630615552267,
          0.5947860280672709,
          0.5676892399787903,
          0.576877236366272,
          0.537917951742808,
          0.624372641245524,
          0.5205423831939697,
          0.6180829405784607,
          0.5540282527605692,
          0.5602533022562662,
          0.5800162355105082,
          0.5993319948514303,
          0.5597676237424215,
          0.6844515204429626,
          0.555902381738027,
          0.5769526163736979,
          0.6524635553359985
         ],
         "yaxis": "y"
        },
        {
         "marker": {
          "color": [
           0,
           1,
           2,
           3,
           4,
           5,
           7,
           8,
           10,
           17,
           18,
           19,
           20,
           21,
           22,
           23,
           24,
           25,
           26,
           27,
           28
          ],
          "colorbar": {
           "title": {
            "text": "Trial"
           },
           "x": 1,
           "xpad": 40
          },
          "colorscale": [
           [
            0,
            "rgb(247,251,255)"
           ],
           [
            0.125,
            "rgb(222,235,247)"
           ],
           [
            0.25,
            "rgb(198,219,239)"
           ],
           [
            0.375,
            "rgb(158,202,225)"
           ],
           [
            0.5,
            "rgb(107,174,214)"
           ],
           [
            0.625,
            "rgb(66,146,198)"
           ],
           [
            0.75,
            "rgb(33,113,181)"
           ],
           [
            0.875,
            "rgb(8,81,156)"
           ],
           [
            1,
            "rgb(8,48,107)"
           ]
          ],
          "line": {
           "color": "Grey",
           "width": 0.5
          },
          "showscale": false
         },
         "mode": "markers",
         "name": "Feasible Trial",
         "showlegend": false,
         "type": "scatter",
         "x": [
          26,
          30,
          44,
          48,
          38,
          33,
          46,
          24,
          20,
          21,
          20,
          23,
          23,
          23,
          26,
          20,
          20,
          23,
          24,
          28,
          22
         ],
         "xaxis": "x2",
         "y": [
          0.557564357916514,
          0.5837963223457336,
          0.5733927885691324,
          0.5782246788342794,
          0.5710630615552267,
          0.5947860280672709,
          0.5676892399787903,
          0.576877236366272,
          0.537917951742808,
          0.624372641245524,
          0.5205423831939697,
          0.6180829405784607,
          0.5540282527605692,
          0.5602533022562662,
          0.5800162355105082,
          0.5993319948514303,
          0.5597676237424215,
          0.6844515204429626,
          0.555902381738027,
          0.5769526163736979,
          0.6524635553359985
         ],
         "yaxis": "y2"
        },
        {
         "marker": {
          "color": [
           0,
           1,
           2,
           3,
           4,
           5,
           7,
           8,
           10,
           17,
           18,
           19,
           20,
           21,
           22,
           23,
           24,
           25,
           26,
           27,
           28
          ],
          "colorbar": {
           "title": {
            "text": "Trial"
           },
           "x": 1,
           "xpad": 40
          },
          "colorscale": [
           [
            0,
            "rgb(247,251,255)"
           ],
           [
            0.125,
            "rgb(222,235,247)"
           ],
           [
            0.25,
            "rgb(198,219,239)"
           ],
           [
            0.375,
            "rgb(158,202,225)"
           ],
           [
            0.5,
            "rgb(107,174,214)"
           ],
           [
            0.625,
            "rgb(66,146,198)"
           ],
           [
            0.75,
            "rgb(33,113,181)"
           ],
           [
            0.875,
            "rgb(8,81,156)"
           ],
           [
            1,
            "rgb(8,48,107)"
           ]
          ],
          "line": {
           "color": "Grey",
           "width": 0.5
          },
          "showscale": false
         },
         "mode": "markers",
         "name": "Feasible Trial",
         "showlegend": false,
         "type": "scatter",
         "x": [
          47,
          24,
          29,
          27,
          47,
          22,
          39,
          20,
          34,
          38,
          40,
          43,
          44,
          37,
          43,
          43,
          44,
          49,
          50,
          50,
          47
         ],
         "xaxis": "x3",
         "y": [
          0.557564357916514,
          0.5837963223457336,
          0.5733927885691324,
          0.5782246788342794,
          0.5710630615552267,
          0.5947860280672709,
          0.5676892399787903,
          0.576877236366272,
          0.537917951742808,
          0.624372641245524,
          0.5205423831939697,
          0.6180829405784607,
          0.5540282527605692,
          0.5602533022562662,
          0.5800162355105082,
          0.5993319948514303,
          0.5597676237424215,
          0.6844515204429626,
          0.555902381738027,
          0.5769526163736979,
          0.6524635553359985
         ],
         "yaxis": "y3"
        },
        {
         "marker": {
          "color": [
           0,
           1,
           2,
           3,
           4,
           5,
           7,
           8,
           10,
           17,
           18,
           19,
           20,
           21,
           22,
           23,
           24,
           25,
           26,
           27,
           28
          ],
          "colorbar": {
           "title": {
            "text": "Trial"
           },
           "x": 1,
           "xpad": 40
          },
          "colorscale": [
           [
            0,
            "rgb(247,251,255)"
           ],
           [
            0.125,
            "rgb(222,235,247)"
           ],
           [
            0.25,
            "rgb(198,219,239)"
           ],
           [
            0.375,
            "rgb(158,202,225)"
           ],
           [
            0.5,
            "rgb(107,174,214)"
           ],
           [
            0.625,
            "rgb(66,146,198)"
           ],
           [
            0.75,
            "rgb(33,113,181)"
           ],
           [
            0.875,
            "rgb(8,81,156)"
           ],
           [
            1,
            "rgb(8,48,107)"
           ]
          ],
          "line": {
           "color": "Grey",
           "width": 0.5
          },
          "showscale": false
         },
         "mode": "markers",
         "name": "Feasible Trial",
         "showlegend": false,
         "type": "scatter",
         "x": [
          0.10860994498666071,
          0.5919414109816071,
          0.41161327052085384,
          0.4212072004019028,
          0.25300070319168455,
          0.5612163910549153,
          0.7407048370546456,
          0.026201413565447775,
          0.8966210188178463,
          0.7330679316426173,
          0.77779871534603,
          0.6965124146905848,
          0.8935724608366916,
          0.6980979568108039,
          0.4894335419349103,
          0.7955466823612629,
          0.6868208047426951,
          0.8345976574442866,
          0.8382727363414753,
          0.6699832389837292,
          0.8343563553295378
         ],
         "xaxis": "x4",
         "y": [
          0.557564357916514,
          0.5837963223457336,
          0.5733927885691324,
          0.5782246788342794,
          0.5710630615552267,
          0.5947860280672709,
          0.5676892399787903,
          0.576877236366272,
          0.537917951742808,
          0.624372641245524,
          0.5205423831939697,
          0.6180829405784607,
          0.5540282527605692,
          0.5602533022562662,
          0.5800162355105082,
          0.5993319948514303,
          0.5597676237424215,
          0.6844515204429626,
          0.555902381738027,
          0.5769526163736979,
          0.6524635553359985
         ],
         "yaxis": "y4"
        },
        {
         "marker": {
          "color": [
           0,
           1,
           2,
           3,
           4,
           5,
           7,
           8,
           10,
           17,
           18,
           19,
           20,
           21,
           22,
           23,
           24,
           25,
           26,
           27,
           28
          ],
          "colorbar": {
           "title": {
            "text": "Trial"
           },
           "x": 1,
           "xpad": 40
          },
          "colorscale": [
           [
            0,
            "rgb(247,251,255)"
           ],
           [
            0.125,
            "rgb(222,235,247)"
           ],
           [
            0.25,
            "rgb(198,219,239)"
           ],
           [
            0.375,
            "rgb(158,202,225)"
           ],
           [
            0.5,
            "rgb(107,174,214)"
           ],
           [
            0.625,
            "rgb(66,146,198)"
           ],
           [
            0.75,
            "rgb(33,113,181)"
           ],
           [
            0.875,
            "rgb(8,81,156)"
           ],
           [
            1,
            "rgb(8,48,107)"
           ]
          ],
          "line": {
           "color": "Grey",
           "width": 0.5
          },
          "showscale": false
         },
         "mode": "markers",
         "name": "Feasible Trial",
         "showlegend": false,
         "type": "scatter",
         "x": [
          0.890047655818418,
          0.3992216410596555,
          0.020412675254053304,
          0.5713206781020905,
          0.07384863856151484,
          0.2639622223748317,
          0.5413304684406867,
          0.2919854977069228,
          0.25088989614844354,
          0.37666661323267614,
          0.21318415843700278,
          0.5015136652556536,
          0.5164138359987192,
          0.3245592238106014,
          0.48759457503849735,
          0.6327572716624659,
          0.7285647715967317,
          0.6125416027383583,
          0.6017919701405968,
          0.7186810218779232,
          0.36332051749526667
         ],
         "xaxis": "x5",
         "y": [
          0.557564357916514,
          0.5837963223457336,
          0.5733927885691324,
          0.5782246788342794,
          0.5710630615552267,
          0.5947860280672709,
          0.5676892399787903,
          0.576877236366272,
          0.537917951742808,
          0.624372641245524,
          0.5205423831939697,
          0.6180829405784607,
          0.5540282527605692,
          0.5602533022562662,
          0.5800162355105082,
          0.5993319948514303,
          0.5597676237424215,
          0.6844515204429626,
          0.555902381738027,
          0.5769526163736979,
          0.6524635553359985
         ],
         "yaxis": "y5"
        },
        {
         "marker": {
          "color": [
           0,
           1,
           2,
           3,
           4,
           5,
           7,
           8,
           10,
           17,
           18,
           19,
           20,
           21,
           22,
           23,
           24,
           25,
           26,
           27,
           28
          ],
          "colorbar": {
           "title": {
            "text": "Trial"
           },
           "x": 1,
           "xpad": 40
          },
          "colorscale": [
           [
            0,
            "rgb(247,251,255)"
           ],
           [
            0.125,
            "rgb(222,235,247)"
           ],
           [
            0.25,
            "rgb(198,219,239)"
           ],
           [
            0.375,
            "rgb(158,202,225)"
           ],
           [
            0.5,
            "rgb(107,174,214)"
           ],
           [
            0.625,
            "rgb(66,146,198)"
           ],
           [
            0.75,
            "rgb(33,113,181)"
           ],
           [
            0.875,
            "rgb(8,81,156)"
           ],
           [
            1,
            "rgb(8,48,107)"
           ]
          ],
          "line": {
           "color": "Grey",
           "width": 0.5
          },
          "showscale": false
         },
         "mode": "markers",
         "name": "Feasible Trial",
         "showlegend": false,
         "type": "scatter",
         "x": [
          9,
          6,
          7,
          10,
          10,
          9,
          9,
          10,
          8,
          7,
          8,
          7,
          7,
          7,
          8,
          9,
          7,
          8,
          8,
          7,
          6
         ],
         "xaxis": "x6",
         "y": [
          0.557564357916514,
          0.5837963223457336,
          0.5733927885691324,
          0.5782246788342794,
          0.5710630615552267,
          0.5947860280672709,
          0.5676892399787903,
          0.576877236366272,
          0.537917951742808,
          0.624372641245524,
          0.5205423831939697,
          0.6180829405784607,
          0.5540282527605692,
          0.5602533022562662,
          0.5800162355105082,
          0.5993319948514303,
          0.5597676237424215,
          0.6844515204429626,
          0.555902381738027,
          0.5769526163736979,
          0.6524635553359985
         ],
         "yaxis": "y6"
        },
        {
         "marker": {
          "color": [
           0,
           1,
           2,
           3,
           4,
           5,
           7,
           8,
           10,
           17,
           18,
           19,
           20,
           21,
           22,
           23,
           24,
           25,
           26,
           27,
           28
          ],
          "colorbar": {
           "title": {
            "text": "Trial"
           },
           "x": 1,
           "xpad": 40
          },
          "colorscale": [
           [
            0,
            "rgb(247,251,255)"
           ],
           [
            0.125,
            "rgb(222,235,247)"
           ],
           [
            0.25,
            "rgb(198,219,239)"
           ],
           [
            0.375,
            "rgb(158,202,225)"
           ],
           [
            0.5,
            "rgb(107,174,214)"
           ],
           [
            0.625,
            "rgb(66,146,198)"
           ],
           [
            0.75,
            "rgb(33,113,181)"
           ],
           [
            0.875,
            "rgb(8,81,156)"
           ],
           [
            1,
            "rgb(8,48,107)"
           ]
          ],
          "line": {
           "color": "Grey",
           "width": 0.5
          },
          "showscale": false
         },
         "mode": "markers",
         "name": "Feasible Trial",
         "showlegend": false,
         "type": "scatter",
         "x": [
          42,
          22,
          42,
          23,
          25,
          27,
          58,
          55,
          33,
          37,
          47,
          37,
          38,
          35,
          46,
          31,
          40,
          31,
          39,
          49,
          35
         ],
         "xaxis": "x7",
         "y": [
          0.557564357916514,
          0.5837963223457336,
          0.5733927885691324,
          0.5782246788342794,
          0.5710630615552267,
          0.5947860280672709,
          0.5676892399787903,
          0.576877236366272,
          0.537917951742808,
          0.624372641245524,
          0.5205423831939697,
          0.6180829405784607,
          0.5540282527605692,
          0.5602533022562662,
          0.5800162355105082,
          0.5993319948514303,
          0.5597676237424215,
          0.6844515204429626,
          0.555902381738027,
          0.5769526163736979,
          0.6524635553359985
         ],
         "yaxis": "y7"
        },
        {
         "marker": {
          "color": [
           0,
           1,
           2,
           3,
           4,
           5,
           7,
           8,
           10,
           17,
           18,
           19,
           20,
           21,
           22,
           23,
           24,
           25,
           26,
           27,
           28
          ],
          "colorbar": {
           "title": {
            "text": "Trial"
           },
           "x": 1,
           "xpad": 40
          },
          "colorscale": [
           [
            0,
            "rgb(247,251,255)"
           ],
           [
            0.125,
            "rgb(222,235,247)"
           ],
           [
            0.25,
            "rgb(198,219,239)"
           ],
           [
            0.375,
            "rgb(158,202,225)"
           ],
           [
            0.5,
            "rgb(107,174,214)"
           ],
           [
            0.625,
            "rgb(66,146,198)"
           ],
           [
            0.75,
            "rgb(33,113,181)"
           ],
           [
            0.875,
            "rgb(8,81,156)"
           ],
           [
            1,
            "rgb(8,48,107)"
           ]
          ],
          "line": {
           "color": "Grey",
           "width": 0.5
          },
          "showscale": false
         },
         "mode": "markers",
         "name": "Feasible Trial",
         "showlegend": false,
         "type": "scatter",
         "x": [
          0.7591944148023158,
          0.7886856630371724,
          0.45743899544565647,
          0.3690358032695154,
          0.5784101575576397,
          0.42604446655409955,
          0.7194934548690703,
          0.2722307827716314,
          0.5868937996980452,
          0.493622465578819,
          0.4777620701542325,
          0.4140543660863291,
          0.5310203837326738,
          0.4210006100805645,
          0.3040912660197711,
          0.397683754486284,
          0.4968292146119704,
          0.39395238042273817,
          0.3396451501705725,
          0.281972135296056,
          0.5480711032184736
         ],
         "xaxis": "x8",
         "y": [
          0.557564357916514,
          0.5837963223457336,
          0.5733927885691324,
          0.5782246788342794,
          0.5710630615552267,
          0.5947860280672709,
          0.5676892399787903,
          0.576877236366272,
          0.537917951742808,
          0.624372641245524,
          0.5205423831939697,
          0.6180829405784607,
          0.5540282527605692,
          0.5602533022562662,
          0.5800162355105082,
          0.5993319948514303,
          0.5597676237424215,
          0.6844515204429626,
          0.555902381738027,
          0.5769526163736979,
          0.6524635553359985
         ],
         "yaxis": "y8"
        },
        {
         "marker": {
          "color": [
           0,
           1,
           2,
           3,
           4,
           5,
           7,
           8,
           10,
           17,
           18,
           19,
           20,
           21,
           22,
           23,
           24,
           25,
           26,
           27,
           28
          ],
          "colorbar": {
           "title": {
            "text": "Trial"
           },
           "x": 1,
           "xpad": 40
          },
          "colorscale": [
           [
            0,
            "rgb(247,251,255)"
           ],
           [
            0.125,
            "rgb(222,235,247)"
           ],
           [
            0.25,
            "rgb(198,219,239)"
           ],
           [
            0.375,
            "rgb(158,202,225)"
           ],
           [
            0.5,
            "rgb(107,174,214)"
           ],
           [
            0.625,
            "rgb(66,146,198)"
           ],
           [
            0.75,
            "rgb(33,113,181)"
           ],
           [
            0.875,
            "rgb(8,81,156)"
           ],
           [
            1,
            "rgb(8,48,107)"
           ]
          ],
          "line": {
           "color": "Grey",
           "width": 0.5
          },
          "showscale": false
         },
         "mode": "markers",
         "name": "Feasible Trial",
         "showlegend": false,
         "type": "scatter",
         "x": [
          0.00005993393416205095,
          0.000047842834520663247,
          0.00002841289623182667,
          0.0005391396880940846,
          0.0004413899877346308,
          0.0036494759774787925,
          0.004140600820548197,
          0.0017736022600876443,
          0.008334033674200164,
          0.00226563977062076,
          0.0027987327768265358,
          0.007990639655752866,
          0.009282973838290798,
          0.004483511648018736,
          0.001213561455124404,
          0.005504719171288152,
          0.007163615534355011,
          0.0019300357710035122,
          0.002056229917045417,
          0.0008581825074251751,
          0.0023534103635508693
         ],
         "xaxis": "x9",
         "y": [
          0.557564357916514,
          0.5837963223457336,
          0.5733927885691324,
          0.5782246788342794,
          0.5710630615552267,
          0.5947860280672709,
          0.5676892399787903,
          0.576877236366272,
          0.537917951742808,
          0.624372641245524,
          0.5205423831939697,
          0.6180829405784607,
          0.5540282527605692,
          0.5602533022562662,
          0.5800162355105082,
          0.5993319948514303,
          0.5597676237424215,
          0.6844515204429626,
          0.555902381738027,
          0.5769526163736979,
          0.6524635553359985
         ],
         "yaxis": "y9"
        },
        {
         "marker": {
          "color": [
           0,
           1,
           2,
           3,
           4,
           5,
           7,
           8,
           10,
           17,
           18,
           19,
           20,
           21,
           22,
           23,
           24,
           25,
           26,
           27,
           28
          ],
          "colorbar": {
           "title": {
            "text": "Trial"
           },
           "x": 1,
           "xpad": 40
          },
          "colorscale": [
           [
            0,
            "rgb(247,251,255)"
           ],
           [
            0.125,
            "rgb(222,235,247)"
           ],
           [
            0.25,
            "rgb(198,219,239)"
           ],
           [
            0.375,
            "rgb(158,202,225)"
           ],
           [
            0.5,
            "rgb(107,174,214)"
           ],
           [
            0.625,
            "rgb(66,146,198)"
           ],
           [
            0.75,
            "rgb(33,113,181)"
           ],
           [
            0.875,
            "rgb(8,81,156)"
           ],
           [
            1,
            "rgb(8,48,107)"
           ]
          ],
          "line": {
           "color": "Grey",
           "width": 0.5
          },
          "showscale": false
         },
         "mode": "markers",
         "name": "Feasible Trial",
         "showlegend": false,
         "type": "scatter",
         "x": [
          1.3369191702379997,
          1.1973038927346897,
          1.1312666824831175,
          1.2428893709921862,
          1.1538806286725403,
          1.2266810038669282,
          1.30641423686066,
          1.2967034913865425,
          1.4604603002941159,
          1.265951945828687,
          1.4925116890076753,
          1.2907298433329475,
          1.2727636822405568,
          1.3422066958467707,
          1.2437741736905323,
          1.3919263553651604,
          1.4095314020464613,
          1.4370057715432787,
          1.4408592441649537,
          1.3405688065769292,
          1.2938970141655959
         ],
         "xaxis": "x10",
         "y": [
          0.557564357916514,
          0.5837963223457336,
          0.5733927885691324,
          0.5782246788342794,
          0.5710630615552267,
          0.5947860280672709,
          0.5676892399787903,
          0.576877236366272,
          0.537917951742808,
          0.624372641245524,
          0.5205423831939697,
          0.6180829405784607,
          0.5540282527605692,
          0.5602533022562662,
          0.5800162355105082,
          0.5993319948514303,
          0.5597676237424215,
          0.6844515204429626,
          0.555902381738027,
          0.5769526163736979,
          0.6524635553359985
         ],
         "yaxis": "y10"
        },
        {
         "marker": {
          "color": [
           0,
           1,
           2,
           3,
           4,
           5,
           7,
           8,
           10,
           17,
           18,
           19,
           20,
           21,
           22,
           23,
           24,
           25,
           26,
           27,
           28
          ],
          "colorbar": {
           "title": {
            "text": "Trial"
           },
           "x": 1,
           "xpad": 40
          },
          "colorscale": [
           [
            0,
            "rgb(247,251,255)"
           ],
           [
            0.125,
            "rgb(222,235,247)"
           ],
           [
            0.25,
            "rgb(198,219,239)"
           ],
           [
            0.375,
            "rgb(158,202,225)"
           ],
           [
            0.5,
            "rgb(107,174,214)"
           ],
           [
            0.625,
            "rgb(66,146,198)"
           ],
           [
            0.75,
            "rgb(33,113,181)"
           ],
           [
            0.875,
            "rgb(8,81,156)"
           ],
           [
            1,
            "rgb(8,48,107)"
           ]
          ],
          "line": {
           "color": "Grey",
           "width": 0.5
          },
          "showscale": false
         },
         "mode": "markers",
         "name": "Feasible Trial",
         "showlegend": false,
         "type": "scatter",
         "x": [
          27,
          40,
          51,
          25,
          25,
          10,
          6,
          11,
          15,
          34,
          31,
          19,
          21,
          12,
          33,
          17,
          20,
          29,
          29,
          37,
          23
         ],
         "xaxis": "x11",
         "y": [
          0.557564357916514,
          0.5837963223457336,
          0.5733927885691324,
          0.5782246788342794,
          0.5710630615552267,
          0.5947860280672709,
          0.5676892399787903,
          0.576877236366272,
          0.537917951742808,
          0.624372641245524,
          0.5205423831939697,
          0.6180829405784607,
          0.5540282527605692,
          0.5602533022562662,
          0.5800162355105082,
          0.5993319948514303,
          0.5597676237424215,
          0.6844515204429626,
          0.555902381738027,
          0.5769526163736979,
          0.6524635553359985
         ],
         "yaxis": "y11"
        },
        {
         "marker": {
          "color": [
           0,
           1,
           2,
           3,
           4,
           5,
           7,
           8,
           10,
           17,
           18,
           19,
           20,
           21,
           22,
           23,
           24,
           25,
           26,
           27,
           28
          ],
          "colorbar": {
           "title": {
            "text": "Trial"
           },
           "x": 1,
           "xpad": 40
          },
          "colorscale": [
           [
            0,
            "rgb(247,251,255)"
           ],
           [
            0.125,
            "rgb(222,235,247)"
           ],
           [
            0.25,
            "rgb(198,219,239)"
           ],
           [
            0.375,
            "rgb(158,202,225)"
           ],
           [
            0.5,
            "rgb(107,174,214)"
           ],
           [
            0.625,
            "rgb(66,146,198)"
           ],
           [
            0.75,
            "rgb(33,113,181)"
           ],
           [
            0.875,
            "rgb(8,81,156)"
           ],
           [
            1,
            "rgb(8,48,107)"
           ]
          ],
          "line": {
           "color": "Grey",
           "width": 0.5
          },
          "showscale": false
         },
         "mode": "markers",
         "name": "Feasible Trial",
         "showlegend": false,
         "type": "scatter",
         "x": [
          2,
          2,
          4,
          5,
          5,
          2,
          2,
          2,
          1,
          4,
          4,
          4,
          4,
          4,
          5,
          3,
          3,
          4,
          4,
          5,
          4
         ],
         "xaxis": "x12",
         "y": [
          0.557564357916514,
          0.5837963223457336,
          0.5733927885691324,
          0.5782246788342794,
          0.5710630615552267,
          0.5947860280672709,
          0.5676892399787903,
          0.576877236366272,
          0.537917951742808,
          0.624372641245524,
          0.5205423831939697,
          0.6180829405784607,
          0.5540282527605692,
          0.5602533022562662,
          0.5800162355105082,
          0.5993319948514303,
          0.5597676237424215,
          0.6844515204429626,
          0.555902381738027,
          0.5769526163736979,
          0.6524635553359985
         ],
         "yaxis": "y12"
        },
        {
         "marker": {
          "color": [
           0,
           1,
           2,
           3,
           4,
           5,
           7,
           8,
           10,
           17,
           18,
           19,
           20,
           21,
           22,
           23,
           24,
           25,
           26,
           27,
           28
          ],
          "colorbar": {
           "title": {
            "text": "Trial"
           },
           "x": 1,
           "xpad": 40
          },
          "colorscale": [
           [
            0,
            "rgb(247,251,255)"
           ],
           [
            0.125,
            "rgb(222,235,247)"
           ],
           [
            0.25,
            "rgb(198,219,239)"
           ],
           [
            0.375,
            "rgb(158,202,225)"
           ],
           [
            0.5,
            "rgb(107,174,214)"
           ],
           [
            0.625,
            "rgb(66,146,198)"
           ],
           [
            0.75,
            "rgb(33,113,181)"
           ],
           [
            0.875,
            "rgb(8,81,156)"
           ],
           [
            1,
            "rgb(8,48,107)"
           ]
          ],
          "line": {
           "color": "Grey",
           "width": 0.5
          },
          "showscale": false
         },
         "mode": "markers",
         "name": "Feasible Trial",
         "showlegend": false,
         "type": "scatter",
         "x": [
          9,
          17,
          11,
          16,
          17,
          9,
          13,
          14,
          5,
          6,
          5,
          7,
          7,
          7,
          6,
          9,
          9,
          6,
          5,
          7,
          6
         ],
         "xaxis": "x13",
         "y": [
          0.557564357916514,
          0.5837963223457336,
          0.5733927885691324,
          0.5782246788342794,
          0.5710630615552267,
          0.5947860280672709,
          0.5676892399787903,
          0.576877236366272,
          0.537917951742808,
          0.624372641245524,
          0.5205423831939697,
          0.6180829405784607,
          0.5540282527605692,
          0.5602533022562662,
          0.5800162355105082,
          0.5993319948514303,
          0.5597676237424215,
          0.6844515204429626,
          0.555902381738027,
          0.5769526163736979,
          0.6524635553359985
         ],
         "yaxis": "y13"
        }
       ],
       "layout": {
        "template": {
         "data": {
          "bar": [
           {
            "error_x": {
             "color": "#2a3f5f"
            },
            "error_y": {
             "color": "#2a3f5f"
            },
            "marker": {
             "line": {
              "color": "#E5ECF6",
              "width": 0.5
             },
             "pattern": {
              "fillmode": "overlay",
              "size": 10,
              "solidity": 0.2
             }
            },
            "type": "bar"
           }
          ],
          "barpolar": [
           {
            "marker": {
             "line": {
              "color": "#E5ECF6",
              "width": 0.5
             },
             "pattern": {
              "fillmode": "overlay",
              "size": 10,
              "solidity": 0.2
             }
            },
            "type": "barpolar"
           }
          ],
          "carpet": [
           {
            "aaxis": {
             "endlinecolor": "#2a3f5f",
             "gridcolor": "white",
             "linecolor": "white",
             "minorgridcolor": "white",
             "startlinecolor": "#2a3f5f"
            },
            "baxis": {
             "endlinecolor": "#2a3f5f",
             "gridcolor": "white",
             "linecolor": "white",
             "minorgridcolor": "white",
             "startlinecolor": "#2a3f5f"
            },
            "type": "carpet"
           }
          ],
          "choropleth": [
           {
            "colorbar": {
             "outlinewidth": 0,
             "ticks": ""
            },
            "type": "choropleth"
           }
          ],
          "contour": [
           {
            "colorbar": {
             "outlinewidth": 0,
             "ticks": ""
            },
            "colorscale": [
             [
              0,
              "#0d0887"
             ],
             [
              0.1111111111111111,
              "#46039f"
             ],
             [
              0.2222222222222222,
              "#7201a8"
             ],
             [
              0.3333333333333333,
              "#9c179e"
             ],
             [
              0.4444444444444444,
              "#bd3786"
             ],
             [
              0.5555555555555556,
              "#d8576b"
             ],
             [
              0.6666666666666666,
              "#ed7953"
             ],
             [
              0.7777777777777778,
              "#fb9f3a"
             ],
             [
              0.8888888888888888,
              "#fdca26"
             ],
             [
              1,
              "#f0f921"
             ]
            ],
            "type": "contour"
           }
          ],
          "contourcarpet": [
           {
            "colorbar": {
             "outlinewidth": 0,
             "ticks": ""
            },
            "type": "contourcarpet"
           }
          ],
          "heatmap": [
           {
            "colorbar": {
             "outlinewidth": 0,
             "ticks": ""
            },
            "colorscale": [
             [
              0,
              "#0d0887"
             ],
             [
              0.1111111111111111,
              "#46039f"
             ],
             [
              0.2222222222222222,
              "#7201a8"
             ],
             [
              0.3333333333333333,
              "#9c179e"
             ],
             [
              0.4444444444444444,
              "#bd3786"
             ],
             [
              0.5555555555555556,
              "#d8576b"
             ],
             [
              0.6666666666666666,
              "#ed7953"
             ],
             [
              0.7777777777777778,
              "#fb9f3a"
             ],
             [
              0.8888888888888888,
              "#fdca26"
             ],
             [
              1,
              "#f0f921"
             ]
            ],
            "type": "heatmap"
           }
          ],
          "heatmapgl": [
           {
            "colorbar": {
             "outlinewidth": 0,
             "ticks": ""
            },
            "colorscale": [
             [
              0,
              "#0d0887"
             ],
             [
              0.1111111111111111,
              "#46039f"
             ],
             [
              0.2222222222222222,
              "#7201a8"
             ],
             [
              0.3333333333333333,
              "#9c179e"
             ],
             [
              0.4444444444444444,
              "#bd3786"
             ],
             [
              0.5555555555555556,
              "#d8576b"
             ],
             [
              0.6666666666666666,
              "#ed7953"
             ],
             [
              0.7777777777777778,
              "#fb9f3a"
             ],
             [
              0.8888888888888888,
              "#fdca26"
             ],
             [
              1,
              "#f0f921"
             ]
            ],
            "type": "heatmapgl"
           }
          ],
          "histogram": [
           {
            "marker": {
             "pattern": {
              "fillmode": "overlay",
              "size": 10,
              "solidity": 0.2
             }
            },
            "type": "histogram"
           }
          ],
          "histogram2d": [
           {
            "colorbar": {
             "outlinewidth": 0,
             "ticks": ""
            },
            "colorscale": [
             [
              0,
              "#0d0887"
             ],
             [
              0.1111111111111111,
              "#46039f"
             ],
             [
              0.2222222222222222,
              "#7201a8"
             ],
             [
              0.3333333333333333,
              "#9c179e"
             ],
             [
              0.4444444444444444,
              "#bd3786"
             ],
             [
              0.5555555555555556,
              "#d8576b"
             ],
             [
              0.6666666666666666,
              "#ed7953"
             ],
             [
              0.7777777777777778,
              "#fb9f3a"
             ],
             [
              0.8888888888888888,
              "#fdca26"
             ],
             [
              1,
              "#f0f921"
             ]
            ],
            "type": "histogram2d"
           }
          ],
          "histogram2dcontour": [
           {
            "colorbar": {
             "outlinewidth": 0,
             "ticks": ""
            },
            "colorscale": [
             [
              0,
              "#0d0887"
             ],
             [
              0.1111111111111111,
              "#46039f"
             ],
             [
              0.2222222222222222,
              "#7201a8"
             ],
             [
              0.3333333333333333,
              "#9c179e"
             ],
             [
              0.4444444444444444,
              "#bd3786"
             ],
             [
              0.5555555555555556,
              "#d8576b"
             ],
             [
              0.6666666666666666,
              "#ed7953"
             ],
             [
              0.7777777777777778,
              "#fb9f3a"
             ],
             [
              0.8888888888888888,
              "#fdca26"
             ],
             [
              1,
              "#f0f921"
             ]
            ],
            "type": "histogram2dcontour"
           }
          ],
          "mesh3d": [
           {
            "colorbar": {
             "outlinewidth": 0,
             "ticks": ""
            },
            "type": "mesh3d"
           }
          ],
          "parcoords": [
           {
            "line": {
             "colorbar": {
              "outlinewidth": 0,
              "ticks": ""
             }
            },
            "type": "parcoords"
           }
          ],
          "pie": [
           {
            "automargin": true,
            "type": "pie"
           }
          ],
          "scatter": [
           {
            "fillpattern": {
             "fillmode": "overlay",
             "size": 10,
             "solidity": 0.2
            },
            "type": "scatter"
           }
          ],
          "scatter3d": [
           {
            "line": {
             "colorbar": {
              "outlinewidth": 0,
              "ticks": ""
             }
            },
            "marker": {
             "colorbar": {
              "outlinewidth": 0,
              "ticks": ""
             }
            },
            "type": "scatter3d"
           }
          ],
          "scattercarpet": [
           {
            "marker": {
             "colorbar": {
              "outlinewidth": 0,
              "ticks": ""
             }
            },
            "type": "scattercarpet"
           }
          ],
          "scattergeo": [
           {
            "marker": {
             "colorbar": {
              "outlinewidth": 0,
              "ticks": ""
             }
            },
            "type": "scattergeo"
           }
          ],
          "scattergl": [
           {
            "marker": {
             "colorbar": {
              "outlinewidth": 0,
              "ticks": ""
             }
            },
            "type": "scattergl"
           }
          ],
          "scattermapbox": [
           {
            "marker": {
             "colorbar": {
              "outlinewidth": 0,
              "ticks": ""
             }
            },
            "type": "scattermapbox"
           }
          ],
          "scatterpolar": [
           {
            "marker": {
             "colorbar": {
              "outlinewidth": 0,
              "ticks": ""
             }
            },
            "type": "scatterpolar"
           }
          ],
          "scatterpolargl": [
           {
            "marker": {
             "colorbar": {
              "outlinewidth": 0,
              "ticks": ""
             }
            },
            "type": "scatterpolargl"
           }
          ],
          "scatterternary": [
           {
            "marker": {
             "colorbar": {
              "outlinewidth": 0,
              "ticks": ""
             }
            },
            "type": "scatterternary"
           }
          ],
          "surface": [
           {
            "colorbar": {
             "outlinewidth": 0,
             "ticks": ""
            },
            "colorscale": [
             [
              0,
              "#0d0887"
             ],
             [
              0.1111111111111111,
              "#46039f"
             ],
             [
              0.2222222222222222,
              "#7201a8"
             ],
             [
              0.3333333333333333,
              "#9c179e"
             ],
             [
              0.4444444444444444,
              "#bd3786"
             ],
             [
              0.5555555555555556,
              "#d8576b"
             ],
             [
              0.6666666666666666,
              "#ed7953"
             ],
             [
              0.7777777777777778,
              "#fb9f3a"
             ],
             [
              0.8888888888888888,
              "#fdca26"
             ],
             [
              1,
              "#f0f921"
             ]
            ],
            "type": "surface"
           }
          ],
          "table": [
           {
            "cells": {
             "fill": {
              "color": "#EBF0F8"
             },
             "line": {
              "color": "white"
             }
            },
            "header": {
             "fill": {
              "color": "#C8D4E3"
             },
             "line": {
              "color": "white"
             }
            },
            "type": "table"
           }
          ]
         },
         "layout": {
          "annotationdefaults": {
           "arrowcolor": "#2a3f5f",
           "arrowhead": 0,
           "arrowwidth": 1
          },
          "autotypenumbers": "strict",
          "coloraxis": {
           "colorbar": {
            "outlinewidth": 0,
            "ticks": ""
           }
          },
          "colorscale": {
           "diverging": [
            [
             0,
             "#8e0152"
            ],
            [
             0.1,
             "#c51b7d"
            ],
            [
             0.2,
             "#de77ae"
            ],
            [
             0.3,
             "#f1b6da"
            ],
            [
             0.4,
             "#fde0ef"
            ],
            [
             0.5,
             "#f7f7f7"
            ],
            [
             0.6,
             "#e6f5d0"
            ],
            [
             0.7,
             "#b8e186"
            ],
            [
             0.8,
             "#7fbc41"
            ],
            [
             0.9,
             "#4d9221"
            ],
            [
             1,
             "#276419"
            ]
           ],
           "sequential": [
            [
             0,
             "#0d0887"
            ],
            [
             0.1111111111111111,
             "#46039f"
            ],
            [
             0.2222222222222222,
             "#7201a8"
            ],
            [
             0.3333333333333333,
             "#9c179e"
            ],
            [
             0.4444444444444444,
             "#bd3786"
            ],
            [
             0.5555555555555556,
             "#d8576b"
            ],
            [
             0.6666666666666666,
             "#ed7953"
            ],
            [
             0.7777777777777778,
             "#fb9f3a"
            ],
            [
             0.8888888888888888,
             "#fdca26"
            ],
            [
             1,
             "#f0f921"
            ]
           ],
           "sequentialminus": [
            [
             0,
             "#0d0887"
            ],
            [
             0.1111111111111111,
             "#46039f"
            ],
            [
             0.2222222222222222,
             "#7201a8"
            ],
            [
             0.3333333333333333,
             "#9c179e"
            ],
            [
             0.4444444444444444,
             "#bd3786"
            ],
            [
             0.5555555555555556,
             "#d8576b"
            ],
            [
             0.6666666666666666,
             "#ed7953"
            ],
            [
             0.7777777777777778,
             "#fb9f3a"
            ],
            [
             0.8888888888888888,
             "#fdca26"
            ],
            [
             1,
             "#f0f921"
            ]
           ]
          },
          "colorway": [
           "#636efa",
           "#EF553B",
           "#00cc96",
           "#ab63fa",
           "#FFA15A",
           "#19d3f3",
           "#FF6692",
           "#B6E880",
           "#FF97FF",
           "#FECB52"
          ],
          "font": {
           "color": "#2a3f5f"
          },
          "geo": {
           "bgcolor": "white",
           "lakecolor": "white",
           "landcolor": "#E5ECF6",
           "showlakes": true,
           "showland": true,
           "subunitcolor": "white"
          },
          "hoverlabel": {
           "align": "left"
          },
          "hovermode": "closest",
          "mapbox": {
           "style": "light"
          },
          "paper_bgcolor": "white",
          "plot_bgcolor": "#E5ECF6",
          "polar": {
           "angularaxis": {
            "gridcolor": "white",
            "linecolor": "white",
            "ticks": ""
           },
           "bgcolor": "#E5ECF6",
           "radialaxis": {
            "gridcolor": "white",
            "linecolor": "white",
            "ticks": ""
           }
          },
          "scene": {
           "xaxis": {
            "backgroundcolor": "#E5ECF6",
            "gridcolor": "white",
            "gridwidth": 2,
            "linecolor": "white",
            "showbackground": true,
            "ticks": "",
            "zerolinecolor": "white"
           },
           "yaxis": {
            "backgroundcolor": "#E5ECF6",
            "gridcolor": "white",
            "gridwidth": 2,
            "linecolor": "white",
            "showbackground": true,
            "ticks": "",
            "zerolinecolor": "white"
           },
           "zaxis": {
            "backgroundcolor": "#E5ECF6",
            "gridcolor": "white",
            "gridwidth": 2,
            "linecolor": "white",
            "showbackground": true,
            "ticks": "",
            "zerolinecolor": "white"
           }
          },
          "shapedefaults": {
           "line": {
            "color": "#2a3f5f"
           }
          },
          "ternary": {
           "aaxis": {
            "gridcolor": "white",
            "linecolor": "white",
            "ticks": ""
           },
           "baxis": {
            "gridcolor": "white",
            "linecolor": "white",
            "ticks": ""
           },
           "bgcolor": "#E5ECF6",
           "caxis": {
            "gridcolor": "white",
            "linecolor": "white",
            "ticks": ""
           }
          },
          "title": {
           "x": 0.05
          },
          "xaxis": {
           "automargin": true,
           "gridcolor": "white",
           "linecolor": "white",
           "ticks": "",
           "title": {
            "standoff": 15
           },
           "zerolinecolor": "white",
           "zerolinewidth": 2
          },
          "yaxis": {
           "automargin": true,
           "gridcolor": "white",
           "linecolor": "white",
           "ticks": "",
           "title": {
            "standoff": 15
           },
           "zerolinecolor": "white",
           "zerolinewidth": 2
          }
         }
        },
        "title": {
         "text": "Slice Plot"
        },
        "width": 3900,
        "xaxis": {
         "anchor": "y",
         "domain": [
          0,
          0.06272189349112425
         ],
         "title": {
          "text": "alpha_reg"
         },
         "type": "log"
        },
        "xaxis10": {
         "anchor": "y10",
         "domain": [
          0.7029585798816567,
          0.7656804733727809
         ],
         "title": {
          "text": "lr_gamma"
         }
        },
        "xaxis11": {
         "anchor": "y11",
         "domain": [
          0.7810650887573963,
          0.8437869822485206
         ],
         "title": {
          "text": "n_hidden_units"
         }
        },
        "xaxis12": {
         "anchor": "y12",
         "domain": [
          0.859171597633136,
          0.9218934911242602
         ],
         "title": {
          "text": "num_layers"
         }
        },
        "xaxis13": {
         "anchor": "y13",
         "domain": [
          0.9372781065088757,
          0.9999999999999999
         ],
         "title": {
          "text": "seq_length_LSTM"
         }
        },
        "xaxis2": {
         "anchor": "y2",
         "domain": [
          0.07810650887573964,
          0.1408284023668639
         ],
         "title": {
          "text": "batch_size_train"
         }
        },
        "xaxis3": {
         "anchor": "y3",
         "domain": [
          0.15621301775147928,
          0.21893491124260353
         ],
         "title": {
          "text": "batch_size_val"
         }
        },
        "xaxis4": {
         "anchor": "y4",
         "domain": [
          0.23431952662721892,
          0.29704142011834317
         ],
         "title": {
          "text": "dropout_1"
         }
        },
        "xaxis5": {
         "anchor": "y5",
         "domain": [
          0.31242603550295855,
          0.3751479289940828
         ],
         "title": {
          "text": "dropout_2"
         }
        },
        "xaxis6": {
         "anchor": "y6",
         "domain": [
          0.39053254437869817,
          0.45325443786982245
         ],
         "title": {
          "text": "huber_delta"
         }
        },
        "xaxis7": {
         "anchor": "y7",
         "domain": [
          0.46863905325443783,
          0.5313609467455621
         ],
         "title": {
          "text": "input_size_LSTM"
         }
        },
        "xaxis8": {
         "anchor": "y8",
         "domain": [
          0.5467455621301776,
          0.6094674556213018
         ],
         "title": {
          "text": "l1_ratio_reg"
         }
        },
        "xaxis9": {
         "anchor": "y9",
         "domain": [
          0.6248520710059171,
          0.6875739644970413
         ],
         "title": {
          "text": "lr"
         },
         "type": "log"
        },
        "yaxis": {
         "anchor": "x",
         "domain": [
          0,
          1
         ],
         "title": {
          "text": "Objective Value"
         }
        },
        "yaxis10": {
         "anchor": "x10",
         "domain": [
          0,
          1
         ],
         "matches": "y",
         "showticklabels": false
        },
        "yaxis11": {
         "anchor": "x11",
         "domain": [
          0,
          1
         ],
         "matches": "y",
         "showticklabels": false
        },
        "yaxis12": {
         "anchor": "x12",
         "domain": [
          0,
          1
         ],
         "matches": "y",
         "showticklabels": false
        },
        "yaxis13": {
         "anchor": "x13",
         "domain": [
          0,
          1
         ],
         "matches": "y",
         "showticklabels": false
        },
        "yaxis2": {
         "anchor": "x2",
         "domain": [
          0,
          1
         ],
         "matches": "y",
         "showticklabels": false
        },
        "yaxis3": {
         "anchor": "x3",
         "domain": [
          0,
          1
         ],
         "matches": "y",
         "showticklabels": false
        },
        "yaxis4": {
         "anchor": "x4",
         "domain": [
          0,
          1
         ],
         "matches": "y",
         "showticklabels": false
        },
        "yaxis5": {
         "anchor": "x5",
         "domain": [
          0,
          1
         ],
         "matches": "y",
         "showticklabels": false
        },
        "yaxis6": {
         "anchor": "x6",
         "domain": [
          0,
          1
         ],
         "matches": "y",
         "showticklabels": false
        },
        "yaxis7": {
         "anchor": "x7",
         "domain": [
          0,
          1
         ],
         "matches": "y",
         "showticklabels": false
        },
        "yaxis8": {
         "anchor": "x8",
         "domain": [
          0,
          1
         ],
         "matches": "y",
         "showticklabels": false
        },
        "yaxis9": {
         "anchor": "x9",
         "domain": [
          0,
          1
         ],
         "matches": "y",
         "showticklabels": false
        }
       }
      }
     },
     "metadata": {},
     "output_type": "display_data"
    }
   ],
   "source": [
    "#Plotting the accuracies for each hyperparameter for each trial.\n",
    "    \n",
    "optuna.visualization.plot_slice(study)"
   ]
  },
  {
   "cell_type": "code",
   "execution_count": 10,
   "metadata": {},
   "outputs": [
    {
     "data": {
      "application/vnd.plotly.v1+json": {
       "config": {
        "plotlyServerURL": "https://plot.ly"
       },
       "data": [
        {
         "colorbar": {
          "title": {
           "text": "Objective Value"
          }
         },
         "colorscale": [
          [
           0,
           "rgb(247,251,255)"
          ],
          [
           0.125,
           "rgb(222,235,247)"
          ],
          [
           0.25,
           "rgb(198,219,239)"
          ],
          [
           0.375,
           "rgb(158,202,225)"
          ],
          [
           0.5,
           "rgb(107,174,214)"
          ],
          [
           0.625,
           "rgb(66,146,198)"
          ],
          [
           0.75,
           "rgb(33,113,181)"
          ],
          [
           0.875,
           "rgb(8,81,156)"
          ],
          [
           1,
           "rgb(8,48,107)"
          ]
         ],
         "connectgaps": true,
         "contours": {
          "coloring": "heatmap"
         },
         "hoverinfo": "none",
         "line": {
          "smoothing": 1.3
         },
         "reversescale": false,
         "type": "contour",
         "x": [
          3.75,
          6,
          10,
          11,
          12,
          15,
          17,
          19,
          20,
          21,
          23,
          25,
          27,
          29,
          31,
          33,
          34,
          37,
          40,
          51,
          53.25
         ],
         "y": [
          4.4,
          5,
          6,
          7,
          9,
          11,
          13,
          14,
          16,
          17,
          17.6
         ],
         "z": [
          [
           null,
           null,
           null,
           null,
           null,
           null,
           null,
           null,
           null,
           null,
           null,
           null,
           null,
           null,
           null,
           null,
           null,
           null,
           null,
           null,
           null
          ],
          [
           null,
           null,
           null,
           null,
           null,
           0.537917951742808,
           null,
           null,
           null,
           null,
           null,
           null,
           null,
           0.555902381738027,
           0.5205423831939697,
           null,
           null,
           null,
           null,
           null,
           null
          ],
          [
           null,
           null,
           null,
           null,
           null,
           null,
           null,
           null,
           null,
           null,
           0.6524635553359985,
           null,
           null,
           0.6844515204429626,
           null,
           0.5800162355105082,
           0.624372641245524,
           null,
           null,
           null,
           null
          ],
          [
           null,
           null,
           null,
           null,
           0.5602533022562662,
           null,
           null,
           0.6180829405784607,
           null,
           0.5540282527605692,
           null,
           null,
           null,
           null,
           null,
           null,
           null,
           0.5769526163736979,
           null,
           null,
           null
          ],
          [
           null,
           null,
           0.5947860280672709,
           null,
           null,
           null,
           0.5993319948514303,
           null,
           0.5597676237424215,
           null,
           null,
           null,
           0.557564357916514,
           null,
           null,
           null,
           null,
           null,
           null,
           null,
           null
          ],
          [
           null,
           null,
           null,
           null,
           null,
           null,
           null,
           null,
           null,
           null,
           null,
           null,
           null,
           null,
           null,
           null,
           null,
           null,
           null,
           0.5733927885691324,
           null
          ],
          [
           null,
           0.5676892399787903,
           null,
           null,
           null,
           null,
           null,
           null,
           null,
           null,
           null,
           null,
           null,
           null,
           null,
           null,
           null,
           null,
           null,
           null,
           null
          ],
          [
           null,
           null,
           null,
           0.576877236366272,
           null,
           null,
           null,
           null,
           null,
           null,
           null,
           null,
           null,
           null,
           null,
           null,
           null,
           null,
           null,
           null,
           null
          ],
          [
           null,
           null,
           null,
           null,
           null,
           null,
           null,
           null,
           null,
           null,
           null,
           0.5782246788342794,
           null,
           null,
           null,
           null,
           null,
           null,
           null,
           null,
           null
          ],
          [
           null,
           null,
           null,
           null,
           null,
           null,
           null,
           null,
           null,
           null,
           null,
           0.5710630615552267,
           null,
           null,
           null,
           null,
           null,
           null,
           0.5837963223457336,
           null,
           null
          ],
          [
           null,
           null,
           null,
           null,
           null,
           null,
           null,
           null,
           null,
           null,
           null,
           null,
           null,
           null,
           null,
           null,
           null,
           null,
           null,
           null,
           null
          ]
         ]
        },
        {
         "marker": {
          "color": "black",
          "line": {
           "color": "Gray",
           "width": 2
          }
         },
         "mode": "markers",
         "name": "Feasible Trial",
         "showlegend": false,
         "type": "scatter",
         "x": [
          27,
          40,
          51,
          25,
          25,
          10,
          6,
          11,
          15,
          34,
          31,
          19,
          21,
          12,
          33,
          17,
          20,
          29,
          29,
          37,
          23
         ],
         "y": [
          9,
          17,
          11,
          16,
          17,
          9,
          13,
          14,
          5,
          6,
          5,
          7,
          7,
          7,
          6,
          9,
          9,
          6,
          5,
          7,
          6
         ]
        },
        {
         "marker": {
          "color": "#cccccc",
          "line": {
           "color": "Gray",
           "width": 2
          }
         },
         "mode": "markers",
         "name": "Infeasible Trial",
         "showlegend": false,
         "type": "scatter",
         "x": [],
         "y": []
        }
       ],
       "layout": {
        "template": {
         "data": {
          "bar": [
           {
            "error_x": {
             "color": "#2a3f5f"
            },
            "error_y": {
             "color": "#2a3f5f"
            },
            "marker": {
             "line": {
              "color": "#E5ECF6",
              "width": 0.5
             },
             "pattern": {
              "fillmode": "overlay",
              "size": 10,
              "solidity": 0.2
             }
            },
            "type": "bar"
           }
          ],
          "barpolar": [
           {
            "marker": {
             "line": {
              "color": "#E5ECF6",
              "width": 0.5
             },
             "pattern": {
              "fillmode": "overlay",
              "size": 10,
              "solidity": 0.2
             }
            },
            "type": "barpolar"
           }
          ],
          "carpet": [
           {
            "aaxis": {
             "endlinecolor": "#2a3f5f",
             "gridcolor": "white",
             "linecolor": "white",
             "minorgridcolor": "white",
             "startlinecolor": "#2a3f5f"
            },
            "baxis": {
             "endlinecolor": "#2a3f5f",
             "gridcolor": "white",
             "linecolor": "white",
             "minorgridcolor": "white",
             "startlinecolor": "#2a3f5f"
            },
            "type": "carpet"
           }
          ],
          "choropleth": [
           {
            "colorbar": {
             "outlinewidth": 0,
             "ticks": ""
            },
            "type": "choropleth"
           }
          ],
          "contour": [
           {
            "colorbar": {
             "outlinewidth": 0,
             "ticks": ""
            },
            "colorscale": [
             [
              0,
              "#0d0887"
             ],
             [
              0.1111111111111111,
              "#46039f"
             ],
             [
              0.2222222222222222,
              "#7201a8"
             ],
             [
              0.3333333333333333,
              "#9c179e"
             ],
             [
              0.4444444444444444,
              "#bd3786"
             ],
             [
              0.5555555555555556,
              "#d8576b"
             ],
             [
              0.6666666666666666,
              "#ed7953"
             ],
             [
              0.7777777777777778,
              "#fb9f3a"
             ],
             [
              0.8888888888888888,
              "#fdca26"
             ],
             [
              1,
              "#f0f921"
             ]
            ],
            "type": "contour"
           }
          ],
          "contourcarpet": [
           {
            "colorbar": {
             "outlinewidth": 0,
             "ticks": ""
            },
            "type": "contourcarpet"
           }
          ],
          "heatmap": [
           {
            "colorbar": {
             "outlinewidth": 0,
             "ticks": ""
            },
            "colorscale": [
             [
              0,
              "#0d0887"
             ],
             [
              0.1111111111111111,
              "#46039f"
             ],
             [
              0.2222222222222222,
              "#7201a8"
             ],
             [
              0.3333333333333333,
              "#9c179e"
             ],
             [
              0.4444444444444444,
              "#bd3786"
             ],
             [
              0.5555555555555556,
              "#d8576b"
             ],
             [
              0.6666666666666666,
              "#ed7953"
             ],
             [
              0.7777777777777778,
              "#fb9f3a"
             ],
             [
              0.8888888888888888,
              "#fdca26"
             ],
             [
              1,
              "#f0f921"
             ]
            ],
            "type": "heatmap"
           }
          ],
          "heatmapgl": [
           {
            "colorbar": {
             "outlinewidth": 0,
             "ticks": ""
            },
            "colorscale": [
             [
              0,
              "#0d0887"
             ],
             [
              0.1111111111111111,
              "#46039f"
             ],
             [
              0.2222222222222222,
              "#7201a8"
             ],
             [
              0.3333333333333333,
              "#9c179e"
             ],
             [
              0.4444444444444444,
              "#bd3786"
             ],
             [
              0.5555555555555556,
              "#d8576b"
             ],
             [
              0.6666666666666666,
              "#ed7953"
             ],
             [
              0.7777777777777778,
              "#fb9f3a"
             ],
             [
              0.8888888888888888,
              "#fdca26"
             ],
             [
              1,
              "#f0f921"
             ]
            ],
            "type": "heatmapgl"
           }
          ],
          "histogram": [
           {
            "marker": {
             "pattern": {
              "fillmode": "overlay",
              "size": 10,
              "solidity": 0.2
             }
            },
            "type": "histogram"
           }
          ],
          "histogram2d": [
           {
            "colorbar": {
             "outlinewidth": 0,
             "ticks": ""
            },
            "colorscale": [
             [
              0,
              "#0d0887"
             ],
             [
              0.1111111111111111,
              "#46039f"
             ],
             [
              0.2222222222222222,
              "#7201a8"
             ],
             [
              0.3333333333333333,
              "#9c179e"
             ],
             [
              0.4444444444444444,
              "#bd3786"
             ],
             [
              0.5555555555555556,
              "#d8576b"
             ],
             [
              0.6666666666666666,
              "#ed7953"
             ],
             [
              0.7777777777777778,
              "#fb9f3a"
             ],
             [
              0.8888888888888888,
              "#fdca26"
             ],
             [
              1,
              "#f0f921"
             ]
            ],
            "type": "histogram2d"
           }
          ],
          "histogram2dcontour": [
           {
            "colorbar": {
             "outlinewidth": 0,
             "ticks": ""
            },
            "colorscale": [
             [
              0,
              "#0d0887"
             ],
             [
              0.1111111111111111,
              "#46039f"
             ],
             [
              0.2222222222222222,
              "#7201a8"
             ],
             [
              0.3333333333333333,
              "#9c179e"
             ],
             [
              0.4444444444444444,
              "#bd3786"
             ],
             [
              0.5555555555555556,
              "#d8576b"
             ],
             [
              0.6666666666666666,
              "#ed7953"
             ],
             [
              0.7777777777777778,
              "#fb9f3a"
             ],
             [
              0.8888888888888888,
              "#fdca26"
             ],
             [
              1,
              "#f0f921"
             ]
            ],
            "type": "histogram2dcontour"
           }
          ],
          "mesh3d": [
           {
            "colorbar": {
             "outlinewidth": 0,
             "ticks": ""
            },
            "type": "mesh3d"
           }
          ],
          "parcoords": [
           {
            "line": {
             "colorbar": {
              "outlinewidth": 0,
              "ticks": ""
             }
            },
            "type": "parcoords"
           }
          ],
          "pie": [
           {
            "automargin": true,
            "type": "pie"
           }
          ],
          "scatter": [
           {
            "fillpattern": {
             "fillmode": "overlay",
             "size": 10,
             "solidity": 0.2
            },
            "type": "scatter"
           }
          ],
          "scatter3d": [
           {
            "line": {
             "colorbar": {
              "outlinewidth": 0,
              "ticks": ""
             }
            },
            "marker": {
             "colorbar": {
              "outlinewidth": 0,
              "ticks": ""
             }
            },
            "type": "scatter3d"
           }
          ],
          "scattercarpet": [
           {
            "marker": {
             "colorbar": {
              "outlinewidth": 0,
              "ticks": ""
             }
            },
            "type": "scattercarpet"
           }
          ],
          "scattergeo": [
           {
            "marker": {
             "colorbar": {
              "outlinewidth": 0,
              "ticks": ""
             }
            },
            "type": "scattergeo"
           }
          ],
          "scattergl": [
           {
            "marker": {
             "colorbar": {
              "outlinewidth": 0,
              "ticks": ""
             }
            },
            "type": "scattergl"
           }
          ],
          "scattermapbox": [
           {
            "marker": {
             "colorbar": {
              "outlinewidth": 0,
              "ticks": ""
             }
            },
            "type": "scattermapbox"
           }
          ],
          "scatterpolar": [
           {
            "marker": {
             "colorbar": {
              "outlinewidth": 0,
              "ticks": ""
             }
            },
            "type": "scatterpolar"
           }
          ],
          "scatterpolargl": [
           {
            "marker": {
             "colorbar": {
              "outlinewidth": 0,
              "ticks": ""
             }
            },
            "type": "scatterpolargl"
           }
          ],
          "scatterternary": [
           {
            "marker": {
             "colorbar": {
              "outlinewidth": 0,
              "ticks": ""
             }
            },
            "type": "scatterternary"
           }
          ],
          "surface": [
           {
            "colorbar": {
             "outlinewidth": 0,
             "ticks": ""
            },
            "colorscale": [
             [
              0,
              "#0d0887"
             ],
             [
              0.1111111111111111,
              "#46039f"
             ],
             [
              0.2222222222222222,
              "#7201a8"
             ],
             [
              0.3333333333333333,
              "#9c179e"
             ],
             [
              0.4444444444444444,
              "#bd3786"
             ],
             [
              0.5555555555555556,
              "#d8576b"
             ],
             [
              0.6666666666666666,
              "#ed7953"
             ],
             [
              0.7777777777777778,
              "#fb9f3a"
             ],
             [
              0.8888888888888888,
              "#fdca26"
             ],
             [
              1,
              "#f0f921"
             ]
            ],
            "type": "surface"
           }
          ],
          "table": [
           {
            "cells": {
             "fill": {
              "color": "#EBF0F8"
             },
             "line": {
              "color": "white"
             }
            },
            "header": {
             "fill": {
              "color": "#C8D4E3"
             },
             "line": {
              "color": "white"
             }
            },
            "type": "table"
           }
          ]
         },
         "layout": {
          "annotationdefaults": {
           "arrowcolor": "#2a3f5f",
           "arrowhead": 0,
           "arrowwidth": 1
          },
          "autotypenumbers": "strict",
          "coloraxis": {
           "colorbar": {
            "outlinewidth": 0,
            "ticks": ""
           }
          },
          "colorscale": {
           "diverging": [
            [
             0,
             "#8e0152"
            ],
            [
             0.1,
             "#c51b7d"
            ],
            [
             0.2,
             "#de77ae"
            ],
            [
             0.3,
             "#f1b6da"
            ],
            [
             0.4,
             "#fde0ef"
            ],
            [
             0.5,
             "#f7f7f7"
            ],
            [
             0.6,
             "#e6f5d0"
            ],
            [
             0.7,
             "#b8e186"
            ],
            [
             0.8,
             "#7fbc41"
            ],
            [
             0.9,
             "#4d9221"
            ],
            [
             1,
             "#276419"
            ]
           ],
           "sequential": [
            [
             0,
             "#0d0887"
            ],
            [
             0.1111111111111111,
             "#46039f"
            ],
            [
             0.2222222222222222,
             "#7201a8"
            ],
            [
             0.3333333333333333,
             "#9c179e"
            ],
            [
             0.4444444444444444,
             "#bd3786"
            ],
            [
             0.5555555555555556,
             "#d8576b"
            ],
            [
             0.6666666666666666,
             "#ed7953"
            ],
            [
             0.7777777777777778,
             "#fb9f3a"
            ],
            [
             0.8888888888888888,
             "#fdca26"
            ],
            [
             1,
             "#f0f921"
            ]
           ],
           "sequentialminus": [
            [
             0,
             "#0d0887"
            ],
            [
             0.1111111111111111,
             "#46039f"
            ],
            [
             0.2222222222222222,
             "#7201a8"
            ],
            [
             0.3333333333333333,
             "#9c179e"
            ],
            [
             0.4444444444444444,
             "#bd3786"
            ],
            [
             0.5555555555555556,
             "#d8576b"
            ],
            [
             0.6666666666666666,
             "#ed7953"
            ],
            [
             0.7777777777777778,
             "#fb9f3a"
            ],
            [
             0.8888888888888888,
             "#fdca26"
            ],
            [
             1,
             "#f0f921"
            ]
           ]
          },
          "colorway": [
           "#636efa",
           "#EF553B",
           "#00cc96",
           "#ab63fa",
           "#FFA15A",
           "#19d3f3",
           "#FF6692",
           "#B6E880",
           "#FF97FF",
           "#FECB52"
          ],
          "font": {
           "color": "#2a3f5f"
          },
          "geo": {
           "bgcolor": "white",
           "lakecolor": "white",
           "landcolor": "#E5ECF6",
           "showlakes": true,
           "showland": true,
           "subunitcolor": "white"
          },
          "hoverlabel": {
           "align": "left"
          },
          "hovermode": "closest",
          "mapbox": {
           "style": "light"
          },
          "paper_bgcolor": "white",
          "plot_bgcolor": "#E5ECF6",
          "polar": {
           "angularaxis": {
            "gridcolor": "white",
            "linecolor": "white",
            "ticks": ""
           },
           "bgcolor": "#E5ECF6",
           "radialaxis": {
            "gridcolor": "white",
            "linecolor": "white",
            "ticks": ""
           }
          },
          "scene": {
           "xaxis": {
            "backgroundcolor": "#E5ECF6",
            "gridcolor": "white",
            "gridwidth": 2,
            "linecolor": "white",
            "showbackground": true,
            "ticks": "",
            "zerolinecolor": "white"
           },
           "yaxis": {
            "backgroundcolor": "#E5ECF6",
            "gridcolor": "white",
            "gridwidth": 2,
            "linecolor": "white",
            "showbackground": true,
            "ticks": "",
            "zerolinecolor": "white"
           },
           "zaxis": {
            "backgroundcolor": "#E5ECF6",
            "gridcolor": "white",
            "gridwidth": 2,
            "linecolor": "white",
            "showbackground": true,
            "ticks": "",
            "zerolinecolor": "white"
           }
          },
          "shapedefaults": {
           "line": {
            "color": "#2a3f5f"
           }
          },
          "ternary": {
           "aaxis": {
            "gridcolor": "white",
            "linecolor": "white",
            "ticks": ""
           },
           "baxis": {
            "gridcolor": "white",
            "linecolor": "white",
            "ticks": ""
           },
           "bgcolor": "#E5ECF6",
           "caxis": {
            "gridcolor": "white",
            "linecolor": "white",
            "ticks": ""
           }
          },
          "title": {
           "x": 0.05
          },
          "xaxis": {
           "automargin": true,
           "gridcolor": "white",
           "linecolor": "white",
           "ticks": "",
           "title": {
            "standoff": 15
           },
           "zerolinecolor": "white",
           "zerolinewidth": 2
          },
          "yaxis": {
           "automargin": true,
           "gridcolor": "white",
           "linecolor": "white",
           "ticks": "",
           "title": {
            "standoff": 15
           },
           "zerolinecolor": "white",
           "zerolinewidth": 2
          }
         }
        },
        "title": {
         "text": "Contour Plot"
        },
        "xaxis": {
         "range": [
          3.75,
          53.25
         ],
         "title": {
          "text": "n_hidden_units"
         }
        },
        "yaxis": {
         "range": [
          4.4,
          17.6
         ],
         "title": {
          "text": "seq_length_LSTM"
         }
        }
       }
      }
     },
     "metadata": {},
     "output_type": "display_data"
    }
   ],
   "source": [
    "# Plotting the optimization history of the study.\n",
    "\n",
    "optuna.visualization.plot_optimization_history(study)\n",
    "\n",
    "#Plotting the accuracies for each hyperparameter for each trial.\n",
    "    \n",
    "optuna.visualization.plot_slice(study)\n",
    "\n",
    "# Plotting the accuracy surface for the hyperparameters involved in the random forest model.\n",
    "\n",
    "optuna.visualization.plot_contour(study, params=[\"seq_length_LSTM\", \"n_hidden_units\"]) "
   ]
  },
  {
   "cell_type": "code",
   "execution_count": null,
   "metadata": {},
   "outputs": [],
   "source": []
  }
 ],
 "metadata": {
  "kernelspec": {
   "display_name": "sinthlab",
   "language": "python",
   "name": "python3"
  },
  "language_info": {
   "codemirror_mode": {
    "name": "ipython",
    "version": 3
   },
   "file_extension": ".py",
   "mimetype": "text/x-python",
   "name": "python",
   "nbconvert_exporter": "python",
   "pygments_lexer": "ipython3",
   "version": "3.12.2"
  }
 },
 "nbformat": 4,
 "nbformat_minor": 2
}
