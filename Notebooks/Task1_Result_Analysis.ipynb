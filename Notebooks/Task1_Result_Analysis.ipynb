{
 "cells": [
  {
   "cell_type": "markdown",
   "metadata": {},
   "source": [
    "# Task 1 Result Analysis: Comparing Model Predictions\n",
    "\n",
    "## Overview\n",
    "\n",
    "In this section, we analyze the performance of different models on Task 1, specifically focusing on the non-linear models, the Elastic Weight Consolidation (EWC) approach and hypernetworks. The comparison includes the following models:\n",
    "\n",
    "1. **Hypernetwork**: A model trained with a hypernetwork architecture.\n",
    "2. **EWC**: A model trained using Elastic Weight Consolidation to mitigate catastrophic forgetting.\n",
    "3. **Baseline RNN**: A standard model trained without any continual learning techniques, used for comparison with more sophisticated approaches.\n",
    "\n",
    "## Key Objectives\n",
    "\n",
    "- **Model Performance Visualization**:\n",
    "  - Compare the predicted outputs of different models against the true values.\n",
    "  - Visualize the performance of each model over a specific segment of the dataset.\n",
    "\n",
    "- **Analysis and Insights**:\n",
    "  - Evaluate the accuracy and robustness of each model's predictions.\n",
    "  - Identify any noticeable differences in the models' ability to generalize and predict the target values accurately.\n",
    "\n",
    "## Visualization\n",
    "\n",
    "The plot below shows the true values (black line) and the predicted values from each model (colored lines) over a specific segment of the data (indices 300 to 400). This comparison helps in understanding how closely each model's predictions align with the actual values, providing insights into the effectiveness of each approach.\n"
   ]
  },
  {
   "cell_type": "markdown",
   "metadata": {},
   "source": [
    "### 1- Imports"
   ]
  },
  {
   "cell_type": "code",
   "execution_count": 1,
   "metadata": {},
   "outputs": [
    {
     "name": "stderr",
     "output_type": "stream",
     "text": [
      "/home/nerea/anaconda3/envs/sinthlab/lib/python3.8/site-packages/tqdm/auto.py:21: TqdmWarning: IProgress not found. Please update jupyter and ipywidgets. See https://ipywidgets.readthedocs.io/en/stable/user_install.html\n",
      "  from .autonotebook import tqdm as notebook_tqdm\n"
     ]
    }
   ],
   "source": [
    "import pandas as pd\n",
    "import numpy as np\n",
    "import xarray as xr\n",
    "\n",
    "import os\n",
    "import sys\n",
    "from tqdm.auto import tqdm\n",
    "\n",
    "import matplotlib.pyplot as plt\n",
    "import seaborn as sns\n",
    "\n",
    "\n",
    "# Navigate up two levels to reach the grandparent directory (CL Control)\n",
    "parent_dir = os.path.abspath(os.path.join('..',))\n",
    "sys.path.append(parent_dir)\n",
    "\n",
    "from src.helpers import *\n",
    "from src.visualize import *\n",
    "from src.trainer import *\n",
    "from Models.models import *\n",
    "\n",
    "import torch\n",
    "import torch.nn as nn\n",
    "import torch.nn.functional as F\n",
    "import torch.optim as optim\n",
    "from torch.optim import lr_scheduler\n",
    "from sklearn.metrics import *\n",
    "from copy import deepcopy\n",
    "import torch.utils.data as data\n",
    "from torch.utils.data import Dataset\n",
    "\n",
    "import pickle\n",
    "import math"
   ]
  },
  {
   "cell_type": "code",
   "execution_count": 2,
   "metadata": {},
   "outputs": [],
   "source": [
    "import sys\n",
    "sys.path.append(\"c:\\\\Users\\\\nerea\\\\OneDrive\\\\Documentos\\\\EPFL_MASTER\\\\PDM\\\\Project\\\\PyalData\")\n",
    "# to change for the actual path where PyalData has been cloned"
   ]
  },
  {
   "cell_type": "code",
   "execution_count": 3,
   "metadata": {},
   "outputs": [],
   "source": [
    "from pyaldata import *"
   ]
  },
  {
   "cell_type": "code",
   "execution_count": 4,
   "metadata": {},
   "outputs": [],
   "source": [
    "name = 'Chewie'\n",
    "date = '1007'\n",
    "fold = 0\n",
    "target_variable = 'vel'"
   ]
  },
  {
   "cell_type": "code",
   "execution_count": 61,
   "metadata": {},
   "outputs": [],
   "source": [
    "def set_plot_style():\n",
    "    # Define the custom color palette\n",
    "    custom_palette = [\n",
    "        '#5F9EA0', # cadet blue\n",
    "        \n",
    "        '#FFD700', # gold\n",
    "        '#DA70D6',   # orchid\n",
    "        '#FFA07A', # light salmon\n",
    "        '#87CEEB', # light blue\n",
    "        '#9370DB', # medium purple\n",
    "        '#98FB98'  # pale green\n",
    "    ]\n",
    "    \n",
    "    # Set the Seaborn palette\n",
    "    sns.set_palette(custom_palette)\n",
    "    \n",
    "    # Set general plot aesthetics\n",
    "    sns.set_context(\"notebook\", font_scale=1.2)\n",
    "    sns.set_style(\"whitegrid\")\n",
    "\n",
    "    # Update Matplotlib rcParams for consistent styling\n",
    "    plt.rcParams.update({\n",
    "        'figure.figsize': (12, 7),\n",
    "        'axes.titlesize': 16,\n",
    "        'axes.labelsize': 14,\n",
    "        'xtick.labelsize': 12,\n",
    "        'ytick.labelsize': 12,\n",
    "        'legend.title_fontsize': 13,\n",
    "        'legend.fontsize': 11,\n",
    "        'axes.titlepad': 20,\n",
    "        'axes.labelpad': 10,\n",
    "        'xtick.major.pad': 5,\n",
    "        'ytick.major.pad': 5\n",
    "    })"
   ]
  },
  {
   "cell_type": "code",
   "execution_count": 6,
   "metadata": {},
   "outputs": [],
   "source": [
    "to_t_eval =  lambda array: torch.tensor(array, device=device, dtype=dtype)  "
   ]
  },
  {
   "cell_type": "markdown",
   "metadata": {},
   "source": [
    "## Load pre-processed data"
   ]
  },
  {
   "cell_type": "code",
   "execution_count": 7,
   "metadata": {},
   "outputs": [],
   "source": [
    "data_path = '../Data/Processed_Data/Tidy_'+name+'_'+date+'.pkl'\n",
    "\n",
    "with open(data_path, 'rb') as file:\n",
    "    tidy_df = pickle.load(file)"
   ]
  },
  {
   "cell_type": "code",
   "execution_count": 8,
   "metadata": {},
   "outputs": [],
   "source": [
    "baseline_df = tidy_df.loc[tidy_df['epoch'] == 'BL']"
   ]
  },
  {
   "cell_type": "code",
   "execution_count": 9,
   "metadata": {},
   "outputs": [
    {
     "data": {
      "text/plain": [
       "170"
      ]
     },
     "execution_count": 9,
     "metadata": {},
     "output_type": "execute_result"
    }
   ],
   "source": [
    "baseline_df.id.nunique()"
   ]
  },
  {
   "cell_type": "code",
   "execution_count": 10,
   "metadata": {},
   "outputs": [],
   "source": [
    "force_df =  tidy_df.loc[tidy_df['epoch'] == 'AD']"
   ]
  },
  {
   "cell_type": "markdown",
   "metadata": {},
   "source": [
    "We need to consider only the trials for which the monkey has already adapted to the perturbation."
   ]
  },
  {
   "cell_type": "code",
   "execution_count": 11,
   "metadata": {},
   "outputs": [],
   "source": [
    "ids_to_keep = force_df.id.unique()[50:]"
   ]
  },
  {
   "cell_type": "markdown",
   "metadata": {},
   "source": [
    "The baseline subset has a total of 170 trials, whereas the perturbation one contains 201 trials, we can for now try to remove the first 50 trials from the perturbation subset."
   ]
  },
  {
   "cell_type": "code",
   "execution_count": 12,
   "metadata": {},
   "outputs": [],
   "source": [
    "force_df = force_df.loc[force_df.id.isin(ids_to_keep)]"
   ]
  },
  {
   "cell_type": "markdown",
   "metadata": {},
   "source": [
    "## Loading models"
   ]
  },
  {
   "cell_type": "code",
   "execution_count": 13,
   "metadata": {},
   "outputs": [],
   "source": [
    "path_to_models = '../Models/Models_Force'"
   ]
  },
  {
   "cell_type": "code",
   "execution_count": 14,
   "metadata": {},
   "outputs": [],
   "source": [
    "subsets = [baseline_df, force_df, tidy_df]\n",
    "subsets_str = ['Baseline', 'Adaptation', 'All'] "
   ]
  },
  {
   "cell_type": "code",
   "execution_count": 15,
   "metadata": {},
   "outputs": [
    {
     "name": "stdout",
     "output_type": "stream",
     "text": [
      "We are testing the optimization method on fold 4\n",
      "We are testing the optimization method on fold 4\n",
      "We are testing the optimization method on fold 4\n",
      "We are testing the optimization method on fold 0\n",
      "We are testing the optimization method on fold 0\n",
      "We are testing the optimization method on fold 0\n",
      "We are testing the optimization method on fold 1\n",
      "We are testing the optimization method on fold 1\n",
      "We are testing the optimization method on fold 1\n",
      "We are testing the optimization method on fold 2\n",
      "We are testing the optimization method on fold 2\n",
      "We are testing the optimization method on fold 2\n",
      "We are testing the optimization method on fold 3\n",
      "We are testing the optimization method on fold 3\n",
      "We are testing the optimization method on fold 3\n",
      "We are testing the optimization method on fold 4\n",
      "We are testing the optimization method on fold 4\n",
      "We are testing the optimization method on fold 4\n",
      "We are testing the optimization method on fold 0\n",
      "We are testing the optimization method on fold 0\n",
      "We are testing the optimization method on fold 0\n",
      "We are testing the optimization method on fold 1\n",
      "We are testing the optimization method on fold 1\n",
      "We are testing the optimization method on fold 1\n",
      "We are testing the optimization method on fold 2\n",
      "We are testing the optimization method on fold 2\n",
      "We are testing the optimization method on fold 2\n",
      "We are testing the optimization method on fold 3\n",
      "We are testing the optimization method on fold 3\n",
      "We are testing the optimization method on fold 3\n",
      "We are testing the optimization method on fold 4\n",
      "We are testing the optimization method on fold 4\n",
      "We are testing the optimization method on fold 4\n",
      "We are testing the optimization method on fold 0\n",
      "We are testing the optimization method on fold 0\n",
      "We are testing the optimization method on fold 0\n",
      "We are testing the optimization method on fold 1\n",
      "We are testing the optimization method on fold 1\n",
      "We are testing the optimization method on fold 1\n",
      "We are testing the optimization method on fold 2\n",
      "We are testing the optimization method on fold 2\n",
      "We are testing the optimization method on fold 2\n",
      "We are testing the optimization method on fold 3\n",
      "We are testing the optimization method on fold 3\n",
      "We are testing the optimization method on fold 3\n",
      "We are testing the optimization method on fold 4\n",
      "We are testing the optimization method on fold 4\n",
      "We are testing the optimization method on fold 4\n",
      "We are testing the optimization method on fold 0\n",
      "We are testing the optimization method on fold 0\n",
      "We are testing the optimization method on fold 0\n",
      "We are testing the optimization method on fold 1\n",
      "We are testing the optimization method on fold 1\n",
      "We are testing the optimization method on fold 1\n",
      "We are testing the optimization method on fold 2\n",
      "We are testing the optimization method on fold 2\n",
      "We are testing the optimization method on fold 2\n",
      "We are testing the optimization method on fold 3\n",
      "We are testing the optimization method on fold 3\n",
      "We are testing the optimization method on fold 3\n",
      "We are testing the optimization method on fold 4\n",
      "We are testing the optimization method on fold 4\n",
      "We are testing the optimization method on fold 4\n",
      "We are testing the optimization method on fold 0\n",
      "We are testing the optimization method on fold 0\n",
      "We are testing the optimization method on fold 0\n",
      "We are testing the optimization method on fold 1\n",
      "We are testing the optimization method on fold 1\n",
      "We are testing the optimization method on fold 1\n",
      "We are testing the optimization method on fold 2\n",
      "We are testing the optimization method on fold 2\n",
      "We are testing the optimization method on fold 2\n",
      "We are testing the optimization method on fold 3\n",
      "We are testing the optimization method on fold 3\n",
      "We are testing the optimization method on fold 3\n",
      "We are testing the optimization method on fold 4\n",
      "We are testing the optimization method on fold 4\n",
      "We are testing the optimization method on fold 4\n",
      "We are testing the optimization method on fold 0\n",
      "We are testing the optimization method on fold 0\n",
      "We are testing the optimization method on fold 0\n",
      "We are testing the optimization method on fold 1\n",
      "We are testing the optimization method on fold 1\n",
      "We are testing the optimization method on fold 1\n",
      "We are testing the optimization method on fold 2\n",
      "We are testing the optimization method on fold 2\n",
      "We are testing the optimization method on fold 2\n",
      "We are testing the optimization method on fold 3\n",
      "We are testing the optimization method on fold 3\n",
      "We are testing the optimization method on fold 3\n",
      "We are testing the optimization method on fold 4\n",
      "We are testing the optimization method on fold 4\n",
      "We are testing the optimization method on fold 4\n",
      "We are testing the optimization method on fold 0\n",
      "We are testing the optimization method on fold 0\n",
      "We are testing the optimization method on fold 0\n",
      "We are testing the optimization method on fold 1\n",
      "We are testing the optimization method on fold 1\n",
      "We are testing the optimization method on fold 1\n",
      "We are testing the optimization method on fold 2\n",
      "We are testing the optimization method on fold 2\n",
      "We are testing the optimization method on fold 2\n",
      "We are testing the optimization method on fold 3\n",
      "We are testing the optimization method on fold 3\n",
      "We are testing the optimization method on fold 3\n",
      "We are testing the optimization method on fold 4\n",
      "We are testing the optimization method on fold 4\n",
      "We are testing the optimization method on fold 4\n",
      "We are testing the optimization method on fold 0\n",
      "We are testing the optimization method on fold 0\n",
      "We are testing the optimization method on fold 0\n",
      "We are testing the optimization method on fold 1\n",
      "We are testing the optimization method on fold 1\n",
      "We are testing the optimization method on fold 1\n",
      "We are testing the optimization method on fold 2\n",
      "We are testing the optimization method on fold 2\n",
      "We are testing the optimization method on fold 2\n",
      "We are testing the optimization method on fold 3\n",
      "We are testing the optimization method on fold 3\n",
      "We are testing the optimization method on fold 3\n"
     ]
    }
   ],
   "source": [
    "models = []\n",
    "folds = []\n",
    "EV = []\n",
    "R2 = []\n",
    "y_pred = []\n",
    "y_true = []\n",
    "data = []\n",
    "\n",
    "subsets = [baseline_df, force_df, tidy_df]\n",
    "\n",
    "for m in os.listdir(path_to_models):\n",
    "    path_model = os.path.join(path_to_models,m)\n",
    "    for f in os.listdir(path_model):\n",
    "        fold_num = f[5]\n",
    "        path_fold = os.path.join(path_model, f)  \n",
    "        model = torch.load(path_fold)\n",
    "        model.eval()\n",
    "        for s, str_s in zip(subsets, subsets_str):\n",
    "            _,_,_,_, x_test, y_test, _,_,info_test,_,_ = get_dataset(s, fold_num,\n",
    "                                                                     target_variable= target_variable, \n",
    "                                                                     no_outliers = False, force_data = True)\n",
    "            \n",
    "            y_true_test, y_pred_test = reshape_to_eval(x_test,y_test, model)\n",
    "            ev = explained_variance_score(y_true_test, y_pred_test)\n",
    "            r2 = r2_score(y_true_test, y_pred_test)\n",
    "            models.append(m)\n",
    "            folds.append(f[:-4])\n",
    "            data.append(str_s)\n",
    "            EV.append(ev)\n",
    "            R2.append(r2)\n",
    "            y_pred.append([y_pred_test])\n",
    "            y_true.append([y_true_test])"
   ]
  },
  {
   "cell_type": "code",
   "execution_count": 16,
   "metadata": {},
   "outputs": [],
   "source": [
    "# Create a DataFrame\n",
    "results_df = pd.DataFrame({\n",
    "    'Model': models,\n",
    "    'Dataset': data,\n",
    "    'Fold': folds,\n",
    "    'EV': EV,\n",
    "    'R2': R2,\n",
    "    'Y_pred': y_pred,\n",
    "    'Y_true': y_true\n",
    "})"
   ]
  },
  {
   "cell_type": "code",
   "execution_count": 17,
   "metadata": {},
   "outputs": [],
   "source": [
    "# Function to extract the desired part of the model name\n",
    "def extract_model_name(name):\n",
    "    if name.split('_')[-2] == 'after':\n",
    "        return '_'.join(name.split('_')[-3:])\n",
    "    \n",
    "    name_ =  name.split('_')[-1]\n",
    "    if 'hnet' in name:\n",
    "        name_ = str(name_)+'_hnet'\n",
    "    return(name_)"
   ]
  },
  {
   "cell_type": "code",
   "execution_count": 18,
   "metadata": {},
   "outputs": [],
   "source": [
    "results_df['Model'] = results_df.Model.apply(lambda x: extract_model_name(x))"
   ]
  },
  {
   "cell_type": "code",
   "execution_count": 19,
   "metadata": {},
   "outputs": [
    {
     "data": {
      "text/html": [
       "<div>\n",
       "<style scoped>\n",
       "    .dataframe tbody tr th:only-of-type {\n",
       "        vertical-align: middle;\n",
       "    }\n",
       "\n",
       "    .dataframe tbody tr th {\n",
       "        vertical-align: top;\n",
       "    }\n",
       "\n",
       "    .dataframe thead th {\n",
       "        text-align: right;\n",
       "    }\n",
       "</style>\n",
       "<table border=\"1\" class=\"dataframe\">\n",
       "  <thead>\n",
       "    <tr style=\"text-align: right;\">\n",
       "      <th></th>\n",
       "      <th>Model</th>\n",
       "      <th>Dataset</th>\n",
       "      <th>Fold</th>\n",
       "      <th>EV</th>\n",
       "      <th>R2</th>\n",
       "      <th>Y_pred</th>\n",
       "      <th>Y_true</th>\n",
       "    </tr>\n",
       "  </thead>\n",
       "  <tbody>\n",
       "    <tr>\n",
       "      <th>0</th>\n",
       "      <td>Baseline_hnet</td>\n",
       "      <td>Baseline</td>\n",
       "      <td>fold_4</td>\n",
       "      <td>0.884214</td>\n",
       "      <td>0.884186</td>\n",
       "      <td>[[[-1.4765575, -3.912882], [-2.0853229, -3.706...</td>\n",
       "      <td>[[[-0.005129213, 0.011146309], [-0.39050233, -...</td>\n",
       "    </tr>\n",
       "    <tr>\n",
       "      <th>1</th>\n",
       "      <td>Baseline_hnet</td>\n",
       "      <td>Adaptation</td>\n",
       "      <td>fold_4</td>\n",
       "      <td>0.581558</td>\n",
       "      <td>0.573813</td>\n",
       "      <td>[[[0.30018425, -0.29263476], [0.6186125, 0.124...</td>\n",
       "      <td>[[[-0.55927455, -0.65708464], [-0.32793257, -0...</td>\n",
       "    </tr>\n",
       "    <tr>\n",
       "      <th>2</th>\n",
       "      <td>Baseline_hnet</td>\n",
       "      <td>All</td>\n",
       "      <td>fold_4</td>\n",
       "      <td>0.718444</td>\n",
       "      <td>0.717324</td>\n",
       "      <td>[[[-1.4508133, -4.7210255], [-0.3796625, -2.14...</td>\n",
       "      <td>[[[-0.005129213, 0.011146309], [-0.39050233, -...</td>\n",
       "    </tr>\n",
       "    <tr>\n",
       "      <th>3</th>\n",
       "      <td>Baseline_hnet</td>\n",
       "      <td>Baseline</td>\n",
       "      <td>fold_0</td>\n",
       "      <td>0.860055</td>\n",
       "      <td>0.860030</td>\n",
       "      <td>[[[1.6913636, -0.29855007], [0.09475571, -0.79...</td>\n",
       "      <td>[[[0.87900066, 0.94454104], [0.46398437, 0.702...</td>\n",
       "    </tr>\n",
       "    <tr>\n",
       "      <th>4</th>\n",
       "      <td>Baseline_hnet</td>\n",
       "      <td>Adaptation</td>\n",
       "      <td>fold_0</td>\n",
       "      <td>0.632670</td>\n",
       "      <td>0.631457</td>\n",
       "      <td>[[[1.2556036, 0.8763099], [4.223431, 1.3031183...</td>\n",
       "      <td>[[[-0.9787036, -1.2993112], [0.30494222, -0.50...</td>\n",
       "    </tr>\n",
       "    <tr>\n",
       "      <th>...</th>\n",
       "      <td>...</td>\n",
       "      <td>...</td>\n",
       "      <td>...</td>\n",
       "      <td>...</td>\n",
       "      <td>...</td>\n",
       "      <td>...</td>\n",
       "      <td>...</td>\n",
       "    </tr>\n",
       "    <tr>\n",
       "      <th>115</th>\n",
       "      <td>Baseline</td>\n",
       "      <td>Adaptation</td>\n",
       "      <td>fold_2</td>\n",
       "      <td>0.528838</td>\n",
       "      <td>0.524481</td>\n",
       "      <td>[[[0.38363394, -0.15016033], [0.5670341, -0.20...</td>\n",
       "      <td>[[[0.2390867, 0.25198182], [0.31185794, 0.3840...</td>\n",
       "    </tr>\n",
       "    <tr>\n",
       "      <th>116</th>\n",
       "      <td>Baseline</td>\n",
       "      <td>All</td>\n",
       "      <td>fold_2</td>\n",
       "      <td>0.747303</td>\n",
       "      <td>0.746239</td>\n",
       "      <td>[[[0.5021202, -0.23423794], [1.6779425, -0.888...</td>\n",
       "      <td>[[[0.87900066, 0.94454104], [0.46398437, 0.702...</td>\n",
       "    </tr>\n",
       "    <tr>\n",
       "      <th>117</th>\n",
       "      <td>Baseline</td>\n",
       "      <td>Baseline</td>\n",
       "      <td>fold_3</td>\n",
       "      <td>0.872815</td>\n",
       "      <td>0.871818</td>\n",
       "      <td>[[[-0.04268892, -0.35597682], [-0.38529038, -1...</td>\n",
       "      <td>[[[-0.005129213, 0.011146309], [-0.39050233, -...</td>\n",
       "    </tr>\n",
       "    <tr>\n",
       "      <th>118</th>\n",
       "      <td>Baseline</td>\n",
       "      <td>Adaptation</td>\n",
       "      <td>fold_3</td>\n",
       "      <td>0.490397</td>\n",
       "      <td>0.487979</td>\n",
       "      <td>[[[1.7948658, -0.84997827], [3.635188, -2.1312...</td>\n",
       "      <td>[[[-0.07894559, -1.1707562], [-0.28758198, -1....</td>\n",
       "    </tr>\n",
       "    <tr>\n",
       "      <th>119</th>\n",
       "      <td>Baseline</td>\n",
       "      <td>All</td>\n",
       "      <td>fold_3</td>\n",
       "      <td>0.762103</td>\n",
       "      <td>0.761020</td>\n",
       "      <td>[[[0.69094056, -0.082688436], [2.1302505, -0.3...</td>\n",
       "      <td>[[[-0.031751614, -0.019258041], [-0.11994076, ...</td>\n",
       "    </tr>\n",
       "  </tbody>\n",
       "</table>\n",
       "<p>120 rows × 7 columns</p>\n",
       "</div>"
      ],
      "text/plain": [
       "             Model     Dataset    Fold        EV        R2  \\\n",
       "0    Baseline_hnet    Baseline  fold_4  0.884214  0.884186   \n",
       "1    Baseline_hnet  Adaptation  fold_4  0.581558  0.573813   \n",
       "2    Baseline_hnet         All  fold_4  0.718444  0.717324   \n",
       "3    Baseline_hnet    Baseline  fold_0  0.860055  0.860030   \n",
       "4    Baseline_hnet  Adaptation  fold_0  0.632670  0.631457   \n",
       "..             ...         ...     ...       ...       ...   \n",
       "115       Baseline  Adaptation  fold_2  0.528838  0.524481   \n",
       "116       Baseline         All  fold_2  0.747303  0.746239   \n",
       "117       Baseline    Baseline  fold_3  0.872815  0.871818   \n",
       "118       Baseline  Adaptation  fold_3  0.490397  0.487979   \n",
       "119       Baseline         All  fold_3  0.762103  0.761020   \n",
       "\n",
       "                                                Y_pred  \\\n",
       "0    [[[-1.4765575, -3.912882], [-2.0853229, -3.706...   \n",
       "1    [[[0.30018425, -0.29263476], [0.6186125, 0.124...   \n",
       "2    [[[-1.4508133, -4.7210255], [-0.3796625, -2.14...   \n",
       "3    [[[1.6913636, -0.29855007], [0.09475571, -0.79...   \n",
       "4    [[[1.2556036, 0.8763099], [4.223431, 1.3031183...   \n",
       "..                                                 ...   \n",
       "115  [[[0.38363394, -0.15016033], [0.5670341, -0.20...   \n",
       "116  [[[0.5021202, -0.23423794], [1.6779425, -0.888...   \n",
       "117  [[[-0.04268892, -0.35597682], [-0.38529038, -1...   \n",
       "118  [[[1.7948658, -0.84997827], [3.635188, -2.1312...   \n",
       "119  [[[0.69094056, -0.082688436], [2.1302505, -0.3...   \n",
       "\n",
       "                                                Y_true  \n",
       "0    [[[-0.005129213, 0.011146309], [-0.39050233, -...  \n",
       "1    [[[-0.55927455, -0.65708464], [-0.32793257, -0...  \n",
       "2    [[[-0.005129213, 0.011146309], [-0.39050233, -...  \n",
       "3    [[[0.87900066, 0.94454104], [0.46398437, 0.702...  \n",
       "4    [[[-0.9787036, -1.2993112], [0.30494222, -0.50...  \n",
       "..                                                 ...  \n",
       "115  [[[0.2390867, 0.25198182], [0.31185794, 0.3840...  \n",
       "116  [[[0.87900066, 0.94454104], [0.46398437, 0.702...  \n",
       "117  [[[-0.005129213, 0.011146309], [-0.39050233, -...  \n",
       "118  [[[-0.07894559, -1.1707562], [-0.28758198, -1....  \n",
       "119  [[[-0.031751614, -0.019258041], [-0.11994076, ...  \n",
       "\n",
       "[120 rows x 7 columns]"
      ]
     },
     "execution_count": 19,
     "metadata": {},
     "output_type": "execute_result"
    }
   ],
   "source": [
    "results_df"
   ]
  },
  {
   "cell_type": "code",
   "execution_count": 20,
   "metadata": {},
   "outputs": [
    {
     "data": {
      "text/plain": [
       "array(['Baseline_hnet', 'Alldata', 'EWC', 'Force_hnet',\n",
       "       'Force_after_Baseline', 'Baseline_after_Force', 'Force',\n",
       "       'Baseline'], dtype=object)"
      ]
     },
     "execution_count": 20,
     "metadata": {},
     "output_type": "execute_result"
    }
   ],
   "source": [
    "results_df.Model.unique()"
   ]
  },
  {
   "cell_type": "code",
   "execution_count": 21,
   "metadata": {},
   "outputs": [],
   "source": [
    "results_df_filt = results_df.loc[results_df.Dataset != 'All']"
   ]
  },
  {
   "cell_type": "code",
   "execution_count": 22,
   "metadata": {},
   "outputs": [],
   "source": [
    "import seaborn as sns"
   ]
  },
  {
   "cell_type": "code",
   "execution_count": 23,
   "metadata": {},
   "outputs": [],
   "source": [
    "models_test_baseline = ['Baseline', 'Force_after_Baseline',\n",
    "             'Baseline_after_Force','EWC',\n",
    "             'Baseline_hnet', 'Alldata'] \n",
    "\n",
    "models_test_adaptation = ['Force', 'Force_after_Baseline',\n",
    "             'Baseline_after_Force','EWC',\n",
    "             'Force_hnet', 'Alldata'] "
   ]
  },
  {
   "cell_type": "code",
   "execution_count": 24,
   "metadata": {},
   "outputs": [],
   "source": [
    "results_df_baseline = results_df.loc[(results_df.Dataset == 'Baseline')& results_df.Model.isin(models_test_baseline)]\n",
    "results_df_adaptation = results_df.loc[(results_df.Dataset == 'Adaptation')& results_df.Model.isin(models_test_adaptation)]"
   ]
  },
  {
   "cell_type": "code",
   "execution_count": 25,
   "metadata": {},
   "outputs": [
    {
     "data": {
      "text/html": [
       "<div>\n",
       "<style scoped>\n",
       "    .dataframe tbody tr th:only-of-type {\n",
       "        vertical-align: middle;\n",
       "    }\n",
       "\n",
       "    .dataframe tbody tr th {\n",
       "        vertical-align: top;\n",
       "    }\n",
       "\n",
       "    .dataframe thead th {\n",
       "        text-align: right;\n",
       "    }\n",
       "</style>\n",
       "<table border=\"1\" class=\"dataframe\">\n",
       "  <thead>\n",
       "    <tr style=\"text-align: right;\">\n",
       "      <th></th>\n",
       "      <th>Model</th>\n",
       "      <th>Dataset</th>\n",
       "      <th>Fold</th>\n",
       "      <th>EV</th>\n",
       "      <th>R2</th>\n",
       "      <th>Y_pred</th>\n",
       "      <th>Y_true</th>\n",
       "    </tr>\n",
       "  </thead>\n",
       "  <tbody>\n",
       "    <tr>\n",
       "      <th>0</th>\n",
       "      <td>Baseline_hnet</td>\n",
       "      <td>Baseline</td>\n",
       "      <td>fold_4</td>\n",
       "      <td>0.884214</td>\n",
       "      <td>0.884186</td>\n",
       "      <td>[[[-1.4765575, -3.912882], [-2.0853229, -3.706...</td>\n",
       "      <td>[[[-0.005129213, 0.011146309], [-0.39050233, -...</td>\n",
       "    </tr>\n",
       "    <tr>\n",
       "      <th>3</th>\n",
       "      <td>Baseline_hnet</td>\n",
       "      <td>Baseline</td>\n",
       "      <td>fold_0</td>\n",
       "      <td>0.860055</td>\n",
       "      <td>0.860030</td>\n",
       "      <td>[[[1.6913636, -0.29855007], [0.09475571, -0.79...</td>\n",
       "      <td>[[[0.87900066, 0.94454104], [0.46398437, 0.702...</td>\n",
       "    </tr>\n",
       "    <tr>\n",
       "      <th>6</th>\n",
       "      <td>Baseline_hnet</td>\n",
       "      <td>Baseline</td>\n",
       "      <td>fold_1</td>\n",
       "      <td>0.899942</td>\n",
       "      <td>0.899145</td>\n",
       "      <td>[[[2.0115008, 3.5592372], [0.531531, 1.0031228...</td>\n",
       "      <td>[[[0.85819334, 0.9150491], [1.2472336, 0.89152...</td>\n",
       "    </tr>\n",
       "  </tbody>\n",
       "</table>\n",
       "</div>"
      ],
      "text/plain": [
       "           Model   Dataset    Fold        EV        R2  \\\n",
       "0  Baseline_hnet  Baseline  fold_4  0.884214  0.884186   \n",
       "3  Baseline_hnet  Baseline  fold_0  0.860055  0.860030   \n",
       "6  Baseline_hnet  Baseline  fold_1  0.899942  0.899145   \n",
       "\n",
       "                                              Y_pred  \\\n",
       "0  [[[-1.4765575, -3.912882], [-2.0853229, -3.706...   \n",
       "3  [[[1.6913636, -0.29855007], [0.09475571, -0.79...   \n",
       "6  [[[2.0115008, 3.5592372], [0.531531, 1.0031228...   \n",
       "\n",
       "                                              Y_true  \n",
       "0  [[[-0.005129213, 0.011146309], [-0.39050233, -...  \n",
       "3  [[[0.87900066, 0.94454104], [0.46398437, 0.702...  \n",
       "6  [[[0.85819334, 0.9150491], [1.2472336, 0.89152...  "
      ]
     },
     "execution_count": 25,
     "metadata": {},
     "output_type": "execute_result"
    }
   ],
   "source": [
    "results_df_baseline.head(3)"
   ]
  },
  {
   "cell_type": "code",
   "execution_count": 26,
   "metadata": {},
   "outputs": [],
   "source": [
    "from matplotlib.patches import PathPatch\n",
    "\n",
    "def adjust_box_widths(g, fac):\n",
    "    \"\"\"\n",
    "    Adjust the withs of a seaborn-generated boxplot.\n",
    "    \"\"\"\n",
    "\n",
    "    # iterating through Axes instances\n",
    "    for ax in g.axes:\n",
    "\n",
    "        # iterating through axes artists:\n",
    "        for c in ax.get_children():\n",
    "\n",
    "            # searching for PathPatches\n",
    "            if isinstance(c, PathPatch):\n",
    "                # getting current width of box:\n",
    "                p = c.get_path()\n",
    "                verts = p.vertices\n",
    "                verts_sub = verts[:-1]\n",
    "                xmin = np.min(verts_sub[:, 0])\n",
    "                xmax = np.max(verts_sub[:, 0])\n",
    "                xmid = 0.5*(xmin+xmax)\n",
    "                xhalf = 0.5*(xmax - xmin)\n",
    "\n",
    "                # setting new width of box\n",
    "                xmin_new = xmid-fac*xhalf\n",
    "                xmax_new = xmid+fac*xhalf\n",
    "                verts_sub[verts_sub[:, 0] == xmin, 0] = xmin_new\n",
    "                verts_sub[verts_sub[:, 0] == xmax, 0] = xmax_new\n",
    "\n",
    "                # setting new width of median line\n",
    "                for l in ax.lines:\n",
    "                    if np.all(l.get_xdata() == [xmin, xmax]):\n",
    "                        l.set_xdata([xmin_new, xmax_new])"
   ]
  },
  {
   "cell_type": "code",
   "execution_count": 62,
   "metadata": {},
   "outputs": [
    {
     "name": "stderr",
     "output_type": "stream",
     "text": [
      "/tmp/ipykernel_217390/2690038075.py:33: DeprecationWarning: elementwise comparison failed; this will raise an error in the future.\n",
      "  if np.all(l.get_xdata() == [xmin, xmax]):\n"
     ]
    },
    {
     "data": {
      "image/png": "[encoded data removed]",
      "text/plain": [
       "<Figure size 700x800 with 1 Axes>"
      ]
     },
     "metadata": {},
     "output_type": "display_data"
    }
   ],
   "source": [
    "import seaborn as sns\n",
    "import matplotlib.pyplot as plt\n",
    "\n",
    "# Define the order of hue categories based on the order of models\n",
    "# Define the original and desired legend labels\n",
    "original_labels = ['Baseline', 'Force_after_Baseline', 'Baseline_after_Force', 'EWC', 'Baseline_hnet', 'Alldata']\n",
    "new_labels = ['Baseline', 'Force after Baseline', 'Baseline after Force', 'EWC', 'HNET', 'All Data']\n",
    "\n",
    "\n",
    "\n",
    "# Set style and context for better aesthetics\n",
    "sns.set(style=\"whitegrid\")\n",
    "sns.set_context(\"paper\", font_scale=1.3)\n",
    "\n",
    "# Create the boxplot\n",
    "fig = plt.figure(figsize=(7, 8))  # Adjust the figure size as needed\n",
    "set_plot_style()\n",
    "sns.boxplot(x='Dataset', y='R2', hue='Model', data=results_df_baseline,\n",
    "            hue_order=original_labels,  dodge=0.8, width=0.7)#palette=custom_palette,\n",
    "\n",
    "# Adjust legend position\n",
    "legend = plt.legend(title='Model', loc='upper center', bbox_to_anchor=(0.5, -0.15), ncol=3, title_fontsize=17)\n",
    "\n",
    "# Update legend labels\n",
    "for t, l in zip(legend.texts, new_labels):\n",
    "    t.set_text(l)\n",
    "    \n",
    "# Add a title and labels\n",
    "plt.xticks(ticks=plt.xticks()[0], labels=['Baseline Dataset'], fontsize = 17)\n",
    "plt.xlabel('')\n",
    "plt.ylabel('R2 score', fontsize = 17)\n",
    "\n",
    "# Show plot\n",
    "plt.tight_layout()\n",
    "adjust_box_widths(fig, 0.9)\n",
    "\n",
    "plt.show()\n"
   ]
  },
  {
   "cell_type": "code",
   "execution_count": 63,
   "metadata": {},
   "outputs": [
    {
     "name": "stderr",
     "output_type": "stream",
     "text": [
      "/tmp/ipykernel_217390/2690038075.py:33: DeprecationWarning: elementwise comparison failed; this will raise an error in the future.\n",
      "  if np.all(l.get_xdata() == [xmin, xmax]):\n"
     ]
    },
    {
     "data": {
      "image/png": "[encoded data removed]",
      "text/plain": [
       "<Figure size 700x800 with 1 Axes>"
      ]
     },
     "metadata": {},
     "output_type": "display_data"
    }
   ],
   "source": [
    "# Define the order of hue categories based on the order of models\n",
    "# Define the order of hue categories based on the order of models\n",
    "hue_order = [ 'Force','Force_after_Baseline',\n",
    "             'Baseline_after_Force','EWC',\n",
    "             'Force_hnet', 'Alldata']  # Add other model names in the desired order\n",
    "\n",
    "# Define the original and desired legend labels\n",
    "original_labels = ['Force', 'Force_after_Baseline', 'Baseline_after_Force', 'EWC', 'Force_hnet', 'Alldata']\n",
    "new_labels = ['Force', 'Force after Baseline', 'Baseline after Force', 'EWC', 'HNET', 'All Data']\n",
    "\n",
    "\n",
    "# Set style and context for better aesthetics\n",
    "sns.set(style=\"whitegrid\")\n",
    "sns.set_context(\"paper\", font_scale=1.3)\n",
    "\n",
    "# Create the boxplot for the stimulation dataset\n",
    "fig = plt.figure(figsize=(7, 8))  # Adjust the figure size as needed\n",
    "set_plot_style()\n",
    "sns.boxplot(x='Dataset', y='R2', hue='Model', data=results_df_adaptation,\n",
    "            hue_order=hue_order,  dodge=0.8, width=0.7)#palette=custom_palette,\n",
    "\n",
    "# Adjust legend position\n",
    "legend = plt.legend(title='Model', loc='upper center', bbox_to_anchor=(0.5, -0.15), ncol=3, title_fontsize=17)\n",
    "\n",
    "# Update legend labels\n",
    "for t, l in zip(legend.texts, new_labels):\n",
    "    t.set_text(l)\n",
    "\n",
    "\n",
    "# Add a title and labels\n",
    "#plt.title('Boxplot of R2 score by Model on Force Perturbation Dataset')\n",
    "plt.xlabel('')\n",
    "# Change the x-tick labels\n",
    "plt.xticks(ticks=plt.xticks()[0], labels=['Force Perturbation Dataset'], fontsize = 17)\n",
    "plt.ylabel('R2 score', fontsize = 17)\n",
    "\n",
    "# Show plot\n",
    "plt.tight_layout()\n",
    "adjust_box_widths(fig, 0.9)\n",
    "\n",
    "plt.show()\n"
   ]
  },
  {
   "cell_type": "code",
   "execution_count": 29,
   "metadata": {},
   "outputs": [],
   "source": [
    "results_bas_1 = results_df_baseline.loc[results_df_baseline.Fold == 'fold_1'].reset_index()"
   ]
  },
  {
   "cell_type": "code",
   "execution_count": 30,
   "metadata": {},
   "outputs": [
    {
     "data": {
      "text/html": [
       "<div>\n",
       "<style scoped>\n",
       "    .dataframe tbody tr th:only-of-type {\n",
       "        vertical-align: middle;\n",
       "    }\n",
       "\n",
       "    .dataframe tbody tr th {\n",
       "        vertical-align: top;\n",
       "    }\n",
       "\n",
       "    .dataframe thead th {\n",
       "        text-align: right;\n",
       "    }\n",
       "</style>\n",
       "<table border=\"1\" class=\"dataframe\">\n",
       "  <thead>\n",
       "    <tr style=\"text-align: right;\">\n",
       "      <th></th>\n",
       "      <th>index</th>\n",
       "      <th>Model</th>\n",
       "      <th>Dataset</th>\n",
       "      <th>Fold</th>\n",
       "      <th>EV</th>\n",
       "      <th>R2</th>\n",
       "      <th>Y_pred</th>\n",
       "      <th>Y_true</th>\n",
       "    </tr>\n",
       "  </thead>\n",
       "  <tbody>\n",
       "    <tr>\n",
       "      <th>0</th>\n",
       "      <td>6</td>\n",
       "      <td>Baseline_hnet</td>\n",
       "      <td>Baseline</td>\n",
       "      <td>fold_1</td>\n",
       "      <td>0.899942</td>\n",
       "      <td>0.899145</td>\n",
       "      <td>[[[2.0115008, 3.5592372], [0.531531, 1.0031228...</td>\n",
       "      <td>[[[0.85819334, 0.9150491], [1.2472336, 0.89152...</td>\n",
       "    </tr>\n",
       "    <tr>\n",
       "      <th>1</th>\n",
       "      <td>21</td>\n",
       "      <td>Alldata</td>\n",
       "      <td>Baseline</td>\n",
       "      <td>fold_1</td>\n",
       "      <td>0.898226</td>\n",
       "      <td>0.897119</td>\n",
       "      <td>[[[1.2656798, 4.5276113], [0.7282221, 2.483344...</td>\n",
       "      <td>[[[0.85819334, 0.9150491], [1.2472336, 0.89152...</td>\n",
       "    </tr>\n",
       "    <tr>\n",
       "      <th>2</th>\n",
       "      <td>36</td>\n",
       "      <td>EWC</td>\n",
       "      <td>Baseline</td>\n",
       "      <td>fold_1</td>\n",
       "      <td>0.809943</td>\n",
       "      <td>0.808055</td>\n",
       "      <td>[[[0.8763808, 1.1706231], [1.8358233, 3.409773...</td>\n",
       "      <td>[[[0.85819334, 0.9150491], [1.2472336, 0.89152...</td>\n",
       "    </tr>\n",
       "    <tr>\n",
       "      <th>3</th>\n",
       "      <td>66</td>\n",
       "      <td>Force_after_Baseline</td>\n",
       "      <td>Baseline</td>\n",
       "      <td>fold_1</td>\n",
       "      <td>0.478818</td>\n",
       "      <td>0.473658</td>\n",
       "      <td>[[[1.2593806, 1.2538391], [1.9323996, 2.719944...</td>\n",
       "      <td>[[[0.85819334, 0.9150491], [1.2472336, 0.89152...</td>\n",
       "    </tr>\n",
       "    <tr>\n",
       "      <th>4</th>\n",
       "      <td>81</td>\n",
       "      <td>Baseline_after_Force</td>\n",
       "      <td>Baseline</td>\n",
       "      <td>fold_1</td>\n",
       "      <td>0.883800</td>\n",
       "      <td>0.883273</td>\n",
       "      <td>[[[1.1237165, 4.7475905], [0.76750743, 2.35074...</td>\n",
       "      <td>[[[0.85819334, 0.9150491], [1.2472336, 0.89152...</td>\n",
       "    </tr>\n",
       "    <tr>\n",
       "      <th>5</th>\n",
       "      <td>111</td>\n",
       "      <td>Baseline</td>\n",
       "      <td>Baseline</td>\n",
       "      <td>fold_1</td>\n",
       "      <td>0.888754</td>\n",
       "      <td>0.887379</td>\n",
       "      <td>[[[0.45597076, 1.0318708], [1.0244776, 2.87486...</td>\n",
       "      <td>[[[0.85819334, 0.9150491], [1.2472336, 0.89152...</td>\n",
       "    </tr>\n",
       "  </tbody>\n",
       "</table>\n",
       "</div>"
      ],
      "text/plain": [
       "   index                 Model   Dataset    Fold        EV        R2  \\\n",
       "0      6         Baseline_hnet  Baseline  fold_1  0.899942  0.899145   \n",
       "1     21               Alldata  Baseline  fold_1  0.898226  0.897119   \n",
       "2     36                   EWC  Baseline  fold_1  0.809943  0.808055   \n",
       "3     66  Force_after_Baseline  Baseline  fold_1  0.478818  0.473658   \n",
       "4     81  Baseline_after_Force  Baseline  fold_1  0.883800  0.883273   \n",
       "5    111              Baseline  Baseline  fold_1  0.888754  0.887379   \n",
       "\n",
       "                                              Y_pred  \\\n",
       "0  [[[2.0115008, 3.5592372], [0.531531, 1.0031228...   \n",
       "1  [[[1.2656798, 4.5276113], [0.7282221, 2.483344...   \n",
       "2  [[[0.8763808, 1.1706231], [1.8358233, 3.409773...   \n",
       "3  [[[1.2593806, 1.2538391], [1.9323996, 2.719944...   \n",
       "4  [[[1.1237165, 4.7475905], [0.76750743, 2.35074...   \n",
       "5  [[[0.45597076, 1.0318708], [1.0244776, 2.87486...   \n",
       "\n",
       "                                              Y_true  \n",
       "0  [[[0.85819334, 0.9150491], [1.2472336, 0.89152...  \n",
       "1  [[[0.85819334, 0.9150491], [1.2472336, 0.89152...  \n",
       "2  [[[0.85819334, 0.9150491], [1.2472336, 0.89152...  \n",
       "3  [[[0.85819334, 0.9150491], [1.2472336, 0.89152...  \n",
       "4  [[[0.85819334, 0.9150491], [1.2472336, 0.89152...  \n",
       "5  [[[0.85819334, 0.9150491], [1.2472336, 0.89152...  "
      ]
     },
     "execution_count": 30,
     "metadata": {},
     "output_type": "execute_result"
    }
   ],
   "source": [
    "results_bas_1"
   ]
  },
  {
   "cell_type": "code",
   "execution_count": 31,
   "metadata": {},
   "outputs": [
    {
     "data": {
      "text/plain": [
       "100"
      ]
     },
     "execution_count": 31,
     "metadata": {},
     "output_type": "execute_result"
    }
   ],
   "source": [
    "len(results_bas_1['Y_pred'][0][0][:100,0])"
   ]
  },
  {
   "cell_type": "code",
   "execution_count": 32,
   "metadata": {},
   "outputs": [],
   "source": [
    "models = results_bas_1.Model.unique()"
   ]
  },
  {
   "cell_type": "code",
   "execution_count": 33,
   "metadata": {},
   "outputs": [],
   "source": [
    "models =['Baseline_hnet', 'EWC', 'Baseline']"
   ]
  },
  {
   "cell_type": "code",
   "execution_count": 34,
   "metadata": {},
   "outputs": [
    {
     "data": {
      "image/png": "[encoded data removed]",
      "text/plain": [
       "<Figure size 1200x600 with 1 Axes>"
      ]
     },
     "metadata": {},
     "output_type": "display_data"
    }
   ],
   "source": [
    "import matplotlib.pyplot as plt\n",
    "import seaborn as sns\n",
    "\n",
    "# Assuming 'results_bas_1' is your DataFrame containing Model, Y_true, and Y_pred columns\n",
    "\n",
    "# Define a color palette with enough colors for each model\n",
    "palette = sns.color_palette('husl', n_colors=len(models))\n",
    "\n",
    "plt.figure(figsize=(12, 6))\n",
    "\n",
    "for i, m in enumerate(models):\n",
    "    m_data = results_bas_1.loc[results_bas_1.Model == m]\n",
    "    true = m_data['Y_true'].values[0][0][300:400, 0]  # Extract true values for plotting\n",
    "    \n",
    "    # Plot true values only once\n",
    "    if i == 0:\n",
    "        plt.plot(true, color='black', linestyle='-', label='True Value', linewidth=2)\n",
    "    \n",
    "    preds = m_data['Y_pred'].values[0][0][300:400, 0]  # Extract predicted values for plotting\n",
    "    plt.plot(preds, label=m, linestyle='-', marker='o', markersize=4, alpha=0.7, color=palette[i])\n",
    "\n",
    "# Customize plot\n",
    "plt.title('True vs Predicted Values by Model')\n",
    "plt.xlabel('Index')\n",
    "plt.ylabel('Value')\n",
    "plt.legend(loc='upper right', bbox_to_anchor=(1.2, 1))\n",
    "\n",
    "plt.tight_layout()\n",
    "plt.show()\n"
   ]
  }
 ],
 "metadata": {
  "kernelspec": {
   "display_name": "sinthlab",
   "language": "python",
   "name": "python3"
  },
  "language_info": {
   "codemirror_mode": {
    "name": "ipython",
    "version": 3
   },
   "file_extension": ".py",
   "mimetype": "text/x-python",
   "name": "python",
   "nbconvert_exporter": "python",
   "pygments_lexer": "ipython3",
   "version": "3.8.19"
  }
 },
 "nbformat": 4,
 "nbformat_minor": 2
}
