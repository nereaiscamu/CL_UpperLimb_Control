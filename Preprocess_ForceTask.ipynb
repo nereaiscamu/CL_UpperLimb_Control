{
 "cells": [
  {
   "cell_type": "code",
   "execution_count": 2,
   "metadata": {},
   "outputs": [
    {
     "name": "stderr",
     "output_type": "stream",
     "text": [
      "/home/nerea/anaconda3/envs/sinthlab/lib/python3.8/site-packages/tqdm/auto.py:21: TqdmWarning: IProgress not found. Please update jupyter and ipywidgets. See https://ipywidgets.readthedocs.io/en/stable/user_install.html\n",
      "  from .autonotebook import tqdm as notebook_tqdm\n"
     ]
    }
   ],
   "source": [
    "### Imports\n",
    "\n",
    "import pandas as pd\n",
    "import numpy as np\n",
    "import xarray as xr\n",
    "\n",
    "import os\n",
    "from tqdm.auto import tqdm\n",
    "import matplotlib.pyplot as plt\n",
    "import seaborn as sns\n",
    "from src.helpers import *\n",
    "from sklearn.metrics import *\n",
    "\n",
    "import pickle\n",
    "import math\n",
    "\n",
    "import sys\n",
    "sys.path.append(\"c:\\\\Users\\\\nerea\\\\OneDrive\\\\Documentos\\\\EPFL_MASTER\\\\PDM\\\\Project\\\\PyalData\")\n",
    "# to change for the actual path where PyalData has been cloned\n",
    "\n",
    "from pyaldata import *"
   ]
  },
  {
   "cell_type": "code",
   "execution_count": 3,
   "metadata": {},
   "outputs": [],
   "source": [
    "data_dir = \"./Data\"\n",
    "\n",
    "fname = os.path.join(data_dir, \"Chewie_CO_FF_2016-10-07.mat\")\n",
    "\n",
    "name = 'Chewie'\n",
    "date = '1007'\n",
    "path_to_save_data = os.path.join(data_dir, 'Processed_Data', 'Tidy_'+name+'_'+str(date)+'.pkl')\n"
   ]
  },
  {
   "cell_type": "code",
   "execution_count": 6,
   "metadata": {},
   "outputs": [],
   "source": [
    "# Load TrialData .mat file into a DataFrame\n",
    "df = mat2dataframe_NC(fname, shift_idx_fields=True, td_name = 'trial_data') "
   ]
  },
  {
   "cell_type": "code",
   "execution_count": 7,
   "metadata": {},
   "outputs": [],
   "source": [
    "# Combine time-bins into longer ones\n",
    "td = combine_time_bins(df, 2)"
   ]
  },
  {
   "cell_type": "code",
   "execution_count": 8,
   "metadata": {},
   "outputs": [
    {
     "name": "stderr",
     "output_type": "stream",
     "text": [
      "/home/nerea/CL_UpperLimb_Control/./PyalData/pyaldata/firing_rates.py:91: UserWarning: Assuming spikes are actually spikes and dividing by bin size.\n",
      "  utils.warnings.warn(\"Assuming spikes are actually spikes and dividing by bin size.\")\n",
      "/home/nerea/CL_UpperLimb_Control/./PyalData/pyaldata/firing_rates.py:91: UserWarning: Assuming spikes are actually spikes and dividing by bin size.\n",
      "  utils.warnings.warn(\"Assuming spikes are actually spikes and dividing by bin size.\")\n"
     ]
    }
   ],
   "source": [
    "# Remove low-firing neurons\n",
    "td = remove_low_firing_neurons(td, \"M1_spikes\",  5)\n",
    "td = remove_low_firing_neurons(td, \"PMd_spikes\", 5)"
   ]
  },
  {
   "cell_type": "code",
   "execution_count": 9,
   "metadata": {},
   "outputs": [],
   "source": [
    "# Transform signals\n",
    "td = transform_signal(td, \"M1_spikes\",  'sqrt')\n",
    "td = transform_signal(td, \"PMd_spikes\", 'sqrt')"
   ]
  },
  {
   "cell_type": "code",
   "execution_count": 10,
   "metadata": {},
   "outputs": [],
   "source": [
    "# Merge signals\n",
    "# Signals from the pre-motor and motor cortex are now combines in one same variable, \n",
    "# we do not consider the 2 regions as different but more as functionally working together.\n",
    "td = merge_signals(td, [\"M1_spikes\", \"PMd_spikes\"], \"both_spikes\")\n",
    "# Compute firing rates\n",
    "td = add_firing_rates(td, 'smooth')\n"
   ]
  },
  {
   "cell_type": "code",
   "execution_count": 14,
   "metadata": {},
   "outputs": [
    {
     "data": {
      "text/plain": [
       "Index(['monkey', 'date', 'task', 'target_direction', 'trial_id', 'result',\n",
       "       'bin_size', 'perturbation', 'perturbation_info', 'epoch',\n",
       "       'idx_trial_start', 'idx_target_on', 'idx_go_cue', 'idx_movement_on',\n",
       "       'idx_peak_speed', 'idx_trial_end', 'pos', 'vel', 'acc', 'force',\n",
       "       'M1_spikes', 'M1_unit_guide', 'PMd_spikes', 'PMd_unit_guide',\n",
       "       'both_spikes', 'M1_rates', 'PMd_rates', 'both_rates'],\n",
       "      dtype='object')"
      ]
     },
     "execution_count": 14,
     "metadata": {},
     "output_type": "execute_result"
    }
   ],
   "source": [
    "td.columns"
   ]
  },
  {
   "cell_type": "code",
   "execution_count": 87,
   "metadata": {},
   "outputs": [],
   "source": [
    "td_filt = td.loc[td.result == 'R'].reset_index()"
   ]
  },
  {
   "cell_type": "code",
   "execution_count": 88,
   "metadata": {},
   "outputs": [
    {
     "data": {
      "text/plain": [
       "330"
      ]
     },
     "execution_count": 88,
     "metadata": {},
     "output_type": "execute_result"
    }
   ],
   "source": [
    "td_filt.trial_id.nunique()"
   ]
  },
  {
   "cell_type": "code",
   "execution_count": 111,
   "metadata": {},
   "outputs": [
    {
     "data": {
      "text/plain": [
       "[<matplotlib.lines.Line2D at 0x7fe5d499edf0>]"
      ]
     },
     "execution_count": 111,
     "metadata": {},
     "output_type": "execute_result"
    },
    {
     "data": {
      "image/png": "[encoded data removed]",
      "text/plain": [
       "<Figure size 640x480 with 1 Axes>"
      ]
     },
     "metadata": {},
     "output_type": "display_data"
    }
   ],
   "source": [
    "plt.plot(td_filt.vel[50][:,0])"
   ]
  },
  {
   "cell_type": "markdown",
   "metadata": {},
   "source": [
    "# For now it looks like  the trials have very different shapes, I should decide a fixed shape for the project, first check if some trials have more than one reach inside."
   ]
  },
  {
   "cell_type": "code",
   "execution_count": 90,
   "metadata": {},
   "outputs": [
    {
     "data": {
      "text/plain": [
       "189"
      ]
     },
     "execution_count": 90,
     "metadata": {},
     "output_type": "execute_result"
    }
   ],
   "source": [
    "len(td.vel[3])"
   ]
  },
  {
   "cell_type": "code",
   "execution_count": 91,
   "metadata": {},
   "outputs": [
    {
     "data": {
      "text/plain": [
       "(189, 47)"
      ]
     },
     "execution_count": 91,
     "metadata": {},
     "output_type": "execute_result"
    }
   ],
   "source": [
    "td.M1_spikes[3].shape"
   ]
  },
  {
   "cell_type": "code",
   "execution_count": 94,
   "metadata": {},
   "outputs": [
    {
     "data": {
      "text/plain": [
       "<matplotlib.collections.PathCollection at 0x7fe5d4f3baf0>"
      ]
     },
     "execution_count": 94,
     "metadata": {},
     "output_type": "execute_result"
    },
    {
     "data": {
      "image/png": "[encoded data removed]",
      "text/plain": [
       "<Figure size 640x480 with 1 Axes>"
      ]
     },
     "metadata": {},
     "output_type": "display_data"
    }
   ],
   "source": [
    "plt.scatter(np.arange(0,47),td.M1_spikes[3][0,:])"
   ]
  },
  {
   "cell_type": "code",
   "execution_count": 95,
   "metadata": {},
   "outputs": [],
   "source": [
    "trial_lengths = [td.vel[i].shape[0] for i in range(len(td.vel))]"
   ]
  },
  {
   "cell_type": "code",
   "execution_count": 96,
   "metadata": {},
   "outputs": [
    {
     "data": {
      "text/plain": [
       "<matplotlib.collections.PathCollection at 0x7fe5d4eaeee0>"
      ]
     },
     "execution_count": 96,
     "metadata": {},
     "output_type": "execute_result"
    },
    {
     "data": {
      "image/png": "[encoded data removed]",
      "text/plain": [
       "<Figure size 640x480 with 1 Axes>"
      ]
     },
     "metadata": {},
     "output_type": "display_data"
    }
   ],
   "source": [
    "plt.scatter(np.arange(0, len(trial_lengths)), trial_lengths)"
   ]
  },
  {
   "cell_type": "code",
   "execution_count": 97,
   "metadata": {},
   "outputs": [
    {
     "name": "stdout",
     "output_type": "stream",
     "text": [
      "112 588\n"
     ]
    }
   ],
   "source": [
    "min_l = np.min(trial_lengths)\n",
    "max_l = np.max(trial_lengths)\n",
    "print(min_l, max_l)"
   ]
  },
  {
   "cell_type": "code",
   "execution_count": 98,
   "metadata": {},
   "outputs": [
    {
     "data": {
      "text/plain": [
       "346"
      ]
     },
     "execution_count": 98,
     "metadata": {},
     "output_type": "execute_result"
    }
   ],
   "source": [
    "np.argmax(trial_lengths)"
   ]
  },
  {
   "cell_type": "code",
   "execution_count": 106,
   "metadata": {},
   "outputs": [
    {
     "data": {
      "text/plain": [
       "[<matplotlib.lines.Line2D at 0x7fe5d4c29850>]"
      ]
     },
     "execution_count": 106,
     "metadata": {},
     "output_type": "execute_result"
    },
    {
     "data": {
      "image/png": "[encoded data removed]",
      "text/plain": [
       "<Figure size 640x480 with 1 Axes>"
      ]
     },
     "metadata": {},
     "output_type": "display_data"
    }
   ],
   "source": [
    "plt.plot(td.vel[347][:,0])"
   ]
  },
  {
   "cell_type": "code",
   "execution_count": 107,
   "metadata": {},
   "outputs": [
    {
     "data": {
      "text/plain": [
       "[<matplotlib.lines.Line2D at 0x7fe5d4ba2a30>]"
      ]
     },
     "execution_count": 107,
     "metadata": {},
     "output_type": "execute_result"
    },
    {
     "data": {
      "image/png": "[encoded data removed]",
      "text/plain": [
       "<Figure size 640x480 with 1 Axes>"
      ]
     },
     "metadata": {},
     "output_type": "display_data"
    }
   ],
   "source": [
    "plt.plot(td.vel[346][:, 0])"
   ]
  },
  {
   "cell_type": "code",
   "execution_count": 103,
   "metadata": {},
   "outputs": [
    {
     "data": {
      "text/plain": [
       "(179, 47)"
      ]
     },
     "execution_count": 103,
     "metadata": {},
     "output_type": "execute_result"
    }
   ],
   "source": [
    "td.M1_rates[0].shape"
   ]
  },
  {
   "cell_type": "code",
   "execution_count": 49,
   "metadata": {},
   "outputs": [],
   "source": [
    "a = td.explode(['pos', 'vel', 'M1_rates', 'PMd_rates', 'both_rates']).reset_index()"
   ]
  },
  {
   "cell_type": "code",
   "execution_count": 50,
   "metadata": {},
   "outputs": [
    {
     "data": {
      "text/html": [
       "<div>\n",
       "<style scoped>\n",
       "    .dataframe tbody tr th:only-of-type {\n",
       "        vertical-align: middle;\n",
       "    }\n",
       "\n",
       "    .dataframe tbody tr th {\n",
       "        vertical-align: top;\n",
       "    }\n",
       "\n",
       "    .dataframe thead th {\n",
       "        text-align: right;\n",
       "    }\n",
       "</style>\n",
       "<table border=\"1\" class=\"dataframe\">\n",
       "  <thead>\n",
       "    <tr style=\"text-align: right;\">\n",
       "      <th></th>\n",
       "      <th>index</th>\n",
       "      <th>monkey</th>\n",
       "      <th>date</th>\n",
       "      <th>task</th>\n",
       "      <th>target_direction</th>\n",
       "      <th>trial_id</th>\n",
       "      <th>result</th>\n",
       "      <th>bin_size</th>\n",
       "      <th>perturbation</th>\n",
       "      <th>perturbation_info</th>\n",
       "      <th>...</th>\n",
       "      <th>acc</th>\n",
       "      <th>force</th>\n",
       "      <th>M1_spikes</th>\n",
       "      <th>M1_unit_guide</th>\n",
       "      <th>PMd_spikes</th>\n",
       "      <th>PMd_unit_guide</th>\n",
       "      <th>both_spikes</th>\n",
       "      <th>M1_rates</th>\n",
       "      <th>PMd_rates</th>\n",
       "      <th>both_rates</th>\n",
       "    </tr>\n",
       "  </thead>\n",
       "  <tbody>\n",
       "    <tr>\n",
       "      <th>0</th>\n",
       "      <td>0</td>\n",
       "      <td>Chewie</td>\n",
       "      <td>10-07-2016</td>\n",
       "      <td>CO</td>\n",
       "      <td>0.785398</td>\n",
       "      <td>1</td>\n",
       "      <td>R</td>\n",
       "      <td>0.02</td>\n",
       "      <td>FF</td>\n",
       "      <td>[0.15, -1.48]</td>\n",
       "      <td>...</td>\n",
       "      <td>[[-34.20058356024036, 65.61549950450491], [-42...</td>\n",
       "      <td>[[0.16237358040946678, 0.3526423959951813], [0...</td>\n",
       "      <td>[[1.4142135623730951, 0.0, 0.0, 0.0, 0.0, 0.0,...</td>\n",
       "      <td>[[1, 1], [3, 1], [4, 1], [5, 1], [9, 1], [10, ...</td>\n",
       "      <td>[[0.0, 0.0, 0.0, 0.0, 0.0, 0.0, 0.0, 0.0, 0.0,...</td>\n",
       "      <td>[[1, 1], [7, 2], [7, 3], [29, 2], [30, 1], [30...</td>\n",
       "      <td>[[1.4142135623730951, 0.0, 0.0, 0.0, 0.0, 0.0,...</td>\n",
       "      <td>[38.4272, 11.205347, 13.455679, 26.138788, 0.0...</td>\n",
       "      <td>[9.883548, 3.2982376, 6.3081317, 13.365311, 3....</td>\n",
       "      <td>[38.4272, 11.205347, 13.455679, 26.138788, 0.0...</td>\n",
       "    </tr>\n",
       "    <tr>\n",
       "      <th>1</th>\n",
       "      <td>0</td>\n",
       "      <td>Chewie</td>\n",
       "      <td>10-07-2016</td>\n",
       "      <td>CO</td>\n",
       "      <td>0.785398</td>\n",
       "      <td>1</td>\n",
       "      <td>R</td>\n",
       "      <td>0.02</td>\n",
       "      <td>FF</td>\n",
       "      <td>[0.15, -1.48]</td>\n",
       "      <td>...</td>\n",
       "      <td>[[-34.20058356024036, 65.61549950450491], [-42...</td>\n",
       "      <td>[[0.16237358040946678, 0.3526423959951813], [0...</td>\n",
       "      <td>[[1.4142135623730951, 0.0, 0.0, 0.0, 0.0, 0.0,...</td>\n",
       "      <td>[[1, 1], [3, 1], [4, 1], [5, 1], [9, 1], [10, ...</td>\n",
       "      <td>[[0.0, 0.0, 0.0, 0.0, 0.0, 0.0, 0.0, 0.0, 0.0,...</td>\n",
       "      <td>[[1, 1], [7, 2], [7, 3], [29, 2], [30, 1], [30...</td>\n",
       "      <td>[[1.4142135623730951, 0.0, 0.0, 0.0, 0.0, 0.0,...</td>\n",
       "      <td>[35.440273, 11.961129, 16.429155, 25.793085, 0...</td>\n",
       "      <td>[10.043954, 4.331614, 7.3337827, 12.3232, 4.50...</td>\n",
       "      <td>[35.440273, 11.961129, 16.429155, 25.793085, 0...</td>\n",
       "    </tr>\n",
       "    <tr>\n",
       "      <th>2</th>\n",
       "      <td>0</td>\n",
       "      <td>Chewie</td>\n",
       "      <td>10-07-2016</td>\n",
       "      <td>CO</td>\n",
       "      <td>0.785398</td>\n",
       "      <td>1</td>\n",
       "      <td>R</td>\n",
       "      <td>0.02</td>\n",
       "      <td>FF</td>\n",
       "      <td>[0.15, -1.48]</td>\n",
       "      <td>...</td>\n",
       "      <td>[[-34.20058356024036, 65.61549950450491], [-42...</td>\n",
       "      <td>[[0.16237358040946678, 0.3526423959951813], [0...</td>\n",
       "      <td>[[1.4142135623730951, 0.0, 0.0, 0.0, 0.0, 0.0,...</td>\n",
       "      <td>[[1, 1], [3, 1], [4, 1], [5, 1], [9, 1], [10, ...</td>\n",
       "      <td>[[0.0, 0.0, 0.0, 0.0, 0.0, 0.0, 0.0, 0.0, 0.0,...</td>\n",
       "      <td>[[1, 1], [7, 2], [7, 3], [29, 2], [30, 1], [30...</td>\n",
       "      <td>[[1.4142135623730951, 0.0, 0.0, 0.0, 0.0, 0.0,...</td>\n",
       "      <td>[30.812984, 12.99325, 20.933218, 24.655056, 0....</td>\n",
       "      <td>[10.141166, 5.952143, 8.895794, 10.668998, 6.4...</td>\n",
       "      <td>[30.812984, 12.99325, 20.933218, 24.655056, 0....</td>\n",
       "    </tr>\n",
       "    <tr>\n",
       "      <th>3</th>\n",
       "      <td>0</td>\n",
       "      <td>Chewie</td>\n",
       "      <td>10-07-2016</td>\n",
       "      <td>CO</td>\n",
       "      <td>0.785398</td>\n",
       "      <td>1</td>\n",
       "      <td>R</td>\n",
       "      <td>0.02</td>\n",
       "      <td>FF</td>\n",
       "      <td>[0.15, -1.48]</td>\n",
       "      <td>...</td>\n",
       "      <td>[[-34.20058356024036, 65.61549950450491], [-42...</td>\n",
       "      <td>[[0.16237358040946678, 0.3526423959951813], [0...</td>\n",
       "      <td>[[1.4142135623730951, 0.0, 0.0, 0.0, 0.0, 0.0,...</td>\n",
       "      <td>[[1, 1], [3, 1], [4, 1], [5, 1], [9, 1], [10, ...</td>\n",
       "      <td>[[0.0, 0.0, 0.0, 0.0, 0.0, 0.0, 0.0, 0.0, 0.0,...</td>\n",
       "      <td>[[1, 1], [7, 2], [7, 3], [29, 2], [30, 1], [30...</td>\n",
       "      <td>[[1.4142135623730951, 0.0, 0.0, 0.0, 0.0, 0.0,...</td>\n",
       "      <td>[26.42189, 13.634284, 24.72684, 22.308786, 1.1...</td>\n",
       "      <td>[10.032214, 7.4131675, 10.356075, 9.104809, 8....</td>\n",
       "      <td>[26.42189, 13.634284, 24.72684, 22.308786, 1.1...</td>\n",
       "    </tr>\n",
       "    <tr>\n",
       "      <th>4</th>\n",
       "      <td>0</td>\n",
       "      <td>Chewie</td>\n",
       "      <td>10-07-2016</td>\n",
       "      <td>CO</td>\n",
       "      <td>0.785398</td>\n",
       "      <td>1</td>\n",
       "      <td>R</td>\n",
       "      <td>0.02</td>\n",
       "      <td>FF</td>\n",
       "      <td>[0.15, -1.48]</td>\n",
       "      <td>...</td>\n",
       "      <td>[[-34.20058356024036, 65.61549950450491], [-42...</td>\n",
       "      <td>[[0.16237358040946678, 0.3526423959951813], [0...</td>\n",
       "      <td>[[1.4142135623730951, 0.0, 0.0, 0.0, 0.0, 0.0,...</td>\n",
       "      <td>[[1, 1], [3, 1], [4, 1], [5, 1], [9, 1], [10, ...</td>\n",
       "      <td>[[0.0, 0.0, 0.0, 0.0, 0.0, 0.0, 0.0, 0.0, 0.0,...</td>\n",
       "      <td>[[1, 1], [7, 2], [7, 3], [29, 2], [30, 1], [30...</td>\n",
       "      <td>[[1.4142135623730951, 0.0, 0.0, 0.0, 0.0, 0.0,...</td>\n",
       "      <td>[23.698915, 13.380146, 25.842861, 18.893782, 2...</td>\n",
       "      <td>[9.835945, 7.991666, 11.296891, 8.263098, 10.6...</td>\n",
       "      <td>[23.698915, 13.380146, 25.842861, 18.893782, 2...</td>\n",
       "    </tr>\n",
       "    <tr>\n",
       "      <th>...</th>\n",
       "      <td>...</td>\n",
       "      <td>...</td>\n",
       "      <td>...</td>\n",
       "      <td>...</td>\n",
       "      <td>...</td>\n",
       "      <td>...</td>\n",
       "      <td>...</td>\n",
       "      <td>...</td>\n",
       "      <td>...</td>\n",
       "      <td>...</td>\n",
       "      <td>...</td>\n",
       "      <td>...</td>\n",
       "      <td>...</td>\n",
       "      <td>...</td>\n",
       "      <td>...</td>\n",
       "      <td>...</td>\n",
       "      <td>...</td>\n",
       "      <td>...</td>\n",
       "      <td>...</td>\n",
       "      <td>...</td>\n",
       "      <td>...</td>\n",
       "    </tr>\n",
       "    <tr>\n",
       "      <th>84789</th>\n",
       "      <td>422</td>\n",
       "      <td>Chewie</td>\n",
       "      <td>10-07-2016</td>\n",
       "      <td>CO</td>\n",
       "      <td>1.570796</td>\n",
       "      <td>1</td>\n",
       "      <td>F</td>\n",
       "      <td>0.02</td>\n",
       "      <td>FF</td>\n",
       "      <td>[0.15, -1.48]</td>\n",
       "      <td>...</td>\n",
       "      <td>[[44.09329458427308, 66.21875740744937], [21.4...</td>\n",
       "      <td>[[0.005357012713075052, 0.30677783497294897], ...</td>\n",
       "      <td>[[0.0, 0.0, 0.0, 0.0, 0.0, 0.0, 0.0, 1.0, 0.0,...</td>\n",
       "      <td>[[1, 1], [3, 1], [4, 1], [5, 1], [9, 1], [10, ...</td>\n",
       "      <td>[[0.0, 0.0, 0.0, 1.0, 0.0, 0.0, 0.0, 0.0, 1.0,...</td>\n",
       "      <td>[[1, 1], [7, 2], [7, 3], [29, 2], [30, 1], [30...</td>\n",
       "      <td>[[0.0, 0.0, 0.0, 0.0, 0.0, 0.0, 0.0, 1.0, 0.0,...</td>\n",
       "      <td>[4.502161, 23.618074, 0.0, 0.0, 15.80714, 18.9...</td>\n",
       "      <td>[0.0, 0.20599091, 0.0, 0.0, 0.0005780757, 26.9...</td>\n",
       "      <td>[4.502161, 23.618074, 0.0, 0.0, 15.80714, 18.9...</td>\n",
       "    </tr>\n",
       "    <tr>\n",
       "      <th>84790</th>\n",
       "      <td>422</td>\n",
       "      <td>Chewie</td>\n",
       "      <td>10-07-2016</td>\n",
       "      <td>CO</td>\n",
       "      <td>1.570796</td>\n",
       "      <td>1</td>\n",
       "      <td>F</td>\n",
       "      <td>0.02</td>\n",
       "      <td>FF</td>\n",
       "      <td>[0.15, -1.48]</td>\n",
       "      <td>...</td>\n",
       "      <td>[[44.09329458427308, 66.21875740744937], [21.4...</td>\n",
       "      <td>[[0.005357012713075052, 0.30677783497294897], ...</td>\n",
       "      <td>[[0.0, 0.0, 0.0, 0.0, 0.0, 0.0, 0.0, 1.0, 0.0,...</td>\n",
       "      <td>[[1, 1], [3, 1], [4, 1], [5, 1], [9, 1], [10, ...</td>\n",
       "      <td>[[0.0, 0.0, 0.0, 1.0, 0.0, 0.0, 0.0, 0.0, 1.0,...</td>\n",
       "      <td>[[1, 1], [7, 2], [7, 3], [29, 2], [30, 1], [30...</td>\n",
       "      <td>[[0.0, 0.0, 0.0, 0.0, 0.0, 0.0, 0.0, 1.0, 0.0,...</td>\n",
       "      <td>[6.9240127, 27.520535, 0.0, 0.0, 13.37747, 21....</td>\n",
       "      <td>[0.0, 0.059919834, 0.0, 0.0, 7.9226025e-05, 27...</td>\n",
       "      <td>[6.9240127, 27.520535, 0.0, 0.0, 13.37747, 21....</td>\n",
       "    </tr>\n",
       "    <tr>\n",
       "      <th>84791</th>\n",
       "      <td>422</td>\n",
       "      <td>Chewie</td>\n",
       "      <td>10-07-2016</td>\n",
       "      <td>CO</td>\n",
       "      <td>1.570796</td>\n",
       "      <td>1</td>\n",
       "      <td>F</td>\n",
       "      <td>0.02</td>\n",
       "      <td>FF</td>\n",
       "      <td>[0.15, -1.48]</td>\n",
       "      <td>...</td>\n",
       "      <td>[[44.09329458427308, 66.21875740744937], [21.4...</td>\n",
       "      <td>[[0.005357012713075052, 0.30677783497294897], ...</td>\n",
       "      <td>[[0.0, 0.0, 0.0, 0.0, 0.0, 0.0, 0.0, 1.0, 0.0,...</td>\n",
       "      <td>[[1, 1], [3, 1], [4, 1], [5, 1], [9, 1], [10, ...</td>\n",
       "      <td>[[0.0, 0.0, 0.0, 1.0, 0.0, 0.0, 0.0, 0.0, 1.0,...</td>\n",
       "      <td>[[1, 1], [7, 2], [7, 3], [29, 2], [30, 1], [30...</td>\n",
       "      <td>[[0.0, 0.0, 0.0, 0.0, 0.0, 0.0, 0.0, 1.0, 0.0,...</td>\n",
       "      <td>[9.596561, 32.18366, 0.0, 0.0, 9.93123, 24.909...</td>\n",
       "      <td>[0.0, 0.014914651, 0.0, 0.0, 0.0, 28.975142, 0...</td>\n",
       "      <td>[9.596561, 32.18366, 0.0, 0.0, 9.93123, 24.909...</td>\n",
       "    </tr>\n",
       "    <tr>\n",
       "      <th>84792</th>\n",
       "      <td>422</td>\n",
       "      <td>Chewie</td>\n",
       "      <td>10-07-2016</td>\n",
       "      <td>CO</td>\n",
       "      <td>1.570796</td>\n",
       "      <td>1</td>\n",
       "      <td>F</td>\n",
       "      <td>0.02</td>\n",
       "      <td>FF</td>\n",
       "      <td>[0.15, -1.48]</td>\n",
       "      <td>...</td>\n",
       "      <td>[[44.09329458427308, 66.21875740744937], [21.4...</td>\n",
       "      <td>[[0.005357012713075052, 0.30677783497294897], ...</td>\n",
       "      <td>[[0.0, 0.0, 0.0, 0.0, 0.0, 0.0, 0.0, 1.0, 0.0,...</td>\n",
       "      <td>[[1, 1], [3, 1], [4, 1], [5, 1], [9, 1], [10, ...</td>\n",
       "      <td>[[0.0, 0.0, 0.0, 1.0, 0.0, 0.0, 0.0, 0.0, 1.0,...</td>\n",
       "      <td>[[1, 1], [7, 2], [7, 3], [29, 2], [30, 1], [30...</td>\n",
       "      <td>[[0.0, 0.0, 0.0, 0.0, 0.0, 0.0, 0.0, 1.0, 0.0,...</td>\n",
       "      <td>[11.865329, 36.55853, 0.0, 0.0, 6.720658, 27.1...</td>\n",
       "      <td>[0.0, 0.0031754556, 0.0, 0.0, 0.0, 31.131649, ...</td>\n",
       "      <td>[11.865329, 36.55853, 0.0, 0.0, 6.720658, 27.1...</td>\n",
       "    </tr>\n",
       "    <tr>\n",
       "      <th>84793</th>\n",
       "      <td>422</td>\n",
       "      <td>Chewie</td>\n",
       "      <td>10-07-2016</td>\n",
       "      <td>CO</td>\n",
       "      <td>1.570796</td>\n",
       "      <td>1</td>\n",
       "      <td>F</td>\n",
       "      <td>0.02</td>\n",
       "      <td>FF</td>\n",
       "      <td>[0.15, -1.48]</td>\n",
       "      <td>...</td>\n",
       "      <td>[[44.09329458427308, 66.21875740744937], [21.4...</td>\n",
       "      <td>[[0.005357012713075052, 0.30677783497294897], ...</td>\n",
       "      <td>[[0.0, 0.0, 0.0, 0.0, 0.0, 0.0, 0.0, 1.0, 0.0,...</td>\n",
       "      <td>[[1, 1], [3, 1], [4, 1], [5, 1], [9, 1], [10, ...</td>\n",
       "      <td>[[0.0, 0.0, 0.0, 1.0, 0.0, 0.0, 0.0, 0.0, 1.0,...</td>\n",
       "      <td>[[1, 1], [7, 2], [7, 3], [29, 2], [30, 1], [30...</td>\n",
       "      <td>[[0.0, 0.0, 0.0, 0.0, 0.0, 0.0, 0.0, 1.0, 0.0,...</td>\n",
       "      <td>[13.15982, 39.231026, 0.0, 0.0, 4.8291235, 28....</td>\n",
       "      <td>[0.0, 0.0006573017, 0.0, 0.0, 0.0, 32.69925, 0...</td>\n",
       "      <td>[13.15982, 39.231026, 0.0, 0.0, 4.8291235, 28....</td>\n",
       "    </tr>\n",
       "  </tbody>\n",
       "</table>\n",
       "<p>391 rows × 29 columns</p>\n",
       "</div>"
      ],
      "text/plain": [
       "       index  monkey        date task  target_direction  trial_id result  \\\n",
       "0          0  Chewie  10-07-2016   CO          0.785398         1      R   \n",
       "1          0  Chewie  10-07-2016   CO          0.785398         1      R   \n",
       "2          0  Chewie  10-07-2016   CO          0.785398         1      R   \n",
       "3          0  Chewie  10-07-2016   CO          0.785398         1      R   \n",
       "4          0  Chewie  10-07-2016   CO          0.785398         1      R   \n",
       "...      ...     ...         ...  ...               ...       ...    ...   \n",
       "84789    422  Chewie  10-07-2016   CO          1.570796         1      F   \n",
       "84790    422  Chewie  10-07-2016   CO          1.570796         1      F   \n",
       "84791    422  Chewie  10-07-2016   CO          1.570796         1      F   \n",
       "84792    422  Chewie  10-07-2016   CO          1.570796         1      F   \n",
       "84793    422  Chewie  10-07-2016   CO          1.570796         1      F   \n",
       "\n",
       "       bin_size perturbation perturbation_info  ...  \\\n",
       "0          0.02           FF     [0.15, -1.48]  ...   \n",
       "1          0.02           FF     [0.15, -1.48]  ...   \n",
       "2          0.02           FF     [0.15, -1.48]  ...   \n",
       "3          0.02           FF     [0.15, -1.48]  ...   \n",
       "4          0.02           FF     [0.15, -1.48]  ...   \n",
       "...         ...          ...               ...  ...   \n",
       "84789      0.02           FF     [0.15, -1.48]  ...   \n",
       "84790      0.02           FF     [0.15, -1.48]  ...   \n",
       "84791      0.02           FF     [0.15, -1.48]  ...   \n",
       "84792      0.02           FF     [0.15, -1.48]  ...   \n",
       "84793      0.02           FF     [0.15, -1.48]  ...   \n",
       "\n",
       "                                                     acc  \\\n",
       "0      [[-34.20058356024036, 65.61549950450491], [-42...   \n",
       "1      [[-34.20058356024036, 65.61549950450491], [-42...   \n",
       "2      [[-34.20058356024036, 65.61549950450491], [-42...   \n",
       "3      [[-34.20058356024036, 65.61549950450491], [-42...   \n",
       "4      [[-34.20058356024036, 65.61549950450491], [-42...   \n",
       "...                                                  ...   \n",
       "84789  [[44.09329458427308, 66.21875740744937], [21.4...   \n",
       "84790  [[44.09329458427308, 66.21875740744937], [21.4...   \n",
       "84791  [[44.09329458427308, 66.21875740744937], [21.4...   \n",
       "84792  [[44.09329458427308, 66.21875740744937], [21.4...   \n",
       "84793  [[44.09329458427308, 66.21875740744937], [21.4...   \n",
       "\n",
       "                                                   force  \\\n",
       "0      [[0.16237358040946678, 0.3526423959951813], [0...   \n",
       "1      [[0.16237358040946678, 0.3526423959951813], [0...   \n",
       "2      [[0.16237358040946678, 0.3526423959951813], [0...   \n",
       "3      [[0.16237358040946678, 0.3526423959951813], [0...   \n",
       "4      [[0.16237358040946678, 0.3526423959951813], [0...   \n",
       "...                                                  ...   \n",
       "84789  [[0.005357012713075052, 0.30677783497294897], ...   \n",
       "84790  [[0.005357012713075052, 0.30677783497294897], ...   \n",
       "84791  [[0.005357012713075052, 0.30677783497294897], ...   \n",
       "84792  [[0.005357012713075052, 0.30677783497294897], ...   \n",
       "84793  [[0.005357012713075052, 0.30677783497294897], ...   \n",
       "\n",
       "                                               M1_spikes  \\\n",
       "0      [[1.4142135623730951, 0.0, 0.0, 0.0, 0.0, 0.0,...   \n",
       "1      [[1.4142135623730951, 0.0, 0.0, 0.0, 0.0, 0.0,...   \n",
       "2      [[1.4142135623730951, 0.0, 0.0, 0.0, 0.0, 0.0,...   \n",
       "3      [[1.4142135623730951, 0.0, 0.0, 0.0, 0.0, 0.0,...   \n",
       "4      [[1.4142135623730951, 0.0, 0.0, 0.0, 0.0, 0.0,...   \n",
       "...                                                  ...   \n",
       "84789  [[0.0, 0.0, 0.0, 0.0, 0.0, 0.0, 0.0, 1.0, 0.0,...   \n",
       "84790  [[0.0, 0.0, 0.0, 0.0, 0.0, 0.0, 0.0, 1.0, 0.0,...   \n",
       "84791  [[0.0, 0.0, 0.0, 0.0, 0.0, 0.0, 0.0, 1.0, 0.0,...   \n",
       "84792  [[0.0, 0.0, 0.0, 0.0, 0.0, 0.0, 0.0, 1.0, 0.0,...   \n",
       "84793  [[0.0, 0.0, 0.0, 0.0, 0.0, 0.0, 0.0, 1.0, 0.0,...   \n",
       "\n",
       "                                           M1_unit_guide  \\\n",
       "0      [[1, 1], [3, 1], [4, 1], [5, 1], [9, 1], [10, ...   \n",
       "1      [[1, 1], [3, 1], [4, 1], [5, 1], [9, 1], [10, ...   \n",
       "2      [[1, 1], [3, 1], [4, 1], [5, 1], [9, 1], [10, ...   \n",
       "3      [[1, 1], [3, 1], [4, 1], [5, 1], [9, 1], [10, ...   \n",
       "4      [[1, 1], [3, 1], [4, 1], [5, 1], [9, 1], [10, ...   \n",
       "...                                                  ...   \n",
       "84789  [[1, 1], [3, 1], [4, 1], [5, 1], [9, 1], [10, ...   \n",
       "84790  [[1, 1], [3, 1], [4, 1], [5, 1], [9, 1], [10, ...   \n",
       "84791  [[1, 1], [3, 1], [4, 1], [5, 1], [9, 1], [10, ...   \n",
       "84792  [[1, 1], [3, 1], [4, 1], [5, 1], [9, 1], [10, ...   \n",
       "84793  [[1, 1], [3, 1], [4, 1], [5, 1], [9, 1], [10, ...   \n",
       "\n",
       "                                              PMd_spikes  \\\n",
       "0      [[0.0, 0.0, 0.0, 0.0, 0.0, 0.0, 0.0, 0.0, 0.0,...   \n",
       "1      [[0.0, 0.0, 0.0, 0.0, 0.0, 0.0, 0.0, 0.0, 0.0,...   \n",
       "2      [[0.0, 0.0, 0.0, 0.0, 0.0, 0.0, 0.0, 0.0, 0.0,...   \n",
       "3      [[0.0, 0.0, 0.0, 0.0, 0.0, 0.0, 0.0, 0.0, 0.0,...   \n",
       "4      [[0.0, 0.0, 0.0, 0.0, 0.0, 0.0, 0.0, 0.0, 0.0,...   \n",
       "...                                                  ...   \n",
       "84789  [[0.0, 0.0, 0.0, 1.0, 0.0, 0.0, 0.0, 0.0, 1.0,...   \n",
       "84790  [[0.0, 0.0, 0.0, 1.0, 0.0, 0.0, 0.0, 0.0, 1.0,...   \n",
       "84791  [[0.0, 0.0, 0.0, 1.0, 0.0, 0.0, 0.0, 0.0, 1.0,...   \n",
       "84792  [[0.0, 0.0, 0.0, 1.0, 0.0, 0.0, 0.0, 0.0, 1.0,...   \n",
       "84793  [[0.0, 0.0, 0.0, 1.0, 0.0, 0.0, 0.0, 0.0, 1.0,...   \n",
       "\n",
       "                                          PMd_unit_guide  \\\n",
       "0      [[1, 1], [7, 2], [7, 3], [29, 2], [30, 1], [30...   \n",
       "1      [[1, 1], [7, 2], [7, 3], [29, 2], [30, 1], [30...   \n",
       "2      [[1, 1], [7, 2], [7, 3], [29, 2], [30, 1], [30...   \n",
       "3      [[1, 1], [7, 2], [7, 3], [29, 2], [30, 1], [30...   \n",
       "4      [[1, 1], [7, 2], [7, 3], [29, 2], [30, 1], [30...   \n",
       "...                                                  ...   \n",
       "84789  [[1, 1], [7, 2], [7, 3], [29, 2], [30, 1], [30...   \n",
       "84790  [[1, 1], [7, 2], [7, 3], [29, 2], [30, 1], [30...   \n",
       "84791  [[1, 1], [7, 2], [7, 3], [29, 2], [30, 1], [30...   \n",
       "84792  [[1, 1], [7, 2], [7, 3], [29, 2], [30, 1], [30...   \n",
       "84793  [[1, 1], [7, 2], [7, 3], [29, 2], [30, 1], [30...   \n",
       "\n",
       "                                             both_spikes  \\\n",
       "0      [[1.4142135623730951, 0.0, 0.0, 0.0, 0.0, 0.0,...   \n",
       "1      [[1.4142135623730951, 0.0, 0.0, 0.0, 0.0, 0.0,...   \n",
       "2      [[1.4142135623730951, 0.0, 0.0, 0.0, 0.0, 0.0,...   \n",
       "3      [[1.4142135623730951, 0.0, 0.0, 0.0, 0.0, 0.0,...   \n",
       "4      [[1.4142135623730951, 0.0, 0.0, 0.0, 0.0, 0.0,...   \n",
       "...                                                  ...   \n",
       "84789  [[0.0, 0.0, 0.0, 0.0, 0.0, 0.0, 0.0, 1.0, 0.0,...   \n",
       "84790  [[0.0, 0.0, 0.0, 0.0, 0.0, 0.0, 0.0, 1.0, 0.0,...   \n",
       "84791  [[0.0, 0.0, 0.0, 0.0, 0.0, 0.0, 0.0, 1.0, 0.0,...   \n",
       "84792  [[0.0, 0.0, 0.0, 0.0, 0.0, 0.0, 0.0, 1.0, 0.0,...   \n",
       "84793  [[0.0, 0.0, 0.0, 0.0, 0.0, 0.0, 0.0, 1.0, 0.0,...   \n",
       "\n",
       "                                                M1_rates  \\\n",
       "0      [38.4272, 11.205347, 13.455679, 26.138788, 0.0...   \n",
       "1      [35.440273, 11.961129, 16.429155, 25.793085, 0...   \n",
       "2      [30.812984, 12.99325, 20.933218, 24.655056, 0....   \n",
       "3      [26.42189, 13.634284, 24.72684, 22.308786, 1.1...   \n",
       "4      [23.698915, 13.380146, 25.842861, 18.893782, 2...   \n",
       "...                                                  ...   \n",
       "84789  [4.502161, 23.618074, 0.0, 0.0, 15.80714, 18.9...   \n",
       "84790  [6.9240127, 27.520535, 0.0, 0.0, 13.37747, 21....   \n",
       "84791  [9.596561, 32.18366, 0.0, 0.0, 9.93123, 24.909...   \n",
       "84792  [11.865329, 36.55853, 0.0, 0.0, 6.720658, 27.1...   \n",
       "84793  [13.15982, 39.231026, 0.0, 0.0, 4.8291235, 28....   \n",
       "\n",
       "                                               PMd_rates  \\\n",
       "0      [9.883548, 3.2982376, 6.3081317, 13.365311, 3....   \n",
       "1      [10.043954, 4.331614, 7.3337827, 12.3232, 4.50...   \n",
       "2      [10.141166, 5.952143, 8.895794, 10.668998, 6.4...   \n",
       "3      [10.032214, 7.4131675, 10.356075, 9.104809, 8....   \n",
       "4      [9.835945, 7.991666, 11.296891, 8.263098, 10.6...   \n",
       "...                                                  ...   \n",
       "84789  [0.0, 0.20599091, 0.0, 0.0, 0.0005780757, 26.9...   \n",
       "84790  [0.0, 0.059919834, 0.0, 0.0, 7.9226025e-05, 27...   \n",
       "84791  [0.0, 0.014914651, 0.0, 0.0, 0.0, 28.975142, 0...   \n",
       "84792  [0.0, 0.0031754556, 0.0, 0.0, 0.0, 31.131649, ...   \n",
       "84793  [0.0, 0.0006573017, 0.0, 0.0, 0.0, 32.69925, 0...   \n",
       "\n",
       "                                              both_rates  \n",
       "0      [38.4272, 11.205347, 13.455679, 26.138788, 0.0...  \n",
       "1      [35.440273, 11.961129, 16.429155, 25.793085, 0...  \n",
       "2      [30.812984, 12.99325, 20.933218, 24.655056, 0....  \n",
       "3      [26.42189, 13.634284, 24.72684, 22.308786, 1.1...  \n",
       "4      [23.698915, 13.380146, 25.842861, 18.893782, 2...  \n",
       "...                                                  ...  \n",
       "84789  [4.502161, 23.618074, 0.0, 0.0, 15.80714, 18.9...  \n",
       "84790  [6.9240127, 27.520535, 0.0, 0.0, 13.37747, 21....  \n",
       "84791  [9.596561, 32.18366, 0.0, 0.0, 9.93123, 24.909...  \n",
       "84792  [11.865329, 36.55853, 0.0, 0.0, 6.720658, 27.1...  \n",
       "84793  [13.15982, 39.231026, 0.0, 0.0, 4.8291235, 28....  \n",
       "\n",
       "[391 rows x 29 columns]"
      ]
     },
     "execution_count": 50,
     "metadata": {},
     "output_type": "execute_result"
    }
   ],
   "source": [
    "a.loc[a.trial_id == 1]"
   ]
  }
 ],
 "metadata": {
  "kernelspec": {
   "display_name": "sinthlab",
   "language": "python",
   "name": "python3"
  },
  "language_info": {
   "codemirror_mode": {
    "name": "ipython",
    "version": 3
   },
   "file_extension": ".py",
   "mimetype": "text/x-python",
   "name": "python",
   "nbconvert_exporter": "python",
   "pygments_lexer": "ipython3",
   "version": "3.8.19"
  }
 },
 "nbformat": 4,
 "nbformat_minor": 2
}
