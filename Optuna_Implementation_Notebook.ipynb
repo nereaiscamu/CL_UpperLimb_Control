{
 "cells": [
  {
   "cell_type": "code",
   "execution_count": 1,
   "metadata": {},
   "outputs": [
    {
     "name": "stderr",
     "output_type": "stream",
     "text": [
      "c:\\Users\\nerea\\anaconda3\\envs\\sinthlab\\Lib\\site-packages\\tqdm\\auto.py:21: TqdmWarning: IProgress not found. Please update jupyter and ipywidgets. See https://ipywidgets.readthedocs.io/en/stable/user_install.html\n",
      "  from .autonotebook import tqdm as notebook_tqdm\n"
     ]
    }
   ],
   "source": [
    "import os\n",
    "import numpy as np\n",
    "import pandas as pd\n",
    "import xarray as xr\n",
    "\n",
    "from sklearn.metrics import *\n",
    "from copy import deepcopy\n",
    "import matplotlib.pyplot as plt\n",
    "import math\n",
    "\n",
    "\n",
    "from tqdm.auto import tqdm\n",
    "import seaborn as sns\n",
    "\n",
    "from src.helpers import *\n",
    "from src.visualize import *\n",
    "\n",
    "import torch\n",
    "import torch.nn as nn\n",
    "import torch.nn.functional as F\n",
    "import torch.optim as optim\n",
    "from torch.optim import lr_scheduler\n",
    "import torch.utils.data as data\n",
    "from torch.utils.data import Dataset\n",
    "import pickle\n",
    "\n",
    "import optuna\n",
    "from src.optuna_functions import * \n",
    "\n",
    "\n",
    "device = torch.device('cpu') #suposed to be cuda\n",
    "dtype = torch.float32\n",
    "\n",
    "import sys\n",
    "sys.path.append(\"c:\\\\Users\\\\nerea\\\\OneDrive\\\\Documentos\\\\EPFL_MASTER\\\\PDM\\\\Project\\\\PyalData\")\n",
    "# to change for the actual path where PyalData has been cloned"
   ]
  },
  {
   "cell_type": "code",
   "execution_count": 2,
   "metadata": {},
   "outputs": [
    {
     "name": "stdout",
     "output_type": "stream",
     "text": [
      "Test trials  11\n",
      "Val trials 9\n",
      "We are testing the optimization method on fold  0\n"
     ]
    }
   ],
   "source": [
    "path_to_data = './Data/Processed_Data'\n",
    "baseline_data = os.path.join(path_to_data, 'Tidy_Sansa_11_04.pkl')\n",
    "\n",
    "with open(baseline_data, 'rb') as fp:\n",
    "        df_baseline = pickle.load(fp)\n",
    "\n",
    "\n",
    "X_train, y_train, X_val, y_val, X_test,\\\n",
    "    y_test, info_train, info_val, info_test = \\\n",
    "    train_test_split(df_baseline, train_variable = 'both_rates', \\\n",
    "                     target_variable = 'target_pos', num_folds = 5)\n",
    "\n",
    "# Test one of the folds first\n",
    "fold_num = 'fold0'\n",
    "fold = 0\n",
    "\n",
    "print('We are testing the optimization method on fold ', fold)\n",
    "\n",
    "\n",
    "X_train = X_train[fold_num]\n",
    "X_val = X_val[fold_num]\n",
    "X_test = X_test[fold_num]\n",
    "y_test = y_test[fold_num]\n",
    "y_train = y_train[fold_num]\n",
    "y_val = y_val[fold_num]\n",
    "\n",
    "\n",
    "# Specify that we want our tensors on the GPU and in float32\n",
    "device = torch.device('cpu') #suposed to be cuda\n",
    "dtype = torch.float32\n",
    "path_to_models = './Models'\n",
    "\n",
    "num_dim_output = y_train.shape[1]\n",
    "num_features = X_train.shape[1]\n",
    "\n",
    "seq_length = 75\n",
    "\n",
    "# Reshape x_train to match the number of columns in the model's input layer\n",
    "xx_train = X_train.reshape(X_train.shape[0] // seq_length, seq_length, X_train.shape[1])  \n",
    "# Reshape y_train to match the number of neurons in the model's output layer\n",
    "yy_train = y_train.reshape(y_train.shape[0] // seq_length, seq_length, y_train.shape[1])  \n",
    "\n",
    "xx_val = X_val.reshape(X_val.shape[0] // seq_length, seq_length, X_val.shape[1])  \n",
    "yy_val = y_val.reshape(y_val.shape[0] // seq_length, seq_length, y_val.shape[1])  \n",
    "\n",
    "xx_test = X_test.reshape(X_test.shape[0] // seq_length, seq_length, X_test.shape[1])  \n",
    "yy_test = y_test.reshape(y_test.shape[0] // seq_length, seq_length, y_test.shape[1])  \n",
    "\n",
    "seed = 42\n",
    "torch.manual_seed(seed)\n",
    "\n",
    "Reg = globals().get(Regularizer_LSTM)\n"
   ]
  },
  {
   "cell_type": "code",
   "execution_count": 3,
   "metadata": {},
   "outputs": [],
   "source": [
    "# Fit the LSTM model\n",
    "def train_model_optuna(trial):\n",
    "    \n",
    "    X = xx_train\n",
    "    Y = yy_train\n",
    "    X_val = xx_val\n",
    "    Y_val = yy_val\n",
    "\n",
    "    num_epochs= 1000\n",
    "    early_stop = 5\n",
    "\n",
    "    model = CausalTemporalLSTM_Optuna(trial, num_features= num_features, \n",
    "                out_dims = num_dim_output).to(device)\n",
    "    \n",
    "    # Set up the optimizer with the specified learning rate\n",
    "    #optimizer = optim.Adam(model.parameters(), lr=lr)\n",
    "    optimizer_name = 'Adam'\n",
    "    lr = trial.suggest_float('lr', 1e-5, 1e-2, log = True)\n",
    "    optimizer = getattr(optim, optimizer_name)(model.parameters(), lr = lr)\n",
    "\n",
    "    lr_step_size = 10 # trial.suggest_int('lr_step_size', 5, 15)\n",
    "    lr_gamma = trial.suggest_float('lr_gamma', 1.05, 1.4)\n",
    "    # Set up a learning rate scheduler\n",
    "    scheduler = lr_scheduler.StepLR(optimizer, \n",
    "                                    step_size=lr_step_size, \n",
    "                                    gamma=lr_gamma)\n",
    "        \n",
    "    # Keep track of the best model's parameters and loss\n",
    "    best_model_wts = deepcopy(model.state_dict())\n",
    "    best_loss = 1e8\n",
    "\n",
    "    # Enable anomaly detection for debugging\n",
    "    torch.autograd.set_detect_anomaly(True)\n",
    "\n",
    "    # Track the train and validation loss\n",
    "    train_losses = []\n",
    "    val_losses = []\n",
    "    # Counters for early stopping\n",
    "    not_increased = 0\n",
    "    end_train = 0\n",
    "    \n",
    "    # Reshape data for the LSTM\n",
    "    seq_length_LSTM = trial.suggest_int('seq_length_LSTM', 5, 20)\n",
    "    train_dataset = SequenceDataset(Y,X,seq_length_LSTM)\n",
    "    val_dataset = SequenceDataset(Y_val,X_val,seq_length_LSTM)\n",
    "\n",
    "\n",
    "    batch_size_train = trial.suggest_int('batch_size_train', 25, 50)\n",
    "    batch_size_val = trial.suggest_int('batch_size_val',25, 50)\n",
    "    loader_train = data.DataLoader(train_dataset, batch_size=batch_size_train, shuffle=True)\n",
    "    loader_val = data.DataLoader(val_dataset, batch_size=batch_size_val, shuffle=True)\n",
    "\n",
    "    # hyperparameter for huber loss\n",
    "    delta = 8 #trial.suggest_int('huber_delta', 5, 10)\n",
    "\n",
    "    # hyperparameter for regularizer\n",
    "    alpha = 1e-5 #trial.suggest_float('alpha_reg', 1e-7, 1e-3, log = True)\n",
    "    l1_ratio = 0.5 #trial.suggest_float('l1_ratio_reg', 0.4, 0.6)\n",
    "\n",
    "    # Loop through epochs\n",
    "    for epoch in np.arange(num_epochs):\n",
    "        for phase in ['train', 'val']:\n",
    "            # set model to train/validation as appropriate\n",
    "            if phase == 'train':\n",
    "                model.train()\n",
    "                loader = loader_train\n",
    "            else:\n",
    "                model.eval()\n",
    "                loader = loader_val\n",
    "\n",
    "            # Initialize variables to track loss and batch size\n",
    "            running_loss = 0\n",
    "            running_size = 0        \n",
    "\n",
    "            # Iterate over batches in the loader\n",
    "            for X_, y_ in loader:\n",
    "                #X_ = X_.to('cuda')\n",
    "                #y_ = y_.to('cuda')\n",
    "                if phase == \"train\":\n",
    "                    with torch.set_grad_enabled(True):\n",
    "                        optimizer.zero_grad()\n",
    "\n",
    "                        output_t = model(X_)\n",
    "                        output_t = torch.squeeze(output_t)\n",
    "\n",
    "\n",
    "                        loss_t = huber_loss(output_t, y_, delta)\n",
    "                        \n",
    "                        # Add regularization to the loss in the training phase\n",
    "                        loss_t += Regularizer_LSTM(model, l1_ratio, alpha)\n",
    "\n",
    "                        # Compute gradients and perform an optimization step\n",
    "                        loss_t.backward()\n",
    "                        optimizer.step()\n",
    "                else:\n",
    "                    # just compute the loss in validation phase\n",
    "                    output_t = model(X_)\n",
    "                    output_t = torch.squeeze(output_t)\n",
    "\n",
    "                    loss_t = huber_loss(output_t, y_, delta)\n",
    "\n",
    "                # Ensure the loss is finite\n",
    "                assert torch.isfinite(loss_t)\n",
    "                running_loss += loss_t.item()\n",
    "                running_size += 1\n",
    "\n",
    "            # compute the train/validation loss and update the best\n",
    "            # model parameters if this is the lowest validation loss yet\n",
    "            running_loss /= running_size\n",
    "            if phase == \"train\":\n",
    "                train_losses.append(running_loss)\n",
    "            else:\n",
    "                val_losses.append(running_loss)\n",
    "                \n",
    "                # Update best model parameters if validation loss improves\n",
    "                if running_loss < best_loss:\n",
    "                    best_loss = running_loss\n",
    "                    best_model_wts = deepcopy(model.state_dict())\n",
    "                    not_increased = 0\n",
    "                else:\n",
    "                    # Perform early stopping if validation loss doesn't improve\n",
    "                    if epoch > 10:\n",
    "                        not_increased += 1\n",
    "                        # print('Not increased : {}/5'.format(not_increased))\n",
    "                        if not_increased == early_stop:\n",
    "                            print('Decrease LR')\n",
    "                            for g in optimizer.param_groups:\n",
    "                                g['lr'] = g['lr'] / 2\n",
    "                            not_increased = 0\n",
    "                            end_train += 1\n",
    "                        \n",
    "                        if end_train == 2:\n",
    "                            model.load_state_dict(best_model_wts)\n",
    "                            y_true_val, y_pred_val = reshape_to_eval(xx_val,yy_val, model)\n",
    "                            ev_val = explained_variance_score(y_true_val, y_pred_val)\n",
    "                            return ev_val  # here change to not return a list but a single value for the trial to analyze\n",
    "                        \n",
    "\n",
    "        # Update learning rate with the scheduler\n",
    "        scheduler.step()\n",
    "        print(\"Epoch {:03} Train {:.4f} Val {:.4f}\".format(epoch, train_losses[-1], val_losses[-1]))\n",
    "\n",
    "\n",
    "        y_true_val_epoch, y_pred_val_epoch = reshape_to_eval(xx_val,yy_val, model)\n",
    "        ev_val_epoch = explained_variance_score(y_true_val_epoch, y_pred_val_epoch)\n",
    "        trial.report(ev_val_epoch, epoch)\n",
    "\n",
    "        if trial.should_prune():\n",
    "            raise optuna.exceptions.TrialPruned()\n",
    "        \n",
    "    # load best model weights\n",
    "    model.load_state_dict(best_model_wts)\n",
    "    \n",
    "    y_true_val, y_pred_val = reshape_to_eval(xx_val,yy_val, model)\n",
    "    ev_val = explained_variance_score(y_true_val, y_pred_val)\n",
    "\n",
    "    return ev_val\n"
   ]
  },
  {
   "cell_type": "code",
   "execution_count": 4,
   "metadata": {},
   "outputs": [],
   "source": [
    "def reshape_to_eval(x,y, model):\n",
    "    to_t_eval =  lambda array: torch.tensor(array, device='cpu', dtype=dtype)  \n",
    "    x = to_t_eval(x) \n",
    "    y = to_t_eval(y)\n",
    "    y_pred = model(x)\n",
    "    y_array = y.detach().cpu().numpy()\n",
    "    y_pred_array = y_pred.detach().cpu().numpy()\n",
    "\n",
    "    # Reshape tensors to 2D arrays (flatten the batch and sequence dimensions)\n",
    "    y_pred_2D = y_pred_array.reshape(-1, y_pred_array.shape[-1])\n",
    "    y_true_2D = y_array.reshape(-1, y_array.shape[-1])\n",
    "    \n",
    "    return y_true_2D, y_pred_2D"
   ]
  },
  {
   "cell_type": "code",
   "execution_count": 5,
   "metadata": {},
   "outputs": [
    {
     "name": "stderr",
     "output_type": "stream",
     "text": [
      "[I 2024-04-09 11:39:13,703] A new study created in memory with name: no-name-5c7a6a81-170f-421f-a823-918ee685923d\n"
     ]
    },
    {
     "name": "stdout",
     "output_type": "stream",
     "text": [
      "Epoch 000 Train 0.0198 Val 0.0145\n",
      "Epoch 001 Train 0.0130 Val 0.0130\n",
      "Epoch 002 Train 0.0115 Val 0.0124\n",
      "Epoch 003 Train 0.0109 Val 0.0122\n",
      "Epoch 004 Train 0.0104 Val 0.0118\n",
      "Epoch 005 Train 0.0102 Val 0.0116\n",
      "Epoch 006 Train 0.0100 Val 0.0117\n",
      "Epoch 007 Train 0.0099 Val 0.0114\n",
      "Epoch 008 Train 0.0098 Val 0.0114\n",
      "Epoch 009 Train 0.0097 Val 0.0116\n",
      "Epoch 010 Train 0.0097 Val 0.0114\n",
      "Epoch 011 Train 0.0096 Val 0.0115\n",
      "Epoch 012 Train 0.0096 Val 0.0117\n",
      "Epoch 013 Train 0.0096 Val 0.0113\n",
      "Epoch 014 Train 0.0096 Val 0.0113\n",
      "Epoch 015 Train 0.0095 Val 0.0113\n",
      "Epoch 016 Train 0.0095 Val 0.0113\n",
      "Epoch 017 Train 0.0095 Val 0.0114\n",
      "Epoch 018 Train 0.0096 Val 0.0115\n",
      "Decrease LR\n",
      "Epoch 019 Train 0.0095 Val 0.0114\n",
      "Epoch 020 Train 0.0095 Val 0.0114\n",
      "Epoch 021 Train 0.0095 Val 0.0113\n",
      "Epoch 022 Train 0.0095 Val 0.0115\n",
      "Epoch 023 Train 0.0095 Val 0.0114\n"
     ]
    },
    {
     "name": "stderr",
     "output_type": "stream",
     "text": [
      "[I 2024-04-09 11:41:08,719] Trial 0 finished with value: 0.6158506472905477 and parameters: {'n_hidden_units': 46, 'input_size_LSTM': 65, 'dropout_2': 0.10134575540103558, 'lr': 0.0005322351204250441, 'lr_gamma': 1.1002189401106162, 'seq_length_LSTM': 15, 'batch_size_train': 30, 'batch_size_val': 26, 'l1_ratio_reg': 0.5148661875809435}. Best is trial 0 with value: 0.6158506472905477.\n"
     ]
    },
    {
     "name": "stdout",
     "output_type": "stream",
     "text": [
      "Decrease LR\n",
      "Epoch 000 Train 0.0154 Val 0.0137\n",
      "Epoch 001 Train 0.0104 Val 0.0128\n",
      "Epoch 002 Train 0.0093 Val 0.0122\n",
      "Epoch 003 Train 0.0089 Val 0.0119\n",
      "Epoch 004 Train 0.0086 Val 0.0118\n",
      "Epoch 005 Train 0.0085 Val 0.0115\n",
      "Epoch 006 Train 0.0084 Val 0.0115\n",
      "Epoch 007 Train 0.0083 Val 0.0112\n",
      "Epoch 008 Train 0.0083 Val 0.0113\n",
      "Epoch 009 Train 0.0083 Val 0.0114\n",
      "Epoch 010 Train 0.0083 Val 0.0113\n",
      "Epoch 011 Train 0.0083 Val 0.0111\n",
      "Epoch 012 Train 0.0083 Val 0.0115\n",
      "Epoch 013 Train 0.0084 Val 0.0110\n",
      "Epoch 014 Train 0.0084 Val 0.0107\n",
      "Epoch 015 Train 0.0084 Val 0.0109\n",
      "Epoch 016 Train 0.0084 Val 0.0110\n",
      "Epoch 017 Train 0.0084 Val 0.0110\n",
      "Epoch 018 Train 0.0084 Val 0.0108\n",
      "Decrease LR\n",
      "Epoch 019 Train 0.0084 Val 0.0108\n",
      "Epoch 020 Train 0.0084 Val 0.0106\n",
      "Epoch 021 Train 0.0084 Val 0.0107\n",
      "Epoch 022 Train 0.0084 Val 0.0109\n",
      "Epoch 023 Train 0.0084 Val 0.0107\n",
      "Epoch 024 Train 0.0084 Val 0.0105\n",
      "Epoch 025 Train 0.0084 Val 0.0108\n",
      "Epoch 026 Train 0.0085 Val 0.0111\n",
      "Epoch 027 Train 0.0085 Val 0.0106\n",
      "Epoch 028 Train 0.0085 Val 0.0106\n"
     ]
    },
    {
     "name": "stderr",
     "output_type": "stream",
     "text": [
      "[I 2024-04-09 11:43:57,249] Trial 1 finished with value: 0.6399866739908854 and parameters: {'n_hidden_units': 45, 'input_size_LSTM': 56, 'dropout_2': 0.09380944879948282, 'lr': 0.0008950170631978813, 'lr_gamma': 1.0681999213972042, 'seq_length_LSTM': 14, 'batch_size_train': 25, 'batch_size_val': 29, 'l1_ratio_reg': 0.4775867506823128}. Best is trial 1 with value: 0.6399866739908854.\n"
     ]
    },
    {
     "name": "stdout",
     "output_type": "stream",
     "text": [
      "Decrease LR\n",
      "Epoch 000 Train 0.0287 Val 0.0174\n",
      "Epoch 001 Train 0.0188 Val 0.0164\n",
      "Epoch 002 Train 0.0162 Val 0.0150\n",
      "Epoch 003 Train 0.0150 Val 0.0142\n",
      "Epoch 004 Train 0.0142 Val 0.0134\n",
      "Epoch 005 Train 0.0135 Val 0.0128\n",
      "Epoch 006 Train 0.0128 Val 0.0124\n",
      "Epoch 007 Train 0.0124 Val 0.0121\n",
      "Epoch 008 Train 0.0120 Val 0.0120\n",
      "Epoch 009 Train 0.0117 Val 0.0117\n",
      "Epoch 010 Train 0.0115 Val 0.0118\n",
      "Epoch 011 Train 0.0113 Val 0.0116\n",
      "Epoch 012 Train 0.0111 Val 0.0115\n",
      "Epoch 013 Train 0.0109 Val 0.0115\n",
      "Epoch 014 Train 0.0108 Val 0.0116\n",
      "Epoch 015 Train 0.0107 Val 0.0115\n",
      "Epoch 016 Train 0.0106 Val 0.0113\n",
      "Epoch 017 Train 0.0105 Val 0.0115\n",
      "Epoch 018 Train 0.0104 Val 0.0114\n",
      "Epoch 019 Train 0.0103 Val 0.0113\n",
      "Epoch 020 Train 0.0103 Val 0.0113\n",
      "Decrease LR\n",
      "Epoch 021 Train 0.0102 Val 0.0114\n",
      "Epoch 022 Train 0.0102 Val 0.0114\n",
      "Epoch 023 Train 0.0101 Val 0.0114\n",
      "Epoch 024 Train 0.0101 Val 0.0113\n",
      "Epoch 025 Train 0.0101 Val 0.0113\n",
      "Epoch 026 Train 0.0101 Val 0.0113\n",
      "Epoch 027 Train 0.0101 Val 0.0114\n",
      "Epoch 028 Train 0.0100 Val 0.0113\n",
      "Epoch 029 Train 0.0100 Val 0.0114\n",
      "Epoch 030 Train 0.0100 Val 0.0113\n",
      "Epoch 031 Train 0.0100 Val 0.0113\n",
      "Epoch 032 Train 0.0100 Val 0.0113\n",
      "Epoch 033 Train 0.0100 Val 0.0112\n",
      "Epoch 034 Train 0.0099 Val 0.0112\n",
      "Epoch 035 Train 0.0099 Val 0.0113\n",
      "Epoch 036 Train 0.0099 Val 0.0114\n",
      "Epoch 037 Train 0.0099 Val 0.0113\n"
     ]
    },
    {
     "name": "stderr",
     "output_type": "stream",
     "text": [
      "[I 2024-04-09 11:47:41,242] Trial 2 finished with value: 0.5994842449824015 and parameters: {'n_hidden_units': 49, 'input_size_LSTM': 65, 'dropout_2': 0.13584565780835633, 'lr': 0.00012928844480438806, 'lr_gamma': 1.115735468519725, 'seq_length_LSTM': 13, 'batch_size_train': 29, 'batch_size_val': 25, 'l1_ratio_reg': 0.5170582435055798}. Best is trial 1 with value: 0.6399866739908854.\n"
     ]
    },
    {
     "name": "stdout",
     "output_type": "stream",
     "text": [
      "Decrease LR\n",
      "Epoch 000 Train 0.0229 Val 0.0156\n",
      "Epoch 001 Train 0.0143 Val 0.0128\n",
      "Epoch 002 Train 0.0123 Val 0.0119\n",
      "Epoch 003 Train 0.0113 Val 0.0118\n",
      "Epoch 004 Train 0.0107 Val 0.0118\n",
      "Epoch 005 Train 0.0103 Val 0.0120\n",
      "Epoch 006 Train 0.0100 Val 0.0118\n",
      "Epoch 007 Train 0.0098 Val 0.0120\n",
      "Epoch 008 Train 0.0096 Val 0.0120\n",
      "Epoch 009 Train 0.0095 Val 0.0121\n",
      "Epoch 010 Train 0.0093 Val 0.0123\n",
      "Epoch 011 Train 0.0092 Val 0.0120\n",
      "Epoch 012 Train 0.0091 Val 0.0116\n",
      "Epoch 013 Train 0.0091 Val 0.0116\n",
      "Epoch 014 Train 0.0090 Val 0.0116\n",
      "Epoch 015 Train 0.0090 Val 0.0116\n",
      "Epoch 016 Train 0.0089 Val 0.0114\n",
      "Epoch 017 Train 0.0089 Val 0.0113\n",
      "Epoch 018 Train 0.0089 Val 0.0112\n",
      "Epoch 019 Train 0.0089 Val 0.0113\n",
      "Epoch 020 Train 0.0089 Val 0.0112\n",
      "Epoch 021 Train 0.0089 Val 0.0114\n",
      "Epoch 022 Train 0.0089 Val 0.0111\n",
      "Epoch 023 Train 0.0089 Val 0.0111\n",
      "Epoch 024 Train 0.0088 Val 0.0112\n",
      "Epoch 025 Train 0.0088 Val 0.0110\n",
      "Epoch 026 Train 0.0088 Val 0.0110\n",
      "Epoch 027 Train 0.0088 Val 0.0111\n",
      "Epoch 028 Train 0.0088 Val 0.0113\n",
      "Epoch 029 Train 0.0088 Val 0.0112\n",
      "Epoch 030 Train 0.0089 Val 0.0110\n",
      "Epoch 031 Train 0.0089 Val 0.0110\n",
      "Epoch 032 Train 0.0089 Val 0.0112\n",
      "Epoch 033 Train 0.0089 Val 0.0111\n",
      "Epoch 034 Train 0.0089 Val 0.0112\n",
      "Epoch 035 Train 0.0089 Val 0.0111\n",
      "Decrease LR\n",
      "Epoch 036 Train 0.0089 Val 0.0111\n",
      "Epoch 037 Train 0.0089 Val 0.0112\n",
      "Epoch 038 Train 0.0089 Val 0.0112\n",
      "Epoch 039 Train 0.0089 Val 0.0111\n",
      "Epoch 040 Train 0.0089 Val 0.0112\n"
     ]
    },
    {
     "name": "stderr",
     "output_type": "stream",
     "text": [
      "[I 2024-04-09 11:52:01,762] Trial 3 finished with value: 0.6046014229456583 and parameters: {'n_hidden_units': 46, 'input_size_LSTM': 58, 'dropout_2': 0.09224734926097598, 'lr': 0.0002827627482344234, 'lr_gamma': 1.1645027273502615, 'seq_length_LSTM': 13, 'batch_size_train': 26, 'batch_size_val': 26, 'l1_ratio_reg': 0.5076190951678596}. Best is trial 1 with value: 0.6399866739908854.\n"
     ]
    },
    {
     "name": "stdout",
     "output_type": "stream",
     "text": [
      "Decrease LR\n",
      "Epoch 000 Train 0.0164 Val 0.0122\n",
      "Epoch 001 Train 0.0116 Val 0.0112\n",
      "Epoch 002 Train 0.0106 Val 0.0118\n",
      "Epoch 003 Train 0.0102 Val 0.0113\n",
      "Epoch 004 Train 0.0100 Val 0.0108\n",
      "Epoch 005 Train 0.0099 Val 0.0105\n",
      "Epoch 006 Train 0.0099 Val 0.0104\n",
      "Epoch 007 Train 0.0099 Val 0.0109\n",
      "Epoch 008 Train 0.0099 Val 0.0106\n",
      "Epoch 009 Train 0.0099 Val 0.0106\n",
      "Epoch 010 Train 0.0100 Val 0.0105\n",
      "Epoch 011 Train 0.0100 Val 0.0105\n",
      "Epoch 012 Train 0.0100 Val 0.0109\n",
      "Epoch 013 Train 0.0100 Val 0.0104\n",
      "Epoch 014 Train 0.0101 Val 0.0109\n",
      "Epoch 015 Train 0.0101 Val 0.0110\n",
      "Epoch 016 Train 0.0102 Val 0.0104\n",
      "Epoch 017 Train 0.0102 Val 0.0108\n",
      "Epoch 018 Train 0.0102 Val 0.0109\n",
      "Epoch 019 Train 0.0102 Val 0.0107\n",
      "Epoch 020 Train 0.0103 Val 0.0110\n",
      "Decrease LR\n",
      "Epoch 021 Train 0.0103 Val 0.0115\n",
      "Epoch 022 Train 0.0103 Val 0.0104\n",
      "Epoch 023 Train 0.0103 Val 0.0113\n",
      "Epoch 024 Train 0.0103 Val 0.0107\n",
      "Epoch 025 Train 0.0103 Val 0.0110\n"
     ]
    },
    {
     "name": "stderr",
     "output_type": "stream",
     "text": [
      "[I 2024-04-09 11:54:26,773] Trial 4 finished with value: 0.653988778591156 and parameters: {'n_hidden_units': 50, 'input_size_LSTM': 61, 'dropout_2': 0.11345183469124971, 'lr': 0.0012815987708498843, 'lr_gamma': 1.1790919403685756, 'seq_length_LSTM': 12, 'batch_size_train': 30, 'batch_size_val': 28, 'l1_ratio_reg': 0.5233302128551165}. Best is trial 4 with value: 0.653988778591156.\n"
     ]
    },
    {
     "name": "stdout",
     "output_type": "stream",
     "text": [
      "Decrease LR\n",
      "Epoch 000 Train 0.0165 Val 0.0122\n",
      "Epoch 001 Train 0.0117 Val 0.0117\n",
      "Epoch 002 Train 0.0108 Val 0.0125\n",
      "Epoch 003 Train 0.0105 Val 0.0123\n"
     ]
    },
    {
     "name": "stderr",
     "output_type": "stream",
     "text": [
      "[I 2024-04-09 11:54:56,207] Trial 5 pruned. \n"
     ]
    },
    {
     "name": "stdout",
     "output_type": "stream",
     "text": [
      "Epoch 004 Train 0.0103 Val 0.0122\n",
      "Epoch 000 Train 0.0151 Val 0.0125\n",
      "Epoch 001 Train 0.0121 Val 0.0121\n",
      "Epoch 002 Train 0.0119 Val 0.0119\n",
      "Epoch 003 Train 0.0119 Val 0.0116\n",
      "Epoch 004 Train 0.0120 Val 0.0118\n",
      "Epoch 005 Train 0.0121 Val 0.0113\n",
      "Epoch 006 Train 0.0121 Val 0.0110\n",
      "Epoch 007 Train 0.0123 Val 0.0111\n",
      "Epoch 008 Train 0.0124 Val 0.0107\n",
      "Epoch 009 Train 0.0125 Val 0.0113\n",
      "Epoch 010 Train 0.0126 Val 0.0114\n",
      "Epoch 011 Train 0.0129 Val 0.0110\n",
      "Epoch 012 Train 0.0132 Val 0.0111\n",
      "Epoch 013 Train 0.0132 Val 0.0117\n",
      "Epoch 014 Train 0.0133 Val 0.0115\n",
      "Decrease LR\n",
      "Epoch 015 Train 0.0135 Val 0.0122\n",
      "Epoch 016 Train 0.0135 Val 0.0117\n",
      "Epoch 017 Train 0.0133 Val 0.0118\n",
      "Epoch 018 Train 0.0133 Val 0.0117\n",
      "Epoch 019 Train 0.0132 Val 0.0116\n"
     ]
    },
    {
     "name": "stderr",
     "output_type": "stream",
     "text": [
      "[I 2024-04-09 11:56:47,690] Trial 6 finished with value: 0.6427735884984335 and parameters: {'n_hidden_units': 49, 'input_size_LSTM': 64, 'dropout_2': 0.09286905903033799, 'lr': 0.004618499684603458, 'lr_gamma': 1.178749480812471, 'seq_length_LSTM': 14, 'batch_size_train': 30, 'batch_size_val': 29, 'l1_ratio_reg': 0.5680000475132676}. Best is trial 4 with value: 0.653988778591156.\n"
     ]
    },
    {
     "name": "stdout",
     "output_type": "stream",
     "text": [
      "Decrease LR\n",
      "Epoch 000 Train 0.0127 Val 0.0124\n",
      "Epoch 001 Train 0.0097 Val 0.0128\n",
      "Epoch 002 Train 0.0093 Val 0.0122\n",
      "Epoch 003 Train 0.0093 Val 0.0119\n",
      "Epoch 004 Train 0.0094 Val 0.0130\n",
      "Epoch 005 Train 0.0095 Val 0.0119\n",
      "Epoch 006 Train 0.0095 Val 0.0120\n"
     ]
    },
    {
     "name": "stderr",
     "output_type": "stream",
     "text": [
      "[I 2024-04-09 11:57:35,774] Trial 7 pruned. \n"
     ]
    },
    {
     "name": "stdout",
     "output_type": "stream",
     "text": [
      "Epoch 007 Train 0.0096 Val 0.0116\n",
      "Epoch 000 Train 0.0144 Val 0.0118\n",
      "Epoch 001 Train 0.0119 Val 0.0127\n",
      "Epoch 002 Train 0.0117 Val 0.0110\n",
      "Epoch 003 Train 0.0119 Val 0.0121\n",
      "Epoch 004 Train 0.0120 Val 0.0114\n",
      "Epoch 005 Train 0.0122 Val 0.0118\n",
      "Epoch 006 Train 0.0123 Val 0.0108\n",
      "Epoch 007 Train 0.0123 Val 0.0116\n",
      "Epoch 008 Train 0.0124 Val 0.0113\n",
      "Epoch 009 Train 0.0126 Val 0.0111\n",
      "Epoch 010 Train 0.0128 Val 0.0116\n",
      "Epoch 011 Train 0.0132 Val 0.0126\n",
      "Epoch 012 Train 0.0139 Val 0.0126\n",
      "Epoch 013 Train 0.0141 Val 0.0120\n",
      "Epoch 014 Train 0.0142 Val 0.0121\n",
      "Decrease LR\n",
      "Epoch 015 Train 0.0143 Val 0.0122\n",
      "Epoch 016 Train 0.0143 Val 0.0120\n",
      "Epoch 017 Train 0.0141 Val 0.0119\n",
      "Epoch 018 Train 0.0139 Val 0.0112\n",
      "Epoch 019 Train 0.0138 Val 0.0119\n"
     ]
    },
    {
     "name": "stderr",
     "output_type": "stream",
     "text": [
      "[I 2024-04-09 11:59:38,029] Trial 8 finished with value: 0.6184670130411783 and parameters: {'n_hidden_units': 47, 'input_size_LSTM': 60, 'dropout_2': 0.14066503111754453, 'lr': 0.006801930631118866, 'lr_gamma': 1.114538629198574, 'seq_length_LSTM': 14, 'batch_size_train': 30, 'batch_size_val': 28, 'l1_ratio_reg': 0.4781144797906658}. Best is trial 4 with value: 0.653988778591156.\n"
     ]
    },
    {
     "name": "stdout",
     "output_type": "stream",
     "text": [
      "Decrease LR\n",
      "Epoch 000 Train 0.0158 Val 0.0121\n",
      "Epoch 001 Train 0.0113 Val 0.0121\n",
      "Epoch 002 Train 0.0106 Val 0.0122\n",
      "Epoch 003 Train 0.0103 Val 0.0115\n"
     ]
    },
    {
     "name": "stderr",
     "output_type": "stream",
     "text": [
      "[I 2024-04-09 12:00:08,620] Trial 9 pruned. \n"
     ]
    },
    {
     "name": "stdout",
     "output_type": "stream",
     "text": [
      "Epoch 004 Train 0.0102 Val 0.0117\n",
      "Epoch 000 Train 0.0161 Val 0.0117\n",
      "Epoch 001 Train 0.0121 Val 0.0131\n",
      "Epoch 002 Train 0.0117 Val 0.0128\n",
      "Epoch 003 Train 0.0115 Val 0.0124\n"
     ]
    },
    {
     "name": "stderr",
     "output_type": "stream",
     "text": [
      "[I 2024-04-09 12:00:39,100] Trial 10 pruned. \n"
     ]
    },
    {
     "name": "stdout",
     "output_type": "stream",
     "text": [
      "Epoch 004 Train 0.0115 Val 0.0125\n",
      "Epoch 000 Train 0.0164 Val 0.0116\n",
      "Epoch 001 Train 0.0153 Val 0.0123\n",
      "Epoch 002 Train 0.0156 Val 0.0121\n",
      "Epoch 003 Train 0.0161 Val 0.0108\n",
      "Epoch 004 Train 0.0164 Val 0.0119\n",
      "Epoch 005 Train 0.0166 Val 0.0112\n",
      "Epoch 006 Train 0.0169 Val 0.0111\n",
      "Epoch 007 Train 0.0172 Val 0.0121\n",
      "Epoch 008 Train 0.0175 Val 0.0116\n",
      "Epoch 009 Train 0.0178 Val 0.0110\n",
      "Epoch 010 Train 0.0190 Val 0.0121\n",
      "Epoch 011 Train 0.0210 Val 0.0114\n",
      "Epoch 012 Train 0.0217 Val 0.0123\n",
      "Epoch 013 Train 0.0226 Val 0.0125\n",
      "Epoch 014 Train 0.0233 Val 0.0119\n",
      "Decrease LR\n",
      "Epoch 015 Train 0.0243 Val 0.0127\n",
      "Epoch 016 Train 0.0244 Val 0.0120\n",
      "Epoch 017 Train 0.0241 Val 0.0124\n",
      "Epoch 018 Train 0.0237 Val 0.0127\n",
      "Epoch 019 Train 0.0235 Val 0.0124\n"
     ]
    },
    {
     "name": "stderr",
     "output_type": "stream",
     "text": [
      "[I 2024-04-09 12:02:45,341] Trial 11 finished with value: 0.632149338722229 and parameters: {'n_hidden_units': 49, 'input_size_LSTM': 63, 'dropout_2': 0.11096729492384443, 'lr': 0.009934568494000382, 'lr_gamma': 1.1980427462547198, 'seq_length_LSTM': 15, 'batch_size_train': 30, 'batch_size_val': 29, 'l1_ratio_reg': 0.5497206951088645}. Best is trial 4 with value: 0.653988778591156.\n"
     ]
    },
    {
     "name": "stdout",
     "output_type": "stream",
     "text": [
      "Decrease LR\n",
      "Epoch 000 Train 0.0155 Val 0.0120\n",
      "Epoch 001 Train 0.0124 Val 0.0113\n",
      "Epoch 002 Train 0.0120 Val 0.0114\n",
      "Epoch 003 Train 0.0120 Val 0.0113\n",
      "Epoch 004 Train 0.0120 Val 0.0115\n",
      "Epoch 005 Train 0.0121 Val 0.0111\n",
      "Epoch 006 Train 0.0122 Val 0.0117\n",
      "Epoch 007 Train 0.0123 Val 0.0115\n",
      "Epoch 008 Train 0.0123 Val 0.0116\n",
      "Epoch 009 Train 0.0124 Val 0.0116\n",
      "Epoch 010 Train 0.0125 Val 0.0112\n",
      "Epoch 011 Train 0.0127 Val 0.0109\n",
      "Epoch 012 Train 0.0128 Val 0.0113\n",
      "Epoch 013 Train 0.0129 Val 0.0119\n",
      "Epoch 014 Train 0.0130 Val 0.0114\n",
      "Epoch 015 Train 0.0131 Val 0.0118\n",
      "Decrease LR\n",
      "Epoch 016 Train 0.0131 Val 0.0121\n",
      "Epoch 017 Train 0.0131 Val 0.0117\n",
      "Epoch 018 Train 0.0131 Val 0.0117\n",
      "Epoch 019 Train 0.0130 Val 0.0120\n",
      "Epoch 020 Train 0.0130 Val 0.0116\n"
     ]
    },
    {
     "name": "stderr",
     "output_type": "stream",
     "text": [
      "[I 2024-04-09 12:05:05,339] Trial 12 finished with value: 0.6378891865412394 and parameters: {'n_hidden_units': 49, 'input_size_LSTM': 63, 'dropout_2': 0.1265192379727658, 'lr': 0.0032443875168027764, 'lr_gamma': 1.1562260136141629, 'seq_length_LSTM': 12, 'batch_size_train': 28, 'batch_size_val': 29, 'l1_ratio_reg': 0.59798214067116}. Best is trial 4 with value: 0.653988778591156.\n"
     ]
    },
    {
     "name": "stdout",
     "output_type": "stream",
     "text": [
      "Decrease LR\n",
      "Epoch 000 Train 0.0181 Val 0.0130\n"
     ]
    },
    {
     "name": "stderr",
     "output_type": "stream",
     "text": [
      "[I 2024-04-09 12:05:18,299] Trial 13 pruned. \n"
     ]
    },
    {
     "name": "stdout",
     "output_type": "stream",
     "text": [
      "Epoch 001 Train 0.0123 Val 0.0120\n",
      "Epoch 000 Train 0.0126 Val 0.0121\n",
      "Epoch 001 Train 0.0100 Val 0.0121\n",
      "Epoch 002 Train 0.0098 Val 0.0112\n",
      "Epoch 003 Train 0.0099 Val 0.0120\n",
      "Epoch 004 Train 0.0100 Val 0.0119\n",
      "Epoch 005 Train 0.0102 Val 0.0115\n",
      "Epoch 006 Train 0.0103 Val 0.0119\n",
      "Epoch 007 Train 0.0103 Val 0.0120\n",
      "Epoch 008 Train 0.0105 Val 0.0117\n",
      "Epoch 009 Train 0.0106 Val 0.0124\n",
      "Epoch 010 Train 0.0107 Val 0.0117\n",
      "Epoch 011 Train 0.0110 Val 0.0115\n",
      "Epoch 012 Train 0.0112 Val 0.0115\n",
      "Epoch 013 Train 0.0114 Val 0.0121\n",
      "Epoch 014 Train 0.0115 Val 0.0117\n",
      "Decrease LR\n",
      "Epoch 015 Train 0.0116 Val 0.0118\n",
      "Epoch 016 Train 0.0116 Val 0.0119\n",
      "Epoch 017 Train 0.0114 Val 0.0118\n",
      "Epoch 018 Train 0.0114 Val 0.0121\n",
      "Epoch 019 Train 0.0113 Val 0.0122\n"
     ]
    },
    {
     "name": "stderr",
     "output_type": "stream",
     "text": [
      "[I 2024-04-09 12:07:17,497] Trial 14 finished with value: 0.6243783036867777 and parameters: {'n_hidden_units': 50, 'input_size_LSTM': 57, 'dropout_2': 0.10632554361721962, 'lr': 0.005482407595142088, 'lr_gamma': 1.1413444837860198, 'seq_length_LSTM': 13, 'batch_size_train': 30, 'batch_size_val': 30, 'l1_ratio_reg': 0.4279695383887856}. Best is trial 4 with value: 0.653988778591156.\n"
     ]
    },
    {
     "name": "stdout",
     "output_type": "stream",
     "text": [
      "Decrease LR\n"
     ]
    },
    {
     "name": "stderr",
     "output_type": "stream",
     "text": [
      "[I 2024-04-09 12:07:23,482] Trial 15 pruned. \n"
     ]
    },
    {
     "name": "stdout",
     "output_type": "stream",
     "text": [
      "Epoch 000 Train 0.0147 Val 0.0118\n"
     ]
    },
    {
     "name": "stderr",
     "output_type": "stream",
     "text": [
      "[I 2024-04-09 12:07:29,623] Trial 16 pruned. \n"
     ]
    },
    {
     "name": "stdout",
     "output_type": "stream",
     "text": [
      "Epoch 000 Train 0.0226 Val 0.0153\n",
      "Epoch 000 Train 0.0149 Val 0.0126\n",
      "Epoch 001 Train 0.0114 Val 0.0117\n"
     ]
    },
    {
     "name": "stderr",
     "output_type": "stream",
     "text": [
      "[I 2024-04-09 12:07:44,110] Trial 17 pruned. \n"
     ]
    },
    {
     "name": "stdout",
     "output_type": "stream",
     "text": [
      "Epoch 002 Train 0.0109 Val 0.0124\n",
      "Epoch 000 Train 0.0148 Val 0.0120\n",
      "Epoch 001 Train 0.0133 Val 0.0128\n",
      "Epoch 002 Train 0.0136 Val 0.0118\n",
      "Epoch 003 Train 0.0139 Val 0.0110\n",
      "Epoch 004 Train 0.0142 Val 0.0114\n",
      "Epoch 005 Train 0.0144 Val 0.0107\n",
      "Epoch 006 Train 0.0148 Val 0.0116\n",
      "Epoch 007 Train 0.0151 Val 0.0115\n",
      "Epoch 008 Train 0.0153 Val 0.0118\n",
      "Epoch 009 Train 0.0156 Val 0.0122\n",
      "Epoch 010 Train 0.0163 Val 0.0124\n",
      "Epoch 011 Train 0.0172 Val 0.0126\n",
      "Epoch 012 Train 0.0180 Val 0.0123\n",
      "Epoch 013 Train 0.0185 Val 0.0123\n",
      "Epoch 014 Train 0.0194 Val 0.0129\n",
      "Decrease LR\n",
      "Epoch 015 Train 0.0203 Val 0.0133\n",
      "Epoch 016 Train 0.0204 Val 0.0123\n",
      "Epoch 017 Train 0.0201 Val 0.0124\n",
      "Epoch 018 Train 0.0198 Val 0.0124\n",
      "Epoch 019 Train 0.0196 Val 0.0127\n"
     ]
    },
    {
     "name": "stderr",
     "output_type": "stream",
     "text": [
      "[I 2024-04-09 12:09:35,809] Trial 18 finished with value: 0.6388616760571798 and parameters: {'n_hidden_units': 49, 'input_size_LSTM': 64, 'dropout_2': 0.1127877564880437, 'lr': 0.009249424745841724, 'lr_gamma': 1.1800607259735387, 'seq_length_LSTM': 14, 'batch_size_train': 30, 'batch_size_val': 27, 'l1_ratio_reg': 0.4558592365718126}. Best is trial 4 with value: 0.653988778591156.\n"
     ]
    },
    {
     "name": "stdout",
     "output_type": "stream",
     "text": [
      "Decrease LR\n"
     ]
    },
    {
     "name": "stderr",
     "output_type": "stream",
     "text": [
      "[I 2024-04-09 12:09:41,669] Trial 19 pruned. \n"
     ]
    },
    {
     "name": "stdout",
     "output_type": "stream",
     "text": [
      "Epoch 000 Train 0.0190 Val 0.0138\n"
     ]
    },
    {
     "name": "stderr",
     "output_type": "stream",
     "text": [
      "[I 2024-04-09 12:09:47,650] Trial 20 pruned. \n"
     ]
    },
    {
     "name": "stdout",
     "output_type": "stream",
     "text": [
      "Epoch 000 Train 0.0189 Val 0.0143\n"
     ]
    },
    {
     "name": "stderr",
     "output_type": "stream",
     "text": [
      "[I 2024-04-09 12:09:54,101] Trial 21 pruned. \n"
     ]
    },
    {
     "name": "stdout",
     "output_type": "stream",
     "text": [
      "Epoch 000 Train 0.0156 Val 0.0125\n"
     ]
    },
    {
     "name": "stderr",
     "output_type": "stream",
     "text": [
      "[I 2024-04-09 12:10:00,849] Trial 22 pruned. \n"
     ]
    },
    {
     "name": "stdout",
     "output_type": "stream",
     "text": [
      "Epoch 000 Train 0.0161 Val 0.0124\n"
     ]
    },
    {
     "name": "stderr",
     "output_type": "stream",
     "text": [
      "[I 2024-04-09 12:10:07,091] Trial 23 pruned. \n"
     ]
    },
    {
     "name": "stdout",
     "output_type": "stream",
     "text": [
      "Epoch 000 Train 0.0152 Val 0.0116\n",
      "Epoch 000 Train 0.0137 Val 0.0116\n",
      "Epoch 001 Train 0.0102 Val 0.0119\n",
      "Epoch 002 Train 0.0097 Val 0.0115\n",
      "Epoch 003 Train 0.0096 Val 0.0119\n",
      "Epoch 004 Train 0.0096 Val 0.0115\n"
     ]
    },
    {
     "name": "stderr",
     "output_type": "stream",
     "text": [
      "[I 2024-04-09 12:10:38,466] Trial 24 pruned. \n"
     ]
    },
    {
     "name": "stdout",
     "output_type": "stream",
     "text": [
      "Epoch 005 Train 0.0097 Val 0.0113\n"
     ]
    },
    {
     "name": "stderr",
     "output_type": "stream",
     "text": [
      "[I 2024-04-09 12:10:44,099] Trial 25 pruned. \n"
     ]
    },
    {
     "name": "stdout",
     "output_type": "stream",
     "text": [
      "Epoch 000 Train 0.0265 Val 0.0169\n"
     ]
    },
    {
     "name": "stderr",
     "output_type": "stream",
     "text": [
      "[I 2024-04-09 12:10:49,224] Trial 26 pruned. \n"
     ]
    },
    {
     "name": "stdout",
     "output_type": "stream",
     "text": [
      "Epoch 000 Train 0.0222 Val 0.0145\n",
      "Epoch 000 Train 0.0153 Val 0.0115\n",
      "Epoch 001 Train 0.0114 Val 0.0120\n",
      "Epoch 002 Train 0.0108 Val 0.0120\n",
      "Epoch 003 Train 0.0106 Val 0.0118\n",
      "Epoch 004 Train 0.0106 Val 0.0110\n",
      "Epoch 005 Train 0.0107 Val 0.0120\n",
      "Epoch 006 Train 0.0107 Val 0.0116\n",
      "Epoch 007 Train 0.0107 Val 0.0113\n",
      "Epoch 008 Train 0.0108 Val 0.0116\n",
      "Epoch 009 Train 0.0109 Val 0.0118\n",
      "Epoch 010 Train 0.0109 Val 0.0116\n",
      "Epoch 011 Train 0.0110 Val 0.0115\n",
      "Epoch 012 Train 0.0111 Val 0.0116\n",
      "Epoch 013 Train 0.0112 Val 0.0120\n",
      "Epoch 014 Train 0.0113 Val 0.0118\n",
      "Decrease LR\n",
      "Epoch 015 Train 0.0113 Val 0.0114\n",
      "Epoch 016 Train 0.0113 Val 0.0119\n",
      "Epoch 017 Train 0.0113 Val 0.0118\n",
      "Epoch 018 Train 0.0113 Val 0.0116\n",
      "Epoch 019 Train 0.0113 Val 0.0120\n"
     ]
    },
    {
     "name": "stderr",
     "output_type": "stream",
     "text": [
      "[I 2024-04-09 12:12:43,529] Trial 27 finished with value: 0.6241264541943868 and parameters: {'n_hidden_units': 50, 'input_size_LSTM': 64, 'dropout_2': 0.10413053007183727, 'lr': 0.0021074719671191596, 'lr_gamma': 1.1867103638552068, 'seq_length_LSTM': 13, 'batch_size_train': 26, 'batch_size_val': 30, 'l1_ratio_reg': 0.5343471041765615}. Best is trial 4 with value: 0.653988778591156.\n"
     ]
    },
    {
     "name": "stdout",
     "output_type": "stream",
     "text": [
      "Decrease LR\n"
     ]
    },
    {
     "name": "stderr",
     "output_type": "stream",
     "text": [
      "[I 2024-04-09 12:12:49,917] Trial 28 pruned. \n"
     ]
    },
    {
     "name": "stdout",
     "output_type": "stream",
     "text": [
      "Epoch 000 Train 0.0164 Val 0.0128\n"
     ]
    },
    {
     "name": "stderr",
     "output_type": "stream",
     "text": [
      "[I 2024-04-09 12:12:55,508] Trial 29 pruned. \n"
     ]
    },
    {
     "name": "stdout",
     "output_type": "stream",
     "text": [
      "Epoch 000 Train 0.0200 Val 0.0145\n",
      "Epoch 000 Train 0.0156 Val 0.0117\n",
      "Epoch 001 Train 0.0129 Val 0.0120\n",
      "Epoch 002 Train 0.0128 Val 0.0122\n",
      "Epoch 003 Train 0.0129 Val 0.0117\n",
      "Epoch 004 Train 0.0130 Val 0.0125\n",
      "Epoch 005 Train 0.0132 Val 0.0117\n",
      "Epoch 006 Train 0.0134 Val 0.0115\n",
      "Epoch 007 Train 0.0136 Val 0.0123\n",
      "Epoch 008 Train 0.0138 Val 0.0115\n",
      "Epoch 009 Train 0.0139 Val 0.0120\n",
      "Epoch 010 Train 0.0141 Val 0.0111\n",
      "Epoch 011 Train 0.0143 Val 0.0118\n",
      "Epoch 012 Train 0.0145 Val 0.0120\n",
      "Epoch 013 Train 0.0147 Val 0.0111\n",
      "Epoch 014 Train 0.0149 Val 0.0112\n",
      "Epoch 015 Train 0.0150 Val 0.0118\n",
      "Epoch 016 Train 0.0152 Val 0.0115\n",
      "Epoch 017 Train 0.0156 Val 0.0126\n",
      "Decrease LR\n",
      "Epoch 018 Train 0.0160 Val 0.0122\n",
      "Epoch 019 Train 0.0160 Val 0.0117\n",
      "Epoch 020 Train 0.0157 Val 0.0118\n",
      "Epoch 021 Train 0.0156 Val 0.0124\n",
      "Epoch 022 Train 0.0155 Val 0.0122\n"
     ]
    },
    {
     "name": "stderr",
     "output_type": "stream",
     "text": [
      "[I 2024-04-09 12:15:09,154] Trial 30 finished with value: 0.6128404339154562 and parameters: {'n_hidden_units': 48, 'input_size_LSTM': 65, 'dropout_2': 0.11969970208122072, 'lr': 0.00523780801919325, 'lr_gamma': 1.1722477913831684, 'seq_length_LSTM': 14, 'batch_size_train': 27, 'batch_size_val': 29, 'l1_ratio_reg': 0.5894536827779772}. Best is trial 4 with value: 0.653988778591156.\n"
     ]
    },
    {
     "name": "stdout",
     "output_type": "stream",
     "text": [
      "Decrease LR\n"
     ]
    },
    {
     "name": "stderr",
     "output_type": "stream",
     "text": [
      "[I 2024-04-09 12:15:14,290] Trial 31 pruned. \n"
     ]
    },
    {
     "name": "stdout",
     "output_type": "stream",
     "text": [
      "Epoch 000 Train 0.0149 Val 0.0133\n"
     ]
    },
    {
     "name": "stderr",
     "output_type": "stream",
     "text": [
      "[I 2024-04-09 12:15:19,459] Trial 32 pruned. \n"
     ]
    },
    {
     "name": "stdout",
     "output_type": "stream",
     "text": [
      "Epoch 000 Train 0.0145 Val 0.0131\n",
      "Epoch 000 Train 0.0143 Val 0.0121\n",
      "Epoch 001 Train 0.0114 Val 0.0117\n",
      "Epoch 002 Train 0.0110 Val 0.0116\n"
     ]
    },
    {
     "name": "stderr",
     "output_type": "stream",
     "text": [
      "[I 2024-04-09 12:15:39,436] Trial 33 pruned. \n"
     ]
    },
    {
     "name": "stdout",
     "output_type": "stream",
     "text": [
      "Epoch 003 Train 0.0110 Val 0.0119\n"
     ]
    },
    {
     "name": "stderr",
     "output_type": "stream",
     "text": [
      "[I 2024-04-09 12:15:44,214] Trial 34 pruned. \n"
     ]
    },
    {
     "name": "stdout",
     "output_type": "stream",
     "text": [
      "Epoch 000 Train 0.0135 Val 0.0133\n"
     ]
    },
    {
     "name": "stderr",
     "output_type": "stream",
     "text": [
      "[I 2024-04-09 12:15:49,007] Trial 35 pruned. \n"
     ]
    },
    {
     "name": "stdout",
     "output_type": "stream",
     "text": [
      "Epoch 000 Train 0.0166 Val 0.0132\n"
     ]
    },
    {
     "name": "stderr",
     "output_type": "stream",
     "text": [
      "[I 2024-04-09 12:15:54,045] Trial 36 pruned. \n"
     ]
    },
    {
     "name": "stdout",
     "output_type": "stream",
     "text": [
      "Epoch 000 Train 0.0251 Val 0.0166\n",
      "Epoch 000 Train 0.0130 Val 0.0118\n",
      "Epoch 001 Train 0.0097 Val 0.0112\n",
      "Epoch 002 Train 0.0094 Val 0.0116\n",
      "Epoch 003 Train 0.0093 Val 0.0108\n",
      "Epoch 004 Train 0.0094 Val 0.0110\n",
      "Epoch 005 Train 0.0095 Val 0.0112\n",
      "Epoch 006 Train 0.0096 Val 0.0108\n",
      "Epoch 007 Train 0.0096 Val 0.0114\n",
      "Epoch 008 Train 0.0098 Val 0.0111\n",
      "Epoch 009 Train 0.0098 Val 0.0112\n",
      "Epoch 010 Train 0.0100 Val 0.0113\n",
      "Epoch 011 Train 0.0101 Val 0.0113\n",
      "Epoch 012 Train 0.0102 Val 0.0119\n",
      "Epoch 013 Train 0.0104 Val 0.0126\n",
      "Epoch 014 Train 0.0104 Val 0.0118\n",
      "Decrease LR\n",
      "Epoch 015 Train 0.0106 Val 0.0128\n",
      "Epoch 016 Train 0.0105 Val 0.0121\n",
      "Epoch 017 Train 0.0104 Val 0.0119\n",
      "Epoch 018 Train 0.0104 Val 0.0119\n",
      "Epoch 019 Train 0.0103 Val 0.0115\n"
     ]
    },
    {
     "name": "stderr",
     "output_type": "stream",
     "text": [
      "[I 2024-04-09 12:18:44,760] Trial 37 finished with value: 0.6212150454521179 and parameters: {'n_hidden_units': 47, 'input_size_LSTM': 61, 'dropout_2': 0.09007565019639649, 'lr': 0.004124146601240596, 'lr_gamma': 1.1036662688657612, 'seq_length_LSTM': 14, 'batch_size_train': 26, 'batch_size_val': 28, 'l1_ratio_reg': 0.43784959274364404}. Best is trial 4 with value: 0.653988778591156.\n"
     ]
    },
    {
     "name": "stdout",
     "output_type": "stream",
     "text": [
      "Decrease LR\n"
     ]
    },
    {
     "name": "stderr",
     "output_type": "stream",
     "text": [
      "[I 2024-04-09 12:18:52,262] Trial 38 pruned. \n"
     ]
    },
    {
     "name": "stdout",
     "output_type": "stream",
     "text": [
      "Epoch 000 Train 0.0154 Val 0.0126\n",
      "Epoch 000 Train 0.0134 Val 0.0120\n",
      "Epoch 001 Train 0.0097 Val 0.0114\n",
      "Epoch 002 Train 0.0094 Val 0.0110\n",
      "Epoch 003 Train 0.0092 Val 0.0111\n",
      "Epoch 004 Train 0.0092 Val 0.0107\n",
      "Epoch 005 Train 0.0093 Val 0.0113\n",
      "Epoch 006 Train 0.0093 Val 0.0112\n",
      "Epoch 007 Train 0.0093 Val 0.0117\n",
      "Epoch 008 Train 0.0094 Val 0.0114\n",
      "Epoch 009 Train 0.0094 Val 0.0119\n",
      "Epoch 010 Train 0.0096 Val 0.0120\n",
      "Epoch 011 Train 0.0097 Val 0.0110\n",
      "Epoch 012 Train 0.0098 Val 0.0117\n",
      "Epoch 013 Train 0.0098 Val 0.0116\n",
      "Epoch 014 Train 0.0099 Val 0.0117\n",
      "Decrease LR\n",
      "Epoch 015 Train 0.0100 Val 0.0117\n",
      "Epoch 016 Train 0.0099 Val 0.0124\n",
      "Epoch 017 Train 0.0099 Val 0.0111\n",
      "Epoch 018 Train 0.0099 Val 0.0123\n",
      "Epoch 019 Train 0.0099 Val 0.0114\n"
     ]
    },
    {
     "name": "stderr",
     "output_type": "stream",
     "text": [
      "[I 2024-04-09 12:21:21,298] Trial 39 finished with value: 0.6271713773409525 and parameters: {'n_hidden_units': 48, 'input_size_LSTM': 56, 'dropout_2': 0.09380318261675212, 'lr': 0.003194613088710596, 'lr_gamma': 1.1993202177066913, 'seq_length_LSTM': 13, 'batch_size_train': 30, 'batch_size_val': 28, 'l1_ratio_reg': 0.47900286008123566}. Best is trial 4 with value: 0.653988778591156.\n"
     ]
    },
    {
     "name": "stdout",
     "output_type": "stream",
     "text": [
      "Decrease LR\n"
     ]
    },
    {
     "name": "stderr",
     "output_type": "stream",
     "text": [
      "[I 2024-04-09 12:21:28,602] Trial 40 pruned. \n"
     ]
    },
    {
     "name": "stdout",
     "output_type": "stream",
     "text": [
      "Epoch 000 Train 0.0200 Val 0.0147\n",
      "Epoch 000 Train 0.0157 Val 0.0117\n",
      "Epoch 001 Train 0.0124 Val 0.0113\n",
      "Epoch 002 Train 0.0120 Val 0.0116\n",
      "Epoch 003 Train 0.0120 Val 0.0119\n",
      "Epoch 004 Train 0.0120 Val 0.0127\n",
      "Epoch 005 Train 0.0121 Val 0.0125\n",
      "Epoch 006 Train 0.0122 Val 0.0120\n",
      "Epoch 007 Train 0.0122 Val 0.0117\n",
      "Epoch 008 Train 0.0123 Val 0.0122\n",
      "Epoch 009 Train 0.0124 Val 0.0119\n",
      "Epoch 010 Train 0.0125 Val 0.0123\n",
      "Epoch 011 Train 0.0126 Val 0.0119\n",
      "Epoch 012 Train 0.0127 Val 0.0122\n",
      "Epoch 013 Train 0.0128 Val 0.0124\n",
      "Epoch 014 Train 0.0129 Val 0.0125\n",
      "Decrease LR\n",
      "Epoch 015 Train 0.0129 Val 0.0129\n",
      "Epoch 016 Train 0.0129 Val 0.0123\n",
      "Epoch 017 Train 0.0128 Val 0.0124\n",
      "Epoch 018 Train 0.0128 Val 0.0122\n",
      "Epoch 019 Train 0.0127 Val 0.0125\n"
     ]
    },
    {
     "name": "stderr",
     "output_type": "stream",
     "text": [
      "[I 2024-04-09 12:24:12,578] Trial 41 finished with value: 0.6239518125851949 and parameters: {'n_hidden_units': 49, 'input_size_LSTM': 63, 'dropout_2': 0.12457390321892003, 'lr': 0.0030715328310568783, 'lr_gamma': 1.157520473525883, 'seq_length_LSTM': 12, 'batch_size_train': 28, 'batch_size_val': 29, 'l1_ratio_reg': 0.599357199617352}. Best is trial 4 with value: 0.653988778591156.\n"
     ]
    },
    {
     "name": "stdout",
     "output_type": "stream",
     "text": [
      "Decrease LR\n"
     ]
    },
    {
     "name": "stderr",
     "output_type": "stream",
     "text": [
      "[I 2024-04-09 12:24:20,130] Trial 42 pruned. \n"
     ]
    },
    {
     "name": "stdout",
     "output_type": "stream",
     "text": [
      "Epoch 000 Train 0.0154 Val 0.0124\n"
     ]
    },
    {
     "name": "stderr",
     "output_type": "stream",
     "text": [
      "[I 2024-04-09 12:24:28,000] Trial 43 pruned. \n"
     ]
    },
    {
     "name": "stdout",
     "output_type": "stream",
     "text": [
      "Epoch 000 Train 0.0158 Val 0.0124\n",
      "Epoch 000 Train 0.0151 Val 0.0116\n",
      "Epoch 001 Train 0.0115 Val 0.0120\n",
      "Epoch 002 Train 0.0110 Val 0.0113\n",
      "Epoch 003 Train 0.0109 Val 0.0116\n",
      "Epoch 004 Train 0.0109 Val 0.0112\n",
      "Epoch 005 Train 0.0110 Val 0.0113\n",
      "Epoch 006 Train 0.0110 Val 0.0115\n",
      "Epoch 007 Train 0.0111 Val 0.0115\n",
      "Epoch 008 Train 0.0111 Val 0.0120\n",
      "Epoch 009 Train 0.0112 Val 0.0115\n",
      "Epoch 010 Train 0.0113 Val 0.0119\n",
      "Epoch 011 Train 0.0114 Val 0.0121\n",
      "Epoch 012 Train 0.0115 Val 0.0118\n",
      "Epoch 013 Train 0.0116 Val 0.0121\n",
      "Epoch 014 Train 0.0117 Val 0.0121\n",
      "Decrease LR\n",
      "Epoch 015 Train 0.0117 Val 0.0126\n",
      "Epoch 016 Train 0.0117 Val 0.0121\n",
      "Epoch 017 Train 0.0117 Val 0.0122\n",
      "Epoch 018 Train 0.0117 Val 0.0124\n",
      "Epoch 019 Train 0.0116 Val 0.0127\n"
     ]
    },
    {
     "name": "stderr",
     "output_type": "stream",
     "text": [
      "[I 2024-04-09 12:27:15,767] Trial 44 finished with value: 0.6277052362759908 and parameters: {'n_hidden_units': 48, 'input_size_LSTM': 62, 'dropout_2': 0.13103898360738636, 'lr': 0.002449357964346443, 'lr_gamma': 1.1727560018478491, 'seq_length_LSTM': 12, 'batch_size_train': 26, 'batch_size_val': 27, 'l1_ratio_reg': 0.5626579491202662}. Best is trial 4 with value: 0.653988778591156.\n"
     ]
    },
    {
     "name": "stdout",
     "output_type": "stream",
     "text": [
      "Decrease LR\n"
     ]
    },
    {
     "name": "stderr",
     "output_type": "stream",
     "text": [
      "[I 2024-04-09 12:27:23,290] Trial 45 pruned. \n"
     ]
    },
    {
     "name": "stdout",
     "output_type": "stream",
     "text": [
      "Epoch 000 Train 0.0168 Val 0.0122\n"
     ]
    },
    {
     "name": "stderr",
     "output_type": "stream",
     "text": [
      "[I 2024-04-09 12:27:30,776] Trial 46 pruned. \n"
     ]
    },
    {
     "name": "stdout",
     "output_type": "stream",
     "text": [
      "Epoch 000 Train 0.0174 Val 0.0130\n"
     ]
    },
    {
     "name": "stderr",
     "output_type": "stream",
     "text": [
      "[I 2024-04-09 12:27:38,632] Trial 47 pruned. \n"
     ]
    },
    {
     "name": "stdout",
     "output_type": "stream",
     "text": [
      "Epoch 000 Train 0.0152 Val 0.0136\n"
     ]
    },
    {
     "name": "stderr",
     "output_type": "stream",
     "text": [
      "[I 2024-04-09 12:27:45,777] Trial 48 pruned. \n"
     ]
    },
    {
     "name": "stdout",
     "output_type": "stream",
     "text": [
      "Epoch 000 Train 0.0144 Val 0.0124\n"
     ]
    },
    {
     "name": "stderr",
     "output_type": "stream",
     "text": [
      "[I 2024-04-09 12:27:53,364] Trial 49 pruned. \n"
     ]
    },
    {
     "name": "stdout",
     "output_type": "stream",
     "text": [
      "Epoch 000 Train 0.0134 Val 0.0120\n"
     ]
    },
    {
     "name": "stderr",
     "output_type": "stream",
     "text": [
      "[I 2024-04-09 12:28:00,546] Trial 50 pruned. \n"
     ]
    },
    {
     "name": "stdout",
     "output_type": "stream",
     "text": [
      "Epoch 000 Train 0.0143 Val 0.0125\n"
     ]
    },
    {
     "name": "stderr",
     "output_type": "stream",
     "text": [
      "[I 2024-04-09 12:28:07,653] Trial 51 pruned. \n"
     ]
    },
    {
     "name": "stdout",
     "output_type": "stream",
     "text": [
      "Epoch 000 Train 0.0157 Val 0.0130\n"
     ]
    },
    {
     "name": "stderr",
     "output_type": "stream",
     "text": [
      "[I 2024-04-09 12:28:15,000] Trial 52 pruned. \n"
     ]
    },
    {
     "name": "stdout",
     "output_type": "stream",
     "text": [
      "Epoch 000 Train 0.0151 Val 0.0123\n"
     ]
    },
    {
     "name": "stderr",
     "output_type": "stream",
     "text": [
      "[I 2024-04-09 12:28:22,091] Trial 53 pruned. \n"
     ]
    },
    {
     "name": "stdout",
     "output_type": "stream",
     "text": [
      "Epoch 000 Train 0.0169 Val 0.0121\n",
      "Epoch 000 Train 0.0143 Val 0.0108\n",
      "Epoch 001 Train 0.0122 Val 0.0113\n",
      "Epoch 002 Train 0.0121 Val 0.0117\n",
      "Epoch 003 Train 0.0125 Val 0.0115\n",
      "Epoch 004 Train 0.0127 Val 0.0117\n",
      "Epoch 005 Train 0.0128 Val 0.0118\n",
      "Epoch 006 Train 0.0130 Val 0.0116\n",
      "Epoch 007 Train 0.0131 Val 0.0121\n",
      "Epoch 008 Train 0.0133 Val 0.0127\n",
      "Epoch 009 Train 0.0134 Val 0.0120\n",
      "Epoch 010 Train 0.0138 Val 0.0127\n",
      "Epoch 011 Train 0.0142 Val 0.0136\n",
      "Epoch 012 Train 0.0146 Val 0.0129\n",
      "Epoch 013 Train 0.0150 Val 0.0129\n",
      "Epoch 014 Train 0.0152 Val 0.0125\n",
      "Decrease LR\n",
      "Epoch 015 Train 0.0155 Val 0.0129\n",
      "Epoch 016 Train 0.0154 Val 0.0129\n",
      "Epoch 017 Train 0.0152 Val 0.0130\n",
      "Epoch 018 Train 0.0151 Val 0.0138\n",
      "Epoch 019 Train 0.0149 Val 0.0125\n"
     ]
    },
    {
     "name": "stderr",
     "output_type": "stream",
     "text": [
      "[I 2024-04-09 12:31:16,002] Trial 54 finished with value: 0.6167892416318258 and parameters: {'n_hidden_units': 48, 'input_size_LSTM': 64, 'dropout_2': 0.1130450509690142, 'lr': 0.006070119747964679, 'lr_gamma': 1.1742780757041764, 'seq_length_LSTM': 15, 'batch_size_train': 25, 'batch_size_val': 28, 'l1_ratio_reg': 0.529567656512693}. Best is trial 4 with value: 0.653988778591156.\n"
     ]
    },
    {
     "name": "stdout",
     "output_type": "stream",
     "text": [
      "Decrease LR\n"
     ]
    },
    {
     "name": "stderr",
     "output_type": "stream",
     "text": [
      "[I 2024-04-09 12:31:23,644] Trial 55 pruned. \n"
     ]
    },
    {
     "name": "stdout",
     "output_type": "stream",
     "text": [
      "Epoch 000 Train 0.0156 Val 0.0125\n"
     ]
    },
    {
     "name": "stderr",
     "output_type": "stream",
     "text": [
      "[I 2024-04-09 12:31:31,332] Trial 56 pruned. \n"
     ]
    },
    {
     "name": "stdout",
     "output_type": "stream",
     "text": [
      "Epoch 000 Train 0.0149 Val 0.0129\n",
      "Epoch 000 Train 0.0140 Val 0.0123\n",
      "Epoch 001 Train 0.0103 Val 0.0117\n",
      "Epoch 002 Train 0.0098 Val 0.0113\n",
      "Epoch 003 Train 0.0097 Val 0.0106\n",
      "Epoch 004 Train 0.0097 Val 0.0112\n",
      "Epoch 005 Train 0.0097 Val 0.0108\n",
      "Epoch 006 Train 0.0097 Val 0.0113\n",
      "Epoch 007 Train 0.0098 Val 0.0114\n",
      "Epoch 008 Train 0.0098 Val 0.0114\n",
      "Epoch 009 Train 0.0098 Val 0.0115\n",
      "Epoch 010 Train 0.0099 Val 0.0114\n",
      "Epoch 011 Train 0.0099 Val 0.0115\n",
      "Epoch 012 Train 0.0100 Val 0.0115\n",
      "Epoch 013 Train 0.0101 Val 0.0113\n",
      "Epoch 014 Train 0.0102 Val 0.0117\n",
      "Decrease LR\n",
      "Epoch 015 Train 0.0102 Val 0.0112\n",
      "Epoch 016 Train 0.0102 Val 0.0115\n",
      "Epoch 017 Train 0.0102 Val 0.0116\n",
      "Epoch 018 Train 0.0101 Val 0.0115\n",
      "Epoch 019 Train 0.0101 Val 0.0115\n"
     ]
    },
    {
     "name": "stderr",
     "output_type": "stream",
     "text": [
      "[I 2024-04-09 12:34:08,155] Trial 57 finished with value: 0.6383247574170431 and parameters: {'n_hidden_units': 50, 'input_size_LSTM': 61, 'dropout_2': 0.09731631365512651, 'lr': 0.002798460004725128, 'lr_gamma': 1.1153176256921107, 'seq_length_LSTM': 13, 'batch_size_train': 29, 'batch_size_val': 27, 'l1_ratio_reg': 0.4775147291694707}. Best is trial 4 with value: 0.653988778591156.\n"
     ]
    },
    {
     "name": "stdout",
     "output_type": "stream",
     "text": [
      "Decrease LR\n"
     ]
    },
    {
     "name": "stderr",
     "output_type": "stream",
     "text": [
      "[I 2024-04-09 12:34:15,526] Trial 58 pruned. \n"
     ]
    },
    {
     "name": "stdout",
     "output_type": "stream",
     "text": [
      "Epoch 000 Train 0.0139 Val 0.0122\n",
      "Epoch 000 Train 0.0144 Val 0.0111\n",
      "Epoch 001 Train 0.0102 Val 0.0114\n",
      "Epoch 002 Train 0.0096 Val 0.0111\n",
      "Epoch 003 Train 0.0094 Val 0.0118\n",
      "Epoch 004 Train 0.0094 Val 0.0109\n",
      "Epoch 005 Train 0.0094 Val 0.0116\n",
      "Epoch 006 Train 0.0094 Val 0.0112\n",
      "Epoch 007 Train 0.0095 Val 0.0113\n",
      "Epoch 008 Train 0.0095 Val 0.0114\n",
      "Epoch 009 Train 0.0095 Val 0.0115\n",
      "Epoch 010 Train 0.0096 Val 0.0113\n",
      "Epoch 011 Train 0.0097 Val 0.0114\n",
      "Epoch 012 Train 0.0097 Val 0.0113\n",
      "Epoch 013 Train 0.0098 Val 0.0120\n",
      "Epoch 014 Train 0.0098 Val 0.0119\n",
      "Decrease LR\n",
      "Epoch 015 Train 0.0099 Val 0.0116\n",
      "Epoch 016 Train 0.0098 Val 0.0118\n",
      "Epoch 017 Train 0.0098 Val 0.0116\n",
      "Epoch 018 Train 0.0098 Val 0.0117\n",
      "Epoch 019 Train 0.0098 Val 0.0119\n"
     ]
    },
    {
     "name": "stderr",
     "output_type": "stream",
     "text": [
      "[I 2024-04-09 12:36:47,277] Trial 59 finished with value: 0.6179681420326233 and parameters: {'n_hidden_units': 50, 'input_size_LSTM': 60, 'dropout_2': 0.09772832088434734, 'lr': 0.0021328875668951194, 'lr_gamma': 1.1333467380995348, 'seq_length_LSTM': 12, 'batch_size_train': 29, 'batch_size_val': 27, 'l1_ratio_reg': 0.4719581008740164}. Best is trial 4 with value: 0.653988778591156.\n"
     ]
    },
    {
     "name": "stdout",
     "output_type": "stream",
     "text": [
      "Decrease LR\n"
     ]
    },
    {
     "name": "stderr",
     "output_type": "stream",
     "text": [
      "[I 2024-04-09 12:36:54,786] Trial 60 pruned. \n"
     ]
    },
    {
     "name": "stdout",
     "output_type": "stream",
     "text": [
      "Epoch 000 Train 0.0151 Val 0.0130\n"
     ]
    },
    {
     "name": "stderr",
     "output_type": "stream",
     "text": [
      "[I 2024-04-09 12:37:01,881] Trial 61 pruned. \n"
     ]
    },
    {
     "name": "stdout",
     "output_type": "stream",
     "text": [
      "Epoch 000 Train 0.0164 Val 0.0129\n"
     ]
    },
    {
     "name": "stderr",
     "output_type": "stream",
     "text": [
      "[I 2024-04-09 12:37:09,190] Trial 62 pruned. \n"
     ]
    },
    {
     "name": "stdout",
     "output_type": "stream",
     "text": [
      "Epoch 000 Train 0.0188 Val 0.0137\n"
     ]
    },
    {
     "name": "stderr",
     "output_type": "stream",
     "text": [
      "[I 2024-04-09 12:37:16,442] Trial 63 pruned. \n"
     ]
    },
    {
     "name": "stdout",
     "output_type": "stream",
     "text": [
      "Epoch 000 Train 0.0139 Val 0.0115\n"
     ]
    },
    {
     "name": "stderr",
     "output_type": "stream",
     "text": [
      "[I 2024-04-09 12:37:24,176] Trial 64 pruned. \n"
     ]
    },
    {
     "name": "stdout",
     "output_type": "stream",
     "text": [
      "Epoch 000 Train 0.0149 Val 0.0124\n"
     ]
    },
    {
     "name": "stderr",
     "output_type": "stream",
     "text": [
      "[I 2024-04-09 12:37:31,260] Trial 65 pruned. \n"
     ]
    },
    {
     "name": "stdout",
     "output_type": "stream",
     "text": [
      "Epoch 000 Train 0.0147 Val 0.0122\n"
     ]
    },
    {
     "name": "stderr",
     "output_type": "stream",
     "text": [
      "[I 2024-04-09 12:37:38,600] Trial 66 pruned. \n"
     ]
    },
    {
     "name": "stdout",
     "output_type": "stream",
     "text": [
      "Epoch 000 Train 0.0162 Val 0.0124\n"
     ]
    },
    {
     "name": "stderr",
     "output_type": "stream",
     "text": [
      "[I 2024-04-09 12:37:45,612] Trial 67 pruned. \n"
     ]
    },
    {
     "name": "stdout",
     "output_type": "stream",
     "text": [
      "Epoch 000 Train 0.0191 Val 0.0139\n",
      "Epoch 000 Train 0.0136 Val 0.0117\n",
      "Epoch 001 Train 0.0102 Val 0.0116\n"
     ]
    },
    {
     "name": "stderr",
     "output_type": "stream",
     "text": [
      "[I 2024-04-09 12:38:07,561] Trial 68 pruned. \n"
     ]
    },
    {
     "name": "stdout",
     "output_type": "stream",
     "text": [
      "Epoch 002 Train 0.0097 Val 0.0114\n"
     ]
    },
    {
     "name": "stderr",
     "output_type": "stream",
     "text": [
      "[I 2024-04-09 12:38:14,776] Trial 69 pruned. \n"
     ]
    },
    {
     "name": "stdout",
     "output_type": "stream",
     "text": [
      "Epoch 000 Train 0.0154 Val 0.0115\n"
     ]
    },
    {
     "name": "stderr",
     "output_type": "stream",
     "text": [
      "[I 2024-04-09 12:38:21,981] Trial 70 pruned. \n"
     ]
    },
    {
     "name": "stdout",
     "output_type": "stream",
     "text": [
      "Epoch 000 Train 0.0181 Val 0.0122\n"
     ]
    },
    {
     "name": "stderr",
     "output_type": "stream",
     "text": [
      "[I 2024-04-09 12:38:29,906] Trial 71 pruned. \n"
     ]
    },
    {
     "name": "stdout",
     "output_type": "stream",
     "text": [
      "Epoch 000 Train 0.0150 Val 0.0131\n",
      "Epoch 000 Train 0.0151 Val 0.0115\n",
      "Epoch 001 Train 0.0116 Val 0.0117\n"
     ]
    },
    {
     "name": "stderr",
     "output_type": "stream",
     "text": [
      "[I 2024-04-09 12:38:54,632] Trial 72 pruned. \n"
     ]
    },
    {
     "name": "stdout",
     "output_type": "stream",
     "text": [
      "Epoch 002 Train 0.0113 Val 0.0114\n"
     ]
    },
    {
     "name": "stderr",
     "output_type": "stream",
     "text": [
      "[I 2024-04-09 12:39:02,701] Trial 73 pruned. \n"
     ]
    },
    {
     "name": "stdout",
     "output_type": "stream",
     "text": [
      "Epoch 000 Train 0.0159 Val 0.0117\n",
      "Epoch 000 Train 0.0146 Val 0.0123\n",
      "Epoch 001 Train 0.0116 Val 0.0114\n",
      "Epoch 002 Train 0.0114 Val 0.0117\n",
      "Epoch 003 Train 0.0115 Val 0.0128\n"
     ]
    },
    {
     "name": "stderr",
     "output_type": "stream",
     "text": [
      "[I 2024-04-09 12:39:42,198] Trial 74 pruned. \n"
     ]
    },
    {
     "name": "stdout",
     "output_type": "stream",
     "text": [
      "Epoch 004 Train 0.0115 Val 0.0127\n",
      "Epoch 000 Train 0.0150 Val 0.0113\n",
      "Epoch 001 Train 0.0122 Val 0.0114\n",
      "Epoch 002 Train 0.0120 Val 0.0116\n",
      "Epoch 003 Train 0.0120 Val 0.0117\n",
      "Epoch 004 Train 0.0122 Val 0.0131\n",
      "Epoch 005 Train 0.0123 Val 0.0114\n",
      "Epoch 006 Train 0.0124 Val 0.0117\n",
      "Epoch 007 Train 0.0126 Val 0.0121\n",
      "Epoch 008 Train 0.0127 Val 0.0122\n",
      "Epoch 009 Train 0.0128 Val 0.0123\n",
      "Epoch 010 Train 0.0130 Val 0.0125\n",
      "Epoch 011 Train 0.0134 Val 0.0120\n",
      "Epoch 012 Train 0.0139 Val 0.0118\n",
      "Epoch 013 Train 0.0139 Val 0.0122\n",
      "Epoch 014 Train 0.0140 Val 0.0117\n",
      "Decrease LR\n",
      "Epoch 015 Train 0.0141 Val 0.0119\n",
      "Epoch 016 Train 0.0140 Val 0.0129\n",
      "Epoch 017 Train 0.0139 Val 0.0119\n",
      "Epoch 018 Train 0.0138 Val 0.0122\n",
      "Epoch 019 Train 0.0137 Val 0.0116\n"
     ]
    },
    {
     "name": "stderr",
     "output_type": "stream",
     "text": [
      "[I 2024-04-09 12:42:23,566] Trial 75 finished with value: 0.5875154733657837 and parameters: {'n_hidden_units': 45, 'input_size_LSTM': 63, 'dropout_2': 0.12938977601155868, 'lr': 0.004907548492212368, 'lr_gamma': 1.1640908502504468, 'seq_length_LSTM': 12, 'batch_size_train': 27, 'batch_size_val': 28, 'l1_ratio_reg': 0.559607219053036}. Best is trial 4 with value: 0.653988778591156.\n"
     ]
    },
    {
     "name": "stdout",
     "output_type": "stream",
     "text": [
      "Decrease LR\n"
     ]
    },
    {
     "name": "stderr",
     "output_type": "stream",
     "text": [
      "[I 2024-04-09 12:42:32,697] Trial 76 pruned. \n"
     ]
    },
    {
     "name": "stdout",
     "output_type": "stream",
     "text": [
      "Epoch 000 Train 0.0130 Val 0.0130\n"
     ]
    },
    {
     "name": "stderr",
     "output_type": "stream",
     "text": [
      "[I 2024-04-09 12:42:42,615] Trial 77 pruned. \n"
     ]
    },
    {
     "name": "stdout",
     "output_type": "stream",
     "text": [
      "Epoch 000 Train 0.0154 Val 0.0135\n",
      "Epoch 000 Train 0.0143 Val 0.0119\n"
     ]
    },
    {
     "name": "stderr",
     "output_type": "stream",
     "text": [
      "[I 2024-04-09 12:42:59,532] Trial 78 pruned. \n"
     ]
    },
    {
     "name": "stdout",
     "output_type": "stream",
     "text": [
      "Epoch 001 Train 0.0107 Val 0.0122\n"
     ]
    },
    {
     "name": "stderr",
     "output_type": "stream",
     "text": [
      "[I 2024-04-09 12:43:08,045] Trial 79 pruned. \n"
     ]
    },
    {
     "name": "stdout",
     "output_type": "stream",
     "text": [
      "Epoch 000 Train 0.0175 Val 0.0124\n",
      "Epoch 000 Train 0.0153 Val 0.0124\n"
     ]
    },
    {
     "name": "stderr",
     "output_type": "stream",
     "text": [
      "[I 2024-04-09 12:43:24,045] Trial 80 pruned. \n"
     ]
    },
    {
     "name": "stdout",
     "output_type": "stream",
     "text": [
      "Epoch 001 Train 0.0113 Val 0.0120\n",
      "Epoch 000 Train 0.0136 Val 0.0123\n"
     ]
    },
    {
     "name": "stderr",
     "output_type": "stream",
     "text": [
      "[I 2024-04-09 12:43:38,096] Trial 81 pruned. \n"
     ]
    },
    {
     "name": "stdout",
     "output_type": "stream",
     "text": [
      "Epoch 001 Train 0.0100 Val 0.0114\n"
     ]
    },
    {
     "name": "stderr",
     "output_type": "stream",
     "text": [
      "[I 2024-04-09 12:43:45,221] Trial 82 pruned. \n"
     ]
    },
    {
     "name": "stdout",
     "output_type": "stream",
     "text": [
      "Epoch 000 Train 0.0144 Val 0.0121\n",
      "Epoch 000 Train 0.0138 Val 0.0112\n",
      "Epoch 001 Train 0.0101 Val 0.0110\n",
      "Epoch 002 Train 0.0095 Val 0.0116\n",
      "Epoch 003 Train 0.0094 Val 0.0110\n",
      "Epoch 004 Train 0.0094 Val 0.0119\n",
      "Epoch 005 Train 0.0094 Val 0.0109\n",
      "Epoch 006 Train 0.0094 Val 0.0110\n",
      "Epoch 007 Train 0.0095 Val 0.0110\n",
      "Epoch 008 Train 0.0096 Val 0.0108\n",
      "Epoch 009 Train 0.0096 Val 0.0112\n",
      "Epoch 010 Train 0.0097 Val 0.0114\n",
      "Epoch 011 Train 0.0098 Val 0.0109\n",
      "Epoch 012 Train 0.0099 Val 0.0114\n",
      "Epoch 013 Train 0.0099 Val 0.0112\n",
      "Epoch 014 Train 0.0100 Val 0.0113\n",
      "Decrease LR\n",
      "Epoch 015 Train 0.0101 Val 0.0119\n",
      "Epoch 016 Train 0.0100 Val 0.0119\n",
      "Epoch 017 Train 0.0100 Val 0.0119\n",
      "Epoch 018 Train 0.0100 Val 0.0121\n",
      "Epoch 019 Train 0.0100 Val 0.0118\n"
     ]
    },
    {
     "name": "stderr",
     "output_type": "stream",
     "text": [
      "[I 2024-04-09 12:46:12,812] Trial 83 finished with value: 0.6413587530454 and parameters: {'n_hidden_units': 48, 'input_size_LSTM': 56, 'dropout_2': 0.11228967593723169, 'lr': 0.0031012003846906983, 'lr_gamma': 1.1968498174483404, 'seq_length_LSTM': 13, 'batch_size_train': 30, 'batch_size_val': 29, 'l1_ratio_reg': 0.49628254586382364}. Best is trial 4 with value: 0.653988778591156.\n"
     ]
    },
    {
     "name": "stdout",
     "output_type": "stream",
     "text": [
      "Decrease LR\n"
     ]
    },
    {
     "name": "stderr",
     "output_type": "stream",
     "text": [
      "[I 2024-04-09 12:46:19,858] Trial 84 pruned. \n"
     ]
    },
    {
     "name": "stdout",
     "output_type": "stream",
     "text": [
      "Epoch 000 Train 0.0169 Val 0.0129\n",
      "Epoch 000 Train 0.0137 Val 0.0117\n",
      "Epoch 001 Train 0.0110 Val 0.0122\n"
     ]
    },
    {
     "name": "stderr",
     "output_type": "stream",
     "text": [
      "[I 2024-04-09 12:46:40,974] Trial 85 pruned. \n"
     ]
    },
    {
     "name": "stdout",
     "output_type": "stream",
     "text": [
      "Epoch 002 Train 0.0107 Val 0.0119\n"
     ]
    },
    {
     "name": "stderr",
     "output_type": "stream",
     "text": [
      "[I 2024-04-09 12:46:48,551] Trial 86 pruned. \n"
     ]
    },
    {
     "name": "stdout",
     "output_type": "stream",
     "text": [
      "Epoch 000 Train 0.0132 Val 0.0119\n",
      "Epoch 000 Train 0.0138 Val 0.0116\n"
     ]
    },
    {
     "name": "stderr",
     "output_type": "stream",
     "text": [
      "[I 2024-04-09 12:47:03,153] Trial 87 pruned. \n"
     ]
    },
    {
     "name": "stdout",
     "output_type": "stream",
     "text": [
      "Epoch 001 Train 0.0102 Val 0.0123\n"
     ]
    },
    {
     "name": "stderr",
     "output_type": "stream",
     "text": [
      "[I 2024-04-09 12:47:10,337] Trial 88 pruned. \n"
     ]
    },
    {
     "name": "stdout",
     "output_type": "stream",
     "text": [
      "Epoch 000 Train 0.0140 Val 0.0129\n",
      "Epoch 000 Train 0.0164 Val 0.0112\n",
      "Epoch 001 Train 0.0122 Val 0.0113\n",
      "Epoch 002 Train 0.0117 Val 0.0111\n",
      "Epoch 003 Train 0.0115 Val 0.0112\n",
      "Epoch 004 Train 0.0115 Val 0.0117\n",
      "Epoch 005 Train 0.0115 Val 0.0112\n",
      "Epoch 006 Train 0.0116 Val 0.0113\n",
      "Epoch 007 Train 0.0116 Val 0.0117\n",
      "Epoch 008 Train 0.0117 Val 0.0119\n",
      "Epoch 009 Train 0.0118 Val 0.0114\n",
      "Epoch 010 Train 0.0119 Val 0.0120\n",
      "Epoch 011 Train 0.0119 Val 0.0116\n",
      "Epoch 012 Train 0.0120 Val 0.0117\n",
      "Epoch 013 Train 0.0120 Val 0.0118\n",
      "Epoch 014 Train 0.0121 Val 0.0117\n",
      "Decrease LR\n",
      "Epoch 015 Train 0.0121 Val 0.0121\n",
      "Epoch 016 Train 0.0121 Val 0.0120\n",
      "Epoch 017 Train 0.0120 Val 0.0116\n",
      "Epoch 018 Train 0.0120 Val 0.0118\n",
      "Epoch 019 Train 0.0120 Val 0.0122\n"
     ]
    },
    {
     "name": "stderr",
     "output_type": "stream",
     "text": [
      "[I 2024-04-09 12:49:46,923] Trial 89 finished with value: 0.6270397901535034 and parameters: {'n_hidden_units': 48, 'input_size_LSTM': 65, 'dropout_2': 0.12073485007415548, 'lr': 0.002178212486560705, 'lr_gamma': 1.065335374014507, 'seq_length_LSTM': 12, 'batch_size_train': 28, 'batch_size_val': 27, 'l1_ratio_reg': 0.5832310194299866}. Best is trial 4 with value: 0.653988778591156.\n"
     ]
    },
    {
     "name": "stdout",
     "output_type": "stream",
     "text": [
      "Decrease LR\n",
      "Epoch 000 Train 0.0152 Val 0.0121\n"
     ]
    },
    {
     "name": "stderr",
     "output_type": "stream",
     "text": [
      "[I 2024-04-09 12:50:00,747] Trial 90 pruned. \n"
     ]
    },
    {
     "name": "stdout",
     "output_type": "stream",
     "text": [
      "Epoch 001 Train 0.0116 Val 0.0118\n",
      "Epoch 000 Train 0.0131 Val 0.0117\n"
     ]
    },
    {
     "name": "stderr",
     "output_type": "stream",
     "text": [
      "[I 2024-04-09 12:50:15,054] Trial 91 pruned. \n"
     ]
    },
    {
     "name": "stdout",
     "output_type": "stream",
     "text": [
      "Epoch 001 Train 0.0098 Val 0.0119\n"
     ]
    },
    {
     "name": "stderr",
     "output_type": "stream",
     "text": [
      "[I 2024-04-09 12:50:22,102] Trial 92 pruned. \n"
     ]
    },
    {
     "name": "stdout",
     "output_type": "stream",
     "text": [
      "Epoch 000 Train 0.0139 Val 0.0128\n",
      "Epoch 000 Train 0.0139 Val 0.0123\n",
      "Epoch 001 Train 0.0104 Val 0.0115\n",
      "Epoch 002 Train 0.0100 Val 0.0115\n",
      "Epoch 003 Train 0.0100 Val 0.0103\n",
      "Epoch 004 Train 0.0100 Val 0.0115\n",
      "Epoch 005 Train 0.0101 Val 0.0115\n",
      "Epoch 006 Train 0.0101 Val 0.0115\n",
      "Epoch 007 Train 0.0102 Val 0.0112\n",
      "Epoch 008 Train 0.0102 Val 0.0121\n",
      "Epoch 009 Train 0.0103 Val 0.0117\n",
      "Epoch 010 Train 0.0104 Val 0.0113\n",
      "Epoch 011 Train 0.0106 Val 0.0115\n",
      "Epoch 012 Train 0.0107 Val 0.0117\n",
      "Epoch 013 Train 0.0108 Val 0.0120\n",
      "Epoch 014 Train 0.0108 Val 0.0118\n",
      "Decrease LR\n",
      "Epoch 015 Train 0.0110 Val 0.0121\n",
      "Epoch 016 Train 0.0109 Val 0.0114\n",
      "Epoch 017 Train 0.0109 Val 0.0115\n",
      "Epoch 018 Train 0.0108 Val 0.0118\n",
      "Epoch 019 Train 0.0108 Val 0.0115\n"
     ]
    },
    {
     "name": "stderr",
     "output_type": "stream",
     "text": [
      "[I 2024-04-09 12:53:07,146] Trial 93 finished with value: 0.6502984563509623 and parameters: {'n_hidden_units': 49, 'input_size_LSTM': 55, 'dropout_2': 0.10058188265361216, 'lr': 0.0033741262144978772, 'lr_gamma': 1.192652310322223, 'seq_length_LSTM': 13, 'batch_size_train': 27, 'batch_size_val': 29, 'l1_ratio_reg': 0.5314192592222825}. Best is trial 4 with value: 0.653988778591156.\n"
     ]
    },
    {
     "name": "stdout",
     "output_type": "stream",
     "text": [
      "Decrease LR\n",
      "Epoch 000 Train 0.0138 Val 0.0121\n"
     ]
    },
    {
     "name": "stderr",
     "output_type": "stream",
     "text": [
      "[I 2024-04-09 12:53:22,540] Trial 94 pruned. \n"
     ]
    },
    {
     "name": "stdout",
     "output_type": "stream",
     "text": [
      "Epoch 001 Train 0.0103 Val 0.0115\n"
     ]
    },
    {
     "name": "stderr",
     "output_type": "stream",
     "text": [
      "[I 2024-04-09 12:53:30,366] Trial 95 pruned. \n"
     ]
    },
    {
     "name": "stdout",
     "output_type": "stream",
     "text": [
      "Epoch 000 Train 0.0156 Val 0.0126\n"
     ]
    },
    {
     "name": "stderr",
     "output_type": "stream",
     "text": [
      "[I 2024-04-09 12:53:38,244] Trial 96 pruned. \n"
     ]
    },
    {
     "name": "stdout",
     "output_type": "stream",
     "text": [
      "Epoch 000 Train 0.0150 Val 0.0130\n",
      "Epoch 000 Train 0.0145 Val 0.0111\n"
     ]
    },
    {
     "name": "stderr",
     "output_type": "stream",
     "text": [
      "[I 2024-04-09 12:53:53,334] Trial 97 pruned. \n"
     ]
    },
    {
     "name": "stdout",
     "output_type": "stream",
     "text": [
      "Epoch 001 Train 0.0126 Val 0.0121\n"
     ]
    },
    {
     "name": "stderr",
     "output_type": "stream",
     "text": [
      "[I 2024-04-09 12:54:01,041] Trial 98 pruned. \n"
     ]
    },
    {
     "name": "stdout",
     "output_type": "stream",
     "text": [
      "Epoch 000 Train 0.0173 Val 0.0125\n",
      "Epoch 000 Train 0.0144 Val 0.0116\n"
     ]
    },
    {
     "name": "stderr",
     "output_type": "stream",
     "text": [
      "[I 2024-04-09 12:54:15,597] Trial 99 pruned. \n"
     ]
    },
    {
     "name": "stdout",
     "output_type": "stream",
     "text": [
      "Epoch 001 Train 0.0110 Val 0.0110\n",
      "dropout_2: 0.28069458377073697\n",
      "n_hidden_units: 0.178877168156399\n",
      "lr_gamma: 0.16989039637889317\n",
      "lr: 0.1228770099801176\n",
      "batch_size_val: 0.09053367449017329\n",
      "input_size_LSTM: 0.05426007696790645\n",
      "batch_size_train: 0.040464044396067565\n",
      "l1_ratio_reg: 0.035174142510194836\n",
      "seq_length_LSTM: 0.02722890334951124\n",
      "Study statistics: \n",
      "Number of finished trials:  100\n",
      "Number of pruned trials:  76\n",
      "Number of complete trials:  24\n",
      "Best trial: \n",
      "Loss: 0.653988778591156\n",
      "Best hyperparameters: {'n_hidden_units': 50, 'input_size_LSTM': 61, 'dropout_2': 0.11345183469124971, 'lr': 0.0012815987708498843, 'lr_gamma': 1.1790919403685756, 'seq_length_LSTM': 12, 'batch_size_train': 30, 'batch_size_val': 28, 'l1_ratio_reg': 0.5233302128551165}\n"
     ]
    }
   ],
   "source": [
    "study = optuna.create_study(direction=\"maximize\")\n",
    "study.optimize(train_model_optuna, n_trials=100)\n",
    "\n",
    "importance_scores = optuna.importance.get_param_importances(study)\n",
    "\n",
    "# Print importance scores\n",
    "for param, score in importance_scores.items():\n",
    "    print(f\"{param}: {score}\")\n",
    "\n",
    "pruned_trials = [t for t in study.trials if t.state == optuna.trial.TrialState.PRUNED]\n",
    "complete_trials = [t for t in study.trials if t.state == optuna.trial.TrialState.COMPLETE]\n",
    "\n",
    "print('Study statistics: ')\n",
    "print(\"Number of finished trials: \", len(study.trials))\n",
    "print(\"Number of pruned trials: \", len(pruned_trials))\n",
    "print(\"Number of complete trials: \", len(complete_trials))\n",
    "\n",
    "print('Best trial: ')\n",
    "trial = study.best_trial\n",
    "\n",
    "print(\"Loss: {}\".format(trial.value))\n",
    "print(\"Best hyperparameters: {}\".format(trial.params))"
   ]
  },
  {
   "cell_type": "markdown",
   "metadata": {},
   "source": [
    "### Plotting the study"
   ]
  },
  {
   "cell_type": "code",
   "execution_count": 6,
   "metadata": {},
   "outputs": [
    {
     "data": {
      "application/vnd.plotly.v1+json": {
       "config": {
        "plotlyServerURL": "https://plot.ly"
       },
       "data": [
        {
         "mode": "markers",
         "name": "Objective Value",
         "type": "scatter",
         "x": [
          0,
          1,
          2,
          3,
          4,
          6,
          8,
          11,
          12,
          14,
          18,
          27,
          30,
          37,
          39,
          41,
          44,
          54,
          57,
          59,
          75,
          83,
          89,
          93
         ],
         "y": [
          0.6158506472905477,
          0.6399866739908854,
          0.5994842449824015,
          0.6046014229456583,
          0.653988778591156,
          0.6427735884984335,
          0.6184670130411783,
          0.632149338722229,
          0.6378891865412394,
          0.6243783036867777,
          0.6388616760571798,
          0.6241264541943868,
          0.6128404339154562,
          0.6212150454521179,
          0.6271713773409525,
          0.6239518125851949,
          0.6277052362759908,
          0.6167892416318258,
          0.6383247574170431,
          0.6179681420326233,
          0.5875154733657837,
          0.6413587530454,
          0.6270397901535034,
          0.6502984563509623
         ]
        },
        {
         "mode": "lines",
         "name": "Best Value",
         "type": "scatter",
         "x": [
          0,
          1,
          2,
          3,
          4,
          5,
          6,
          7,
          8,
          9,
          10,
          11,
          12,
          13,
          14,
          15,
          16,
          17,
          18,
          19,
          20,
          21,
          22,
          23,
          24,
          25,
          26,
          27,
          28,
          29,
          30,
          31,
          32,
          33,
          34,
          35,
          36,
          37,
          38,
          39,
          40,
          41,
          42,
          43,
          44,
          45,
          46,
          47,
          48,
          49,
          50,
          51,
          52,
          53,
          54,
          55,
          56,
          57,
          58,
          59,
          60,
          61,
          62,
          63,
          64,
          65,
          66,
          67,
          68,
          69,
          70,
          71,
          72,
          73,
          74,
          75,
          76,
          77,
          78,
          79,
          80,
          81,
          82,
          83,
          84,
          85,
          86,
          87,
          88,
          89,
          90,
          91,
          92,
          93,
          94,
          95,
          96,
          97,
          98,
          99
         ],
         "y": [
          0.6158506472905477,
          0.6399866739908854,
          0.6399866739908854,
          0.6399866739908854,
          0.653988778591156,
          0.653988778591156,
          0.653988778591156,
          0.653988778591156,
          0.653988778591156,
          0.653988778591156,
          0.653988778591156,
          0.653988778591156,
          0.653988778591156,
          0.653988778591156,
          0.653988778591156,
          0.653988778591156,
          0.653988778591156,
          0.653988778591156,
          0.653988778591156,
          0.653988778591156,
          0.653988778591156,
          0.653988778591156,
          0.653988778591156,
          0.653988778591156,
          0.653988778591156,
          0.653988778591156,
          0.653988778591156,
          0.653988778591156,
          0.653988778591156,
          0.653988778591156,
          0.653988778591156,
          0.653988778591156,
          0.653988778591156,
          0.653988778591156,
          0.653988778591156,
          0.653988778591156,
          0.653988778591156,
          0.653988778591156,
          0.653988778591156,
          0.653988778591156,
          0.653988778591156,
          0.653988778591156,
          0.653988778591156,
          0.653988778591156,
          0.653988778591156,
          0.653988778591156,
          0.653988778591156,
          0.653988778591156,
          0.653988778591156,
          0.653988778591156,
          0.653988778591156,
          0.653988778591156,
          0.653988778591156,
          0.653988778591156,
          0.653988778591156,
          0.653988778591156,
          0.653988778591156,
          0.653988778591156,
          0.653988778591156,
          0.653988778591156,
          0.653988778591156,
          0.653988778591156,
          0.653988778591156,
          0.653988778591156,
          0.653988778591156,
          0.653988778591156,
          0.653988778591156,
          0.653988778591156,
          0.653988778591156,
          0.653988778591156,
          0.653988778591156,
          0.653988778591156,
          0.653988778591156,
          0.653988778591156,
          0.653988778591156,
          0.653988778591156,
          0.653988778591156,
          0.653988778591156,
          0.653988778591156,
          0.653988778591156,
          0.653988778591156,
          0.653988778591156,
          0.653988778591156,
          0.653988778591156,
          0.653988778591156,
          0.653988778591156,
          0.653988778591156,
          0.653988778591156,
          0.653988778591156,
          0.653988778591156,
          0.653988778591156,
          0.653988778591156,
          0.653988778591156,
          0.653988778591156,
          0.653988778591156,
          0.653988778591156,
          0.653988778591156,
          0.653988778591156,
          0.653988778591156,
          0.653988778591156
         ]
        },
        {
         "marker": {
          "color": "#cccccc"
         },
         "mode": "markers",
         "name": "Infeasible Trial",
         "showlegend": false,
         "type": "scatter",
         "x": [],
         "y": []
        }
       ],
       "layout": {
        "template": {
         "data": {
          "bar": [
           {
            "error_x": {
             "color": "#2a3f5f"
            },
            "error_y": {
             "color": "#2a3f5f"
            },
            "marker": {
             "line": {
              "color": "#E5ECF6",
              "width": 0.5
             },
             "pattern": {
              "fillmode": "overlay",
              "size": 10,
              "solidity": 0.2
             }
            },
            "type": "bar"
           }
          ],
          "barpolar": [
           {
            "marker": {
             "line": {
              "color": "#E5ECF6",
              "width": 0.5
             },
             "pattern": {
              "fillmode": "overlay",
              "size": 10,
              "solidity": 0.2
             }
            },
            "type": "barpolar"
           }
          ],
          "carpet": [
           {
            "aaxis": {
             "endlinecolor": "#2a3f5f",
             "gridcolor": "white",
             "linecolor": "white",
             "minorgridcolor": "white",
             "startlinecolor": "#2a3f5f"
            },
            "baxis": {
             "endlinecolor": "#2a3f5f",
             "gridcolor": "white",
             "linecolor": "white",
             "minorgridcolor": "white",
             "startlinecolor": "#2a3f5f"
            },
            "type": "carpet"
           }
          ],
          "choropleth": [
           {
            "colorbar": {
             "outlinewidth": 0,
             "ticks": ""
            },
            "type": "choropleth"
           }
          ],
          "contour": [
           {
            "colorbar": {
             "outlinewidth": 0,
             "ticks": ""
            },
            "colorscale": [
             [
              0,
              "#0d0887"
             ],
             [
              0.1111111111111111,
              "#46039f"
             ],
             [
              0.2222222222222222,
              "#7201a8"
             ],
             [
              0.3333333333333333,
              "#9c179e"
             ],
             [
              0.4444444444444444,
              "#bd3786"
             ],
             [
              0.5555555555555556,
              "#d8576b"
             ],
             [
              0.6666666666666666,
              "#ed7953"
             ],
             [
              0.7777777777777778,
              "#fb9f3a"
             ],
             [
              0.8888888888888888,
              "#fdca26"
             ],
             [
              1,
              "#f0f921"
             ]
            ],
            "type": "contour"
           }
          ],
          "contourcarpet": [
           {
            "colorbar": {
             "outlinewidth": 0,
             "ticks": ""
            },
            "type": "contourcarpet"
           }
          ],
          "heatmap": [
           {
            "colorbar": {
             "outlinewidth": 0,
             "ticks": ""
            },
            "colorscale": [
             [
              0,
              "#0d0887"
             ],
             [
              0.1111111111111111,
              "#46039f"
             ],
             [
              0.2222222222222222,
              "#7201a8"
             ],
             [
              0.3333333333333333,
              "#9c179e"
             ],
             [
              0.4444444444444444,
              "#bd3786"
             ],
             [
              0.5555555555555556,
              "#d8576b"
             ],
             [
              0.6666666666666666,
              "#ed7953"
             ],
             [
              0.7777777777777778,
              "#fb9f3a"
             ],
             [
              0.8888888888888888,
              "#fdca26"
             ],
             [
              1,
              "#f0f921"
             ]
            ],
            "type": "heatmap"
           }
          ],
          "heatmapgl": [
           {
            "colorbar": {
             "outlinewidth": 0,
             "ticks": ""
            },
            "colorscale": [
             [
              0,
              "#0d0887"
             ],
             [
              0.1111111111111111,
              "#46039f"
             ],
             [
              0.2222222222222222,
              "#7201a8"
             ],
             [
              0.3333333333333333,
              "#9c179e"
             ],
             [
              0.4444444444444444,
              "#bd3786"
             ],
             [
              0.5555555555555556,
              "#d8576b"
             ],
             [
              0.6666666666666666,
              "#ed7953"
             ],
             [
              0.7777777777777778,
              "#fb9f3a"
             ],
             [
              0.8888888888888888,
              "#fdca26"
             ],
             [
              1,
              "#f0f921"
             ]
            ],
            "type": "heatmapgl"
           }
          ],
          "histogram": [
           {
            "marker": {
             "pattern": {
              "fillmode": "overlay",
              "size": 10,
              "solidity": 0.2
             }
            },
            "type": "histogram"
           }
          ],
          "histogram2d": [
           {
            "colorbar": {
             "outlinewidth": 0,
             "ticks": ""
            },
            "colorscale": [
             [
              0,
              "#0d0887"
             ],
             [
              0.1111111111111111,
              "#46039f"
             ],
             [
              0.2222222222222222,
              "#7201a8"
             ],
             [
              0.3333333333333333,
              "#9c179e"
             ],
             [
              0.4444444444444444,
              "#bd3786"
             ],
             [
              0.5555555555555556,
              "#d8576b"
             ],
             [
              0.6666666666666666,
              "#ed7953"
             ],
             [
              0.7777777777777778,
              "#fb9f3a"
             ],
             [
              0.8888888888888888,
              "#fdca26"
             ],
             [
              1,
              "#f0f921"
             ]
            ],
            "type": "histogram2d"
           }
          ],
          "histogram2dcontour": [
           {
            "colorbar": {
             "outlinewidth": 0,
             "ticks": ""
            },
            "colorscale": [
             [
              0,
              "#0d0887"
             ],
             [
              0.1111111111111111,
              "#46039f"
             ],
             [
              0.2222222222222222,
              "#7201a8"
             ],
             [
              0.3333333333333333,
              "#9c179e"
             ],
             [
              0.4444444444444444,
              "#bd3786"
             ],
             [
              0.5555555555555556,
              "#d8576b"
             ],
             [
              0.6666666666666666,
              "#ed7953"
             ],
             [
              0.7777777777777778,
              "#fb9f3a"
             ],
             [
              0.8888888888888888,
              "#fdca26"
             ],
             [
              1,
              "#f0f921"
             ]
            ],
            "type": "histogram2dcontour"
           }
          ],
          "mesh3d": [
           {
            "colorbar": {
             "outlinewidth": 0,
             "ticks": ""
            },
            "type": "mesh3d"
           }
          ],
          "parcoords": [
           {
            "line": {
             "colorbar": {
              "outlinewidth": 0,
              "ticks": ""
             }
            },
            "type": "parcoords"
           }
          ],
          "pie": [
           {
            "automargin": true,
            "type": "pie"
           }
          ],
          "scatter": [
           {
            "fillpattern": {
             "fillmode": "overlay",
             "size": 10,
             "solidity": 0.2
            },
            "type": "scatter"
           }
          ],
          "scatter3d": [
           {
            "line": {
             "colorbar": {
              "outlinewidth": 0,
              "ticks": ""
             }
            },
            "marker": {
             "colorbar": {
              "outlinewidth": 0,
              "ticks": ""
             }
            },
            "type": "scatter3d"
           }
          ],
          "scattercarpet": [
           {
            "marker": {
             "colorbar": {
              "outlinewidth": 0,
              "ticks": ""
             }
            },
            "type": "scattercarpet"
           }
          ],
          "scattergeo": [
           {
            "marker": {
             "colorbar": {
              "outlinewidth": 0,
              "ticks": ""
             }
            },
            "type": "scattergeo"
           }
          ],
          "scattergl": [
           {
            "marker": {
             "colorbar": {
              "outlinewidth": 0,
              "ticks": ""
             }
            },
            "type": "scattergl"
           }
          ],
          "scattermapbox": [
           {
            "marker": {
             "colorbar": {
              "outlinewidth": 0,
              "ticks": ""
             }
            },
            "type": "scattermapbox"
           }
          ],
          "scatterpolar": [
           {
            "marker": {
             "colorbar": {
              "outlinewidth": 0,
              "ticks": ""
             }
            },
            "type": "scatterpolar"
           }
          ],
          "scatterpolargl": [
           {
            "marker": {
             "colorbar": {
              "outlinewidth": 0,
              "ticks": ""
             }
            },
            "type": "scatterpolargl"
           }
          ],
          "scatterternary": [
           {
            "marker": {
             "colorbar": {
              "outlinewidth": 0,
              "ticks": ""
             }
            },
            "type": "scatterternary"
           }
          ],
          "surface": [
           {
            "colorbar": {
             "outlinewidth": 0,
             "ticks": ""
            },
            "colorscale": [
             [
              0,
              "#0d0887"
             ],
             [
              0.1111111111111111,
              "#46039f"
             ],
             [
              0.2222222222222222,
              "#7201a8"
             ],
             [
              0.3333333333333333,
              "#9c179e"
             ],
             [
              0.4444444444444444,
              "#bd3786"
             ],
             [
              0.5555555555555556,
              "#d8576b"
             ],
             [
              0.6666666666666666,
              "#ed7953"
             ],
             [
              0.7777777777777778,
              "#fb9f3a"
             ],
             [
              0.8888888888888888,
              "#fdca26"
             ],
             [
              1,
              "#f0f921"
             ]
            ],
            "type": "surface"
           }
          ],
          "table": [
           {
            "cells": {
             "fill": {
              "color": "#EBF0F8"
             },
             "line": {
              "color": "white"
             }
            },
            "header": {
             "fill": {
              "color": "#C8D4E3"
             },
             "line": {
              "color": "white"
             }
            },
            "type": "table"
           }
          ]
         },
         "layout": {
          "annotationdefaults": {
           "arrowcolor": "#2a3f5f",
           "arrowhead": 0,
           "arrowwidth": 1
          },
          "autotypenumbers": "strict",
          "coloraxis": {
           "colorbar": {
            "outlinewidth": 0,
            "ticks": ""
           }
          },
          "colorscale": {
           "diverging": [
            [
             0,
             "#8e0152"
            ],
            [
             0.1,
             "#c51b7d"
            ],
            [
             0.2,
             "#de77ae"
            ],
            [
             0.3,
             "#f1b6da"
            ],
            [
             0.4,
             "#fde0ef"
            ],
            [
             0.5,
             "#f7f7f7"
            ],
            [
             0.6,
             "#e6f5d0"
            ],
            [
             0.7,
             "#b8e186"
            ],
            [
             0.8,
             "#7fbc41"
            ],
            [
             0.9,
             "#4d9221"
            ],
            [
             1,
             "#276419"
            ]
           ],
           "sequential": [
            [
             0,
             "#0d0887"
            ],
            [
             0.1111111111111111,
             "#46039f"
            ],
            [
             0.2222222222222222,
             "#7201a8"
            ],
            [
             0.3333333333333333,
             "#9c179e"
            ],
            [
             0.4444444444444444,
             "#bd3786"
            ],
            [
             0.5555555555555556,
             "#d8576b"
            ],
            [
             0.6666666666666666,
             "#ed7953"
            ],
            [
             0.7777777777777778,
             "#fb9f3a"
            ],
            [
             0.8888888888888888,
             "#fdca26"
            ],
            [
             1,
             "#f0f921"
            ]
           ],
           "sequentialminus": [
            [
             0,
             "#0d0887"
            ],
            [
             0.1111111111111111,
             "#46039f"
            ],
            [
             0.2222222222222222,
             "#7201a8"
            ],
            [
             0.3333333333333333,
             "#9c179e"
            ],
            [
             0.4444444444444444,
             "#bd3786"
            ],
            [
             0.5555555555555556,
             "#d8576b"
            ],
            [
             0.6666666666666666,
             "#ed7953"
            ],
            [
             0.7777777777777778,
             "#fb9f3a"
            ],
            [
             0.8888888888888888,
             "#fdca26"
            ],
            [
             1,
             "#f0f921"
            ]
           ]
          },
          "colorway": [
           "#636efa",
           "#EF553B",
           "#00cc96",
           "#ab63fa",
           "#FFA15A",
           "#19d3f3",
           "#FF6692",
           "#B6E880",
           "#FF97FF",
           "#FECB52"
          ],
          "font": {
           "color": "#2a3f5f"
          },
          "geo": {
           "bgcolor": "white",
           "lakecolor": "white",
           "landcolor": "#E5ECF6",
           "showlakes": true,
           "showland": true,
           "subunitcolor": "white"
          },
          "hoverlabel": {
           "align": "left"
          },
          "hovermode": "closest",
          "mapbox": {
           "style": "light"
          },
          "paper_bgcolor": "white",
          "plot_bgcolor": "#E5ECF6",
          "polar": {
           "angularaxis": {
            "gridcolor": "white",
            "linecolor": "white",
            "ticks": ""
           },
           "bgcolor": "#E5ECF6",
           "radialaxis": {
            "gridcolor": "white",
            "linecolor": "white",
            "ticks": ""
           }
          },
          "scene": {
           "xaxis": {
            "backgroundcolor": "#E5ECF6",
            "gridcolor": "white",
            "gridwidth": 2,
            "linecolor": "white",
            "showbackground": true,
            "ticks": "",
            "zerolinecolor": "white"
           },
           "yaxis": {
            "backgroundcolor": "#E5ECF6",
            "gridcolor": "white",
            "gridwidth": 2,
            "linecolor": "white",
            "showbackground": true,
            "ticks": "",
            "zerolinecolor": "white"
           },
           "zaxis": {
            "backgroundcolor": "#E5ECF6",
            "gridcolor": "white",
            "gridwidth": 2,
            "linecolor": "white",
            "showbackground": true,
            "ticks": "",
            "zerolinecolor": "white"
           }
          },
          "shapedefaults": {
           "line": {
            "color": "#2a3f5f"
           }
          },
          "ternary": {
           "aaxis": {
            "gridcolor": "white",
            "linecolor": "white",
            "ticks": ""
           },
           "baxis": {
            "gridcolor": "white",
            "linecolor": "white",
            "ticks": ""
           },
           "bgcolor": "#E5ECF6",
           "caxis": {
            "gridcolor": "white",
            "linecolor": "white",
            "ticks": ""
           }
          },
          "title": {
           "x": 0.05
          },
          "xaxis": {
           "automargin": true,
           "gridcolor": "white",
           "linecolor": "white",
           "ticks": "",
           "title": {
            "standoff": 15
           },
           "zerolinecolor": "white",
           "zerolinewidth": 2
          },
          "yaxis": {
           "automargin": true,
           "gridcolor": "white",
           "linecolor": "white",
           "ticks": "",
           "title": {
            "standoff": 15
           },
           "zerolinecolor": "white",
           "zerolinewidth": 2
          }
         }
        },
        "title": {
         "text": "Optimization History Plot"
        },
        "xaxis": {
         "title": {
          "text": "Trial"
         }
        },
        "yaxis": {
         "title": {
          "text": "Objective Value"
         }
        }
       }
      }
     },
     "metadata": {},
     "output_type": "display_data"
    }
   ],
   "source": [
    "optuna.visualization.plot_optimization_history(study)"
   ]
  },
  {
   "cell_type": "code",
   "execution_count": 7,
   "metadata": {},
   "outputs": [
    {
     "data": {
      "application/vnd.plotly.v1+json": {
       "config": {
        "plotlyServerURL": "https://plot.ly"
       },
       "data": [
        {
         "marker": {
          "color": [
           0,
           1,
           2,
           3,
           4,
           6,
           8,
           11,
           12,
           14,
           18,
           27,
           30,
           37,
           39,
           41,
           44,
           54,
           57,
           59,
           75,
           83,
           89,
           93
          ],
          "colorbar": {
           "title": {
            "text": "Trial"
           },
           "x": 1,
           "xpad": 40
          },
          "colorscale": [
           [
            0,
            "rgb(247,251,255)"
           ],
           [
            0.125,
            "rgb(222,235,247)"
           ],
           [
            0.25,
            "rgb(198,219,239)"
           ],
           [
            0.375,
            "rgb(158,202,225)"
           ],
           [
            0.5,
            "rgb(107,174,214)"
           ],
           [
            0.625,
            "rgb(66,146,198)"
           ],
           [
            0.75,
            "rgb(33,113,181)"
           ],
           [
            0.875,
            "rgb(8,81,156)"
           ],
           [
            1,
            "rgb(8,48,107)"
           ]
          ],
          "line": {
           "color": "Grey",
           "width": 0.5
          },
          "showscale": true
         },
         "mode": "markers",
         "name": "Feasible Trial",
         "showlegend": false,
         "type": "scatter",
         "x": [
          30,
          25,
          29,
          26,
          30,
          30,
          30,
          30,
          28,
          30,
          30,
          26,
          27,
          26,
          30,
          28,
          26,
          25,
          29,
          29,
          27,
          30,
          28,
          27
         ],
         "xaxis": "x",
         "y": [
          0.6158506472905477,
          0.6399866739908854,
          0.5994842449824015,
          0.6046014229456583,
          0.653988778591156,
          0.6427735884984335,
          0.6184670130411783,
          0.632149338722229,
          0.6378891865412394,
          0.6243783036867777,
          0.6388616760571798,
          0.6241264541943868,
          0.6128404339154562,
          0.6212150454521179,
          0.6271713773409525,
          0.6239518125851949,
          0.6277052362759908,
          0.6167892416318258,
          0.6383247574170431,
          0.6179681420326233,
          0.5875154733657837,
          0.6413587530454,
          0.6270397901535034,
          0.6502984563509623
         ],
         "yaxis": "y"
        },
        {
         "marker": {
          "color": [
           0,
           1,
           2,
           3,
           4,
           6,
           8,
           11,
           12,
           14,
           18,
           27,
           30,
           37,
           39,
           41,
           44,
           54,
           57,
           59,
           75,
           83,
           89,
           93
          ],
          "colorbar": {
           "title": {
            "text": "Trial"
           },
           "x": 1,
           "xpad": 40
          },
          "colorscale": [
           [
            0,
            "rgb(247,251,255)"
           ],
           [
            0.125,
            "rgb(222,235,247)"
           ],
           [
            0.25,
            "rgb(198,219,239)"
           ],
           [
            0.375,
            "rgb(158,202,225)"
           ],
           [
            0.5,
            "rgb(107,174,214)"
           ],
           [
            0.625,
            "rgb(66,146,198)"
           ],
           [
            0.75,
            "rgb(33,113,181)"
           ],
           [
            0.875,
            "rgb(8,81,156)"
           ],
           [
            1,
            "rgb(8,48,107)"
           ]
          ],
          "line": {
           "color": "Grey",
           "width": 0.5
          },
          "showscale": false
         },
         "mode": "markers",
         "name": "Feasible Trial",
         "showlegend": false,
         "type": "scatter",
         "x": [
          26,
          29,
          25,
          26,
          28,
          29,
          28,
          29,
          29,
          30,
          27,
          30,
          29,
          28,
          28,
          29,
          27,
          28,
          27,
          27,
          28,
          29,
          27,
          29
         ],
         "xaxis": "x2",
         "y": [
          0.6158506472905477,
          0.6399866739908854,
          0.5994842449824015,
          0.6046014229456583,
          0.653988778591156,
          0.6427735884984335,
          0.6184670130411783,
          0.632149338722229,
          0.6378891865412394,
          0.6243783036867777,
          0.6388616760571798,
          0.6241264541943868,
          0.6128404339154562,
          0.6212150454521179,
          0.6271713773409525,
          0.6239518125851949,
          0.6277052362759908,
          0.6167892416318258,
          0.6383247574170431,
          0.6179681420326233,
          0.5875154733657837,
          0.6413587530454,
          0.6270397901535034,
          0.6502984563509623
         ],
         "yaxis": "y2"
        },
        {
         "marker": {
          "color": [
           0,
           1,
           2,
           3,
           4,
           6,
           8,
           11,
           12,
           14,
           18,
           27,
           30,
           37,
           39,
           41,
           44,
           54,
           57,
           59,
           75,
           83,
           89,
           93
          ],
          "colorbar": {
           "title": {
            "text": "Trial"
           },
           "x": 1,
           "xpad": 40
          },
          "colorscale": [
           [
            0,
            "rgb(247,251,255)"
           ],
           [
            0.125,
            "rgb(222,235,247)"
           ],
           [
            0.25,
            "rgb(198,219,239)"
           ],
           [
            0.375,
            "rgb(158,202,225)"
           ],
           [
            0.5,
            "rgb(107,174,214)"
           ],
           [
            0.625,
            "rgb(66,146,198)"
           ],
           [
            0.75,
            "rgb(33,113,181)"
           ],
           [
            0.875,
            "rgb(8,81,156)"
           ],
           [
            1,
            "rgb(8,48,107)"
           ]
          ],
          "line": {
           "color": "Grey",
           "width": 0.5
          },
          "showscale": false
         },
         "mode": "markers",
         "name": "Feasible Trial",
         "showlegend": false,
         "type": "scatter",
         "x": [
          0.10134575540103558,
          0.09380944879948282,
          0.13584565780835633,
          0.09224734926097598,
          0.11345183469124971,
          0.09286905903033799,
          0.14066503111754453,
          0.11096729492384443,
          0.1265192379727658,
          0.10632554361721962,
          0.1127877564880437,
          0.10413053007183727,
          0.11969970208122072,
          0.09007565019639649,
          0.09380318261675212,
          0.12457390321892003,
          0.13103898360738636,
          0.1130450509690142,
          0.09731631365512651,
          0.09772832088434734,
          0.12938977601155868,
          0.11228967593723169,
          0.12073485007415548,
          0.10058188265361216
         ],
         "xaxis": "x3",
         "y": [
          0.6158506472905477,
          0.6399866739908854,
          0.5994842449824015,
          0.6046014229456583,
          0.653988778591156,
          0.6427735884984335,
          0.6184670130411783,
          0.632149338722229,
          0.6378891865412394,
          0.6243783036867777,
          0.6388616760571798,
          0.6241264541943868,
          0.6128404339154562,
          0.6212150454521179,
          0.6271713773409525,
          0.6239518125851949,
          0.6277052362759908,
          0.6167892416318258,
          0.6383247574170431,
          0.6179681420326233,
          0.5875154733657837,
          0.6413587530454,
          0.6270397901535034,
          0.6502984563509623
         ],
         "yaxis": "y3"
        },
        {
         "marker": {
          "color": [
           0,
           1,
           2,
           3,
           4,
           6,
           8,
           11,
           12,
           14,
           18,
           27,
           30,
           37,
           39,
           41,
           44,
           54,
           57,
           59,
           75,
           83,
           89,
           93
          ],
          "colorbar": {
           "title": {
            "text": "Trial"
           },
           "x": 1,
           "xpad": 40
          },
          "colorscale": [
           [
            0,
            "rgb(247,251,255)"
           ],
           [
            0.125,
            "rgb(222,235,247)"
           ],
           [
            0.25,
            "rgb(198,219,239)"
           ],
           [
            0.375,
            "rgb(158,202,225)"
           ],
           [
            0.5,
            "rgb(107,174,214)"
           ],
           [
            0.625,
            "rgb(66,146,198)"
           ],
           [
            0.75,
            "rgb(33,113,181)"
           ],
           [
            0.875,
            "rgb(8,81,156)"
           ],
           [
            1,
            "rgb(8,48,107)"
           ]
          ],
          "line": {
           "color": "Grey",
           "width": 0.5
          },
          "showscale": false
         },
         "mode": "markers",
         "name": "Feasible Trial",
         "showlegend": false,
         "type": "scatter",
         "x": [
          65,
          56,
          65,
          58,
          61,
          64,
          60,
          63,
          63,
          57,
          64,
          64,
          65,
          61,
          56,
          63,
          62,
          64,
          61,
          60,
          63,
          56,
          65,
          55
         ],
         "xaxis": "x4",
         "y": [
          0.6158506472905477,
          0.6399866739908854,
          0.5994842449824015,
          0.6046014229456583,
          0.653988778591156,
          0.6427735884984335,
          0.6184670130411783,
          0.632149338722229,
          0.6378891865412394,
          0.6243783036867777,
          0.6388616760571798,
          0.6241264541943868,
          0.6128404339154562,
          0.6212150454521179,
          0.6271713773409525,
          0.6239518125851949,
          0.6277052362759908,
          0.6167892416318258,
          0.6383247574170431,
          0.6179681420326233,
          0.5875154733657837,
          0.6413587530454,
          0.6270397901535034,
          0.6502984563509623
         ],
         "yaxis": "y4"
        },
        {
         "marker": {
          "color": [
           0,
           1,
           2,
           3,
           4,
           6,
           8,
           11,
           12,
           14,
           18,
           27,
           30,
           37,
           39,
           41,
           44,
           54,
           57,
           59,
           75,
           83,
           89,
           93
          ],
          "colorbar": {
           "title": {
            "text": "Trial"
           },
           "x": 1,
           "xpad": 40
          },
          "colorscale": [
           [
            0,
            "rgb(247,251,255)"
           ],
           [
            0.125,
            "rgb(222,235,247)"
           ],
           [
            0.25,
            "rgb(198,219,239)"
           ],
           [
            0.375,
            "rgb(158,202,225)"
           ],
           [
            0.5,
            "rgb(107,174,214)"
           ],
           [
            0.625,
            "rgb(66,146,198)"
           ],
           [
            0.75,
            "rgb(33,113,181)"
           ],
           [
            0.875,
            "rgb(8,81,156)"
           ],
           [
            1,
            "rgb(8,48,107)"
           ]
          ],
          "line": {
           "color": "Grey",
           "width": 0.5
          },
          "showscale": false
         },
         "mode": "markers",
         "name": "Feasible Trial",
         "showlegend": false,
         "type": "scatter",
         "x": [
          0.5148661875809435,
          0.4775867506823128,
          0.5170582435055798,
          0.5076190951678596,
          0.5233302128551165,
          0.5680000475132676,
          0.4781144797906658,
          0.5497206951088645,
          0.59798214067116,
          0.4279695383887856,
          0.4558592365718126,
          0.5343471041765615,
          0.5894536827779772,
          0.43784959274364404,
          0.47900286008123566,
          0.599357199617352,
          0.5626579491202662,
          0.529567656512693,
          0.4775147291694707,
          0.4719581008740164,
          0.559607219053036,
          0.49628254586382364,
          0.5832310194299866,
          0.5314192592222825
         ],
         "xaxis": "x5",
         "y": [
          0.6158506472905477,
          0.6399866739908854,
          0.5994842449824015,
          0.6046014229456583,
          0.653988778591156,
          0.6427735884984335,
          0.6184670130411783,
          0.632149338722229,
          0.6378891865412394,
          0.6243783036867777,
          0.6388616760571798,
          0.6241264541943868,
          0.6128404339154562,
          0.6212150454521179,
          0.6271713773409525,
          0.6239518125851949,
          0.6277052362759908,
          0.6167892416318258,
          0.6383247574170431,
          0.6179681420326233,
          0.5875154733657837,
          0.6413587530454,
          0.6270397901535034,
          0.6502984563509623
         ],
         "yaxis": "y5"
        },
        {
         "marker": {
          "color": [
           0,
           1,
           2,
           3,
           4,
           6,
           8,
           11,
           12,
           14,
           18,
           27,
           30,
           37,
           39,
           41,
           44,
           54,
           57,
           59,
           75,
           83,
           89,
           93
          ],
          "colorbar": {
           "title": {
            "text": "Trial"
           },
           "x": 1,
           "xpad": 40
          },
          "colorscale": [
           [
            0,
            "rgb(247,251,255)"
           ],
           [
            0.125,
            "rgb(222,235,247)"
           ],
           [
            0.25,
            "rgb(198,219,239)"
           ],
           [
            0.375,
            "rgb(158,202,225)"
           ],
           [
            0.5,
            "rgb(107,174,214)"
           ],
           [
            0.625,
            "rgb(66,146,198)"
           ],
           [
            0.75,
            "rgb(33,113,181)"
           ],
           [
            0.875,
            "rgb(8,81,156)"
           ],
           [
            1,
            "rgb(8,48,107)"
           ]
          ],
          "line": {
           "color": "Grey",
           "width": 0.5
          },
          "showscale": false
         },
         "mode": "markers",
         "name": "Feasible Trial",
         "showlegend": false,
         "type": "scatter",
         "x": [
          0.0005322351204250441,
          0.0008950170631978813,
          0.00012928844480438806,
          0.0002827627482344234,
          0.0012815987708498843,
          0.004618499684603458,
          0.006801930631118866,
          0.009934568494000382,
          0.0032443875168027764,
          0.005482407595142088,
          0.009249424745841724,
          0.0021074719671191596,
          0.00523780801919325,
          0.004124146601240596,
          0.003194613088710596,
          0.0030715328310568783,
          0.002449357964346443,
          0.006070119747964679,
          0.002798460004725128,
          0.0021328875668951194,
          0.004907548492212368,
          0.0031012003846906983,
          0.002178212486560705,
          0.0033741262144978772
         ],
         "xaxis": "x6",
         "y": [
          0.6158506472905477,
          0.6399866739908854,
          0.5994842449824015,
          0.6046014229456583,
          0.653988778591156,
          0.6427735884984335,
          0.6184670130411783,
          0.632149338722229,
          0.6378891865412394,
          0.6243783036867777,
          0.6388616760571798,
          0.6241264541943868,
          0.6128404339154562,
          0.6212150454521179,
          0.6271713773409525,
          0.6239518125851949,
          0.6277052362759908,
          0.6167892416318258,
          0.6383247574170431,
          0.6179681420326233,
          0.5875154733657837,
          0.6413587530454,
          0.6270397901535034,
          0.6502984563509623
         ],
         "yaxis": "y6"
        },
        {
         "marker": {
          "color": [
           0,
           1,
           2,
           3,
           4,
           6,
           8,
           11,
           12,
           14,
           18,
           27,
           30,
           37,
           39,
           41,
           44,
           54,
           57,
           59,
           75,
           83,
           89,
           93
          ],
          "colorbar": {
           "title": {
            "text": "Trial"
           },
           "x": 1,
           "xpad": 40
          },
          "colorscale": [
           [
            0,
            "rgb(247,251,255)"
           ],
           [
            0.125,
            "rgb(222,235,247)"
           ],
           [
            0.25,
            "rgb(198,219,239)"
           ],
           [
            0.375,
            "rgb(158,202,225)"
           ],
           [
            0.5,
            "rgb(107,174,214)"
           ],
           [
            0.625,
            "rgb(66,146,198)"
           ],
           [
            0.75,
            "rgb(33,113,181)"
           ],
           [
            0.875,
            "rgb(8,81,156)"
           ],
           [
            1,
            "rgb(8,48,107)"
           ]
          ],
          "line": {
           "color": "Grey",
           "width": 0.5
          },
          "showscale": false
         },
         "mode": "markers",
         "name": "Feasible Trial",
         "showlegend": false,
         "type": "scatter",
         "x": [
          1.1002189401106162,
          1.0681999213972042,
          1.115735468519725,
          1.1645027273502615,
          1.1790919403685756,
          1.178749480812471,
          1.114538629198574,
          1.1980427462547198,
          1.1562260136141629,
          1.1413444837860198,
          1.1800607259735387,
          1.1867103638552068,
          1.1722477913831684,
          1.1036662688657612,
          1.1993202177066913,
          1.157520473525883,
          1.1727560018478491,
          1.1742780757041764,
          1.1153176256921107,
          1.1333467380995348,
          1.1640908502504468,
          1.1968498174483404,
          1.065335374014507,
          1.192652310322223
         ],
         "xaxis": "x7",
         "y": [
          0.6158506472905477,
          0.6399866739908854,
          0.5994842449824015,
          0.6046014229456583,
          0.653988778591156,
          0.6427735884984335,
          0.6184670130411783,
          0.632149338722229,
          0.6378891865412394,
          0.6243783036867777,
          0.6388616760571798,
          0.6241264541943868,
          0.6128404339154562,
          0.6212150454521179,
          0.6271713773409525,
          0.6239518125851949,
          0.6277052362759908,
          0.6167892416318258,
          0.6383247574170431,
          0.6179681420326233,
          0.5875154733657837,
          0.6413587530454,
          0.6270397901535034,
          0.6502984563509623
         ],
         "yaxis": "y7"
        },
        {
         "marker": {
          "color": [
           0,
           1,
           2,
           3,
           4,
           6,
           8,
           11,
           12,
           14,
           18,
           27,
           30,
           37,
           39,
           41,
           44,
           54,
           57,
           59,
           75,
           83,
           89,
           93
          ],
          "colorbar": {
           "title": {
            "text": "Trial"
           },
           "x": 1,
           "xpad": 40
          },
          "colorscale": [
           [
            0,
            "rgb(247,251,255)"
           ],
           [
            0.125,
            "rgb(222,235,247)"
           ],
           [
            0.25,
            "rgb(198,219,239)"
           ],
           [
            0.375,
            "rgb(158,202,225)"
           ],
           [
            0.5,
            "rgb(107,174,214)"
           ],
           [
            0.625,
            "rgb(66,146,198)"
           ],
           [
            0.75,
            "rgb(33,113,181)"
           ],
           [
            0.875,
            "rgb(8,81,156)"
           ],
           [
            1,
            "rgb(8,48,107)"
           ]
          ],
          "line": {
           "color": "Grey",
           "width": 0.5
          },
          "showscale": false
         },
         "mode": "markers",
         "name": "Feasible Trial",
         "showlegend": false,
         "type": "scatter",
         "x": [
          46,
          45,
          49,
          46,
          50,
          49,
          47,
          49,
          49,
          50,
          49,
          50,
          48,
          47,
          48,
          49,
          48,
          48,
          50,
          50,
          45,
          48,
          48,
          49
         ],
         "xaxis": "x8",
         "y": [
          0.6158506472905477,
          0.6399866739908854,
          0.5994842449824015,
          0.6046014229456583,
          0.653988778591156,
          0.6427735884984335,
          0.6184670130411783,
          0.632149338722229,
          0.6378891865412394,
          0.6243783036867777,
          0.6388616760571798,
          0.6241264541943868,
          0.6128404339154562,
          0.6212150454521179,
          0.6271713773409525,
          0.6239518125851949,
          0.6277052362759908,
          0.6167892416318258,
          0.6383247574170431,
          0.6179681420326233,
          0.5875154733657837,
          0.6413587530454,
          0.6270397901535034,
          0.6502984563509623
         ],
         "yaxis": "y8"
        },
        {
         "marker": {
          "color": [
           0,
           1,
           2,
           3,
           4,
           6,
           8,
           11,
           12,
           14,
           18,
           27,
           30,
           37,
           39,
           41,
           44,
           54,
           57,
           59,
           75,
           83,
           89,
           93
          ],
          "colorbar": {
           "title": {
            "text": "Trial"
           },
           "x": 1,
           "xpad": 40
          },
          "colorscale": [
           [
            0,
            "rgb(247,251,255)"
           ],
           [
            0.125,
            "rgb(222,235,247)"
           ],
           [
            0.25,
            "rgb(198,219,239)"
           ],
           [
            0.375,
            "rgb(158,202,225)"
           ],
           [
            0.5,
            "rgb(107,174,214)"
           ],
           [
            0.625,
            "rgb(66,146,198)"
           ],
           [
            0.75,
            "rgb(33,113,181)"
           ],
           [
            0.875,
            "rgb(8,81,156)"
           ],
           [
            1,
            "rgb(8,48,107)"
           ]
          ],
          "line": {
           "color": "Grey",
           "width": 0.5
          },
          "showscale": false
         },
         "mode": "markers",
         "name": "Feasible Trial",
         "showlegend": false,
         "type": "scatter",
         "x": [
          15,
          14,
          13,
          13,
          12,
          14,
          14,
          15,
          12,
          13,
          14,
          13,
          14,
          14,
          13,
          12,
          12,
          15,
          13,
          12,
          12,
          13,
          12,
          13
         ],
         "xaxis": "x9",
         "y": [
          0.6158506472905477,
          0.6399866739908854,
          0.5994842449824015,
          0.6046014229456583,
          0.653988778591156,
          0.6427735884984335,
          0.6184670130411783,
          0.632149338722229,
          0.6378891865412394,
          0.6243783036867777,
          0.6388616760571798,
          0.6241264541943868,
          0.6128404339154562,
          0.6212150454521179,
          0.6271713773409525,
          0.6239518125851949,
          0.6277052362759908,
          0.6167892416318258,
          0.6383247574170431,
          0.6179681420326233,
          0.5875154733657837,
          0.6413587530454,
          0.6270397901535034,
          0.6502984563509623
         ],
         "yaxis": "y9"
        }
       ],
       "layout": {
        "template": {
         "data": {
          "bar": [
           {
            "error_x": {
             "color": "#2a3f5f"
            },
            "error_y": {
             "color": "#2a3f5f"
            },
            "marker": {
             "line": {
              "color": "#E5ECF6",
              "width": 0.5
             },
             "pattern": {
              "fillmode": "overlay",
              "size": 10,
              "solidity": 0.2
             }
            },
            "type": "bar"
           }
          ],
          "barpolar": [
           {
            "marker": {
             "line": {
              "color": "#E5ECF6",
              "width": 0.5
             },
             "pattern": {
              "fillmode": "overlay",
              "size": 10,
              "solidity": 0.2
             }
            },
            "type": "barpolar"
           }
          ],
          "carpet": [
           {
            "aaxis": {
             "endlinecolor": "#2a3f5f",
             "gridcolor": "white",
             "linecolor": "white",
             "minorgridcolor": "white",
             "startlinecolor": "#2a3f5f"
            },
            "baxis": {
             "endlinecolor": "#2a3f5f",
             "gridcolor": "white",
             "linecolor": "white",
             "minorgridcolor": "white",
             "startlinecolor": "#2a3f5f"
            },
            "type": "carpet"
           }
          ],
          "choropleth": [
           {
            "colorbar": {
             "outlinewidth": 0,
             "ticks": ""
            },
            "type": "choropleth"
           }
          ],
          "contour": [
           {
            "colorbar": {
             "outlinewidth": 0,
             "ticks": ""
            },
            "colorscale": [
             [
              0,
              "#0d0887"
             ],
             [
              0.1111111111111111,
              "#46039f"
             ],
             [
              0.2222222222222222,
              "#7201a8"
             ],
             [
              0.3333333333333333,
              "#9c179e"
             ],
             [
              0.4444444444444444,
              "#bd3786"
             ],
             [
              0.5555555555555556,
              "#d8576b"
             ],
             [
              0.6666666666666666,
              "#ed7953"
             ],
             [
              0.7777777777777778,
              "#fb9f3a"
             ],
             [
              0.8888888888888888,
              "#fdca26"
             ],
             [
              1,
              "#f0f921"
             ]
            ],
            "type": "contour"
           }
          ],
          "contourcarpet": [
           {
            "colorbar": {
             "outlinewidth": 0,
             "ticks": ""
            },
            "type": "contourcarpet"
           }
          ],
          "heatmap": [
           {
            "colorbar": {
             "outlinewidth": 0,
             "ticks": ""
            },
            "colorscale": [
             [
              0,
              "#0d0887"
             ],
             [
              0.1111111111111111,
              "#46039f"
             ],
             [
              0.2222222222222222,
              "#7201a8"
             ],
             [
              0.3333333333333333,
              "#9c179e"
             ],
             [
              0.4444444444444444,
              "#bd3786"
             ],
             [
              0.5555555555555556,
              "#d8576b"
             ],
             [
              0.6666666666666666,
              "#ed7953"
             ],
             [
              0.7777777777777778,
              "#fb9f3a"
             ],
             [
              0.8888888888888888,
              "#fdca26"
             ],
             [
              1,
              "#f0f921"
             ]
            ],
            "type": "heatmap"
           }
          ],
          "heatmapgl": [
           {
            "colorbar": {
             "outlinewidth": 0,
             "ticks": ""
            },
            "colorscale": [
             [
              0,
              "#0d0887"
             ],
             [
              0.1111111111111111,
              "#46039f"
             ],
             [
              0.2222222222222222,
              "#7201a8"
             ],
             [
              0.3333333333333333,
              "#9c179e"
             ],
             [
              0.4444444444444444,
              "#bd3786"
             ],
             [
              0.5555555555555556,
              "#d8576b"
             ],
             [
              0.6666666666666666,
              "#ed7953"
             ],
             [
              0.7777777777777778,
              "#fb9f3a"
             ],
             [
              0.8888888888888888,
              "#fdca26"
             ],
             [
              1,
              "#f0f921"
             ]
            ],
            "type": "heatmapgl"
           }
          ],
          "histogram": [
           {
            "marker": {
             "pattern": {
              "fillmode": "overlay",
              "size": 10,
              "solidity": 0.2
             }
            },
            "type": "histogram"
           }
          ],
          "histogram2d": [
           {
            "colorbar": {
             "outlinewidth": 0,
             "ticks": ""
            },
            "colorscale": [
             [
              0,
              "#0d0887"
             ],
             [
              0.1111111111111111,
              "#46039f"
             ],
             [
              0.2222222222222222,
              "#7201a8"
             ],
             [
              0.3333333333333333,
              "#9c179e"
             ],
             [
              0.4444444444444444,
              "#bd3786"
             ],
             [
              0.5555555555555556,
              "#d8576b"
             ],
             [
              0.6666666666666666,
              "#ed7953"
             ],
             [
              0.7777777777777778,
              "#fb9f3a"
             ],
             [
              0.8888888888888888,
              "#fdca26"
             ],
             [
              1,
              "#f0f921"
             ]
            ],
            "type": "histogram2d"
           }
          ],
          "histogram2dcontour": [
           {
            "colorbar": {
             "outlinewidth": 0,
             "ticks": ""
            },
            "colorscale": [
             [
              0,
              "#0d0887"
             ],
             [
              0.1111111111111111,
              "#46039f"
             ],
             [
              0.2222222222222222,
              "#7201a8"
             ],
             [
              0.3333333333333333,
              "#9c179e"
             ],
             [
              0.4444444444444444,
              "#bd3786"
             ],
             [
              0.5555555555555556,
              "#d8576b"
             ],
             [
              0.6666666666666666,
              "#ed7953"
             ],
             [
              0.7777777777777778,
              "#fb9f3a"
             ],
             [
              0.8888888888888888,
              "#fdca26"
             ],
             [
              1,
              "#f0f921"
             ]
            ],
            "type": "histogram2dcontour"
           }
          ],
          "mesh3d": [
           {
            "colorbar": {
             "outlinewidth": 0,
             "ticks": ""
            },
            "type": "mesh3d"
           }
          ],
          "parcoords": [
           {
            "line": {
             "colorbar": {
              "outlinewidth": 0,
              "ticks": ""
             }
            },
            "type": "parcoords"
           }
          ],
          "pie": [
           {
            "automargin": true,
            "type": "pie"
           }
          ],
          "scatter": [
           {
            "fillpattern": {
             "fillmode": "overlay",
             "size": 10,
             "solidity": 0.2
            },
            "type": "scatter"
           }
          ],
          "scatter3d": [
           {
            "line": {
             "colorbar": {
              "outlinewidth": 0,
              "ticks": ""
             }
            },
            "marker": {
             "colorbar": {
              "outlinewidth": 0,
              "ticks": ""
             }
            },
            "type": "scatter3d"
           }
          ],
          "scattercarpet": [
           {
            "marker": {
             "colorbar": {
              "outlinewidth": 0,
              "ticks": ""
             }
            },
            "type": "scattercarpet"
           }
          ],
          "scattergeo": [
           {
            "marker": {
             "colorbar": {
              "outlinewidth": 0,
              "ticks": ""
             }
            },
            "type": "scattergeo"
           }
          ],
          "scattergl": [
           {
            "marker": {
             "colorbar": {
              "outlinewidth": 0,
              "ticks": ""
             }
            },
            "type": "scattergl"
           }
          ],
          "scattermapbox": [
           {
            "marker": {
             "colorbar": {
              "outlinewidth": 0,
              "ticks": ""
             }
            },
            "type": "scattermapbox"
           }
          ],
          "scatterpolar": [
           {
            "marker": {
             "colorbar": {
              "outlinewidth": 0,
              "ticks": ""
             }
            },
            "type": "scatterpolar"
           }
          ],
          "scatterpolargl": [
           {
            "marker": {
             "colorbar": {
              "outlinewidth": 0,
              "ticks": ""
             }
            },
            "type": "scatterpolargl"
           }
          ],
          "scatterternary": [
           {
            "marker": {
             "colorbar": {
              "outlinewidth": 0,
              "ticks": ""
             }
            },
            "type": "scatterternary"
           }
          ],
          "surface": [
           {
            "colorbar": {
             "outlinewidth": 0,
             "ticks": ""
            },
            "colorscale": [
             [
              0,
              "#0d0887"
             ],
             [
              0.1111111111111111,
              "#46039f"
             ],
             [
              0.2222222222222222,
              "#7201a8"
             ],
             [
              0.3333333333333333,
              "#9c179e"
             ],
             [
              0.4444444444444444,
              "#bd3786"
             ],
             [
              0.5555555555555556,
              "#d8576b"
             ],
             [
              0.6666666666666666,
              "#ed7953"
             ],
             [
              0.7777777777777778,
              "#fb9f3a"
             ],
             [
              0.8888888888888888,
              "#fdca26"
             ],
             [
              1,
              "#f0f921"
             ]
            ],
            "type": "surface"
           }
          ],
          "table": [
           {
            "cells": {
             "fill": {
              "color": "#EBF0F8"
             },
             "line": {
              "color": "white"
             }
            },
            "header": {
             "fill": {
              "color": "#C8D4E3"
             },
             "line": {
              "color": "white"
             }
            },
            "type": "table"
           }
          ]
         },
         "layout": {
          "annotationdefaults": {
           "arrowcolor": "#2a3f5f",
           "arrowhead": 0,
           "arrowwidth": 1
          },
          "autotypenumbers": "strict",
          "coloraxis": {
           "colorbar": {
            "outlinewidth": 0,
            "ticks": ""
           }
          },
          "colorscale": {
           "diverging": [
            [
             0,
             "#8e0152"
            ],
            [
             0.1,
             "#c51b7d"
            ],
            [
             0.2,
             "#de77ae"
            ],
            [
             0.3,
             "#f1b6da"
            ],
            [
             0.4,
             "#fde0ef"
            ],
            [
             0.5,
             "#f7f7f7"
            ],
            [
             0.6,
             "#e6f5d0"
            ],
            [
             0.7,
             "#b8e186"
            ],
            [
             0.8,
             "#7fbc41"
            ],
            [
             0.9,
             "#4d9221"
            ],
            [
             1,
             "#276419"
            ]
           ],
           "sequential": [
            [
             0,
             "#0d0887"
            ],
            [
             0.1111111111111111,
             "#46039f"
            ],
            [
             0.2222222222222222,
             "#7201a8"
            ],
            [
             0.3333333333333333,
             "#9c179e"
            ],
            [
             0.4444444444444444,
             "#bd3786"
            ],
            [
             0.5555555555555556,
             "#d8576b"
            ],
            [
             0.6666666666666666,
             "#ed7953"
            ],
            [
             0.7777777777777778,
             "#fb9f3a"
            ],
            [
             0.8888888888888888,
             "#fdca26"
            ],
            [
             1,
             "#f0f921"
            ]
           ],
           "sequentialminus": [
            [
             0,
             "#0d0887"
            ],
            [
             0.1111111111111111,
             "#46039f"
            ],
            [
             0.2222222222222222,
             "#7201a8"
            ],
            [
             0.3333333333333333,
             "#9c179e"
            ],
            [
             0.4444444444444444,
             "#bd3786"
            ],
            [
             0.5555555555555556,
             "#d8576b"
            ],
            [
             0.6666666666666666,
             "#ed7953"
            ],
            [
             0.7777777777777778,
             "#fb9f3a"
            ],
            [
             0.8888888888888888,
             "#fdca26"
            ],
            [
             1,
             "#f0f921"
            ]
           ]
          },
          "colorway": [
           "#636efa",
           "#EF553B",
           "#00cc96",
           "#ab63fa",
           "#FFA15A",
           "#19d3f3",
           "#FF6692",
           "#B6E880",
           "#FF97FF",
           "#FECB52"
          ],
          "font": {
           "color": "#2a3f5f"
          },
          "geo": {
           "bgcolor": "white",
           "lakecolor": "white",
           "landcolor": "#E5ECF6",
           "showlakes": true,
           "showland": true,
           "subunitcolor": "white"
          },
          "hoverlabel": {
           "align": "left"
          },
          "hovermode": "closest",
          "mapbox": {
           "style": "light"
          },
          "paper_bgcolor": "white",
          "plot_bgcolor": "#E5ECF6",
          "polar": {
           "angularaxis": {
            "gridcolor": "white",
            "linecolor": "white",
            "ticks": ""
           },
           "bgcolor": "#E5ECF6",
           "radialaxis": {
            "gridcolor": "white",
            "linecolor": "white",
            "ticks": ""
           }
          },
          "scene": {
           "xaxis": {
            "backgroundcolor": "#E5ECF6",
            "gridcolor": "white",
            "gridwidth": 2,
            "linecolor": "white",
            "showbackground": true,
            "ticks": "",
            "zerolinecolor": "white"
           },
           "yaxis": {
            "backgroundcolor": "#E5ECF6",
            "gridcolor": "white",
            "gridwidth": 2,
            "linecolor": "white",
            "showbackground": true,
            "ticks": "",
            "zerolinecolor": "white"
           },
           "zaxis": {
            "backgroundcolor": "#E5ECF6",
            "gridcolor": "white",
            "gridwidth": 2,
            "linecolor": "white",
            "showbackground": true,
            "ticks": "",
            "zerolinecolor": "white"
           }
          },
          "shapedefaults": {
           "line": {
            "color": "#2a3f5f"
           }
          },
          "ternary": {
           "aaxis": {
            "gridcolor": "white",
            "linecolor": "white",
            "ticks": ""
           },
           "baxis": {
            "gridcolor": "white",
            "linecolor": "white",
            "ticks": ""
           },
           "bgcolor": "#E5ECF6",
           "caxis": {
            "gridcolor": "white",
            "linecolor": "white",
            "ticks": ""
           }
          },
          "title": {
           "x": 0.05
          },
          "xaxis": {
           "automargin": true,
           "gridcolor": "white",
           "linecolor": "white",
           "ticks": "",
           "title": {
            "standoff": 15
           },
           "zerolinecolor": "white",
           "zerolinewidth": 2
          },
          "yaxis": {
           "automargin": true,
           "gridcolor": "white",
           "linecolor": "white",
           "ticks": "",
           "title": {
            "standoff": 15
           },
           "zerolinecolor": "white",
           "zerolinewidth": 2
          }
         }
        },
        "title": {
         "text": "Slice Plot"
        },
        "width": 2700,
        "xaxis": {
         "anchor": "y",
         "domain": [
          0,
          0.09135802469135802
         ],
         "title": {
          "text": "batch_size_train"
         }
        },
        "xaxis2": {
         "anchor": "y2",
         "domain": [
          0.11358024691358025,
          0.20493827160493827
         ],
         "title": {
          "text": "batch_size_val"
         }
        },
        "xaxis3": {
         "anchor": "y3",
         "domain": [
          0.2271604938271605,
          0.31851851851851853
         ],
         "title": {
          "text": "dropout_2"
         }
        },
        "xaxis4": {
         "anchor": "y4",
         "domain": [
          0.34074074074074073,
          0.43209876543209874
         ],
         "title": {
          "text": "input_size_LSTM"
         }
        },
        "xaxis5": {
         "anchor": "y5",
         "domain": [
          0.454320987654321,
          0.5456790123456791
         ],
         "title": {
          "text": "l1_ratio_reg"
         }
        },
        "xaxis6": {
         "anchor": "y6",
         "domain": [
          0.5679012345679012,
          0.6592592592592592
         ],
         "title": {
          "text": "lr"
         },
         "type": "log"
        },
        "xaxis7": {
         "anchor": "y7",
         "domain": [
          0.6814814814814815,
          0.7728395061728395
         ],
         "title": {
          "text": "lr_gamma"
         }
        },
        "xaxis8": {
         "anchor": "y8",
         "domain": [
          0.7950617283950617,
          0.8864197530864197
         ],
         "title": {
          "text": "n_hidden_units"
         }
        },
        "xaxis9": {
         "anchor": "y9",
         "domain": [
          0.908641975308642,
          1
         ],
         "title": {
          "text": "seq_length_LSTM"
         }
        },
        "yaxis": {
         "anchor": "x",
         "domain": [
          0,
          1
         ],
         "title": {
          "text": "Objective Value"
         }
        },
        "yaxis2": {
         "anchor": "x2",
         "domain": [
          0,
          1
         ],
         "matches": "y",
         "showticklabels": false
        },
        "yaxis3": {
         "anchor": "x3",
         "domain": [
          0,
          1
         ],
         "matches": "y",
         "showticklabels": false
        },
        "yaxis4": {
         "anchor": "x4",
         "domain": [
          0,
          1
         ],
         "matches": "y",
         "showticklabels": false
        },
        "yaxis5": {
         "anchor": "x5",
         "domain": [
          0,
          1
         ],
         "matches": "y",
         "showticklabels": false
        },
        "yaxis6": {
         "anchor": "x6",
         "domain": [
          0,
          1
         ],
         "matches": "y",
         "showticklabels": false
        },
        "yaxis7": {
         "anchor": "x7",
         "domain": [
          0,
          1
         ],
         "matches": "y",
         "showticklabels": false
        },
        "yaxis8": {
         "anchor": "x8",
         "domain": [
          0,
          1
         ],
         "matches": "y",
         "showticklabels": false
        },
        "yaxis9": {
         "anchor": "x9",
         "domain": [
          0,
          1
         ],
         "matches": "y",
         "showticklabels": false
        }
       }
      }
     },
     "metadata": {},
     "output_type": "display_data"
    }
   ],
   "source": [
    "#Plotting the accuracies for each hyperparameter for each trial.\n",
    "    \n",
    "optuna.visualization.plot_slice(study)"
   ]
  },
  {
   "cell_type": "code",
   "execution_count": 8,
   "metadata": {},
   "outputs": [
    {
     "data": {
      "application/vnd.plotly.v1+json": {
       "config": {
        "plotlyServerURL": "https://plot.ly"
       },
       "data": [
        {
         "colorbar": {
          "title": {
           "text": "Objective Value"
          }
         },
         "colorscale": [
          [
           0,
           "rgb(247,251,255)"
          ],
          [
           0.125,
           "rgb(222,235,247)"
          ],
          [
           0.25,
           "rgb(198,219,239)"
          ],
          [
           0.375,
           "rgb(158,202,225)"
          ],
          [
           0.5,
           "rgb(107,174,214)"
          ],
          [
           0.625,
           "rgb(66,146,198)"
          ],
          [
           0.75,
           "rgb(33,113,181)"
          ],
          [
           0.875,
           "rgb(8,81,156)"
          ],
          [
           1,
           "rgb(8,48,107)"
          ]
         ],
         "connectgaps": true,
         "contours": {
          "coloring": "heatmap"
         },
         "hoverinfo": "none",
         "line": {
          "smoothing": 1.3
         },
         "reversescale": false,
         "type": "contour",
         "x": [
          44.75,
          45,
          46,
          47,
          48,
          49,
          50,
          50.25
         ],
         "y": [
          11.85,
          12,
          13,
          14,
          15,
          15.15
         ],
         "z": [
          [
           null,
           null,
           null,
           null,
           null,
           null,
           null,
           null
          ],
          [
           null,
           0.5875154733657837,
           null,
           null,
           0.6277052362759908,
           0.6378891865412394,
           0.653988778591156,
           null
          ],
          [
           null,
           null,
           0.6046014229456583,
           null,
           0.6413587530454,
           0.6502984563509623,
           0.6383247574170431,
           null
          ],
          [
           null,
           0.6399866739908854,
           null,
           0.6212150454521179,
           0.6128404339154562,
           0.6427735884984335,
           null,
           null
          ],
          [
           null,
           null,
           0.6158506472905477,
           null,
           0.6167892416318258,
           0.632149338722229,
           null,
           null
          ],
          [
           null,
           null,
           null,
           null,
           null,
           null,
           null,
           null
          ]
         ]
        },
        {
         "marker": {
          "color": "black",
          "line": {
           "color": "Gray",
           "width": 2
          }
         },
         "mode": "markers",
         "name": "Feasible Trial",
         "showlegend": false,
         "type": "scatter",
         "x": [
          46,
          45,
          49,
          46,
          50,
          49,
          47,
          49,
          49,
          50,
          49,
          50,
          48,
          47,
          48,
          49,
          48,
          48,
          50,
          50,
          45,
          48,
          48,
          49
         ],
         "y": [
          15,
          14,
          13,
          13,
          12,
          14,
          14,
          15,
          12,
          13,
          14,
          13,
          14,
          14,
          13,
          12,
          12,
          15,
          13,
          12,
          12,
          13,
          12,
          13
         ]
        },
        {
         "marker": {
          "color": "#cccccc",
          "line": {
           "color": "Gray",
           "width": 2
          }
         },
         "mode": "markers",
         "name": "Infeasible Trial",
         "showlegend": false,
         "type": "scatter",
         "x": [],
         "y": []
        }
       ],
       "layout": {
        "template": {
         "data": {
          "bar": [
           {
            "error_x": {
             "color": "#2a3f5f"
            },
            "error_y": {
             "color": "#2a3f5f"
            },
            "marker": {
             "line": {
              "color": "#E5ECF6",
              "width": 0.5
             },
             "pattern": {
              "fillmode": "overlay",
              "size": 10,
              "solidity": 0.2
             }
            },
            "type": "bar"
           }
          ],
          "barpolar": [
           {
            "marker": {
             "line": {
              "color": "#E5ECF6",
              "width": 0.5
             },
             "pattern": {
              "fillmode": "overlay",
              "size": 10,
              "solidity": 0.2
             }
            },
            "type": "barpolar"
           }
          ],
          "carpet": [
           {
            "aaxis": {
             "endlinecolor": "#2a3f5f",
             "gridcolor": "white",
             "linecolor": "white",
             "minorgridcolor": "white",
             "startlinecolor": "#2a3f5f"
            },
            "baxis": {
             "endlinecolor": "#2a3f5f",
             "gridcolor": "white",
             "linecolor": "white",
             "minorgridcolor": "white",
             "startlinecolor": "#2a3f5f"
            },
            "type": "carpet"
           }
          ],
          "choropleth": [
           {
            "colorbar": {
             "outlinewidth": 0,
             "ticks": ""
            },
            "type": "choropleth"
           }
          ],
          "contour": [
           {
            "colorbar": {
             "outlinewidth": 0,
             "ticks": ""
            },
            "colorscale": [
             [
              0,
              "#0d0887"
             ],
             [
              0.1111111111111111,
              "#46039f"
             ],
             [
              0.2222222222222222,
              "#7201a8"
             ],
             [
              0.3333333333333333,
              "#9c179e"
             ],
             [
              0.4444444444444444,
              "#bd3786"
             ],
             [
              0.5555555555555556,
              "#d8576b"
             ],
             [
              0.6666666666666666,
              "#ed7953"
             ],
             [
              0.7777777777777778,
              "#fb9f3a"
             ],
             [
              0.8888888888888888,
              "#fdca26"
             ],
             [
              1,
              "#f0f921"
             ]
            ],
            "type": "contour"
           }
          ],
          "contourcarpet": [
           {
            "colorbar": {
             "outlinewidth": 0,
             "ticks": ""
            },
            "type": "contourcarpet"
           }
          ],
          "heatmap": [
           {
            "colorbar": {
             "outlinewidth": 0,
             "ticks": ""
            },
            "colorscale": [
             [
              0,
              "#0d0887"
             ],
             [
              0.1111111111111111,
              "#46039f"
             ],
             [
              0.2222222222222222,
              "#7201a8"
             ],
             [
              0.3333333333333333,
              "#9c179e"
             ],
             [
              0.4444444444444444,
              "#bd3786"
             ],
             [
              0.5555555555555556,
              "#d8576b"
             ],
             [
              0.6666666666666666,
              "#ed7953"
             ],
             [
              0.7777777777777778,
              "#fb9f3a"
             ],
             [
              0.8888888888888888,
              "#fdca26"
             ],
             [
              1,
              "#f0f921"
             ]
            ],
            "type": "heatmap"
           }
          ],
          "heatmapgl": [
           {
            "colorbar": {
             "outlinewidth": 0,
             "ticks": ""
            },
            "colorscale": [
             [
              0,
              "#0d0887"
             ],
             [
              0.1111111111111111,
              "#46039f"
             ],
             [
              0.2222222222222222,
              "#7201a8"
             ],
             [
              0.3333333333333333,
              "#9c179e"
             ],
             [
              0.4444444444444444,
              "#bd3786"
             ],
             [
              0.5555555555555556,
              "#d8576b"
             ],
             [
              0.6666666666666666,
              "#ed7953"
             ],
             [
              0.7777777777777778,
              "#fb9f3a"
             ],
             [
              0.8888888888888888,
              "#fdca26"
             ],
             [
              1,
              "#f0f921"
             ]
            ],
            "type": "heatmapgl"
           }
          ],
          "histogram": [
           {
            "marker": {
             "pattern": {
              "fillmode": "overlay",
              "size": 10,
              "solidity": 0.2
             }
            },
            "type": "histogram"
           }
          ],
          "histogram2d": [
           {
            "colorbar": {
             "outlinewidth": 0,
             "ticks": ""
            },
            "colorscale": [
             [
              0,
              "#0d0887"
             ],
             [
              0.1111111111111111,
              "#46039f"
             ],
             [
              0.2222222222222222,
              "#7201a8"
             ],
             [
              0.3333333333333333,
              "#9c179e"
             ],
             [
              0.4444444444444444,
              "#bd3786"
             ],
             [
              0.5555555555555556,
              "#d8576b"
             ],
             [
              0.6666666666666666,
              "#ed7953"
             ],
             [
              0.7777777777777778,
              "#fb9f3a"
             ],
             [
              0.8888888888888888,
              "#fdca26"
             ],
             [
              1,
              "#f0f921"
             ]
            ],
            "type": "histogram2d"
           }
          ],
          "histogram2dcontour": [
           {
            "colorbar": {
             "outlinewidth": 0,
             "ticks": ""
            },
            "colorscale": [
             [
              0,
              "#0d0887"
             ],
             [
              0.1111111111111111,
              "#46039f"
             ],
             [
              0.2222222222222222,
              "#7201a8"
             ],
             [
              0.3333333333333333,
              "#9c179e"
             ],
             [
              0.4444444444444444,
              "#bd3786"
             ],
             [
              0.5555555555555556,
              "#d8576b"
             ],
             [
              0.6666666666666666,
              "#ed7953"
             ],
             [
              0.7777777777777778,
              "#fb9f3a"
             ],
             [
              0.8888888888888888,
              "#fdca26"
             ],
             [
              1,
              "#f0f921"
             ]
            ],
            "type": "histogram2dcontour"
           }
          ],
          "mesh3d": [
           {
            "colorbar": {
             "outlinewidth": 0,
             "ticks": ""
            },
            "type": "mesh3d"
           }
          ],
          "parcoords": [
           {
            "line": {
             "colorbar": {
              "outlinewidth": 0,
              "ticks": ""
             }
            },
            "type": "parcoords"
           }
          ],
          "pie": [
           {
            "automargin": true,
            "type": "pie"
           }
          ],
          "scatter": [
           {
            "fillpattern": {
             "fillmode": "overlay",
             "size": 10,
             "solidity": 0.2
            },
            "type": "scatter"
           }
          ],
          "scatter3d": [
           {
            "line": {
             "colorbar": {
              "outlinewidth": 0,
              "ticks": ""
             }
            },
            "marker": {
             "colorbar": {
              "outlinewidth": 0,
              "ticks": ""
             }
            },
            "type": "scatter3d"
           }
          ],
          "scattercarpet": [
           {
            "marker": {
             "colorbar": {
              "outlinewidth": 0,
              "ticks": ""
             }
            },
            "type": "scattercarpet"
           }
          ],
          "scattergeo": [
           {
            "marker": {
             "colorbar": {
              "outlinewidth": 0,
              "ticks": ""
             }
            },
            "type": "scattergeo"
           }
          ],
          "scattergl": [
           {
            "marker": {
             "colorbar": {
              "outlinewidth": 0,
              "ticks": ""
             }
            },
            "type": "scattergl"
           }
          ],
          "scattermapbox": [
           {
            "marker": {
             "colorbar": {
              "outlinewidth": 0,
              "ticks": ""
             }
            },
            "type": "scattermapbox"
           }
          ],
          "scatterpolar": [
           {
            "marker": {
             "colorbar": {
              "outlinewidth": 0,
              "ticks": ""
             }
            },
            "type": "scatterpolar"
           }
          ],
          "scatterpolargl": [
           {
            "marker": {
             "colorbar": {
              "outlinewidth": 0,
              "ticks": ""
             }
            },
            "type": "scatterpolargl"
           }
          ],
          "scatterternary": [
           {
            "marker": {
             "colorbar": {
              "outlinewidth": 0,
              "ticks": ""
             }
            },
            "type": "scatterternary"
           }
          ],
          "surface": [
           {
            "colorbar": {
             "outlinewidth": 0,
             "ticks": ""
            },
            "colorscale": [
             [
              0,
              "#0d0887"
             ],
             [
              0.1111111111111111,
              "#46039f"
             ],
             [
              0.2222222222222222,
              "#7201a8"
             ],
             [
              0.3333333333333333,
              "#9c179e"
             ],
             [
              0.4444444444444444,
              "#bd3786"
             ],
             [
              0.5555555555555556,
              "#d8576b"
             ],
             [
              0.6666666666666666,
              "#ed7953"
             ],
             [
              0.7777777777777778,
              "#fb9f3a"
             ],
             [
              0.8888888888888888,
              "#fdca26"
             ],
             [
              1,
              "#f0f921"
             ]
            ],
            "type": "surface"
           }
          ],
          "table": [
           {
            "cells": {
             "fill": {
              "color": "#EBF0F8"
             },
             "line": {
              "color": "white"
             }
            },
            "header": {
             "fill": {
              "color": "#C8D4E3"
             },
             "line": {
              "color": "white"
             }
            },
            "type": "table"
           }
          ]
         },
         "layout": {
          "annotationdefaults": {
           "arrowcolor": "#2a3f5f",
           "arrowhead": 0,
           "arrowwidth": 1
          },
          "autotypenumbers": "strict",
          "coloraxis": {
           "colorbar": {
            "outlinewidth": 0,
            "ticks": ""
           }
          },
          "colorscale": {
           "diverging": [
            [
             0,
             "#8e0152"
            ],
            [
             0.1,
             "#c51b7d"
            ],
            [
             0.2,
             "#de77ae"
            ],
            [
             0.3,
             "#f1b6da"
            ],
            [
             0.4,
             "#fde0ef"
            ],
            [
             0.5,
             "#f7f7f7"
            ],
            [
             0.6,
             "#e6f5d0"
            ],
            [
             0.7,
             "#b8e186"
            ],
            [
             0.8,
             "#7fbc41"
            ],
            [
             0.9,
             "#4d9221"
            ],
            [
             1,
             "#276419"
            ]
           ],
           "sequential": [
            [
             0,
             "#0d0887"
            ],
            [
             0.1111111111111111,
             "#46039f"
            ],
            [
             0.2222222222222222,
             "#7201a8"
            ],
            [
             0.3333333333333333,
             "#9c179e"
            ],
            [
             0.4444444444444444,
             "#bd3786"
            ],
            [
             0.5555555555555556,
             "#d8576b"
            ],
            [
             0.6666666666666666,
             "#ed7953"
            ],
            [
             0.7777777777777778,
             "#fb9f3a"
            ],
            [
             0.8888888888888888,
             "#fdca26"
            ],
            [
             1,
             "#f0f921"
            ]
           ],
           "sequentialminus": [
            [
             0,
             "#0d0887"
            ],
            [
             0.1111111111111111,
             "#46039f"
            ],
            [
             0.2222222222222222,
             "#7201a8"
            ],
            [
             0.3333333333333333,
             "#9c179e"
            ],
            [
             0.4444444444444444,
             "#bd3786"
            ],
            [
             0.5555555555555556,
             "#d8576b"
            ],
            [
             0.6666666666666666,
             "#ed7953"
            ],
            [
             0.7777777777777778,
             "#fb9f3a"
            ],
            [
             0.8888888888888888,
             "#fdca26"
            ],
            [
             1,
             "#f0f921"
            ]
           ]
          },
          "colorway": [
           "#636efa",
           "#EF553B",
           "#00cc96",
           "#ab63fa",
           "#FFA15A",
           "#19d3f3",
           "#FF6692",
           "#B6E880",
           "#FF97FF",
           "#FECB52"
          ],
          "font": {
           "color": "#2a3f5f"
          },
          "geo": {
           "bgcolor": "white",
           "lakecolor": "white",
           "landcolor": "#E5ECF6",
           "showlakes": true,
           "showland": true,
           "subunitcolor": "white"
          },
          "hoverlabel": {
           "align": "left"
          },
          "hovermode": "closest",
          "mapbox": {
           "style": "light"
          },
          "paper_bgcolor": "white",
          "plot_bgcolor": "#E5ECF6",
          "polar": {
           "angularaxis": {
            "gridcolor": "white",
            "linecolor": "white",
            "ticks": ""
           },
           "bgcolor": "#E5ECF6",
           "radialaxis": {
            "gridcolor": "white",
            "linecolor": "white",
            "ticks": ""
           }
          },
          "scene": {
           "xaxis": {
            "backgroundcolor": "#E5ECF6",
            "gridcolor": "white",
            "gridwidth": 2,
            "linecolor": "white",
            "showbackground": true,
            "ticks": "",
            "zerolinecolor": "white"
           },
           "yaxis": {
            "backgroundcolor": "#E5ECF6",
            "gridcolor": "white",
            "gridwidth": 2,
            "linecolor": "white",
            "showbackground": true,
            "ticks": "",
            "zerolinecolor": "white"
           },
           "zaxis": {
            "backgroundcolor": "#E5ECF6",
            "gridcolor": "white",
            "gridwidth": 2,
            "linecolor": "white",
            "showbackground": true,
            "ticks": "",
            "zerolinecolor": "white"
           }
          },
          "shapedefaults": {
           "line": {
            "color": "#2a3f5f"
           }
          },
          "ternary": {
           "aaxis": {
            "gridcolor": "white",
            "linecolor": "white",
            "ticks": ""
           },
           "baxis": {
            "gridcolor": "white",
            "linecolor": "white",
            "ticks": ""
           },
           "bgcolor": "#E5ECF6",
           "caxis": {
            "gridcolor": "white",
            "linecolor": "white",
            "ticks": ""
           }
          },
          "title": {
           "x": 0.05
          },
          "xaxis": {
           "automargin": true,
           "gridcolor": "white",
           "linecolor": "white",
           "ticks": "",
           "title": {
            "standoff": 15
           },
           "zerolinecolor": "white",
           "zerolinewidth": 2
          },
          "yaxis": {
           "automargin": true,
           "gridcolor": "white",
           "linecolor": "white",
           "ticks": "",
           "title": {
            "standoff": 15
           },
           "zerolinecolor": "white",
           "zerolinewidth": 2
          }
         }
        },
        "title": {
         "text": "Contour Plot"
        },
        "xaxis": {
         "range": [
          44.75,
          50.25
         ],
         "title": {
          "text": "n_hidden_units"
         }
        },
        "yaxis": {
         "range": [
          11.85,
          15.15
         ],
         "title": {
          "text": "seq_length_LSTM"
         }
        }
       }
      }
     },
     "metadata": {},
     "output_type": "display_data"
    }
   ],
   "source": [
    "# Plotting the optimization history of the study.\n",
    "\n",
    "optuna.visualization.plot_optimization_history(study)\n",
    "\n",
    "#Plotting the accuracies for each hyperparameter for each trial.\n",
    "    \n",
    "optuna.visualization.plot_slice(study)\n",
    "\n",
    "# Plotting the accuracy surface for the hyperparameters involved in the random forest model.\n",
    "\n",
    "optuna.visualization.plot_contour(study, params=[\"seq_length_LSTM\", \"n_hidden_units\"]) "
   ]
  },
  {
   "cell_type": "code",
   "execution_count": null,
   "metadata": {},
   "outputs": [],
   "source": []
  }
 ],
 "metadata": {
  "kernelspec": {
   "display_name": "sinthlab",
   "language": "python",
   "name": "python3"
  },
  "language_info": {
   "codemirror_mode": {
    "name": "ipython",
    "version": 3
   },
   "file_extension": ".py",
   "mimetype": "text/x-python",
   "name": "python",
   "nbconvert_exporter": "python",
   "pygments_lexer": "ipython3",
   "version": "3.12.2"
  }
 },
 "nbformat": 4,
 "nbformat_minor": 2
}
