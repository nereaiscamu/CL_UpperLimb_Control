{
 "cells": [
  {
   "cell_type": "code",
   "execution_count": 1,
   "metadata": {},
   "outputs": [
    {
     "name": "stderr",
     "output_type": "stream",
     "text": [
      "c:\\Users\\nerea\\anaconda3\\envs\\sinthlab\\Lib\\site-packages\\tqdm\\auto.py:21: TqdmWarning: IProgress not found. Please update jupyter and ipywidgets. See https://ipywidgets.readthedocs.io/en/stable/user_install.html\n",
      "  from .autonotebook import tqdm as notebook_tqdm\n"
     ]
    }
   ],
   "source": [
    "import os\n",
    "import numpy as np\n",
    "import pandas as pd\n",
    "import xarray as xr\n",
    "\n",
    "from sklearn.metrics import *\n",
    "from copy import deepcopy\n",
    "import matplotlib.pyplot as plt\n",
    "import math\n",
    "\n",
    "\n",
    "from tqdm.auto import tqdm\n",
    "import seaborn as sns\n",
    "\n",
    "from src.helpers import *\n",
    "from src.visualize import *\n",
    "\n",
    "import torch\n",
    "import torch.nn as nn\n",
    "import torch.nn.functional as F\n",
    "import torch.optim as optim\n",
    "from torch.optim import lr_scheduler\n",
    "import torch.utils.data as data\n",
    "from torch.utils.data import Dataset\n",
    "import pickle\n",
    "\n",
    "import optuna\n",
    "from src.optuna_functions import * \n",
    "\n",
    "\n",
    "device = torch.device('cpu') #suposed to be cuda\n",
    "dtype = torch.float32\n",
    "\n",
    "import sys\n",
    "sys.path.append(\"c:\\\\Users\\\\nerea\\\\OneDrive\\\\Documentos\\\\EPFL_MASTER\\\\PDM\\\\Project\\\\PyalData\")\n",
    "# to change for the actual path where PyalData has been cloned"
   ]
  },
  {
   "cell_type": "code",
   "execution_count": 2,
   "metadata": {},
   "outputs": [],
   "source": [
    "type = 'stim'"
   ]
  },
  {
   "cell_type": "code",
   "execution_count": 3,
   "metadata": {},
   "outputs": [
    {
     "name": "stdout",
     "output_type": "stream",
     "text": [
      "Test trials  8\n",
      "Val trials 7\n",
      "We are testing the optimization method on fold  0\n"
     ]
    }
   ],
   "source": [
    "path_to_data = './Data/Processed_Data'\n",
    "if type == 'baseline':\n",
    "        baseline_data = os.path.join(path_to_data, 'Tidy_Sansa_11_04.pkl')\n",
    "\n",
    "        with open(baseline_data, 'rb') as fp:\n",
    "                df_baseline = pickle.load(fp)\n",
    "\n",
    "\n",
    "        X_train, y_train, X_val, y_val, X_test,\\\n",
    "        y_test, info_train, info_val, info_test = \\\n",
    "        train_test_split(df_baseline, train_variable = 'both_rates', \\\n",
    "                        target_variable = 'target_pos', num_folds = 5)\n",
    "elif type == 'stim':\n",
    "        stim_data = os.path.join(path_to_data, 'Tidy_Sansa_13_04.pkl')\n",
    "        with open(stim_data, 'rb') as fp:\n",
    "                df = pickle.load(fp)\n",
    "        df_stim = df.loc[df.type == 'TONIC'].reset_index()\n",
    "\n",
    "        X_train, y_train, X_val, y_val, X_test,\\\n",
    "        y_test, info_train, info_val, info_test = \\\n",
    "        train_test_split(df_stim, train_variable = 'both_rates', \\\n",
    "                        target_variable = 'target_pos', num_folds = 5)\n",
    "\n",
    "# Test one of the folds first\n",
    "fold_num = 'fold0'\n",
    "fold = 0\n",
    "\n",
    "print('We are testing the optimization method on fold ', fold)\n",
    "\n",
    "\n",
    "X_train = X_train[fold_num]\n",
    "X_val = X_val[fold_num]\n",
    "X_test = X_test[fold_num]\n",
    "y_test = y_test[fold_num]\n",
    "y_train = y_train[fold_num]\n",
    "y_val = y_val[fold_num]\n",
    "\n",
    "\n",
    "# Specify that we want our tensors on the GPU and in float32\n",
    "device = torch.device('cpu') #suposed to be cuda\n",
    "dtype = torch.float32\n",
    "path_to_models = './Models'\n",
    "\n",
    "num_dim_output = y_train.shape[1]\n",
    "num_features = X_train.shape[1]\n",
    "\n",
    "seq_length = 75\n",
    "\n",
    "# Reshape x_train to match the number of columns in the model's input layer\n",
    "xx_train = X_train.reshape(X_train.shape[0] // seq_length, seq_length, X_train.shape[1])  \n",
    "# Reshape y_train to match the number of neurons in the model's output layer\n",
    "yy_train = y_train.reshape(y_train.shape[0] // seq_length, seq_length, y_train.shape[1])  \n",
    "\n",
    "xx_val = X_val.reshape(X_val.shape[0] // seq_length, seq_length, X_val.shape[1])  \n",
    "yy_val = y_val.reshape(y_val.shape[0] // seq_length, seq_length, y_val.shape[1])  \n",
    "\n",
    "xx_test = X_test.reshape(X_test.shape[0] // seq_length, seq_length, X_test.shape[1])  \n",
    "yy_test = y_test.reshape(y_test.shape[0] // seq_length, seq_length, y_test.shape[1])  \n",
    "\n",
    "seed = 42\n",
    "torch.manual_seed(seed)\n",
    "\n",
    "Reg = globals().get(Regularizer_LSTM)\n"
   ]
  },
  {
   "cell_type": "code",
   "execution_count": 4,
   "metadata": {},
   "outputs": [],
   "source": [
    "# Fit the LSTM model\n",
    "def train_model_optuna(trial):\n",
    "    \n",
    "    X = xx_train\n",
    "    Y = yy_train\n",
    "    X_val = xx_val\n",
    "    Y_val = yy_val\n",
    "\n",
    "    num_epochs= 1000\n",
    "    early_stop = 5\n",
    "\n",
    "    model = CausalTemporalLSTM_Optuna(trial, num_features= num_features, \n",
    "                out_dims = num_dim_output).to(device)\n",
    "    \n",
    "    # Set up the optimizer with the specified learning rate\n",
    "    #optimizer = optim.Adam(model.parameters(), lr=lr)\n",
    "    optimizer_name = 'Adam'\n",
    "    lr = trial.suggest_float('lr', 1e-5, 1e-2, log = True)\n",
    "    optimizer = getattr(optim, optimizer_name)(model.parameters(), lr = lr)\n",
    "\n",
    "    lr_step_size = 10 # trial.suggest_int('lr_step_size', 5, 15)\n",
    "    lr_gamma = trial.suggest_float('lr_gamma', 1, 1.5)\n",
    "    # Set up a learning rate scheduler\n",
    "    scheduler = lr_scheduler.StepLR(optimizer, \n",
    "                                    step_size=lr_step_size, \n",
    "                                    gamma=lr_gamma)\n",
    "        \n",
    "    # Keep track of the best model's parameters and loss\n",
    "    best_model_wts = deepcopy(model.state_dict())\n",
    "    best_loss = 1e8\n",
    "\n",
    "    # Enable anomaly detection for debugging\n",
    "    torch.autograd.set_detect_anomaly(True)\n",
    "\n",
    "    # Track the train and validation loss\n",
    "    train_losses = []\n",
    "    val_losses = []\n",
    "    # Counters for early stopping\n",
    "    not_increased = 0\n",
    "    end_train = 0\n",
    "    \n",
    "    # Reshape data for the LSTM\n",
    "    seq_length_LSTM = trial.suggest_int('seq_length_LSTM', 5, 20)\n",
    "    train_dataset = SequenceDataset(Y,X,seq_length_LSTM)\n",
    "    val_dataset = SequenceDataset(Y_val,X_val,seq_length_LSTM)\n",
    "\n",
    "\n",
    "    batch_size_train = trial.suggest_int('batch_size_train', 20, 50)\n",
    "    batch_size_val = trial.suggest_int('batch_size_val',20, 50)\n",
    "    loader_train = data.DataLoader(train_dataset, batch_size=batch_size_train, shuffle=True)\n",
    "    loader_val = data.DataLoader(val_dataset, batch_size=batch_size_val, shuffle=True)\n",
    "\n",
    "    # hyperparameter for huber loss\n",
    "    delta = trial.suggest_int('huber_delta', 5, 10) #was 8 before\n",
    "\n",
    "    # hyperparameter for regularizer\n",
    "    alpha = trial.suggest_float('alpha_reg', 1e-7, 1e-3, log = True) # was 1e-5 before\n",
    "    l1_ratio =trial.suggest_float('l1_ratio_reg', 0.2, 0.8) #was 0.5 before\n",
    "\n",
    "    # Loop through epochs\n",
    "    for epoch in np.arange(num_epochs):\n",
    "        for phase in ['train', 'val']:\n",
    "            # set model to train/validation as appropriate\n",
    "            if phase == 'train':\n",
    "                model.train()\n",
    "                loader = loader_train\n",
    "            else:\n",
    "                model.eval()\n",
    "                loader = loader_val\n",
    "\n",
    "            # Initialize variables to track loss and batch size\n",
    "            running_loss = 0\n",
    "            running_size = 0        \n",
    "\n",
    "            # Iterate over batches in the loader\n",
    "            for X_, y_ in loader:\n",
    "                #X_ = X_.to('cuda')\n",
    "                #y_ = y_.to('cuda')\n",
    "                if phase == \"train\":\n",
    "                    with torch.set_grad_enabled(True):\n",
    "                        optimizer.zero_grad()\n",
    "\n",
    "                        output_t = model(X_)\n",
    "                        output_t = torch.squeeze(output_t)\n",
    "\n",
    "\n",
    "                        loss_t = huber_loss(output_t, y_, delta)\n",
    "                        \n",
    "                        # Add regularization to the loss in the training phase\n",
    "                        loss_t += Regularizer_LSTM(model, l1_ratio, alpha)\n",
    "\n",
    "                        # Compute gradients and perform an optimization step\n",
    "                        loss_t.backward()\n",
    "                        optimizer.step()\n",
    "                else:\n",
    "                    # just compute the loss in validation phase\n",
    "                    output_t = model(X_)\n",
    "                    output_t = torch.squeeze(output_t)\n",
    "\n",
    "                    loss_t = huber_loss(output_t, y_, delta)\n",
    "\n",
    "                # Ensure the loss is finite\n",
    "                assert torch.isfinite(loss_t)\n",
    "                running_loss += loss_t.item()\n",
    "                running_size += 1\n",
    "\n",
    "            # compute the train/validation loss and update the best\n",
    "            # model parameters if this is the lowest validation loss yet\n",
    "            running_loss /= running_size\n",
    "            if phase == \"train\":\n",
    "                train_losses.append(running_loss)\n",
    "            else:\n",
    "                val_losses.append(running_loss)\n",
    "                \n",
    "                # Update best model parameters if validation loss improves\n",
    "                if running_loss < best_loss:\n",
    "                    best_loss = running_loss\n",
    "                    best_model_wts = deepcopy(model.state_dict())\n",
    "                    not_increased = 0\n",
    "                else:\n",
    "                    # Perform early stopping if validation loss doesn't improve\n",
    "                    if epoch > 10:\n",
    "                        not_increased += 1\n",
    "                        # print('Not increased : {}/5'.format(not_increased))\n",
    "                        if not_increased == early_stop:\n",
    "                            print('Decrease LR')\n",
    "                            for g in optimizer.param_groups:\n",
    "                                g['lr'] = g['lr'] / 2\n",
    "                            not_increased = 0\n",
    "                            end_train += 1\n",
    "                        \n",
    "                        if end_train == 2:\n",
    "                            model.load_state_dict(best_model_wts)\n",
    "                            y_true_val, y_pred_val = reshape_to_eval(xx_val,yy_val, model)\n",
    "                            ev_val = explained_variance_score(y_true_val, y_pred_val)\n",
    "                            return ev_val  # here change to not return a list but a single value for the trial to analyze\n",
    "                        \n",
    "\n",
    "        # Update learning rate with the scheduler\n",
    "        scheduler.step()\n",
    "        print(\"Epoch {:03} Train {:.4f} Val {:.4f}\".format(epoch, train_losses[-1], val_losses[-1]))\n",
    "\n",
    "\n",
    "        y_true_val_epoch, y_pred_val_epoch = reshape_to_eval(xx_val,yy_val, model)\n",
    "        ev_val_epoch = explained_variance_score(y_true_val_epoch, y_pred_val_epoch)\n",
    "        trial.report(ev_val_epoch, epoch)\n",
    "\n",
    "        if trial.should_prune():\n",
    "            raise optuna.exceptions.TrialPruned()\n",
    "        \n",
    "    # load best model weights\n",
    "    model.load_state_dict(best_model_wts)\n",
    "    \n",
    "    y_true_val, y_pred_val = reshape_to_eval(xx_val,yy_val, model)\n",
    "    ev_val = explained_variance_score(y_true_val, y_pred_val)\n",
    "\n",
    "    return ev_val\n"
   ]
  },
  {
   "cell_type": "code",
   "execution_count": 5,
   "metadata": {},
   "outputs": [],
   "source": [
    "def reshape_to_eval(x,y, model):\n",
    "    to_t_eval =  lambda array: torch.tensor(array, device='cpu', dtype=dtype)  \n",
    "    x = to_t_eval(x) \n",
    "    y = to_t_eval(y)\n",
    "    y_pred = model(x)\n",
    "    y_array = y.detach().cpu().numpy()\n",
    "    y_pred_array = y_pred.detach().cpu().numpy()\n",
    "\n",
    "    # Reshape tensors to 2D arrays (flatten the batch and sequence dimensions)\n",
    "    y_pred_2D = y_pred_array.reshape(-1, y_pred_array.shape[-1])\n",
    "    y_true_2D = y_array.reshape(-1, y_array.shape[-1])\n",
    "    \n",
    "    return y_true_2D, y_pred_2D"
   ]
  },
  {
   "cell_type": "code",
   "execution_count": 6,
   "metadata": {},
   "outputs": [
    {
     "name": "stderr",
     "output_type": "stream",
     "text": [
      "[I 2024-04-10 16:31:58,891] A new study created in memory with name: no-name-a492c491-9ce9-482e-b3a0-051993dbd14f\n"
     ]
    },
    {
     "name": "stdout",
     "output_type": "stream",
     "text": [
      "Epoch 000 Train 0.3639 Val 0.0248\n",
      "Epoch 001 Train 0.4548 Val 0.0249\n",
      "Epoch 002 Train 0.5190 Val 0.0234\n",
      "Epoch 003 Train 0.5814 Val 0.0231\n",
      "Epoch 004 Train 0.6541 Val 0.0231\n",
      "Epoch 005 Train 0.7178 Val 0.0219\n",
      "Epoch 006 Train 0.7777 Val 0.0258\n",
      "Epoch 007 Train 0.8301 Val 0.0297\n",
      "Epoch 008 Train 0.8703 Val 0.0277\n",
      "Epoch 009 Train 0.9047 Val 0.0264\n",
      "Epoch 010 Train 0.9478 Val 0.0258\n",
      "Epoch 011 Train 0.9896 Val 0.0286\n",
      "Epoch 012 Train 1.0334 Val 0.0271\n",
      "Epoch 013 Train 1.0808 Val 0.0283\n",
      "Epoch 014 Train 1.1284 Val 0.0282\n",
      "Decrease LR\n",
      "Epoch 015 Train 1.1727 Val 0.0275\n",
      "Epoch 016 Train 1.2015 Val 0.0269\n",
      "Epoch 017 Train 1.2113 Val 0.0296\n",
      "Epoch 018 Train 1.2192 Val 0.0263\n",
      "Epoch 019 Train 1.2276 Val 0.0266\n"
     ]
    },
    {
     "name": "stderr",
     "output_type": "stream",
     "text": [
      "[I 2024-04-10 16:34:05,755] Trial 0 finished with value: 0.4306870897610982 and parameters: {'n_hidden_units': 59, 'num_layers': 5, 'input_size_LSTM': 36, 'dropout_1': 0.8619303502433577, 'dropout_2': 0.07033144188011413, 'lr': 0.006901422960689535, 'lr_gamma': 1.103251854957949, 'seq_length_LSTM': 9, 'batch_size_train': 25, 'batch_size_val': 20, 'huber_delta': 5, 'alpha_reg': 0.0008225967018626142, 'l1_ratio_reg': 0.3949581248343751}. Best is trial 0 with value: 0.4306870897610982.\n"
     ]
    },
    {
     "name": "stdout",
     "output_type": "stream",
     "text": [
      "Decrease LR\n",
      "Epoch 000 Train 0.0367 Val 0.0348\n",
      "Epoch 001 Train 0.0360 Val 0.0346\n",
      "Epoch 002 Train 0.0353 Val 0.0343\n",
      "Epoch 003 Train 0.0342 Val 0.0334\n",
      "Epoch 004 Train 0.0324 Val 0.0318\n",
      "Epoch 005 Train 0.0300 Val 0.0296\n",
      "Epoch 006 Train 0.0279 Val 0.0275\n",
      "Epoch 007 Train 0.0263 Val 0.0263\n",
      "Epoch 008 Train 0.0251 Val 0.0253\n",
      "Epoch 009 Train 0.0242 Val 0.0249\n",
      "Epoch 010 Train 0.0234 Val 0.0243\n",
      "Epoch 011 Train 0.0226 Val 0.0239\n",
      "Epoch 012 Train 0.0220 Val 0.0237\n",
      "Epoch 013 Train 0.0213 Val 0.0234\n",
      "Epoch 014 Train 0.0209 Val 0.0232\n",
      "Epoch 015 Train 0.0204 Val 0.0232\n",
      "Epoch 016 Train 0.0200 Val 0.0231\n",
      "Epoch 017 Train 0.0194 Val 0.0230\n",
      "Epoch 018 Train 0.0191 Val 0.0228\n",
      "Epoch 019 Train 0.0186 Val 0.0230\n",
      "Epoch 020 Train 0.0181 Val 0.0228\n",
      "Epoch 021 Train 0.0176 Val 0.0231\n",
      "Epoch 022 Train 0.0174 Val 0.0229\n",
      "Decrease LR\n",
      "Epoch 023 Train 0.0171 Val 0.0231\n",
      "Epoch 024 Train 0.0169 Val 0.0226\n",
      "Epoch 025 Train 0.0166 Val 0.0226\n",
      "Epoch 026 Train 0.0165 Val 0.0226\n",
      "Epoch 027 Train 0.0165 Val 0.0224\n",
      "Epoch 028 Train 0.0163 Val 0.0224\n",
      "Epoch 029 Train 0.0161 Val 0.0224\n",
      "Epoch 030 Train 0.0161 Val 0.0225\n",
      "Epoch 031 Train 0.0160 Val 0.0223\n",
      "Epoch 032 Train 0.0158 Val 0.0224\n",
      "Epoch 033 Train 0.0157 Val 0.0224\n",
      "Epoch 034 Train 0.0155 Val 0.0224\n",
      "Epoch 035 Train 0.0156 Val 0.0222\n",
      "Epoch 036 Train 0.0155 Val 0.0222\n",
      "Epoch 037 Train 0.0155 Val 0.0222\n",
      "Epoch 038 Train 0.0154 Val 0.0223\n",
      "Epoch 039 Train 0.0152 Val 0.0222\n",
      "Epoch 040 Train 0.0152 Val 0.0221\n",
      "Epoch 041 Train 0.0151 Val 0.0220\n",
      "Epoch 042 Train 0.0149 Val 0.0222\n",
      "Epoch 043 Train 0.0150 Val 0.0224\n",
      "Epoch 044 Train 0.0149 Val 0.0225\n",
      "Epoch 045 Train 0.0149 Val 0.0222\n"
     ]
    },
    {
     "name": "stderr",
     "output_type": "stream",
     "text": [
      "[I 2024-04-10 16:36:08,814] Trial 1 finished with value: 0.477204163869222 and parameters: {'n_hidden_units': 24, 'num_layers': 3, 'input_size_LSTM': 41, 'dropout_1': 0.8520513042122673, 'dropout_2': 0.8198070091307547, 'lr': 0.00011289041103035705, 'lr_gamma': 1.0226660667782599, 'seq_length_LSTM': 14, 'batch_size_train': 50, 'batch_size_val': 24, 'huber_delta': 10, 'alpha_reg': 7.313490805237113e-07, 'l1_ratio_reg': 0.774533467013518}. Best is trial 1 with value: 0.477204163869222.\n"
     ]
    },
    {
     "name": "stdout",
     "output_type": "stream",
     "text": [
      "Decrease LR\n",
      "Epoch 000 Train 0.0171 Val 0.0204\n",
      "Epoch 001 Train 0.0083 Val 0.0234\n",
      "Epoch 002 Train 0.0058 Val 0.0228\n",
      "Epoch 003 Train 0.0049 Val 0.0213\n",
      "Epoch 004 Train 0.0042 Val 0.0228\n",
      "Epoch 005 Train 0.0037 Val 0.0260\n",
      "Epoch 006 Train 0.0033 Val 0.0250\n",
      "Epoch 007 Train 0.0032 Val 0.0259\n",
      "Epoch 008 Train 0.0030 Val 0.0285\n",
      "Epoch 009 Train 0.0029 Val 0.0234\n",
      "Epoch 010 Train 0.0027 Val 0.0245\n",
      "Epoch 011 Train 0.0026 Val 0.0237\n",
      "Epoch 012 Train 0.0025 Val 0.0241\n",
      "Epoch 013 Train 0.0025 Val 0.0255\n",
      "Epoch 014 Train 0.0024 Val 0.0257\n",
      "Decrease LR\n",
      "Epoch 015 Train 0.0024 Val 0.0266\n",
      "Epoch 016 Train 0.0023 Val 0.0268\n",
      "Epoch 017 Train 0.0022 Val 0.0243\n",
      "Epoch 018 Train 0.0022 Val 0.0253\n",
      "Epoch 019 Train 0.0022 Val 0.0250\n"
     ]
    },
    {
     "name": "stderr",
     "output_type": "stream",
     "text": [
      "[I 2024-04-10 16:37:19,590] Trial 2 finished with value: 0.45676541328430176 and parameters: {'n_hidden_units': 21, 'num_layers': 3, 'input_size_LSTM': 59, 'dropout_1': 0.547167260328482, 'dropout_2': 0.3258162793241634, 'lr': 0.004153030046859019, 'lr_gamma': 1.050393042817784, 'seq_length_LSTM': 11, 'batch_size_train': 29, 'batch_size_val': 48, 'huber_delta': 7, 'alpha_reg': 4.95715742548499e-07, 'l1_ratio_reg': 0.5626883707612474}. Best is trial 1 with value: 0.477204163869222.\n"
     ]
    },
    {
     "name": "stdout",
     "output_type": "stream",
     "text": [
      "Decrease LR\n",
      "Epoch 000 Train 0.1280 Val 0.0325\n",
      "Epoch 001 Train 0.1269 Val 0.0320\n",
      "Epoch 002 Train 0.1261 Val 0.0316\n",
      "Epoch 003 Train 0.1253 Val 0.0313\n",
      "Epoch 004 Train 0.1243 Val 0.0310\n",
      "Epoch 005 Train 0.1237 Val 0.0307\n",
      "Epoch 006 Train 0.1232 Val 0.0305\n",
      "Epoch 007 Train 0.1227 Val 0.0302\n",
      "Epoch 008 Train 0.1221 Val 0.0299\n",
      "Epoch 009 Train 0.1212 Val 0.0297\n",
      "Epoch 010 Train 0.1209 Val 0.0293\n",
      "Epoch 011 Train 0.1202 Val 0.0290\n",
      "Epoch 012 Train 0.1197 Val 0.0288\n",
      "Epoch 013 Train 0.1189 Val 0.0284\n",
      "Epoch 014 Train 0.1184 Val 0.0280\n",
      "Epoch 015 Train 0.1178 Val 0.0277\n",
      "Epoch 016 Train 0.1173 Val 0.0274\n",
      "Epoch 017 Train 0.1169 Val 0.0270\n",
      "Epoch 018 Train 0.1164 Val 0.0267\n",
      "Epoch 019 Train 0.1158 Val 0.0264\n",
      "Epoch 020 Train 0.1150 Val 0.0260\n",
      "Epoch 021 Train 0.1144 Val 0.0256\n",
      "Epoch 022 Train 0.1140 Val 0.0252\n",
      "Epoch 023 Train 0.1137 Val 0.0249\n",
      "Epoch 024 Train 0.1130 Val 0.0245\n",
      "Epoch 025 Train 0.1122 Val 0.0242\n",
      "Epoch 026 Train 0.1119 Val 0.0239\n",
      "Epoch 027 Train 0.1111 Val 0.0235\n",
      "Epoch 028 Train 0.1108 Val 0.0232\n",
      "Epoch 029 Train 0.1103 Val 0.0228\n",
      "Epoch 030 Train 0.1098 Val 0.0225\n",
      "Epoch 031 Train 0.1092 Val 0.0222\n",
      "Epoch 032 Train 0.1087 Val 0.0219\n",
      "Epoch 033 Train 0.1081 Val 0.0217\n",
      "Epoch 034 Train 0.1076 Val 0.0214\n",
      "Epoch 035 Train 0.1072 Val 0.0211\n",
      "Epoch 036 Train 0.1066 Val 0.0209\n",
      "Epoch 037 Train 0.1061 Val 0.0207\n",
      "Epoch 038 Train 0.1057 Val 0.0205\n",
      "Epoch 039 Train 0.1053 Val 0.0202\n",
      "Epoch 040 Train 0.1047 Val 0.0200\n",
      "Epoch 041 Train 0.1043 Val 0.0198\n",
      "Epoch 042 Train 0.1039 Val 0.0196\n",
      "Epoch 043 Train 0.1035 Val 0.0193\n",
      "Epoch 044 Train 0.1029 Val 0.0191\n",
      "Epoch 045 Train 0.1026 Val 0.0189\n",
      "Epoch 046 Train 0.1022 Val 0.0187\n",
      "Epoch 047 Train 0.1019 Val 0.0187\n",
      "Epoch 048 Train 0.1013 Val 0.0185\n",
      "Epoch 049 Train 0.1009 Val 0.0183\n",
      "Epoch 050 Train 0.1006 Val 0.0182\n",
      "Epoch 051 Train 0.1003 Val 0.0180\n",
      "Epoch 052 Train 0.0999 Val 0.0177\n",
      "Epoch 053 Train 0.0994 Val 0.0176\n",
      "Epoch 054 Train 0.0992 Val 0.0175\n",
      "Epoch 055 Train 0.0987 Val 0.0174\n",
      "Epoch 056 Train 0.0983 Val 0.0174\n",
      "Epoch 057 Train 0.0980 Val 0.0172\n",
      "Epoch 058 Train 0.0977 Val 0.0172\n",
      "Epoch 059 Train 0.0974 Val 0.0171\n",
      "Epoch 060 Train 0.0970 Val 0.0172\n",
      "Epoch 061 Train 0.0968 Val 0.0170\n",
      "Epoch 062 Train 0.0963 Val 0.0172\n",
      "Epoch 063 Train 0.0961 Val 0.0172\n",
      "Epoch 064 Train 0.0958 Val 0.0172\n",
      "Epoch 065 Train 0.0954 Val 0.0171\n",
      "Decrease LR\n",
      "Epoch 066 Train 0.0951 Val 0.0171\n",
      "Epoch 067 Train 0.0949 Val 0.0172\n",
      "Epoch 068 Train 0.0949 Val 0.0172\n",
      "Epoch 069 Train 0.0945 Val 0.0173\n",
      "Epoch 070 Train 0.0944 Val 0.0173\n"
     ]
    },
    {
     "name": "stderr",
     "output_type": "stream",
     "text": [
      "[I 2024-04-10 16:41:32,018] Trial 3 finished with value: 0.5177579323450724 and parameters: {'n_hidden_units': 13, 'num_layers': 1, 'input_size_LSTM': 29, 'dropout_1': 0.8306211841893488, 'dropout_2': 0.8456338705570248, 'lr': 4.6095982103277085e-05, 'lr_gamma': 1.1363457339021967, 'seq_length_LSTM': 12, 'batch_size_train': 29, 'batch_size_val': 31, 'huber_delta': 6, 'alpha_reg': 0.0005906420574160056, 'l1_ratio_reg': 0.32361542767900453}. Best is trial 3 with value: 0.5177579323450724.\n"
     ]
    },
    {
     "name": "stdout",
     "output_type": "stream",
     "text": [
      "Decrease LR\n",
      "Epoch 000 Train 0.0381 Val 0.0342\n",
      "Epoch 001 Train 0.0372 Val 0.0336\n",
      "Epoch 002 Train 0.0365 Val 0.0331\n",
      "Epoch 003 Train 0.0354 Val 0.0326\n",
      "Epoch 004 Train 0.0344 Val 0.0320\n",
      "Epoch 005 Train 0.0335 Val 0.0314\n",
      "Epoch 006 Train 0.0325 Val 0.0309\n",
      "Epoch 007 Train 0.0315 Val 0.0302\n",
      "Epoch 008 Train 0.0303 Val 0.0295\n",
      "Epoch 009 Train 0.0292 Val 0.0288\n",
      "Epoch 010 Train 0.0279 Val 0.0278\n",
      "Epoch 011 Train 0.0262 Val 0.0271\n",
      "Epoch 012 Train 0.0246 Val 0.0263\n",
      "Epoch 013 Train 0.0231 Val 0.0256\n",
      "Epoch 014 Train 0.0217 Val 0.0251\n",
      "Epoch 015 Train 0.0204 Val 0.0245\n",
      "Epoch 016 Train 0.0192 Val 0.0241\n",
      "Epoch 017 Train 0.0181 Val 0.0238\n",
      "Epoch 018 Train 0.0172 Val 0.0237\n",
      "Epoch 019 Train 0.0163 Val 0.0235\n",
      "Epoch 020 Train 0.0155 Val 0.0233\n",
      "Epoch 021 Train 0.0147 Val 0.0232\n",
      "Epoch 022 Train 0.0141 Val 0.0232\n",
      "Epoch 023 Train 0.0135 Val 0.0233\n",
      "Epoch 024 Train 0.0131 Val 0.0233\n",
      "Epoch 025 Train 0.0127 Val 0.0233\n",
      "Decrease LR\n",
      "Epoch 026 Train 0.0123 Val 0.0234\n",
      "Epoch 027 Train 0.0120 Val 0.0234\n",
      "Epoch 028 Train 0.0119 Val 0.0235\n",
      "Epoch 029 Train 0.0117 Val 0.0235\n",
      "Epoch 030 Train 0.0116 Val 0.0236\n"
     ]
    },
    {
     "name": "stderr",
     "output_type": "stream",
     "text": [
      "[I 2024-04-10 16:43:03,750] Trial 4 finished with value: 0.32102715969085693 and parameters: {'n_hidden_units': 56, 'num_layers': 1, 'input_size_LSTM': 42, 'dropout_1': 0.0005241612259899942, 'dropout_2': 0.2982305230965782, 'lr': 1.8579692254725673e-05, 'lr_gamma': 1.4025759200065702, 'seq_length_LSTM': 13, 'batch_size_train': 42, 'batch_size_val': 38, 'huber_delta': 9, 'alpha_reg': 1.9059612872778445e-06, 'l1_ratio_reg': 0.798062132413186}. Best is trial 3 with value: 0.5177579323450724.\n"
     ]
    },
    {
     "name": "stdout",
     "output_type": "stream",
     "text": [
      "Decrease LR\n",
      "Epoch 000 Train 0.0360 Val 0.0349\n",
      "Epoch 001 Train 0.0312 Val 0.0301\n",
      "Epoch 002 Train 0.0242 Val 0.0254\n",
      "Epoch 003 Train 0.0195 Val 0.0231\n",
      "Epoch 004 Train 0.0174 Val 0.0228\n",
      "Epoch 005 Train 0.0158 Val 0.0226\n",
      "Epoch 006 Train 0.0145 Val 0.0227\n",
      "Epoch 007 Train 0.0135 Val 0.0221\n",
      "Epoch 008 Train 0.0126 Val 0.0220\n",
      "Epoch 009 Train 0.0118 Val 0.0216\n",
      "Epoch 010 Train 0.0111 Val 0.0213\n",
      "Epoch 011 Train 0.0103 Val 0.0212\n",
      "Epoch 012 Train 0.0094 Val 0.0209\n",
      "Epoch 013 Train 0.0087 Val 0.0215\n",
      "Epoch 014 Train 0.0082 Val 0.0211\n",
      "Epoch 015 Train 0.0079 Val 0.0214\n",
      "Epoch 016 Train 0.0075 Val 0.0220\n",
      "Decrease LR\n",
      "Epoch 017 Train 0.0072 Val 0.0213\n",
      "Epoch 018 Train 0.0070 Val 0.0218\n",
      "Epoch 019 Train 0.0069 Val 0.0219\n",
      "Epoch 020 Train 0.0068 Val 0.0212\n",
      "Epoch 021 Train 0.0067 Val 0.0214\n"
     ]
    },
    {
     "name": "stderr",
     "output_type": "stream",
     "text": [
      "[I 2024-04-10 16:44:40,938] Trial 5 finished with value: 0.45605067412058514 and parameters: {'n_hidden_units': 48, 'num_layers': 4, 'input_size_LSTM': 25, 'dropout_1': 0.33512649533277356, 'dropout_2': 0.4513010413725811, 'lr': 0.00014397192998071611, 'lr_gamma': 1.0838341521426726, 'seq_length_LSTM': 12, 'batch_size_train': 32, 'batch_size_val': 46, 'huber_delta': 5, 'alpha_reg': 1.6614016029542393e-06, 'l1_ratio_reg': 0.30896564472456656}. Best is trial 3 with value: 0.5177579323450724.\n"
     ]
    },
    {
     "name": "stdout",
     "output_type": "stream",
     "text": [
      "Decrease LR\n",
      "Epoch 000 Train 0.1893 Val 0.0362\n",
      "Epoch 001 Train 0.1890 Val 0.0363\n",
      "Epoch 002 Train 0.1886 Val 0.0362\n",
      "Epoch 003 Train 0.1881 Val 0.0362\n",
      "Epoch 004 Train 0.1877 Val 0.0360\n"
     ]
    },
    {
     "name": "stderr",
     "output_type": "stream",
     "text": [
      "[I 2024-04-10 16:45:17,867] Trial 6 pruned. \n"
     ]
    },
    {
     "name": "stdout",
     "output_type": "stream",
     "text": [
      "Epoch 005 Train 0.1870 Val 0.0359\n",
      "Epoch 000 Train 0.0331 Val 0.0237\n",
      "Epoch 001 Train 0.0224 Val 0.0230\n",
      "Epoch 002 Train 0.0196 Val 0.0199\n",
      "Epoch 003 Train 0.0176 Val 0.0209\n",
      "Epoch 004 Train 0.0165 Val 0.0209\n",
      "Epoch 005 Train 0.0156 Val 0.0215\n",
      "Epoch 006 Train 0.0143 Val 0.0203\n",
      "Epoch 007 Train 0.0138 Val 0.0198\n",
      "Epoch 008 Train 0.0133 Val 0.0212\n",
      "Epoch 009 Train 0.0132 Val 0.0197\n",
      "Epoch 010 Train 0.0130 Val 0.0196\n",
      "Epoch 011 Train 0.0130 Val 0.0215\n",
      "Epoch 012 Train 0.0126 Val 0.0203\n",
      "Epoch 013 Train 0.0125 Val 0.0232\n",
      "Epoch 014 Train 0.0123 Val 0.0235\n",
      "Decrease LR\n",
      "Epoch 015 Train 0.0124 Val 0.0211\n",
      "Epoch 016 Train 0.0120 Val 0.0218\n",
      "Epoch 017 Train 0.0118 Val 0.0220\n",
      "Epoch 018 Train 0.0118 Val 0.0217\n",
      "Epoch 019 Train 0.0117 Val 0.0222\n"
     ]
    },
    {
     "name": "stderr",
     "output_type": "stream",
     "text": [
      "[I 2024-04-10 16:46:53,139] Trial 7 finished with value: 0.5817498167355856 and parameters: {'n_hidden_units': 25, 'num_layers': 5, 'input_size_LSTM': 22, 'dropout_1': 0.624700352341097, 'dropout_2': 0.08852865191446055, 'lr': 0.001797982850786946, 'lr_gamma': 1.0343058082768204, 'seq_length_LSTM': 10, 'batch_size_train': 29, 'batch_size_val': 43, 'huber_delta': 7, 'alpha_reg': 4.2863384239234356e-05, 'l1_ratio_reg': 0.2875008964788832}. Best is trial 7 with value: 0.5817498167355856.\n"
     ]
    },
    {
     "name": "stdout",
     "output_type": "stream",
     "text": [
      "Decrease LR\n",
      "Epoch 000 Train 0.0369 Val 0.0356\n",
      "Epoch 001 Train 0.0367 Val 0.0360\n",
      "Epoch 002 Train 0.0365 Val 0.0356\n",
      "Epoch 003 Train 0.0362 Val 0.0355\n",
      "Epoch 004 Train 0.0360 Val 0.0350\n"
     ]
    },
    {
     "name": "stderr",
     "output_type": "stream",
     "text": [
      "[I 2024-04-10 16:47:10,776] Trial 8 pruned. \n"
     ]
    },
    {
     "name": "stdout",
     "output_type": "stream",
     "text": [
      "Epoch 005 Train 0.0357 Val 0.0354\n",
      "Epoch 000 Train 0.3108 Val 0.0247\n",
      "Epoch 001 Train 0.3009 Val 0.0183\n",
      "Epoch 002 Train 0.2936 Val 0.0210\n",
      "Epoch 003 Train 0.2892 Val 0.0208\n",
      "Epoch 004 Train 0.2866 Val 0.0213\n",
      "Epoch 005 Train 0.2851 Val 0.0215\n",
      "Epoch 006 Train 0.2837 Val 0.0213\n",
      "Epoch 007 Train 0.2832 Val 0.0222\n",
      "Epoch 008 Train 0.2836 Val 0.0204\n",
      "Epoch 009 Train 0.2853 Val 0.0231\n",
      "Epoch 010 Train 0.2864 Val 0.0231\n",
      "Epoch 011 Train 0.2894 Val 0.0234\n",
      "Epoch 012 Train 0.2917 Val 0.0241\n",
      "Epoch 013 Train 0.2931 Val 0.0254\n",
      "Epoch 014 Train 0.2958 Val 0.0240\n",
      "Decrease LR\n",
      "Epoch 015 Train 0.2973 Val 0.0223\n",
      "Epoch 016 Train 0.2982 Val 0.0225\n",
      "Epoch 017 Train 0.2967 Val 0.0230\n",
      "Epoch 018 Train 0.2958 Val 0.0231\n",
      "Epoch 019 Train 0.2944 Val 0.0232\n"
     ]
    },
    {
     "name": "stderr",
     "output_type": "stream",
     "text": [
      "[I 2024-04-10 16:48:09,204] Trial 9 finished with value: 0.5338129202524821 and parameters: {'n_hidden_units': 55, 'num_layers': 1, 'input_size_LSTM': 26, 'dropout_1': 0.8752549194443773, 'dropout_2': 0.8502386829593542, 'lr': 0.002696019452019956, 'lr_gamma': 1.1687436629831132, 'seq_length_LSTM': 9, 'batch_size_train': 48, 'batch_size_val': 35, 'huber_delta': 5, 'alpha_reg': 0.0007988410495108699, 'l1_ratio_reg': 0.6196219111336556}. Best is trial 7 with value: 0.5817498167355856.\n"
     ]
    },
    {
     "name": "stdout",
     "output_type": "stream",
     "text": [
      "Decrease LR\n",
      "Epoch 000 Train 0.0391 Val 0.0330\n",
      "Epoch 001 Train 0.0242 Val 0.0277\n",
      "Epoch 002 Train 0.0199 Val 0.0243\n",
      "Epoch 003 Train 0.0185 Val 0.0232\n",
      "Epoch 004 Train 0.0164 Val 0.0213\n",
      "Epoch 005 Train 0.0143 Val 0.0218\n",
      "Epoch 006 Train 0.0130 Val 0.0224\n",
      "Epoch 007 Train 0.0121 Val 0.0209\n",
      "Epoch 008 Train 0.0117 Val 0.0223\n",
      "Epoch 009 Train 0.0113 Val 0.0231\n",
      "Epoch 010 Train 0.0111 Val 0.0241\n",
      "Epoch 011 Train 0.0107 Val 0.0242\n",
      "Epoch 012 Train 0.0105 Val 0.0248\n",
      "Epoch 013 Train 0.0103 Val 0.0226\n",
      "Epoch 014 Train 0.0102 Val 0.0228\n",
      "Decrease LR\n",
      "Epoch 015 Train 0.0101 Val 0.0229\n",
      "Epoch 016 Train 0.0099 Val 0.0230\n",
      "Epoch 017 Train 0.0099 Val 0.0222\n",
      "Epoch 018 Train 0.0098 Val 0.0222\n",
      "Epoch 019 Train 0.0098 Val 0.0216\n"
     ]
    },
    {
     "name": "stderr",
     "output_type": "stream",
     "text": [
      "[I 2024-04-10 16:49:32,187] Trial 10 finished with value: 0.5796420574188232 and parameters: {'n_hidden_units': 34, 'num_layers': 5, 'input_size_LSTM': 22, 'dropout_1': 0.3675608302264672, 'dropout_2': 0.20813471248949444, 'lr': 0.0008793209660908971, 'lr_gamma': 1.4925969238811487, 'seq_length_LSTM': 20, 'batch_size_train': 40, 'batch_size_val': 28, 'huber_delta': 7, 'alpha_reg': 4.594196266243832e-05, 'l1_ratio_reg': 0.20479847195420126}. Best is trial 7 with value: 0.5817498167355856.\n"
     ]
    },
    {
     "name": "stdout",
     "output_type": "stream",
     "text": [
      "Decrease LR\n",
      "Epoch 000 Train 0.0360 Val 0.0278\n",
      "Epoch 001 Train 0.0217 Val 0.0249\n",
      "Epoch 002 Train 0.0188 Val 0.0210\n",
      "Epoch 003 Train 0.0166 Val 0.0220\n",
      "Epoch 004 Train 0.0152 Val 0.0212\n",
      "Epoch 005 Train 0.0136 Val 0.0228\n",
      "Epoch 006 Train 0.0123 Val 0.0207\n",
      "Epoch 007 Train 0.0116 Val 0.0219\n",
      "Epoch 008 Train 0.0111 Val 0.0204\n",
      "Epoch 009 Train 0.0108 Val 0.0206\n",
      "Epoch 010 Train 0.0107 Val 0.0197\n",
      "Epoch 011 Train 0.0104 Val 0.0199\n",
      "Epoch 012 Train 0.0103 Val 0.0189\n",
      "Epoch 013 Train 0.0102 Val 0.0192\n",
      "Epoch 014 Train 0.0101 Val 0.0198\n",
      "Epoch 015 Train 0.0100 Val 0.0223\n",
      "Epoch 016 Train 0.0099 Val 0.0201\n",
      "Decrease LR\n",
      "Epoch 017 Train 0.0097 Val 0.0198\n",
      "Epoch 018 Train 0.0096 Val 0.0201\n",
      "Epoch 019 Train 0.0095 Val 0.0189\n",
      "Epoch 020 Train 0.0095 Val 0.0206\n",
      "Epoch 021 Train 0.0095 Val 0.0207\n",
      "Epoch 022 Train 0.0094 Val 0.0215\n",
      "Epoch 023 Train 0.0094 Val 0.0216\n"
     ]
    },
    {
     "name": "stderr",
     "output_type": "stream",
     "text": [
      "[I 2024-04-10 16:51:11,558] Trial 11 finished with value: 0.47781042257944745 and parameters: {'n_hidden_units': 34, 'num_layers': 5, 'input_size_LSTM': 20, 'dropout_1': 0.3530286032490477, 'dropout_2': 0.22553495146133243, 'lr': 0.0008736402153460342, 'lr_gamma': 1.4443767909815657, 'seq_length_LSTM': 20, 'batch_size_train': 39, 'batch_size_val': 29, 'huber_delta': 7, 'alpha_reg': 4.1583930466352125e-05, 'l1_ratio_reg': 0.21074376040378523}. Best is trial 7 with value: 0.5817498167355856.\n"
     ]
    },
    {
     "name": "stdout",
     "output_type": "stream",
     "text": [
      "Decrease LR\n",
      "Epoch 000 Train 0.0367 Val 0.0313\n",
      "Epoch 001 Train 0.0206 Val 0.0245\n",
      "Epoch 002 Train 0.0157 Val 0.0229\n",
      "Epoch 003 Train 0.0139 Val 0.0223\n",
      "Epoch 004 Train 0.0119 Val 0.0236\n",
      "Epoch 005 Train 0.0109 Val 0.0232\n",
      "Epoch 006 Train 0.0102 Val 0.0220\n",
      "Epoch 007 Train 0.0097 Val 0.0209\n",
      "Epoch 008 Train 0.0093 Val 0.0194\n",
      "Epoch 009 Train 0.0090 Val 0.0197\n",
      "Epoch 010 Train 0.0087 Val 0.0207\n",
      "Epoch 011 Train 0.0084 Val 0.0199\n",
      "Epoch 012 Train 0.0082 Val 0.0212\n",
      "Epoch 013 Train 0.0081 Val 0.0214\n",
      "Epoch 014 Train 0.0079 Val 0.0213\n",
      "Decrease LR\n",
      "Epoch 015 Train 0.0077 Val 0.0221\n",
      "Epoch 016 Train 0.0075 Val 0.0216\n",
      "Epoch 017 Train 0.0074 Val 0.0211\n",
      "Epoch 018 Train 0.0074 Val 0.0218\n",
      "Epoch 019 Train 0.0073 Val 0.0201\n"
     ]
    },
    {
     "name": "stderr",
     "output_type": "stream",
     "text": [
      "[I 2024-04-10 16:52:35,195] Trial 12 finished with value: 0.5747287074724833 and parameters: {'n_hidden_units': 26, 'num_layers': 5, 'input_size_LSTM': 20, 'dropout_1': 0.568831379415949, 'dropout_2': 0.005664728724740359, 'lr': 0.0008106458022166912, 'lr_gamma': 1.2672344776132698, 'seq_length_LSTM': 20, 'batch_size_train': 37, 'batch_size_val': 28, 'huber_delta': 8, 'alpha_reg': 2.8931455652663635e-05, 'l1_ratio_reg': 0.20132698283315664}. Best is trial 7 with value: 0.5817498167355856.\n"
     ]
    },
    {
     "name": "stdout",
     "output_type": "stream",
     "text": [
      "Decrease LR\n",
      "Epoch 000 Train 0.0544 Val 0.0274\n",
      "Epoch 001 Train 0.0434 Val 0.0250\n",
      "Epoch 002 Train 0.0391 Val 0.0209\n",
      "Epoch 003 Train 0.0375 Val 0.0217\n",
      "Epoch 004 Train 0.0367 Val 0.0229\n",
      "Epoch 005 Train 0.0357 Val 0.0225\n",
      "Epoch 006 Train 0.0351 Val 0.0234\n",
      "Epoch 007 Train 0.0349 Val 0.0240\n",
      "Epoch 008 Train 0.0348 Val 0.0243\n",
      "Epoch 009 Train 0.0348 Val 0.0272\n",
      "Epoch 010 Train 0.0347 Val 0.0254\n",
      "Epoch 011 Train 0.0347 Val 0.0275\n",
      "Epoch 012 Train 0.0349 Val 0.0275\n",
      "Epoch 013 Train 0.0350 Val 0.0274\n",
      "Epoch 014 Train 0.0353 Val 0.0268\n",
      "Decrease LR\n",
      "Epoch 015 Train 0.0354 Val 0.0270\n",
      "Epoch 016 Train 0.0355 Val 0.0279\n",
      "Epoch 017 Train 0.0355 Val 0.0270\n",
      "Epoch 018 Train 0.0356 Val 0.0277\n",
      "Epoch 019 Train 0.0356 Val 0.0259\n"
     ]
    },
    {
     "name": "stderr",
     "output_type": "stream",
     "text": [
      "[I 2024-04-10 16:53:41,904] Trial 13 finished with value: 0.41624881823857623 and parameters: {'n_hidden_units': 39, 'num_layers': 4, 'input_size_LSTM': 33, 'dropout_1': 0.16445556676957318, 'dropout_2': 0.159053509260347, 'lr': 0.0008741868226242538, 'lr_gamma': 1.3806597781046606, 'seq_length_LSTM': 6, 'batch_size_train': 43, 'batch_size_val': 42, 'huber_delta': 6, 'alpha_reg': 0.00010273586522622549, 'l1_ratio_reg': 0.3025379094850253}. Best is trial 7 with value: 0.5817498167355856.\n"
     ]
    },
    {
     "name": "stdout",
     "output_type": "stream",
     "text": [
      "Decrease LR\n",
      "Epoch 000 Train 0.0298 Val 0.0290\n",
      "Epoch 001 Train 0.0151 Val 0.0295\n",
      "Epoch 002 Train 0.0111 Val 0.0245\n",
      "Epoch 003 Train 0.0091 Val 0.0226\n",
      "Epoch 004 Train 0.0079 Val 0.0221\n",
      "Epoch 005 Train 0.0072 Val 0.0209\n",
      "Epoch 006 Train 0.0067 Val 0.0223\n",
      "Epoch 007 Train 0.0064 Val 0.0221\n",
      "Epoch 008 Train 0.0062 Val 0.0199\n",
      "Epoch 009 Train 0.0059 Val 0.0200\n",
      "Epoch 010 Train 0.0059 Val 0.0185\n",
      "Epoch 011 Train 0.0056 Val 0.0203\n",
      "Epoch 012 Train 0.0055 Val 0.0207\n",
      "Epoch 013 Train 0.0052 Val 0.0208\n",
      "Epoch 014 Train 0.0050 Val 0.0208\n",
      "Decrease LR\n",
      "Epoch 015 Train 0.0050 Val 0.0198\n",
      "Epoch 016 Train 0.0048 Val 0.0196\n",
      "Epoch 017 Train 0.0047 Val 0.0208\n",
      "Epoch 018 Train 0.0047 Val 0.0206\n",
      "Epoch 019 Train 0.0046 Val 0.0202\n"
     ]
    },
    {
     "name": "stderr",
     "output_type": "stream",
     "text": [
      "[I 2024-04-10 16:55:15,033] Trial 14 finished with value: 0.6294087171554565 and parameters: {'n_hidden_units': 32, 'num_layers': 5, 'input_size_LSTM': 31, 'dropout_1': 0.45353387311567006, 'dropout_2': 0.43469775095920277, 'lr': 0.0017186636685695396, 'lr_gamma': 1.4869841187864843, 'seq_length_LSTM': 17, 'batch_size_train': 33, 'batch_size_val': 34, 'huber_delta': 7, 'alpha_reg': 6.5952774295107e-06, 'l1_ratio_reg': 0.38894691744111975}. Best is trial 14 with value: 0.6294087171554565.\n"
     ]
    },
    {
     "name": "stdout",
     "output_type": "stream",
     "text": [
      "Decrease LR\n",
      "Epoch 000 Train 0.0312 Val 0.0251\n",
      "Epoch 001 Train 0.0207 Val 0.0232\n",
      "Epoch 002 Train 0.0173 Val 0.0234\n",
      "Epoch 003 Train 0.0157 Val 0.0224\n",
      "Epoch 004 Train 0.0148 Val 0.0262\n",
      "Epoch 005 Train 0.0142 Val 0.0265\n",
      "Epoch 006 Train 0.0138 Val 0.0261\n",
      "Epoch 007 Train 0.0134 Val 0.0246\n"
     ]
    },
    {
     "name": "stderr",
     "output_type": "stream",
     "text": [
      "[I 2024-04-10 16:55:46,115] Trial 15 pruned. \n"
     ]
    },
    {
     "name": "stdout",
     "output_type": "stream",
     "text": [
      "Epoch 008 Train 0.0131 Val 0.0228\n",
      "Epoch 000 Train 0.0348 Val 0.0331\n",
      "Epoch 001 Train 0.0312 Val 0.0278\n",
      "Epoch 002 Train 0.0258 Val 0.0231\n",
      "Epoch 003 Train 0.0223 Val 0.0209\n",
      "Epoch 004 Train 0.0198 Val 0.0204\n"
     ]
    },
    {
     "name": "stderr",
     "output_type": "stream",
     "text": [
      "[I 2024-04-10 16:56:17,962] Trial 16 pruned. \n"
     ]
    },
    {
     "name": "stdout",
     "output_type": "stream",
     "text": [
      "Epoch 005 Train 0.0184 Val 0.0200\n",
      "Epoch 000 Train 0.0183 Val 0.0231\n",
      "Epoch 001 Train 0.0130 Val 0.0182\n",
      "Epoch 002 Train 0.0101 Val 0.0221\n",
      "Epoch 003 Train 0.0079 Val 0.0243\n",
      "Epoch 004 Train 0.0066 Val 0.0244\n",
      "Epoch 005 Train 0.0059 Val 0.0221\n",
      "Epoch 006 Train 0.0054 Val 0.0223\n",
      "Epoch 007 Train 0.0047 Val 0.0216\n",
      "Epoch 008 Train 0.0045 Val 0.0227\n",
      "Epoch 009 Train 0.0041 Val 0.0251\n",
      "Epoch 010 Train 0.0043 Val 0.0265\n",
      "Epoch 011 Train 0.0041 Val 0.0256\n",
      "Epoch 012 Train 0.0038 Val 0.0263\n",
      "Epoch 013 Train 0.0035 Val 0.0279\n",
      "Epoch 014 Train 0.0035 Val 0.0259\n",
      "Decrease LR\n",
      "Epoch 015 Train 0.0034 Val 0.0297\n",
      "Epoch 016 Train 0.0032 Val 0.0320\n",
      "Epoch 017 Train 0.0030 Val 0.0315\n",
      "Epoch 018 Train 0.0029 Val 0.0317\n",
      "Epoch 019 Train 0.0028 Val 0.0288\n"
     ]
    },
    {
     "name": "stderr",
     "output_type": "stream",
     "text": [
      "[I 2024-04-10 16:57:55,516] Trial 17 finished with value: 0.49120070536931354 and parameters: {'n_hidden_units': 29, 'num_layers': 5, 'input_size_LSTM': 50, 'dropout_1': 0.641736061920924, 'dropout_2': 0.39285360473381303, 'lr': 0.009753179644999591, 'lr_gamma': 1.222967057987347, 'seq_length_LSTM': 17, 'batch_size_train': 30, 'batch_size_val': 40, 'huber_delta': 9, 'alpha_reg': 1.1076163089589288e-07, 'l1_ratio_reg': 0.37745399998724244}. Best is trial 14 with value: 0.6294087171554565.\n"
     ]
    },
    {
     "name": "stdout",
     "output_type": "stream",
     "text": [
      "Decrease LR\n",
      "Epoch 000 Train 0.0268 Val 0.0214\n",
      "Epoch 001 Train 0.0162 Val 0.0210\n",
      "Epoch 002 Train 0.0129 Val 0.0219\n",
      "Epoch 003 Train 0.0108 Val 0.0225\n",
      "Epoch 004 Train 0.0097 Val 0.0216\n",
      "Epoch 005 Train 0.0089 Val 0.0231\n",
      "Epoch 006 Train 0.0085 Val 0.0258\n",
      "Epoch 007 Train 0.0080 Val 0.0230\n",
      "Epoch 008 Train 0.0078 Val 0.0255\n",
      "Epoch 009 Train 0.0075 Val 0.0270\n",
      "Epoch 010 Train 0.0073 Val 0.0227\n",
      "Epoch 011 Train 0.0071 Val 0.0259\n",
      "Epoch 012 Train 0.0070 Val 0.0255\n",
      "Epoch 013 Train 0.0069 Val 0.0252\n",
      "Epoch 014 Train 0.0069 Val 0.0241\n",
      "Decrease LR\n",
      "Epoch 015 Train 0.0067 Val 0.0246\n",
      "Epoch 016 Train 0.0066 Val 0.0243\n",
      "Epoch 017 Train 0.0065 Val 0.0246\n",
      "Epoch 018 Train 0.0066 Val 0.0251\n",
      "Epoch 019 Train 0.0066 Val 0.0251\n"
     ]
    },
    {
     "name": "stderr",
     "output_type": "stream",
     "text": [
      "[I 2024-04-10 16:59:17,971] Trial 18 finished with value: 0.38171543677647907 and parameters: {'n_hidden_units': 42, 'num_layers': 4, 'input_size_LSTM': 28, 'dropout_1': 0.45169407119310445, 'dropout_2': 0.6051997875499174, 'lr': 0.0016556954645908562, 'lr_gamma': 1.0067418935839774, 'seq_length_LSTM': 8, 'batch_size_train': 35, 'batch_size_val': 32, 'huber_delta': 7, 'alpha_reg': 1.3082396925483329e-05, 'l1_ratio_reg': 0.2662114385795486}. Best is trial 14 with value: 0.6294087171554565.\n"
     ]
    },
    {
     "name": "stdout",
     "output_type": "stream",
     "text": [
      "Decrease LR\n",
      "Epoch 000 Train 0.0740 Val 0.0316\n",
      "Epoch 001 Train 0.0645 Val 0.0244\n",
      "Epoch 002 Train 0.0579 Val 0.0232\n",
      "Epoch 003 Train 0.0559 Val 0.0234\n",
      "Epoch 004 Train 0.0547 Val 0.0244\n"
     ]
    },
    {
     "name": "stderr",
     "output_type": "stream",
     "text": [
      "[I 2024-04-10 16:59:44,958] Trial 19 pruned. \n"
     ]
    },
    {
     "name": "stdout",
     "output_type": "stream",
     "text": [
      "Epoch 005 Train 0.0536 Val 0.0246\n",
      "Epoch 000 Train 0.0408 Val 0.0352\n",
      "Epoch 001 Train 0.0362 Val 0.0327\n",
      "Epoch 002 Train 0.0276 Val 0.0255\n",
      "Epoch 003 Train 0.0227 Val 0.0225\n",
      "Epoch 004 Train 0.0203 Val 0.0220\n"
     ]
    },
    {
     "name": "stderr",
     "output_type": "stream",
     "text": [
      "[I 2024-04-10 17:00:10,431] Trial 20 pruned. \n"
     ]
    },
    {
     "name": "stdout",
     "output_type": "stream",
     "text": [
      "Epoch 005 Train 0.0189 Val 0.0215\n",
      "Epoch 000 Train 0.0382 Val 0.0244\n",
      "Epoch 001 Train 0.0256 Val 0.0281\n",
      "Epoch 002 Train 0.0221 Val 0.0233\n",
      "Epoch 003 Train 0.0200 Val 0.0245\n",
      "Epoch 004 Train 0.0184 Val 0.0214\n",
      "Epoch 005 Train 0.0177 Val 0.0212\n",
      "Epoch 006 Train 0.0173 Val 0.0192\n",
      "Epoch 007 Train 0.0169 Val 0.0206\n",
      "Epoch 008 Train 0.0167 Val 0.0195\n",
      "Epoch 009 Train 0.0166 Val 0.0207\n",
      "Epoch 010 Train 0.0165 Val 0.0204\n",
      "Epoch 011 Train 0.0164 Val 0.0225\n",
      "Epoch 012 Train 0.0165 Val 0.0210\n",
      "Epoch 013 Train 0.0163 Val 0.0215\n",
      "Epoch 014 Train 0.0163 Val 0.0217\n",
      "Decrease LR\n",
      "Epoch 015 Train 0.0162 Val 0.0223\n",
      "Epoch 016 Train 0.0161 Val 0.0237\n",
      "Epoch 017 Train 0.0161 Val 0.0233\n",
      "Epoch 018 Train 0.0161 Val 0.0242\n",
      "Epoch 019 Train 0.0161 Val 0.0248\n"
     ]
    },
    {
     "name": "stderr",
     "output_type": "stream",
     "text": [
      "[I 2024-04-10 17:01:35,912] Trial 21 finished with value: 0.6078126231829325 and parameters: {'n_hidden_units': 34, 'num_layers': 5, 'input_size_LSTM': 23, 'dropout_1': 0.34995611469214083, 'dropout_2': 0.2205046828448558, 'lr': 0.0013166552191697543, 'lr_gamma': 1.4762913716754076, 'seq_length_LSTM': 19, 'batch_size_train': 39, 'batch_size_val': 25, 'huber_delta': 7, 'alpha_reg': 6.843188501708906e-05, 'l1_ratio_reg': 0.25549050288865505}. Best is trial 14 with value: 0.6294087171554565.\n"
     ]
    },
    {
     "name": "stdout",
     "output_type": "stream",
     "text": [
      "Decrease LR\n",
      "Epoch 000 Train 0.0460 Val 0.0265\n",
      "Epoch 001 Train 0.0356 Val 0.0235\n",
      "Epoch 002 Train 0.0327 Val 0.0204\n",
      "Epoch 003 Train 0.0322 Val 0.0221\n",
      "Epoch 004 Train 0.0307 Val 0.0249\n",
      "Epoch 005 Train 0.0301 Val 0.0200\n",
      "Epoch 006 Train 0.0300 Val 0.0194\n",
      "Epoch 007 Train 0.0301 Val 0.0194\n",
      "Epoch 008 Train 0.0302 Val 0.0193\n",
      "Epoch 009 Train 0.0302 Val 0.0218\n",
      "Epoch 010 Train 0.0305 Val 0.0211\n",
      "Epoch 011 Train 0.0309 Val 0.0240\n",
      "Epoch 012 Train 0.0312 Val 0.0218\n",
      "Epoch 013 Train 0.0316 Val 0.0224\n",
      "Epoch 014 Train 0.0320 Val 0.0211\n",
      "Decrease LR\n",
      "Epoch 015 Train 0.0324 Val 0.0259\n",
      "Epoch 016 Train 0.0325 Val 0.0226\n",
      "Epoch 017 Train 0.0326 Val 0.0233\n",
      "Epoch 018 Train 0.0327 Val 0.0237\n",
      "Epoch 019 Train 0.0327 Val 0.0236\n"
     ]
    },
    {
     "name": "stderr",
     "output_type": "stream",
     "text": [
      "[I 2024-04-10 17:02:58,988] Trial 22 finished with value: 0.5788403352101644 and parameters: {'n_hidden_units': 46, 'num_layers': 5, 'input_size_LSTM': 26, 'dropout_1': 0.5038839686063716, 'dropout_2': 0.1515030047292727, 'lr': 0.0017604114494792326, 'lr_gamma': 1.4336620285634885, 'seq_length_LSTM': 18, 'batch_size_train': 44, 'batch_size_val': 23, 'huber_delta': 7, 'alpha_reg': 0.00011040397020352851, 'l1_ratio_reg': 0.27321421734408013}. Best is trial 14 with value: 0.6294087171554565.\n"
     ]
    },
    {
     "name": "stdout",
     "output_type": "stream",
     "text": [
      "Decrease LR\n",
      "Epoch 000 Train 0.0366 Val 0.0336\n",
      "Epoch 001 Train 0.0209 Val 0.0248\n",
      "Epoch 002 Train 0.0155 Val 0.0244\n",
      "Epoch 003 Train 0.0133 Val 0.0232\n",
      "Epoch 004 Train 0.0112 Val 0.0247\n",
      "Epoch 005 Train 0.0094 Val 0.0222\n",
      "Epoch 006 Train 0.0085 Val 0.0217\n",
      "Epoch 007 Train 0.0078 Val 0.0227\n",
      "Epoch 008 Train 0.0074 Val 0.0220\n",
      "Epoch 009 Train 0.0071 Val 0.0215\n",
      "Epoch 010 Train 0.0067 Val 0.0209\n",
      "Epoch 011 Train 0.0064 Val 0.0199\n",
      "Epoch 012 Train 0.0060 Val 0.0196\n",
      "Epoch 013 Train 0.0058 Val 0.0195\n",
      "Epoch 014 Train 0.0056 Val 0.0204\n",
      "Epoch 015 Train 0.0053 Val 0.0194\n",
      "Epoch 016 Train 0.0051 Val 0.0199\n",
      "Epoch 017 Train 0.0050 Val 0.0198\n",
      "Epoch 018 Train 0.0048 Val 0.0187\n",
      "Epoch 019 Train 0.0046 Val 0.0201\n",
      "Epoch 020 Train 0.0045 Val 0.0195\n",
      "Epoch 021 Train 0.0044 Val 0.0198\n",
      "Epoch 022 Train 0.0042 Val 0.0211\n",
      "Decrease LR\n",
      "Epoch 023 Train 0.0041 Val 0.0206\n",
      "Epoch 024 Train 0.0039 Val 0.0216\n",
      "Epoch 025 Train 0.0039 Val 0.0213\n",
      "Epoch 026 Train 0.0038 Val 0.0213\n",
      "Epoch 027 Train 0.0038 Val 0.0203\n"
     ]
    },
    {
     "name": "stderr",
     "output_type": "stream",
     "text": [
      "[I 2024-04-10 17:04:54,092] Trial 23 finished with value: 0.579011877377828 and parameters: {'n_hidden_units': 35, 'num_layers': 4, 'input_size_LSTM': 23, 'dropout_1': 0.6623335711483382, 'dropout_2': 0.2605462428489398, 'lr': 0.0005151242537149841, 'lr_gamma': 1.3831580258435472, 'seq_length_LSTM': 18, 'batch_size_train': 37, 'batch_size_val': 26, 'huber_delta': 8, 'alpha_reg': 3.6823612407081912e-06, 'l1_ratio_reg': 0.25434399814562453}. Best is trial 14 with value: 0.6294087171554565.\n"
     ]
    },
    {
     "name": "stdout",
     "output_type": "stream",
     "text": [
      "Decrease LR\n",
      "Epoch 000 Train 0.0654 Val 0.0219\n",
      "Epoch 001 Train 0.0657 Val 0.0184\n",
      "Epoch 002 Train 0.0677 Val 0.0197\n",
      "Epoch 003 Train 0.0699 Val 0.0220\n",
      "Epoch 004 Train 0.0720 Val 0.0235\n",
      "Epoch 005 Train 0.0739 Val 0.0213\n",
      "Epoch 006 Train 0.0762 Val 0.0207\n",
      "Epoch 007 Train 0.0785 Val 0.0190\n",
      "Epoch 008 Train 0.0806 Val 0.0213\n",
      "Epoch 009 Train 0.0827 Val 0.0224\n",
      "Epoch 010 Train 0.0861 Val 0.0221\n",
      "Epoch 011 Train 0.0926 Val 0.0258\n",
      "Epoch 012 Train 0.0992 Val 0.0222\n",
      "Epoch 013 Train 0.1031 Val 0.0220\n",
      "Epoch 014 Train 0.1057 Val 0.0226\n",
      "Decrease LR\n",
      "Epoch 015 Train 0.1078 Val 0.0225\n",
      "Epoch 016 Train 0.1088 Val 0.0229\n",
      "Epoch 017 Train 0.1088 Val 0.0228\n",
      "Epoch 018 Train 0.1089 Val 0.0240\n",
      "Epoch 019 Train 0.1090 Val 0.0240\n"
     ]
    },
    {
     "name": "stderr",
     "output_type": "stream",
     "text": [
      "[I 2024-04-10 17:06:23,273] Trial 24 finished with value: 0.45333049694697064 and parameters: {'n_hidden_units': 27, 'num_layers': 5, 'input_size_LSTM': 29, 'dropout_1': 0.28293176546626, 'dropout_2': 0.4451604059695278, 'lr': 0.0049736593248743246, 'lr_gamma': 1.4965507737887176, 'seq_length_LSTM': 15, 'batch_size_train': 33, 'batch_size_val': 33, 'huber_delta': 6, 'alpha_reg': 0.0001921106482297575, 'l1_ratio_reg': 0.3510219058332526}. Best is trial 14 with value: 0.6294087171554565.\n"
     ]
    },
    {
     "name": "stdout",
     "output_type": "stream",
     "text": [
      "Decrease LR\n",
      "Epoch 000 Train 0.0312 Val 0.0305\n",
      "Epoch 001 Train 0.0177 Val 0.0245\n",
      "Epoch 002 Train 0.0150 Val 0.0244\n",
      "Epoch 003 Train 0.0140 Val 0.0238\n",
      "Epoch 004 Train 0.0132 Val 0.0234\n",
      "Epoch 005 Train 0.0126 Val 0.0236\n",
      "Epoch 006 Train 0.0124 Val 0.0263\n",
      "Epoch 007 Train 0.0121 Val 0.0267\n",
      "Epoch 008 Train 0.0118 Val 0.0271\n",
      "Epoch 009 Train 0.0116 Val 0.0295\n",
      "Epoch 010 Train 0.0115 Val 0.0290\n",
      "Epoch 011 Train 0.0114 Val 0.0285\n",
      "Epoch 012 Train 0.0113 Val 0.0296\n",
      "Epoch 013 Train 0.0112 Val 0.0296\n",
      "Epoch 014 Train 0.0112 Val 0.0297\n",
      "Decrease LR\n",
      "Epoch 015 Train 0.0112 Val 0.0299\n",
      "Epoch 016 Train 0.0111 Val 0.0292\n",
      "Epoch 017 Train 0.0110 Val 0.0291\n",
      "Epoch 018 Train 0.0110 Val 0.0282\n",
      "Epoch 019 Train 0.0110 Val 0.0272\n"
     ]
    },
    {
     "name": "stderr",
     "output_type": "stream",
     "text": [
      "[I 2024-04-10 17:08:07,717] Trial 25 finished with value: 0.5479203263918558 and parameters: {'n_hidden_units': 19, 'num_layers': 4, 'input_size_LSTM': 36, 'dropout_1': 0.3982025309343728, 'dropout_2': 0.000915465597668863, 'lr': 0.0018992165403221158, 'lr_gamma': 1.4157909246280305, 'seq_length_LSTM': 19, 'batch_size_train': 27, 'batch_size_val': 22, 'huber_delta': 7, 'alpha_reg': 2.7439157977113924e-05, 'l1_ratio_reg': 0.40592167851685473}. Best is trial 14 with value: 0.6294087171554565.\n"
     ]
    },
    {
     "name": "stdout",
     "output_type": "stream",
     "text": [
      "Decrease LR\n",
      "Epoch 000 Train 0.0445 Val 0.0231\n",
      "Epoch 001 Train 0.0379 Val 0.0209\n",
      "Epoch 002 Train 0.0354 Val 0.0248\n",
      "Epoch 003 Train 0.0334 Val 0.0213\n",
      "Epoch 004 Train 0.0325 Val 0.0263\n",
      "Epoch 005 Train 0.0324 Val 0.0270\n",
      "Epoch 006 Train 0.0324 Val 0.0275\n",
      "Epoch 007 Train 0.0322 Val 0.0257\n"
     ]
    },
    {
     "name": "stderr",
     "output_type": "stream",
     "text": [
      "[I 2024-04-10 17:08:43,203] Trial 26 pruned. \n"
     ]
    },
    {
     "name": "stdout",
     "output_type": "stream",
     "text": [
      "Epoch 008 Train 0.0322 Val 0.0243\n",
      "Epoch 000 Train 0.0302 Val 0.0256\n",
      "Epoch 001 Train 0.0175 Val 0.0232\n",
      "Epoch 002 Train 0.0140 Val 0.0247\n",
      "Epoch 003 Train 0.0118 Val 0.0265\n",
      "Epoch 004 Train 0.0107 Val 0.0252\n",
      "Epoch 005 Train 0.0100 Val 0.0260\n",
      "Epoch 006 Train 0.0096 Val 0.0269\n",
      "Epoch 007 Train 0.0092 Val 0.0251\n"
     ]
    },
    {
     "name": "stderr",
     "output_type": "stream",
     "text": [
      "[I 2024-04-10 17:09:07,426] Trial 27 pruned. \n"
     ]
    },
    {
     "name": "stdout",
     "output_type": "stream",
     "text": [
      "Epoch 008 Train 0.0089 Val 0.0253\n",
      "Epoch 000 Train 0.0883 Val 0.0330\n",
      "Epoch 001 Train 0.0764 Val 0.0229\n",
      "Epoch 002 Train 0.0734 Val 0.0244\n",
      "Epoch 003 Train 0.0724 Val 0.0238\n",
      "Epoch 004 Train 0.0727 Val 0.0257\n",
      "Epoch 005 Train 0.0733 Val 0.0250\n"
     ]
    },
    {
     "name": "stderr",
     "output_type": "stream",
     "text": [
      "[I 2024-04-10 17:09:38,600] Trial 28 pruned. \n"
     ]
    },
    {
     "name": "stdout",
     "output_type": "stream",
     "text": [
      "Epoch 006 Train 0.0739 Val 0.0261\n",
      "Epoch 000 Train 0.0366 Val 0.0217\n",
      "Epoch 001 Train 0.0342 Val 0.0245\n",
      "Epoch 002 Train 0.0358 Val 0.0211\n",
      "Epoch 003 Train 0.0376 Val 0.0209\n",
      "Epoch 004 Train 0.0390 Val 0.0190\n",
      "Epoch 005 Train 0.0406 Val 0.0206\n",
      "Epoch 006 Train 0.0422 Val 0.0218\n",
      "Epoch 007 Train 0.0435 Val 0.0225\n",
      "Epoch 008 Train 0.0450 Val 0.0231\n",
      "Epoch 009 Train 0.0473 Val 0.0226\n",
      "Epoch 010 Train 0.0498 Val 0.0236\n",
      "Epoch 011 Train 0.0521 Val 0.0220\n",
      "Epoch 012 Train 0.0541 Val 0.0202\n",
      "Epoch 013 Train 0.0563 Val 0.0216\n",
      "Epoch 014 Train 0.0587 Val 0.0272\n",
      "Decrease LR\n",
      "Epoch 015 Train 0.0609 Val 0.0248\n",
      "Epoch 016 Train 0.0618 Val 0.0225\n",
      "Epoch 017 Train 0.0620 Val 0.0246\n",
      "Epoch 018 Train 0.0622 Val 0.0232\n",
      "Epoch 019 Train 0.0624 Val 0.0229\n"
     ]
    },
    {
     "name": "stderr",
     "output_type": "stream",
     "text": [
      "[I 2024-04-10 17:11:42,541] Trial 29 finished with value: 0.6101757884025574 and parameters: {'n_hidden_units': 48, 'num_layers': 5, 'input_size_LSTM': 28, 'dropout_1': 0.6301115710125259, 'dropout_2': 0.28410657229673986, 'lr': 0.007054410271015403, 'lr_gamma': 1.082977632333134, 'seq_length_LSTM': 14, 'batch_size_train': 25, 'batch_size_val': 20, 'huber_delta': 5, 'alpha_reg': 6.200631424405033e-05, 'l1_ratio_reg': 0.37666505231993336}. Best is trial 14 with value: 0.6294087171554565.\n"
     ]
    },
    {
     "name": "stdout",
     "output_type": "stream",
     "text": [
      "Decrease LR\n",
      "seq_length_LSTM: 0.28027618437561724\n",
      "dropout_1: 0.20743737365660045\n",
      "dropout_2: 0.11288424008265828\n",
      "n_hidden_units: 0.11235759649298317\n",
      "input_size_LSTM: 0.10130934845745654\n",
      "batch_size_val: 0.03696156263780728\n",
      "lr_gamma: 0.03207683000616677\n",
      "num_layers: 0.029609800630826463\n",
      "l1_ratio_reg: 0.02782169689956927\n",
      "lr: 0.02470460686785145\n",
      "alpha_reg: 0.020834567530554685\n",
      "huber_delta: 0.009694289294782403\n",
      "batch_size_train: 0.004031903067125941\n",
      "Study statistics: \n",
      "Number of finished trials:  30\n",
      "Number of pruned trials:  9\n",
      "Number of complete trials:  21\n",
      "Best trial: \n",
      "Loss: 0.6294087171554565\n",
      "Best hyperparameters: {'n_hidden_units': 32, 'num_layers': 5, 'input_size_LSTM': 31, 'dropout_1': 0.45353387311567006, 'dropout_2': 0.43469775095920277, 'lr': 0.0017186636685695396, 'lr_gamma': 1.4869841187864843, 'seq_length_LSTM': 17, 'batch_size_train': 33, 'batch_size_val': 34, 'huber_delta': 7, 'alpha_reg': 6.5952774295107e-06, 'l1_ratio_reg': 0.38894691744111975}\n"
     ]
    }
   ],
   "source": [
    "study = optuna.create_study(direction=\"maximize\")\n",
    "\n",
    "# Set pruning options\n",
    "study.pruner = optuna.pruners.MedianPruner(n_startup_trials=5, n_warmup_steps=5)\n",
    "\n",
    "study.optimize(train_model_optuna, n_trials=30)\n",
    "\n",
    "importance_scores = optuna.importance.get_param_importances(study)\n",
    "\n",
    "# Print importance scores\n",
    "for param, score in importance_scores.items():\n",
    "    print(f\"{param}: {score}\")\n",
    "\n",
    "pruned_trials = [t for t in study.trials if t.state == optuna.trial.TrialState.PRUNED]\n",
    "complete_trials = [t for t in study.trials if t.state == optuna.trial.TrialState.COMPLETE]\n",
    "\n",
    "print('Study statistics: ')\n",
    "print(\"Number of finished trials: \", len(study.trials))\n",
    "print(\"Number of pruned trials: \", len(pruned_trials))\n",
    "print(\"Number of complete trials: \", len(complete_trials))\n",
    "\n",
    "print('Best trial: ')\n",
    "trial = study.best_trial\n",
    "\n",
    "print(\"Loss: {}\".format(trial.value))\n",
    "print(\"Best hyperparameters: {}\".format(trial.params))"
   ]
  },
  {
   "cell_type": "code",
   "execution_count": 12,
   "metadata": {},
   "outputs": [],
   "source": [
    "import joblib\n",
    "import json\n",
    "# Retrieve the best trial\n",
    "best_trial = study.best_trial\n",
    "\n",
    "# Get the best hyperparameters\n",
    "best_params = best_trial.params\n",
    "\n",
    "# Save the best parameters\n",
    "with open('stim_0411_best_params.json', 'w') as f:\n",
    "    json.dump(best_params, f)"
   ]
  },
  {
   "cell_type": "markdown",
   "metadata": {},
   "source": [
    "### Plotting the study"
   ]
  },
  {
   "cell_type": "code",
   "execution_count": 7,
   "metadata": {},
   "outputs": [
    {
     "data": {
      "application/vnd.plotly.v1+json": {
       "config": {
        "plotlyServerURL": "https://plot.ly"
       },
       "data": [
        {
         "mode": "markers",
         "name": "Objective Value",
         "type": "scatter",
         "x": [
          0,
          1,
          2,
          3,
          4,
          5,
          7,
          9,
          10,
          11,
          12,
          13,
          14,
          17,
          18,
          21,
          22,
          23,
          24,
          25,
          29
         ],
         "y": [
          0.4306870897610982,
          0.477204163869222,
          0.45676541328430176,
          0.5177579323450724,
          0.32102715969085693,
          0.45605067412058514,
          0.5817498167355856,
          0.5338129202524821,
          0.5796420574188232,
          0.47781042257944745,
          0.5747287074724833,
          0.41624881823857623,
          0.6294087171554565,
          0.49120070536931354,
          0.38171543677647907,
          0.6078126231829325,
          0.5788403352101644,
          0.579011877377828,
          0.45333049694697064,
          0.5479203263918558,
          0.6101757884025574
         ]
        },
        {
         "mode": "lines",
         "name": "Best Value",
         "type": "scatter",
         "x": [
          0,
          1,
          2,
          3,
          4,
          5,
          6,
          7,
          8,
          9,
          10,
          11,
          12,
          13,
          14,
          15,
          16,
          17,
          18,
          19,
          20,
          21,
          22,
          23,
          24,
          25,
          26,
          27,
          28,
          29
         ],
         "y": [
          0.4306870897610982,
          0.477204163869222,
          0.477204163869222,
          0.5177579323450724,
          0.5177579323450724,
          0.5177579323450724,
          0.5177579323450724,
          0.5817498167355856,
          0.5817498167355856,
          0.5817498167355856,
          0.5817498167355856,
          0.5817498167355856,
          0.5817498167355856,
          0.5817498167355856,
          0.6294087171554565,
          0.6294087171554565,
          0.6294087171554565,
          0.6294087171554565,
          0.6294087171554565,
          0.6294087171554565,
          0.6294087171554565,
          0.6294087171554565,
          0.6294087171554565,
          0.6294087171554565,
          0.6294087171554565,
          0.6294087171554565,
          0.6294087171554565,
          0.6294087171554565,
          0.6294087171554565,
          0.6294087171554565
         ]
        },
        {
         "marker": {
          "color": "#cccccc"
         },
         "mode": "markers",
         "name": "Infeasible Trial",
         "showlegend": false,
         "type": "scatter",
         "x": [],
         "y": []
        }
       ],
       "layout": {
        "template": {
         "data": {
          "bar": [
           {
            "error_x": {
             "color": "#2a3f5f"
            },
            "error_y": {
             "color": "#2a3f5f"
            },
            "marker": {
             "line": {
              "color": "#E5ECF6",
              "width": 0.5
             },
             "pattern": {
              "fillmode": "overlay",
              "size": 10,
              "solidity": 0.2
             }
            },
            "type": "bar"
           }
          ],
          "barpolar": [
           {
            "marker": {
             "line": {
              "color": "#E5ECF6",
              "width": 0.5
             },
             "pattern": {
              "fillmode": "overlay",
              "size": 10,
              "solidity": 0.2
             }
            },
            "type": "barpolar"
           }
          ],
          "carpet": [
           {
            "aaxis": {
             "endlinecolor": "#2a3f5f",
             "gridcolor": "white",
             "linecolor": "white",
             "minorgridcolor": "white",
             "startlinecolor": "#2a3f5f"
            },
            "baxis": {
             "endlinecolor": "#2a3f5f",
             "gridcolor": "white",
             "linecolor": "white",
             "minorgridcolor": "white",
             "startlinecolor": "#2a3f5f"
            },
            "type": "carpet"
           }
          ],
          "choropleth": [
           {
            "colorbar": {
             "outlinewidth": 0,
             "ticks": ""
            },
            "type": "choropleth"
           }
          ],
          "contour": [
           {
            "colorbar": {
             "outlinewidth": 0,
             "ticks": ""
            },
            "colorscale": [
             [
              0,
              "#0d0887"
             ],
             [
              0.1111111111111111,
              "#46039f"
             ],
             [
              0.2222222222222222,
              "#7201a8"
             ],
             [
              0.3333333333333333,
              "#9c179e"
             ],
             [
              0.4444444444444444,
              "#bd3786"
             ],
             [
              0.5555555555555556,
              "#d8576b"
             ],
             [
              0.6666666666666666,
              "#ed7953"
             ],
             [
              0.7777777777777778,
              "#fb9f3a"
             ],
             [
              0.8888888888888888,
              "#fdca26"
             ],
             [
              1,
              "#f0f921"
             ]
            ],
            "type": "contour"
           }
          ],
          "contourcarpet": [
           {
            "colorbar": {
             "outlinewidth": 0,
             "ticks": ""
            },
            "type": "contourcarpet"
           }
          ],
          "heatmap": [
           {
            "colorbar": {
             "outlinewidth": 0,
             "ticks": ""
            },
            "colorscale": [
             [
              0,
              "#0d0887"
             ],
             [
              0.1111111111111111,
              "#46039f"
             ],
             [
              0.2222222222222222,
              "#7201a8"
             ],
             [
              0.3333333333333333,
              "#9c179e"
             ],
             [
              0.4444444444444444,
              "#bd3786"
             ],
             [
              0.5555555555555556,
              "#d8576b"
             ],
             [
              0.6666666666666666,
              "#ed7953"
             ],
             [
              0.7777777777777778,
              "#fb9f3a"
             ],
             [
              0.8888888888888888,
              "#fdca26"
             ],
             [
              1,
              "#f0f921"
             ]
            ],
            "type": "heatmap"
           }
          ],
          "heatmapgl": [
           {
            "colorbar": {
             "outlinewidth": 0,
             "ticks": ""
            },
            "colorscale": [
             [
              0,
              "#0d0887"
             ],
             [
              0.1111111111111111,
              "#46039f"
             ],
             [
              0.2222222222222222,
              "#7201a8"
             ],
             [
              0.3333333333333333,
              "#9c179e"
             ],
             [
              0.4444444444444444,
              "#bd3786"
             ],
             [
              0.5555555555555556,
              "#d8576b"
             ],
             [
              0.6666666666666666,
              "#ed7953"
             ],
             [
              0.7777777777777778,
              "#fb9f3a"
             ],
             [
              0.8888888888888888,
              "#fdca26"
             ],
             [
              1,
              "#f0f921"
             ]
            ],
            "type": "heatmapgl"
           }
          ],
          "histogram": [
           {
            "marker": {
             "pattern": {
              "fillmode": "overlay",
              "size": 10,
              "solidity": 0.2
             }
            },
            "type": "histogram"
           }
          ],
          "histogram2d": [
           {
            "colorbar": {
             "outlinewidth": 0,
             "ticks": ""
            },
            "colorscale": [
             [
              0,
              "#0d0887"
             ],
             [
              0.1111111111111111,
              "#46039f"
             ],
             [
              0.2222222222222222,
              "#7201a8"
             ],
             [
              0.3333333333333333,
              "#9c179e"
             ],
             [
              0.4444444444444444,
              "#bd3786"
             ],
             [
              0.5555555555555556,
              "#d8576b"
             ],
             [
              0.6666666666666666,
              "#ed7953"
             ],
             [
              0.7777777777777778,
              "#fb9f3a"
             ],
             [
              0.8888888888888888,
              "#fdca26"
             ],
             [
              1,
              "#f0f921"
             ]
            ],
            "type": "histogram2d"
           }
          ],
          "histogram2dcontour": [
           {
            "colorbar": {
             "outlinewidth": 0,
             "ticks": ""
            },
            "colorscale": [
             [
              0,
              "#0d0887"
             ],
             [
              0.1111111111111111,
              "#46039f"
             ],
             [
              0.2222222222222222,
              "#7201a8"
             ],
             [
              0.3333333333333333,
              "#9c179e"
             ],
             [
              0.4444444444444444,
              "#bd3786"
             ],
             [
              0.5555555555555556,
              "#d8576b"
             ],
             [
              0.6666666666666666,
              "#ed7953"
             ],
             [
              0.7777777777777778,
              "#fb9f3a"
             ],
             [
              0.8888888888888888,
              "#fdca26"
             ],
             [
              1,
              "#f0f921"
             ]
            ],
            "type": "histogram2dcontour"
           }
          ],
          "mesh3d": [
           {
            "colorbar": {
             "outlinewidth": 0,
             "ticks": ""
            },
            "type": "mesh3d"
           }
          ],
          "parcoords": [
           {
            "line": {
             "colorbar": {
              "outlinewidth": 0,
              "ticks": ""
             }
            },
            "type": "parcoords"
           }
          ],
          "pie": [
           {
            "automargin": true,
            "type": "pie"
           }
          ],
          "scatter": [
           {
            "fillpattern": {
             "fillmode": "overlay",
             "size": 10,
             "solidity": 0.2
            },
            "type": "scatter"
           }
          ],
          "scatter3d": [
           {
            "line": {
             "colorbar": {
              "outlinewidth": 0,
              "ticks": ""
             }
            },
            "marker": {
             "colorbar": {
              "outlinewidth": 0,
              "ticks": ""
             }
            },
            "type": "scatter3d"
           }
          ],
          "scattercarpet": [
           {
            "marker": {
             "colorbar": {
              "outlinewidth": 0,
              "ticks": ""
             }
            },
            "type": "scattercarpet"
           }
          ],
          "scattergeo": [
           {
            "marker": {
             "colorbar": {
              "outlinewidth": 0,
              "ticks": ""
             }
            },
            "type": "scattergeo"
           }
          ],
          "scattergl": [
           {
            "marker": {
             "colorbar": {
              "outlinewidth": 0,
              "ticks": ""
             }
            },
            "type": "scattergl"
           }
          ],
          "scattermapbox": [
           {
            "marker": {
             "colorbar": {
              "outlinewidth": 0,
              "ticks": ""
             }
            },
            "type": "scattermapbox"
           }
          ],
          "scatterpolar": [
           {
            "marker": {
             "colorbar": {
              "outlinewidth": 0,
              "ticks": ""
             }
            },
            "type": "scatterpolar"
           }
          ],
          "scatterpolargl": [
           {
            "marker": {
             "colorbar": {
              "outlinewidth": 0,
              "ticks": ""
             }
            },
            "type": "scatterpolargl"
           }
          ],
          "scatterternary": [
           {
            "marker": {
             "colorbar": {
              "outlinewidth": 0,
              "ticks": ""
             }
            },
            "type": "scatterternary"
           }
          ],
          "surface": [
           {
            "colorbar": {
             "outlinewidth": 0,
             "ticks": ""
            },
            "colorscale": [
             [
              0,
              "#0d0887"
             ],
             [
              0.1111111111111111,
              "#46039f"
             ],
             [
              0.2222222222222222,
              "#7201a8"
             ],
             [
              0.3333333333333333,
              "#9c179e"
             ],
             [
              0.4444444444444444,
              "#bd3786"
             ],
             [
              0.5555555555555556,
              "#d8576b"
             ],
             [
              0.6666666666666666,
              "#ed7953"
             ],
             [
              0.7777777777777778,
              "#fb9f3a"
             ],
             [
              0.8888888888888888,
              "#fdca26"
             ],
             [
              1,
              "#f0f921"
             ]
            ],
            "type": "surface"
           }
          ],
          "table": [
           {
            "cells": {
             "fill": {
              "color": "#EBF0F8"
             },
             "line": {
              "color": "white"
             }
            },
            "header": {
             "fill": {
              "color": "#C8D4E3"
             },
             "line": {
              "color": "white"
             }
            },
            "type": "table"
           }
          ]
         },
         "layout": {
          "annotationdefaults": {
           "arrowcolor": "#2a3f5f",
           "arrowhead": 0,
           "arrowwidth": 1
          },
          "autotypenumbers": "strict",
          "coloraxis": {
           "colorbar": {
            "outlinewidth": 0,
            "ticks": ""
           }
          },
          "colorscale": {
           "diverging": [
            [
             0,
             "#8e0152"
            ],
            [
             0.1,
             "#c51b7d"
            ],
            [
             0.2,
             "#de77ae"
            ],
            [
             0.3,
             "#f1b6da"
            ],
            [
             0.4,
             "#fde0ef"
            ],
            [
             0.5,
             "#f7f7f7"
            ],
            [
             0.6,
             "#e6f5d0"
            ],
            [
             0.7,
             "#b8e186"
            ],
            [
             0.8,
             "#7fbc41"
            ],
            [
             0.9,
             "#4d9221"
            ],
            [
             1,
             "#276419"
            ]
           ],
           "sequential": [
            [
             0,
             "#0d0887"
            ],
            [
             0.1111111111111111,
             "#46039f"
            ],
            [
             0.2222222222222222,
             "#7201a8"
            ],
            [
             0.3333333333333333,
             "#9c179e"
            ],
            [
             0.4444444444444444,
             "#bd3786"
            ],
            [
             0.5555555555555556,
             "#d8576b"
            ],
            [
             0.6666666666666666,
             "#ed7953"
            ],
            [
             0.7777777777777778,
             "#fb9f3a"
            ],
            [
             0.8888888888888888,
             "#fdca26"
            ],
            [
             1,
             "#f0f921"
            ]
           ],
           "sequentialminus": [
            [
             0,
             "#0d0887"
            ],
            [
             0.1111111111111111,
             "#46039f"
            ],
            [
             0.2222222222222222,
             "#7201a8"
            ],
            [
             0.3333333333333333,
             "#9c179e"
            ],
            [
             0.4444444444444444,
             "#bd3786"
            ],
            [
             0.5555555555555556,
             "#d8576b"
            ],
            [
             0.6666666666666666,
             "#ed7953"
            ],
            [
             0.7777777777777778,
             "#fb9f3a"
            ],
            [
             0.8888888888888888,
             "#fdca26"
            ],
            [
             1,
             "#f0f921"
            ]
           ]
          },
          "colorway": [
           "#636efa",
           "#EF553B",
           "#00cc96",
           "#ab63fa",
           "#FFA15A",
           "#19d3f3",
           "#FF6692",
           "#B6E880",
           "#FF97FF",
           "#FECB52"
          ],
          "font": {
           "color": "#2a3f5f"
          },
          "geo": {
           "bgcolor": "white",
           "lakecolor": "white",
           "landcolor": "#E5ECF6",
           "showlakes": true,
           "showland": true,
           "subunitcolor": "white"
          },
          "hoverlabel": {
           "align": "left"
          },
          "hovermode": "closest",
          "mapbox": {
           "style": "light"
          },
          "paper_bgcolor": "white",
          "plot_bgcolor": "#E5ECF6",
          "polar": {
           "angularaxis": {
            "gridcolor": "white",
            "linecolor": "white",
            "ticks": ""
           },
           "bgcolor": "#E5ECF6",
           "radialaxis": {
            "gridcolor": "white",
            "linecolor": "white",
            "ticks": ""
           }
          },
          "scene": {
           "xaxis": {
            "backgroundcolor": "#E5ECF6",
            "gridcolor": "white",
            "gridwidth": 2,
            "linecolor": "white",
            "showbackground": true,
            "ticks": "",
            "zerolinecolor": "white"
           },
           "yaxis": {
            "backgroundcolor": "#E5ECF6",
            "gridcolor": "white",
            "gridwidth": 2,
            "linecolor": "white",
            "showbackground": true,
            "ticks": "",
            "zerolinecolor": "white"
           },
           "zaxis": {
            "backgroundcolor": "#E5ECF6",
            "gridcolor": "white",
            "gridwidth": 2,
            "linecolor": "white",
            "showbackground": true,
            "ticks": "",
            "zerolinecolor": "white"
           }
          },
          "shapedefaults": {
           "line": {
            "color": "#2a3f5f"
           }
          },
          "ternary": {
           "aaxis": {
            "gridcolor": "white",
            "linecolor": "white",
            "ticks": ""
           },
           "baxis": {
            "gridcolor": "white",
            "linecolor": "white",
            "ticks": ""
           },
           "bgcolor": "#E5ECF6",
           "caxis": {
            "gridcolor": "white",
            "linecolor": "white",
            "ticks": ""
           }
          },
          "title": {
           "x": 0.05
          },
          "xaxis": {
           "automargin": true,
           "gridcolor": "white",
           "linecolor": "white",
           "ticks": "",
           "title": {
            "standoff": 15
           },
           "zerolinecolor": "white",
           "zerolinewidth": 2
          },
          "yaxis": {
           "automargin": true,
           "gridcolor": "white",
           "linecolor": "white",
           "ticks": "",
           "title": {
            "standoff": 15
           },
           "zerolinecolor": "white",
           "zerolinewidth": 2
          }
         }
        },
        "title": {
         "text": "Optimization History Plot"
        },
        "xaxis": {
         "title": {
          "text": "Trial"
         }
        },
        "yaxis": {
         "title": {
          "text": "Objective Value"
         }
        }
       }
      }
     },
     "metadata": {},
     "output_type": "display_data"
    }
   ],
   "source": [
    "optuna.visualization.plot_optimization_history(study)"
   ]
  },
  {
   "cell_type": "code",
   "execution_count": 8,
   "metadata": {},
   "outputs": [
    {
     "data": {
      "application/vnd.plotly.v1+json": {
       "config": {
        "plotlyServerURL": "https://plot.ly"
       },
       "data": [
        {
         "marker": {
          "color": [
           0,
           1,
           2,
           3,
           4,
           5,
           7,
           9,
           10,
           11,
           12,
           13,
           14,
           17,
           18,
           21,
           22,
           23,
           24,
           25,
           29
          ],
          "colorbar": {
           "title": {
            "text": "Trial"
           },
           "x": 1,
           "xpad": 40
          },
          "colorscale": [
           [
            0,
            "rgb(247,251,255)"
           ],
           [
            0.125,
            "rgb(222,235,247)"
           ],
           [
            0.25,
            "rgb(198,219,239)"
           ],
           [
            0.375,
            "rgb(158,202,225)"
           ],
           [
            0.5,
            "rgb(107,174,214)"
           ],
           [
            0.625,
            "rgb(66,146,198)"
           ],
           [
            0.75,
            "rgb(33,113,181)"
           ],
           [
            0.875,
            "rgb(8,81,156)"
           ],
           [
            1,
            "rgb(8,48,107)"
           ]
          ],
          "line": {
           "color": "Grey",
           "width": 0.5
          },
          "showscale": true
         },
         "mode": "markers",
         "name": "Feasible Trial",
         "showlegend": false,
         "type": "scatter",
         "x": [
          0.0008225967018626142,
          7.313490805237113e-7,
          4.95715742548499e-7,
          0.0005906420574160056,
          0.0000019059612872778445,
          0.0000016614016029542393,
          0.000042863384239234356,
          0.0007988410495108699,
          0.00004594196266243832,
          0.000041583930466352125,
          0.000028931455652663635,
          0.00010273586522622549,
          0.0000065952774295107,
          1.1076163089589288e-7,
          0.000013082396925483329,
          0.00006843188501708906,
          0.00011040397020352851,
          0.0000036823612407081912,
          0.0001921106482297575,
          0.000027439157977113924,
          0.00006200631424405033
         ],
         "xaxis": "x",
         "y": [
          0.4306870897610982,
          0.477204163869222,
          0.45676541328430176,
          0.5177579323450724,
          0.32102715969085693,
          0.45605067412058514,
          0.5817498167355856,
          0.5338129202524821,
          0.5796420574188232,
          0.47781042257944745,
          0.5747287074724833,
          0.41624881823857623,
          0.6294087171554565,
          0.49120070536931354,
          0.38171543677647907,
          0.6078126231829325,
          0.5788403352101644,
          0.579011877377828,
          0.45333049694697064,
          0.5479203263918558,
          0.6101757884025574
         ],
         "yaxis": "y"
        },
        {
         "marker": {
          "color": [
           0,
           1,
           2,
           3,
           4,
           5,
           7,
           9,
           10,
           11,
           12,
           13,
           14,
           17,
           18,
           21,
           22,
           23,
           24,
           25,
           29
          ],
          "colorbar": {
           "title": {
            "text": "Trial"
           },
           "x": 1,
           "xpad": 40
          },
          "colorscale": [
           [
            0,
            "rgb(247,251,255)"
           ],
           [
            0.125,
            "rgb(222,235,247)"
           ],
           [
            0.25,
            "rgb(198,219,239)"
           ],
           [
            0.375,
            "rgb(158,202,225)"
           ],
           [
            0.5,
            "rgb(107,174,214)"
           ],
           [
            0.625,
            "rgb(66,146,198)"
           ],
           [
            0.75,
            "rgb(33,113,181)"
           ],
           [
            0.875,
            "rgb(8,81,156)"
           ],
           [
            1,
            "rgb(8,48,107)"
           ]
          ],
          "line": {
           "color": "Grey",
           "width": 0.5
          },
          "showscale": false
         },
         "mode": "markers",
         "name": "Feasible Trial",
         "showlegend": false,
         "type": "scatter",
         "x": [
          25,
          50,
          29,
          29,
          42,
          32,
          29,
          48,
          40,
          39,
          37,
          43,
          33,
          30,
          35,
          39,
          44,
          37,
          33,
          27,
          25
         ],
         "xaxis": "x2",
         "y": [
          0.4306870897610982,
          0.477204163869222,
          0.45676541328430176,
          0.5177579323450724,
          0.32102715969085693,
          0.45605067412058514,
          0.5817498167355856,
          0.5338129202524821,
          0.5796420574188232,
          0.47781042257944745,
          0.5747287074724833,
          0.41624881823857623,
          0.6294087171554565,
          0.49120070536931354,
          0.38171543677647907,
          0.6078126231829325,
          0.5788403352101644,
          0.579011877377828,
          0.45333049694697064,
          0.5479203263918558,
          0.6101757884025574
         ],
         "yaxis": "y2"
        },
        {
         "marker": {
          "color": [
           0,
           1,
           2,
           3,
           4,
           5,
           7,
           9,
           10,
           11,
           12,
           13,
           14,
           17,
           18,
           21,
           22,
           23,
           24,
           25,
           29
          ],
          "colorbar": {
           "title": {
            "text": "Trial"
           },
           "x": 1,
           "xpad": 40
          },
          "colorscale": [
           [
            0,
            "rgb(247,251,255)"
           ],
           [
            0.125,
            "rgb(222,235,247)"
           ],
           [
            0.25,
            "rgb(198,219,239)"
           ],
           [
            0.375,
            "rgb(158,202,225)"
           ],
           [
            0.5,
            "rgb(107,174,214)"
           ],
           [
            0.625,
            "rgb(66,146,198)"
           ],
           [
            0.75,
            "rgb(33,113,181)"
           ],
           [
            0.875,
            "rgb(8,81,156)"
           ],
           [
            1,
            "rgb(8,48,107)"
           ]
          ],
          "line": {
           "color": "Grey",
           "width": 0.5
          },
          "showscale": false
         },
         "mode": "markers",
         "name": "Feasible Trial",
         "showlegend": false,
         "type": "scatter",
         "x": [
          20,
          24,
          48,
          31,
          38,
          46,
          43,
          35,
          28,
          29,
          28,
          42,
          34,
          40,
          32,
          25,
          23,
          26,
          33,
          22,
          20
         ],
         "xaxis": "x3",
         "y": [
          0.4306870897610982,
          0.477204163869222,
          0.45676541328430176,
          0.5177579323450724,
          0.32102715969085693,
          0.45605067412058514,
          0.5817498167355856,
          0.5338129202524821,
          0.5796420574188232,
          0.47781042257944745,
          0.5747287074724833,
          0.41624881823857623,
          0.6294087171554565,
          0.49120070536931354,
          0.38171543677647907,
          0.6078126231829325,
          0.5788403352101644,
          0.579011877377828,
          0.45333049694697064,
          0.5479203263918558,
          0.6101757884025574
         ],
         "yaxis": "y3"
        },
        {
         "marker": {
          "color": [
           0,
           1,
           2,
           3,
           4,
           5,
           7,
           9,
           10,
           11,
           12,
           13,
           14,
           17,
           18,
           21,
           22,
           23,
           24,
           25,
           29
          ],
          "colorbar": {
           "title": {
            "text": "Trial"
           },
           "x": 1,
           "xpad": 40
          },
          "colorscale": [
           [
            0,
            "rgb(247,251,255)"
           ],
           [
            0.125,
            "rgb(222,235,247)"
           ],
           [
            0.25,
            "rgb(198,219,239)"
           ],
           [
            0.375,
            "rgb(158,202,225)"
           ],
           [
            0.5,
            "rgb(107,174,214)"
           ],
           [
            0.625,
            "rgb(66,146,198)"
           ],
           [
            0.75,
            "rgb(33,113,181)"
           ],
           [
            0.875,
            "rgb(8,81,156)"
           ],
           [
            1,
            "rgb(8,48,107)"
           ]
          ],
          "line": {
           "color": "Grey",
           "width": 0.5
          },
          "showscale": false
         },
         "mode": "markers",
         "name": "Feasible Trial",
         "showlegend": false,
         "type": "scatter",
         "x": [
          0.8619303502433577,
          0.8520513042122673,
          0.547167260328482,
          0.8306211841893488,
          0.0005241612259899942,
          0.33512649533277356,
          0.624700352341097,
          0.8752549194443773,
          0.3675608302264672,
          0.3530286032490477,
          0.568831379415949,
          0.16445556676957318,
          0.45353387311567006,
          0.641736061920924,
          0.45169407119310445,
          0.34995611469214083,
          0.5038839686063716,
          0.6623335711483382,
          0.28293176546626,
          0.3982025309343728,
          0.6301115710125259
         ],
         "xaxis": "x4",
         "y": [
          0.4306870897610982,
          0.477204163869222,
          0.45676541328430176,
          0.5177579323450724,
          0.32102715969085693,
          0.45605067412058514,
          0.5817498167355856,
          0.5338129202524821,
          0.5796420574188232,
          0.47781042257944745,
          0.5747287074724833,
          0.41624881823857623,
          0.6294087171554565,
          0.49120070536931354,
          0.38171543677647907,
          0.6078126231829325,
          0.5788403352101644,
          0.579011877377828,
          0.45333049694697064,
          0.5479203263918558,
          0.6101757884025574
         ],
         "yaxis": "y4"
        },
        {
         "marker": {
          "color": [
           0,
           1,
           2,
           3,
           4,
           5,
           7,
           9,
           10,
           11,
           12,
           13,
           14,
           17,
           18,
           21,
           22,
           23,
           24,
           25,
           29
          ],
          "colorbar": {
           "title": {
            "text": "Trial"
           },
           "x": 1,
           "xpad": 40
          },
          "colorscale": [
           [
            0,
            "rgb(247,251,255)"
           ],
           [
            0.125,
            "rgb(222,235,247)"
           ],
           [
            0.25,
            "rgb(198,219,239)"
           ],
           [
            0.375,
            "rgb(158,202,225)"
           ],
           [
            0.5,
            "rgb(107,174,214)"
           ],
           [
            0.625,
            "rgb(66,146,198)"
           ],
           [
            0.75,
            "rgb(33,113,181)"
           ],
           [
            0.875,
            "rgb(8,81,156)"
           ],
           [
            1,
            "rgb(8,48,107)"
           ]
          ],
          "line": {
           "color": "Grey",
           "width": 0.5
          },
          "showscale": false
         },
         "mode": "markers",
         "name": "Feasible Trial",
         "showlegend": false,
         "type": "scatter",
         "x": [
          0.07033144188011413,
          0.8198070091307547,
          0.3258162793241634,
          0.8456338705570248,
          0.2982305230965782,
          0.4513010413725811,
          0.08852865191446055,
          0.8502386829593542,
          0.20813471248949444,
          0.22553495146133243,
          0.005664728724740359,
          0.159053509260347,
          0.43469775095920277,
          0.39285360473381303,
          0.6051997875499174,
          0.2205046828448558,
          0.1515030047292727,
          0.2605462428489398,
          0.4451604059695278,
          0.000915465597668863,
          0.28410657229673986
         ],
         "xaxis": "x5",
         "y": [
          0.4306870897610982,
          0.477204163869222,
          0.45676541328430176,
          0.5177579323450724,
          0.32102715969085693,
          0.45605067412058514,
          0.5817498167355856,
          0.5338129202524821,
          0.5796420574188232,
          0.47781042257944745,
          0.5747287074724833,
          0.41624881823857623,
          0.6294087171554565,
          0.49120070536931354,
          0.38171543677647907,
          0.6078126231829325,
          0.5788403352101644,
          0.579011877377828,
          0.45333049694697064,
          0.5479203263918558,
          0.6101757884025574
         ],
         "yaxis": "y5"
        },
        {
         "marker": {
          "color": [
           0,
           1,
           2,
           3,
           4,
           5,
           7,
           9,
           10,
           11,
           12,
           13,
           14,
           17,
           18,
           21,
           22,
           23,
           24,
           25,
           29
          ],
          "colorbar": {
           "title": {
            "text": "Trial"
           },
           "x": 1,
           "xpad": 40
          },
          "colorscale": [
           [
            0,
            "rgb(247,251,255)"
           ],
           [
            0.125,
            "rgb(222,235,247)"
           ],
           [
            0.25,
            "rgb(198,219,239)"
           ],
           [
            0.375,
            "rgb(158,202,225)"
           ],
           [
            0.5,
            "rgb(107,174,214)"
           ],
           [
            0.625,
            "rgb(66,146,198)"
           ],
           [
            0.75,
            "rgb(33,113,181)"
           ],
           [
            0.875,
            "rgb(8,81,156)"
           ],
           [
            1,
            "rgb(8,48,107)"
           ]
          ],
          "line": {
           "color": "Grey",
           "width": 0.5
          },
          "showscale": false
         },
         "mode": "markers",
         "name": "Feasible Trial",
         "showlegend": false,
         "type": "scatter",
         "x": [
          5,
          10,
          7,
          6,
          9,
          5,
          7,
          5,
          7,
          7,
          8,
          6,
          7,
          9,
          7,
          7,
          7,
          8,
          6,
          7,
          5
         ],
         "xaxis": "x6",
         "y": [
          0.4306870897610982,
          0.477204163869222,
          0.45676541328430176,
          0.5177579323450724,
          0.32102715969085693,
          0.45605067412058514,
          0.5817498167355856,
          0.5338129202524821,
          0.5796420574188232,
          0.47781042257944745,
          0.5747287074724833,
          0.41624881823857623,
          0.6294087171554565,
          0.49120070536931354,
          0.38171543677647907,
          0.6078126231829325,
          0.5788403352101644,
          0.579011877377828,
          0.45333049694697064,
          0.5479203263918558,
          0.6101757884025574
         ],
         "yaxis": "y6"
        },
        {
         "marker": {
          "color": [
           0,
           1,
           2,
           3,
           4,
           5,
           7,
           9,
           10,
           11,
           12,
           13,
           14,
           17,
           18,
           21,
           22,
           23,
           24,
           25,
           29
          ],
          "colorbar": {
           "title": {
            "text": "Trial"
           },
           "x": 1,
           "xpad": 40
          },
          "colorscale": [
           [
            0,
            "rgb(247,251,255)"
           ],
           [
            0.125,
            "rgb(222,235,247)"
           ],
           [
            0.25,
            "rgb(198,219,239)"
           ],
           [
            0.375,
            "rgb(158,202,225)"
           ],
           [
            0.5,
            "rgb(107,174,214)"
           ],
           [
            0.625,
            "rgb(66,146,198)"
           ],
           [
            0.75,
            "rgb(33,113,181)"
           ],
           [
            0.875,
            "rgb(8,81,156)"
           ],
           [
            1,
            "rgb(8,48,107)"
           ]
          ],
          "line": {
           "color": "Grey",
           "width": 0.5
          },
          "showscale": false
         },
         "mode": "markers",
         "name": "Feasible Trial",
         "showlegend": false,
         "type": "scatter",
         "x": [
          36,
          41,
          59,
          29,
          42,
          25,
          22,
          26,
          22,
          20,
          20,
          33,
          31,
          50,
          28,
          23,
          26,
          23,
          29,
          36,
          28
         ],
         "xaxis": "x7",
         "y": [
          0.4306870897610982,
          0.477204163869222,
          0.45676541328430176,
          0.5177579323450724,
          0.32102715969085693,
          0.45605067412058514,
          0.5817498167355856,
          0.5338129202524821,
          0.5796420574188232,
          0.47781042257944745,
          0.5747287074724833,
          0.41624881823857623,
          0.6294087171554565,
          0.49120070536931354,
          0.38171543677647907,
          0.6078126231829325,
          0.5788403352101644,
          0.579011877377828,
          0.45333049694697064,
          0.5479203263918558,
          0.6101757884025574
         ],
         "yaxis": "y7"
        },
        {
         "marker": {
          "color": [
           0,
           1,
           2,
           3,
           4,
           5,
           7,
           9,
           10,
           11,
           12,
           13,
           14,
           17,
           18,
           21,
           22,
           23,
           24,
           25,
           29
          ],
          "colorbar": {
           "title": {
            "text": "Trial"
           },
           "x": 1,
           "xpad": 40
          },
          "colorscale": [
           [
            0,
            "rgb(247,251,255)"
           ],
           [
            0.125,
            "rgb(222,235,247)"
           ],
           [
            0.25,
            "rgb(198,219,239)"
           ],
           [
            0.375,
            "rgb(158,202,225)"
           ],
           [
            0.5,
            "rgb(107,174,214)"
           ],
           [
            0.625,
            "rgb(66,146,198)"
           ],
           [
            0.75,
            "rgb(33,113,181)"
           ],
           [
            0.875,
            "rgb(8,81,156)"
           ],
           [
            1,
            "rgb(8,48,107)"
           ]
          ],
          "line": {
           "color": "Grey",
           "width": 0.5
          },
          "showscale": false
         },
         "mode": "markers",
         "name": "Feasible Trial",
         "showlegend": false,
         "type": "scatter",
         "x": [
          0.3949581248343751,
          0.774533467013518,
          0.5626883707612474,
          0.32361542767900453,
          0.798062132413186,
          0.30896564472456656,
          0.2875008964788832,
          0.6196219111336556,
          0.20479847195420126,
          0.21074376040378523,
          0.20132698283315664,
          0.3025379094850253,
          0.38894691744111975,
          0.37745399998724244,
          0.2662114385795486,
          0.25549050288865505,
          0.27321421734408013,
          0.25434399814562453,
          0.3510219058332526,
          0.40592167851685473,
          0.37666505231993336
         ],
         "xaxis": "x8",
         "y": [
          0.4306870897610982,
          0.477204163869222,
          0.45676541328430176,
          0.5177579323450724,
          0.32102715969085693,
          0.45605067412058514,
          0.5817498167355856,
          0.5338129202524821,
          0.5796420574188232,
          0.47781042257944745,
          0.5747287074724833,
          0.41624881823857623,
          0.6294087171554565,
          0.49120070536931354,
          0.38171543677647907,
          0.6078126231829325,
          0.5788403352101644,
          0.579011877377828,
          0.45333049694697064,
          0.5479203263918558,
          0.6101757884025574
         ],
         "yaxis": "y8"
        },
        {
         "marker": {
          "color": [
           0,
           1,
           2,
           3,
           4,
           5,
           7,
           9,
           10,
           11,
           12,
           13,
           14,
           17,
           18,
           21,
           22,
           23,
           24,
           25,
           29
          ],
          "colorbar": {
           "title": {
            "text": "Trial"
           },
           "x": 1,
           "xpad": 40
          },
          "colorscale": [
           [
            0,
            "rgb(247,251,255)"
           ],
           [
            0.125,
            "rgb(222,235,247)"
           ],
           [
            0.25,
            "rgb(198,219,239)"
           ],
           [
            0.375,
            "rgb(158,202,225)"
           ],
           [
            0.5,
            "rgb(107,174,214)"
           ],
           [
            0.625,
            "rgb(66,146,198)"
           ],
           [
            0.75,
            "rgb(33,113,181)"
           ],
           [
            0.875,
            "rgb(8,81,156)"
           ],
           [
            1,
            "rgb(8,48,107)"
           ]
          ],
          "line": {
           "color": "Grey",
           "width": 0.5
          },
          "showscale": false
         },
         "mode": "markers",
         "name": "Feasible Trial",
         "showlegend": false,
         "type": "scatter",
         "x": [
          0.006901422960689535,
          0.00011289041103035705,
          0.004153030046859019,
          0.000046095982103277085,
          0.000018579692254725673,
          0.00014397192998071611,
          0.001797982850786946,
          0.002696019452019956,
          0.0008793209660908971,
          0.0008736402153460342,
          0.0008106458022166912,
          0.0008741868226242538,
          0.0017186636685695396,
          0.009753179644999591,
          0.0016556954645908562,
          0.0013166552191697543,
          0.0017604114494792326,
          0.0005151242537149841,
          0.0049736593248743246,
          0.0018992165403221158,
          0.007054410271015403
         ],
         "xaxis": "x9",
         "y": [
          0.4306870897610982,
          0.477204163869222,
          0.45676541328430176,
          0.5177579323450724,
          0.32102715969085693,
          0.45605067412058514,
          0.5817498167355856,
          0.5338129202524821,
          0.5796420574188232,
          0.47781042257944745,
          0.5747287074724833,
          0.41624881823857623,
          0.6294087171554565,
          0.49120070536931354,
          0.38171543677647907,
          0.6078126231829325,
          0.5788403352101644,
          0.579011877377828,
          0.45333049694697064,
          0.5479203263918558,
          0.6101757884025574
         ],
         "yaxis": "y9"
        },
        {
         "marker": {
          "color": [
           0,
           1,
           2,
           3,
           4,
           5,
           7,
           9,
           10,
           11,
           12,
           13,
           14,
           17,
           18,
           21,
           22,
           23,
           24,
           25,
           29
          ],
          "colorbar": {
           "title": {
            "text": "Trial"
           },
           "x": 1,
           "xpad": 40
          },
          "colorscale": [
           [
            0,
            "rgb(247,251,255)"
           ],
           [
            0.125,
            "rgb(222,235,247)"
           ],
           [
            0.25,
            "rgb(198,219,239)"
           ],
           [
            0.375,
            "rgb(158,202,225)"
           ],
           [
            0.5,
            "rgb(107,174,214)"
           ],
           [
            0.625,
            "rgb(66,146,198)"
           ],
           [
            0.75,
            "rgb(33,113,181)"
           ],
           [
            0.875,
            "rgb(8,81,156)"
           ],
           [
            1,
            "rgb(8,48,107)"
           ]
          ],
          "line": {
           "color": "Grey",
           "width": 0.5
          },
          "showscale": false
         },
         "mode": "markers",
         "name": "Feasible Trial",
         "showlegend": false,
         "type": "scatter",
         "x": [
          1.103251854957949,
          1.0226660667782599,
          1.050393042817784,
          1.1363457339021967,
          1.4025759200065702,
          1.0838341521426726,
          1.0343058082768204,
          1.1687436629831132,
          1.4925969238811487,
          1.4443767909815657,
          1.2672344776132698,
          1.3806597781046606,
          1.4869841187864843,
          1.222967057987347,
          1.0067418935839774,
          1.4762913716754076,
          1.4336620285634885,
          1.3831580258435472,
          1.4965507737887176,
          1.4157909246280305,
          1.082977632333134
         ],
         "xaxis": "x10",
         "y": [
          0.4306870897610982,
          0.477204163869222,
          0.45676541328430176,
          0.5177579323450724,
          0.32102715969085693,
          0.45605067412058514,
          0.5817498167355856,
          0.5338129202524821,
          0.5796420574188232,
          0.47781042257944745,
          0.5747287074724833,
          0.41624881823857623,
          0.6294087171554565,
          0.49120070536931354,
          0.38171543677647907,
          0.6078126231829325,
          0.5788403352101644,
          0.579011877377828,
          0.45333049694697064,
          0.5479203263918558,
          0.6101757884025574
         ],
         "yaxis": "y10"
        },
        {
         "marker": {
          "color": [
           0,
           1,
           2,
           3,
           4,
           5,
           7,
           9,
           10,
           11,
           12,
           13,
           14,
           17,
           18,
           21,
           22,
           23,
           24,
           25,
           29
          ],
          "colorbar": {
           "title": {
            "text": "Trial"
           },
           "x": 1,
           "xpad": 40
          },
          "colorscale": [
           [
            0,
            "rgb(247,251,255)"
           ],
           [
            0.125,
            "rgb(222,235,247)"
           ],
           [
            0.25,
            "rgb(198,219,239)"
           ],
           [
            0.375,
            "rgb(158,202,225)"
           ],
           [
            0.5,
            "rgb(107,174,214)"
           ],
           [
            0.625,
            "rgb(66,146,198)"
           ],
           [
            0.75,
            "rgb(33,113,181)"
           ],
           [
            0.875,
            "rgb(8,81,156)"
           ],
           [
            1,
            "rgb(8,48,107)"
           ]
          ],
          "line": {
           "color": "Grey",
           "width": 0.5
          },
          "showscale": false
         },
         "mode": "markers",
         "name": "Feasible Trial",
         "showlegend": false,
         "type": "scatter",
         "x": [
          59,
          24,
          21,
          13,
          56,
          48,
          25,
          55,
          34,
          34,
          26,
          39,
          32,
          29,
          42,
          34,
          46,
          35,
          27,
          19,
          48
         ],
         "xaxis": "x11",
         "y": [
          0.4306870897610982,
          0.477204163869222,
          0.45676541328430176,
          0.5177579323450724,
          0.32102715969085693,
          0.45605067412058514,
          0.5817498167355856,
          0.5338129202524821,
          0.5796420574188232,
          0.47781042257944745,
          0.5747287074724833,
          0.41624881823857623,
          0.6294087171554565,
          0.49120070536931354,
          0.38171543677647907,
          0.6078126231829325,
          0.5788403352101644,
          0.579011877377828,
          0.45333049694697064,
          0.5479203263918558,
          0.6101757884025574
         ],
         "yaxis": "y11"
        },
        {
         "marker": {
          "color": [
           0,
           1,
           2,
           3,
           4,
           5,
           7,
           9,
           10,
           11,
           12,
           13,
           14,
           17,
           18,
           21,
           22,
           23,
           24,
           25,
           29
          ],
          "colorbar": {
           "title": {
            "text": "Trial"
           },
           "x": 1,
           "xpad": 40
          },
          "colorscale": [
           [
            0,
            "rgb(247,251,255)"
           ],
           [
            0.125,
            "rgb(222,235,247)"
           ],
           [
            0.25,
            "rgb(198,219,239)"
           ],
           [
            0.375,
            "rgb(158,202,225)"
           ],
           [
            0.5,
            "rgb(107,174,214)"
           ],
           [
            0.625,
            "rgb(66,146,198)"
           ],
           [
            0.75,
            "rgb(33,113,181)"
           ],
           [
            0.875,
            "rgb(8,81,156)"
           ],
           [
            1,
            "rgb(8,48,107)"
           ]
          ],
          "line": {
           "color": "Grey",
           "width": 0.5
          },
          "showscale": false
         },
         "mode": "markers",
         "name": "Feasible Trial",
         "showlegend": false,
         "type": "scatter",
         "x": [
          5,
          3,
          3,
          1,
          1,
          4,
          5,
          1,
          5,
          5,
          5,
          4,
          5,
          5,
          4,
          5,
          5,
          4,
          5,
          4,
          5
         ],
         "xaxis": "x12",
         "y": [
          0.4306870897610982,
          0.477204163869222,
          0.45676541328430176,
          0.5177579323450724,
          0.32102715969085693,
          0.45605067412058514,
          0.5817498167355856,
          0.5338129202524821,
          0.5796420574188232,
          0.47781042257944745,
          0.5747287074724833,
          0.41624881823857623,
          0.6294087171554565,
          0.49120070536931354,
          0.38171543677647907,
          0.6078126231829325,
          0.5788403352101644,
          0.579011877377828,
          0.45333049694697064,
          0.5479203263918558,
          0.6101757884025574
         ],
         "yaxis": "y12"
        },
        {
         "marker": {
          "color": [
           0,
           1,
           2,
           3,
           4,
           5,
           7,
           9,
           10,
           11,
           12,
           13,
           14,
           17,
           18,
           21,
           22,
           23,
           24,
           25,
           29
          ],
          "colorbar": {
           "title": {
            "text": "Trial"
           },
           "x": 1,
           "xpad": 40
          },
          "colorscale": [
           [
            0,
            "rgb(247,251,255)"
           ],
           [
            0.125,
            "rgb(222,235,247)"
           ],
           [
            0.25,
            "rgb(198,219,239)"
           ],
           [
            0.375,
            "rgb(158,202,225)"
           ],
           [
            0.5,
            "rgb(107,174,214)"
           ],
           [
            0.625,
            "rgb(66,146,198)"
           ],
           [
            0.75,
            "rgb(33,113,181)"
           ],
           [
            0.875,
            "rgb(8,81,156)"
           ],
           [
            1,
            "rgb(8,48,107)"
           ]
          ],
          "line": {
           "color": "Grey",
           "width": 0.5
          },
          "showscale": false
         },
         "mode": "markers",
         "name": "Feasible Trial",
         "showlegend": false,
         "type": "scatter",
         "x": [
          9,
          14,
          11,
          12,
          13,
          12,
          10,
          9,
          20,
          20,
          20,
          6,
          17,
          17,
          8,
          19,
          18,
          18,
          15,
          19,
          14
         ],
         "xaxis": "x13",
         "y": [
          0.4306870897610982,
          0.477204163869222,
          0.45676541328430176,
          0.5177579323450724,
          0.32102715969085693,
          0.45605067412058514,
          0.5817498167355856,
          0.5338129202524821,
          0.5796420574188232,
          0.47781042257944745,
          0.5747287074724833,
          0.41624881823857623,
          0.6294087171554565,
          0.49120070536931354,
          0.38171543677647907,
          0.6078126231829325,
          0.5788403352101644,
          0.579011877377828,
          0.45333049694697064,
          0.5479203263918558,
          0.6101757884025574
         ],
         "yaxis": "y13"
        }
       ],
       "layout": {
        "template": {
         "data": {
          "bar": [
           {
            "error_x": {
             "color": "#2a3f5f"
            },
            "error_y": {
             "color": "#2a3f5f"
            },
            "marker": {
             "line": {
              "color": "#E5ECF6",
              "width": 0.5
             },
             "pattern": {
              "fillmode": "overlay",
              "size": 10,
              "solidity": 0.2
             }
            },
            "type": "bar"
           }
          ],
          "barpolar": [
           {
            "marker": {
             "line": {
              "color": "#E5ECF6",
              "width": 0.5
             },
             "pattern": {
              "fillmode": "overlay",
              "size": 10,
              "solidity": 0.2
             }
            },
            "type": "barpolar"
           }
          ],
          "carpet": [
           {
            "aaxis": {
             "endlinecolor": "#2a3f5f",
             "gridcolor": "white",
             "linecolor": "white",
             "minorgridcolor": "white",
             "startlinecolor": "#2a3f5f"
            },
            "baxis": {
             "endlinecolor": "#2a3f5f",
             "gridcolor": "white",
             "linecolor": "white",
             "minorgridcolor": "white",
             "startlinecolor": "#2a3f5f"
            },
            "type": "carpet"
           }
          ],
          "choropleth": [
           {
            "colorbar": {
             "outlinewidth": 0,
             "ticks": ""
            },
            "type": "choropleth"
           }
          ],
          "contour": [
           {
            "colorbar": {
             "outlinewidth": 0,
             "ticks": ""
            },
            "colorscale": [
             [
              0,
              "#0d0887"
             ],
             [
              0.1111111111111111,
              "#46039f"
             ],
             [
              0.2222222222222222,
              "#7201a8"
             ],
             [
              0.3333333333333333,
              "#9c179e"
             ],
             [
              0.4444444444444444,
              "#bd3786"
             ],
             [
              0.5555555555555556,
              "#d8576b"
             ],
             [
              0.6666666666666666,
              "#ed7953"
             ],
             [
              0.7777777777777778,
              "#fb9f3a"
             ],
             [
              0.8888888888888888,
              "#fdca26"
             ],
             [
              1,
              "#f0f921"
             ]
            ],
            "type": "contour"
           }
          ],
          "contourcarpet": [
           {
            "colorbar": {
             "outlinewidth": 0,
             "ticks": ""
            },
            "type": "contourcarpet"
           }
          ],
          "heatmap": [
           {
            "colorbar": {
             "outlinewidth": 0,
             "ticks": ""
            },
            "colorscale": [
             [
              0,
              "#0d0887"
             ],
             [
              0.1111111111111111,
              "#46039f"
             ],
             [
              0.2222222222222222,
              "#7201a8"
             ],
             [
              0.3333333333333333,
              "#9c179e"
             ],
             [
              0.4444444444444444,
              "#bd3786"
             ],
             [
              0.5555555555555556,
              "#d8576b"
             ],
             [
              0.6666666666666666,
              "#ed7953"
             ],
             [
              0.7777777777777778,
              "#fb9f3a"
             ],
             [
              0.8888888888888888,
              "#fdca26"
             ],
             [
              1,
              "#f0f921"
             ]
            ],
            "type": "heatmap"
           }
          ],
          "heatmapgl": [
           {
            "colorbar": {
             "outlinewidth": 0,
             "ticks": ""
            },
            "colorscale": [
             [
              0,
              "#0d0887"
             ],
             [
              0.1111111111111111,
              "#46039f"
             ],
             [
              0.2222222222222222,
              "#7201a8"
             ],
             [
              0.3333333333333333,
              "#9c179e"
             ],
             [
              0.4444444444444444,
              "#bd3786"
             ],
             [
              0.5555555555555556,
              "#d8576b"
             ],
             [
              0.6666666666666666,
              "#ed7953"
             ],
             [
              0.7777777777777778,
              "#fb9f3a"
             ],
             [
              0.8888888888888888,
              "#fdca26"
             ],
             [
              1,
              "#f0f921"
             ]
            ],
            "type": "heatmapgl"
           }
          ],
          "histogram": [
           {
            "marker": {
             "pattern": {
              "fillmode": "overlay",
              "size": 10,
              "solidity": 0.2
             }
            },
            "type": "histogram"
           }
          ],
          "histogram2d": [
           {
            "colorbar": {
             "outlinewidth": 0,
             "ticks": ""
            },
            "colorscale": [
             [
              0,
              "#0d0887"
             ],
             [
              0.1111111111111111,
              "#46039f"
             ],
             [
              0.2222222222222222,
              "#7201a8"
             ],
             [
              0.3333333333333333,
              "#9c179e"
             ],
             [
              0.4444444444444444,
              "#bd3786"
             ],
             [
              0.5555555555555556,
              "#d8576b"
             ],
             [
              0.6666666666666666,
              "#ed7953"
             ],
             [
              0.7777777777777778,
              "#fb9f3a"
             ],
             [
              0.8888888888888888,
              "#fdca26"
             ],
             [
              1,
              "#f0f921"
             ]
            ],
            "type": "histogram2d"
           }
          ],
          "histogram2dcontour": [
           {
            "colorbar": {
             "outlinewidth": 0,
             "ticks": ""
            },
            "colorscale": [
             [
              0,
              "#0d0887"
             ],
             [
              0.1111111111111111,
              "#46039f"
             ],
             [
              0.2222222222222222,
              "#7201a8"
             ],
             [
              0.3333333333333333,
              "#9c179e"
             ],
             [
              0.4444444444444444,
              "#bd3786"
             ],
             [
              0.5555555555555556,
              "#d8576b"
             ],
             [
              0.6666666666666666,
              "#ed7953"
             ],
             [
              0.7777777777777778,
              "#fb9f3a"
             ],
             [
              0.8888888888888888,
              "#fdca26"
             ],
             [
              1,
              "#f0f921"
             ]
            ],
            "type": "histogram2dcontour"
           }
          ],
          "mesh3d": [
           {
            "colorbar": {
             "outlinewidth": 0,
             "ticks": ""
            },
            "type": "mesh3d"
           }
          ],
          "parcoords": [
           {
            "line": {
             "colorbar": {
              "outlinewidth": 0,
              "ticks": ""
             }
            },
            "type": "parcoords"
           }
          ],
          "pie": [
           {
            "automargin": true,
            "type": "pie"
           }
          ],
          "scatter": [
           {
            "fillpattern": {
             "fillmode": "overlay",
             "size": 10,
             "solidity": 0.2
            },
            "type": "scatter"
           }
          ],
          "scatter3d": [
           {
            "line": {
             "colorbar": {
              "outlinewidth": 0,
              "ticks": ""
             }
            },
            "marker": {
             "colorbar": {
              "outlinewidth": 0,
              "ticks": ""
             }
            },
            "type": "scatter3d"
           }
          ],
          "scattercarpet": [
           {
            "marker": {
             "colorbar": {
              "outlinewidth": 0,
              "ticks": ""
             }
            },
            "type": "scattercarpet"
           }
          ],
          "scattergeo": [
           {
            "marker": {
             "colorbar": {
              "outlinewidth": 0,
              "ticks": ""
             }
            },
            "type": "scattergeo"
           }
          ],
          "scattergl": [
           {
            "marker": {
             "colorbar": {
              "outlinewidth": 0,
              "ticks": ""
             }
            },
            "type": "scattergl"
           }
          ],
          "scattermapbox": [
           {
            "marker": {
             "colorbar": {
              "outlinewidth": 0,
              "ticks": ""
             }
            },
            "type": "scattermapbox"
           }
          ],
          "scatterpolar": [
           {
            "marker": {
             "colorbar": {
              "outlinewidth": 0,
              "ticks": ""
             }
            },
            "type": "scatterpolar"
           }
          ],
          "scatterpolargl": [
           {
            "marker": {
             "colorbar": {
              "outlinewidth": 0,
              "ticks": ""
             }
            },
            "type": "scatterpolargl"
           }
          ],
          "scatterternary": [
           {
            "marker": {
             "colorbar": {
              "outlinewidth": 0,
              "ticks": ""
             }
            },
            "type": "scatterternary"
           }
          ],
          "surface": [
           {
            "colorbar": {
             "outlinewidth": 0,
             "ticks": ""
            },
            "colorscale": [
             [
              0,
              "#0d0887"
             ],
             [
              0.1111111111111111,
              "#46039f"
             ],
             [
              0.2222222222222222,
              "#7201a8"
             ],
             [
              0.3333333333333333,
              "#9c179e"
             ],
             [
              0.4444444444444444,
              "#bd3786"
             ],
             [
              0.5555555555555556,
              "#d8576b"
             ],
             [
              0.6666666666666666,
              "#ed7953"
             ],
             [
              0.7777777777777778,
              "#fb9f3a"
             ],
             [
              0.8888888888888888,
              "#fdca26"
             ],
             [
              1,
              "#f0f921"
             ]
            ],
            "type": "surface"
           }
          ],
          "table": [
           {
            "cells": {
             "fill": {
              "color": "#EBF0F8"
             },
             "line": {
              "color": "white"
             }
            },
            "header": {
             "fill": {
              "color": "#C8D4E3"
             },
             "line": {
              "color": "white"
             }
            },
            "type": "table"
           }
          ]
         },
         "layout": {
          "annotationdefaults": {
           "arrowcolor": "#2a3f5f",
           "arrowhead": 0,
           "arrowwidth": 1
          },
          "autotypenumbers": "strict",
          "coloraxis": {
           "colorbar": {
            "outlinewidth": 0,
            "ticks": ""
           }
          },
          "colorscale": {
           "diverging": [
            [
             0,
             "#8e0152"
            ],
            [
             0.1,
             "#c51b7d"
            ],
            [
             0.2,
             "#de77ae"
            ],
            [
             0.3,
             "#f1b6da"
            ],
            [
             0.4,
             "#fde0ef"
            ],
            [
             0.5,
             "#f7f7f7"
            ],
            [
             0.6,
             "#e6f5d0"
            ],
            [
             0.7,
             "#b8e186"
            ],
            [
             0.8,
             "#7fbc41"
            ],
            [
             0.9,
             "#4d9221"
            ],
            [
             1,
             "#276419"
            ]
           ],
           "sequential": [
            [
             0,
             "#0d0887"
            ],
            [
             0.1111111111111111,
             "#46039f"
            ],
            [
             0.2222222222222222,
             "#7201a8"
            ],
            [
             0.3333333333333333,
             "#9c179e"
            ],
            [
             0.4444444444444444,
             "#bd3786"
            ],
            [
             0.5555555555555556,
             "#d8576b"
            ],
            [
             0.6666666666666666,
             "#ed7953"
            ],
            [
             0.7777777777777778,
             "#fb9f3a"
            ],
            [
             0.8888888888888888,
             "#fdca26"
            ],
            [
             1,
             "#f0f921"
            ]
           ],
           "sequentialminus": [
            [
             0,
             "#0d0887"
            ],
            [
             0.1111111111111111,
             "#46039f"
            ],
            [
             0.2222222222222222,
             "#7201a8"
            ],
            [
             0.3333333333333333,
             "#9c179e"
            ],
            [
             0.4444444444444444,
             "#bd3786"
            ],
            [
             0.5555555555555556,
             "#d8576b"
            ],
            [
             0.6666666666666666,
             "#ed7953"
            ],
            [
             0.7777777777777778,
             "#fb9f3a"
            ],
            [
             0.8888888888888888,
             "#fdca26"
            ],
            [
             1,
             "#f0f921"
            ]
           ]
          },
          "colorway": [
           "#636efa",
           "#EF553B",
           "#00cc96",
           "#ab63fa",
           "#FFA15A",
           "#19d3f3",
           "#FF6692",
           "#B6E880",
           "#FF97FF",
           "#FECB52"
          ],
          "font": {
           "color": "#2a3f5f"
          },
          "geo": {
           "bgcolor": "white",
           "lakecolor": "white",
           "landcolor": "#E5ECF6",
           "showlakes": true,
           "showland": true,
           "subunitcolor": "white"
          },
          "hoverlabel": {
           "align": "left"
          },
          "hovermode": "closest",
          "mapbox": {
           "style": "light"
          },
          "paper_bgcolor": "white",
          "plot_bgcolor": "#E5ECF6",
          "polar": {
           "angularaxis": {
            "gridcolor": "white",
            "linecolor": "white",
            "ticks": ""
           },
           "bgcolor": "#E5ECF6",
           "radialaxis": {
            "gridcolor": "white",
            "linecolor": "white",
            "ticks": ""
           }
          },
          "scene": {
           "xaxis": {
            "backgroundcolor": "#E5ECF6",
            "gridcolor": "white",
            "gridwidth": 2,
            "linecolor": "white",
            "showbackground": true,
            "ticks": "",
            "zerolinecolor": "white"
           },
           "yaxis": {
            "backgroundcolor": "#E5ECF6",
            "gridcolor": "white",
            "gridwidth": 2,
            "linecolor": "white",
            "showbackground": true,
            "ticks": "",
            "zerolinecolor": "white"
           },
           "zaxis": {
            "backgroundcolor": "#E5ECF6",
            "gridcolor": "white",
            "gridwidth": 2,
            "linecolor": "white",
            "showbackground": true,
            "ticks": "",
            "zerolinecolor": "white"
           }
          },
          "shapedefaults": {
           "line": {
            "color": "#2a3f5f"
           }
          },
          "ternary": {
           "aaxis": {
            "gridcolor": "white",
            "linecolor": "white",
            "ticks": ""
           },
           "baxis": {
            "gridcolor": "white",
            "linecolor": "white",
            "ticks": ""
           },
           "bgcolor": "#E5ECF6",
           "caxis": {
            "gridcolor": "white",
            "linecolor": "white",
            "ticks": ""
           }
          },
          "title": {
           "x": 0.05
          },
          "xaxis": {
           "automargin": true,
           "gridcolor": "white",
           "linecolor": "white",
           "ticks": "",
           "title": {
            "standoff": 15
           },
           "zerolinecolor": "white",
           "zerolinewidth": 2
          },
          "yaxis": {
           "automargin": true,
           "gridcolor": "white",
           "linecolor": "white",
           "ticks": "",
           "title": {
            "standoff": 15
           },
           "zerolinecolor": "white",
           "zerolinewidth": 2
          }
         }
        },
        "title": {
         "text": "Slice Plot"
        },
        "width": 3900,
        "xaxis": {
         "anchor": "y",
         "domain": [
          0,
          0.06272189349112425
         ],
         "title": {
          "text": "alpha_reg"
         },
         "type": "log"
        },
        "xaxis10": {
         "anchor": "y10",
         "domain": [
          0.7029585798816567,
          0.7656804733727809
         ],
         "title": {
          "text": "lr_gamma"
         }
        },
        "xaxis11": {
         "anchor": "y11",
         "domain": [
          0.7810650887573963,
          0.8437869822485206
         ],
         "title": {
          "text": "n_hidden_units"
         }
        },
        "xaxis12": {
         "anchor": "y12",
         "domain": [
          0.859171597633136,
          0.9218934911242602
         ],
         "title": {
          "text": "num_layers"
         }
        },
        "xaxis13": {
         "anchor": "y13",
         "domain": [
          0.9372781065088757,
          0.9999999999999999
         ],
         "title": {
          "text": "seq_length_LSTM"
         }
        },
        "xaxis2": {
         "anchor": "y2",
         "domain": [
          0.07810650887573964,
          0.1408284023668639
         ],
         "title": {
          "text": "batch_size_train"
         }
        },
        "xaxis3": {
         "anchor": "y3",
         "domain": [
          0.15621301775147928,
          0.21893491124260353
         ],
         "title": {
          "text": "batch_size_val"
         }
        },
        "xaxis4": {
         "anchor": "y4",
         "domain": [
          0.23431952662721892,
          0.29704142011834317
         ],
         "title": {
          "text": "dropout_1"
         }
        },
        "xaxis5": {
         "anchor": "y5",
         "domain": [
          0.31242603550295855,
          0.3751479289940828
         ],
         "title": {
          "text": "dropout_2"
         }
        },
        "xaxis6": {
         "anchor": "y6",
         "domain": [
          0.39053254437869817,
          0.45325443786982245
         ],
         "title": {
          "text": "huber_delta"
         }
        },
        "xaxis7": {
         "anchor": "y7",
         "domain": [
          0.46863905325443783,
          0.5313609467455621
         ],
         "title": {
          "text": "input_size_LSTM"
         }
        },
        "xaxis8": {
         "anchor": "y8",
         "domain": [
          0.5467455621301776,
          0.6094674556213018
         ],
         "title": {
          "text": "l1_ratio_reg"
         }
        },
        "xaxis9": {
         "anchor": "y9",
         "domain": [
          0.6248520710059171,
          0.6875739644970413
         ],
         "title": {
          "text": "lr"
         },
         "type": "log"
        },
        "yaxis": {
         "anchor": "x",
         "domain": [
          0,
          1
         ],
         "title": {
          "text": "Objective Value"
         }
        },
        "yaxis10": {
         "anchor": "x10",
         "domain": [
          0,
          1
         ],
         "matches": "y",
         "showticklabels": false
        },
        "yaxis11": {
         "anchor": "x11",
         "domain": [
          0,
          1
         ],
         "matches": "y",
         "showticklabels": false
        },
        "yaxis12": {
         "anchor": "x12",
         "domain": [
          0,
          1
         ],
         "matches": "y",
         "showticklabels": false
        },
        "yaxis13": {
         "anchor": "x13",
         "domain": [
          0,
          1
         ],
         "matches": "y",
         "showticklabels": false
        },
        "yaxis2": {
         "anchor": "x2",
         "domain": [
          0,
          1
         ],
         "matches": "y",
         "showticklabels": false
        },
        "yaxis3": {
         "anchor": "x3",
         "domain": [
          0,
          1
         ],
         "matches": "y",
         "showticklabels": false
        },
        "yaxis4": {
         "anchor": "x4",
         "domain": [
          0,
          1
         ],
         "matches": "y",
         "showticklabels": false
        },
        "yaxis5": {
         "anchor": "x5",
         "domain": [
          0,
          1
         ],
         "matches": "y",
         "showticklabels": false
        },
        "yaxis6": {
         "anchor": "x6",
         "domain": [
          0,
          1
         ],
         "matches": "y",
         "showticklabels": false
        },
        "yaxis7": {
         "anchor": "x7",
         "domain": [
          0,
          1
         ],
         "matches": "y",
         "showticklabels": false
        },
        "yaxis8": {
         "anchor": "x8",
         "domain": [
          0,
          1
         ],
         "matches": "y",
         "showticklabels": false
        },
        "yaxis9": {
         "anchor": "x9",
         "domain": [
          0,
          1
         ],
         "matches": "y",
         "showticklabels": false
        }
       }
      }
     },
     "metadata": {},
     "output_type": "display_data"
    }
   ],
   "source": [
    "#Plotting the accuracies for each hyperparameter for each trial.\n",
    "    \n",
    "optuna.visualization.plot_slice(study)"
   ]
  },
  {
   "cell_type": "code",
   "execution_count": 9,
   "metadata": {},
   "outputs": [
    {
     "data": {
      "application/vnd.plotly.v1+json": {
       "config": {
        "plotlyServerURL": "https://plot.ly"
       },
       "data": [
        {
         "colorbar": {
          "title": {
           "text": "Objective Value"
          }
         },
         "colorscale": [
          [
           0,
           "rgb(247,251,255)"
          ],
          [
           0.125,
           "rgb(222,235,247)"
          ],
          [
           0.25,
           "rgb(198,219,239)"
          ],
          [
           0.375,
           "rgb(158,202,225)"
          ],
          [
           0.5,
           "rgb(107,174,214)"
          ],
          [
           0.625,
           "rgb(66,146,198)"
          ],
          [
           0.75,
           "rgb(33,113,181)"
          ],
          [
           0.875,
           "rgb(8,81,156)"
          ],
          [
           1,
           "rgb(8,48,107)"
          ]
         ],
         "connectgaps": true,
         "contours": {
          "coloring": "heatmap"
         },
         "hoverinfo": "none",
         "line": {
          "smoothing": 1.3
         },
         "reversescale": false,
         "type": "contour",
         "x": [
          10.7,
          13,
          19,
          21,
          24,
          25,
          26,
          27,
          29,
          32,
          34,
          35,
          39,
          42,
          46,
          48,
          55,
          56,
          59,
          61.3
         ],
         "y": [
          5.3,
          6,
          8,
          9,
          10,
          11,
          12,
          13,
          14,
          15,
          17,
          18,
          19,
          20,
          20.7
         ],
         "z": [
          [
           null,
           null,
           null,
           null,
           null,
           null,
           null,
           null,
           null,
           null,
           null,
           null,
           null,
           null,
           null,
           null,
           null,
           null,
           null,
           null
          ],
          [
           null,
           null,
           null,
           null,
           null,
           null,
           null,
           null,
           null,
           null,
           null,
           null,
           0.41624881823857623,
           null,
           null,
           null,
           null,
           null,
           null,
           null
          ],
          [
           null,
           null,
           null,
           null,
           null,
           null,
           null,
           null,
           null,
           null,
           null,
           null,
           null,
           0.38171543677647907,
           null,
           null,
           null,
           null,
           null,
           null
          ],
          [
           null,
           null,
           null,
           null,
           null,
           null,
           null,
           null,
           null,
           null,
           null,
           null,
           null,
           null,
           null,
           null,
           0.5338129202524821,
           null,
           0.4306870897610982,
           null
          ],
          [
           null,
           null,
           null,
           null,
           null,
           0.5817498167355856,
           null,
           null,
           null,
           null,
           null,
           null,
           null,
           null,
           null,
           null,
           null,
           null,
           null,
           null
          ],
          [
           null,
           null,
           null,
           0.45676541328430176,
           null,
           null,
           null,
           null,
           null,
           null,
           null,
           null,
           null,
           null,
           null,
           null,
           null,
           null,
           null,
           null
          ],
          [
           null,
           0.5177579323450724,
           null,
           null,
           null,
           null,
           null,
           null,
           null,
           null,
           null,
           null,
           null,
           null,
           null,
           0.45605067412058514,
           null,
           null,
           null,
           null
          ],
          [
           null,
           null,
           null,
           null,
           null,
           null,
           null,
           null,
           null,
           null,
           null,
           null,
           null,
           null,
           null,
           null,
           null,
           0.32102715969085693,
           null,
           null
          ],
          [
           null,
           null,
           null,
           null,
           0.477204163869222,
           null,
           null,
           null,
           null,
           null,
           null,
           null,
           null,
           null,
           null,
           0.6101757884025574,
           null,
           null,
           null,
           null
          ],
          [
           null,
           null,
           null,
           null,
           null,
           null,
           null,
           0.45333049694697064,
           null,
           null,
           null,
           null,
           null,
           null,
           null,
           null,
           null,
           null,
           null,
           null
          ],
          [
           null,
           null,
           null,
           null,
           null,
           null,
           null,
           null,
           0.49120070536931354,
           0.6294087171554565,
           null,
           null,
           null,
           null,
           null,
           null,
           null,
           null,
           null,
           null
          ],
          [
           null,
           null,
           null,
           null,
           null,
           null,
           null,
           null,
           null,
           null,
           null,
           0.579011877377828,
           null,
           null,
           0.5788403352101644,
           null,
           null,
           null,
           null,
           null
          ],
          [
           null,
           null,
           0.5479203263918558,
           null,
           null,
           null,
           null,
           null,
           null,
           null,
           0.6078126231829325,
           null,
           null,
           null,
           null,
           null,
           null,
           null,
           null,
           null
          ],
          [
           null,
           null,
           null,
           null,
           null,
           null,
           0.5747287074724833,
           null,
           null,
           null,
           0.5796420574188232,
           null,
           null,
           null,
           null,
           null,
           null,
           null,
           null,
           null
          ],
          [
           null,
           null,
           null,
           null,
           null,
           null,
           null,
           null,
           null,
           null,
           null,
           null,
           null,
           null,
           null,
           null,
           null,
           null,
           null,
           null
          ]
         ]
        },
        {
         "marker": {
          "color": "black",
          "line": {
           "color": "Gray",
           "width": 2
          }
         },
         "mode": "markers",
         "name": "Feasible Trial",
         "showlegend": false,
         "type": "scatter",
         "x": [
          59,
          24,
          21,
          13,
          56,
          48,
          25,
          55,
          34,
          34,
          26,
          39,
          32,
          29,
          42,
          34,
          46,
          35,
          27,
          19,
          48
         ],
         "y": [
          9,
          14,
          11,
          12,
          13,
          12,
          10,
          9,
          20,
          20,
          20,
          6,
          17,
          17,
          8,
          19,
          18,
          18,
          15,
          19,
          14
         ]
        },
        {
         "marker": {
          "color": "#cccccc",
          "line": {
           "color": "Gray",
           "width": 2
          }
         },
         "mode": "markers",
         "name": "Infeasible Trial",
         "showlegend": false,
         "type": "scatter",
         "x": [],
         "y": []
        }
       ],
       "layout": {
        "template": {
         "data": {
          "bar": [
           {
            "error_x": {
             "color": "#2a3f5f"
            },
            "error_y": {
             "color": "#2a3f5f"
            },
            "marker": {
             "line": {
              "color": "#E5ECF6",
              "width": 0.5
             },
             "pattern": {
              "fillmode": "overlay",
              "size": 10,
              "solidity": 0.2
             }
            },
            "type": "bar"
           }
          ],
          "barpolar": [
           {
            "marker": {
             "line": {
              "color": "#E5ECF6",
              "width": 0.5
             },
             "pattern": {
              "fillmode": "overlay",
              "size": 10,
              "solidity": 0.2
             }
            },
            "type": "barpolar"
           }
          ],
          "carpet": [
           {
            "aaxis": {
             "endlinecolor": "#2a3f5f",
             "gridcolor": "white",
             "linecolor": "white",
             "minorgridcolor": "white",
             "startlinecolor": "#2a3f5f"
            },
            "baxis": {
             "endlinecolor": "#2a3f5f",
             "gridcolor": "white",
             "linecolor": "white",
             "minorgridcolor": "white",
             "startlinecolor": "#2a3f5f"
            },
            "type": "carpet"
           }
          ],
          "choropleth": [
           {
            "colorbar": {
             "outlinewidth": 0,
             "ticks": ""
            },
            "type": "choropleth"
           }
          ],
          "contour": [
           {
            "colorbar": {
             "outlinewidth": 0,
             "ticks": ""
            },
            "colorscale": [
             [
              0,
              "#0d0887"
             ],
             [
              0.1111111111111111,
              "#46039f"
             ],
             [
              0.2222222222222222,
              "#7201a8"
             ],
             [
              0.3333333333333333,
              "#9c179e"
             ],
             [
              0.4444444444444444,
              "#bd3786"
             ],
             [
              0.5555555555555556,
              "#d8576b"
             ],
             [
              0.6666666666666666,
              "#ed7953"
             ],
             [
              0.7777777777777778,
              "#fb9f3a"
             ],
             [
              0.8888888888888888,
              "#fdca26"
             ],
             [
              1,
              "#f0f921"
             ]
            ],
            "type": "contour"
           }
          ],
          "contourcarpet": [
           {
            "colorbar": {
             "outlinewidth": 0,
             "ticks": ""
            },
            "type": "contourcarpet"
           }
          ],
          "heatmap": [
           {
            "colorbar": {
             "outlinewidth": 0,
             "ticks": ""
            },
            "colorscale": [
             [
              0,
              "#0d0887"
             ],
             [
              0.1111111111111111,
              "#46039f"
             ],
             [
              0.2222222222222222,
              "#7201a8"
             ],
             [
              0.3333333333333333,
              "#9c179e"
             ],
             [
              0.4444444444444444,
              "#bd3786"
             ],
             [
              0.5555555555555556,
              "#d8576b"
             ],
             [
              0.6666666666666666,
              "#ed7953"
             ],
             [
              0.7777777777777778,
              "#fb9f3a"
             ],
             [
              0.8888888888888888,
              "#fdca26"
             ],
             [
              1,
              "#f0f921"
             ]
            ],
            "type": "heatmap"
           }
          ],
          "heatmapgl": [
           {
            "colorbar": {
             "outlinewidth": 0,
             "ticks": ""
            },
            "colorscale": [
             [
              0,
              "#0d0887"
             ],
             [
              0.1111111111111111,
              "#46039f"
             ],
             [
              0.2222222222222222,
              "#7201a8"
             ],
             [
              0.3333333333333333,
              "#9c179e"
             ],
             [
              0.4444444444444444,
              "#bd3786"
             ],
             [
              0.5555555555555556,
              "#d8576b"
             ],
             [
              0.6666666666666666,
              "#ed7953"
             ],
             [
              0.7777777777777778,
              "#fb9f3a"
             ],
             [
              0.8888888888888888,
              "#fdca26"
             ],
             [
              1,
              "#f0f921"
             ]
            ],
            "type": "heatmapgl"
           }
          ],
          "histogram": [
           {
            "marker": {
             "pattern": {
              "fillmode": "overlay",
              "size": 10,
              "solidity": 0.2
             }
            },
            "type": "histogram"
           }
          ],
          "histogram2d": [
           {
            "colorbar": {
             "outlinewidth": 0,
             "ticks": ""
            },
            "colorscale": [
             [
              0,
              "#0d0887"
             ],
             [
              0.1111111111111111,
              "#46039f"
             ],
             [
              0.2222222222222222,
              "#7201a8"
             ],
             [
              0.3333333333333333,
              "#9c179e"
             ],
             [
              0.4444444444444444,
              "#bd3786"
             ],
             [
              0.5555555555555556,
              "#d8576b"
             ],
             [
              0.6666666666666666,
              "#ed7953"
             ],
             [
              0.7777777777777778,
              "#fb9f3a"
             ],
             [
              0.8888888888888888,
              "#fdca26"
             ],
             [
              1,
              "#f0f921"
             ]
            ],
            "type": "histogram2d"
           }
          ],
          "histogram2dcontour": [
           {
            "colorbar": {
             "outlinewidth": 0,
             "ticks": ""
            },
            "colorscale": [
             [
              0,
              "#0d0887"
             ],
             [
              0.1111111111111111,
              "#46039f"
             ],
             [
              0.2222222222222222,
              "#7201a8"
             ],
             [
              0.3333333333333333,
              "#9c179e"
             ],
             [
              0.4444444444444444,
              "#bd3786"
             ],
             [
              0.5555555555555556,
              "#d8576b"
             ],
             [
              0.6666666666666666,
              "#ed7953"
             ],
             [
              0.7777777777777778,
              "#fb9f3a"
             ],
             [
              0.8888888888888888,
              "#fdca26"
             ],
             [
              1,
              "#f0f921"
             ]
            ],
            "type": "histogram2dcontour"
           }
          ],
          "mesh3d": [
           {
            "colorbar": {
             "outlinewidth": 0,
             "ticks": ""
            },
            "type": "mesh3d"
           }
          ],
          "parcoords": [
           {
            "line": {
             "colorbar": {
              "outlinewidth": 0,
              "ticks": ""
             }
            },
            "type": "parcoords"
           }
          ],
          "pie": [
           {
            "automargin": true,
            "type": "pie"
           }
          ],
          "scatter": [
           {
            "fillpattern": {
             "fillmode": "overlay",
             "size": 10,
             "solidity": 0.2
            },
            "type": "scatter"
           }
          ],
          "scatter3d": [
           {
            "line": {
             "colorbar": {
              "outlinewidth": 0,
              "ticks": ""
             }
            },
            "marker": {
             "colorbar": {
              "outlinewidth": 0,
              "ticks": ""
             }
            },
            "type": "scatter3d"
           }
          ],
          "scattercarpet": [
           {
            "marker": {
             "colorbar": {
              "outlinewidth": 0,
              "ticks": ""
             }
            },
            "type": "scattercarpet"
           }
          ],
          "scattergeo": [
           {
            "marker": {
             "colorbar": {
              "outlinewidth": 0,
              "ticks": ""
             }
            },
            "type": "scattergeo"
           }
          ],
          "scattergl": [
           {
            "marker": {
             "colorbar": {
              "outlinewidth": 0,
              "ticks": ""
             }
            },
            "type": "scattergl"
           }
          ],
          "scattermapbox": [
           {
            "marker": {
             "colorbar": {
              "outlinewidth": 0,
              "ticks": ""
             }
            },
            "type": "scattermapbox"
           }
          ],
          "scatterpolar": [
           {
            "marker": {
             "colorbar": {
              "outlinewidth": 0,
              "ticks": ""
             }
            },
            "type": "scatterpolar"
           }
          ],
          "scatterpolargl": [
           {
            "marker": {
             "colorbar": {
              "outlinewidth": 0,
              "ticks": ""
             }
            },
            "type": "scatterpolargl"
           }
          ],
          "scatterternary": [
           {
            "marker": {
             "colorbar": {
              "outlinewidth": 0,
              "ticks": ""
             }
            },
            "type": "scatterternary"
           }
          ],
          "surface": [
           {
            "colorbar": {
             "outlinewidth": 0,
             "ticks": ""
            },
            "colorscale": [
             [
              0,
              "#0d0887"
             ],
             [
              0.1111111111111111,
              "#46039f"
             ],
             [
              0.2222222222222222,
              "#7201a8"
             ],
             [
              0.3333333333333333,
              "#9c179e"
             ],
             [
              0.4444444444444444,
              "#bd3786"
             ],
             [
              0.5555555555555556,
              "#d8576b"
             ],
             [
              0.6666666666666666,
              "#ed7953"
             ],
             [
              0.7777777777777778,
              "#fb9f3a"
             ],
             [
              0.8888888888888888,
              "#fdca26"
             ],
             [
              1,
              "#f0f921"
             ]
            ],
            "type": "surface"
           }
          ],
          "table": [
           {
            "cells": {
             "fill": {
              "color": "#EBF0F8"
             },
             "line": {
              "color": "white"
             }
            },
            "header": {
             "fill": {
              "color": "#C8D4E3"
             },
             "line": {
              "color": "white"
             }
            },
            "type": "table"
           }
          ]
         },
         "layout": {
          "annotationdefaults": {
           "arrowcolor": "#2a3f5f",
           "arrowhead": 0,
           "arrowwidth": 1
          },
          "autotypenumbers": "strict",
          "coloraxis": {
           "colorbar": {
            "outlinewidth": 0,
            "ticks": ""
           }
          },
          "colorscale": {
           "diverging": [
            [
             0,
             "#8e0152"
            ],
            [
             0.1,
             "#c51b7d"
            ],
            [
             0.2,
             "#de77ae"
            ],
            [
             0.3,
             "#f1b6da"
            ],
            [
             0.4,
             "#fde0ef"
            ],
            [
             0.5,
             "#f7f7f7"
            ],
            [
             0.6,
             "#e6f5d0"
            ],
            [
             0.7,
             "#b8e186"
            ],
            [
             0.8,
             "#7fbc41"
            ],
            [
             0.9,
             "#4d9221"
            ],
            [
             1,
             "#276419"
            ]
           ],
           "sequential": [
            [
             0,
             "#0d0887"
            ],
            [
             0.1111111111111111,
             "#46039f"
            ],
            [
             0.2222222222222222,
             "#7201a8"
            ],
            [
             0.3333333333333333,
             "#9c179e"
            ],
            [
             0.4444444444444444,
             "#bd3786"
            ],
            [
             0.5555555555555556,
             "#d8576b"
            ],
            [
             0.6666666666666666,
             "#ed7953"
            ],
            [
             0.7777777777777778,
             "#fb9f3a"
            ],
            [
             0.8888888888888888,
             "#fdca26"
            ],
            [
             1,
             "#f0f921"
            ]
           ],
           "sequentialminus": [
            [
             0,
             "#0d0887"
            ],
            [
             0.1111111111111111,
             "#46039f"
            ],
            [
             0.2222222222222222,
             "#7201a8"
            ],
            [
             0.3333333333333333,
             "#9c179e"
            ],
            [
             0.4444444444444444,
             "#bd3786"
            ],
            [
             0.5555555555555556,
             "#d8576b"
            ],
            [
             0.6666666666666666,
             "#ed7953"
            ],
            [
             0.7777777777777778,
             "#fb9f3a"
            ],
            [
             0.8888888888888888,
             "#fdca26"
            ],
            [
             1,
             "#f0f921"
            ]
           ]
          },
          "colorway": [
           "#636efa",
           "#EF553B",
           "#00cc96",
           "#ab63fa",
           "#FFA15A",
           "#19d3f3",
           "#FF6692",
           "#B6E880",
           "#FF97FF",
           "#FECB52"
          ],
          "font": {
           "color": "#2a3f5f"
          },
          "geo": {
           "bgcolor": "white",
           "lakecolor": "white",
           "landcolor": "#E5ECF6",
           "showlakes": true,
           "showland": true,
           "subunitcolor": "white"
          },
          "hoverlabel": {
           "align": "left"
          },
          "hovermode": "closest",
          "mapbox": {
           "style": "light"
          },
          "paper_bgcolor": "white",
          "plot_bgcolor": "#E5ECF6",
          "polar": {
           "angularaxis": {
            "gridcolor": "white",
            "linecolor": "white",
            "ticks": ""
           },
           "bgcolor": "#E5ECF6",
           "radialaxis": {
            "gridcolor": "white",
            "linecolor": "white",
            "ticks": ""
           }
          },
          "scene": {
           "xaxis": {
            "backgroundcolor": "#E5ECF6",
            "gridcolor": "white",
            "gridwidth": 2,
            "linecolor": "white",
            "showbackground": true,
            "ticks": "",
            "zerolinecolor": "white"
           },
           "yaxis": {
            "backgroundcolor": "#E5ECF6",
            "gridcolor": "white",
            "gridwidth": 2,
            "linecolor": "white",
            "showbackground": true,
            "ticks": "",
            "zerolinecolor": "white"
           },
           "zaxis": {
            "backgroundcolor": "#E5ECF6",
            "gridcolor": "white",
            "gridwidth": 2,
            "linecolor": "white",
            "showbackground": true,
            "ticks": "",
            "zerolinecolor": "white"
           }
          },
          "shapedefaults": {
           "line": {
            "color": "#2a3f5f"
           }
          },
          "ternary": {
           "aaxis": {
            "gridcolor": "white",
            "linecolor": "white",
            "ticks": ""
           },
           "baxis": {
            "gridcolor": "white",
            "linecolor": "white",
            "ticks": ""
           },
           "bgcolor": "#E5ECF6",
           "caxis": {
            "gridcolor": "white",
            "linecolor": "white",
            "ticks": ""
           }
          },
          "title": {
           "x": 0.05
          },
          "xaxis": {
           "automargin": true,
           "gridcolor": "white",
           "linecolor": "white",
           "ticks": "",
           "title": {
            "standoff": 15
           },
           "zerolinecolor": "white",
           "zerolinewidth": 2
          },
          "yaxis": {
           "automargin": true,
           "gridcolor": "white",
           "linecolor": "white",
           "ticks": "",
           "title": {
            "standoff": 15
           },
           "zerolinecolor": "white",
           "zerolinewidth": 2
          }
         }
        },
        "title": {
         "text": "Contour Plot"
        },
        "xaxis": {
         "range": [
          10.7,
          61.3
         ],
         "title": {
          "text": "n_hidden_units"
         }
        },
        "yaxis": {
         "range": [
          5.3,
          20.7
         ],
         "title": {
          "text": "seq_length_LSTM"
         }
        }
       }
      }
     },
     "metadata": {},
     "output_type": "display_data"
    }
   ],
   "source": [
    "# Plotting the optimization history of the study.\n",
    "\n",
    "optuna.visualization.plot_optimization_history(study)\n",
    "\n",
    "#Plotting the accuracies for each hyperparameter for each trial.\n",
    "    \n",
    "optuna.visualization.plot_slice(study)\n",
    "\n",
    "# Plotting the accuracy surface for the hyperparameters involved in the random forest model.\n",
    "\n",
    "optuna.visualization.plot_contour(study, params=[\"seq_length_LSTM\", \"n_hidden_units\"]) "
   ]
  },
  {
   "cell_type": "code",
   "execution_count": null,
   "metadata": {},
   "outputs": [],
   "source": []
  }
 ],
 "metadata": {
  "kernelspec": {
   "display_name": "sinthlab",
   "language": "python",
   "name": "python3"
  },
  "language_info": {
   "codemirror_mode": {
    "name": "ipython",
    "version": 3
   },
   "file_extension": ".py",
   "mimetype": "text/x-python",
   "name": "python",
   "nbconvert_exporter": "python",
   "pygments_lexer": "ipython3",
   "version": "3.12.2"
  }
 },
 "nbformat": 4,
 "nbformat_minor": 2
}
