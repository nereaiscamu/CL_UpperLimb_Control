{
 "cells": [
  {
   "cell_type": "code",
   "execution_count": 1,
   "metadata": {},
   "outputs": [
    {
     "name": "stderr",
     "output_type": "stream",
     "text": [
      "/home/nerea/anaconda3/envs/sinthlab/lib/python3.8/site-packages/tqdm/auto.py:21: TqdmWarning: IProgress not found. Please update jupyter and ipywidgets. See https://ipywidgets.readthedocs.io/en/stable/user_install.html\n",
      "  from .autonotebook import tqdm as notebook_tqdm\n"
     ]
    }
   ],
   "source": [
    "import pandas as pd\n",
    "import numpy as np\n",
    "import xarray as xr\n",
    "\n",
    "import os\n",
    "from tqdm.auto import tqdm\n",
    "\n",
    "import matplotlib.pyplot as plt\n",
    "import seaborn as sns\n",
    "\n",
    "from src.helpers import *\n",
    "from src.visualize import *\n",
    "from src.trainer import *\n",
    "from Models.models import *\n",
    "\n",
    "import torch\n",
    "import torch.nn as nn\n",
    "import torch.nn.functional as F\n",
    "import torch.optim as optim\n",
    "from torch.optim import lr_scheduler\n",
    "from sklearn.metrics import *\n",
    "from copy import deepcopy\n",
    "import torch.utils.data as data\n",
    "from torch.utils.data import Dataset\n",
    "\n",
    "import pickle\n",
    "import math"
   ]
  },
  {
   "cell_type": "code",
   "execution_count": 2,
   "metadata": {},
   "outputs": [],
   "source": [
    "#@title Helper functions for plotting (run this cell!)\n",
    "sns.set_context(\"notebook\")\n",
    "\n",
    "# initialize a color palette for plotting\n",
    "palette = sns.xkcd_palette([\"windows blue\",\n",
    "                            \"red\",\n",
    "                            \"medium green\",\n",
    "                            \"dusty purple\",\n",
    "                            \"orange\",\n",
    "                            \"amber\",\n",
    "                            \"clay\",\n",
    "                            \"pink\",\n",
    "                            \"greyish\"])"
   ]
  },
  {
   "cell_type": "markdown",
   "metadata": {},
   "source": [
    "## Load data"
   ]
  },
  {
   "cell_type": "code",
   "execution_count": 3,
   "metadata": {},
   "outputs": [],
   "source": [
    "data_path = './Data/Processed_Data/Tidy_Sansa_13_04.pkl'\n",
    "\n",
    "with open(data_path, 'rb') as file:\n",
    "    df = pickle.load(file)"
   ]
  },
  {
   "cell_type": "code",
   "execution_count": 4,
   "metadata": {},
   "outputs": [],
   "source": [
    "baseline_df = df.loc[df.type == 'BASELINE'].reset_index()"
   ]
  },
  {
   "cell_type": "code",
   "execution_count": 5,
   "metadata": {},
   "outputs": [],
   "source": [
    "stim_df = df.loc[df.type == 'TONIC'].reset_index()"
   ]
  },
  {
   "cell_type": "code",
   "execution_count": 6,
   "metadata": {},
   "outputs": [
    {
     "name": "stdout",
     "output_type": "stream",
     "text": [
      "Test trials  4\n",
      "Val trials 3\n"
     ]
    }
   ],
   "source": [
    "X_train, y_train, X_val, y_val, X_test, y_test, info_train, info_val, info_test = train_test_split(baseline_df, train_variable = 'both_rates', \n",
    "                                                                                                   target_variable = 'target_pos', num_folds = 5)"
   ]
  },
  {
   "cell_type": "code",
   "execution_count": 7,
   "metadata": {},
   "outputs": [
    {
     "name": "stdout",
     "output_type": "stream",
     "text": [
      "We are testing the optimization method on fold  0\n"
     ]
    }
   ],
   "source": [
    "# Test one of the folds first\n",
    "fold_num = 'fold0'\n",
    "fold = 0\n",
    "\n",
    "print('We are testing the optimization method on fold ', fold)\n",
    "\n",
    "seq_length = 75\n",
    "X_train = X_train[fold_num]\n",
    "X_val = X_val[fold_num]\n",
    "X_test = X_test[fold_num]\n",
    "y_test = y_test[fold_num]\n",
    "y_train = y_train[fold_num]\n",
    "y_val = y_val[fold_num]\n",
    "\n",
    "# Reshape x_train to match the number of columns in the model's input layer\n",
    "xx_train = X_train.reshape(X_train.shape[0] // seq_length, seq_length, X_train.shape[1])  \n",
    "# Reshape y_train to match the number of neurons in the model's output layer\n",
    "yy_train = y_train.reshape(y_train.shape[0] // seq_length, seq_length, y_train.shape[1])  \n",
    "\n",
    "xx_val = X_val.reshape(X_val.shape[0] // seq_length, seq_length, X_val.shape[1])  \n",
    "yy_val = y_val.reshape(y_val.shape[0] // seq_length, seq_length, y_val.shape[1])  \n",
    "\n",
    "xx_test = X_test.reshape(X_test.shape[0] // seq_length, seq_length, X_test.shape[1])  \n",
    "yy_test = y_test.reshape(y_test.shape[0] // seq_length, seq_length, y_test.shape[1])  \n",
    "\n"
   ]
  },
  {
   "cell_type": "code",
   "execution_count": 8,
   "metadata": {},
   "outputs": [],
   "source": [
    "# Define hyperparameters\n",
    "\n",
    "# Specify that we want our tensors on the GPU and in float32\n",
    "device = torch.device('cuda:0') #suposed to be cuda\n",
    "dtype = torch.float32\n",
    "path_to_models = './Models'\n",
    "\n",
    "num_dim_output = y_train.shape[1]\n",
    "num_features = X_train.shape[1]\n",
    "\n",
    "seed = 42\n",
    "torch.manual_seed(seed)\n",
    "\n",
    "seq_length = 75\n",
    "\n",
    "#Hyperparameters objective and regularization\n",
    "alpha_reg = 1.21e-6\n",
    "l1_ratio_reg = 0.394\n",
    "\n",
    "lr = 0.0001 # 0.00193\n",
    "loss_function = huber_loss\n",
    "delta = 8  # hyperparameter for huber loss\n",
    "\n",
    "# Hyperparameters LSTM class\n",
    "hidden_units = 10\n",
    "num_layers = 1\n",
    "#input_size = 31 Not for now, only if I need a linear layer before the RNN\n",
    "\n",
    "#Other training hyperparameters\n",
    "lr_gamma= 1.437 #for scheduler\n",
    "lr_step_size = 10 #for scheduler\n",
    "\n",
    "seq_length_LSTM= 10\n",
    "batch_size_train= 25\n",
    "batch_size_val = 25"
   ]
  },
  {
   "cell_type": "markdown",
   "metadata": {},
   "source": [
    "**RNN Parameters**\n",
    "\n",
    "input_size – The number of expected features in the input x\n",
    "\n",
    "hidden_size – The number of features in the hidden state h\n",
    "\n",
    "num_layers – Number of recurrent layers. E.g., setting num_layers=2 would mean stacking two RNNs together to form a stacked RNN, with the second RNN taking in outputs of the first RNN and computing the final results. Default: 1\n",
    "\n",
    "nonlinearity – The non-linearity to use. Can be either 'tanh' or 'relu'. Default: 'tanh'\n",
    "\n",
    "bias – If False, then the layer does not use bias weights b_ih and b_hh. Default: True\n",
    "\n",
    "batch_first – If True, then the input and output tensors are provided as (batch, seq, feature) instead of (seq, batch, feature). Note that this does not apply to hidden or cell states. See the Inputs/Outputs sections below for details. Default: False\n",
    "\n",
    "dropout – If non-zero, introduces a Dropout layer on the outputs of each RNN layer except the last layer, with dropout probability equal to dropout. Default: 0\n",
    "\n",
    "bidirectional – If True, becomes a bidirectional RNN. Default: False"
   ]
  },
  {
   "cell_type": "code",
   "execution_count": 9,
   "metadata": {},
   "outputs": [],
   "source": [
    "#model = CausalRNN(input_size= num_features, hidden_size = hidden_units, num_layers= num_layers, output_dim=num_dim_output, dropout= 0.3)"
   ]
  },
  {
   "cell_type": "code",
   "execution_count": 10,
   "metadata": {},
   "outputs": [
    {
     "name": "stdout",
     "output_type": "stream",
     "text": [
      "Creating a simple RNN with 12223 weights.\n"
     ]
    }
   ],
   "source": [
    "from hypnettorch.mnets import SimpleRNN\n",
    "\n",
    "hidden_units = 20\n",
    "input_rec = 50\n",
    "seq_length_LSTM = 15\n",
    "\n",
    "model = SimpleRNN(n_in=num_features, rnn_layers=(hidden_units,), \n",
    "                  fc_layers_pre=(input_rec,), fc_layers=(num_dim_output,),\n",
    "                use_lstm = True, no_weights = False).to(device) \n",
    "#Here we use no_weights = False to try to train the model only on baseline data"
   ]
  },
  {
   "cell_type": "code",
   "execution_count": 11,
   "metadata": {},
   "outputs": [],
   "source": [
    "# Helper function to convert between numpy arrays and tensors\n",
    "to_t = lambda array: torch.tensor(array, device='cpu', dtype=dtype)  #device\n",
    "to_t_eval =  lambda array: torch.tensor(array, device='cuda', dtype=dtype)  #device\n",
    "from_t = lambda tensor: tensor.to(\"cpu\").detach().numpy()"
   ]
  },
  {
   "cell_type": "code",
   "execution_count": 12,
   "metadata": {},
   "outputs": [],
   "source": [
    "xx_train = to_t(xx_train)\n",
    "yy_train = to_t(yy_train)\n",
    "xx_val = to_t(xx_val)\n",
    "yy_val = to_t(yy_val)"
   ]
  },
  {
   "cell_type": "code",
   "execution_count": 13,
   "metadata": {},
   "outputs": [
    {
     "name": "stderr",
     "output_type": "stream",
     "text": [
      "/home/nerea/CL_UpperLimb_Control/src/trainer.py:112: UserWarning: To copy construct from a tensor, it is recommended to use sourceTensor.clone().detach() or sourceTensor.clone().detach().requires_grad_(True), rather than torch.tensor(sourceTensor).\n",
      "  self.y = torch.tensor(y)\n",
      "/home/nerea/CL_UpperLimb_Control/src/trainer.py:113: UserWarning: To copy construct from a tensor, it is recommended to use sourceTensor.clone().detach() or sourceTensor.clone().detach().requires_grad_(True), rather than torch.tensor(sourceTensor).\n",
      "  self.X = torch.tensor(X)\n",
      "/home/nerea/CL_UpperLimb_Control/src/trainer.py:112: UserWarning: To copy construct from a tensor, it is recommended to use sourceTensor.clone().detach() or sourceTensor.clone().detach().requires_grad_(True), rather than torch.tensor(sourceTensor).\n",
      "  self.y = torch.tensor(y)\n",
      "/home/nerea/CL_UpperLimb_Control/src/trainer.py:113: UserWarning: To copy construct from a tensor, it is recommended to use sourceTensor.clone().detach() or sourceTensor.clone().detach().requires_grad_(True), rather than torch.tensor(sourceTensor).\n",
      "  self.X = torch.tensor(X)\n"
     ]
    },
    {
     "name": "stdout",
     "output_type": "stream",
     "text": [
      "Epoch 000 Train 0.1854 Val 0.1695\n",
      "Epoch 001 Train 0.1681 Val 0.1559\n",
      "Epoch 002 Train 0.1529 Val 0.1421\n",
      "Epoch 003 Train 0.1376 Val 0.1270\n",
      "Epoch 004 Train 0.1234 Val 0.1141\n",
      "Epoch 005 Train 0.1099 Val 0.1011\n",
      "Epoch 006 Train 0.0970 Val 0.0895\n",
      "Epoch 007 Train 0.0841 Val 0.0791\n",
      "Epoch 008 Train 0.0723 Val 0.0680\n",
      "Epoch 009 Train 0.0610 Val 0.0599\n",
      "Epoch 010 Train 0.0488 Val 0.0528\n",
      "Epoch 011 Train 0.0386 Val 0.0471\n",
      "Epoch 012 Train 0.0321 Val 0.0449\n",
      "Epoch 013 Train 0.0307 Val 0.0438\n",
      "Epoch 014 Train 0.0290 Val 0.0452\n",
      "Epoch 015 Train 0.0291 Val 0.0446\n",
      "Epoch 016 Train 0.0269 Val 0.0437\n",
      "Epoch 017 Train 0.0270 Val 0.0413\n",
      "Epoch 018 Train 0.0251 Val 0.0419\n",
      "Epoch 019 Train 0.0254 Val 0.0419\n",
      "Epoch 020 Train 0.0244 Val 0.0413\n",
      "Epoch 021 Train 0.0231 Val 0.0397\n",
      "Epoch 022 Train 0.0224 Val 0.0390\n",
      "Epoch 023 Train 0.0215 Val 0.0374\n",
      "Epoch 024 Train 0.0210 Val 0.0376\n",
      "Epoch 025 Train 0.0206 Val 0.0355\n",
      "Epoch 026 Train 0.0199 Val 0.0350\n",
      "Epoch 027 Train 0.0196 Val 0.0353\n",
      "Epoch 028 Train 0.0185 Val 0.0334\n",
      "Epoch 029 Train 0.0186 Val 0.0333\n",
      "Epoch 030 Train 0.0181 Val 0.0330\n",
      "Epoch 031 Train 0.0174 Val 0.0325\n",
      "Epoch 032 Train 0.0166 Val 0.0318\n",
      "Epoch 033 Train 0.0166 Val 0.0328\n",
      "Epoch 034 Train 0.0161 Val 0.0315\n",
      "Epoch 035 Train 0.0156 Val 0.0299\n",
      "Epoch 036 Train 0.0154 Val 0.0310\n",
      "Epoch 037 Train 0.0149 Val 0.0293\n",
      "Epoch 038 Train 0.0151 Val 0.0286\n",
      "Epoch 039 Train 0.0142 Val 0.0281\n",
      "Epoch 040 Train 0.0138 Val 0.0291\n",
      "Epoch 041 Train 0.0138 Val 0.0279\n",
      "Epoch 042 Train 0.0132 Val 0.0267\n",
      "Epoch 043 Train 0.0130 Val 0.0272\n",
      "Epoch 044 Train 0.0128 Val 0.0268\n",
      "Epoch 045 Train 0.0127 Val 0.0270\n",
      "Epoch 046 Train 0.0124 Val 0.0261\n",
      "Epoch 047 Train 0.0122 Val 0.0257\n",
      "Epoch 048 Train 0.0117 Val 0.0255\n",
      "Epoch 049 Train 0.0114 Val 0.0237\n",
      "Epoch 050 Train 0.0115 Val 0.0249\n",
      "Epoch 051 Train 0.0108 Val 0.0252\n",
      "Epoch 052 Train 0.0106 Val 0.0240\n",
      "Epoch 053 Train 0.0106 Val 0.0244\n",
      "Decrease LR\n",
      "Epoch 054 Train 0.0102 Val 0.0242\n",
      "Epoch 055 Train 0.0100 Val 0.0244\n",
      "Epoch 056 Train 0.0100 Val 0.0240\n",
      "Epoch 057 Train 0.0099 Val 0.0233\n",
      "Epoch 058 Train 0.0095 Val 0.0242\n",
      "Epoch 059 Train 0.0097 Val 0.0234\n",
      "Epoch 060 Train 0.0092 Val 0.0231\n",
      "Epoch 061 Train 0.0092 Val 0.0238\n",
      "Epoch 062 Train 0.0091 Val 0.0232\n",
      "Epoch 063 Train 0.0090 Val 0.0225\n",
      "Epoch 064 Train 0.0088 Val 0.0237\n",
      "Epoch 065 Train 0.0088 Val 0.0239\n",
      "Epoch 066 Train 0.0086 Val 0.0226\n",
      "Epoch 067 Train 0.0085 Val 0.0235\n",
      "Epoch 068 Train 0.0083 Val 0.0224\n",
      "Epoch 069 Train 0.0083 Val 0.0232\n",
      "Epoch 070 Train 0.0081 Val 0.0225\n",
      "Epoch 071 Train 0.0079 Val 0.0230\n",
      "Epoch 072 Train 0.0078 Val 0.0221\n",
      "Epoch 073 Train 0.0077 Val 0.0223\n",
      "Epoch 074 Train 0.0077 Val 0.0218\n",
      "Epoch 075 Train 0.0075 Val 0.0220\n",
      "Epoch 076 Train 0.0073 Val 0.0234\n",
      "Epoch 077 Train 0.0073 Val 0.0229\n",
      "Epoch 078 Train 0.0071 Val 0.0221\n",
      "Decrease LR\n"
     ]
    }
   ],
   "source": [
    "train_losses, val_losses = \\\n",
    "    train_model(model, xx_train,yy_train,\n",
    "                xx_val, \n",
    "                yy_val,\n",
    "                lr= lr,\n",
    "                lr_step_size=lr_step_size,\n",
    "                lr_gamma= lr_gamma,\n",
    "                sequence_length_LSTM=seq_length_LSTM,\n",
    "                batch_size_train = batch_size_train,\n",
    "                batch_size_val = batch_size_val,\n",
    "                num_epochs=1000, \n",
    "                delta = 8,                 \n",
    "                regularizer= reg_hnet,\n",
    "                l1_ratio = l1_ratio_reg,\n",
    "                alpha = alpha_reg, # CAREFUL WITH INTEGERS\n",
    "                early_stop = 5,\n",
    "                \n",
    "                )"
   ]
  },
  {
   "cell_type": "code",
   "execution_count": 14,
   "metadata": {},
   "outputs": [
    {
     "data": {
      "image/png": "[encoded data removed]",
      "text/plain": [
       "<Figure size 1000x600 with 1 Axes>"
      ]
     },
     "metadata": {},
     "output_type": "display_data"
    }
   ],
   "source": [
    "# Assuming you have already trained your model and collected the losses\n",
    "# train_losses and val_losses are numpy arrays containing losses for each epoch\n",
    "plot_losses(train_losses, val_losses)"
   ]
  },
  {
   "cell_type": "code",
   "execution_count": 15,
   "metadata": {},
   "outputs": [
    {
     "name": "stderr",
     "output_type": "stream",
     "text": [
      "/tmp/ipykernel_877575/815769189.py:3: UserWarning: To copy construct from a tensor, it is recommended to use sourceTensor.clone().detach() or sourceTensor.clone().detach().requires_grad_(True), rather than torch.tensor(sourceTensor).\n",
      "  to_t_eval =  lambda array: torch.tensor(array, device='cuda', dtype=dtype)  #device\n",
      "/tmp/ipykernel_877575/815769189.py:3: UserWarning: To copy construct from a tensor, it is recommended to use sourceTensor.clone().detach() or sourceTensor.clone().detach().requires_grad_(True), rather than torch.tensor(sourceTensor).\n",
      "  to_t_eval =  lambda array: torch.tensor(array, device='cuda', dtype=dtype)  #device\n",
      "/tmp/ipykernel_877575/815769189.py:3: UserWarning: To copy construct from a tensor, it is recommended to use sourceTensor.clone().detach() or sourceTensor.clone().detach().requires_grad_(True), rather than torch.tensor(sourceTensor).\n",
      "  to_t_eval =  lambda array: torch.tensor(array, device='cuda', dtype=dtype)  #device\n",
      "/tmp/ipykernel_877575/815769189.py:3: UserWarning: To copy construct from a tensor, it is recommended to use sourceTensor.clone().detach() or sourceTensor.clone().detach().requires_grad_(True), rather than torch.tensor(sourceTensor).\n",
      "  to_t_eval =  lambda array: torch.tensor(array, device='cuda', dtype=dtype)  #device\n"
     ]
    }
   ],
   "source": [
    " # Move the test stimulus and measured rates to the GPU\n",
    "xx_train = to_t_eval(xx_train)\n",
    "yy_train = to_t_eval(yy_train)\n",
    "xx_val = to_t_eval(xx_val)\n",
    "yy_val = to_t_eval(yy_val)\n",
    "xx_test = to_t_eval(xx_test)\n",
    "yy_test = to_t_eval(yy_test)\n"
   ]
  },
  {
   "cell_type": "code",
   "execution_count": 16,
   "metadata": {},
   "outputs": [],
   "source": [
    "y_pred = model(xx_val)\n",
    "y_array = yy_val.detach().cpu().numpy()\n",
    "y_pred_array = y_pred.detach().cpu().numpy()\n",
    "\n",
    "# Reshape tensors to 2D arrays (flatten the batch and sequence dimensions)\n",
    "y_pred_2D = y_pred_array.reshape(-1, y_pred_array.shape[-1])\n",
    "y_true_2D = y_array.reshape(-1, y_array.shape[-1])"
   ]
  },
  {
   "cell_type": "code",
   "execution_count": 17,
   "metadata": {},
   "outputs": [
    {
     "name": "stdout",
     "output_type": "stream",
     "text": [
      "Train EV: 0.60 \n",
      "Val EV: 0.41 \n",
      "Test EV: 0.47 \n"
     ]
    }
   ],
   "source": [
    "y_hat, y_true, train_score, v_score, test_score = eval_model(xx_train, yy_train, xx_val, yy_val, xx_test, yy_test, model, metric = 'ev')"
   ]
  },
  {
   "cell_type": "markdown",
   "metadata": {},
   "source": [
    "## CL with Hypernetworks\n",
    "\n",
    "First we define the BASELINE and STIMULATION datasets for CL."
   ]
  },
  {
   "cell_type": "code",
   "execution_count": 9,
   "metadata": {},
   "outputs": [
    {
     "name": "stdout",
     "output_type": "stream",
     "text": [
      "Test trials  4\n",
      "Val trials 3\n"
     ]
    }
   ],
   "source": [
    "X_train_b, y_train_b, X_val_b, y_val_b, X_test_b, y_test_b, info_train_b, info_val_b, info_test_b = train_test_split(baseline_df, train_variable = 'both_rates', \n",
    "                                                                                                   target_variable = 'target_pos', num_folds = 5)"
   ]
  },
  {
   "cell_type": "code",
   "execution_count": 10,
   "metadata": {},
   "outputs": [
    {
     "name": "stdout",
     "output_type": "stream",
     "text": [
      "Test trials  8\n",
      "Val trials 7\n"
     ]
    }
   ],
   "source": [
    "X_train_s, y_train_s, X_val_s, y_val_s, X_test_s, y_test_s, info_train_s, info_val_s, info_test_s = train_test_split(stim_df, train_variable = 'both_rates', \n",
    "                                                                                                   target_variable = 'target_pos', num_folds = 5)"
   ]
  },
  {
   "cell_type": "code",
   "execution_count": 11,
   "metadata": {},
   "outputs": [
    {
     "name": "stdout",
     "output_type": "stream",
     "text": [
      "We are testing the optimization method on fold  0\n"
     ]
    },
    {
     "data": {
      "text/plain": [
       "<torch._C.Generator at 0x7f0bd6b5dcd0>"
      ]
     },
     "execution_count": 11,
     "metadata": {},
     "output_type": "execute_result"
    }
   ],
   "source": [
    "# Test one of the folds first\n",
    "fold_num = 'fold0'\n",
    "fold = 0\n",
    "\n",
    "print('We are testing the optimization method on fold ', fold)\n",
    "\n",
    "def input_mats(x,y, seq_length = 75):\n",
    "    x = x[fold_num]\n",
    "    y = y[fold_num]\n",
    "    x = x.reshape(x.shape[0] // seq_length, seq_length, x.shape[1])  \n",
    "    y = y.reshape(y.shape[0] // seq_length, seq_length, y.shape[1])  \n",
    "    return x,y\n",
    "\n",
    "x_train_base, y_train_base = input_mats(X_train_b, y_train_b)\n",
    "x_train_stim, y_train_stim = input_mats(X_train_s, y_train_s)\n",
    "\n",
    "x_val_base, y_val_base = input_mats(X_val_b, y_val_b)\n",
    "x_val_stim, y_val_stim = input_mats(X_val_s, y_val_s)\n",
    "\n",
    "x_test_base, y_test_base = input_mats(X_test_b, y_test_b)\n",
    "x_test_stim, y_test_stim = input_mats(X_test_s, y_test_s)\n",
    "\n",
    "seed = 42\n",
    "torch.manual_seed(seed)"
   ]
  },
  {
   "cell_type": "markdown",
   "metadata": {},
   "source": [
    "Tutorial on the use of the hypnettorch package: https://github.com/chrhenning/hypnettorch/blob/master/hypnettorch/tutorials/getting_started.ipynb\n",
    "\n",
    "\n",
    "From hypnettorch, we have:\n",
    "\n",
    "- `SimpleRNN:` model which works as main networks and which has already the option or passing weights generated by other network in the forward loop.\n",
    "    \n",
    "- `HMLP:` A variety of hypernetworks is available in subpackage hypnettorch.hnets. The simplest being a fully-connected hypernetwork, see class hypnettorch.hnets.HMLP. Such simplistic hypernetwork is huge, as its parameter count is quadratic in the number of parameters of the corresponding main network. Therefore, several more sophisticated hypernetwork options are available, which are just as simple to use (most notably, hypnettorch.hnets.ChunkedHMLP). However, to keep this tutorial light, we don't discuss these options here."
   ]
  },
  {
   "cell_type": "code",
   "execution_count": 13,
   "metadata": {},
   "outputs": [],
   "source": [
    "from IPython.display import display, Markdown, Latex"
   ]
  },
  {
   "cell_type": "code",
   "execution_count": 12,
   "metadata": {},
   "outputs": [],
   "source": [
    "# Specify that we want our tensors on the GPU and in float32\n",
    "device = torch.device('cuda:0') #suposed to be cuda\n",
    "dtype = torch.float32\n",
    "path_to_models = './Models'\n",
    "\n",
    "num_dim_output = y_train_stim.shape[2]\n",
    "num_features = x_train_stim.shape[2]\n",
    "\n",
    "seed = 42\n",
    "torch.manual_seed(seed)\n",
    "\n",
    "seq_length = 75"
   ]
  },
  {
   "cell_type": "code",
   "execution_count": 13,
   "metadata": {},
   "outputs": [
    {
     "name": "stdout",
     "output_type": "stream",
     "text": [
      "Creating a simple RNN with 12223 weights.\n"
     ]
    }
   ],
   "source": [
    "from hypnettorch.mnets import SimpleRNN\n",
    "\n",
    "hidden_units = 20\n",
    "input_rec = 50\n",
    "seq_length_LSTM = 15\n",
    "\n",
    "\n",
    "model = SimpleRNN(n_in=num_features, rnn_layers=(hidden_units,), \n",
    "                  fc_layers_pre=(input_rec,), fc_layers=(num_dim_output,),\n",
    "                use_lstm = True, no_weights = True).to(device) \n",
    "# Here no_weight set to true for the model to take the weights generated with the hypernetwork"
   ]
  },
  {
   "cell_type": "markdown",
   "metadata": {},
   "source": [
    "Hypernetworks usually distinguish between two types of inputs: *conditional* and *unconditional* inputs. Conditional inputs are simply inputs that can be related to a finite and discrete set of conditions, such as the [task identity in continual learning](https://arxiv.org/abs/1906.00695). Simply speaking, conditional inputs can be used if the number $N$ of conditions is known a priori. In this case, the hypernetwork will create a set of $N$ learnable condition vectors (e.g., task embeddings), and can take the condition ID (as integer) as input to the ``forward`` method. This simplifies many usage scenarios, as the user of a hypernetwork does not have to maintain learnable input embeddings to the hypernetwork by himself. In all other cases (like the input to the hypernetwork comes from a continuous vector space), *unconditional* inputs should be used.\n",
    "\n",
    "In our case, the hypernetwork should either generate a set of weights for MNIST (condition $0$) or FashionMNIST (condition $1$). Each of these conditions should internally be represented by a $8$-dimensional embedding vector."
   ]
  },
  {
   "cell_type": "code",
   "execution_count": 16,
   "metadata": {},
   "outputs": [
    {
     "name": "stdout",
     "output_type": "stream",
     "text": [
      "Created MLP Hypernet.\n",
      "Hypernetwork with 379199 weights and 12223 outputs (compression ratio: 31.02).\n",
      "The network consists of 379183 unconditional weights (379183 internally maintained) and 16 conditional weights (16 internally maintained).\n",
      "\n",
      "The randomly initialized input embeddings are:\n",
      " [Parameter containing:\n",
      "tensor([ 0.3367,  0.1288,  0.2345,  0.2303, -1.1229, -0.1863,  2.2082, -0.6380],\n",
      "       device='cuda:0', requires_grad=True), Parameter containing:\n",
      "tensor([ 0.4617,  0.2674,  0.5349,  0.8094,  1.1103, -1.6898, -0.9890,  0.9580],\n",
      "       device='cuda:0', requires_grad=True)]\n"
     ]
    }
   ],
   "source": [
    "from hypnettorch.hnets import HMLP\n",
    "\n",
    "num_conditions = 2\n",
    "size_task_embedding = 8\n",
    "\n",
    "hnet = HMLP(model.param_shapes, uncond_in_size=0,\n",
    "             cond_in_size=size_task_embedding,\n",
    "            layers=[30], \n",
    "            num_cond_embs=num_conditions).to(device)\n",
    "\n",
    "print()\n",
    "print('The randomly initialized input embeddings are:\\n', \n",
    "      hnet.conditional_params)"
   ]
  },
  {
   "cell_type": "markdown",
   "metadata": {},
   "source": [
    "**Hypernetwork initialization** \n",
    "can be an important factor, for instance, [when using optimizers such as SGD](https://openreview.net/forum?id=H1lma24tPB). \n",
    "\n",
    "Therefore, some hypernet implementations provide custom initialization functions."
   ]
  },
  {
   "cell_type": "code",
   "execution_count": 17,
   "metadata": {},
   "outputs": [],
   "source": [
    "hnet.apply_hyperfan_init(mnet=model)"
   ]
  },
  {
   "cell_type": "markdown",
   "metadata": {},
   "source": [
    "**Making predictions** with the target network is fairly easy. Simply generate the corresponding weights with the hypernetwork and pass them to the ``forward`` method of the main network together with the network inputs. "
   ]
  },
  {
   "cell_type": "code",
   "execution_count": 18,
   "metadata": {},
   "outputs": [],
   "source": [
    "from torch.utils.data import Dataset"
   ]
  },
  {
   "cell_type": "code",
   "execution_count": 14,
   "metadata": {},
   "outputs": [],
   "source": [
    "# Define parameters for training\n",
    "num_epochs = 50\n",
    "batch_size_train = 25\n",
    "batch_size_val = 25"
   ]
  },
  {
   "cell_type": "code",
   "execution_count": 20,
   "metadata": {},
   "outputs": [
    {
     "name": "stdout",
     "output_type": "stream",
     "text": [
      "<function reg_hnet at 0x7faa7a414f70>\n"
     ]
    }
   ],
   "source": [
    "print(reg_hnet)"
   ]
  },
  {
   "cell_type": "code",
   "execution_count": 21,
   "metadata": {},
   "outputs": [
    {
     "name": "stdout",
     "output_type": "stream",
     "text": [
      "Epoch 000 Train 0.8622 Val 0.2972\n",
      "Epoch 001 Train 0.1608 Val 0.0940\n",
      "Epoch 002 Train 0.0631 Val 0.0758\n",
      "Epoch 003 Train 0.0465 Val 0.0656\n",
      "Epoch 004 Train 0.0377 Val 0.0632\n",
      "Epoch 005 Train 0.0335 Val 0.0597\n",
      "Epoch 006 Train 0.0293 Val 0.0616\n",
      "Epoch 007 Train 0.0274 Val 0.0575\n",
      "Epoch 008 Train 0.0246 Val 0.0568\n",
      "Epoch 009 Train 0.0223 Val 0.0579\n",
      "Epoch 010 Train 0.0203 Val 0.0570\n",
      "Epoch 011 Train 0.0195 Val 0.0559\n",
      "Epoch 012 Train 0.0177 Val 0.0560\n",
      "Epoch 013 Train 0.0169 Val 0.0526\n",
      "Epoch 014 Train 0.0160 Val 0.0528\n",
      "Epoch 015 Train 0.0147 Val 0.0525\n",
      "Epoch 016 Train 0.0143 Val 0.0552\n",
      "Epoch 017 Train 0.0138 Val 0.0518\n",
      "Epoch 018 Train 0.0127 Val 0.0527\n",
      "Epoch 019 Train 0.0126 Val 0.0503\n",
      "Epoch 020 Train 0.0113 Val 0.0523\n",
      "Epoch 021 Train 0.0110 Val 0.0512\n",
      "Epoch 022 Train 0.0100 Val 0.0504\n",
      "Epoch 023 Train 0.0099 Val 0.0523\n",
      "Decrease LR\n",
      "Epoch 024 Train 0.0094 Val 0.0512\n",
      "Epoch 025 Train 0.0089 Val 0.0519\n",
      "Epoch 026 Train 0.0085 Val 0.0515\n",
      "Epoch 027 Train 0.0085 Val 0.0526\n",
      "Epoch 028 Train 0.0083 Val 0.0512\n",
      "Decrease LR\n"
     ]
    }
   ],
   "source": [
    "train_losses, val_losses, W_base, W_stim = train_hypernet(\n",
    "        model, hnet, y_train_base, x_train_base,\n",
    "                y_train_stim,  x_train_stim,\n",
    "                y_val_base,  x_val_base,\n",
    "                y_val_stim,    x_val_stim,\n",
    "                lr=0.00005,\n",
    "                lr_step_size=10,\n",
    "                lr_gamma=0.9,\n",
    "                sequence_length_LSTM= seq_length_LSTM,\n",
    "                batch_size_train = batch_size_train,\n",
    "                batch_size_val = batch_size_val,\n",
    "                num_epochs=num_epochs, \n",
    "                regularizer = reg_hnet_noweights, \n",
    "                l1_ratio = 0.5,\n",
    "                alpha = 1e-5,   )"
   ]
  },
  {
   "cell_type": "code",
   "execution_count": 33,
   "metadata": {},
   "outputs": [
    {
     "data": {
      "image/png": "[encoded data removed]",
      "text/plain": [
       "<Figure size 1000x600 with 1 Axes>"
      ]
     },
     "metadata": {},
     "output_type": "display_data"
    }
   ],
   "source": [
    "# Assuming you have already trained your model and collected the losses\n",
    "# train_losses and val_losses are numpy arrays containing losses for each epoch\n",
    "plot_losses(train_losses, val_losses)"
   ]
  },
  {
   "cell_type": "code",
   "execution_count": 34,
   "metadata": {},
   "outputs": [],
   "source": [
    "def reshape_to_eval(x,y, model):\n",
    "    x = to_t_eval(x) \n",
    "    y = to_t_eval(y)\n",
    "    y_pred = model(x)\n",
    "    y_array = y.detach().cpu().numpy()\n",
    "    y_pred_array = y_pred.detach().cpu().numpy()\n",
    "\n",
    "    # Reshape tensors to 2D arrays (flatten the batch and sequence dimensions)\n",
    "    y_pred_2D = y_pred_array.reshape(-1, y_pred_array.shape[-1])\n",
    "    y_true_2D = y_array.reshape(-1, y_array.shape[-1])\n",
    "    \n",
    "    return y_true_2D, y_pred_2D"
   ]
  },
  {
   "cell_type": "code",
   "execution_count": 24,
   "metadata": {},
   "outputs": [],
   "source": [
    "def calc_explained_variance(x, y, mnet, mnet_weights):\n",
    "    \"\"\"Compute the explained variance for a given dataset\"\"\"\n",
    "    with torch.no_grad():\n",
    "        # Process complete dataset as one batch.\n",
    "        # Convert X_train and y_train to PyTorch tensors\n",
    "        inputs = torch.tensor(x, device=device, dtype=torch.float32)\n",
    "        targets = torch.tensor(y, device=device, dtype=torch.float32)\n",
    "\n",
    "        # Forward pass to get predictions\n",
    "        predictions = mnet(inputs, weights=mnet_weights)\n",
    "\n",
    "        y_array = targets.detach().cpu().numpy()\n",
    "        y_pred_array = predictions.detach().cpu().numpy()\n",
    "     \n",
    "        # Reshape tensors to 2D arrays (flatten the batch and sequence dimensions)\n",
    "        y_pred_2D = y_pred_array.reshape(-1, y_pred_array.shape[-1])\n",
    "        y_true_2D = y_array.reshape(-1, y_array.shape[-1])\n",
    "\n",
    "        # Compute explained variance\n",
    "        explained_var = explained_variance_score(y_true_2D, y_pred_2D)\n",
    "\n",
    "    return explained_var"
   ]
  },
  {
   "cell_type": "code",
   "execution_count": 36,
   "metadata": {},
   "outputs": [],
   "source": [
    "subsets = ['Training', 'Validation', 'Test']\n",
    "\n",
    "data_base = [[x_train_base, y_train_base],\n",
    "             [x_val_base, y_val_base],\n",
    "             [x_test_base, y_test_base]]\n",
    "\n",
    "data_stim = [[x_train_stim, y_train_stim],\n",
    "             [x_val_stim, y_val_stim],\n",
    "             [x_test_stim, y_test_stim]]"
   ]
  },
  {
   "cell_type": "code",
   "execution_count": 37,
   "metadata": {},
   "outputs": [
    {
     "name": "stdout",
     "output_type": "stream",
     "text": [
      "Explained variance for  Training  is :  0.6825706164042155\n",
      "Explained variance for  Validation  is :  0.0004918575286865234\n",
      "Explained variance for  Test  is :  0.07327441374460857\n"
     ]
    }
   ],
   "source": [
    "for index, [x,y] in enumerate(data_base):\n",
    "    ev = calc_explained_variance(x, y, model, W_base)\n",
    "    print('Explained variance for ', subsets[index], ' is : ', ev)\n"
   ]
  },
  {
   "cell_type": "code",
   "execution_count": 38,
   "metadata": {},
   "outputs": [
    {
     "name": "stdout",
     "output_type": "stream",
     "text": [
      "Explained variance for  Training  is :  0.8511363863945007\n",
      "Explained variance for  Validation  is :  0.28763697544733685\n",
      "Explained variance for  Test  is :  -0.01443171501159668\n"
     ]
    }
   ],
   "source": [
    "for index, [x,y] in enumerate(data_stim):\n",
    "    ev = calc_explained_variance(x, y, model, W_stim)\n",
    "    print('Explained variance for ', subsets[index], ' is : ', ev)"
   ]
  },
  {
   "cell_type": "markdown",
   "metadata": {},
   "source": [
    "## Trying hypernetworks in chunks"
   ]
  },
  {
   "cell_type": "markdown",
   "metadata": {},
   "source": [
    "This tutorial shows how to utilize a StructuredHMLP (a certain kind of hypernetwork that allows smart chunking) in combination with a ResNet."
   ]
  },
  {
   "cell_type": "code",
   "execution_count": 42,
   "metadata": {},
   "outputs": [],
   "source": [
    "from hypnettorch.hnets.chunked_mlp_hnet import ChunkedHMLP"
   ]
  },
  {
   "cell_type": "code",
   "execution_count": 43,
   "metadata": {},
   "outputs": [
    {
     "name": "stdout",
     "output_type": "stream",
     "text": [
      "Creating a simple RNN with 12223 weights.\n"
     ]
    }
   ],
   "source": [
    "net = SimpleRNN(n_in=num_features, rnn_layers=(hidden_units,), \n",
    "                  fc_layers_pre=(input_rec,), fc_layers=(num_dim_output,),\n",
    "                use_lstm = True, no_weights = True).to(device) "
   ]
  },
  {
   "cell_type": "code",
   "execution_count": 44,
   "metadata": {},
   "outputs": [],
   "source": [
    "chunk_size = 1000\n",
    "num_tasks = 2"
   ]
  },
  {
   "cell_type": "code",
   "execution_count": 45,
   "metadata": {},
   "outputs": [
    {
     "name": "stdout",
     "output_type": "stream",
     "text": [
      "Created Chunked MLP Hypernet with 13 chunk(s) of size 1000.\n",
      "Hypernetwork with 113024 weights and 12223 outputs (compression ratio: 9.25).\n",
      "The network consists of 112800 unconditional weights (112800 internally maintained) and 224 conditional weights (224 internally maintained).\n"
     ]
    }
   ],
   "source": [
    "hnet = ChunkedHMLP(net.param_shapes, chunk_size = chunk_size, chunk_emb_size=8, \n",
    "cond_chunk_embs=True, uncond_in_size=0, cond_in_size=8, layers=(100, 100), \n",
    " num_cond_embs=num_tasks).to(device) "
   ]
  },
  {
   "cell_type": "code",
   "execution_count": 46,
   "metadata": {},
   "outputs": [
    {
     "name": "stdout",
     "output_type": "stream",
     "text": [
      "Initializing hypernet with Chunked Hyperfan Init ...\n"
     ]
    },
    {
     "name": "stderr",
     "output_type": "stream",
     "text": [
      "/home/nerea/anaconda3/envs/sinthlab/lib/python3.8/site-packages/hypnettorch/hnets/chunked_mlp_hnet.py:793: UserWarning: Note, hypernetwork inputs should have an initial total variance (std) smaller than 0.031496 (0.177471) in order for this method to work properly.\n",
      "  warn('Note, hypernetwork inputs should have an initial total ' +\n",
      "/home/nerea/anaconda3/envs/sinthlab/lib/python3.8/site-packages/hypnettorch/hnets/chunked_mlp_hnet.py:812: UserWarning: Initial variance of 13/13 chunk embeddings had to be clipped.\n",
      "  warn('Initial variance of %d/%d ' % (n_clipped, len(chunk_vars)) + \\\n"
     ]
    },
    {
     "name": "stdout",
     "output_type": "stream",
     "text": [
      "Epoch 000 Train 3.4500 Val 2.3385\n",
      "Epoch 001 Train 1.3912 Val 1.2341\n",
      "Epoch 002 Train 0.8714 Val 0.8875\n",
      "Epoch 003 Train 0.6400 Val 0.6649\n",
      "Epoch 004 Train 0.4995 Val 0.5499\n",
      "Epoch 005 Train 0.4056 Val 0.4608\n",
      "Epoch 006 Train 0.3336 Val 0.4068\n",
      "Epoch 007 Train 0.2737 Val 0.3289\n",
      "Epoch 008 Train 0.2367 Val 0.2942\n",
      "Epoch 009 Train 0.2067 Val 0.2686\n",
      "Epoch 010 Train 0.1829 Val 0.2579\n",
      "Epoch 011 Train 0.1630 Val 0.2304\n",
      "Epoch 012 Train 0.1453 Val 0.2136\n",
      "Epoch 013 Train 0.1328 Val 0.2095\n",
      "Epoch 014 Train 0.1235 Val 0.1886\n",
      "Epoch 015 Train 0.1134 Val 0.1816\n",
      "Epoch 016 Train 0.1035 Val 0.1745\n",
      "Epoch 017 Train 0.0965 Val 0.1698\n",
      "Epoch 018 Train 0.0908 Val 0.1594\n"
     ]
    }
   ],
   "source": [
    "train_losses, val_losses, W_base, W_stim = train_hypernet(\n",
    "        net, hnet, y_train_base, x_train_base,\n",
    "                y_train_stim,  x_train_stim,\n",
    "                y_val_base,  x_val_base,\n",
    "                y_val_stim,    x_val_stim,\n",
    "                lr=0.0001,\n",
    "                lr_step_size=10,\n",
    "                lr_gamma=0.9,\n",
    "                sequence_length_LSTM= seq_length_LSTM,\n",
    "                batch_size_train = batch_size_train,\n",
    "                batch_size_val = batch_size_val,\n",
    "                num_epochs=1000, \n",
    "                regularizer = reg_hnet_noweights, \n",
    "                l1_ratio = 0.5,\n",
    "                alpha = 1e-5, \n",
    "                chunks = True  )"
   ]
  },
  {
   "cell_type": "code",
   "execution_count": null,
   "metadata": {},
   "outputs": [
    {
     "data": {
      "image/png": "[encoded data removed]",
      "text/plain": [
       "<Figure size 1000x600 with 1 Axes>"
      ]
     },
     "metadata": {},
     "output_type": "display_data"
    }
   ],
   "source": [
    "# Assuming you have already trained your model and collected the losses\n",
    "# train_losses and val_losses are numpy arrays containing losses for each epoch\n",
    "plot_losses(train_losses, val_losses)"
   ]
  },
  {
   "cell_type": "code",
   "execution_count": null,
   "metadata": {},
   "outputs": [],
   "source": [
    "subsets = ['Training', 'Validation', 'Test']\n",
    "\n",
    "data_base = [[x_train_base, y_train_base],\n",
    "             [x_val_base, y_val_base],\n",
    "             [x_test_base, y_test_base]]\n",
    "\n",
    "data_stim = [[x_train_stim, y_train_stim],\n",
    "             [x_val_stim, y_val_stim],\n",
    "             [x_test_stim, y_test_stim]]"
   ]
  },
  {
   "cell_type": "code",
   "execution_count": null,
   "metadata": {},
   "outputs": [
    {
     "name": "stdout",
     "output_type": "stream",
     "text": [
      "Explained variance for  Training  is :  0.17558735609054565\n",
      "Explained variance for  Validation  is :  -0.14110889037450156\n",
      "Explained variance for  Test  is :  -0.38413816690444946\n"
     ]
    }
   ],
   "source": [
    "for index, [x,y] in enumerate(data_base):\n",
    "    ev = calc_explained_variance(x, y, net, W_base)\n",
    "    print('Explained variance for ', subsets[index], ' is : ', ev)\n"
   ]
  },
  {
   "cell_type": "code",
   "execution_count": null,
   "metadata": {},
   "outputs": [
    {
     "name": "stdout",
     "output_type": "stream",
     "text": [
      "Explained variance for  Training  is :  -0.33978013197580975\n",
      "Explained variance for  Validation  is :  -0.6490999857584635\n",
      "Explained variance for  Test  is :  -0.8422528902689616\n"
     ]
    }
   ],
   "source": [
    "for index, [x,y] in enumerate(data_stim):\n",
    "    ev = calc_explained_variance(x, y, net, W_stim)\n",
    "    print('Explained variance for ', subsets[index], ' is : ', ev)"
   ]
  },
  {
   "cell_type": "code",
   "execution_count": null,
   "metadata": {},
   "outputs": [],
   "source": []
  },
  {
   "cell_type": "code",
   "execution_count": null,
   "metadata": {},
   "outputs": [],
   "source": []
  }
 ],
 "metadata": {
  "kernelspec": {
   "display_name": "sinthlab",
   "language": "python",
   "name": "python3"
  },
  "language_info": {
   "codemirror_mode": {
    "name": "ipython",
    "version": 3
   },
   "file_extension": ".py",
   "mimetype": "text/x-python",
   "name": "python",
   "nbconvert_exporter": "python",
   "pygments_lexer": "ipython3",
   "version": "3.8.19"
  }
 },
 "nbformat": 4,
 "nbformat_minor": 2
}
