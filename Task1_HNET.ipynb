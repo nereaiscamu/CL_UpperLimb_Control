{
 "cells": [
  {
   "cell_type": "code",
   "execution_count": 9,
   "metadata": {},
   "outputs": [],
   "source": [
    "import pandas as pd\n",
    "import numpy as np\n",
    "import xarray as xr\n",
    "\n",
    "import os\n",
    "from tqdm.auto import tqdm\n",
    "\n",
    "import matplotlib.pyplot as plt\n",
    "import seaborn as sns\n",
    "\n",
    "from src.helpers import *\n",
    "from src.visualize import *\n",
    "from src.trainer import *\n",
    "from Models.models import *\n",
    "\n",
    "import torch\n",
    "import torch.nn as nn\n",
    "import torch.nn.functional as F\n",
    "import torch.optim as optim\n",
    "from torch.optim import lr_scheduler\n",
    "from sklearn.metrics import *\n",
    "from copy import deepcopy\n",
    "import torch.utils.data as data\n",
    "from torch.utils.data import Dataset\n",
    "\n",
    "import pickle\n",
    "import math"
   ]
  },
  {
   "cell_type": "code",
   "execution_count": 10,
   "metadata": {},
   "outputs": [],
   "source": [
    "#@title Helper functions for plotting (run this cell!)\n",
    "sns.set_context(\"notebook\")\n",
    "\n",
    "# initialize a color palette for plotting\n",
    "palette = sns.xkcd_palette([\"windows blue\",\n",
    "                            \"red\",\n",
    "                            \"medium green\",\n",
    "                            \"dusty purple\",\n",
    "                            \"orange\",\n",
    "                            \"amber\",\n",
    "                            \"clay\",\n",
    "                            \"pink\",\n",
    "                            \"greyish\"])"
   ]
  },
  {
   "cell_type": "markdown",
   "metadata": {},
   "source": [
    "## Load data"
   ]
  },
  {
   "cell_type": "code",
   "execution_count": 11,
   "metadata": {},
   "outputs": [],
   "source": [
    "data_path = './Data/Processed_Data/Tidy_Sansa_13_04.pkl'\n",
    "\n",
    "with open(data_path, 'rb') as file:\n",
    "    df = pickle.load(file)"
   ]
  },
  {
   "cell_type": "code",
   "execution_count": 12,
   "metadata": {},
   "outputs": [],
   "source": [
    "baseline_df = df.loc[df.type == 'BASELINE'].reset_index()"
   ]
  },
  {
   "cell_type": "code",
   "execution_count": 13,
   "metadata": {},
   "outputs": [],
   "source": [
    "stim_df = df.loc[df.type == 'TONIC'].reset_index()"
   ]
  },
  {
   "cell_type": "code",
   "execution_count": 14,
   "metadata": {},
   "outputs": [
    {
     "name": "stdout",
     "output_type": "stream",
     "text": [
      "Test trials  4\n",
      "Val trials 3\n"
     ]
    }
   ],
   "source": [
    "X_train, y_train, X_val, y_val, X_test, y_test, info_train, info_val, info_test = train_test_split(baseline_df, train_variable = 'both_rates', \n",
    "                                                                                                   target_variable = 'target_pos', num_folds = 5)"
   ]
  },
  {
   "cell_type": "code",
   "execution_count": 15,
   "metadata": {},
   "outputs": [
    {
     "name": "stdout",
     "output_type": "stream",
     "text": [
      "We are testing the optimization method on fold  0\n"
     ]
    },
    {
     "data": {
      "text/plain": [
       "<torch._C.Generator at 0x1fe26b12f10>"
      ]
     },
     "execution_count": 15,
     "metadata": {},
     "output_type": "execute_result"
    }
   ],
   "source": [
    "# Test one of the folds first\n",
    "fold_num = 'fold0'\n",
    "fold = 0\n",
    "\n",
    "print('We are testing the optimization method on fold ', fold)\n",
    "\n",
    "\n",
    "X_train = X_train[fold_num]\n",
    "X_val = X_val[fold_num]\n",
    "X_test = X_test[fold_num]\n",
    "y_test = y_test[fold_num]\n",
    "y_train = y_train[fold_num]\n",
    "y_val = y_val[fold_num]\n",
    "\n",
    "\n",
    "# Specify that we want our tensors on the GPU and in float32\n",
    "device = torch.device('cpu') #suposed to be cuda\n",
    "dtype = torch.float32\n",
    "path_to_models = './Models'\n",
    "\n",
    "num_dim_output = y_train.shape[1]\n",
    "num_features = X_train.shape[1]\n",
    "\n",
    "seq_length = 75\n",
    "\n",
    "# Reshape x_train to match the number of columns in the model's input layer\n",
    "xx_train = X_train.reshape(X_train.shape[0] // seq_length, seq_length, X_train.shape[1])  \n",
    "# Reshape y_train to match the number of neurons in the model's output layer\n",
    "yy_train = y_train.reshape(y_train.shape[0] // seq_length, seq_length, y_train.shape[1])  \n",
    "\n",
    "xx_val = X_val.reshape(X_val.shape[0] // seq_length, seq_length, X_val.shape[1])  \n",
    "yy_val = y_val.reshape(y_val.shape[0] // seq_length, seq_length, y_val.shape[1])  \n",
    "\n",
    "xx_test = X_test.reshape(X_test.shape[0] // seq_length, seq_length, X_test.shape[1])  \n",
    "yy_test = y_test.reshape(y_test.shape[0] // seq_length, seq_length, y_test.shape[1])  \n",
    "\n",
    "seed = 42\n",
    "torch.manual_seed(seed)"
   ]
  },
  {
   "cell_type": "code",
   "execution_count": 16,
   "metadata": {},
   "outputs": [],
   "source": [
    "# Define hyperparameters\n",
    "\n",
    "#Hyperparameters objective and regularization\n",
    "alpha_reg = 1.21e-6\n",
    "l1_ratio_reg = 0.394\n",
    "\n",
    "lr = 0.00193\n",
    "loss_function = huber_loss\n",
    "delta = 8  # hyperparameter for huber loss\n",
    "\n",
    "# Hyperparameters LSTM class\n",
    "hidden_units = 10\n",
    "num_layers = 1\n",
    "#input_size = 31 Not for now, only if I need a linear layer before the RNN\n",
    "\n",
    "#Other training hyperparameters\n",
    "lr_gamma= 1.437 #for scheduler\n",
    "lr_step_size = 10 #for scheduler\n",
    "\n",
    "seq_length_LSTM= 10\n",
    "batch_size_train= 25\n",
    "batch_size_val = 25\n",
    "\n",
    "Reg = globals().get(Regularizer_RNN)"
   ]
  },
  {
   "cell_type": "markdown",
   "metadata": {},
   "source": [
    "**RNN Parameters**\n",
    "\n",
    "input_size – The number of expected features in the input x\n",
    "\n",
    "hidden_size – The number of features in the hidden state h\n",
    "\n",
    "num_layers – Number of recurrent layers. E.g., setting num_layers=2 would mean stacking two RNNs together to form a stacked RNN, with the second RNN taking in outputs of the first RNN and computing the final results. Default: 1\n",
    "\n",
    "nonlinearity – The non-linearity to use. Can be either 'tanh' or 'relu'. Default: 'tanh'\n",
    "\n",
    "bias – If False, then the layer does not use bias weights b_ih and b_hh. Default: True\n",
    "\n",
    "batch_first – If True, then the input and output tensors are provided as (batch, seq, feature) instead of (seq, batch, feature). Note that this does not apply to hidden or cell states. See the Inputs/Outputs sections below for details. Default: False\n",
    "\n",
    "dropout – If non-zero, introduces a Dropout layer on the outputs of each RNN layer except the last layer, with dropout probability equal to dropout. Default: 0\n",
    "\n",
    "bidirectional – If True, becomes a bidirectional RNN. Default: False"
   ]
  },
  {
   "cell_type": "code",
   "execution_count": 17,
   "metadata": {},
   "outputs": [],
   "source": [
    "#model = CausalRNN(input_size= num_features, hidden_size = hidden_units, num_layers= num_layers, output_dim=num_dim_output, dropout= 0.3)"
   ]
  },
  {
   "cell_type": "code",
   "execution_count": 20,
   "metadata": {},
   "outputs": [
    {
     "name": "stdout",
     "output_type": "stream",
     "text": [
      "Creating a simple RNN with 7233 weights.\n"
     ]
    }
   ],
   "source": [
    "from hypnettorch.mnets import SimpleRNN\n",
    "\n",
    "hidden_units = 10\n",
    "input_rec = 40\n",
    "seq_length_LSTM = 10\n",
    "\n",
    "model = SimpleRNN(n_in=num_features, rnn_layers=(hidden_units,), \n",
    "                  fc_layers_pre=(input_rec,), fc_layers=(num_dim_output,),\n",
    "                use_lstm = True, no_weights = False).to(device) \n",
    "#Here we use no_weights = False to try to train the model only on baseline data"
   ]
  },
  {
   "cell_type": "code",
   "execution_count": 21,
   "metadata": {},
   "outputs": [
    {
     "name": "stdout",
     "output_type": "stream",
     "text": [
      "Epoch 000 Train 0.1202 Val 0.0535\n",
      "Epoch 001 Train 0.0164 Val 0.0259\n",
      "Epoch 002 Train 0.0092 Val 0.0254\n",
      "Epoch 003 Train 0.0068 Val 0.0236\n",
      "Epoch 004 Train 0.0048 Val 0.0265\n",
      "Epoch 005 Train 0.0038 Val 0.0242\n",
      "Epoch 006 Train 0.0030 Val 0.0251\n",
      "Epoch 007 Train 0.0023 Val 0.0242\n",
      "Epoch 008 Train 0.0019 Val 0.0239\n",
      "Epoch 009 Train 0.0018 Val 0.0248\n",
      "Epoch 010 Train 0.0015 Val 0.0250\n",
      "Epoch 011 Train 0.0012 Val 0.0236\n",
      "Epoch 012 Train 0.0011 Val 0.0232\n",
      "Epoch 013 Train 0.0009 Val 0.0235\n",
      "Epoch 014 Train 0.0008 Val 0.0247\n",
      "Epoch 015 Train 0.0007 Val 0.0222\n",
      "Epoch 016 Train 0.0006 Val 0.0222\n",
      "Epoch 017 Train 0.0005 Val 0.0240\n",
      "Epoch 018 Train 0.0005 Val 0.0231\n",
      "Epoch 019 Train 0.0005 Val 0.0240\n",
      "Decrease LR\n",
      "Epoch 020 Train 0.0005 Val 0.0238\n",
      "Epoch 021 Train 0.0003 Val 0.0225\n",
      "Epoch 022 Train 0.0003 Val 0.0227\n",
      "Epoch 023 Train 0.0003 Val 0.0231\n",
      "Epoch 024 Train 0.0003 Val 0.0223\n",
      "Epoch 025 Train 0.0003 Val 0.0222\n",
      "Epoch 026 Train 0.0003 Val 0.0225\n",
      "Epoch 027 Train 0.0002 Val 0.0245\n",
      "Epoch 028 Train 0.0002 Val 0.0232\n",
      "Epoch 029 Train 0.0002 Val 0.0234\n",
      "Decrease LR\n"
     ]
    }
   ],
   "source": [
    "train_losses, val_losses = \\\n",
    "    train_model(model, xx_train,yy_train,\n",
    "                xx_val, \n",
    "                yy_val,\n",
    "                lr= lr,\n",
    "                lr_step_size=lr_step_size,\n",
    "                lr_gamma= lr_gamma,\n",
    "                sequence_length_LSTM=seq_length_LSTM,\n",
    "                batch_size_train = batch_size_train,\n",
    "                batch_size_val = batch_size_val,\n",
    "                num_epochs=1000, \n",
    "                delta = 8,                 \n",
    "                regularizer=Reg,\n",
    "                l1_ratio = 0.5,\n",
    "                alpha = 1e-5,     \n",
    "                early_stop = 5,\n",
    "                \n",
    "                )"
   ]
  },
  {
   "cell_type": "code",
   "execution_count": 22,
   "metadata": {},
   "outputs": [
    {
     "data": {
      "image/png": "[encoded data removed]",
      "text/plain": [
       "<Figure size 1000x600 with 1 Axes>"
      ]
     },
     "metadata": {},
     "output_type": "display_data"
    }
   ],
   "source": [
    "# Assuming you have already trained your model and collected the losses\n",
    "# train_losses and val_losses are numpy arrays containing losses for each epoch\n",
    "plot_losses(train_losses, val_losses)"
   ]
  },
  {
   "cell_type": "code",
   "execution_count": 23,
   "metadata": {},
   "outputs": [
    {
     "name": "stdout",
     "output_type": "stream",
     "text": [
      "Train EV: 0.97 \n",
      "Val EV: 0.43 \n",
      "Test EV: 0.41 \n"
     ]
    }
   ],
   "source": [
    "y_hat, y_true, train_score, v_score, test_score = eval_model(xx_train, yy_train, xx_val, yy_val, xx_test, yy_test, model, metric = 'ev')"
   ]
  },
  {
   "cell_type": "markdown",
   "metadata": {},
   "source": [
    "## CL with Hypernetworks\n",
    "\n",
    "Tutorial on the use of the hypnettorch package: https://github.com/chrhenning/hypnettorch/blob/master/hypnettorch/tutorials/getting_started.ipynb\n",
    "\n",
    "\n",
    "From hypnettorch, we have:\n",
    "\n",
    "- `SimpleRNN:` model which works as main networks and which has already the option or passing weights generated by other network in the forward loop.\n",
    "    \n",
    "- `HMLP:` A variety of hypernetworks is available in subpackage hypnettorch.hnets. The simplest being a fully-connected hypernetwork, see class hypnettorch.hnets.HMLP. Such simplistic hypernetwork is huge, as its parameter count is quadratic in the number of parameters of the corresponding main network. Therefore, several more sophisticated hypernetwork options are available, which are just as simple to use (most notably, hypnettorch.hnets.ChunkedHMLP). However, to keep this tutorial light, we don't discuss these options here."
   ]
  },
  {
   "cell_type": "code",
   "execution_count": 24,
   "metadata": {},
   "outputs": [],
   "source": [
    "from IPython.display import display, Markdown, Latex"
   ]
  },
  {
   "cell_type": "code",
   "execution_count": 25,
   "metadata": {},
   "outputs": [
    {
     "name": "stdout",
     "output_type": "stream",
     "text": [
      "Creating a simple RNN with 7233 weights.\n"
     ]
    }
   ],
   "source": [
    "from hypnettorch.mnets import SimpleRNN\n",
    "\n",
    "hidden_units = 10\n",
    "input_rec = 40\n",
    "seq_length_LSTM = 10\n",
    "\n",
    "\n",
    "model = SimpleRNN(n_in=num_features, rnn_layers=(hidden_units,), \n",
    "                  fc_layers_pre=(input_rec,), fc_layers=(num_dim_output,),\n",
    "                use_lstm = True, no_weights = True).to(device) \n",
    "# Here no_weight set to true for the model to take the weights generated with the hypernetwork"
   ]
  },
  {
   "cell_type": "markdown",
   "metadata": {},
   "source": [
    "Hypernetworks usually distinguish between two types of inputs: *conditional* and *unconditional* inputs. Conditional inputs are simply inputs that can be related to a finite and discrete set of conditions, such as the [task identity in continual learning](https://arxiv.org/abs/1906.00695). Simply speaking, conditional inputs can be used if the number $N$ of conditions is known a priori. In this case, the hypernetwork will create a set of $N$ learnable condition vectors (e.g., task embeddings), and can take the condition ID (as integer) as input to the ``forward`` method. This simplifies many usage scenarios, as the user of a hypernetwork does not have to maintain learnable input embeddings to the hypernetwork by himself. In all other cases (like the input to the hypernetwork comes from a continuous vector space), *unconditional* inputs should be used.\n",
    "\n",
    "In our case, the hypernetwork should either generate a set of weights for MNIST (condition $0$) or FashionMNIST (condition $1$). Each of these conditions should internally be represented by a $8$-dimensional embedding vector."
   ]
  },
  {
   "cell_type": "code",
   "execution_count": 26,
   "metadata": {},
   "outputs": [
    {
     "name": "stdout",
     "output_type": "stream",
     "text": [
      "Created MLP Hypernet.\n",
      "Hypernetwork with 741549 weights and 7233 outputs (compression ratio: 102.52).\n",
      "The network consists of 741533 unconditional weights (741533 internally maintained) and 16 conditional weights (16 internally maintained).\n",
      "\n",
      "The randomly initialized input embeddings are:\n",
      " [Parameter containing:\n",
      "tensor([-0.2555, -0.3931, -0.0197,  0.3334,  1.0714, -0.1550,  1.1387, -0.9372],\n",
      "       requires_grad=True), Parameter containing:\n",
      "tensor([-0.9347,  1.1392, -0.1987,  0.8351,  0.7114,  0.2786,  0.0763,  1.0908],\n",
      "       requires_grad=True)]\n"
     ]
    }
   ],
   "source": [
    "from hypnettorch.hnets import HMLP\n",
    "\n",
    "num_conditions = 2\n",
    "size_task_embedding = 8\n",
    "\n",
    "hnet = HMLP(model.param_shapes, uncond_in_size=0,\n",
    "             cond_in_size=size_task_embedding,\n",
    "            layers=[100, 100], \n",
    "            num_cond_embs=num_conditions).to(device)\n",
    "\n",
    "print()\n",
    "print('The randomly initialized input embeddings are:\\n', \n",
    "      hnet.conditional_params)"
   ]
  },
  {
   "cell_type": "markdown",
   "metadata": {},
   "source": [
    "**Hypernetwork initialization** \n",
    "can be an important factor, for instance, [when using optimizers such as SGD](https://openreview.net/forum?id=H1lma24tPB). \n",
    "\n",
    "Therefore, some hypernet implementations provide custom initialization functions."
   ]
  },
  {
   "cell_type": "code",
   "execution_count": 27,
   "metadata": {},
   "outputs": [],
   "source": [
    "hnet.apply_hyperfan_init(mnet=model)"
   ]
  },
  {
   "cell_type": "markdown",
   "metadata": {},
   "source": [
    "**Making predictions** with the target network is fairly easy. Simply generate the corresponding weights with the hypernetwork and pass them to the ``forward`` method of the main network together with the network inputs. "
   ]
  },
  {
   "cell_type": "code",
   "execution_count": 28,
   "metadata": {},
   "outputs": [],
   "source": [
    "from torch.utils.data import Dataset"
   ]
  },
  {
   "cell_type": "code",
   "execution_count": 29,
   "metadata": {},
   "outputs": [
    {
     "name": "stdout",
     "output_type": "stream",
     "text": [
      "Test trials  4\n",
      "Val trials 3\n"
     ]
    }
   ],
   "source": [
    "X_train_b, y_train_b, X_val_b, y_val_b, X_test_b, y_test_b, info_train_b, info_val_b, info_test_b = train_test_split(baseline_df, train_variable = 'both_rates', \n",
    "                                                                                                   target_variable = 'target_pos', num_folds = 5)"
   ]
  },
  {
   "cell_type": "code",
   "execution_count": 30,
   "metadata": {},
   "outputs": [
    {
     "name": "stdout",
     "output_type": "stream",
     "text": [
      "Test trials  8\n",
      "Val trials 7\n"
     ]
    }
   ],
   "source": [
    "X_train_s, y_train_s, X_val_s, y_val_s, X_test_s, y_test_s, info_train_s, info_val_s, info_test_s = train_test_split(stim_df, train_variable = 'both_rates', \n",
    "                                                                                                   target_variable = 'target_pos', num_folds = 5)"
   ]
  },
  {
   "cell_type": "code",
   "execution_count": 32,
   "metadata": {},
   "outputs": [
    {
     "name": "stdout",
     "output_type": "stream",
     "text": [
      "We are testing the optimization method on fold  0\n"
     ]
    },
    {
     "data": {
      "text/plain": [
       "<torch._C.Generator at 0x1fe26b12f10>"
      ]
     },
     "execution_count": 32,
     "metadata": {},
     "output_type": "execute_result"
    }
   ],
   "source": [
    "# Test one of the folds first\n",
    "fold_num = 'fold0'\n",
    "fold = 0\n",
    "\n",
    "print('We are testing the optimization method on fold ', fold)\n",
    "\n",
    "def input_mats(x,y, seq_length = 75):\n",
    "    x = x[fold_num]\n",
    "    y = y[fold_num]\n",
    "    x = x.reshape(x.shape[0] // seq_length, seq_length, x.shape[1])  \n",
    "    y = y.reshape(y.shape[0] // seq_length, seq_length, y.shape[1])  \n",
    "    return x,y\n",
    "\n",
    "x_train_base, y_train_base = input_mats(X_train_b, y_train_b)\n",
    "x_train_stim, y_train_stim = input_mats(X_train_s, y_train_s)\n",
    "\n",
    "x_val_base, y_val_base = input_mats(X_val_b, y_val_b)\n",
    "x_val_stim, y_val_stim = input_mats(X_val_s, y_val_s)\n",
    "\n",
    "seed = 42\n",
    "torch.manual_seed(seed)"
   ]
  },
  {
   "cell_type": "code",
   "execution_count": 33,
   "metadata": {},
   "outputs": [],
   "source": [
    "num_epochs = 50"
   ]
  },
  {
   "cell_type": "code",
   "execution_count": 38,
   "metadata": {},
   "outputs": [],
   "source": [
    "def train_hypernet(model, hnet,y_train_base, x_train_base,\n",
    "                y_train_stim,  x_train_stim,\n",
    "                y_val_base,  x_val_base,\n",
    "                y_val_stim,    x_val_stim,\n",
    "                lr=0.0001,\n",
    "                lr_step_size=10,\n",
    "                lr_gamma=0.9,\n",
    "                sequence_length_LSTM=10,\n",
    "                batch_size_train = 3,\n",
    "                batch_size_val = 3,\n",
    "                num_epochs=1000, \n",
    "                delta = 8,                 \n",
    "                regularizer=None,\n",
    "                l1_ratio = 0.5,\n",
    "                alpha = 1e-5,     \n",
    "                early_stop = 5,\n",
    "                \n",
    "                ):\n",
    "\n",
    "    # Initialize the hypernetwork\n",
    "    hnet.apply_hyperfan_init(mnet=model)\n",
    "\n",
    "    # Set up the optimizer with the specified learning rate\n",
    "    optimizer = torch.optim.Adam(hnet.internal_params, lr=lr)\n",
    "\n",
    "    # Set up a learning rate scheduler\n",
    "    scheduler = lr_scheduler.StepLR(optimizer, \n",
    "                                    step_size=lr_step_size, \n",
    "                                    gamma=lr_gamma)\n",
    "    \n",
    "    \n",
    "        \n",
    "    # Keep track of the best model's parameters and loss\n",
    "    best_model_wts = deepcopy(model.state_dict())\n",
    "    best_loss = 1e8\n",
    "\n",
    "    # Enable anomaly detection for debugging\n",
    "    torch.autograd.set_detect_anomaly(True)\n",
    "\n",
    "    # Track the train and validation loss\n",
    "    train_losses = []\n",
    "    val_losses = []\n",
    "    # Counters for early stopping\n",
    "    not_increased = 0\n",
    "    end_train = 0\n",
    "    \n",
    "    # Reshape data for the LSTM\n",
    "    train_dataset_baseline = SequenceDataset(\n",
    "    y_train_base,    x_train_base,    sequence_length=sequence_length_LSTM)\n",
    "\n",
    "    train_dataset_stim = SequenceDataset(\n",
    "    y_train_stim,    x_train_stim,    sequence_length=sequence_length_LSTM)\n",
    "\n",
    "    val_dataset_baseline = SequenceDataset(\n",
    "    y_val_base,    x_val_base,    sequence_length=sequence_length_LSTM)\n",
    "\n",
    "    val_dataset_stim = SequenceDataset(\n",
    "    y_val_stim,    x_val_stim,    sequence_length=sequence_length_LSTM)\n",
    "\n",
    "    loader_train_b = data.DataLoader(train_dataset_baseline, batch_size=batch_size_train, shuffle=True)\n",
    "    loader_train_s = data.DataLoader(train_dataset_stim, batch_size=batch_size_train, shuffle=True)\n",
    "\n",
    "    loader_val_b = data.DataLoader(val_dataset_baseline, batch_size=batch_size_val, shuffle=True)\n",
    "    loader_val_s = data.DataLoader(val_dataset_stim, batch_size=batch_size_val, shuffle=True)\n",
    "\n",
    "    \n",
    "\n",
    "\n",
    "    # Loop through epochs\n",
    "    for epoch in np.arange(num_epochs):\n",
    "        for phase in ['train', 'val']:\n",
    "            # set model to train/validation as appropriate\n",
    "            if phase == 'train':\n",
    "                model.train()\n",
    "                loaders = zip(loader_train_b, loader_train_s)\n",
    "            else:\n",
    "                model.eval()\n",
    "                loaders = zip(loader_val_b, loader_val_s)\n",
    "\n",
    "            # Initialize variables to track loss and batch size\n",
    "            running_loss = 0\n",
    "            running_size = 0        \n",
    "\n",
    "            # Iterate over batches in the loader\n",
    "            for data_b, data_s in loaders:\n",
    "\n",
    "                # Define data for this batch\n",
    "                x_b = data_b[0]\n",
    "                y_b = data_b[1]\n",
    "                x_s = data_s[0]\n",
    "                y_s = data_s[1]\n",
    "\n",
    "                \n",
    "                if phase == \"train\":\n",
    "                    with torch.set_grad_enabled(True):\n",
    "                        optimizer.zero_grad()\n",
    "\n",
    "                        # Compute BASELINE loss.\n",
    "                        W_base = hnet(cond_id=0)\n",
    "                        base_P = model.forward(x_b, weights=W_base)\n",
    "                        base_P = torch.squeeze(base_P) # torch.sigmoid(base_P))\n",
    "                        loss_base = huber_loss(base_P, y_b, delta = delta)\n",
    "   \n",
    "                        \n",
    "                        # Compute STIMULATION loss.\n",
    "                        W_stim = hnet(cond_id=1)\n",
    "                        stim_P = model.forward(x_s, weights=W_stim)\n",
    "                        stim_P = torch.squeeze(stim_P) #torch.sigmoid(stim_P))\n",
    "                        loss_stim = huber_loss(stim_P, y_s, delta = delta)\n",
    "\n",
    "\n",
    "                        # Combine loss for 2 tasks\n",
    "                        loss_t = loss_base + loss_stim\n",
    "                        \n",
    "                        # Add regularization to the loss in the training phase\n",
    "                        \"\"\" if regularizer is not None:\n",
    "                            loss_t += regularizer(model, l1_ratio, alpha) \"\"\"\n",
    "                        # Compute gradients and perform an optimization step\n",
    "                        loss_t.backward()\n",
    "                        optimizer.step()\n",
    "                else:\n",
    "                    # just compute the loss in validation phase\n",
    "                    W_base = hnet(cond_id=0)\n",
    "                    base_P = model.forward(x_b, weights=W_base)\n",
    "                    base_P = torch.squeeze(base_P) #torch.sigmoid(base_P))\n",
    "                    loss_base = huber_loss(base_P, y_b, delta = delta)\n",
    "\n",
    "                    W_stim = hnet(cond_id=1)\n",
    "                    stim_P = model.forward(x_s, weights=W_stim)\n",
    "                    stim_P = torch.squeeze(stim_P) #torch.sigmoid(stim_P))\n",
    "                    loss_stim = huber_loss(stim_P, y_s, delta = delta)\n",
    "\n",
    "                    loss_t = loss_base + loss_stim\n",
    "\n",
    "                # Ensure the loss is finite\n",
    "                assert torch.isfinite(loss_t)\n",
    "                running_loss += loss_t.item()\n",
    "                running_size += 1\n",
    "\n",
    "            # compute the train/validation loss and update the best\n",
    "            # model parameters if this is the lowest validation loss yet\n",
    "            running_loss /= running_size\n",
    "            if phase == \"train\":\n",
    "                train_losses.append(running_loss)\n",
    "            else:\n",
    "                val_losses.append(running_loss)\n",
    "                # Update best model parameters if validation loss improves\n",
    "                if running_loss < best_loss:\n",
    "                    best_loss = running_loss\n",
    "                    best_model_wts = deepcopy(model.state_dict())\n",
    "                    not_increased = 0\n",
    "                else:\n",
    "                    # Perform early stopping if validation loss doesn't improve\n",
    "                    if epoch > 10:\n",
    "                        not_increased += 1\n",
    "                        # print('Not increased : {}/5'.format(not_increased))\n",
    "                        if not_increased == early_stop:\n",
    "                            print('Decrease LR')\n",
    "                            for g in optimizer.param_groups:\n",
    "                                g['lr'] = g['lr'] / 2\n",
    "                            not_increased = 0\n",
    "                            end_train += 1\n",
    "                        \n",
    "                        if end_train == 2:\n",
    "                            model.load_state_dict(best_model_wts)\n",
    "                            return np.array(train_losses), np.array(val_losses)\n",
    "\n",
    "        # Update learning rate with the scheduler\n",
    "        scheduler.step()\n",
    "        print(\"Epoch {:03} Train {:.4f} Val {:.4f}\".format(epoch, train_losses[-1], val_losses[-1]))\n",
    "\n",
    "    # load best model weights\n",
    "    model.load_state_dict(best_model_wts)\n",
    "\n",
    "    return np.array(train_losses), np.array(val_losses)"
   ]
  },
  {
   "cell_type": "code",
   "execution_count": 39,
   "metadata": {},
   "outputs": [
    {
     "name": "stdout",
     "output_type": "stream",
     "text": [
      "Epoch 000 Train 0.0921 Val 0.0502\n",
      "Epoch 001 Train 0.0056 Val 0.0470\n",
      "Epoch 002 Train 0.0024 Val 0.0444\n"
     ]
    }
   ],
   "source": [
    "train_losses, val_losses = train_hypernet(model, hnet, y_train_base, x_train_base,\n",
    "                y_train_stim,  x_train_stim,\n",
    "                y_val_base,  x_val_base,\n",
    "                y_val_stim,    x_val_stim,\n",
    "                lr=0.0001,\n",
    "                lr_step_size=10,\n",
    "                lr_gamma=0.9,\n",
    "                sequence_length_LSTM=10,\n",
    "                batch_size_train = 3,\n",
    "                batch_size_val = 3,\n",
    "                num_epochs=1000)"
   ]
  }
 ],
 "metadata": {
  "kernelspec": {
   "display_name": "sinthlab",
   "language": "python",
   "name": "python3"
  },
  "language_info": {
   "codemirror_mode": {
    "name": "ipython",
    "version": 3
   },
   "file_extension": ".py",
   "mimetype": "text/x-python",
   "name": "python",
   "nbconvert_exporter": "python",
   "pygments_lexer": "ipython3",
   "version": "3.12.2"
  }
 },
 "nbformat": 4,
 "nbformat_minor": 2
}
