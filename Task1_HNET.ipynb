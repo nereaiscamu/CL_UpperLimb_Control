{
 "cells": [
  {
   "cell_type": "code",
   "execution_count": 27,
   "metadata": {},
   "outputs": [],
   "source": [
    "import pandas as pd\n",
    "import numpy as np\n",
    "import xarray as xr\n",
    "\n",
    "import os\n",
    "from tqdm.auto import tqdm\n",
    "\n",
    "import matplotlib.pyplot as plt\n",
    "import seaborn as sns\n",
    "\n",
    "from src.helpers import *\n",
    "from src.visualize import *\n",
    "from src.trainer import *\n",
    "from Models.models import *\n",
    "\n",
    "import torch\n",
    "import torch.nn as nn\n",
    "import torch.nn.functional as F\n",
    "import torch.optim as optim\n",
    "from torch.optim import lr_scheduler\n",
    "from sklearn.metrics import *\n",
    "from copy import deepcopy\n",
    "import torch.utils.data as data\n",
    "from torch.utils.data import Dataset\n",
    "\n",
    "import pickle\n",
    "import math"
   ]
  },
  {
   "cell_type": "code",
   "execution_count": 28,
   "metadata": {},
   "outputs": [],
   "source": [
    "#@title Helper functions for plotting (run this cell!)\n",
    "sns.set_context(\"notebook\")\n",
    "\n",
    "# initialize a color palette for plotting\n",
    "palette = sns.xkcd_palette([\"windows blue\",\n",
    "                            \"red\",\n",
    "                            \"medium green\",\n",
    "                            \"dusty purple\",\n",
    "                            \"orange\",\n",
    "                            \"amber\",\n",
    "                            \"clay\",\n",
    "                            \"pink\",\n",
    "                            \"greyish\"])"
   ]
  },
  {
   "cell_type": "markdown",
   "metadata": {},
   "source": [
    "## Load data"
   ]
  },
  {
   "cell_type": "code",
   "execution_count": 29,
   "metadata": {},
   "outputs": [],
   "source": [
    "data_path = './Data/Processed_Data/Tidy_Sansa_13_04.pkl'\n",
    "\n",
    "with open(data_path, 'rb') as file:\n",
    "    df = pickle.load(file)"
   ]
  },
  {
   "cell_type": "code",
   "execution_count": 30,
   "metadata": {},
   "outputs": [],
   "source": [
    "baseline_df = df.loc[df.type == 'BASELINE'].reset_index()"
   ]
  },
  {
   "cell_type": "code",
   "execution_count": 31,
   "metadata": {},
   "outputs": [],
   "source": [
    "stim_df = df.loc[df.type == 'TONIC'].reset_index()"
   ]
  },
  {
   "cell_type": "code",
   "execution_count": 32,
   "metadata": {},
   "outputs": [
    {
     "name": "stdout",
     "output_type": "stream",
     "text": [
      "Test trials  4\n",
      "Val trials 3\n"
     ]
    }
   ],
   "source": [
    "X_train, y_train, X_val, y_val, X_test, y_test, info_train, info_val, info_test = train_test_split(baseline_df, train_variable = 'both_rates', \n",
    "                                                                                                   target_variable = 'target_pos', num_folds = 5)"
   ]
  },
  {
   "cell_type": "code",
   "execution_count": 33,
   "metadata": {},
   "outputs": [
    {
     "name": "stdout",
     "output_type": "stream",
     "text": [
      "We are testing the optimization method on fold  0\n"
     ]
    }
   ],
   "source": [
    "# Test one of the folds first\n",
    "fold_num = 'fold0'\n",
    "fold = 0\n",
    "\n",
    "print('We are testing the optimization method on fold ', fold)\n",
    "\n",
    "seq_length = 75\n",
    "X_train = X_train[fold_num]\n",
    "X_val = X_val[fold_num]\n",
    "X_test = X_test[fold_num]\n",
    "y_test = y_test[fold_num]\n",
    "y_train = y_train[fold_num]\n",
    "y_val = y_val[fold_num]\n",
    "\n",
    "# Reshape x_train to match the number of columns in the model's input layer\n",
    "xx_train = X_train.reshape(X_train.shape[0] // seq_length, seq_length, X_train.shape[1])  \n",
    "# Reshape y_train to match the number of neurons in the model's output layer\n",
    "yy_train = y_train.reshape(y_train.shape[0] // seq_length, seq_length, y_train.shape[1])  \n",
    "\n",
    "xx_val = X_val.reshape(X_val.shape[0] // seq_length, seq_length, X_val.shape[1])  \n",
    "yy_val = y_val.reshape(y_val.shape[0] // seq_length, seq_length, y_val.shape[1])  \n",
    "\n",
    "xx_test = X_test.reshape(X_test.shape[0] // seq_length, seq_length, X_test.shape[1])  \n",
    "yy_test = y_test.reshape(y_test.shape[0] // seq_length, seq_length, y_test.shape[1])  \n",
    "\n"
   ]
  },
  {
   "cell_type": "code",
   "execution_count": 34,
   "metadata": {},
   "outputs": [],
   "source": [
    "# Define hyperparameters\n",
    "\n",
    "# Specify that we want our tensors on the GPU and in float32\n",
    "device = torch.device('cuda:0') #suposed to be cuda\n",
    "dtype = torch.float32\n",
    "path_to_models = './Models'\n",
    "\n",
    "num_dim_output = y_train.shape[1]\n",
    "num_features = X_train.shape[1]\n",
    "\n",
    "seed = 42\n",
    "torch.manual_seed(seed)\n",
    "\n",
    "seq_length = 75\n",
    "\n",
    "#Hyperparameters objective and regularization\n",
    "alpha_reg = 1.21e-6\n",
    "l1_ratio_reg = 0.394\n",
    "\n",
    "lr = 0.0001 # 0.00193\n",
    "loss_function = huber_loss\n",
    "delta = 8  # hyperparameter for huber loss\n",
    "\n",
    "# Hyperparameters LSTM class\n",
    "hidden_units = 10\n",
    "num_layers = 1\n",
    "#input_size = 31 Not for now, only if I need a linear layer before the RNN\n",
    "\n",
    "#Other training hyperparameters\n",
    "lr_gamma= 1.437 #for scheduler\n",
    "lr_step_size = 10 #for scheduler\n",
    "\n",
    "seq_length_LSTM= 10\n",
    "batch_size_train= 25\n",
    "batch_size_val = 25"
   ]
  },
  {
   "cell_type": "markdown",
   "metadata": {},
   "source": [
    "**RNN Parameters**\n",
    "\n",
    "input_size – The number of expected features in the input x\n",
    "\n",
    "hidden_size – The number of features in the hidden state h\n",
    "\n",
    "num_layers – Number of recurrent layers. E.g., setting num_layers=2 would mean stacking two RNNs together to form a stacked RNN, with the second RNN taking in outputs of the first RNN and computing the final results. Default: 1\n",
    "\n",
    "nonlinearity – The non-linearity to use. Can be either 'tanh' or 'relu'. Default: 'tanh'\n",
    "\n",
    "bias – If False, then the layer does not use bias weights b_ih and b_hh. Default: True\n",
    "\n",
    "batch_first – If True, then the input and output tensors are provided as (batch, seq, feature) instead of (seq, batch, feature). Note that this does not apply to hidden or cell states. See the Inputs/Outputs sections below for details. Default: False\n",
    "\n",
    "dropout – If non-zero, introduces a Dropout layer on the outputs of each RNN layer except the last layer, with dropout probability equal to dropout. Default: 0\n",
    "\n",
    "bidirectional – If True, becomes a bidirectional RNN. Default: False"
   ]
  },
  {
   "cell_type": "code",
   "execution_count": 35,
   "metadata": {},
   "outputs": [],
   "source": [
    "#model = CausalRNN(input_size= num_features, hidden_size = hidden_units, num_layers= num_layers, output_dim=num_dim_output, dropout= 0.3)"
   ]
  },
  {
   "cell_type": "code",
   "execution_count": 36,
   "metadata": {},
   "outputs": [
    {
     "name": "stdout",
     "output_type": "stream",
     "text": [
      "Creating a simple RNN with 12223 weights.\n"
     ]
    }
   ],
   "source": [
    "from hypnettorch.mnets import SimpleRNN\n",
    "\n",
    "hidden_units = 20\n",
    "input_rec = 50\n",
    "seq_length_LSTM = 15\n",
    "\n",
    "model = SimpleRNN(n_in=num_features, rnn_layers=(hidden_units,), \n",
    "                  fc_layers_pre=(input_rec,), fc_layers=(num_dim_output,),\n",
    "                use_lstm = True, no_weights = False).to(device) \n",
    "#Here we use no_weights = False to try to train the model only on baseline data"
   ]
  },
  {
   "cell_type": "code",
   "execution_count": 37,
   "metadata": {},
   "outputs": [],
   "source": [
    "# Helper function to convert between numpy arrays and tensors\n",
    "to_t = lambda array: torch.tensor(array, device='cpu', dtype=dtype)  #device\n",
    "to_t_eval =  lambda array: torch.tensor(array, device='cuda', dtype=dtype)  #device\n",
    "from_t = lambda tensor: tensor.to(\"cpu\").detach().numpy()"
   ]
  },
  {
   "cell_type": "code",
   "execution_count": 38,
   "metadata": {},
   "outputs": [],
   "source": [
    "xx_train = to_t(xx_train)\n",
    "yy_train = to_t(yy_train)\n",
    "xx_val = to_t(xx_val)\n",
    "yy_val = to_t(yy_val)"
   ]
  },
  {
   "cell_type": "code",
   "execution_count": 39,
   "metadata": {},
   "outputs": [
    {
     "name": "stderr",
     "output_type": "stream",
     "text": [
      "/home/nerea/CL_UpperLimb_Control/src/trainer.py:112: UserWarning: To copy construct from a tensor, it is recommended to use sourceTensor.clone().detach() or sourceTensor.clone().detach().requires_grad_(True), rather than torch.tensor(sourceTensor).\n",
      "  self.y = torch.tensor(y)\n",
      "/home/nerea/CL_UpperLimb_Control/src/trainer.py:113: UserWarning: To copy construct from a tensor, it is recommended to use sourceTensor.clone().detach() or sourceTensor.clone().detach().requires_grad_(True), rather than torch.tensor(sourceTensor).\n",
      "  self.X = torch.tensor(X)\n",
      "/home/nerea/CL_UpperLimb_Control/src/trainer.py:112: UserWarning: To copy construct from a tensor, it is recommended to use sourceTensor.clone().detach() or sourceTensor.clone().detach().requires_grad_(True), rather than torch.tensor(sourceTensor).\n",
      "  self.y = torch.tensor(y)\n",
      "/home/nerea/CL_UpperLimb_Control/src/trainer.py:113: UserWarning: To copy construct from a tensor, it is recommended to use sourceTensor.clone().detach() or sourceTensor.clone().detach().requires_grad_(True), rather than torch.tensor(sourceTensor).\n",
      "  self.X = torch.tensor(X)\n"
     ]
    },
    {
     "name": "stdout",
     "output_type": "stream",
     "text": [
      "Epoch 000 Train 0.1854 Val 0.1695\n",
      "Epoch 001 Train 0.1681 Val 0.1559\n",
      "Epoch 002 Train 0.1529 Val 0.1421\n",
      "Epoch 003 Train 0.1376 Val 0.1270\n",
      "Epoch 004 Train 0.1234 Val 0.1141\n",
      "Epoch 005 Train 0.1099 Val 0.1011\n",
      "Epoch 006 Train 0.0970 Val 0.0895\n",
      "Epoch 007 Train 0.0841 Val 0.0791\n",
      "Epoch 008 Train 0.0723 Val 0.0680\n",
      "Epoch 009 Train 0.0610 Val 0.0599\n",
      "Epoch 010 Train 0.0488 Val 0.0528\n",
      "Epoch 011 Train 0.0386 Val 0.0471\n",
      "Epoch 012 Train 0.0321 Val 0.0449\n",
      "Epoch 013 Train 0.0307 Val 0.0438\n",
      "Epoch 014 Train 0.0290 Val 0.0452\n",
      "Epoch 015 Train 0.0291 Val 0.0446\n",
      "Epoch 016 Train 0.0269 Val 0.0437\n",
      "Epoch 017 Train 0.0270 Val 0.0413\n",
      "Epoch 018 Train 0.0251 Val 0.0419\n",
      "Epoch 019 Train 0.0254 Val 0.0419\n",
      "Epoch 020 Train 0.0244 Val 0.0413\n",
      "Epoch 021 Train 0.0231 Val 0.0397\n",
      "Epoch 022 Train 0.0224 Val 0.0390\n",
      "Epoch 023 Train 0.0215 Val 0.0374\n",
      "Epoch 024 Train 0.0210 Val 0.0376\n",
      "Epoch 025 Train 0.0206 Val 0.0355\n",
      "Epoch 026 Train 0.0199 Val 0.0350\n",
      "Epoch 027 Train 0.0196 Val 0.0353\n",
      "Epoch 028 Train 0.0185 Val 0.0334\n",
      "Epoch 029 Train 0.0186 Val 0.0333\n",
      "Epoch 030 Train 0.0181 Val 0.0330\n",
      "Epoch 031 Train 0.0174 Val 0.0325\n",
      "Epoch 032 Train 0.0166 Val 0.0318\n",
      "Epoch 033 Train 0.0166 Val 0.0328\n",
      "Epoch 034 Train 0.0161 Val 0.0315\n",
      "Epoch 035 Train 0.0156 Val 0.0299\n",
      "Epoch 036 Train 0.0154 Val 0.0310\n",
      "Epoch 037 Train 0.0149 Val 0.0293\n",
      "Epoch 038 Train 0.0151 Val 0.0286\n",
      "Epoch 039 Train 0.0142 Val 0.0281\n",
      "Epoch 040 Train 0.0138 Val 0.0291\n",
      "Epoch 041 Train 0.0138 Val 0.0279\n",
      "Epoch 042 Train 0.0132 Val 0.0267\n",
      "Epoch 043 Train 0.0130 Val 0.0272\n",
      "Epoch 044 Train 0.0128 Val 0.0268\n",
      "Epoch 045 Train 0.0127 Val 0.0270\n",
      "Epoch 046 Train 0.0124 Val 0.0261\n",
      "Epoch 047 Train 0.0122 Val 0.0257\n",
      "Epoch 048 Train 0.0117 Val 0.0255\n",
      "Epoch 049 Train 0.0114 Val 0.0237\n",
      "Epoch 050 Train 0.0115 Val 0.0249\n",
      "Epoch 051 Train 0.0108 Val 0.0252\n",
      "Epoch 052 Train 0.0106 Val 0.0240\n",
      "Epoch 053 Train 0.0106 Val 0.0244\n",
      "Decrease LR\n",
      "Epoch 054 Train 0.0102 Val 0.0242\n",
      "Epoch 055 Train 0.0100 Val 0.0244\n",
      "Epoch 056 Train 0.0100 Val 0.0240\n",
      "Epoch 057 Train 0.0099 Val 0.0233\n",
      "Epoch 058 Train 0.0095 Val 0.0242\n",
      "Epoch 059 Train 0.0097 Val 0.0234\n",
      "Epoch 060 Train 0.0092 Val 0.0231\n",
      "Epoch 061 Train 0.0092 Val 0.0238\n",
      "Epoch 062 Train 0.0091 Val 0.0232\n",
      "Epoch 063 Train 0.0090 Val 0.0225\n",
      "Epoch 064 Train 0.0088 Val 0.0237\n",
      "Epoch 065 Train 0.0088 Val 0.0239\n",
      "Epoch 066 Train 0.0086 Val 0.0226\n",
      "Epoch 067 Train 0.0085 Val 0.0235\n",
      "Epoch 068 Train 0.0083 Val 0.0224\n",
      "Epoch 069 Train 0.0083 Val 0.0232\n",
      "Epoch 070 Train 0.0081 Val 0.0225\n",
      "Epoch 071 Train 0.0079 Val 0.0230\n",
      "Epoch 072 Train 0.0078 Val 0.0221\n",
      "Epoch 073 Train 0.0077 Val 0.0223\n",
      "Epoch 074 Train 0.0077 Val 0.0218\n",
      "Epoch 075 Train 0.0075 Val 0.0220\n",
      "Epoch 076 Train 0.0073 Val 0.0234\n",
      "Epoch 077 Train 0.0073 Val 0.0229\n",
      "Epoch 078 Train 0.0071 Val 0.0221\n",
      "Decrease LR\n"
     ]
    }
   ],
   "source": [
    "train_losses, val_losses = \\\n",
    "    train_model(model, xx_train,yy_train,\n",
    "                xx_val, \n",
    "                yy_val,\n",
    "                lr= lr,\n",
    "                lr_step_size=lr_step_size,\n",
    "                lr_gamma= lr_gamma,\n",
    "                sequence_length_LSTM=seq_length_LSTM,\n",
    "                batch_size_train = batch_size_train,\n",
    "                batch_size_val = batch_size_val,\n",
    "                num_epochs=1000, \n",
    "                delta = 8,                 \n",
    "                regularizer= reg_hnet,\n",
    "                l1_ratio = l1_ratio_reg,\n",
    "                alpha = alpha_reg, # CAREFUL WITH INTEGERS\n",
    "                early_stop = 5,\n",
    "                \n",
    "                )"
   ]
  },
  {
   "cell_type": "code",
   "execution_count": 40,
   "metadata": {},
   "outputs": [
    {
     "data": {
      "image/png": "[encoded data removed]",
      "text/plain": [
       "<Figure size 1000x600 with 1 Axes>"
      ]
     },
     "metadata": {},
     "output_type": "display_data"
    }
   ],
   "source": [
    "# Assuming you have already trained your model and collected the losses\n",
    "# train_losses and val_losses are numpy arrays containing losses for each epoch\n",
    "plot_losses(train_losses, val_losses)"
   ]
  },
  {
   "cell_type": "code",
   "execution_count": 41,
   "metadata": {},
   "outputs": [
    {
     "name": "stderr",
     "output_type": "stream",
     "text": [
      "/tmp/ipykernel_838438/815769189.py:3: UserWarning: To copy construct from a tensor, it is recommended to use sourceTensor.clone().detach() or sourceTensor.clone().detach().requires_grad_(True), rather than torch.tensor(sourceTensor).\n",
      "  to_t_eval =  lambda array: torch.tensor(array, device='cuda', dtype=dtype)  #device\n",
      "/tmp/ipykernel_838438/815769189.py:3: UserWarning: To copy construct from a tensor, it is recommended to use sourceTensor.clone().detach() or sourceTensor.clone().detach().requires_grad_(True), rather than torch.tensor(sourceTensor).\n",
      "  to_t_eval =  lambda array: torch.tensor(array, device='cuda', dtype=dtype)  #device\n",
      "/tmp/ipykernel_838438/815769189.py:3: UserWarning: To copy construct from a tensor, it is recommended to use sourceTensor.clone().detach() or sourceTensor.clone().detach().requires_grad_(True), rather than torch.tensor(sourceTensor).\n",
      "  to_t_eval =  lambda array: torch.tensor(array, device='cuda', dtype=dtype)  #device\n",
      "/tmp/ipykernel_838438/815769189.py:3: UserWarning: To copy construct from a tensor, it is recommended to use sourceTensor.clone().detach() or sourceTensor.clone().detach().requires_grad_(True), rather than torch.tensor(sourceTensor).\n",
      "  to_t_eval =  lambda array: torch.tensor(array, device='cuda', dtype=dtype)  #device\n"
     ]
    }
   ],
   "source": [
    " # Move the test stimulus and measured rates to the GPU\n",
    "xx_train = to_t_eval(xx_train)\n",
    "yy_train = to_t_eval(yy_train)\n",
    "xx_val = to_t_eval(xx_val)\n",
    "yy_val = to_t_eval(yy_val)\n",
    "xx_test = to_t_eval(xx_test)\n",
    "yy_test = to_t_eval(yy_test)\n"
   ]
  },
  {
   "cell_type": "code",
   "execution_count": 42,
   "metadata": {},
   "outputs": [],
   "source": [
    "y_pred = model(xx_val)\n",
    "y_array = yy_val.detach().cpu().numpy()\n",
    "y_pred_array = y_pred.detach().cpu().numpy()\n",
    "\n",
    "# Reshape tensors to 2D arrays (flatten the batch and sequence dimensions)\n",
    "y_pred_2D = y_pred_array.reshape(-1, y_pred_array.shape[-1])\n",
    "y_true_2D = y_array.reshape(-1, y_array.shape[-1])"
   ]
  },
  {
   "cell_type": "code",
   "execution_count": 43,
   "metadata": {},
   "outputs": [
    {
     "name": "stdout",
     "output_type": "stream",
     "text": [
      "Train EV: 0.60 \n",
      "Val EV: 0.41 \n",
      "Test EV: 0.47 \n"
     ]
    }
   ],
   "source": [
    "y_hat, y_true, train_score, v_score, test_score = eval_model(xx_train, yy_train, xx_val, yy_val, xx_test, yy_test, model, metric = 'ev')"
   ]
  },
  {
   "cell_type": "markdown",
   "metadata": {},
   "source": [
    "## CL with Hypernetworks\n",
    "\n",
    "First we define the BASELINE and STIMULATION datasets for CL."
   ]
  },
  {
   "cell_type": "code",
   "execution_count": 6,
   "metadata": {},
   "outputs": [
    {
     "name": "stdout",
     "output_type": "stream",
     "text": [
      "Test trials  4\n",
      "Val trials 3\n"
     ]
    }
   ],
   "source": [
    "X_train_b, y_train_b, X_val_b, y_val_b, X_test_b, y_test_b, info_train_b, info_val_b, info_test_b = train_test_split(baseline_df, train_variable = 'both_rates', \n",
    "                                                                                                   target_variable = 'target_pos', num_folds = 5)"
   ]
  },
  {
   "cell_type": "code",
   "execution_count": 7,
   "metadata": {},
   "outputs": [
    {
     "name": "stdout",
     "output_type": "stream",
     "text": [
      "Test trials  8\n",
      "Val trials 7\n"
     ]
    }
   ],
   "source": [
    "X_train_s, y_train_s, X_val_s, y_val_s, X_test_s, y_test_s, info_train_s, info_val_s, info_test_s = train_test_split(stim_df, train_variable = 'both_rates', \n",
    "                                                                                                   target_variable = 'target_pos', num_folds = 5)"
   ]
  },
  {
   "cell_type": "code",
   "execution_count": 8,
   "metadata": {},
   "outputs": [
    {
     "name": "stdout",
     "output_type": "stream",
     "text": [
      "We are testing the optimization method on fold  0\n"
     ]
    },
    {
     "data": {
      "text/plain": [
       "<torch._C.Generator at 0x7f03e7a03b10>"
      ]
     },
     "execution_count": 8,
     "metadata": {},
     "output_type": "execute_result"
    }
   ],
   "source": [
    "# Test one of the folds first\n",
    "fold_num = 'fold0'\n",
    "fold = 0\n",
    "\n",
    "print('We are testing the optimization method on fold ', fold)\n",
    "\n",
    "def input_mats(x,y, seq_length = 75):\n",
    "    x = x[fold_num]\n",
    "    y = y[fold_num]\n",
    "    x = x.reshape(x.shape[0] // seq_length, seq_length, x.shape[1])  \n",
    "    y = y.reshape(y.shape[0] // seq_length, seq_length, y.shape[1])  \n",
    "    return x,y\n",
    "\n",
    "x_train_base, y_train_base = input_mats(X_train_b, y_train_b)\n",
    "x_train_stim, y_train_stim = input_mats(X_train_s, y_train_s)\n",
    "\n",
    "x_val_base, y_val_base = input_mats(X_val_b, y_val_b)\n",
    "x_val_stim, y_val_stim = input_mats(X_val_s, y_val_s)\n",
    "\n",
    "x_test_base, y_test_base = input_mats(X_test_b, y_test_b)\n",
    "x_test_stim, y_test_stim = input_mats(X_test_s, y_test_s)\n",
    "\n",
    "seed = 42\n",
    "torch.manual_seed(seed)"
   ]
  },
  {
   "cell_type": "markdown",
   "metadata": {},
   "source": [
    "Tutorial on the use of the hypnettorch package: https://github.com/chrhenning/hypnettorch/blob/master/hypnettorch/tutorials/getting_started.ipynb\n",
    "\n",
    "\n",
    "From hypnettorch, we have:\n",
    "\n",
    "- `SimpleRNN:` model which works as main networks and which has already the option or passing weights generated by other network in the forward loop.\n",
    "    \n",
    "- `HMLP:` A variety of hypernetworks is available in subpackage hypnettorch.hnets. The simplest being a fully-connected hypernetwork, see class hypnettorch.hnets.HMLP. Such simplistic hypernetwork is huge, as its parameter count is quadratic in the number of parameters of the corresponding main network. Therefore, several more sophisticated hypernetwork options are available, which are just as simple to use (most notably, hypnettorch.hnets.ChunkedHMLP). However, to keep this tutorial light, we don't discuss these options here."
   ]
  },
  {
   "cell_type": "code",
   "execution_count": 9,
   "metadata": {},
   "outputs": [],
   "source": [
    "from IPython.display import display, Markdown, Latex"
   ]
  },
  {
   "cell_type": "code",
   "execution_count": 10,
   "metadata": {},
   "outputs": [],
   "source": [
    "# Specify that we want our tensors on the GPU and in float32\n",
    "device = torch.device('cuda:0') #suposed to be cuda\n",
    "dtype = torch.float32\n",
    "path_to_models = './Models'\n",
    "\n",
    "num_dim_output = y_train_stim.shape[2]\n",
    "num_features = x_train_stim.shape[2]\n",
    "\n",
    "seed = 42\n",
    "torch.manual_seed(seed)\n",
    "\n",
    "seq_length = 75"
   ]
  },
  {
   "cell_type": "code",
   "execution_count": 11,
   "metadata": {},
   "outputs": [
    {
     "name": "stdout",
     "output_type": "stream",
     "text": [
      "Creating a simple RNN with 7233 weights.\n"
     ]
    }
   ],
   "source": [
    "from hypnettorch.mnets import SimpleRNN\n",
    "\n",
    "hidden_units = 10\n",
    "input_rec = 40\n",
    "seq_length_LSTM = 10\n",
    "\n",
    "\n",
    "model = SimpleRNN(n_in=num_features, rnn_layers=(hidden_units,), \n",
    "                  fc_layers_pre=(input_rec,), fc_layers=(num_dim_output,),\n",
    "                use_lstm = True, no_weights = True).to(device) \n",
    "# Here no_weight set to true for the model to take the weights generated with the hypernetwork"
   ]
  },
  {
   "cell_type": "markdown",
   "metadata": {},
   "source": [
    "Hypernetworks usually distinguish between two types of inputs: *conditional* and *unconditional* inputs. Conditional inputs are simply inputs that can be related to a finite and discrete set of conditions, such as the [task identity in continual learning](https://arxiv.org/abs/1906.00695). Simply speaking, conditional inputs can be used if the number $N$ of conditions is known a priori. In this case, the hypernetwork will create a set of $N$ learnable condition vectors (e.g., task embeddings), and can take the condition ID (as integer) as input to the ``forward`` method. This simplifies many usage scenarios, as the user of a hypernetwork does not have to maintain learnable input embeddings to the hypernetwork by himself. In all other cases (like the input to the hypernetwork comes from a continuous vector space), *unconditional* inputs should be used.\n",
    "\n",
    "In our case, the hypernetwork should either generate a set of weights for MNIST (condition $0$) or FashionMNIST (condition $1$). Each of these conditions should internally be represented by a $8$-dimensional embedding vector."
   ]
  },
  {
   "cell_type": "code",
   "execution_count": 12,
   "metadata": {},
   "outputs": [
    {
     "name": "stdout",
     "output_type": "stream",
     "text": [
      "Created MLP Hypernet.\n",
      "Hypernetwork with 152509 weights and 7233 outputs (compression ratio: 21.09).\n",
      "The network consists of 152493 unconditional weights (152493 internally maintained) and 16 conditional weights (16 internally maintained).\n",
      "\n",
      "The randomly initialized input embeddings are:\n",
      " [Parameter containing:\n",
      "tensor([ 0.3367,  0.1288,  0.2345,  0.2303, -1.1229, -0.1863,  2.2082, -0.6380],\n",
      "       device='cuda:0', requires_grad=True), Parameter containing:\n",
      "tensor([ 0.4617,  0.2674,  0.5349,  0.8094,  1.1103, -1.6898, -0.9890,  0.9580],\n",
      "       device='cuda:0', requires_grad=True)]\n"
     ]
    }
   ],
   "source": [
    "from hypnettorch.hnets import HMLP\n",
    "\n",
    "num_conditions = 2\n",
    "size_task_embedding = 8\n",
    "\n",
    "hnet = HMLP(model.param_shapes, uncond_in_size=0,\n",
    "             cond_in_size=size_task_embedding,\n",
    "            layers=[20, 20], \n",
    "            num_cond_embs=num_conditions).to(device)\n",
    "\n",
    "print()\n",
    "print('The randomly initialized input embeddings are:\\n', \n",
    "      hnet.conditional_params)"
   ]
  },
  {
   "cell_type": "markdown",
   "metadata": {},
   "source": [
    "**Hypernetwork initialization** \n",
    "can be an important factor, for instance, [when using optimizers such as SGD](https://openreview.net/forum?id=H1lma24tPB). \n",
    "\n",
    "Therefore, some hypernet implementations provide custom initialization functions."
   ]
  },
  {
   "cell_type": "code",
   "execution_count": 13,
   "metadata": {},
   "outputs": [],
   "source": [
    "hnet.apply_hyperfan_init(mnet=model)"
   ]
  },
  {
   "cell_type": "markdown",
   "metadata": {},
   "source": [
    "**Making predictions** with the target network is fairly easy. Simply generate the corresponding weights with the hypernetwork and pass them to the ``forward`` method of the main network together with the network inputs. "
   ]
  },
  {
   "cell_type": "code",
   "execution_count": 14,
   "metadata": {},
   "outputs": [],
   "source": [
    "from torch.utils.data import Dataset"
   ]
  },
  {
   "cell_type": "code",
   "execution_count": 15,
   "metadata": {},
   "outputs": [],
   "source": [
    "# Define parameters for training\n",
    "num_epochs = 50\n",
    "batch_size_train = 25\n",
    "batch_size_val = 25\n"
   ]
  },
  {
   "cell_type": "code",
   "execution_count": 16,
   "metadata": {},
   "outputs": [
    {
     "name": "stdout",
     "output_type": "stream",
     "text": [
      "<function reg_hnet at 0x7f034a5d9dc0>\n"
     ]
    }
   ],
   "source": [
    "print(reg_hnet)"
   ]
  },
  {
   "cell_type": "code",
   "execution_count": 34,
   "metadata": {},
   "outputs": [
    {
     "name": "stdout",
     "output_type": "stream",
     "text": [
      "[tensor([[ 0.0176, -0.0534, -0.0721,  ...,  0.0271,  0.0256,  0.0188],\n",
      "        [-0.0668, -0.0127,  0.0994,  ...,  0.0055,  0.0043, -0.0446],\n",
      "        [ 0.0779,  0.0632, -0.0571,  ..., -0.0082, -0.0106, -0.0366],\n",
      "        ...,\n",
      "        [-0.0530,  0.0460,  0.0258,  ..., -0.1229,  0.0012, -0.0397],\n",
      "        [ 0.0272,  0.0002, -0.0425,  ..., -0.0025,  0.0620, -0.0020],\n",
      "        [-0.0222,  0.0415, -0.0201,  ...,  0.0543,  0.0483, -0.0603]],\n",
      "       device='cuda:0', grad_fn=<SqueezeBackward1>), tensor([-0.1063, -0.2549,  0.1821,  0.1083,  0.4530,  0.4699,  0.0565,  0.1932,\n",
      "        -0.4930,  0.9676, -0.4509,  0.0078, -0.3716,  0.6198, -0.4621,  1.1514,\n",
      "         0.3753, -0.1238, -0.7776,  0.0136,  0.0229,  1.4409, -0.5706, -1.2869,\n",
      "        -0.4804, -0.5370,  0.4768, -0.1488, -0.0948, -0.1346,  0.1240, -0.0048,\n",
      "        -0.2792,  0.0987,  0.2931, -0.2381, -0.7741,  0.2854,  1.1314, -0.2262],\n",
      "       device='cuda:0', grad_fn=<SqueezeBackward1>), tensor([[-0.1374,  0.1979, -0.1399,  ...,  0.0132,  0.0204,  0.0785],\n",
      "        [ 0.0023,  0.0108, -0.0584,  ...,  0.0127, -0.0202,  0.0244],\n",
      "        [-0.1239, -0.0700,  0.0064,  ...,  0.0322,  0.1098, -0.0029],\n",
      "        ...,\n",
      "        [-0.1421, -0.0443, -0.0881,  ...,  0.0200,  0.1296, -0.0748],\n",
      "        [-0.1050, -0.0804, -0.0221,  ..., -0.2468,  0.1116, -0.1239],\n",
      "        [-0.0454, -0.0688,  0.0749,  ...,  0.0973, -0.0755,  0.0288]],\n",
      "       device='cuda:0', grad_fn=<SqueezeBackward1>), tensor([ 0.1550,  0.0074,  0.2884, -0.5597,  0.5434,  0.8619,  0.7829, -0.9992,\n",
      "         0.2588, -0.5563, -0.5421, -0.1645, -0.6249,  0.8381, -0.3444, -0.7800,\n",
      "         0.6438,  0.3049, -0.2202,  1.2184,  1.1121,  0.8019,  0.7366, -0.0414,\n",
      "         0.2692, -0.5795,  0.2740, -0.5299, -0.3877,  0.1964,  0.8052, -0.5487,\n",
      "         0.8126,  0.7405, -0.7611,  0.7087,  0.3129,  0.0817, -0.3789,  0.1525],\n",
      "       device='cuda:0', grad_fn=<SqueezeBackward1>), tensor([[ 2.6714e-01,  1.3346e-01, -1.5082e-01, -5.0345e-02,  1.3746e-01,\n",
      "          1.5462e-01,  1.6716e-01, -3.7815e-02, -1.7963e-01, -4.7618e-02],\n",
      "        [ 2.6340e-01,  6.5645e-02, -3.1630e-02,  5.1492e-03,  2.8103e-01,\n",
      "         -4.3000e-01,  2.5673e-01, -2.9724e-01, -2.6315e-01,  6.9988e-02],\n",
      "        [-3.4727e-01,  3.6891e-01, -9.2209e-02,  6.5316e-02, -3.4219e-02,\n",
      "         -7.2290e-02, -1.5190e-01,  1.7593e-01,  2.3656e-01,  4.1638e-03],\n",
      "        [-1.1730e-01,  1.9440e-01, -2.0585e-01, -1.3996e-01, -7.1708e-02,\n",
      "          4.3862e-02,  7.6111e-02, -8.2206e-02, -1.2839e-01,  8.3738e-02],\n",
      "        [-1.3404e-01,  1.0115e-01, -2.5917e-02,  9.4967e-02, -1.7990e-01,\n",
      "          2.3006e-01, -1.6264e-01, -1.5845e-01, -5.8590e-02, -7.9259e-04],\n",
      "        [ 1.9460e-01, -1.3954e-02,  5.5648e-02,  1.9517e-02,  4.0941e-02,\n",
      "          8.4894e-02,  1.0699e-02, -2.0147e-02,  1.1618e-02,  5.4218e-02],\n",
      "        [ 2.0376e-01, -1.0052e-01,  1.8092e-01, -2.3344e-03,  1.0380e-01,\n",
      "         -1.6392e-01,  9.7096e-02,  1.1247e-01,  8.9777e-02,  7.1609e-02],\n",
      "        [ 4.2924e-01, -1.2585e-01,  3.2646e-01,  2.3181e-01, -2.2040e-04,\n",
      "          7.0618e-03,  2.8221e-01, -1.4447e-01, -1.5555e-01, -1.6550e-01],\n",
      "        [ 8.2743e-02,  3.4055e-01, -3.7117e-01,  1.6935e-01, -4.0617e-02,\n",
      "          2.3793e-01,  7.6522e-02,  4.3866e-02,  2.3690e-01, -1.4296e-01],\n",
      "        [-5.6556e-02,  4.0833e-02, -1.0072e-01,  1.6942e-01, -1.6851e-01,\n",
      "          6.1224e-02, -1.3776e-01,  2.0036e-01,  3.0023e-03,  3.7481e-02],\n",
      "        [ 1.3774e-01, -2.1443e-04, -1.1760e-01,  7.5126e-02, -2.1468e-01,\n",
      "         -1.3351e-01, -1.7986e-01,  3.1362e-01, -1.7847e-01,  9.3405e-02],\n",
      "        [ 1.9693e-03,  2.0713e-01,  1.2796e-01, -4.3750e-03,  5.9418e-02,\n",
      "          4.5709e-02, -9.5984e-02, -1.2290e-01, -1.2438e-01, -2.6279e-01],\n",
      "        [ 1.8014e-01, -4.0891e-01,  4.2859e-02,  1.2249e-01,  1.6023e-01,\n",
      "          3.0825e-02, -1.2082e-01,  1.7716e-01, -1.7728e-03, -2.8670e-01],\n",
      "        [-1.7249e-01, -2.9185e-02, -3.2859e-01, -4.2985e-02, -2.9554e-01,\n",
      "         -5.5056e-02, -9.7649e-02,  6.7626e-02, -1.8830e-01, -1.5376e-01],\n",
      "        [-1.0559e-01, -1.5156e-01,  8.4741e-02,  9.9805e-03,  2.1576e-01,\n",
      "         -2.0904e-02, -2.7602e-01,  8.4330e-03, -1.3643e-02, -5.8237e-02],\n",
      "        [ 5.6040e-02, -8.5540e-02, -3.9241e-01, -6.3890e-02, -7.7171e-02,\n",
      "         -2.8009e-01, -3.0289e-02, -5.6474e-02,  2.6373e-01,  5.9710e-02],\n",
      "        [-1.7613e-01, -1.1900e-01,  1.2700e-01,  2.3591e-01, -3.8200e-01,\n",
      "          2.2565e-02, -8.2392e-02,  6.9914e-02, -4.3011e-02, -1.6880e-01],\n",
      "        [-1.4810e-01,  4.3553e-01,  1.4367e-01, -2.4738e-02, -2.8574e-01,\n",
      "          5.8545e-02, -2.6090e-02,  2.6145e-01, -1.9897e-01, -1.4846e-01],\n",
      "        [-1.1551e-01,  6.3826e-02,  3.1392e-01, -2.4343e-01, -6.8462e-02,\n",
      "          3.8152e-01, -2.1807e-01, -8.6116e-02, -2.3919e-01, -5.0694e-02],\n",
      "        [ 6.7079e-04,  3.0915e-01,  2.6773e-01, -2.0189e-02, -3.7344e-01,\n",
      "         -5.8955e-02, -1.3370e-01, -2.2576e-01, -2.2687e-01,  1.5869e-01],\n",
      "        [-4.3987e-02, -1.6725e-01,  1.8984e-01,  2.3094e-01, -1.0450e-01,\n",
      "         -4.5040e-01, -1.1288e-01, -1.0176e-01, -2.5720e-01, -9.5224e-02],\n",
      "        [-1.4506e-01, -2.3003e-02,  6.6517e-02, -2.2733e-01,  6.7024e-02,\n",
      "         -7.8784e-03, -1.9298e-01,  6.4633e-02,  7.4921e-02,  7.3393e-02],\n",
      "        [ 3.7188e-01, -1.6417e-01, -2.6297e-02, -2.2569e-02,  1.9834e-02,\n",
      "         -1.9713e-02,  7.3764e-02, -1.1996e-01, -6.0548e-02, -2.2640e-03],\n",
      "        [ 6.6248e-02, -5.6277e-02,  6.0687e-02, -1.2547e-01,  2.7862e-01,\n",
      "         -1.2637e-01,  2.1306e-01, -2.6167e-02,  2.6901e-01,  8.8882e-02],\n",
      "        [ 1.5094e-01, -4.5277e-02,  4.8292e-02, -3.0123e-02, -1.4058e-01,\n",
      "         -2.3982e-01,  2.2818e-01, -7.2851e-02,  1.0036e-01,  1.6851e-01],\n",
      "        [ 9.6065e-02,  2.6428e-01, -2.9718e-01,  1.1927e-01, -2.5942e-01,\n",
      "         -3.8497e-02, -1.3100e-01,  2.1196e-02,  2.9415e-01, -8.0356e-02],\n",
      "        [ 1.8919e-01, -8.4070e-02,  1.8147e-02,  2.5836e-01, -1.0419e-01,\n",
      "          2.9188e-01, -1.6508e-02, -1.5495e-02, -1.3202e-01, -1.0589e-01],\n",
      "        [ 7.5622e-02, -1.3283e-01, -1.8126e-01, -4.0532e-03, -8.9245e-02,\n",
      "          9.0846e-02,  2.5959e-01, -1.4627e-01, -2.2246e-02, -2.9659e-02],\n",
      "        [-1.7594e-01,  2.1083e-01, -4.8210e-03,  8.3691e-03, -7.1944e-02,\n",
      "          4.6418e-02,  5.4235e-01, -2.0307e-01,  6.3376e-02,  2.4778e-01],\n",
      "        [-2.6848e-01,  3.4482e-01, -1.6568e-03,  5.5791e-02,  2.4583e-01,\n",
      "         -9.7149e-03, -8.7232e-02, -4.7299e-03, -1.6358e-01, -4.3104e-01],\n",
      "        [-2.1961e-01,  3.1681e-01,  2.6828e-01,  6.4970e-02,  3.3886e-02,\n",
      "         -1.1800e-01, -2.3820e-01,  2.7679e-01,  3.6481e-02,  2.2882e-01],\n",
      "        [-3.2764e-01,  9.4491e-02,  1.7107e-01, -4.5807e-01, -2.5542e-04,\n",
      "          2.3905e-01, -7.2751e-02, -4.0697e-02, -1.4817e-01,  1.9945e-01],\n",
      "        [-3.1982e-01, -5.9736e-02, -1.0833e-01, -1.5327e-01,  1.3512e-01,\n",
      "         -1.4125e-01,  4.7203e-02, -3.9596e-02, -1.1326e-01,  8.1560e-02],\n",
      "        [-1.6793e-01,  2.5975e-01, -8.5574e-02, -4.0336e-02,  2.8422e-01,\n",
      "         -1.2642e-01, -8.2509e-02, -3.0052e-02, -1.0169e-01,  1.8191e-01],\n",
      "        [ 9.5441e-02,  1.1263e-01, -3.1689e-02, -1.0593e-01,  4.1096e-02,\n",
      "          1.1206e-02,  1.6471e-01,  7.0808e-02, -1.5146e-01,  2.6554e-01],\n",
      "        [-1.0519e-01, -7.8225e-02, -6.5945e-02, -1.6869e-01, -1.7909e-02,\n",
      "          3.3569e-02,  3.0971e-01, -5.9080e-02, -4.8251e-02, -9.8154e-02],\n",
      "        [-6.5548e-02, -7.1405e-02, -9.9874e-02,  9.7959e-03, -1.1123e-01,\n",
      "          2.9870e-01, -1.6179e-03, -4.6132e-02,  2.7343e-01,  3.0750e-01],\n",
      "        [ 6.2610e-02,  1.0188e-01, -1.6212e-01,  3.7145e-02, -9.2343e-02,\n",
      "          9.1980e-02,  2.0294e-01,  1.1857e-02, -3.0760e-01,  5.0706e-02],\n",
      "        [-2.1818e-01, -4.1348e-02, -6.4389e-03,  1.9793e-01, -2.9249e-01,\n",
      "         -1.2609e-01,  2.6082e-01, -5.7627e-03, -2.8029e-01,  1.3293e-01],\n",
      "        [-9.2153e-02,  1.7365e-01,  7.8933e-02, -6.1293e-02,  1.5539e-01,\n",
      "         -3.5465e-01, -2.5979e-01, -1.6998e-01, -4.3690e-02,  4.4833e-03]],\n",
      "       device='cuda:0', grad_fn=<SqueezeBackward1>), tensor([-0.0330, -0.9780, -0.7033, -0.2977, -0.5269,  0.4202,  1.0687, -0.0673,\n",
      "         0.1796, -0.2906,  0.9279, -0.3442, -0.2531,  0.1416, -0.3062,  0.3637,\n",
      "         0.5906, -0.8708,  0.6787,  0.4443, -1.1195,  0.3593,  1.3728,  0.1951,\n",
      "        -0.1583, -0.2180, -0.2434, -0.6373, -0.1706, -0.0353, -0.5226,  0.4324,\n",
      "        -0.7790,  0.0707, -0.0476,  0.4890,  0.5768, -0.1025,  0.0163, -0.3707],\n",
      "       device='cuda:0', grad_fn=<SqueezeBackward1>), tensor([[-0.3161,  0.1272, -0.2160, -0.3320, -0.0629,  0.2369, -0.0016,  0.3717,\n",
      "         -0.3069,  0.2426],\n",
      "        [ 0.4245, -0.0987, -0.0496,  0.3524,  0.1008, -0.1480,  0.4073,  0.0805,\n",
      "         -0.1025,  0.0634],\n",
      "        [ 0.0691,  0.2048,  0.2500, -0.3049, -0.1917, -0.0213,  0.1944,  0.0308,\n",
      "         -0.0747, -0.0340]], device='cuda:0', grad_fn=<SqueezeBackward1>), tensor([-0.0760,  0.2393,  0.0544], device='cuda:0',\n",
      "       grad_fn=<SqueezeBackward1>)]\n"
     ]
    },
    {
     "name": "stdout",
     "output_type": "stream",
     "text": [
      "[tensor([[ 0.0165, -0.1082, -0.0589,  ...,  0.0588,  0.0684,  0.0773],\n",
      "        [-0.0758,  0.0420,  0.1369,  ..., -0.0240,  0.0861, -0.0270],\n",
      "        [ 0.1727,  0.1494, -0.0313,  ...,  0.0715,  0.0132,  0.0675],\n",
      "        ...,\n",
      "        [-0.0904, -0.0089,  0.1425,  ..., -0.0542,  0.0355, -0.0195],\n",
      "        [ 0.0486,  0.0259, -0.0397,  ...,  0.0633,  0.0656, -0.0471],\n",
      "        [ 0.0571, -0.0322, -0.0735,  ...,  0.0893,  0.0675, -0.1538]],\n",
      "       device='cuda:0', grad_fn=<SqueezeBackward1>), tensor([-0.3812, -0.7879, -0.4019, -0.6584,  0.4509,  0.7316,  0.7267, -0.6086,\n",
      "        -0.1255,  0.2128,  0.2603, -1.2779,  0.4583,  0.1137, -0.5853,  1.5766,\n",
      "         0.5782,  0.4331, -1.0732, -0.6667, -0.1608,  1.3912, -0.7071, -0.4895,\n",
      "        -0.7323, -0.6737,  0.6572,  0.3115,  0.9715, -0.1120,  1.1197, -0.2425,\n",
      "         0.1515, -0.6231,  0.1230, -0.8962, -0.9837, -0.4089,  1.4362, -0.1858],\n",
      "       device='cuda:0', grad_fn=<SqueezeBackward1>), tensor([[-0.0596,  0.1537,  0.0485,  ...,  0.0524,  0.1002, -0.0661],\n",
      "        [ 0.0238, -0.1266, -0.0103,  ...,  0.0367, -0.1149,  0.0454],\n",
      "        [-0.1891, -0.1283, -0.0204,  ...,  0.2111,  0.0478, -0.0038],\n",
      "        ...,\n",
      "        [-0.0859,  0.0723, -0.0311,  ..., -0.0033,  0.0887, -0.1903],\n",
      "        [-0.1623, -0.1472,  0.0250,  ..., -0.2175,  0.1213, -0.1493],\n",
      "        [-0.2631, -0.1631,  0.1315,  ...,  0.1303, -0.1085,  0.0747]],\n",
      "       device='cuda:0', grad_fn=<SqueezeBackward1>), tensor([-0.2880,  0.1017, -0.0560, -0.3876,  0.3210,  1.5283,  0.5100, -1.1968,\n",
      "        -0.8984, -0.3196, -0.2240, -0.5327,  0.3997,  0.1360,  0.1162, -1.5059,\n",
      "         1.3826,  0.5940, -0.6428,  0.7312,  1.2983,  0.3937,  1.1316,  0.3215,\n",
      "        -0.6741, -0.4448,  0.3711,  0.0373, -0.4500,  0.2245,  1.1270, -0.3014,\n",
      "         0.3586, -0.0272,  0.2772,  0.9341,  0.1008,  0.4417, -0.1279,  0.0128],\n",
      "       device='cuda:0', grad_fn=<SqueezeBackward1>), tensor([[ 0.4937, -0.0066, -0.2722, -0.1005, -0.0717,  0.0886,  0.0955, -0.0315,\n",
      "         -0.1640,  0.0239],\n",
      "        [ 0.0774, -0.2409, -0.1868, -0.1282, -0.0231, -0.2857,  0.4435, -0.0767,\n",
      "         -0.3533,  0.0980],\n",
      "        [-0.1720,  0.4443, -0.2315,  0.1160, -0.1856,  0.0565, -0.1973,  0.0791,\n",
      "          0.2773, -0.0243],\n",
      "        [-0.1439,  0.4288, -0.3859, -0.1990,  0.0632,  0.1391, -0.1428,  0.0078,\n",
      "         -0.1337, -0.1769],\n",
      "        [-0.2131,  0.0140,  0.0706, -0.0075, -0.0397,  0.1329, -0.1679,  0.0194,\n",
      "         -0.4398,  0.0569],\n",
      "        [ 0.2133,  0.1013,  0.0314, -0.0563, -0.0871,  0.2505,  0.0409,  0.0020,\n",
      "         -0.0413,  0.0945],\n",
      "        [ 0.2311,  0.1234,  0.0897,  0.1968, -0.0799, -0.1849,  0.2734,  0.3197,\n",
      "          0.0830, -0.0066],\n",
      "        [ 0.5201, -0.0607,  0.1928,  0.3006,  0.1204, -0.2912,  0.3268,  0.0016,\n",
      "         -0.0564, -0.1824],\n",
      "        [ 0.0280,  0.4382, -0.1383, -0.0982, -0.1471,  0.2322, -0.4044,  0.1558,\n",
      "         -0.0399, -0.4674],\n",
      "        [ 0.3063,  0.0719,  0.1129,  0.1517, -0.2267,  0.2768,  0.0608,  0.3582,\n",
      "         -0.0748, -0.2378],\n",
      "        [ 0.0564,  0.1826, -0.2602,  0.2933, -0.1243, -0.3107, -0.4352,  0.1939,\n",
      "          0.0477, -0.0716],\n",
      "        [-0.2310,  0.2222,  0.2080, -0.0352, -0.0065,  0.0863,  0.1077, -0.2053,\n",
      "         -0.1602,  0.1801],\n",
      "        [ 0.0819, -0.5556, -0.0085,  0.0746, -0.3583,  0.2670, -0.2441,  0.2394,\n",
      "         -0.1149, -0.2979],\n",
      "        [-0.1449, -0.1719, -0.3726, -0.0923, -0.0926,  0.1046,  0.0818,  0.1214,\n",
      "         -0.1682, -0.3135],\n",
      "        [-0.1995, -0.2721, -0.3225,  0.0049,  0.1434,  0.2848, -0.2737,  0.1922,\n",
      "         -0.0158, -0.1929],\n",
      "        [ 0.1084, -0.0802, -0.3227, -0.1302,  0.0687, -0.1062,  0.0357, -0.2201,\n",
      "          0.1921,  0.0450],\n",
      "        [-0.1092, -0.2700,  0.2987,  0.1540, -0.3637,  0.0088, -0.1280, -0.0324,\n",
      "          0.1401, -0.3861],\n",
      "        [-0.4239,  0.4539,  0.3408,  0.2017, -0.0339, -0.0031, -0.2395,  0.0816,\n",
      "          0.1542, -0.0217],\n",
      "        [-0.2921,  0.0465,  0.3302, -0.1674, -0.3790,  0.3047, -0.1901, -0.0136,\n",
      "         -0.2716, -0.1304],\n",
      "        [-0.2884,  0.3131,  0.5315,  0.0255, -0.1056,  0.0375, -0.1440, -0.3253,\n",
      "         -0.2116,  0.2701],\n",
      "        [-0.0104, -0.2997,  0.3807,  0.1534,  0.0742, -0.2597, -0.2011, -0.1005,\n",
      "         -0.1245, -0.3743],\n",
      "        [ 0.1261, -0.1448,  0.2806, -0.5155,  0.1805,  0.0156, -0.3134,  0.2173,\n",
      "          0.2237,  0.1398],\n",
      "        [ 0.4695, -0.1606,  0.1894,  0.1946, -0.2927,  0.0071,  0.0102,  0.1550,\n",
      "         -0.2153, -0.1075],\n",
      "        [ 0.1059,  0.1167, -0.1451, -0.1333,  0.4878, -0.1409,  0.0700, -0.3688,\n",
      "          0.3117,  0.3522],\n",
      "        [ 0.0847, -0.0187,  0.1504, -0.0125, -0.0928, -0.3950,  0.0143, -0.1024,\n",
      "         -0.1770,  0.0205],\n",
      "        [-0.1963,  0.3687, -0.0251,  0.0648, -0.3344,  0.2233,  0.2744,  0.0613,\n",
      "          0.2085,  0.0789],\n",
      "        [ 0.1614,  0.0562, -0.0190,  0.0580, -0.3591,  0.3305, -0.1434,  0.1690,\n",
      "         -0.0329, -0.0854],\n",
      "        [ 0.1547, -0.3160, -0.2270, -0.0680, -0.3361, -0.1890,  0.1814, -0.1090,\n",
      "          0.0111,  0.2295],\n",
      "        [-0.4023,  0.0423,  0.0287,  0.0376, -0.0401, -0.0557,  0.5609, -0.3800,\n",
      "          0.4216,  0.2679],\n",
      "        [-0.2851,  0.3776, -0.2233,  0.2438, -0.0018,  0.2130, -0.2986,  0.0259,\n",
      "         -0.4484, -0.2593],\n",
      "        [-0.2550, -0.0501,  0.1741, -0.0656, -0.3319, -0.3445, -0.6683,  0.3318,\n",
      "         -0.0540, -0.0190],\n",
      "        [-0.2329,  0.2057, -0.0342, -0.4687,  0.0490,  0.4658, -0.0029, -0.0538,\n",
      "         -0.2179,  0.2885],\n",
      "        [-0.2503, -0.3551, -0.3366, -0.1096,  0.1060,  0.1128,  0.1988,  0.0813,\n",
      "         -0.0688,  0.1533],\n",
      "        [ 0.0199,  0.4455, -0.1590, -0.1068,  0.5462, -0.0143,  0.0108, -0.0088,\n",
      "          0.0815,  0.1330],\n",
      "        [ 0.4222,  0.0773, -0.0938, -0.1147,  0.3389, -0.0817, -0.1733, -0.0615,\n",
      "         -0.3951,  0.3481],\n",
      "        [-0.1827, -0.2174, -0.0199, -0.3087, -0.0891, -0.1307,  0.3795,  0.1258,\n",
      "          0.1535, -0.2158],\n",
      "        [-0.0639, -0.0219, -0.2439, -0.0769, -0.1231,  0.2606, -0.3716,  0.0402,\n",
      "          0.2088,  0.2885],\n",
      "        [-0.1367,  0.0517, -0.1623,  0.3268, -0.3267, -0.0166,  0.0723, -0.1707,\n",
      "         -0.2063,  0.0932],\n",
      "        [-0.1885, -0.4865, -0.0430,  0.2018, -0.3036, -0.3421,  0.3242, -0.0789,\n",
      "         -0.4185,  0.1442],\n",
      "        [-0.0542,  0.0688,  0.1073, -0.4641,  0.2427, -0.1601, -0.0757, -0.1037,\n",
      "          0.0394,  0.1643]], device='cuda:0', grad_fn=<SqueezeBackward1>), tensor([-0.3420, -1.9058, -0.1849, -0.5043, -0.9712, -0.2643,  1.2874, -0.0079,\n",
      "         0.9185, -0.4253, -0.0473, -0.3718, -0.7445, -0.3275, -0.1072,  0.7596,\n",
      "         1.1163, -0.5647,  1.0647,  0.6274, -1.0153,  0.1813,  0.8434,  0.7020,\n",
      "        -0.4405, -0.1078,  0.1047,  0.0206,  0.3030,  0.9239, -0.4735,  0.8421,\n",
      "        -0.2688,  0.4160, -0.2248, -0.1184,  0.9958, -0.4064,  0.8943, -0.1391],\n",
      "       device='cuda:0', grad_fn=<SqueezeBackward1>), tensor([[-0.2139, -0.2455, -0.4464, -0.2421, -0.3474,  0.0205, -0.0188,  0.2440,\n",
      "         -0.2909,  0.2632],\n",
      "        [ 0.2097, -0.3361, -0.3070,  0.3036,  0.1644, -0.0645,  0.5876,  0.0802,\n",
      "         -0.2251,  0.2415],\n",
      "        [-0.1626,  0.4234,  0.3145, -0.1765, -0.1521, -0.1818,  0.0129,  0.0570,\n",
      "          0.0551, -0.3406]], device='cuda:0', grad_fn=<SqueezeBackward1>), tensor([0.4379, 0.5643, 1.0923], device='cuda:0', grad_fn=<SqueezeBackward1>)]\n"
     ]
    },
    {
     "ename": "AttributeError",
     "evalue": "'float' object has no attribute 'item'",
     "output_type": "error",
     "traceback": [
      "\u001b[0;31m---------------------------------------------------------------------------\u001b[0m",
      "\u001b[0;31mAttributeError\u001b[0m                            Traceback (most recent call last)",
      "Cell \u001b[0;32mIn[34], line 1\u001b[0m\n\u001b[0;32m----> 1\u001b[0m train_losses, val_losses, W_base, W_stim \u001b[38;5;241m=\u001b[39m \u001b[43mtrain_hypernet\u001b[49m\u001b[43m(\u001b[49m\n\u001b[1;32m      2\u001b[0m \u001b[43m        \u001b[49m\u001b[43mmodel\u001b[49m\u001b[43m,\u001b[49m\u001b[43m \u001b[49m\u001b[43mhnet\u001b[49m\u001b[43m,\u001b[49m\u001b[43m \u001b[49m\u001b[43my_train_base\u001b[49m\u001b[43m,\u001b[49m\u001b[43m \u001b[49m\u001b[43mx_train_base\u001b[49m\u001b[43m,\u001b[49m\n\u001b[1;32m      3\u001b[0m \u001b[43m                \u001b[49m\u001b[43my_train_stim\u001b[49m\u001b[43m,\u001b[49m\u001b[43m  \u001b[49m\u001b[43mx_train_stim\u001b[49m\u001b[43m,\u001b[49m\n\u001b[1;32m      4\u001b[0m \u001b[43m                \u001b[49m\u001b[43my_val_base\u001b[49m\u001b[43m,\u001b[49m\u001b[43m  \u001b[49m\u001b[43mx_val_base\u001b[49m\u001b[43m,\u001b[49m\n\u001b[1;32m      5\u001b[0m \u001b[43m                \u001b[49m\u001b[43my_val_stim\u001b[49m\u001b[43m,\u001b[49m\u001b[43m    \u001b[49m\u001b[43mx_val_stim\u001b[49m\u001b[43m,\u001b[49m\n\u001b[1;32m      6\u001b[0m \u001b[43m                \u001b[49m\u001b[43mlr\u001b[49m\u001b[38;5;241;43m=\u001b[39;49m\u001b[38;5;241;43m0.0001\u001b[39;49m\u001b[43m,\u001b[49m\n\u001b[1;32m      7\u001b[0m \u001b[43m                \u001b[49m\u001b[43mlr_step_size\u001b[49m\u001b[38;5;241;43m=\u001b[39;49m\u001b[38;5;241;43m10\u001b[39;49m\u001b[43m,\u001b[49m\n\u001b[1;32m      8\u001b[0m \u001b[43m                \u001b[49m\u001b[43mlr_gamma\u001b[49m\u001b[38;5;241;43m=\u001b[39;49m\u001b[38;5;241;43m0.9\u001b[39;49m\u001b[43m,\u001b[49m\n\u001b[1;32m      9\u001b[0m \u001b[43m                \u001b[49m\u001b[43msequence_length_LSTM\u001b[49m\u001b[38;5;241;43m=\u001b[39;49m\u001b[38;5;241;43m10\u001b[39;49m\u001b[43m,\u001b[49m\n\u001b[1;32m     10\u001b[0m \u001b[43m                \u001b[49m\u001b[43mbatch_size_train\u001b[49m\u001b[43m \u001b[49m\u001b[38;5;241;43m=\u001b[39;49m\u001b[43m \u001b[49m\u001b[43mbatch_size_train\u001b[49m\u001b[43m,\u001b[49m\n\u001b[1;32m     11\u001b[0m \u001b[43m                \u001b[49m\u001b[43mbatch_size_val\u001b[49m\u001b[43m \u001b[49m\u001b[38;5;241;43m=\u001b[39;49m\u001b[43m \u001b[49m\u001b[43mbatch_size_val\u001b[49m\u001b[43m,\u001b[49m\n\u001b[1;32m     12\u001b[0m \u001b[43m                \u001b[49m\u001b[43mnum_epochs\u001b[49m\u001b[38;5;241;43m=\u001b[39;49m\u001b[38;5;241;43m1000\u001b[39;49m\u001b[43m,\u001b[49m\u001b[43m \u001b[49m\n\u001b[1;32m     13\u001b[0m \u001b[43m                \u001b[49m\u001b[43mregularizer\u001b[49m\u001b[43m \u001b[49m\u001b[38;5;241;43m=\u001b[39;49m\u001b[43m \u001b[49m\u001b[43mreg_hnet\u001b[49m\u001b[43m,\u001b[49m\u001b[43m \u001b[49m\n\u001b[1;32m     14\u001b[0m \u001b[43m                \u001b[49m\u001b[43ml1_ratio\u001b[49m\u001b[43m \u001b[49m\u001b[38;5;241;43m=\u001b[39;49m\u001b[43m \u001b[49m\u001b[38;5;241;43m0.5\u001b[39;49m\u001b[43m,\u001b[49m\n\u001b[1;32m     15\u001b[0m \u001b[43m                \u001b[49m\u001b[43malpha\u001b[49m\u001b[43m \u001b[49m\u001b[38;5;241;43m=\u001b[39;49m\u001b[43m \u001b[49m\u001b[38;5;241;43m1e-15\u001b[39;49m\u001b[43m,\u001b[49m\u001b[43m   \u001b[49m\u001b[43m)\u001b[49m\n",
      "File \u001b[0;32m~/CL_UpperLimb_Control/src/trainer.py:470\u001b[0m, in \u001b[0;36mtrain_hypernet\u001b[0;34m(model, hnet, y_train_base, x_train_base, y_train_stim, x_train_stim, y_val_base, x_val_base, y_val_stim, x_val_stim, lr, lr_step_size, lr_gamma, sequence_length_LSTM, batch_size_train, batch_size_val, num_epochs, delta, regularizer, l1_ratio, alpha, early_stop)\u001b[0m\n\u001b[1;32m    468\u001b[0m \u001b[38;5;66;03m# Add regularization to the loss in the training phase\u001b[39;00m\n\u001b[1;32m    469\u001b[0m \u001b[38;5;28;01mif\u001b[39;00m regularizer \u001b[38;5;129;01mis\u001b[39;00m \u001b[38;5;129;01mnot\u001b[39;00m \u001b[38;5;28;01mNone\u001b[39;00m:\n\u001b[0;32m--> 470\u001b[0m     loss_t \u001b[38;5;241m+\u001b[39m\u001b[38;5;241m=\u001b[39m \u001b[43mregularizer\u001b[49m\u001b[43m(\u001b[49m\u001b[43mmodel\u001b[49m\u001b[43m,\u001b[49m\u001b[43m \u001b[49m\u001b[43ml1_ratio\u001b[49m\u001b[43m,\u001b[49m\u001b[43m \u001b[49m\u001b[43malpha\u001b[49m\u001b[43m)\u001b[49m \n\u001b[1;32m    474\u001b[0m \u001b[38;5;66;03m# Compute gradients and perform an optimization step\u001b[39;00m\n\u001b[1;32m    475\u001b[0m loss_t\u001b[38;5;241m.\u001b[39mbackward()\n",
      "File \u001b[0;32m~/CL_UpperLimb_Control/src/trainer.py:95\u001b[0m, in \u001b[0;36mreg_hnet\u001b[0;34m(model, alpha, l1_ratio)\u001b[0m\n\u001b[1;32m     91\u001b[0m reg \u001b[38;5;241m=\u001b[39m l1_ratio \u001b[38;5;241m*\u001b[39m l1_loss \u001b[38;5;241m+\u001b[39m (\u001b[38;5;241m1\u001b[39m \u001b[38;5;241m-\u001b[39m l1_ratio) \u001b[38;5;241m*\u001b[39m l2_loss\n\u001b[1;32m     93\u001b[0m reg \u001b[38;5;241m=\u001b[39m alpha \u001b[38;5;241m*\u001b[39m reg\n\u001b[0;32m---> 95\u001b[0m \u001b[38;5;28;01mreturn\u001b[39;00m \u001b[43mreg\u001b[49m\u001b[38;5;241;43m.\u001b[39;49m\u001b[43mitem\u001b[49m()\n",
      "\u001b[0;31mAttributeError\u001b[0m: 'float' object has no attribute 'item'"
     ]
    }
   ],
   "source": [
    "train_losses, val_losses, W_base, W_stim = train_hypernet(\n",
    "        model, hnet, y_train_base, x_train_base,\n",
    "                y_train_stim,  x_train_stim,\n",
    "                y_val_base,  x_val_base,\n",
    "                y_val_stim,    x_val_stim,\n",
    "                lr=0.0001,\n",
    "                lr_step_size=10,\n",
    "                lr_gamma=0.9,\n",
    "                sequence_length_LSTM=10,\n",
    "                batch_size_train = batch_size_train,\n",
    "                batch_size_val = batch_size_val,\n",
    "                num_epochs=1000, \n",
    "                regularizer = reg_hnet, \n",
    "                l1_ratio = 0.5,\n",
    "                alpha = 1e-15,   )\n",
    "\n"
   ]
  },
  {
   "cell_type": "code",
   "execution_count": null,
   "metadata": {},
   "outputs": [
    {
     "data": {
      "image/png": "[encoded data removed]",
      "text/plain": [
       "<Figure size 1000x600 with 1 Axes>"
      ]
     },
     "metadata": {},
     "output_type": "display_data"
    }
   ],
   "source": [
    "# Assuming you have already trained your model and collected the losses\n",
    "# train_losses and val_losses are numpy arrays containing losses for each epoch\n",
    "plot_losses(train_losses, val_losses)"
   ]
  },
  {
   "cell_type": "code",
   "execution_count": null,
   "metadata": {},
   "outputs": [],
   "source": [
    "def reshape_to_eval(x,y, model):\n",
    "    x = to_t_eval(x) \n",
    "    y = to_t_eval(y)\n",
    "    y_pred = model(x)\n",
    "    y_array = y.detach().cpu().numpy()\n",
    "    y_pred_array = y_pred.detach().cpu().numpy()\n",
    "\n",
    "    # Reshape tensors to 2D arrays (flatten the batch and sequence dimensions)\n",
    "    y_pred_2D = y_pred_array.reshape(-1, y_pred_array.shape[-1])\n",
    "    y_true_2D = y_array.reshape(-1, y_array.shape[-1])\n",
    "    \n",
    "    return y_true_2D, y_pred_2D"
   ]
  },
  {
   "cell_type": "code",
   "execution_count": null,
   "metadata": {},
   "outputs": [],
   "source": [
    "def calc_explained_variance(x, y, mnet, mnet_weights):\n",
    "    \"\"\"Compute the explained variance for a given dataset\"\"\"\n",
    "    with torch.no_grad():\n",
    "        # Process complete dataset as one batch.\n",
    "        # Convert X_train and y_train to PyTorch tensors\n",
    "        inputs = torch.tensor(x, device=device, dtype=torch.float32)\n",
    "        targets = torch.tensor(y, device=device, dtype=torch.float32)\n",
    "\n",
    "        # Forward pass to get predictions\n",
    "        predictions = mnet(inputs, weights=mnet_weights)\n",
    "\n",
    "        y_array = targets.detach().cpu().numpy()\n",
    "        y_pred_array = predictions.detach().cpu().numpy()\n",
    "     \n",
    "        # Reshape tensors to 2D arrays (flatten the batch and sequence dimensions)\n",
    "        y_pred_2D = y_pred_array.reshape(-1, y_pred_array.shape[-1])\n",
    "        y_true_2D = y_array.reshape(-1, y_array.shape[-1])\n",
    "\n",
    "        # Compute explained variance\n",
    "        explained_var = explained_variance_score(y_true_2D, y_pred_2D)\n",
    "\n",
    "    return explained_var"
   ]
  },
  {
   "cell_type": "code",
   "execution_count": null,
   "metadata": {},
   "outputs": [],
   "source": [
    "subsets = ['Training', 'Validation', 'Test']\n",
    "\n",
    "data_base = [[x_train_base, y_train_base],\n",
    "             [x_val_base, y_val_base],\n",
    "             [x_test_base, y_test_base]]\n",
    "\n",
    "data_stim = [[x_train_stim, y_train_stim],\n",
    "             [x_val_stim, y_val_stim],\n",
    "             [x_test_stim, y_test_stim]]"
   ]
  },
  {
   "cell_type": "code",
   "execution_count": null,
   "metadata": {},
   "outputs": [
    {
     "name": "stdout",
     "output_type": "stream",
     "text": [
      "Explained variance for  Training  is :  0.8958826661109924\n",
      "Explained variance for  Validation  is :  0.12492316961288452\n",
      "Explained variance for  Test  is :  0.23596002658208212\n"
     ]
    }
   ],
   "source": [
    "for index, [x,y] in enumerate(data_base):\n",
    "    ev = calc_explained_variance(x, y, model, W_base)\n",
    "    print('Explained variance for ', subsets[index], ' is : ', ev)\n"
   ]
  },
  {
   "cell_type": "code",
   "execution_count": null,
   "metadata": {},
   "outputs": [
    {
     "name": "stdout",
     "output_type": "stream",
     "text": [
      "Explained variance for  Training  is :  0.8135822415351868\n",
      "Explained variance for  Validation  is :  0.40277498960494995\n",
      "Explained variance for  Test  is :  0.08271652460098267\n"
     ]
    }
   ],
   "source": [
    "for index, [x,y] in enumerate(data_stim):\n",
    "    ev = calc_explained_variance(x, y, model, W_stim)\n",
    "    print('Explained variance for ', subsets[index], ' is : ', ev)"
   ]
  },
  {
   "cell_type": "code",
   "execution_count": null,
   "metadata": {},
   "outputs": [],
   "source": []
  },
  {
   "cell_type": "code",
   "execution_count": null,
   "metadata": {},
   "outputs": [],
   "source": []
  }
 ],
 "metadata": {
  "kernelspec": {
   "display_name": "sinthlab",
   "language": "python",
   "name": "python3"
  },
  "language_info": {
   "codemirror_mode": {
    "name": "ipython",
    "version": 3
   },
   "file_extension": ".py",
   "mimetype": "text/x-python",
   "name": "python",
   "nbconvert_exporter": "python",
   "pygments_lexer": "ipython3",
   "version": "3.8.19"
  }
 },
 "nbformat": 4,
 "nbformat_minor": 2
}
